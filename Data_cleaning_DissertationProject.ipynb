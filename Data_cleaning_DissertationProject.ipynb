{
  "nbformat": 4,
  "nbformat_minor": 0,
  "metadata": {
    "colab": {
      "name": "Data_cleaning_DissertationProject.ipynb",
      "provenance": [],
      "collapsed_sections": [],
      "authorship_tag": "ABX9TyMHhRGgsS4Bg1TvFm1z5Bgc",
      "include_colab_link": true
    },
    "kernelspec": {
      "name": "python3",
      "display_name": "Python 3"
    },
    "language_info": {
      "name": "python"
    }
  },
  "cells": [
    {
      "cell_type": "markdown",
      "metadata": {
        "id": "view-in-github",
        "colab_type": "text"
      },
      "source": [
        "<a href=\"https://colab.research.google.com/github/JamesAttwood1910/Diplomado_USACH/blob/main/Data_cleaning_DissertationProject.ipynb\" target=\"_parent\"><img src=\"https://colab.research.google.com/assets/colab-badge.svg\" alt=\"Open In Colab\"/></a>"
      ]
    },
    {
      "cell_type": "code",
      "metadata": {
        "id": "6LHM7zgZhOFv"
      },
      "source": [
        "# Data preprocessing"
      ],
      "execution_count": null,
      "outputs": []
    },
    {
      "cell_type": "code",
      "metadata": {
        "id": "uivJInq5hQQ5"
      },
      "source": [
        "# Libraries\n",
        "\n",
        "import pandas as pd\n",
        "import numpy as np"
      ],
      "execution_count": 1,
      "outputs": []
    },
    {
      "cell_type": "code",
      "metadata": {
        "colab": {
          "base_uri": "https://localhost:8080/"
        },
        "id": "7duL8IxjhQOa",
        "outputId": "f223c749-bc8a-45d6-ea30-a6f208a8d41d"
      },
      "source": [
        "# Connect Google drive\n",
        "\n",
        "from google.colab import drive\n",
        "drive.mount('/content/drive/')"
      ],
      "execution_count": 2,
      "outputs": [
        {
          "output_type": "stream",
          "name": "stdout",
          "text": [
            "Mounted at /content/drive/\n"
          ]
        }
      ]
    },
    {
      "cell_type": "code",
      "metadata": {
        "id": "GspWesVthQMB"
      },
      "source": [
        "# Load data\n",
        "\n",
        "df = pd.read_csv('/content/drive/MyDrive/Javi/DataNuevo_Nombres.csv')"
      ],
      "execution_count": 5,
      "outputs": []
    },
    {
      "cell_type": "code",
      "metadata": {
        "id": "cOaQrc7nhQJp"
      },
      "source": [
        "# Delete personal information variables\n",
        "\n",
        "df.drop(['Unnamed: 0', 'Marca temporal', 'Nombre de usuario', 'Acepto'], axis =1, inplace = True)"
      ],
      "execution_count": null,
      "outputs": []
    },
    {
      "cell_type": "code",
      "metadata": {
        "id": "ki2DuPA3hQDK"
      },
      "source": [
        "df.drop(index = 88, inplace = True)"
      ],
      "execution_count": 10,
      "outputs": []
    },
    {
      "cell_type": "code",
      "metadata": {
        "colab": {
          "base_uri": "https://localhost:8080/",
          "height": 597
        },
        "id": "VDEAYi5-hP96",
        "outputId": "af40430a-879c-4481-f0a2-d90acc8b40ae"
      },
      "source": [
        "# Convert Sanitary measure test variables from categoric to numeric values\n",
        "\n",
        "df.loc[:,df.columns.str.contains(\"MS\")]"
      ],
      "execution_count": 11,
      "outputs": [
        {
          "output_type": "execute_result",
          "data": {
            "text/html": [
              "<div>\n",
              "<style scoped>\n",
              "    .dataframe tbody tr th:only-of-type {\n",
              "        vertical-align: middle;\n",
              "    }\n",
              "\n",
              "    .dataframe tbody tr th {\n",
              "        vertical-align: top;\n",
              "    }\n",
              "\n",
              "    .dataframe thead th {\n",
              "        text-align: right;\n",
              "    }\n",
              "</style>\n",
              "<table border=\"1\" class=\"dataframe\">\n",
              "  <thead>\n",
              "    <tr style=\"text-align: right;\">\n",
              "      <th></th>\n",
              "      <th>MS1</th>\n",
              "      <th>MS2</th>\n",
              "      <th>MS3</th>\n",
              "      <th>MS4</th>\n",
              "      <th>MS5</th>\n",
              "      <th>MS6</th>\n",
              "      <th>MS7</th>\n",
              "      <th>MS8</th>\n",
              "      <th>MS9</th>\n",
              "      <th>MS10</th>\n",
              "      <th>MS11</th>\n",
              "      <th>MS12</th>\n",
              "    </tr>\n",
              "  </thead>\n",
              "  <tbody>\n",
              "    <tr>\n",
              "      <th>0</th>\n",
              "      <td>Siempre</td>\n",
              "      <td>Casi siempre</td>\n",
              "      <td>Casi siempre</td>\n",
              "      <td>Siempre</td>\n",
              "      <td>Siempre</td>\n",
              "      <td>Siempre</td>\n",
              "      <td>Siempre</td>\n",
              "      <td>Siempre</td>\n",
              "      <td>Siempre</td>\n",
              "      <td>Siempre</td>\n",
              "      <td>Siempre</td>\n",
              "      <td>Siempre</td>\n",
              "    </tr>\n",
              "    <tr>\n",
              "      <th>1</th>\n",
              "      <td>Casi siempre</td>\n",
              "      <td>Siempre</td>\n",
              "      <td>Casi nunca</td>\n",
              "      <td>Casi nunca</td>\n",
              "      <td>Nunca</td>\n",
              "      <td>Nunca</td>\n",
              "      <td>Casi nunca</td>\n",
              "      <td>Siempre</td>\n",
              "      <td>Casi nunca</td>\n",
              "      <td>Siempre</td>\n",
              "      <td>Nunca</td>\n",
              "      <td>A veces</td>\n",
              "    </tr>\n",
              "    <tr>\n",
              "      <th>2</th>\n",
              "      <td>Casi siempre</td>\n",
              "      <td>Siempre</td>\n",
              "      <td>Casi siempre</td>\n",
              "      <td>A veces</td>\n",
              "      <td>A veces</td>\n",
              "      <td>Nunca</td>\n",
              "      <td>Casi nunca</td>\n",
              "      <td>Siempre</td>\n",
              "      <td>Casi siempre</td>\n",
              "      <td>Casi siempre</td>\n",
              "      <td>Casi siempre</td>\n",
              "      <td>Casi nunca</td>\n",
              "    </tr>\n",
              "    <tr>\n",
              "      <th>3</th>\n",
              "      <td>Siempre</td>\n",
              "      <td>Siempre</td>\n",
              "      <td>Siempre</td>\n",
              "      <td>Casi siempre</td>\n",
              "      <td>Siempre</td>\n",
              "      <td>Siempre</td>\n",
              "      <td>Siempre</td>\n",
              "      <td>Siempre</td>\n",
              "      <td>Siempre</td>\n",
              "      <td>Siempre</td>\n",
              "      <td>Siempre</td>\n",
              "      <td>A veces</td>\n",
              "    </tr>\n",
              "    <tr>\n",
              "      <th>4</th>\n",
              "      <td>Siempre</td>\n",
              "      <td>Siempre</td>\n",
              "      <td>Casi siempre</td>\n",
              "      <td>Siempre</td>\n",
              "      <td>Casi siempre</td>\n",
              "      <td>Siempre</td>\n",
              "      <td>Casi siempre</td>\n",
              "      <td>Siempre</td>\n",
              "      <td>A veces</td>\n",
              "      <td>A veces</td>\n",
              "      <td>Casi siempre</td>\n",
              "      <td>Casi siempre</td>\n",
              "    </tr>\n",
              "    <tr>\n",
              "      <th>...</th>\n",
              "      <td>...</td>\n",
              "      <td>...</td>\n",
              "      <td>...</td>\n",
              "      <td>...</td>\n",
              "      <td>...</td>\n",
              "      <td>...</td>\n",
              "      <td>...</td>\n",
              "      <td>...</td>\n",
              "      <td>...</td>\n",
              "      <td>...</td>\n",
              "      <td>...</td>\n",
              "      <td>...</td>\n",
              "    </tr>\n",
              "    <tr>\n",
              "      <th>177</th>\n",
              "      <td>Siempre</td>\n",
              "      <td>Siempre</td>\n",
              "      <td>Casi siempre</td>\n",
              "      <td>Casi siempre</td>\n",
              "      <td>Casi siempre</td>\n",
              "      <td>Siempre</td>\n",
              "      <td>Siempre</td>\n",
              "      <td>Siempre</td>\n",
              "      <td>Siempre</td>\n",
              "      <td>Casi siempre</td>\n",
              "      <td>A veces</td>\n",
              "      <td>Casi siempre</td>\n",
              "    </tr>\n",
              "    <tr>\n",
              "      <th>178</th>\n",
              "      <td>Siempre</td>\n",
              "      <td>Siempre</td>\n",
              "      <td>Casi siempre</td>\n",
              "      <td>Casi siempre</td>\n",
              "      <td>Siempre</td>\n",
              "      <td>Siempre</td>\n",
              "      <td>Siempre</td>\n",
              "      <td>Casi siempre</td>\n",
              "      <td>Siempre</td>\n",
              "      <td>Siempre</td>\n",
              "      <td>Casi siempre</td>\n",
              "      <td>Casi siempre</td>\n",
              "    </tr>\n",
              "    <tr>\n",
              "      <th>179</th>\n",
              "      <td>Casi siempre</td>\n",
              "      <td>Siempre</td>\n",
              "      <td>Siempre</td>\n",
              "      <td>Casi siempre</td>\n",
              "      <td>Casi siempre</td>\n",
              "      <td>Siempre</td>\n",
              "      <td>Casi siempre</td>\n",
              "      <td>Siempre</td>\n",
              "      <td>Siempre</td>\n",
              "      <td>Siempre</td>\n",
              "      <td>Siempre</td>\n",
              "      <td>Siempre</td>\n",
              "    </tr>\n",
              "    <tr>\n",
              "      <th>180</th>\n",
              "      <td>Casi siempre</td>\n",
              "      <td>Siempre</td>\n",
              "      <td>A veces</td>\n",
              "      <td>Siempre</td>\n",
              "      <td>A veces</td>\n",
              "      <td>A veces</td>\n",
              "      <td>Siempre</td>\n",
              "      <td>A veces</td>\n",
              "      <td>Siempre</td>\n",
              "      <td>Casi siempre</td>\n",
              "      <td>A veces</td>\n",
              "      <td>Casi nunca</td>\n",
              "    </tr>\n",
              "    <tr>\n",
              "      <th>181</th>\n",
              "      <td>Siempre</td>\n",
              "      <td>Siempre</td>\n",
              "      <td>Casi nunca</td>\n",
              "      <td>Siempre</td>\n",
              "      <td>Siempre</td>\n",
              "      <td>Casi siempre</td>\n",
              "      <td>Casi siempre</td>\n",
              "      <td>Siempre</td>\n",
              "      <td>Siempre</td>\n",
              "      <td>Siempre</td>\n",
              "      <td>Siempre</td>\n",
              "      <td>Siempre</td>\n",
              "    </tr>\n",
              "  </tbody>\n",
              "</table>\n",
              "<p>181 rows × 12 columns</p>\n",
              "</div>"
            ],
            "text/plain": [
              "              MS1           MS2  ...          MS11          MS12\n",
              "0         Siempre  Casi siempre  ...       Siempre       Siempre\n",
              "1    Casi siempre       Siempre  ...         Nunca       A veces\n",
              "2    Casi siempre       Siempre  ...  Casi siempre    Casi nunca\n",
              "3         Siempre       Siempre  ...       Siempre       A veces\n",
              "4         Siempre       Siempre  ...  Casi siempre  Casi siempre\n",
              "..            ...           ...  ...           ...           ...\n",
              "177       Siempre       Siempre  ...       A veces  Casi siempre\n",
              "178       Siempre       Siempre  ...  Casi siempre  Casi siempre\n",
              "179  Casi siempre       Siempre  ...       Siempre       Siempre\n",
              "180  Casi siempre       Siempre  ...       A veces    Casi nunca\n",
              "181       Siempre       Siempre  ...       Siempre       Siempre\n",
              "\n",
              "[181 rows x 12 columns]"
            ]
          },
          "metadata": {},
          "execution_count": 11
        }
      ]
    },
    {
      "cell_type": "code",
      "metadata": {
        "id": "W-38l09fhP7b"
      },
      "source": [
        "MS_dict = {'Nunca' : 0,\n",
        "               'Casi nunca' : 1,\n",
        "          'A veces': 2,\n",
        "          'Casi siempre': 3,\n",
        "          'Siempre': 4}"
      ],
      "execution_count": 12,
      "outputs": []
    },
    {
      "cell_type": "code",
      "metadata": {
        "id": "5YV00Q46EIPy"
      },
      "source": [
        "def Nmap(columna): \n",
        "  df[columna] = df[columna].map(MS_dict)\n",
        "  return"
      ],
      "execution_count": 18,
      "outputs": []
    },
    {
      "cell_type": "code",
      "metadata": {
        "id": "XypwsBi4i9cC"
      },
      "source": [
        "MS = df.loc[:,df.columns.str.contains(\"MS\")]"
      ],
      "execution_count": 16,
      "outputs": []
    },
    {
      "cell_type": "code",
      "metadata": {
        "id": "byWtwuLwEIF4"
      },
      "source": [
        "for x in MS.columns:\n",
        "  Nmap(x)"
      ],
      "execution_count": 19,
      "outputs": []
    },
    {
      "cell_type": "code",
      "metadata": {
        "colab": {
          "base_uri": "https://localhost:8080/"
        },
        "id": "2LJpWNa4GPHN",
        "outputId": "d7dc0ea0-f1a5-4915-98d0-500d6fae10b5"
      },
      "source": [
        "df['MS4']"
      ],
      "execution_count": 20,
      "outputs": [
        {
          "output_type": "execute_result",
          "data": {
            "text/plain": [
              "0      4\n",
              "1      1\n",
              "2      2\n",
              "3      3\n",
              "4      4\n",
              "      ..\n",
              "177    3\n",
              "178    3\n",
              "179    3\n",
              "180    4\n",
              "181    4\n",
              "Name: MS4, Length: 181, dtype: int64"
            ]
          },
          "metadata": {},
          "execution_count": 20
        }
      ]
    },
    {
      "cell_type": "code",
      "metadata": {
        "id": "DTnEXFhLjFBD"
      },
      "source": [
        "# Convert Barratt Test variables from cateogrical to numerical"
      ],
      "execution_count": null,
      "outputs": []
    },
    {
      "cell_type": "code",
      "metadata": {
        "id": "NefW9mMSGn4r"
      },
      "source": [
        "B_dict = {'Raramente o Nunca' : 0,\n",
        "               'Ocasionalmente' : 1,\n",
        "          'A menudo': 3,\n",
        "          'Siempre o casi siempre': 4}"
      ],
      "execution_count": 21,
      "outputs": []
    },
    {
      "cell_type": "code",
      "metadata": {
        "id": "pHJhGRDGGn2V"
      },
      "source": [
        "Barratt = df.loc[:,df.columns.str.contains(\"B\")]"
      ],
      "execution_count": 22,
      "outputs": []
    },
    {
      "cell_type": "code",
      "metadata": {
        "id": "ur7qfHKHGnvB"
      },
      "source": [
        "def Bmap(columna):\n",
        "  df[columna] = df[columna].map(B_dict)\n",
        "  return\n",
        "  "
      ],
      "execution_count": 23,
      "outputs": []
    },
    {
      "cell_type": "code",
      "metadata": {
        "id": "PhiQbaAaHMu7"
      },
      "source": [
        "for x in Barratt.columns:\n",
        "  Bmap(x)"
      ],
      "execution_count": 24,
      "outputs": []
    },
    {
      "cell_type": "code",
      "metadata": {
        "colab": {
          "base_uri": "https://localhost:8080/"
        },
        "id": "8XTjQkSlecNj",
        "outputId": "80271059-9425-4742-9e35-bdcf9d404632"
      },
      "source": [
        "df['B2']"
      ],
      "execution_count": 25,
      "outputs": [
        {
          "output_type": "execute_result",
          "data": {
            "text/plain": [
              "0      0\n",
              "1      4\n",
              "2      4\n",
              "3      3\n",
              "4      1\n",
              "      ..\n",
              "177    3\n",
              "178    0\n",
              "179    0\n",
              "180    3\n",
              "181    0\n",
              "Name: B2, Length: 181, dtype: int64"
            ]
          },
          "metadata": {},
          "execution_count": 25
        }
      ]
    },
    {
      "cell_type": "code",
      "metadata": {
        "id": "p_xLwfImjMWJ"
      },
      "source": [
        "# Convert sex to numeric"
      ],
      "execution_count": null,
      "outputs": []
    },
    {
      "cell_type": "code",
      "metadata": {
        "id": "iCTeTGR8JWiv"
      },
      "source": [
        "df['Sexo:'] = np.where(df['Sexo:'] == \"Mujer\", 0, 1)"
      ],
      "execution_count": 26,
      "outputs": []
    },
    {
      "cell_type": "code",
      "metadata": {
        "colab": {
          "base_uri": "https://localhost:8080/"
        },
        "id": "M38NP9dsJf8T",
        "outputId": "c7e05f80-12f3-4890-fe56-02b1e10d0560"
      },
      "source": [
        "df['Sexo:'].value_counts()"
      ],
      "execution_count": 27,
      "outputs": [
        {
          "output_type": "execute_result",
          "data": {
            "text/plain": [
              "0    126\n",
              "1     55\n",
              "Name: Sexo:, dtype: int64"
            ]
          },
          "metadata": {},
          "execution_count": 27
        }
      ]
    },
    {
      "cell_type": "code",
      "metadata": {
        "id": "4lmH27pwjl_0"
      },
      "source": [
        "# Convert Income (IPC) to numeric"
      ],
      "execution_count": null,
      "outputs": []
    },
    {
      "cell_type": "code",
      "metadata": {
        "colab": {
          "base_uri": "https://localhost:8080/"
        },
        "id": "AppsTpBiJi-L",
        "outputId": "ba36a3fc-123c-412b-f9f9-df3385e4aba1"
      },
      "source": [
        "df['IPC'].value_counts()"
      ],
      "execution_count": 28,
      "outputs": [
        {
          "output_type": "execute_result",
          "data": {
            "text/plain": [
              "mayor a $770.000             45\n",
              "entre $480.000 - $770.000    33\n",
              "entre $350.000 - $480.000    29\n",
              "entre $280.000 - $350.000    20\n",
              "entre $220.000 - $280.000    15\n",
              "entre $70.000 - $110.000     12\n",
              "entre $180.000 - $220.000    11\n",
              "entre $110.000 - $150.000     9\n",
              "entre $150.000 - $180.000     4\n",
              "entre $0 - $70.000            3\n",
              "Name: IPC, dtype: int64"
            ]
          },
          "metadata": {},
          "execution_count": 28
        }
      ]
    },
    {
      "cell_type": "code",
      "metadata": {
        "colab": {
          "base_uri": "https://localhost:8080/"
        },
        "id": "pNiE9Ky7JwN4",
        "outputId": "a4d18cad-6f47-40e3-bdbc-7bec51bb6dbe"
      },
      "source": [
        "df['IPC'].unique()"
      ],
      "execution_count": 29,
      "outputs": [
        {
          "output_type": "execute_result",
          "data": {
            "text/plain": [
              "array(['mayor a $770.000', 'entre $350.000 - $480.000',\n",
              "       'entre $110.000 - $150.000', 'entre $280.000 - $350.000',\n",
              "       'entre $180.000 - $220.000', 'entre $480.000 - $770.000',\n",
              "       'entre $70.000 - $110.000', 'entre $220.000 - $280.000',\n",
              "       'entre $150.000 - $180.000', 'entre $0 - $70.000'], dtype=object)"
            ]
          },
          "metadata": {},
          "execution_count": 29
        }
      ]
    },
    {
      "cell_type": "code",
      "metadata": {
        "id": "4p67WuImJ2p9"
      },
      "source": [
        "Ingreso_dict = {'entre $0 - $70.000': 1,\n",
        "                'entre $70.000 - $110.000':2,\n",
        "                'entre $110.000 - $150.000': 3,\n",
        "                'entre $150.000 - $180.000':4,\n",
        "                'entre $180.000 - $220.000':5,\n",
        "                'entre $220.000 - $280.000':6,\n",
        "                'entre $280.000 - $350.000':7,\n",
        "                'entre $350.000 - $480.000':8,\n",
        "                'entre $480.000 - $770.000':9,\n",
        "                'mayor a $770.000':10}"
      ],
      "execution_count": 30,
      "outputs": []
    },
    {
      "cell_type": "code",
      "metadata": {
        "id": "TWtrvDAvJvjb"
      },
      "source": [
        "df['IPC'] = df['IPC'].map(Ingreso_dict)"
      ],
      "execution_count": 31,
      "outputs": []
    },
    {
      "cell_type": "code",
      "metadata": {
        "colab": {
          "base_uri": "https://localhost:8080/"
        },
        "id": "RvZCAvkQcifR",
        "outputId": "b4cf432b-78a1-4bd9-ad21-2964bf4cbf1c"
      },
      "source": [
        "df['IPC'].value_counts()"
      ],
      "execution_count": 32,
      "outputs": [
        {
          "output_type": "execute_result",
          "data": {
            "text/plain": [
              "10    45\n",
              "9     33\n",
              "8     29\n",
              "7     20\n",
              "6     15\n",
              "2     12\n",
              "5     11\n",
              "3      9\n",
              "4      4\n",
              "1      3\n",
              "Name: IPC, dtype: int64"
            ]
          },
          "metadata": {},
          "execution_count": 32
        }
      ]
    },
    {
      "cell_type": "code",
      "metadata": {
        "id": "6VEfJ516jl6q"
      },
      "source": [
        "# Educational level to numeric"
      ],
      "execution_count": null,
      "outputs": []
    },
    {
      "cell_type": "code",
      "metadata": {
        "colab": {
          "base_uri": "https://localhost:8080/"
        },
        "id": "trCk7kywCwgo",
        "outputId": "8024e86f-1c2c-414e-f2b6-ea238c246d50"
      },
      "source": [
        "df['Nivel Educacional'].unique()"
      ],
      "execution_count": 33,
      "outputs": [
        {
          "output_type": "execute_result",
          "data": {
            "text/plain": [
              "array(['Universitaria completa',\n",
              "       'Técnica o Superior en curso o incompleta',\n",
              "       'Universitaria en curso o incompleta',\n",
              "       'Post Títulos en curso o incompletos',\n",
              "       'Educación Media Técnico Profesional Completa',\n",
              "       'Técnica o Superior completa',\n",
              "       'Educación Media Científico Humanista completa',\n",
              "       'Post Títulos completo', 'Educación Básica Completa'], dtype=object)"
            ]
          },
          "metadata": {},
          "execution_count": 33
        }
      ]
    },
    {
      "cell_type": "code",
      "metadata": {
        "id": "bVViz2HvCweU"
      },
      "source": [
        "Educ_dict = {'Educación Básica Completa':1,\n",
        "             'Educación Media Técnico Profesional Completa':2,\n",
        "             'Educación Media Científico Humanista completa':3,\n",
        "             'Técnica o Superior en curso o incompleta':4,\n",
        "             'Técnica o Superior completa': 5,\n",
        "             'Universitaria en curso o incompleta':6,\n",
        "             'Universitaria completa':7,\n",
        "             'Post Títulos en curso o incompletos':8,\n",
        "             'Post Títulos completo':9\n",
        "             }"
      ],
      "execution_count": 34,
      "outputs": []
    },
    {
      "cell_type": "code",
      "metadata": {
        "id": "6CmH-yDOCwcH"
      },
      "source": [
        "df['Nivel Educacional'] = df['Nivel Educacional'].map(Educ_dict)"
      ],
      "execution_count": 35,
      "outputs": []
    },
    {
      "cell_type": "code",
      "metadata": {
        "colab": {
          "base_uri": "https://localhost:8080/"
        },
        "id": "7vxWIOHqe1vN",
        "outputId": "63c11bd8-2d1d-4bef-f605-94409663818a"
      },
      "source": [
        "df['Nivel Educacional'].value_counts()"
      ],
      "execution_count": 36,
      "outputs": [
        {
          "output_type": "execute_result",
          "data": {
            "text/plain": [
              "6    92\n",
              "7    38\n",
              "5    11\n",
              "4    10\n",
              "8     9\n",
              "9     7\n",
              "3     7\n",
              "2     4\n",
              "1     3\n",
              "Name: Nivel Educacional, dtype: int64"
            ]
          },
          "metadata": {},
          "execution_count": 36
        }
      ]
    },
    {
      "cell_type": "code",
      "metadata": {
        "id": "gLtXgcl6jl2F"
      },
      "source": [
        "# Change 'other' response to 'Work and study'."
      ],
      "execution_count": null,
      "outputs": []
    },
    {
      "cell_type": "code",
      "metadata": {
        "colab": {
          "base_uri": "https://localhost:8080/"
        },
        "id": "6yRlFXCiNfLX",
        "outputId": "207a24db-de3e-43b6-bd81-99cb20bb7077"
      },
      "source": [
        "df['Si su respuesta anterior fue \\'\\'Otro\\'\\', indique cual : '].value_counts()"
      ],
      "execution_count": 38,
      "outputs": [
        {
          "output_type": "execute_result",
          "data": {
            "text/plain": [
              "Trabajar y estudiar     1\n",
              "Name: Si su respuesta anterior fue ''Otro'', indique cual : , dtype: int64"
            ]
          },
          "metadata": {},
          "execution_count": 38
        }
      ]
    },
    {
      "cell_type": "code",
      "metadata": {
        "colab": {
          "base_uri": "https://localhost:8080/",
          "height": 222
        },
        "id": "pQhCt95wMGw9",
        "outputId": "08da82af-3250-4298-9b28-a671aee3cf34"
      },
      "source": [
        "df[df['Si su respuesta anterior fue \\'\\'Otro\\'\\', indique cual : '] == 'Trabajar y estudiar ']"
      ],
      "execution_count": 39,
      "outputs": [
        {
          "output_type": "execute_result",
          "data": {
            "text/html": [
              "<div>\n",
              "<style scoped>\n",
              "    .dataframe tbody tr th:only-of-type {\n",
              "        vertical-align: middle;\n",
              "    }\n",
              "\n",
              "    .dataframe tbody tr th {\n",
              "        vertical-align: top;\n",
              "    }\n",
              "\n",
              "    .dataframe thead th {\n",
              "        text-align: right;\n",
              "    }\n",
              "</style>\n",
              "<table border=\"1\" class=\"dataframe\">\n",
              "  <thead>\n",
              "    <tr style=\"text-align: right;\">\n",
              "      <th></th>\n",
              "      <th>Sexo:</th>\n",
              "      <th>Edad</th>\n",
              "      <th>IPC</th>\n",
              "      <th>Nivel Educacional</th>\n",
              "      <th>Ocupación</th>\n",
              "      <th>Si su respuesta anterior fue ''Otro'', indique cual :</th>\n",
              "      <th>Vivió con alguien de alto riesgo</th>\n",
              "      <th>Tipo de condición?</th>\n",
              "      <th>MS1</th>\n",
              "      <th>MS2</th>\n",
              "      <th>MS3</th>\n",
              "      <th>MS4</th>\n",
              "      <th>MS5</th>\n",
              "      <th>MS6</th>\n",
              "      <th>MS7</th>\n",
              "      <th>MS8</th>\n",
              "      <th>MS9</th>\n",
              "      <th>MS10</th>\n",
              "      <th>MS11</th>\n",
              "      <th>MS12</th>\n",
              "      <th>B1</th>\n",
              "      <th>B2</th>\n",
              "      <th>B3</th>\n",
              "      <th>B4</th>\n",
              "      <th>B5</th>\n",
              "      <th>B6</th>\n",
              "      <th>B7</th>\n",
              "      <th>B8</th>\n",
              "      <th>B9</th>\n",
              "      <th>B10</th>\n",
              "      <th>B11</th>\n",
              "      <th>B12</th>\n",
              "      <th>B13</th>\n",
              "      <th>B14</th>\n",
              "      <th>B15</th>\n",
              "      <th>B16</th>\n",
              "      <th>B17</th>\n",
              "      <th>B18</th>\n",
              "      <th>B19</th>\n",
              "      <th>B20</th>\n",
              "      <th>B21</th>\n",
              "      <th>B22</th>\n",
              "      <th>B23</th>\n",
              "      <th>B24</th>\n",
              "      <th>B25</th>\n",
              "      <th>B26</th>\n",
              "      <th>B27</th>\n",
              "      <th>B28</th>\n",
              "      <th>B29</th>\n",
              "      <th>B30</th>\n",
              "    </tr>\n",
              "  </thead>\n",
              "  <tbody>\n",
              "    <tr>\n",
              "      <th>45</th>\n",
              "      <td>0</td>\n",
              "      <td>20</td>\n",
              "      <td>3</td>\n",
              "      <td>6</td>\n",
              "      <td>Otro</td>\n",
              "      <td>Trabajar y estudiar</td>\n",
              "      <td>No</td>\n",
              "      <td>NaN</td>\n",
              "      <td>2</td>\n",
              "      <td>2</td>\n",
              "      <td>2</td>\n",
              "      <td>3</td>\n",
              "      <td>1</td>\n",
              "      <td>4</td>\n",
              "      <td>2</td>\n",
              "      <td>4</td>\n",
              "      <td>3</td>\n",
              "      <td>3</td>\n",
              "      <td>2</td>\n",
              "      <td>0</td>\n",
              "      <td>3</td>\n",
              "      <td>0</td>\n",
              "      <td>1</td>\n",
              "      <td>4</td>\n",
              "      <td>4</td>\n",
              "      <td>1</td>\n",
              "      <td>0</td>\n",
              "      <td>0</td>\n",
              "      <td>1</td>\n",
              "      <td>3</td>\n",
              "      <td>3</td>\n",
              "      <td>1</td>\n",
              "      <td>4</td>\n",
              "      <td>0</td>\n",
              "      <td>1</td>\n",
              "      <td>0</td>\n",
              "      <td>0</td>\n",
              "      <td>0</td>\n",
              "      <td>0</td>\n",
              "      <td>0</td>\n",
              "      <td>4</td>\n",
              "      <td>1</td>\n",
              "      <td>4</td>\n",
              "      <td>0</td>\n",
              "      <td>3</td>\n",
              "      <td>3</td>\n",
              "      <td>4</td>\n",
              "      <td>1</td>\n",
              "      <td>4</td>\n",
              "      <td>3</td>\n",
              "    </tr>\n",
              "  </tbody>\n",
              "</table>\n",
              "</div>"
            ],
            "text/plain": [
              "    Sexo:  Edad  IPC  Nivel Educacional Ocupación  ... B26 B27 B28  B29  B30\n",
              "45      0    20    3                  6      Otro  ...   3   4   1    4    3\n",
              "\n",
              "[1 rows x 50 columns]"
            ]
          },
          "metadata": {},
          "execution_count": 39
        }
      ]
    },
    {
      "cell_type": "code",
      "metadata": {
        "colab": {
          "base_uri": "https://localhost:8080/",
          "height": 222
        },
        "id": "nEEq8FzQMGt5",
        "outputId": "96b60f49-aba6-4812-ccfa-61eb7fbfcaee"
      },
      "source": [
        "df[df['Ocupación'] == 'Otro']"
      ],
      "execution_count": 40,
      "outputs": [
        {
          "output_type": "execute_result",
          "data": {
            "text/html": [
              "<div>\n",
              "<style scoped>\n",
              "    .dataframe tbody tr th:only-of-type {\n",
              "        vertical-align: middle;\n",
              "    }\n",
              "\n",
              "    .dataframe tbody tr th {\n",
              "        vertical-align: top;\n",
              "    }\n",
              "\n",
              "    .dataframe thead th {\n",
              "        text-align: right;\n",
              "    }\n",
              "</style>\n",
              "<table border=\"1\" class=\"dataframe\">\n",
              "  <thead>\n",
              "    <tr style=\"text-align: right;\">\n",
              "      <th></th>\n",
              "      <th>Sexo:</th>\n",
              "      <th>Edad</th>\n",
              "      <th>IPC</th>\n",
              "      <th>Nivel Educacional</th>\n",
              "      <th>Ocupación</th>\n",
              "      <th>Si su respuesta anterior fue ''Otro'', indique cual :</th>\n",
              "      <th>Vivió con alguien de alto riesgo</th>\n",
              "      <th>Tipo de condición?</th>\n",
              "      <th>MS1</th>\n",
              "      <th>MS2</th>\n",
              "      <th>MS3</th>\n",
              "      <th>MS4</th>\n",
              "      <th>MS5</th>\n",
              "      <th>MS6</th>\n",
              "      <th>MS7</th>\n",
              "      <th>MS8</th>\n",
              "      <th>MS9</th>\n",
              "      <th>MS10</th>\n",
              "      <th>MS11</th>\n",
              "      <th>MS12</th>\n",
              "      <th>B1</th>\n",
              "      <th>B2</th>\n",
              "      <th>B3</th>\n",
              "      <th>B4</th>\n",
              "      <th>B5</th>\n",
              "      <th>B6</th>\n",
              "      <th>B7</th>\n",
              "      <th>B8</th>\n",
              "      <th>B9</th>\n",
              "      <th>B10</th>\n",
              "      <th>B11</th>\n",
              "      <th>B12</th>\n",
              "      <th>B13</th>\n",
              "      <th>B14</th>\n",
              "      <th>B15</th>\n",
              "      <th>B16</th>\n",
              "      <th>B17</th>\n",
              "      <th>B18</th>\n",
              "      <th>B19</th>\n",
              "      <th>B20</th>\n",
              "      <th>B21</th>\n",
              "      <th>B22</th>\n",
              "      <th>B23</th>\n",
              "      <th>B24</th>\n",
              "      <th>B25</th>\n",
              "      <th>B26</th>\n",
              "      <th>B27</th>\n",
              "      <th>B28</th>\n",
              "      <th>B29</th>\n",
              "      <th>B30</th>\n",
              "    </tr>\n",
              "  </thead>\n",
              "  <tbody>\n",
              "    <tr>\n",
              "      <th>45</th>\n",
              "      <td>0</td>\n",
              "      <td>20</td>\n",
              "      <td>3</td>\n",
              "      <td>6</td>\n",
              "      <td>Otro</td>\n",
              "      <td>Trabajar y estudiar</td>\n",
              "      <td>No</td>\n",
              "      <td>NaN</td>\n",
              "      <td>2</td>\n",
              "      <td>2</td>\n",
              "      <td>2</td>\n",
              "      <td>3</td>\n",
              "      <td>1</td>\n",
              "      <td>4</td>\n",
              "      <td>2</td>\n",
              "      <td>4</td>\n",
              "      <td>3</td>\n",
              "      <td>3</td>\n",
              "      <td>2</td>\n",
              "      <td>0</td>\n",
              "      <td>3</td>\n",
              "      <td>0</td>\n",
              "      <td>1</td>\n",
              "      <td>4</td>\n",
              "      <td>4</td>\n",
              "      <td>1</td>\n",
              "      <td>0</td>\n",
              "      <td>0</td>\n",
              "      <td>1</td>\n",
              "      <td>3</td>\n",
              "      <td>3</td>\n",
              "      <td>1</td>\n",
              "      <td>4</td>\n",
              "      <td>0</td>\n",
              "      <td>1</td>\n",
              "      <td>0</td>\n",
              "      <td>0</td>\n",
              "      <td>0</td>\n",
              "      <td>0</td>\n",
              "      <td>0</td>\n",
              "      <td>4</td>\n",
              "      <td>1</td>\n",
              "      <td>4</td>\n",
              "      <td>0</td>\n",
              "      <td>3</td>\n",
              "      <td>3</td>\n",
              "      <td>4</td>\n",
              "      <td>1</td>\n",
              "      <td>4</td>\n",
              "      <td>3</td>\n",
              "    </tr>\n",
              "  </tbody>\n",
              "</table>\n",
              "</div>"
            ],
            "text/plain": [
              "    Sexo:  Edad  IPC  Nivel Educacional Ocupación  ... B26 B27 B28  B29  B30\n",
              "45      0    20    3                  6      Otro  ...   3   4   1    4    3\n",
              "\n",
              "[1 rows x 50 columns]"
            ]
          },
          "metadata": {},
          "execution_count": 40
        }
      ]
    },
    {
      "cell_type": "code",
      "metadata": {
        "id": "ckKncH1dMGql"
      },
      "source": [
        "df['Ocupación'] = np.where(df['Ocupación'] == 'Otro', 'Estudiante y trabajador/a', df['Ocupación'])"
      ],
      "execution_count": 41,
      "outputs": []
    },
    {
      "cell_type": "code",
      "metadata": {
        "colab": {
          "base_uri": "https://localhost:8080/"
        },
        "id": "OsBheMbLMGoB",
        "outputId": "28c4b659-9c9a-4281-f63f-37f29ba26b9c"
      },
      "source": [
        "df['Ocupación'].value_counts()"
      ],
      "execution_count": 42,
      "outputs": [
        {
          "output_type": "execute_result",
          "data": {
            "text/plain": [
              "Estudiante                   81\n",
              "Trabajador/a                 76\n",
              "Estudiante y trabajador/a    23\n",
              "Cesante                       1\n",
              "Name: Ocupación, dtype: int64"
            ]
          },
          "metadata": {},
          "execution_count": 42
        }
      ]
    },
    {
      "cell_type": "code",
      "metadata": {
        "id": "_qxokx3J0G8B"
      },
      "source": [
        "# Convert ocupation to numeric"
      ],
      "execution_count": null,
      "outputs": []
    },
    {
      "cell_type": "code",
      "metadata": {
        "id": "61znvjZD0HNp"
      },
      "source": [
        "Ocupación_Dict = {'Estudiante': 0,\n",
        "                'Trabajador/a': 1,\n",
        "                'Estudiante y trabajador/a':2,\n",
        "                'Cesante': 3}"
      ],
      "execution_count": 43,
      "outputs": []
    },
    {
      "cell_type": "code",
      "metadata": {
        "id": "tLQar5nO0HNr"
      },
      "source": [
        "df['Ocupación'] = df['Ocupación'].map(Ocupación_Dict)"
      ],
      "execution_count": 44,
      "outputs": []
    },
    {
      "cell_type": "code",
      "metadata": {
        "colab": {
          "base_uri": "https://localhost:8080/"
        },
        "id": "np7wqnto0jGM",
        "outputId": "a51fb6a1-84ce-4b46-85fe-9448528ec40f"
      },
      "source": [
        "df['Ocupación'].value_counts()"
      ],
      "execution_count": 45,
      "outputs": [
        {
          "output_type": "execute_result",
          "data": {
            "text/plain": [
              "0    81\n",
              "1    76\n",
              "2    23\n",
              "3     1\n",
              "Name: Ocupación, dtype: int64"
            ]
          },
          "metadata": {},
          "execution_count": 45
        }
      ]
    },
    {
      "cell_type": "code",
      "metadata": {
        "id": "3lOm29_JjlzY"
      },
      "source": [
        "# Make new variable which combines 'if you live with someone at a high risk from covid' and the 'type of risk'"
      ],
      "execution_count": null,
      "outputs": []
    },
    {
      "cell_type": "code",
      "metadata": {
        "id": "PHMhWvhsbWyv"
      },
      "source": [
        "df['AltoRiesgoCondicion'] = np.where(df['Tipo de condición?'].isna(), df['Vivió con alguien de alto riesgo'], df[\"Tipo de condición?\"])"
      ],
      "execution_count": 47,
      "outputs": []
    },
    {
      "cell_type": "code",
      "metadata": {
        "colab": {
          "base_uri": "https://localhost:8080/"
        },
        "id": "WlFRqTrfcFdh",
        "outputId": "3df6f91d-698e-4bc7-d2e4-55310d094e17"
      },
      "source": [
        "df['AltoRiesgoCondicion'].isna().sum()"
      ],
      "execution_count": 48,
      "outputs": [
        {
          "output_type": "execute_result",
          "data": {
            "text/plain": [
              "0"
            ]
          },
          "metadata": {},
          "execution_count": 48
        }
      ]
    },
    {
      "cell_type": "code",
      "metadata": {
        "colab": {
          "base_uri": "https://localhost:8080/"
        },
        "id": "u_IFbPm1cFXn",
        "outputId": "7b2bfe2d-395c-4a66-f146-2d0047f07a82"
      },
      "source": [
        "df['AltoRiesgoCondicion'].value_counts()"
      ],
      "execution_count": 49,
      "outputs": [
        {
          "output_type": "execute_result",
          "data": {
            "text/plain": [
              "No                                                                                   94\n",
              "Persona con enfermedad crónica (Hipertensión , diabetes, problemas cardíaco, etc)    37\n",
              "Ambas respuestas anteriores                                                          25\n",
              "Adulto mayor                                                                         16\n",
              "Otro                                                                                  9\n",
              "Name: AltoRiesgoCondicion, dtype: int64"
            ]
          },
          "metadata": {},
          "execution_count": 49
        }
      ]
    },
    {
      "cell_type": "code",
      "metadata": {
        "colab": {
          "base_uri": "https://localhost:8080/"
        },
        "id": "cpPV2xRvfjao",
        "outputId": "e3f799e6-598f-4fd6-d4f7-c590a33c3f13"
      },
      "source": [
        "df['AltoRiesgoCondicion'].count()"
      ],
      "execution_count": 50,
      "outputs": [
        {
          "output_type": "execute_result",
          "data": {
            "text/plain": [
              "181"
            ]
          },
          "metadata": {},
          "execution_count": 50
        }
      ]
    },
    {
      "cell_type": "code",
      "metadata": {
        "id": "ZiMDsLJD1FOF"
      },
      "source": [
        "AltoRiesgoCondicion_Dict = {'No': 0,\n",
        "                'Persona con enfermedad crónica (Hipertensión , diabetes, problemas cardíaco, etc)': 1,\n",
        "                'Ambas respuestas anteriores':2,\n",
        "                'Adulto mayor': 3,\n",
        "                'Otro': 4}"
      ],
      "execution_count": 51,
      "outputs": []
    },
    {
      "cell_type": "code",
      "metadata": {
        "id": "uVp1KZwA1FOG"
      },
      "source": [
        "df['AltoRiesgoCondicion'] = df['AltoRiesgoCondicion'].map(AltoRiesgoCondicion_Dict)"
      ],
      "execution_count": 52,
      "outputs": []
    },
    {
      "cell_type": "code",
      "metadata": {
        "colab": {
          "base_uri": "https://localhost:8080/",
          "height": 400
        },
        "id": "s39sO57GjlxN",
        "outputId": "886f0ca1-7e7c-4a23-e421-cf306dfc9c4f"
      },
      "source": [
        "df.head()"
      ],
      "execution_count": 53,
      "outputs": [
        {
          "output_type": "execute_result",
          "data": {
            "text/html": [
              "<div>\n",
              "<style scoped>\n",
              "    .dataframe tbody tr th:only-of-type {\n",
              "        vertical-align: middle;\n",
              "    }\n",
              "\n",
              "    .dataframe tbody tr th {\n",
              "        vertical-align: top;\n",
              "    }\n",
              "\n",
              "    .dataframe thead th {\n",
              "        text-align: right;\n",
              "    }\n",
              "</style>\n",
              "<table border=\"1\" class=\"dataframe\">\n",
              "  <thead>\n",
              "    <tr style=\"text-align: right;\">\n",
              "      <th></th>\n",
              "      <th>Sexo:</th>\n",
              "      <th>Edad</th>\n",
              "      <th>IPC</th>\n",
              "      <th>Nivel Educacional</th>\n",
              "      <th>Ocupación</th>\n",
              "      <th>Si su respuesta anterior fue ''Otro'', indique cual :</th>\n",
              "      <th>Vivió con alguien de alto riesgo</th>\n",
              "      <th>Tipo de condición?</th>\n",
              "      <th>MS1</th>\n",
              "      <th>MS2</th>\n",
              "      <th>MS3</th>\n",
              "      <th>MS4</th>\n",
              "      <th>MS5</th>\n",
              "      <th>MS6</th>\n",
              "      <th>MS7</th>\n",
              "      <th>MS8</th>\n",
              "      <th>MS9</th>\n",
              "      <th>MS10</th>\n",
              "      <th>MS11</th>\n",
              "      <th>MS12</th>\n",
              "      <th>B1</th>\n",
              "      <th>B2</th>\n",
              "      <th>B3</th>\n",
              "      <th>B4</th>\n",
              "      <th>B5</th>\n",
              "      <th>B6</th>\n",
              "      <th>B7</th>\n",
              "      <th>B8</th>\n",
              "      <th>B9</th>\n",
              "      <th>B10</th>\n",
              "      <th>B11</th>\n",
              "      <th>B12</th>\n",
              "      <th>B13</th>\n",
              "      <th>B14</th>\n",
              "      <th>B15</th>\n",
              "      <th>B16</th>\n",
              "      <th>B17</th>\n",
              "      <th>B18</th>\n",
              "      <th>B19</th>\n",
              "      <th>B20</th>\n",
              "      <th>B21</th>\n",
              "      <th>B22</th>\n",
              "      <th>B23</th>\n",
              "      <th>B24</th>\n",
              "      <th>B25</th>\n",
              "      <th>B26</th>\n",
              "      <th>B27</th>\n",
              "      <th>B28</th>\n",
              "      <th>B29</th>\n",
              "      <th>B30</th>\n",
              "      <th>AltoRiesgoCondicion</th>\n",
              "    </tr>\n",
              "  </thead>\n",
              "  <tbody>\n",
              "    <tr>\n",
              "      <th>0</th>\n",
              "      <td>0</td>\n",
              "      <td>34</td>\n",
              "      <td>10</td>\n",
              "      <td>7</td>\n",
              "      <td>1</td>\n",
              "      <td>NaN</td>\n",
              "      <td>No</td>\n",
              "      <td>NaN</td>\n",
              "      <td>4</td>\n",
              "      <td>3</td>\n",
              "      <td>3</td>\n",
              "      <td>4</td>\n",
              "      <td>4</td>\n",
              "      <td>4</td>\n",
              "      <td>4</td>\n",
              "      <td>4</td>\n",
              "      <td>4</td>\n",
              "      <td>4</td>\n",
              "      <td>4</td>\n",
              "      <td>4</td>\n",
              "      <td>4</td>\n",
              "      <td>0</td>\n",
              "      <td>4</td>\n",
              "      <td>1</td>\n",
              "      <td>4</td>\n",
              "      <td>4</td>\n",
              "      <td>4</td>\n",
              "      <td>4</td>\n",
              "      <td>4</td>\n",
              "      <td>4</td>\n",
              "      <td>4</td>\n",
              "      <td>1</td>\n",
              "      <td>1</td>\n",
              "      <td>0</td>\n",
              "      <td>0</td>\n",
              "      <td>0</td>\n",
              "      <td>4</td>\n",
              "      <td>1</td>\n",
              "      <td>4</td>\n",
              "      <td>0</td>\n",
              "      <td>0</td>\n",
              "      <td>4</td>\n",
              "      <td>3</td>\n",
              "      <td>1</td>\n",
              "      <td>0</td>\n",
              "      <td>1</td>\n",
              "      <td>0</td>\n",
              "      <td>1</td>\n",
              "      <td>0</td>\n",
              "      <td>4</td>\n",
              "      <td>0</td>\n",
              "    </tr>\n",
              "    <tr>\n",
              "      <th>1</th>\n",
              "      <td>1</td>\n",
              "      <td>27</td>\n",
              "      <td>8</td>\n",
              "      <td>4</td>\n",
              "      <td>0</td>\n",
              "      <td>NaN</td>\n",
              "      <td>Si</td>\n",
              "      <td>Ambas respuestas anteriores</td>\n",
              "      <td>3</td>\n",
              "      <td>4</td>\n",
              "      <td>1</td>\n",
              "      <td>1</td>\n",
              "      <td>0</td>\n",
              "      <td>0</td>\n",
              "      <td>1</td>\n",
              "      <td>4</td>\n",
              "      <td>1</td>\n",
              "      <td>4</td>\n",
              "      <td>0</td>\n",
              "      <td>2</td>\n",
              "      <td>1</td>\n",
              "      <td>4</td>\n",
              "      <td>3</td>\n",
              "      <td>4</td>\n",
              "      <td>1</td>\n",
              "      <td>1</td>\n",
              "      <td>0</td>\n",
              "      <td>4</td>\n",
              "      <td>4</td>\n",
              "      <td>3</td>\n",
              "      <td>3</td>\n",
              "      <td>3</td>\n",
              "      <td>1</td>\n",
              "      <td>1</td>\n",
              "      <td>3</td>\n",
              "      <td>3</td>\n",
              "      <td>4</td>\n",
              "      <td>3</td>\n",
              "      <td>1</td>\n",
              "      <td>0</td>\n",
              "      <td>0</td>\n",
              "      <td>3</td>\n",
              "      <td>4</td>\n",
              "      <td>3</td>\n",
              "      <td>4</td>\n",
              "      <td>4</td>\n",
              "      <td>4</td>\n",
              "      <td>4</td>\n",
              "      <td>3</td>\n",
              "      <td>1</td>\n",
              "      <td>2</td>\n",
              "    </tr>\n",
              "    <tr>\n",
              "      <th>2</th>\n",
              "      <td>1</td>\n",
              "      <td>25</td>\n",
              "      <td>3</td>\n",
              "      <td>6</td>\n",
              "      <td>0</td>\n",
              "      <td>NaN</td>\n",
              "      <td>No</td>\n",
              "      <td>NaN</td>\n",
              "      <td>3</td>\n",
              "      <td>4</td>\n",
              "      <td>3</td>\n",
              "      <td>2</td>\n",
              "      <td>2</td>\n",
              "      <td>0</td>\n",
              "      <td>1</td>\n",
              "      <td>4</td>\n",
              "      <td>3</td>\n",
              "      <td>3</td>\n",
              "      <td>3</td>\n",
              "      <td>1</td>\n",
              "      <td>0</td>\n",
              "      <td>4</td>\n",
              "      <td>0</td>\n",
              "      <td>4</td>\n",
              "      <td>3</td>\n",
              "      <td>1</td>\n",
              "      <td>0</td>\n",
              "      <td>1</td>\n",
              "      <td>4</td>\n",
              "      <td>3</td>\n",
              "      <td>0</td>\n",
              "      <td>3</td>\n",
              "      <td>3</td>\n",
              "      <td>4</td>\n",
              "      <td>3</td>\n",
              "      <td>4</td>\n",
              "      <td>3</td>\n",
              "      <td>3</td>\n",
              "      <td>0</td>\n",
              "      <td>1</td>\n",
              "      <td>1</td>\n",
              "      <td>1</td>\n",
              "      <td>4</td>\n",
              "      <td>4</td>\n",
              "      <td>1</td>\n",
              "      <td>4</td>\n",
              "      <td>4</td>\n",
              "      <td>1</td>\n",
              "      <td>4</td>\n",
              "      <td>1</td>\n",
              "      <td>0</td>\n",
              "    </tr>\n",
              "    <tr>\n",
              "      <th>3</th>\n",
              "      <td>0</td>\n",
              "      <td>37</td>\n",
              "      <td>10</td>\n",
              "      <td>8</td>\n",
              "      <td>1</td>\n",
              "      <td>NaN</td>\n",
              "      <td>No</td>\n",
              "      <td>NaN</td>\n",
              "      <td>4</td>\n",
              "      <td>4</td>\n",
              "      <td>4</td>\n",
              "      <td>3</td>\n",
              "      <td>4</td>\n",
              "      <td>4</td>\n",
              "      <td>4</td>\n",
              "      <td>4</td>\n",
              "      <td>4</td>\n",
              "      <td>4</td>\n",
              "      <td>4</td>\n",
              "      <td>2</td>\n",
              "      <td>3</td>\n",
              "      <td>3</td>\n",
              "      <td>3</td>\n",
              "      <td>4</td>\n",
              "      <td>1</td>\n",
              "      <td>3</td>\n",
              "      <td>4</td>\n",
              "      <td>4</td>\n",
              "      <td>3</td>\n",
              "      <td>1</td>\n",
              "      <td>3</td>\n",
              "      <td>3</td>\n",
              "      <td>3</td>\n",
              "      <td>0</td>\n",
              "      <td>1</td>\n",
              "      <td>0</td>\n",
              "      <td>0</td>\n",
              "      <td>3</td>\n",
              "      <td>4</td>\n",
              "      <td>0</td>\n",
              "      <td>1</td>\n",
              "      <td>3</td>\n",
              "      <td>4</td>\n",
              "      <td>4</td>\n",
              "      <td>0</td>\n",
              "      <td>3</td>\n",
              "      <td>0</td>\n",
              "      <td>3</td>\n",
              "      <td>1</td>\n",
              "      <td>4</td>\n",
              "      <td>0</td>\n",
              "    </tr>\n",
              "    <tr>\n",
              "      <th>4</th>\n",
              "      <td>0</td>\n",
              "      <td>21</td>\n",
              "      <td>7</td>\n",
              "      <td>6</td>\n",
              "      <td>0</td>\n",
              "      <td>NaN</td>\n",
              "      <td>Si</td>\n",
              "      <td>Ambas respuestas anteriores</td>\n",
              "      <td>4</td>\n",
              "      <td>4</td>\n",
              "      <td>3</td>\n",
              "      <td>4</td>\n",
              "      <td>3</td>\n",
              "      <td>4</td>\n",
              "      <td>3</td>\n",
              "      <td>4</td>\n",
              "      <td>2</td>\n",
              "      <td>2</td>\n",
              "      <td>3</td>\n",
              "      <td>3</td>\n",
              "      <td>3</td>\n",
              "      <td>1</td>\n",
              "      <td>4</td>\n",
              "      <td>4</td>\n",
              "      <td>3</td>\n",
              "      <td>3</td>\n",
              "      <td>1</td>\n",
              "      <td>1</td>\n",
              "      <td>3</td>\n",
              "      <td>3</td>\n",
              "      <td>4</td>\n",
              "      <td>4</td>\n",
              "      <td>3</td>\n",
              "      <td>0</td>\n",
              "      <td>4</td>\n",
              "      <td>3</td>\n",
              "      <td>1</td>\n",
              "      <td>3</td>\n",
              "      <td>1</td>\n",
              "      <td>0</td>\n",
              "      <td>1</td>\n",
              "      <td>1</td>\n",
              "      <td>1</td>\n",
              "      <td>3</td>\n",
              "      <td>0</td>\n",
              "      <td>4</td>\n",
              "      <td>4</td>\n",
              "      <td>3</td>\n",
              "      <td>4</td>\n",
              "      <td>3</td>\n",
              "      <td>2</td>\n",
              "    </tr>\n",
              "  </tbody>\n",
              "</table>\n",
              "</div>"
            ],
            "text/plain": [
              "   Sexo:  Edad  IPC  Nivel Educacional  ...  B28 B29 B30 AltoRiesgoCondicion\n",
              "0      0    34   10                  7  ...    1   0   4                   0\n",
              "1      1    27    8                  4  ...    4   3   1                   2\n",
              "2      1    25    3                  6  ...    1   4   1                   0\n",
              "3      0    37   10                  8  ...    3   1   4                   0\n",
              "4      0    21    7                  6  ...    3   4   3                   2\n",
              "\n",
              "[5 rows x 51 columns]"
            ]
          },
          "metadata": {},
          "execution_count": 53
        }
      ]
    },
    {
      "cell_type": "code",
      "metadata": {
        "id": "p7XCBkKdjlux"
      },
      "source": [
        "df3.drop(['Unnamed: 0', 'Marca temporal', 'Nombre de usuario', 'Acepto', 'AltoRiesgoCondicion'], axis =1, inplace = True)"
      ],
      "execution_count": null,
      "outputs": []
    },
    {
      "cell_type": "code",
      "metadata": {
        "id": "QL2o3NXRjlsb"
      },
      "source": [
        "# For the variables of the barrat test when 4 represented less impulsive, the order needs to be changed. \n",
        "# After the change 4 will represent more impulsive and 0 as least impulsive. "
      ],
      "execution_count": null,
      "outputs": []
    },
    {
      "cell_type": "code",
      "metadata": {
        "id": "4nqiD5HjmBxj"
      },
      "source": [
        "FiveMenosImp = ['B1', 'B5', 'B6',\n",
        "       'B7', 'B8', 'B10', 'B11', 'B13', \n",
        "       'B17', 'B19', 'B22', 'B30']"
      ],
      "execution_count": 54,
      "outputs": []
    },
    {
      "cell_type": "code",
      "metadata": {
        "id": "wJhoGSDImBur"
      },
      "source": [
        "df[FiveMenosImp] = np.where(df[FiveMenosImp] == 4, 0, (np.where(df[FiveMenosImp] == 3,1,\n",
        "                                              np.where(df[FiveMenosImp] == 1,3, np.where(df[FiveMenosImp] == 0, 4, np.nan)))))"
      ],
      "execution_count": 56,
      "outputs": []
    },
    {
      "cell_type": "code",
      "metadata": {
        "id": "XbepIE5umBqp"
      },
      "source": [
        "# Make a Barratt total variable. \n",
        "\n",
        "df['BarrattTotal'] = df.filter(like = 'B', axis=1).sum(axis =1)"
      ],
      "execution_count": 57,
      "outputs": []
    },
    {
      "cell_type": "code",
      "metadata": {
        "id": "vQNugOTTmBm-"
      },
      "source": [
        "# for all of the variables related to the following of health measures 5 represents \n",
        "# the best compliance with the measures. "
      ],
      "execution_count": null,
      "outputs": []
    },
    {
      "cell_type": "code",
      "metadata": {
        "id": "u26ZFfYomjfM"
      },
      "source": [
        "# Make a health measures total variable\n",
        "df['MSTotal'] = df.filter(like = 'MS', axis=1).sum(axis =1)"
      ],
      "execution_count": 58,
      "outputs": []
    },
    {
      "cell_type": "code",
      "metadata": {
        "id": "5no1YN4Qmjc4"
      },
      "source": [
        "# Make three sub total groups for types of impulsivity (cognitive, motor, not planned)"
      ],
      "execution_count": null,
      "outputs": []
    },
    {
      "cell_type": "code",
      "metadata": {
        "id": "dRD4c1-Ek6NE"
      },
      "source": [
        "Impulsividad_Cognitiva = ['B4', 'B7', 'B10', 'B13', 'B16', 'B19', 'B24', 'B27']\n",
        "Impulsividad_Motora = ['B2', 'B6', 'B9', 'B12', 'B15', 'B18', 'B21', 'B23', 'B26', 'B29']\n",
        "Impulsividad_no_planeada = ['B1', 'B3', 'B5', 'B8', 'B11', 'B14', 'B17', 'B20', 'B22', 'B25', 'B28', 'B30']"
      ],
      "execution_count": 59,
      "outputs": []
    },
    {
      "cell_type": "code",
      "metadata": {
        "id": "3CLuVyTYk6Ip"
      },
      "source": [
        "df['Impulsividad_Cognitiva_Total'] = df[Impulsividad_Cognitiva].sum(axis =1)\n",
        "df['Impulsividad_Motora_Total'] = df[Impulsividad_Motora].sum(axis=1)\n",
        "df['Impulsividad_no_planeada_Total'] = df[Impulsividad_no_planeada].sum(axis =1)"
      ],
      "execution_count": 60,
      "outputs": []
    },
    {
      "cell_type": "code",
      "metadata": {
        "id": "t9jlv7GNmjZq"
      },
      "source": [
        "# Make three sub groups for types of health measures (hygine, social distancing, sanitary measures)"
      ],
      "execution_count": null,
      "outputs": []
    },
    {
      "cell_type": "code",
      "metadata": {
        "id": "rNL5PG1ok501"
      },
      "source": [
        "Higiene = ['MS1', 'MS3', 'MS8', 'MS12']\n",
        "Distanciamiento_Social = ['MS4', 'MS5', 'MS10', 'MS11']\n",
        "Medidas_Sanitarias = ['MS2', 'MS6', 'MS7', 'MS9']"
      ],
      "execution_count": 61,
      "outputs": []
    },
    {
      "cell_type": "code",
      "metadata": {
        "id": "9h8H7TB5na1u"
      },
      "source": [
        "df['Higiene_Total'] = df[Higiene].sum(axis =1)\n",
        "df['Distanciamiento_Social_Total'] = df[Distanciamiento_Social].sum(axis =1)\n",
        "df['Medidas_Sanitarias_Total'] = df[Medidas_Sanitarias].sum(axis =1)\n"
      ],
      "execution_count": 62,
      "outputs": []
    },
    {
      "cell_type": "code",
      "metadata": {
        "id": "28PgYY2doCRg"
      },
      "source": [
        "# Make variable for age groups (18 - 25 and 26 - 40)"
      ],
      "execution_count": null,
      "outputs": []
    },
    {
      "cell_type": "code",
      "metadata": {
        "id": "Vu02URPHnv_G"
      },
      "source": [
        "df['Grupos_etarios'] = np.where(df.Edad <= 25, '18-25', '26-40')"
      ],
      "execution_count": 64,
      "outputs": []
    },
    {
      "cell_type": "code",
      "metadata": {
        "colab": {
          "base_uri": "https://localhost:8080/",
          "height": 400
        },
        "id": "GYt1LZkCmjTu",
        "outputId": "7bf944c6-11e5-4d7f-a263-8e5cf6557b84"
      },
      "source": [
        "df.head()"
      ],
      "execution_count": 65,
      "outputs": [
        {
          "output_type": "execute_result",
          "data": {
            "text/html": [
              "<div>\n",
              "<style scoped>\n",
              "    .dataframe tbody tr th:only-of-type {\n",
              "        vertical-align: middle;\n",
              "    }\n",
              "\n",
              "    .dataframe tbody tr th {\n",
              "        vertical-align: top;\n",
              "    }\n",
              "\n",
              "    .dataframe thead th {\n",
              "        text-align: right;\n",
              "    }\n",
              "</style>\n",
              "<table border=\"1\" class=\"dataframe\">\n",
              "  <thead>\n",
              "    <tr style=\"text-align: right;\">\n",
              "      <th></th>\n",
              "      <th>Sexo:</th>\n",
              "      <th>Edad</th>\n",
              "      <th>IPC</th>\n",
              "      <th>Nivel Educacional</th>\n",
              "      <th>Ocupación</th>\n",
              "      <th>Si su respuesta anterior fue ''Otro'', indique cual :</th>\n",
              "      <th>Vivió con alguien de alto riesgo</th>\n",
              "      <th>Tipo de condición?</th>\n",
              "      <th>MS1</th>\n",
              "      <th>MS2</th>\n",
              "      <th>MS3</th>\n",
              "      <th>MS4</th>\n",
              "      <th>MS5</th>\n",
              "      <th>MS6</th>\n",
              "      <th>MS7</th>\n",
              "      <th>MS8</th>\n",
              "      <th>MS9</th>\n",
              "      <th>MS10</th>\n",
              "      <th>MS11</th>\n",
              "      <th>MS12</th>\n",
              "      <th>B1</th>\n",
              "      <th>B2</th>\n",
              "      <th>B3</th>\n",
              "      <th>B4</th>\n",
              "      <th>B5</th>\n",
              "      <th>B6</th>\n",
              "      <th>B7</th>\n",
              "      <th>B8</th>\n",
              "      <th>B9</th>\n",
              "      <th>B10</th>\n",
              "      <th>B11</th>\n",
              "      <th>B12</th>\n",
              "      <th>B13</th>\n",
              "      <th>B14</th>\n",
              "      <th>B15</th>\n",
              "      <th>B16</th>\n",
              "      <th>B17</th>\n",
              "      <th>B18</th>\n",
              "      <th>B19</th>\n",
              "      <th>B20</th>\n",
              "      <th>B21</th>\n",
              "      <th>B22</th>\n",
              "      <th>B23</th>\n",
              "      <th>B24</th>\n",
              "      <th>B25</th>\n",
              "      <th>B26</th>\n",
              "      <th>B27</th>\n",
              "      <th>B28</th>\n",
              "      <th>B29</th>\n",
              "      <th>B30</th>\n",
              "      <th>AltoRiesgoCondicion</th>\n",
              "      <th>BarrattTotal</th>\n",
              "      <th>MSTotal</th>\n",
              "      <th>Impulsividad_Cognitiva_Total</th>\n",
              "      <th>Impulsividad_Motora_Total</th>\n",
              "      <th>Impulsividad_no_planeada_Total</th>\n",
              "      <th>Higiene_Total</th>\n",
              "      <th>Distanciamiento_Social_Total</th>\n",
              "      <th>Medidas_Sanitarias_Total</th>\n",
              "      <th>Grupos_etarios</th>\n",
              "    </tr>\n",
              "  </thead>\n",
              "  <tbody>\n",
              "    <tr>\n",
              "      <th>0</th>\n",
              "      <td>0</td>\n",
              "      <td>34</td>\n",
              "      <td>10</td>\n",
              "      <td>7</td>\n",
              "      <td>1</td>\n",
              "      <td>NaN</td>\n",
              "      <td>No</td>\n",
              "      <td>NaN</td>\n",
              "      <td>4</td>\n",
              "      <td>3</td>\n",
              "      <td>3</td>\n",
              "      <td>4</td>\n",
              "      <td>4</td>\n",
              "      <td>4</td>\n",
              "      <td>4</td>\n",
              "      <td>4</td>\n",
              "      <td>4</td>\n",
              "      <td>4</td>\n",
              "      <td>4</td>\n",
              "      <td>4</td>\n",
              "      <td>0.0</td>\n",
              "      <td>0</td>\n",
              "      <td>4</td>\n",
              "      <td>1</td>\n",
              "      <td>0.0</td>\n",
              "      <td>0.0</td>\n",
              "      <td>0.0</td>\n",
              "      <td>0.0</td>\n",
              "      <td>4</td>\n",
              "      <td>0.0</td>\n",
              "      <td>0.0</td>\n",
              "      <td>1</td>\n",
              "      <td>3.0</td>\n",
              "      <td>0</td>\n",
              "      <td>0</td>\n",
              "      <td>0</td>\n",
              "      <td>0.0</td>\n",
              "      <td>1</td>\n",
              "      <td>0.0</td>\n",
              "      <td>0</td>\n",
              "      <td>0</td>\n",
              "      <td>0.0</td>\n",
              "      <td>3</td>\n",
              "      <td>1</td>\n",
              "      <td>0</td>\n",
              "      <td>1</td>\n",
              "      <td>0</td>\n",
              "      <td>1</td>\n",
              "      <td>0</td>\n",
              "      <td>0.0</td>\n",
              "      <td>0</td>\n",
              "      <td>20.0</td>\n",
              "      <td>46</td>\n",
              "      <td>5.0</td>\n",
              "      <td>10.0</td>\n",
              "      <td>5.0</td>\n",
              "      <td>15</td>\n",
              "      <td>16</td>\n",
              "      <td>15</td>\n",
              "      <td>26-40</td>\n",
              "    </tr>\n",
              "    <tr>\n",
              "      <th>1</th>\n",
              "      <td>1</td>\n",
              "      <td>27</td>\n",
              "      <td>8</td>\n",
              "      <td>4</td>\n",
              "      <td>0</td>\n",
              "      <td>NaN</td>\n",
              "      <td>Si</td>\n",
              "      <td>Ambas respuestas anteriores</td>\n",
              "      <td>3</td>\n",
              "      <td>4</td>\n",
              "      <td>1</td>\n",
              "      <td>1</td>\n",
              "      <td>0</td>\n",
              "      <td>0</td>\n",
              "      <td>1</td>\n",
              "      <td>4</td>\n",
              "      <td>1</td>\n",
              "      <td>4</td>\n",
              "      <td>0</td>\n",
              "      <td>2</td>\n",
              "      <td>3.0</td>\n",
              "      <td>4</td>\n",
              "      <td>3</td>\n",
              "      <td>4</td>\n",
              "      <td>3.0</td>\n",
              "      <td>3.0</td>\n",
              "      <td>4.0</td>\n",
              "      <td>0.0</td>\n",
              "      <td>4</td>\n",
              "      <td>1.0</td>\n",
              "      <td>1.0</td>\n",
              "      <td>3</td>\n",
              "      <td>3.0</td>\n",
              "      <td>1</td>\n",
              "      <td>3</td>\n",
              "      <td>3</td>\n",
              "      <td>0.0</td>\n",
              "      <td>3</td>\n",
              "      <td>3.0</td>\n",
              "      <td>0</td>\n",
              "      <td>0</td>\n",
              "      <td>1.0</td>\n",
              "      <td>4</td>\n",
              "      <td>3</td>\n",
              "      <td>4</td>\n",
              "      <td>4</td>\n",
              "      <td>4</td>\n",
              "      <td>4</td>\n",
              "      <td>3</td>\n",
              "      <td>3.0</td>\n",
              "      <td>2</td>\n",
              "      <td>79.0</td>\n",
              "      <td>21</td>\n",
              "      <td>25.0</td>\n",
              "      <td>31.0</td>\n",
              "      <td>23.0</td>\n",
              "      <td>10</td>\n",
              "      <td>5</td>\n",
              "      <td>6</td>\n",
              "      <td>26-40</td>\n",
              "    </tr>\n",
              "    <tr>\n",
              "      <th>2</th>\n",
              "      <td>1</td>\n",
              "      <td>25</td>\n",
              "      <td>3</td>\n",
              "      <td>6</td>\n",
              "      <td>0</td>\n",
              "      <td>NaN</td>\n",
              "      <td>No</td>\n",
              "      <td>NaN</td>\n",
              "      <td>3</td>\n",
              "      <td>4</td>\n",
              "      <td>3</td>\n",
              "      <td>2</td>\n",
              "      <td>2</td>\n",
              "      <td>0</td>\n",
              "      <td>1</td>\n",
              "      <td>4</td>\n",
              "      <td>3</td>\n",
              "      <td>3</td>\n",
              "      <td>3</td>\n",
              "      <td>1</td>\n",
              "      <td>4.0</td>\n",
              "      <td>4</td>\n",
              "      <td>0</td>\n",
              "      <td>4</td>\n",
              "      <td>1.0</td>\n",
              "      <td>3.0</td>\n",
              "      <td>4.0</td>\n",
              "      <td>3.0</td>\n",
              "      <td>4</td>\n",
              "      <td>1.0</td>\n",
              "      <td>4.0</td>\n",
              "      <td>3</td>\n",
              "      <td>1.0</td>\n",
              "      <td>4</td>\n",
              "      <td>3</td>\n",
              "      <td>4</td>\n",
              "      <td>1.0</td>\n",
              "      <td>3</td>\n",
              "      <td>4.0</td>\n",
              "      <td>1</td>\n",
              "      <td>1</td>\n",
              "      <td>3.0</td>\n",
              "      <td>4</td>\n",
              "      <td>4</td>\n",
              "      <td>1</td>\n",
              "      <td>4</td>\n",
              "      <td>4</td>\n",
              "      <td>1</td>\n",
              "      <td>4</td>\n",
              "      <td>3.0</td>\n",
              "      <td>0</td>\n",
              "      <td>85.0</td>\n",
              "      <td>29</td>\n",
              "      <td>26.0</td>\n",
              "      <td>33.0</td>\n",
              "      <td>26.0</td>\n",
              "      <td>11</td>\n",
              "      <td>10</td>\n",
              "      <td>8</td>\n",
              "      <td>18-25</td>\n",
              "    </tr>\n",
              "    <tr>\n",
              "      <th>3</th>\n",
              "      <td>0</td>\n",
              "      <td>37</td>\n",
              "      <td>10</td>\n",
              "      <td>8</td>\n",
              "      <td>1</td>\n",
              "      <td>NaN</td>\n",
              "      <td>No</td>\n",
              "      <td>NaN</td>\n",
              "      <td>4</td>\n",
              "      <td>4</td>\n",
              "      <td>4</td>\n",
              "      <td>3</td>\n",
              "      <td>4</td>\n",
              "      <td>4</td>\n",
              "      <td>4</td>\n",
              "      <td>4</td>\n",
              "      <td>4</td>\n",
              "      <td>4</td>\n",
              "      <td>4</td>\n",
              "      <td>2</td>\n",
              "      <td>1.0</td>\n",
              "      <td>3</td>\n",
              "      <td>3</td>\n",
              "      <td>4</td>\n",
              "      <td>3.0</td>\n",
              "      <td>1.0</td>\n",
              "      <td>0.0</td>\n",
              "      <td>0.0</td>\n",
              "      <td>3</td>\n",
              "      <td>3.0</td>\n",
              "      <td>1.0</td>\n",
              "      <td>3</td>\n",
              "      <td>1.0</td>\n",
              "      <td>0</td>\n",
              "      <td>1</td>\n",
              "      <td>0</td>\n",
              "      <td>4.0</td>\n",
              "      <td>3</td>\n",
              "      <td>0.0</td>\n",
              "      <td>0</td>\n",
              "      <td>1</td>\n",
              "      <td>1.0</td>\n",
              "      <td>4</td>\n",
              "      <td>4</td>\n",
              "      <td>0</td>\n",
              "      <td>3</td>\n",
              "      <td>0</td>\n",
              "      <td>3</td>\n",
              "      <td>1</td>\n",
              "      <td>0.0</td>\n",
              "      <td>0</td>\n",
              "      <td>51.0</td>\n",
              "      <td>45</td>\n",
              "      <td>12.0</td>\n",
              "      <td>23.0</td>\n",
              "      <td>16.0</td>\n",
              "      <td>14</td>\n",
              "      <td>15</td>\n",
              "      <td>16</td>\n",
              "      <td>26-40</td>\n",
              "    </tr>\n",
              "    <tr>\n",
              "      <th>4</th>\n",
              "      <td>0</td>\n",
              "      <td>21</td>\n",
              "      <td>7</td>\n",
              "      <td>6</td>\n",
              "      <td>0</td>\n",
              "      <td>NaN</td>\n",
              "      <td>Si</td>\n",
              "      <td>Ambas respuestas anteriores</td>\n",
              "      <td>4</td>\n",
              "      <td>4</td>\n",
              "      <td>3</td>\n",
              "      <td>4</td>\n",
              "      <td>3</td>\n",
              "      <td>4</td>\n",
              "      <td>3</td>\n",
              "      <td>4</td>\n",
              "      <td>2</td>\n",
              "      <td>2</td>\n",
              "      <td>3</td>\n",
              "      <td>3</td>\n",
              "      <td>1.0</td>\n",
              "      <td>1</td>\n",
              "      <td>4</td>\n",
              "      <td>4</td>\n",
              "      <td>1.0</td>\n",
              "      <td>1.0</td>\n",
              "      <td>3.0</td>\n",
              "      <td>3.0</td>\n",
              "      <td>3</td>\n",
              "      <td>1.0</td>\n",
              "      <td>0.0</td>\n",
              "      <td>4</td>\n",
              "      <td>1.0</td>\n",
              "      <td>0</td>\n",
              "      <td>4</td>\n",
              "      <td>3</td>\n",
              "      <td>3.0</td>\n",
              "      <td>3</td>\n",
              "      <td>3.0</td>\n",
              "      <td>0</td>\n",
              "      <td>1</td>\n",
              "      <td>3.0</td>\n",
              "      <td>1</td>\n",
              "      <td>3</td>\n",
              "      <td>0</td>\n",
              "      <td>4</td>\n",
              "      <td>4</td>\n",
              "      <td>3</td>\n",
              "      <td>4</td>\n",
              "      <td>1.0</td>\n",
              "      <td>2</td>\n",
              "      <td>67.0</td>\n",
              "      <td>39</td>\n",
              "      <td>22.0</td>\n",
              "      <td>26.0</td>\n",
              "      <td>19.0</td>\n",
              "      <td>14</td>\n",
              "      <td>12</td>\n",
              "      <td>13</td>\n",
              "      <td>18-25</td>\n",
              "    </tr>\n",
              "  </tbody>\n",
              "</table>\n",
              "</div>"
            ],
            "text/plain": [
              "   Sexo:  Edad  ...  Medidas_Sanitarias_Total  Grupos_etarios\n",
              "0      0    34  ...                        15           26-40\n",
              "1      1    27  ...                         6           26-40\n",
              "2      1    25  ...                         8           18-25\n",
              "3      0    37  ...                        16           26-40\n",
              "4      0    21  ...                        13           18-25\n",
              "\n",
              "[5 rows x 60 columns]"
            ]
          },
          "metadata": {},
          "execution_count": 65
        }
      ]
    },
    {
      "cell_type": "code",
      "metadata": {
        "id": "4Qtb3HJ0mjOj"
      },
      "source": [
        ""
      ],
      "execution_count": null,
      "outputs": []
    }
  ]
}