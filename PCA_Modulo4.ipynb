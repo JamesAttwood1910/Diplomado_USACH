{
  "nbformat": 4,
  "nbformat_minor": 0,
  "metadata": {
    "colab": {
      "name": "James Attwood Tarea 2 PCA - 23/08/2021",
      "provenance": [],
      "authorship_tag": "ABX9TyN1ZwDiA9tD4vJXx2hsUchn",
      "include_colab_link": true
    },
    "kernelspec": {
      "name": "python3",
      "display_name": "Python 3"
    },
    "language_info": {
      "name": "python"
    }
  },
  "cells": [
    {
      "cell_type": "markdown",
      "metadata": {
        "id": "view-in-github",
        "colab_type": "text"
      },
      "source": [
        "<a href=\"https://colab.research.google.com/github/JamesAttwood1910/Diplomado_USACH/blob/main/PCA_Modulo4.ipynb\" target=\"_parent\"><img src=\"https://colab.research.google.com/assets/colab-badge.svg\" alt=\"Open In Colab\"/></a>"
      ]
    },
    {
      "cell_type": "code",
      "metadata": {
        "id": "x-F4l_ZN1nVl"
      },
      "source": [
        "# Tarea 2"
      ],
      "execution_count": null,
      "outputs": []
    },
    {
      "cell_type": "code",
      "metadata": {
        "id": "Tqcz6scU3qRs"
      },
      "source": [
        "# Librerias \n",
        "\n",
        "import pandas as pd\n",
        "import numpy as np\n",
        "import numpy.linalg as la\n",
        "import matplotlib.pyplot as plt\n",
        "import seaborn as sns\n",
        "\n",
        "\n",
        "from sklearn.preprocessing import StandardScaler\n",
        "\n",
        "from sklearn.decomposition import PCA\n"
      ],
      "execution_count": null,
      "outputs": []
    },
    {
      "cell_type": "code",
      "metadata": {
        "id": "zQtyQvG03qPZ"
      },
      "source": [
        "# Conectar con google drive"
      ],
      "execution_count": null,
      "outputs": []
    },
    {
      "cell_type": "code",
      "metadata": {
        "colab": {
          "base_uri": "https://localhost:8080/"
        },
        "id": "phFzQRfJ3qNJ",
        "outputId": "3bad2089-143c-478f-b691-0abeb98ccd60"
      },
      "source": [
        "\n",
        "from google.colab import drive\n",
        "drive.mount('/content/drive/')"
      ],
      "execution_count": null,
      "outputs": [
        {
          "output_type": "stream",
          "text": [
            "Mounted at /content/drive/\n"
          ],
          "name": "stdout"
        }
      ]
    },
    {
      "cell_type": "code",
      "metadata": {
        "id": "Kbwg9nOX3qKJ"
      },
      "source": [
        "# Cargar datos"
      ],
      "execution_count": null,
      "outputs": []
    },
    {
      "cell_type": "code",
      "metadata": {
        "id": "ljX-9s_B3qHt",
        "colab": {
          "base_uri": "https://localhost:8080/",
          "height": 424
        },
        "outputId": "376629d1-5c2f-4537-e5d0-74e1d3dd6850"
      },
      "source": [
        "data = pd.read_csv(\"/content/drive/MyDrive/Modulo4/Tarea 2-20210821/brandrating.csv\")\n",
        "data"
      ],
      "execution_count": null,
      "outputs": [
        {
          "output_type": "execute_result",
          "data": {
            "text/html": [
              "<div>\n",
              "<style scoped>\n",
              "    .dataframe tbody tr th:only-of-type {\n",
              "        vertical-align: middle;\n",
              "    }\n",
              "\n",
              "    .dataframe tbody tr th {\n",
              "        vertical-align: top;\n",
              "    }\n",
              "\n",
              "    .dataframe thead th {\n",
              "        text-align: right;\n",
              "    }\n",
              "</style>\n",
              "<table border=\"1\" class=\"dataframe\">\n",
              "  <thead>\n",
              "    <tr style=\"text-align: right;\">\n",
              "      <th></th>\n",
              "      <th>perform</th>\n",
              "      <th>leader</th>\n",
              "      <th>latest</th>\n",
              "      <th>fun</th>\n",
              "      <th>serious</th>\n",
              "      <th>bargain</th>\n",
              "      <th>value</th>\n",
              "      <th>trendy</th>\n",
              "      <th>rebuy</th>\n",
              "      <th>brand</th>\n",
              "    </tr>\n",
              "  </thead>\n",
              "  <tbody>\n",
              "    <tr>\n",
              "      <th>0</th>\n",
              "      <td>2</td>\n",
              "      <td>4</td>\n",
              "      <td>8</td>\n",
              "      <td>8</td>\n",
              "      <td>2</td>\n",
              "      <td>9</td>\n",
              "      <td>7</td>\n",
              "      <td>4</td>\n",
              "      <td>6</td>\n",
              "      <td>a</td>\n",
              "    </tr>\n",
              "    <tr>\n",
              "      <th>1</th>\n",
              "      <td>1</td>\n",
              "      <td>1</td>\n",
              "      <td>4</td>\n",
              "      <td>7</td>\n",
              "      <td>1</td>\n",
              "      <td>1</td>\n",
              "      <td>1</td>\n",
              "      <td>2</td>\n",
              "      <td>2</td>\n",
              "      <td>a</td>\n",
              "    </tr>\n",
              "    <tr>\n",
              "      <th>2</th>\n",
              "      <td>2</td>\n",
              "      <td>3</td>\n",
              "      <td>5</td>\n",
              "      <td>9</td>\n",
              "      <td>2</td>\n",
              "      <td>9</td>\n",
              "      <td>5</td>\n",
              "      <td>1</td>\n",
              "      <td>6</td>\n",
              "      <td>a</td>\n",
              "    </tr>\n",
              "    <tr>\n",
              "      <th>3</th>\n",
              "      <td>1</td>\n",
              "      <td>6</td>\n",
              "      <td>10</td>\n",
              "      <td>8</td>\n",
              "      <td>3</td>\n",
              "      <td>4</td>\n",
              "      <td>5</td>\n",
              "      <td>2</td>\n",
              "      <td>1</td>\n",
              "      <td>a</td>\n",
              "    </tr>\n",
              "    <tr>\n",
              "      <th>4</th>\n",
              "      <td>1</td>\n",
              "      <td>1</td>\n",
              "      <td>5</td>\n",
              "      <td>8</td>\n",
              "      <td>1</td>\n",
              "      <td>9</td>\n",
              "      <td>9</td>\n",
              "      <td>1</td>\n",
              "      <td>1</td>\n",
              "      <td>a</td>\n",
              "    </tr>\n",
              "    <tr>\n",
              "      <th>...</th>\n",
              "      <td>...</td>\n",
              "      <td>...</td>\n",
              "      <td>...</td>\n",
              "      <td>...</td>\n",
              "      <td>...</td>\n",
              "      <td>...</td>\n",
              "      <td>...</td>\n",
              "      <td>...</td>\n",
              "      <td>...</td>\n",
              "      <td>...</td>\n",
              "    </tr>\n",
              "    <tr>\n",
              "      <th>995</th>\n",
              "      <td>2</td>\n",
              "      <td>2</td>\n",
              "      <td>3</td>\n",
              "      <td>6</td>\n",
              "      <td>4</td>\n",
              "      <td>8</td>\n",
              "      <td>5</td>\n",
              "      <td>1</td>\n",
              "      <td>2</td>\n",
              "      <td>j</td>\n",
              "    </tr>\n",
              "    <tr>\n",
              "      <th>996</th>\n",
              "      <td>3</td>\n",
              "      <td>2</td>\n",
              "      <td>6</td>\n",
              "      <td>7</td>\n",
              "      <td>1</td>\n",
              "      <td>3</td>\n",
              "      <td>3</td>\n",
              "      <td>2</td>\n",
              "      <td>1</td>\n",
              "      <td>j</td>\n",
              "    </tr>\n",
              "    <tr>\n",
              "      <th>997</th>\n",
              "      <td>1</td>\n",
              "      <td>1</td>\n",
              "      <td>10</td>\n",
              "      <td>10</td>\n",
              "      <td>1</td>\n",
              "      <td>6</td>\n",
              "      <td>5</td>\n",
              "      <td>5</td>\n",
              "      <td>2</td>\n",
              "      <td>j</td>\n",
              "    </tr>\n",
              "    <tr>\n",
              "      <th>998</th>\n",
              "      <td>1</td>\n",
              "      <td>1</td>\n",
              "      <td>7</td>\n",
              "      <td>5</td>\n",
              "      <td>1</td>\n",
              "      <td>1</td>\n",
              "      <td>2</td>\n",
              "      <td>5</td>\n",
              "      <td>1</td>\n",
              "      <td>j</td>\n",
              "    </tr>\n",
              "    <tr>\n",
              "      <th>999</th>\n",
              "      <td>7</td>\n",
              "      <td>4</td>\n",
              "      <td>7</td>\n",
              "      <td>8</td>\n",
              "      <td>4</td>\n",
              "      <td>1</td>\n",
              "      <td>2</td>\n",
              "      <td>5</td>\n",
              "      <td>1</td>\n",
              "      <td>j</td>\n",
              "    </tr>\n",
              "  </tbody>\n",
              "</table>\n",
              "<p>1000 rows × 10 columns</p>\n",
              "</div>"
            ],
            "text/plain": [
              "     perform  leader  latest  fun  serious  bargain  value  trendy  rebuy brand\n",
              "0          2       4       8    8        2        9      7       4      6     a\n",
              "1          1       1       4    7        1        1      1       2      2     a\n",
              "2          2       3       5    9        2        9      5       1      6     a\n",
              "3          1       6      10    8        3        4      5       2      1     a\n",
              "4          1       1       5    8        1        9      9       1      1     a\n",
              "..       ...     ...     ...  ...      ...      ...    ...     ...    ...   ...\n",
              "995        2       2       3    6        4        8      5       1      2     j\n",
              "996        3       2       6    7        1        3      3       2      1     j\n",
              "997        1       1      10   10        1        6      5       5      2     j\n",
              "998        1       1       7    5        1        1      2       5      1     j\n",
              "999        7       4       7    8        4        1      2       5      1     j\n",
              "\n",
              "[1000 rows x 10 columns]"
            ]
          },
          "metadata": {},
          "execution_count": 4
        }
      ]
    },
    {
      "cell_type": "code",
      "metadata": {
        "id": "efECz2uINYh7"
      },
      "source": [
        "data_copy = data"
      ],
      "execution_count": null,
      "outputs": []
    },
    {
      "cell_type": "code",
      "metadata": {
        "id": "FbjJHCcy3qDL"
      },
      "source": [
        "# Explorar datos"
      ],
      "execution_count": null,
      "outputs": []
    },
    {
      "cell_type": "code",
      "metadata": {
        "colab": {
          "base_uri": "https://localhost:8080/",
          "height": 206
        },
        "id": "M__IwtEn3qA_",
        "outputId": "5dadeb7f-731a-4773-daf4-bb374cc093d7"
      },
      "source": [
        "data.head()"
      ],
      "execution_count": null,
      "outputs": [
        {
          "output_type": "execute_result",
          "data": {
            "text/html": [
              "<div>\n",
              "<style scoped>\n",
              "    .dataframe tbody tr th:only-of-type {\n",
              "        vertical-align: middle;\n",
              "    }\n",
              "\n",
              "    .dataframe tbody tr th {\n",
              "        vertical-align: top;\n",
              "    }\n",
              "\n",
              "    .dataframe thead th {\n",
              "        text-align: right;\n",
              "    }\n",
              "</style>\n",
              "<table border=\"1\" class=\"dataframe\">\n",
              "  <thead>\n",
              "    <tr style=\"text-align: right;\">\n",
              "      <th></th>\n",
              "      <th>perform</th>\n",
              "      <th>leader</th>\n",
              "      <th>latest</th>\n",
              "      <th>fun</th>\n",
              "      <th>serious</th>\n",
              "      <th>bargain</th>\n",
              "      <th>value</th>\n",
              "      <th>trendy</th>\n",
              "      <th>rebuy</th>\n",
              "      <th>brand</th>\n",
              "    </tr>\n",
              "  </thead>\n",
              "  <tbody>\n",
              "    <tr>\n",
              "      <th>0</th>\n",
              "      <td>2</td>\n",
              "      <td>4</td>\n",
              "      <td>8</td>\n",
              "      <td>8</td>\n",
              "      <td>2</td>\n",
              "      <td>9</td>\n",
              "      <td>7</td>\n",
              "      <td>4</td>\n",
              "      <td>6</td>\n",
              "      <td>a</td>\n",
              "    </tr>\n",
              "    <tr>\n",
              "      <th>1</th>\n",
              "      <td>1</td>\n",
              "      <td>1</td>\n",
              "      <td>4</td>\n",
              "      <td>7</td>\n",
              "      <td>1</td>\n",
              "      <td>1</td>\n",
              "      <td>1</td>\n",
              "      <td>2</td>\n",
              "      <td>2</td>\n",
              "      <td>a</td>\n",
              "    </tr>\n",
              "    <tr>\n",
              "      <th>2</th>\n",
              "      <td>2</td>\n",
              "      <td>3</td>\n",
              "      <td>5</td>\n",
              "      <td>9</td>\n",
              "      <td>2</td>\n",
              "      <td>9</td>\n",
              "      <td>5</td>\n",
              "      <td>1</td>\n",
              "      <td>6</td>\n",
              "      <td>a</td>\n",
              "    </tr>\n",
              "    <tr>\n",
              "      <th>3</th>\n",
              "      <td>1</td>\n",
              "      <td>6</td>\n",
              "      <td>10</td>\n",
              "      <td>8</td>\n",
              "      <td>3</td>\n",
              "      <td>4</td>\n",
              "      <td>5</td>\n",
              "      <td>2</td>\n",
              "      <td>1</td>\n",
              "      <td>a</td>\n",
              "    </tr>\n",
              "    <tr>\n",
              "      <th>4</th>\n",
              "      <td>1</td>\n",
              "      <td>1</td>\n",
              "      <td>5</td>\n",
              "      <td>8</td>\n",
              "      <td>1</td>\n",
              "      <td>9</td>\n",
              "      <td>9</td>\n",
              "      <td>1</td>\n",
              "      <td>1</td>\n",
              "      <td>a</td>\n",
              "    </tr>\n",
              "  </tbody>\n",
              "</table>\n",
              "</div>"
            ],
            "text/plain": [
              "   perform  leader  latest  fun  serious  bargain  value  trendy  rebuy brand\n",
              "0        2       4       8    8        2        9      7       4      6     a\n",
              "1        1       1       4    7        1        1      1       2      2     a\n",
              "2        2       3       5    9        2        9      5       1      6     a\n",
              "3        1       6      10    8        3        4      5       2      1     a\n",
              "4        1       1       5    8        1        9      9       1      1     a"
            ]
          },
          "metadata": {},
          "execution_count": 6
        }
      ]
    },
    {
      "cell_type": "code",
      "metadata": {
        "colab": {
          "base_uri": "https://localhost:8080/"
        },
        "id": "xK3QOhhM3p-p",
        "outputId": "13f21b34-7300-43f5-893c-0250f7a16014"
      },
      "source": [
        "data.info() # no hay valores faltantes, 9 variables int, 1 variable categorico (brand). "
      ],
      "execution_count": null,
      "outputs": [
        {
          "output_type": "stream",
          "text": [
            "<class 'pandas.core.frame.DataFrame'>\n",
            "RangeIndex: 1000 entries, 0 to 999\n",
            "Data columns (total 10 columns):\n",
            " #   Column   Non-Null Count  Dtype \n",
            "---  ------   --------------  ----- \n",
            " 0   perform  1000 non-null   int64 \n",
            " 1   leader   1000 non-null   int64 \n",
            " 2   latest   1000 non-null   int64 \n",
            " 3   fun      1000 non-null   int64 \n",
            " 4   serious  1000 non-null   int64 \n",
            " 5   bargain  1000 non-null   int64 \n",
            " 6   value    1000 non-null   int64 \n",
            " 7   trendy   1000 non-null   int64 \n",
            " 8   rebuy    1000 non-null   int64 \n",
            " 9   brand    1000 non-null   object\n",
            "dtypes: int64(9), object(1)\n",
            "memory usage: 78.2+ KB\n"
          ],
          "name": "stdout"
        }
      ]
    },
    {
      "cell_type": "code",
      "metadata": {
        "colab": {
          "base_uri": "https://localhost:8080/"
        },
        "id": "bOFZHWJS3p73",
        "outputId": "cd67b79d-f085-492b-a48e-50811d634170"
      },
      "source": [
        "data.shape"
      ],
      "execution_count": null,
      "outputs": [
        {
          "output_type": "execute_result",
          "data": {
            "text/plain": [
              "(1000, 10)"
            ]
          },
          "metadata": {},
          "execution_count": 8
        }
      ]
    },
    {
      "cell_type": "code",
      "metadata": {
        "colab": {
          "base_uri": "https://localhost:8080/"
        },
        "id": "QmAzQKc2xJwE",
        "outputId": "f20d9d34-d58a-48b4-96f7-abeb9ac81c35"
      },
      "source": [
        "data['brand'].value_counts()"
      ],
      "execution_count": null,
      "outputs": [
        {
          "output_type": "execute_result",
          "data": {
            "text/plain": [
              "h    100\n",
              "e    100\n",
              "a    100\n",
              "d    100\n",
              "f    100\n",
              "c    100\n",
              "g    100\n",
              "i    100\n",
              "j    100\n",
              "b    100\n",
              "Name: brand, dtype: int64"
            ]
          },
          "metadata": {},
          "execution_count": 9
        }
      ]
    },
    {
      "cell_type": "code",
      "metadata": {
        "id": "udft-4e29Ut9"
      },
      "source": [
        "# Hacer brand la variable dependient (y) y sacarla de la base de datos. \n",
        "\n",
        "target = data['brand']\n",
        "data = data.drop(['brand'], axis = 1)"
      ],
      "execution_count": null,
      "outputs": []
    },
    {
      "cell_type": "code",
      "metadata": {
        "id": "6B42xObV3p4I"
      },
      "source": [
        "# 1 ) Realizar un heatmap de correlación entre los atributos"
      ],
      "execution_count": null,
      "outputs": []
    },
    {
      "cell_type": "code",
      "metadata": {
        "colab": {
          "base_uri": "https://localhost:8080/",
          "height": 311
        },
        "id": "QssxWDfC3p1i",
        "outputId": "ceaf732e-14ac-4153-bd32-3ae46c4d40c5"
      },
      "source": [
        "corr = data.corr()\n",
        "\n",
        "sns.heatmap(corr, cmap = 'coolwarm')\n",
        "plt.title('Heatmap de correlacion')\n",
        "plt.show()"
      ],
      "execution_count": null,
      "outputs": [
        {
          "output_type": "display_data",
          "data": {
            "image/png": "[encoded data removed]",
            "text/plain": [
              "<Figure size 432x288 with 2 Axes>"
            ]
          },
          "metadata": {
            "needs_background": "light"
          }
        }
      ]
    },
    {
      "cell_type": "code",
      "metadata": {
        "id": "bfTE8Vwe3pxT"
      },
      "source": [
        "# 2) Calcular los componentes principales. ¿Cuál es la proporción de la\n",
        "# varianza explicada acumulada hasta el componente principal 3? "
      ],
      "execution_count": null,
      "outputs": []
    },
    {
      "cell_type": "code",
      "metadata": {
        "id": "tLohPFvH3puM"
      },
      "source": [
        "scaler = StandardScaler()\n",
        "new_data = scaler.fit_transform(data)"
      ],
      "execution_count": null,
      "outputs": []
    },
    {
      "cell_type": "code",
      "metadata": {
        "colab": {
          "base_uri": "https://localhost:8080/"
        },
        "id": "xi7NYZhc9zdU",
        "outputId": "74ea1123-be45-44a7-d736-2ea0ce3ad18d"
      },
      "source": [
        "#calcular los componentes principales\n",
        "\n",
        "pca = PCA(n_components=3) #cuantas dimensiones de PCA\n",
        "pca = pca.fit(new_data)\n",
        "pca"
      ],
      "execution_count": null,
      "outputs": [
        {
          "output_type": "execute_result",
          "data": {
            "text/plain": [
              "PCA(copy=True, iterated_power='auto', n_components=3, random_state=None,\n",
              "    svd_solver='auto', tol=0.0, whiten=False)"
            ]
          },
          "metadata": {},
          "execution_count": 13
        }
      ]
    },
    {
      "cell_type": "code",
      "metadata": {
        "id": "zFYXhVU49zaN"
      },
      "source": [
        "#convertimos los datos en las nuevas dimensiones\n",
        "pca3 = pca.transform(new_data)"
      ],
      "execution_count": null,
      "outputs": []
    },
    {
      "cell_type": "code",
      "metadata": {
        "colab": {
          "base_uri": "https://localhost:8080/"
        },
        "id": "covdRxwd9zVi",
        "outputId": "937e47f0-0642-4206-f42f-b8454f426f34"
      },
      "source": [
        "print(pca3)\n",
        "print(pca3.shape)"
      ],
      "execution_count": null,
      "outputs": [
        {
          "output_type": "stream",
          "text": [
            "[[ 1.01036278 -1.62300786  1.81527558]\n",
            " [-1.53720937 -1.83677187 -2.00276587]\n",
            " [ 1.21200083 -2.30192495  0.69760145]\n",
            " ...\n",
            " [-1.42307927 -2.09564259  1.43414192]\n",
            " [-2.08552324 -1.19425256 -1.27692351]\n",
            " [-1.50570199  0.47303273 -0.73876216]]\n",
            "(1000, 3)\n"
          ],
          "name": "stdout"
        }
      ]
    },
    {
      "cell_type": "code",
      "metadata": {
        "colab": {
          "base_uri": "https://localhost:8080/"
        },
        "id": "CFV9I2bCdK0L",
        "outputId": "3acc8574-04f9-4726-9acb-8fdcd26df630"
      },
      "source": [
        "# 9 componentes\n",
        "\n",
        "pca_ = PCA(n_components=9) #cuantas dimensiones de PCA\n",
        "pca_ = pca_.fit(new_data)\n",
        "pca_"
      ],
      "execution_count": null,
      "outputs": [
        {
          "output_type": "execute_result",
          "data": {
            "text/plain": [
              "PCA(copy=True, iterated_power='auto', n_components=9, random_state=None,\n",
              "    svd_solver='auto', tol=0.0, whiten=False)"
            ]
          },
          "metadata": {},
          "execution_count": 16
        }
      ]
    },
    {
      "cell_type": "code",
      "metadata": {
        "id": "6JduOeJwdKx-"
      },
      "source": [
        "pca9 = pca_.transform(new_data)"
      ],
      "execution_count": null,
      "outputs": []
    },
    {
      "cell_type": "code",
      "metadata": {
        "colab": {
          "base_uri": "https://localhost:8080/"
        },
        "id": "dZZgTwmddKvj",
        "outputId": "95c61b1a-57d7-4b29-ebef-a7c059a7438b"
      },
      "source": [
        "print(pca9)\n",
        "print(pca9.shape)"
      ],
      "execution_count": null,
      "outputs": [
        {
          "output_type": "stream",
          "text": [
            "[[ 1.01036278 -1.62300786  1.81527558 ...  0.55514877 -0.29133343\n",
            "  -0.41593993]\n",
            " [-1.53720937 -1.83677187 -2.00276587 ...  0.28822721 -0.37788251\n",
            "  -0.24118947]\n",
            " [ 1.21200083 -2.30192495  0.69760145 ...  0.32391032 -0.54390044\n",
            "  -1.06393714]\n",
            " ...\n",
            " [-1.42307927 -2.09564259  1.43414192 ... -0.07968735 -0.52145708\n",
            "  -0.02909572]\n",
            " [-2.08552324 -1.19425256 -1.27692351 ...  0.1358329  -0.24524473\n",
            "   0.16700233]\n",
            " [-1.50570199  0.47303273 -0.73876216 ... -0.31377098 -0.30161079\n",
            "   0.19153493]]\n",
            "(1000, 9)\n"
          ],
          "name": "stdout"
        }
      ]
    },
    {
      "cell_type": "code",
      "metadata": {
        "colab": {
          "base_uri": "https://localhost:8080/"
        },
        "id": "HLdcMCaX9zRX",
        "outputId": "48a2e4ba-b586-409c-94b6-27cceb8c9fd4"
      },
      "source": [
        "#proporcion de la varianza explicada por cada PCA\n",
        "print('varianza explicada PCA', pca3.shape)\n",
        "expl = pca.explained_variance_ratio_\n",
        "print(expl)"
      ],
      "execution_count": null,
      "outputs": [
        {
          "output_type": "stream",
          "text": [
            "varianza explicada PCA (1000, 3)\n",
            "[0.33103284 0.23295019 0.11991721]\n"
          ],
          "name": "stdout"
        }
      ]
    },
    {
      "cell_type": "code",
      "metadata": {
        "colab": {
          "base_uri": "https://localhost:8080/"
        },
        "id": "6gK7kiZw9zLa",
        "outputId": "b658715d-440b-4ab6-86af-55c408ff26ee"
      },
      "source": [
        "# 2) ¿Cuál es la proporción de la varianza explicada acumulada hasta el componente principal 3?\n",
        "\n",
        "print('suma hasta componente principal 3:', sum(expl[0:3]))\n",
        "print(expl[0:3])\n",
        "\n",
        "# los tres componentes principales explican 68,39% de la varianca en los datos. "
      ],
      "execution_count": null,
      "outputs": [
        {
          "output_type": "stream",
          "text": [
            "suma hasta componente principal 3: 0.6839002346857314\n",
            "[0.33103284 0.23295019 0.11991721]\n"
          ],
          "name": "stdout"
        }
      ]
    },
    {
      "cell_type": "code",
      "metadata": {
        "id": "y_Pbsp9c9zGf"
      },
      "source": [
        "# 3) Grafique la varianza explicada para 9 componentes principales"
      ],
      "execution_count": null,
      "outputs": []
    },
    {
      "cell_type": "code",
      "metadata": {
        "colab": {
          "base_uri": "https://localhost:8080/",
          "height": 295
        },
        "id": "fuzEmw9R9zCX",
        "outputId": "15a2a661-d337-4762-ed5e-a1b8b3dead4b"
      },
      "source": [
        "plt.plot(np.cumsum(pca_.explained_variance_ratio_))\n",
        "plt.title('Varianza explicada')\n",
        "plt.xlabel('Numero de componentes')\n",
        "plt.ylabel('Varianza explicada acumulada')\n",
        "plt.show()"
      ],
      "execution_count": null,
      "outputs": [
        {
          "output_type": "display_data",
          "data": {
            "image/png": "[encoded data removed]",
            "text/plain": [
              "<Figure size 432x288 with 1 Axes>"
            ]
          },
          "metadata": {
            "needs_background": "light"
          }
        }
      ]
    },
    {
      "cell_type": "code",
      "metadata": {
        "id": "Fggg7fpf9y9Q"
      },
      "source": [
        "# 4) Crear un dataframe y heatmap con con los componentes principales y los\n",
        "# atributos. ¿Qué significa que el valor en la celda \"componente principal 2\"\n",
        "# / \"leader\", sea alto?¿Qué valor es?"
      ],
      "execution_count": null,
      "outputs": []
    },
    {
      "cell_type": "code",
      "metadata": {
        "id": "VYdCsGJBerIS"
      },
      "source": [
        "# reducir a dos componentes principales \n",
        "\n",
        "pca2 = PCA(n_components=2)\n",
        "pca2.fit(new_data)\n",
        "pca_2 = pca2.transform(new_data)"
      ],
      "execution_count": null,
      "outputs": []
    },
    {
      "cell_type": "code",
      "metadata": {
        "colab": {
          "base_uri": "https://localhost:8080/"
        },
        "id": "pa3HWIGherEq",
        "outputId": "1abbe1b8-f039-4f8d-ee7d-0f9e9347492e"
      },
      "source": [
        "# ver variance explicada por los 2 componentes principales: \n",
        "\n",
        "print('varianza explicada PCA', pca_2.shape)\n",
        "expl2 = pca2.explained_variance_ratio_\n",
        "print(expl2)\n",
        "print('suma:', sum(expl2[0:2]))"
      ],
      "execution_count": null,
      "outputs": [
        {
          "output_type": "stream",
          "text": [
            "varianza explicada PCA (1000, 2)\n",
            "[0.33103284 0.23295019]\n",
            "suma: 0.563983026406592\n"
          ],
          "name": "stdout"
        }
      ]
    },
    {
      "cell_type": "code",
      "metadata": {
        "colab": {
          "base_uri": "https://localhost:8080/"
        },
        "id": "d2wRm6GifgvY",
        "outputId": "a531d900-775d-458e-9c37-7fb9964f4a91"
      },
      "source": [
        "pca2.components_"
      ],
      "execution_count": null,
      "outputs": [
        {
          "output_type": "execute_result",
          "data": {
            "text/plain": [
              "array([[ 0.23746787,  0.20582566, -0.37038063, -0.25106012,  0.1597402 ,\n",
              "         0.39917306,  0.44745619, -0.35102924,  0.43901842],\n",
              "       [ 0.41991179,  0.52381901,  0.20145317, -0.25037973,  0.51047254,\n",
              "        -0.21849698, -0.18980822,  0.31849032,  0.01509832]])"
            ]
          },
          "metadata": {},
          "execution_count": 25
        }
      ]
    },
    {
      "cell_type": "code",
      "metadata": {
        "colab": {
          "base_uri": "https://localhost:8080/",
          "height": 392
        },
        "id": "MQJxVv7GerCR",
        "outputId": "6d20a5f2-36e7-4940-f76d-c9a59913d3c3"
      },
      "source": [
        "# 4.1) Crear base de datos y hacer heatmap de los 2 componentes principales \n",
        "\n",
        "data_pca2 = pd.DataFrame(pca2.components_, columns=data.columns)\n",
        "plt.figure(figsize=(21,6))\n",
        "sns.heatmap(data_pca2, cmap='Reds', annot = True)"
      ],
      "execution_count": null,
      "outputs": [
        {
          "output_type": "execute_result",
          "data": {
            "text/plain": [
              "<matplotlib.axes._subplots.AxesSubplot at 0x7fee13ff30d0>"
            ]
          },
          "metadata": {},
          "execution_count": 27
        },
        {
          "output_type": "display_data",
          "data": {
            "image/png": "[encoded data removed]",
            "text/plain": [
              "<Figure size 1512x432 with 2 Axes>"
            ]
          },
          "metadata": {
            "needs_background": "light"
          }
        }
      ]
    },
    {
      "cell_type": "code",
      "metadata": {
        "id": "oQnzfovAgkrr"
      },
      "source": [
        "4.2) # ¿Qué significa que el valor en la celda \"componente principal 2  / \"leader\", sea alto?¿Qué valor es? ( 2 puntos)\n",
        "\n",
        "# la celda tiene un valor de 0.52, eso dice que la variable de leader es la variable que mas aporta a PC2. "
      ],
      "execution_count": null,
      "outputs": []
    },
    {
      "cell_type": "code",
      "metadata": {
        "id": "K-vJkQObm5Y4"
      },
      "source": [
        "# 5) Utilizando el promedio como agregación ¿Cuáles son los atributos dónde la marca e es mejor que la marca a?"
      ],
      "execution_count": null,
      "outputs": []
    },
    {
      "cell_type": "code",
      "metadata": {
        "colab": {
          "base_uri": "https://localhost:8080/",
          "height": 206
        },
        "id": "G8qdlynDzmbr",
        "outputId": "b19ca862-249a-499d-ce26-20c56f736812"
      },
      "source": [
        "data_copy.head()"
      ],
      "execution_count": null,
      "outputs": [
        {
          "output_type": "execute_result",
          "data": {
            "text/html": [
              "<div>\n",
              "<style scoped>\n",
              "    .dataframe tbody tr th:only-of-type {\n",
              "        vertical-align: middle;\n",
              "    }\n",
              "\n",
              "    .dataframe tbody tr th {\n",
              "        vertical-align: top;\n",
              "    }\n",
              "\n",
              "    .dataframe thead th {\n",
              "        text-align: right;\n",
              "    }\n",
              "</style>\n",
              "<table border=\"1\" class=\"dataframe\">\n",
              "  <thead>\n",
              "    <tr style=\"text-align: right;\">\n",
              "      <th></th>\n",
              "      <th>perform</th>\n",
              "      <th>leader</th>\n",
              "      <th>latest</th>\n",
              "      <th>fun</th>\n",
              "      <th>serious</th>\n",
              "      <th>bargain</th>\n",
              "      <th>value</th>\n",
              "      <th>trendy</th>\n",
              "      <th>rebuy</th>\n",
              "      <th>brand</th>\n",
              "    </tr>\n",
              "  </thead>\n",
              "  <tbody>\n",
              "    <tr>\n",
              "      <th>0</th>\n",
              "      <td>2</td>\n",
              "      <td>4</td>\n",
              "      <td>8</td>\n",
              "      <td>8</td>\n",
              "      <td>2</td>\n",
              "      <td>9</td>\n",
              "      <td>7</td>\n",
              "      <td>4</td>\n",
              "      <td>6</td>\n",
              "      <td>a</td>\n",
              "    </tr>\n",
              "    <tr>\n",
              "      <th>1</th>\n",
              "      <td>1</td>\n",
              "      <td>1</td>\n",
              "      <td>4</td>\n",
              "      <td>7</td>\n",
              "      <td>1</td>\n",
              "      <td>1</td>\n",
              "      <td>1</td>\n",
              "      <td>2</td>\n",
              "      <td>2</td>\n",
              "      <td>a</td>\n",
              "    </tr>\n",
              "    <tr>\n",
              "      <th>2</th>\n",
              "      <td>2</td>\n",
              "      <td>3</td>\n",
              "      <td>5</td>\n",
              "      <td>9</td>\n",
              "      <td>2</td>\n",
              "      <td>9</td>\n",
              "      <td>5</td>\n",
              "      <td>1</td>\n",
              "      <td>6</td>\n",
              "      <td>a</td>\n",
              "    </tr>\n",
              "    <tr>\n",
              "      <th>3</th>\n",
              "      <td>1</td>\n",
              "      <td>6</td>\n",
              "      <td>10</td>\n",
              "      <td>8</td>\n",
              "      <td>3</td>\n",
              "      <td>4</td>\n",
              "      <td>5</td>\n",
              "      <td>2</td>\n",
              "      <td>1</td>\n",
              "      <td>a</td>\n",
              "    </tr>\n",
              "    <tr>\n",
              "      <th>4</th>\n",
              "      <td>1</td>\n",
              "      <td>1</td>\n",
              "      <td>5</td>\n",
              "      <td>8</td>\n",
              "      <td>1</td>\n",
              "      <td>9</td>\n",
              "      <td>9</td>\n",
              "      <td>1</td>\n",
              "      <td>1</td>\n",
              "      <td>a</td>\n",
              "    </tr>\n",
              "  </tbody>\n",
              "</table>\n",
              "</div>"
            ],
            "text/plain": [
              "   perform  leader  latest  fun  serious  bargain  value  trendy  rebuy brand\n",
              "0        2       4       8    8        2        9      7       4      6     a\n",
              "1        1       1       4    7        1        1      1       2      2     a\n",
              "2        2       3       5    9        2        9      5       1      6     a\n",
              "3        1       6      10    8        3        4      5       2      1     a\n",
              "4        1       1       5    8        1        9      9       1      1     a"
            ]
          },
          "metadata": {},
          "execution_count": 42
        }
      ]
    },
    {
      "cell_type": "code",
      "metadata": {
        "colab": {
          "base_uri": "https://localhost:8080/",
          "height": 143
        },
        "id": "9JEJmNOw1AY8",
        "outputId": "619fb620-357e-4074-9973-3feb2b82cf1d"
      },
      "source": [
        "df = data_copy.groupby('brand').mean() \n",
        "\n",
        "df.iloc[[0,4]]\n",
        "# la marca e es mejor que la marca a en los atributos de perform, leader, latest, serious, bargain, value, trendy, y rebuy. "
      ],
      "execution_count": null,
      "outputs": [
        {
          "output_type": "execute_result",
          "data": {
            "text/html": [
              "<div>\n",
              "<style scoped>\n",
              "    .dataframe tbody tr th:only-of-type {\n",
              "        vertical-align: middle;\n",
              "    }\n",
              "\n",
              "    .dataframe tbody tr th {\n",
              "        vertical-align: top;\n",
              "    }\n",
              "\n",
              "    .dataframe thead th {\n",
              "        text-align: right;\n",
              "    }\n",
              "</style>\n",
              "<table border=\"1\" class=\"dataframe\">\n",
              "  <thead>\n",
              "    <tr style=\"text-align: right;\">\n",
              "      <th></th>\n",
              "      <th>perform</th>\n",
              "      <th>leader</th>\n",
              "      <th>latest</th>\n",
              "      <th>fun</th>\n",
              "      <th>serious</th>\n",
              "      <th>bargain</th>\n",
              "      <th>value</th>\n",
              "      <th>trendy</th>\n",
              "      <th>rebuy</th>\n",
              "    </tr>\n",
              "    <tr>\n",
              "      <th>brand</th>\n",
              "      <th></th>\n",
              "      <th></th>\n",
              "      <th></th>\n",
              "      <th></th>\n",
              "      <th></th>\n",
              "      <th></th>\n",
              "      <th></th>\n",
              "      <th></th>\n",
              "      <th></th>\n",
              "    </tr>\n",
              "  </thead>\n",
              "  <tbody>\n",
              "    <tr>\n",
              "      <th>a</th>\n",
              "      <td>1.65</td>\n",
              "      <td>3.04</td>\n",
              "      <td>7.46</td>\n",
              "      <td>7.87</td>\n",
              "      <td>1.77</td>\n",
              "      <td>4.83</td>\n",
              "      <td>4.78</td>\n",
              "      <td>3.78</td>\n",
              "      <td>2.21</td>\n",
              "    </tr>\n",
              "    <tr>\n",
              "      <th>e</th>\n",
              "      <td>2.68</td>\n",
              "      <td>4.92</td>\n",
              "      <td>7.60</td>\n",
              "      <td>6.88</td>\n",
              "      <td>4.44</td>\n",
              "      <td>5.73</td>\n",
              "      <td>5.34</td>\n",
              "      <td>5.60</td>\n",
              "      <td>3.82</td>\n",
              "    </tr>\n",
              "  </tbody>\n",
              "</table>\n",
              "</div>"
            ],
            "text/plain": [
              "       perform  leader  latest   fun  serious  bargain  value  trendy  rebuy\n",
              "brand                                                                       \n",
              "a         1.65    3.04    7.46  7.87     1.77     4.83   4.78    3.78   2.21\n",
              "e         2.68    4.92    7.60  6.88     4.44     5.73   5.34    5.60   3.82"
            ]
          },
          "metadata": {},
          "execution_count": 54
        }
      ]
    },
    {
      "cell_type": "code",
      "metadata": {
        "id": "ACknDXsnzmR9"
      },
      "source": [
        ""
      ],
      "execution_count": null,
      "outputs": []
    },
    {
      "cell_type": "code",
      "metadata": {
        "id": "LbZKiXgQzmMM"
      },
      "source": [
        ""
      ],
      "execution_count": null,
      "outputs": []
    },
    {
      "cell_type": "code",
      "metadata": {
        "id": "clZBm76HA2HX"
      },
      "source": [
        ""
      ],
      "execution_count": null,
      "outputs": []
    }
  ]
}