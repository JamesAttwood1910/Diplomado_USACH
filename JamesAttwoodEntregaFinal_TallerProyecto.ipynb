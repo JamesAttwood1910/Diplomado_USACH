{
  "nbformat": 4,
  "nbformat_minor": 0,
  "metadata": {
    "colab": {
      "name": "JamesAttwoodEntregaFinal_TallerProyecto.ipynb",
      "provenance": [],
      "toc_visible": true,
      "collapsed_sections": [],
      "authorship_tag": "ABX9TyM4+JeYJ2N5KgCn3aDQOUwZ",
      "include_colab_link": true
    },
    "kernelspec": {
      "name": "python3",
      "display_name": "Python 3"
    },
    "language_info": {
      "name": "python"
    }
  },
  "cells": [
    {
      "cell_type": "markdown",
      "metadata": {
        "id": "view-in-github",
        "colab_type": "text"
      },
      "source": [
        "<a href=\"https://colab.research.google.com/github/JamesAttwood1910/Diplomado_USACH/blob/main/JamesAttwoodEntregaFinal_TallerProyecto.ipynb\" target=\"_parent\"><img src=\"https://colab.research.google.com/assets/colab-badge.svg\" alt=\"Open In Colab\"/></a>"
      ]
    },
    {
      "cell_type": "markdown",
      "source": [
        "### 1) Datos y Librerías"
      ],
      "metadata": {
        "id": "Of8nSewlEpSI"
      }
    },
    {
      "cell_type": "code",
      "execution_count": null,
      "metadata": {
        "id": "IrNJSm4WmwMg"
      },
      "outputs": [],
      "source": [
        "# Librerías bascias\n",
        "\n",
        "import pandas as pd\n",
        "import numpy as np\n",
        "import matplotlib.pyplot as plt\n",
        "import seaborn as sns"
      ]
    },
    {
      "cell_type": "code",
      "source": [
        "# Librerías para crear, y evaluar modelos\n",
        "\n",
        "from sklearn.linear_model import LogisticRegression\n",
        "from sklearn.preprocessing import StandardScaler\n",
        "from sklearn.linear_model import LogisticRegression\n",
        "from sklearn.pipeline import Pipeline\n",
        "from sklearn.metrics import f1_score, recall_score, precision_score, roc_curve, roc_auc_score, classification_report, accuracy_score, confusion_matrix \n",
        "from sklearn import metrics \n",
        "from sklearn.model_selection import KFold\n",
        "from sklearn.model_selection import GridSearchCV\n",
        "from sklearn.preprocessing import RobustScaler\n",
        "from sklearn.ensemble import BaggingClassifier\n",
        "from sklearn.tree import DecisionTreeClassifier\n",
        "from xgboost import XGBClassifier"
      ],
      "metadata": {
        "id": "mPAZ5BI6Ig_w"
      },
      "execution_count": null,
      "outputs": []
    },
    {
      "cell_type": "code",
      "source": [
        "# Importacion de los datos\n",
        "\n",
        "from google.colab import drive\n",
        "drive.mount('/content/drive/')"
      ],
      "metadata": {
        "colab": {
          "base_uri": "https://localhost:8080/"
        },
        "id": "VBgtVtxVm7v1",
        "outputId": "806f0976-90f9-48cf-93c1-ca81408e85a6"
      },
      "execution_count": null,
      "outputs": [
        {
          "output_type": "stream",
          "name": "stdout",
          "text": [
            "Mounted at /content/drive/\n"
          ]
        }
      ]
    },
    {
      "cell_type": "code",
      "source": [
        "PdM_final_final_target = pd.read_csv('/content/drive/MyDrive/TallerProyecto/PdM_final_final_target.csv')"
      ],
      "metadata": {
        "id": "3d1czINnqFpK"
      },
      "execution_count": null,
      "outputs": []
    },
    {
      "cell_type": "markdown",
      "source": [
        "### 2) Modelamiento"
      ],
      "metadata": {
        "id": "GUYNlxfPqJvY"
      }
    },
    {
      "cell_type": "markdown",
      "source": [
        "**Selección de algoritmos**\n",
        "\n",
        "A continuación se entrenarán cuatro modelos de classificación. \n",
        "\n",
        "- Decision Tree\n",
        "- Random Forest\n",
        "- Decision Tree Bagging\n",
        "- XGBoost\n",
        "\n",
        "Cada modelo se entrenará tres veces: \n",
        "\n",
        "- La primera vez para predecir si una falla va a pasar con un periodo de anticipación de **tres horas**. \n",
        "- La segunda vez para predecir si una falla va a pasar con un periodo de anticipación de **sies horas**.\n",
        "- La tercera vez para predecir si una falla va a pasar con un periodo de anticipación de **doce horas**.\n",
        "\n",
        "El modelo **Decision Tree** se ha elegido ya que es rapido para entrenar y puede dar una idea rapidamente del poder predictivo de los datos. \n",
        "\n",
        "**Random Forest** y **Decison Tree Bagging** se han elegido ya que pueden reducir el sobreajuste que un modelo Decision Tree pueda experimentar. Tambien Random Forest da la opción de extraer cuales variables tienen mas importancia en el modelo. \n",
        "\n",
        "Parecidamente **XGBoost** se ha elegido ya que los variables con mas importancia en el modelo se pueden extraer. Tambien, a differencia de los otros modelos elegidos, da un porcentaje para cada predicción y por tanto su umbral de decision puede ser optimizado. \n",
        "\n"
      ],
      "metadata": {
        "id": "lxJISXcODMeX"
      }
    },
    {
      "cell_type": "markdown",
      "source": [
        "#### 2.1) Preparación de datos\n",
        "\n",
        "A continuación las siguientes variables se removerán de la base de datos por las razones comentadas: \n",
        "\n",
        "- Unnamed: 0 (variable creada al cargar la base de datos) \n",
        "- failure_binomial (se ha remplazado como la variable dependiente por 3_hours, 6_hours, 12_hours)\n",
        "- date (se ha remplzado por variables unicas para año, mes, dia de la semana, y hora)\n",
        "- model_age (nueva variable creada para edad escalada)\n",
        "- new_index (el numero de identifiación para cada registro en la base de datos) \n",
        "- hours_to_failure (variable utilizada en la creación de las variables dependientes, no se requiere en etapa de entrenamiento). \n",
        "\n",
        "Tambien los valores faltantes en las variables de dias desde ultimo mantenimiento y error cuando el primer mantenimiento o error no hubiera pasado se remplazarán con un valor de 0. "
      ],
      "metadata": {
        "id": "sI8WCDeQFUXY"
      }
    },
    {
      "cell_type": "code",
      "source": [
        "data = PdM_final_final_target "
      ],
      "metadata": {
        "id": "TZmrOXfJp9xx"
      },
      "execution_count": null,
      "outputs": []
    },
    {
      "cell_type": "code",
      "source": [
        "del data['Unnamed: 0']"
      ],
      "metadata": {
        "id": "Bd-PJaw8rvUk"
      },
      "execution_count": null,
      "outputs": []
    },
    {
      "cell_type": "code",
      "source": [
        "data.head()"
      ],
      "metadata": {
        "colab": {
          "base_uri": "https://localhost:8080/",
          "height": 386
        },
        "id": "Gdor4OetqaZd",
        "outputId": "7926a7ea-e4d5-4c03-b186-3c332bfb352b"
      },
      "execution_count": null,
      "outputs": [
        {
          "output_type": "execute_result",
          "data": {
            "text/html": [
              "\n",
              "  <div id=\"df-8cebd312-18f7-4f7c-afc8-9841065de150\">\n",
              "    <div class=\"colab-df-container\">\n",
              "      <div>\n",
              "<style scoped>\n",
              "    .dataframe tbody tr th:only-of-type {\n",
              "        vertical-align: middle;\n",
              "    }\n",
              "\n",
              "    .dataframe tbody tr th {\n",
              "        vertical-align: top;\n",
              "    }\n",
              "\n",
              "    .dataframe thead th {\n",
              "        text-align: right;\n",
              "    }\n",
              "</style>\n",
              "<table border=\"1\" class=\"dataframe\">\n",
              "  <thead>\n",
              "    <tr style=\"text-align: right;\">\n",
              "      <th></th>\n",
              "      <th>new_index</th>\n",
              "      <th>machineID</th>\n",
              "      <th>date</th>\n",
              "      <th>volt</th>\n",
              "      <th>rotate</th>\n",
              "      <th>pressure</th>\n",
              "      <th>vibration</th>\n",
              "      <th>model_age</th>\n",
              "      <th>year</th>\n",
              "      <th>month</th>\n",
              "      <th>weekday</th>\n",
              "      <th>hour</th>\n",
              "      <th>model_age_scaled</th>\n",
              "      <th>failure_binomial</th>\n",
              "      <th>errorID_error1</th>\n",
              "      <th>errorID_error2</th>\n",
              "      <th>errorID_error3</th>\n",
              "      <th>errorID_error4</th>\n",
              "      <th>errorID_error5</th>\n",
              "      <th>maintenance_comp1</th>\n",
              "      <th>maintenance_comp2</th>\n",
              "      <th>maintenance_comp3</th>\n",
              "      <th>maintenance_comp4</th>\n",
              "      <th>volt_media_3_horas</th>\n",
              "      <th>rotate_media_3_horas</th>\n",
              "      <th>pressure_media_3_horas</th>\n",
              "      <th>vibration_media_3_horas</th>\n",
              "      <th>volt_max_3_horas</th>\n",
              "      <th>rotate_max_3_horas</th>\n",
              "      <th>pressure_max_3_horas</th>\n",
              "      <th>vibration_max_3_horas</th>\n",
              "      <th>volt_min_3_horas</th>\n",
              "      <th>rotate_min_3_horas</th>\n",
              "      <th>pressure_min_3_horas</th>\n",
              "      <th>vibration_min_3_horas</th>\n",
              "      <th>volt_std_3_horas</th>\n",
              "      <th>rotate_std_3_horas</th>\n",
              "      <th>pressure_std_3_horas</th>\n",
              "      <th>vibration_std_3_horas</th>\n",
              "      <th>volt_media_6_horas</th>\n",
              "      <th>...</th>\n",
              "      <th>rotate_max_6_horas</th>\n",
              "      <th>pressure_max_6_horas</th>\n",
              "      <th>vibration_max_6_horas</th>\n",
              "      <th>volt_min_6_horas</th>\n",
              "      <th>rotate_min_6_horas</th>\n",
              "      <th>pressure_min_6_horas</th>\n",
              "      <th>vibration_min_6_horas</th>\n",
              "      <th>volt_std_6_horas</th>\n",
              "      <th>rotate_std_6_horas</th>\n",
              "      <th>pressure_std_6_horas</th>\n",
              "      <th>vibration_std_6_horas</th>\n",
              "      <th>volt_media_12_horas</th>\n",
              "      <th>rotate_media_12_horas</th>\n",
              "      <th>pressure_media_12_horas</th>\n",
              "      <th>vibration_media_12_horas</th>\n",
              "      <th>volt_max_12_horas</th>\n",
              "      <th>rotate_max_12_horas</th>\n",
              "      <th>pressure_max_12_horas</th>\n",
              "      <th>vibration_max_12_horas</th>\n",
              "      <th>volt_min_12_horas</th>\n",
              "      <th>rotate_min_12_horas</th>\n",
              "      <th>pressure_min_12_horas</th>\n",
              "      <th>vibration_min_12_horas</th>\n",
              "      <th>volt_std_12_horas</th>\n",
              "      <th>rotate_std_12_horas</th>\n",
              "      <th>pressure_std_12_horas</th>\n",
              "      <th>vibration_std_12_horas</th>\n",
              "      <th>days_since_last_errorID_error1</th>\n",
              "      <th>days_since_last_errorID_error2</th>\n",
              "      <th>days_since_last_errorID_error3</th>\n",
              "      <th>days_since_last_errorID_error4</th>\n",
              "      <th>days_since_last_errorID_error5</th>\n",
              "      <th>days_since_last_maintenance_comp1</th>\n",
              "      <th>days_since_last_maintenance_comp2</th>\n",
              "      <th>days_since_last_maintenance_comp3</th>\n",
              "      <th>days_since_last_maintenance_comp4</th>\n",
              "      <th>hours_to_failure</th>\n",
              "      <th>3_hours</th>\n",
              "      <th>6_hours</th>\n",
              "      <th>12_hours</th>\n",
              "    </tr>\n",
              "  </thead>\n",
              "  <tbody>\n",
              "    <tr>\n",
              "      <th>0</th>\n",
              "      <td>1</td>\n",
              "      <td>1</td>\n",
              "      <td>2015-01-01 06:00:00</td>\n",
              "      <td>0.499928</td>\n",
              "      <td>0.503194</td>\n",
              "      <td>0.459050</td>\n",
              "      <td>0.487945</td>\n",
              "      <td>18.0</td>\n",
              "      <td>2015</td>\n",
              "      <td>1</td>\n",
              "      <td>3</td>\n",
              "      <td>6</td>\n",
              "      <td>1.144519</td>\n",
              "      <td>0</td>\n",
              "      <td>0</td>\n",
              "      <td>0</td>\n",
              "      <td>0</td>\n",
              "      <td>0</td>\n",
              "      <td>0</td>\n",
              "      <td>0</td>\n",
              "      <td>0</td>\n",
              "      <td>0</td>\n",
              "      <td>0</td>\n",
              "      <td>0.000000</td>\n",
              "      <td>0.000000</td>\n",
              "      <td>0.000000</td>\n",
              "      <td>0.000000</td>\n",
              "      <td>0.000000</td>\n",
              "      <td>0.000000</td>\n",
              "      <td>0.000000</td>\n",
              "      <td>0.000000</td>\n",
              "      <td>0.000000</td>\n",
              "      <td>0.000000</td>\n",
              "      <td>0.00000</td>\n",
              "      <td>0.000000</td>\n",
              "      <td>0.000000</td>\n",
              "      <td>0.000000</td>\n",
              "      <td>0.000000</td>\n",
              "      <td>0.000000</td>\n",
              "      <td>0.0</td>\n",
              "      <td>...</td>\n",
              "      <td>0.0</td>\n",
              "      <td>0.0</td>\n",
              "      <td>0.0</td>\n",
              "      <td>0.0</td>\n",
              "      <td>0.0</td>\n",
              "      <td>0.0</td>\n",
              "      <td>0.0</td>\n",
              "      <td>0.0</td>\n",
              "      <td>0.0</td>\n",
              "      <td>0.0</td>\n",
              "      <td>0.0</td>\n",
              "      <td>0.0</td>\n",
              "      <td>0.0</td>\n",
              "      <td>0.0</td>\n",
              "      <td>0.0</td>\n",
              "      <td>0.0</td>\n",
              "      <td>0.0</td>\n",
              "      <td>0.0</td>\n",
              "      <td>0.0</td>\n",
              "      <td>0.0</td>\n",
              "      <td>0.0</td>\n",
              "      <td>0.0</td>\n",
              "      <td>0.0</td>\n",
              "      <td>0.0</td>\n",
              "      <td>0.0</td>\n",
              "      <td>0.0</td>\n",
              "      <td>0.0</td>\n",
              "      <td>NaN</td>\n",
              "      <td>NaN</td>\n",
              "      <td>NaN</td>\n",
              "      <td>NaN</td>\n",
              "      <td>NaN</td>\n",
              "      <td>NaN</td>\n",
              "      <td>NaN</td>\n",
              "      <td>NaN</td>\n",
              "      <td>NaN</td>\n",
              "      <td>96.0</td>\n",
              "      <td>0</td>\n",
              "      <td>0</td>\n",
              "      <td>0</td>\n",
              "    </tr>\n",
              "    <tr>\n",
              "      <th>1</th>\n",
              "      <td>2</td>\n",
              "      <td>1</td>\n",
              "      <td>2015-01-01 07:00:00</td>\n",
              "      <td>0.415395</td>\n",
              "      <td>0.474884</td>\n",
              "      <td>0.328274</td>\n",
              "      <td>0.460912</td>\n",
              "      <td>18.0</td>\n",
              "      <td>2015</td>\n",
              "      <td>1</td>\n",
              "      <td>3</td>\n",
              "      <td>7</td>\n",
              "      <td>1.144519</td>\n",
              "      <td>0</td>\n",
              "      <td>0</td>\n",
              "      <td>0</td>\n",
              "      <td>0</td>\n",
              "      <td>0</td>\n",
              "      <td>0</td>\n",
              "      <td>0</td>\n",
              "      <td>0</td>\n",
              "      <td>0</td>\n",
              "      <td>0</td>\n",
              "      <td>0.000000</td>\n",
              "      <td>0.000000</td>\n",
              "      <td>0.000000</td>\n",
              "      <td>0.000000</td>\n",
              "      <td>0.000000</td>\n",
              "      <td>0.000000</td>\n",
              "      <td>0.000000</td>\n",
              "      <td>0.000000</td>\n",
              "      <td>0.000000</td>\n",
              "      <td>0.000000</td>\n",
              "      <td>0.00000</td>\n",
              "      <td>0.000000</td>\n",
              "      <td>0.000000</td>\n",
              "      <td>0.000000</td>\n",
              "      <td>0.000000</td>\n",
              "      <td>0.000000</td>\n",
              "      <td>0.0</td>\n",
              "      <td>...</td>\n",
              "      <td>0.0</td>\n",
              "      <td>0.0</td>\n",
              "      <td>0.0</td>\n",
              "      <td>0.0</td>\n",
              "      <td>0.0</td>\n",
              "      <td>0.0</td>\n",
              "      <td>0.0</td>\n",
              "      <td>0.0</td>\n",
              "      <td>0.0</td>\n",
              "      <td>0.0</td>\n",
              "      <td>0.0</td>\n",
              "      <td>0.0</td>\n",
              "      <td>0.0</td>\n",
              "      <td>0.0</td>\n",
              "      <td>0.0</td>\n",
              "      <td>0.0</td>\n",
              "      <td>0.0</td>\n",
              "      <td>0.0</td>\n",
              "      <td>0.0</td>\n",
              "      <td>0.0</td>\n",
              "      <td>0.0</td>\n",
              "      <td>0.0</td>\n",
              "      <td>0.0</td>\n",
              "      <td>0.0</td>\n",
              "      <td>0.0</td>\n",
              "      <td>0.0</td>\n",
              "      <td>0.0</td>\n",
              "      <td>NaN</td>\n",
              "      <td>NaN</td>\n",
              "      <td>NaN</td>\n",
              "      <td>NaN</td>\n",
              "      <td>NaN</td>\n",
              "      <td>NaN</td>\n",
              "      <td>NaN</td>\n",
              "      <td>NaN</td>\n",
              "      <td>NaN</td>\n",
              "      <td>95.0</td>\n",
              "      <td>0</td>\n",
              "      <td>0</td>\n",
              "      <td>0</td>\n",
              "    </tr>\n",
              "    <tr>\n",
              "      <th>2</th>\n",
              "      <td>3</td>\n",
              "      <td>1</td>\n",
              "      <td>2015-01-01 08:00:00</td>\n",
              "      <td>0.466796</td>\n",
              "      <td>0.698752</td>\n",
              "      <td>0.178160</td>\n",
              "      <td>0.311752</td>\n",
              "      <td>18.0</td>\n",
              "      <td>2015</td>\n",
              "      <td>1</td>\n",
              "      <td>3</td>\n",
              "      <td>8</td>\n",
              "      <td>1.144519</td>\n",
              "      <td>0</td>\n",
              "      <td>0</td>\n",
              "      <td>0</td>\n",
              "      <td>0</td>\n",
              "      <td>0</td>\n",
              "      <td>0</td>\n",
              "      <td>0</td>\n",
              "      <td>0</td>\n",
              "      <td>0</td>\n",
              "      <td>0</td>\n",
              "      <td>0.460706</td>\n",
              "      <td>0.558943</td>\n",
              "      <td>0.321828</td>\n",
              "      <td>0.420203</td>\n",
              "      <td>0.499928</td>\n",
              "      <td>0.698752</td>\n",
              "      <td>0.459050</td>\n",
              "      <td>0.487945</td>\n",
              "      <td>0.415395</td>\n",
              "      <td>0.474884</td>\n",
              "      <td>0.17816</td>\n",
              "      <td>0.311752</td>\n",
              "      <td>0.042594</td>\n",
              "      <td>0.121903</td>\n",
              "      <td>0.140556</td>\n",
              "      <td>0.094889</td>\n",
              "      <td>0.0</td>\n",
              "      <td>...</td>\n",
              "      <td>0.0</td>\n",
              "      <td>0.0</td>\n",
              "      <td>0.0</td>\n",
              "      <td>0.0</td>\n",
              "      <td>0.0</td>\n",
              "      <td>0.0</td>\n",
              "      <td>0.0</td>\n",
              "      <td>0.0</td>\n",
              "      <td>0.0</td>\n",
              "      <td>0.0</td>\n",
              "      <td>0.0</td>\n",
              "      <td>0.0</td>\n",
              "      <td>0.0</td>\n",
              "      <td>0.0</td>\n",
              "      <td>0.0</td>\n",
              "      <td>0.0</td>\n",
              "      <td>0.0</td>\n",
              "      <td>0.0</td>\n",
              "      <td>0.0</td>\n",
              "      <td>0.0</td>\n",
              "      <td>0.0</td>\n",
              "      <td>0.0</td>\n",
              "      <td>0.0</td>\n",
              "      <td>0.0</td>\n",
              "      <td>0.0</td>\n",
              "      <td>0.0</td>\n",
              "      <td>0.0</td>\n",
              "      <td>NaN</td>\n",
              "      <td>NaN</td>\n",
              "      <td>NaN</td>\n",
              "      <td>NaN</td>\n",
              "      <td>NaN</td>\n",
              "      <td>NaN</td>\n",
              "      <td>NaN</td>\n",
              "      <td>NaN</td>\n",
              "      <td>NaN</td>\n",
              "      <td>94.0</td>\n",
              "      <td>0</td>\n",
              "      <td>0</td>\n",
              "      <td>0</td>\n",
              "    </tr>\n",
              "    <tr>\n",
              "      <th>3</th>\n",
              "      <td>4</td>\n",
              "      <td>1</td>\n",
              "      <td>2015-01-01 09:00:00</td>\n",
              "      <td>0.412756</td>\n",
              "      <td>0.373197</td>\n",
              "      <td>0.430624</td>\n",
              "      <td>0.423896</td>\n",
              "      <td>18.0</td>\n",
              "      <td>2015</td>\n",
              "      <td>1</td>\n",
              "      <td>3</td>\n",
              "      <td>9</td>\n",
              "      <td>1.144519</td>\n",
              "      <td>0</td>\n",
              "      <td>0</td>\n",
              "      <td>0</td>\n",
              "      <td>0</td>\n",
              "      <td>0</td>\n",
              "      <td>0</td>\n",
              "      <td>0</td>\n",
              "      <td>0</td>\n",
              "      <td>0</td>\n",
              "      <td>0</td>\n",
              "      <td>0.431649</td>\n",
              "      <td>0.515611</td>\n",
              "      <td>0.312353</td>\n",
              "      <td>0.398853</td>\n",
              "      <td>0.466796</td>\n",
              "      <td>0.698752</td>\n",
              "      <td>0.430624</td>\n",
              "      <td>0.460912</td>\n",
              "      <td>0.412756</td>\n",
              "      <td>0.373197</td>\n",
              "      <td>0.17816</td>\n",
              "      <td>0.311752</td>\n",
              "      <td>0.030467</td>\n",
              "      <td>0.166555</td>\n",
              "      <td>0.126983</td>\n",
              "      <td>0.077670</td>\n",
              "      <td>0.0</td>\n",
              "      <td>...</td>\n",
              "      <td>0.0</td>\n",
              "      <td>0.0</td>\n",
              "      <td>0.0</td>\n",
              "      <td>0.0</td>\n",
              "      <td>0.0</td>\n",
              "      <td>0.0</td>\n",
              "      <td>0.0</td>\n",
              "      <td>0.0</td>\n",
              "      <td>0.0</td>\n",
              "      <td>0.0</td>\n",
              "      <td>0.0</td>\n",
              "      <td>0.0</td>\n",
              "      <td>0.0</td>\n",
              "      <td>0.0</td>\n",
              "      <td>0.0</td>\n",
              "      <td>0.0</td>\n",
              "      <td>0.0</td>\n",
              "      <td>0.0</td>\n",
              "      <td>0.0</td>\n",
              "      <td>0.0</td>\n",
              "      <td>0.0</td>\n",
              "      <td>0.0</td>\n",
              "      <td>0.0</td>\n",
              "      <td>0.0</td>\n",
              "      <td>0.0</td>\n",
              "      <td>0.0</td>\n",
              "      <td>0.0</td>\n",
              "      <td>NaN</td>\n",
              "      <td>NaN</td>\n",
              "      <td>NaN</td>\n",
              "      <td>NaN</td>\n",
              "      <td>NaN</td>\n",
              "      <td>NaN</td>\n",
              "      <td>NaN</td>\n",
              "      <td>NaN</td>\n",
              "      <td>NaN</td>\n",
              "      <td>93.0</td>\n",
              "      <td>0</td>\n",
              "      <td>0</td>\n",
              "      <td>0</td>\n",
              "    </tr>\n",
              "    <tr>\n",
              "      <th>4</th>\n",
              "      <td>5</td>\n",
              "      <td>1</td>\n",
              "      <td>2015-01-01 10:00:00</td>\n",
              "      <td>0.382001</td>\n",
              "      <td>0.533508</td>\n",
              "      <td>0.450207</td>\n",
              "      <td>0.179498</td>\n",
              "      <td>18.0</td>\n",
              "      <td>2015</td>\n",
              "      <td>1</td>\n",
              "      <td>3</td>\n",
              "      <td>10</td>\n",
              "      <td>1.144519</td>\n",
              "      <td>0</td>\n",
              "      <td>0</td>\n",
              "      <td>0</td>\n",
              "      <td>0</td>\n",
              "      <td>0</td>\n",
              "      <td>0</td>\n",
              "      <td>0</td>\n",
              "      <td>0</td>\n",
              "      <td>0</td>\n",
              "      <td>0</td>\n",
              "      <td>0.420518</td>\n",
              "      <td>0.535152</td>\n",
              "      <td>0.352997</td>\n",
              "      <td>0.305049</td>\n",
              "      <td>0.466796</td>\n",
              "      <td>0.698752</td>\n",
              "      <td>0.450207</td>\n",
              "      <td>0.423896</td>\n",
              "      <td>0.382001</td>\n",
              "      <td>0.373197</td>\n",
              "      <td>0.17816</td>\n",
              "      <td>0.179498</td>\n",
              "      <td>0.042927</td>\n",
              "      <td>0.162784</td>\n",
              "      <td>0.151729</td>\n",
              "      <td>0.122337</td>\n",
              "      <td>0.0</td>\n",
              "      <td>...</td>\n",
              "      <td>0.0</td>\n",
              "      <td>0.0</td>\n",
              "      <td>0.0</td>\n",
              "      <td>0.0</td>\n",
              "      <td>0.0</td>\n",
              "      <td>0.0</td>\n",
              "      <td>0.0</td>\n",
              "      <td>0.0</td>\n",
              "      <td>0.0</td>\n",
              "      <td>0.0</td>\n",
              "      <td>0.0</td>\n",
              "      <td>0.0</td>\n",
              "      <td>0.0</td>\n",
              "      <td>0.0</td>\n",
              "      <td>0.0</td>\n",
              "      <td>0.0</td>\n",
              "      <td>0.0</td>\n",
              "      <td>0.0</td>\n",
              "      <td>0.0</td>\n",
              "      <td>0.0</td>\n",
              "      <td>0.0</td>\n",
              "      <td>0.0</td>\n",
              "      <td>0.0</td>\n",
              "      <td>0.0</td>\n",
              "      <td>0.0</td>\n",
              "      <td>0.0</td>\n",
              "      <td>0.0</td>\n",
              "      <td>NaN</td>\n",
              "      <td>NaN</td>\n",
              "      <td>NaN</td>\n",
              "      <td>NaN</td>\n",
              "      <td>NaN</td>\n",
              "      <td>NaN</td>\n",
              "      <td>NaN</td>\n",
              "      <td>NaN</td>\n",
              "      <td>NaN</td>\n",
              "      <td>92.0</td>\n",
              "      <td>0</td>\n",
              "      <td>0</td>\n",
              "      <td>0</td>\n",
              "    </tr>\n",
              "  </tbody>\n",
              "</table>\n",
              "<p>5 rows × 84 columns</p>\n",
              "</div>\n",
              "      <button class=\"colab-df-convert\" onclick=\"convertToInteractive('df-8cebd312-18f7-4f7c-afc8-9841065de150')\"\n",
              "              title=\"Convert this dataframe to an interactive table.\"\n",
              "              style=\"display:none;\">\n",
              "        \n",
              "  <svg xmlns=\"http://www.w3.org/2000/svg\" height=\"24px\"viewBox=\"0 0 24 24\"\n",
              "       width=\"24px\">\n",
              "    <path d=\"M0 0h24v24H0V0z\" fill=\"none\"/>\n",
              "    <path d=\"M18.56 5.44l.94 2.06.94-2.06 2.06-.94-2.06-.94-.94-2.06-.94 2.06-2.06.94zm-11 1L8.5 8.5l.94-2.06 2.06-.94-2.06-.94L8.5 2.5l-.94 2.06-2.06.94zm10 10l.94 2.06.94-2.06 2.06-.94-2.06-.94-.94-2.06-.94 2.06-2.06.94z\"/><path d=\"M17.41 7.96l-1.37-1.37c-.4-.4-.92-.59-1.43-.59-.52 0-1.04.2-1.43.59L10.3 9.45l-7.72 7.72c-.78.78-.78 2.05 0 2.83L4 21.41c.39.39.9.59 1.41.59.51 0 1.02-.2 1.41-.59l7.78-7.78 2.81-2.81c.8-.78.8-2.07 0-2.86zM5.41 20L4 18.59l7.72-7.72 1.47 1.35L5.41 20z\"/>\n",
              "  </svg>\n",
              "      </button>\n",
              "      \n",
              "  <style>\n",
              "    .colab-df-container {\n",
              "      display:flex;\n",
              "      flex-wrap:wrap;\n",
              "      gap: 12px;\n",
              "    }\n",
              "\n",
              "    .colab-df-convert {\n",
              "      background-color: #E8F0FE;\n",
              "      border: none;\n",
              "      border-radius: 50%;\n",
              "      cursor: pointer;\n",
              "      display: none;\n",
              "      fill: #1967D2;\n",
              "      height: 32px;\n",
              "      padding: 0 0 0 0;\n",
              "      width: 32px;\n",
              "    }\n",
              "\n",
              "    .colab-df-convert:hover {\n",
              "      background-color: #E2EBFA;\n",
              "      box-shadow: 0px 1px 2px rgba(60, 64, 67, 0.3), 0px 1px 3px 1px rgba(60, 64, 67, 0.15);\n",
              "      fill: #174EA6;\n",
              "    }\n",
              "\n",
              "    [theme=dark] .colab-df-convert {\n",
              "      background-color: #3B4455;\n",
              "      fill: #D2E3FC;\n",
              "    }\n",
              "\n",
              "    [theme=dark] .colab-df-convert:hover {\n",
              "      background-color: #434B5C;\n",
              "      box-shadow: 0px 1px 3px 1px rgba(0, 0, 0, 0.15);\n",
              "      filter: drop-shadow(0px 1px 2px rgba(0, 0, 0, 0.3));\n",
              "      fill: #FFFFFF;\n",
              "    }\n",
              "  </style>\n",
              "\n",
              "      <script>\n",
              "        const buttonEl =\n",
              "          document.querySelector('#df-8cebd312-18f7-4f7c-afc8-9841065de150 button.colab-df-convert');\n",
              "        buttonEl.style.display =\n",
              "          google.colab.kernel.accessAllowed ? 'block' : 'none';\n",
              "\n",
              "        async function convertToInteractive(key) {\n",
              "          const element = document.querySelector('#df-8cebd312-18f7-4f7c-afc8-9841065de150');\n",
              "          const dataTable =\n",
              "            await google.colab.kernel.invokeFunction('convertToInteractive',\n",
              "                                                     [key], {});\n",
              "          if (!dataTable) return;\n",
              "\n",
              "          const docLinkHtml = 'Like what you see? Visit the ' +\n",
              "            '<a target=\"_blank\" href=https://colab.research.google.com/notebooks/data_table.ipynb>data table notebook</a>'\n",
              "            + ' to learn more about interactive tables.';\n",
              "          element.innerHTML = '';\n",
              "          dataTable['output_type'] = 'display_data';\n",
              "          await google.colab.output.renderOutput(dataTable, element);\n",
              "          const docLink = document.createElement('div');\n",
              "          docLink.innerHTML = docLinkHtml;\n",
              "          element.appendChild(docLink);\n",
              "        }\n",
              "      </script>\n",
              "    </div>\n",
              "  </div>\n",
              "  "
            ],
            "text/plain": [
              "   new_index  machineID                 date  ...  3_hours  6_hours  12_hours\n",
              "0          1          1  2015-01-01 06:00:00  ...        0        0         0\n",
              "1          2          1  2015-01-01 07:00:00  ...        0        0         0\n",
              "2          3          1  2015-01-01 08:00:00  ...        0        0         0\n",
              "3          4          1  2015-01-01 09:00:00  ...        0        0         0\n",
              "4          5          1  2015-01-01 10:00:00  ...        0        0         0\n",
              "\n",
              "[5 rows x 84 columns]"
            ]
          },
          "metadata": {},
          "execution_count": 8
        }
      ]
    },
    {
      "cell_type": "code",
      "source": [
        "data.info()"
      ],
      "metadata": {
        "colab": {
          "base_uri": "https://localhost:8080/"
        },
        "id": "vIGFi-q7rvNb",
        "outputId": "298c3726-86a9-4770-81e4-2121cb9983d6"
      },
      "execution_count": null,
      "outputs": [
        {
          "output_type": "stream",
          "name": "stdout",
          "text": [
            "<class 'pandas.core.frame.DataFrame'>\n",
            "RangeIndex: 876100 entries, 0 to 876099\n",
            "Data columns (total 84 columns):\n",
            " #   Column                             Non-Null Count   Dtype  \n",
            "---  ------                             --------------   -----  \n",
            " 0   new_index                          876100 non-null  int64  \n",
            " 1   machineID                          876100 non-null  int64  \n",
            " 2   date                               876100 non-null  object \n",
            " 3   volt                               876100 non-null  float64\n",
            " 4   rotate                             876100 non-null  float64\n",
            " 5   pressure                           876100 non-null  float64\n",
            " 6   vibration                          876100 non-null  float64\n",
            " 7   model_age                          876100 non-null  float64\n",
            " 8   year                               876100 non-null  int64  \n",
            " 9   month                              876100 non-null  int64  \n",
            " 10  weekday                            876100 non-null  int64  \n",
            " 11  hour                               876100 non-null  int64  \n",
            " 12  model_age_scaled                   876100 non-null  float64\n",
            " 13  failure_binomial                   876100 non-null  int64  \n",
            " 14  errorID_error1                     876100 non-null  int64  \n",
            " 15  errorID_error2                     876100 non-null  int64  \n",
            " 16  errorID_error3                     876100 non-null  int64  \n",
            " 17  errorID_error4                     876100 non-null  int64  \n",
            " 18  errorID_error5                     876100 non-null  int64  \n",
            " 19  maintenance_comp1                  876100 non-null  int64  \n",
            " 20  maintenance_comp2                  876100 non-null  int64  \n",
            " 21  maintenance_comp3                  876100 non-null  int64  \n",
            " 22  maintenance_comp4                  876100 non-null  int64  \n",
            " 23  volt_media_3_horas                 876100 non-null  float64\n",
            " 24  rotate_media_3_horas               876100 non-null  float64\n",
            " 25  pressure_media_3_horas             876100 non-null  float64\n",
            " 26  vibration_media_3_horas            876100 non-null  float64\n",
            " 27  volt_max_3_horas                   876100 non-null  float64\n",
            " 28  rotate_max_3_horas                 876100 non-null  float64\n",
            " 29  pressure_max_3_horas               876100 non-null  float64\n",
            " 30  vibration_max_3_horas              876100 non-null  float64\n",
            " 31  volt_min_3_horas                   876100 non-null  float64\n",
            " 32  rotate_min_3_horas                 876100 non-null  float64\n",
            " 33  pressure_min_3_horas               876100 non-null  float64\n",
            " 34  vibration_min_3_horas              876100 non-null  float64\n",
            " 35  volt_std_3_horas                   876100 non-null  float64\n",
            " 36  rotate_std_3_horas                 876100 non-null  float64\n",
            " 37  pressure_std_3_horas               876100 non-null  float64\n",
            " 38  vibration_std_3_horas              876100 non-null  float64\n",
            " 39  volt_media_6_horas                 876100 non-null  float64\n",
            " 40  rotate_media_6_horas               876100 non-null  float64\n",
            " 41  pressure_media_6_horas             876100 non-null  float64\n",
            " 42  vibration_media_6_horas            876100 non-null  float64\n",
            " 43  volt_max_6_horas                   876100 non-null  float64\n",
            " 44  rotate_max_6_horas                 876100 non-null  float64\n",
            " 45  pressure_max_6_horas               876100 non-null  float64\n",
            " 46  vibration_max_6_horas              876100 non-null  float64\n",
            " 47  volt_min_6_horas                   876100 non-null  float64\n",
            " 48  rotate_min_6_horas                 876100 non-null  float64\n",
            " 49  pressure_min_6_horas               876100 non-null  float64\n",
            " 50  vibration_min_6_horas              876100 non-null  float64\n",
            " 51  volt_std_6_horas                   876100 non-null  float64\n",
            " 52  rotate_std_6_horas                 876100 non-null  float64\n",
            " 53  pressure_std_6_horas               876100 non-null  float64\n",
            " 54  vibration_std_6_horas              876100 non-null  float64\n",
            " 55  volt_media_12_horas                876100 non-null  float64\n",
            " 56  rotate_media_12_horas              876100 non-null  float64\n",
            " 57  pressure_media_12_horas            876100 non-null  float64\n",
            " 58  vibration_media_12_horas           876100 non-null  float64\n",
            " 59  volt_max_12_horas                  876100 non-null  float64\n",
            " 60  rotate_max_12_horas                876100 non-null  float64\n",
            " 61  pressure_max_12_horas              876100 non-null  float64\n",
            " 62  vibration_max_12_horas             876100 non-null  float64\n",
            " 63  volt_min_12_horas                  876100 non-null  float64\n",
            " 64  rotate_min_12_horas                876100 non-null  float64\n",
            " 65  pressure_min_12_horas              876100 non-null  float64\n",
            " 66  vibration_min_12_horas             876100 non-null  float64\n",
            " 67  volt_std_12_horas                  876100 non-null  float64\n",
            " 68  rotate_std_12_horas                876100 non-null  float64\n",
            " 69  pressure_std_12_horas              876100 non-null  float64\n",
            " 70  vibration_std_12_horas             876100 non-null  float64\n",
            " 71  days_since_last_errorID_error1     804137 non-null  float64\n",
            " 72  days_since_last_errorID_error2     783680 non-null  float64\n",
            " 73  days_since_last_errorID_error3     773689 non-null  float64\n",
            " 74  days_since_last_errorID_error4     742789 non-null  float64\n",
            " 75  days_since_last_errorID_error5     628002 non-null  float64\n",
            " 76  days_since_last_maintenance_comp1  754780 non-null  float64\n",
            " 77  days_since_last_maintenance_comp2  754060 non-null  float64\n",
            " 78  days_since_last_maintenance_comp3  755860 non-null  float64\n",
            " 79  days_since_last_maintenance_comp4  738580 non-null  float64\n",
            " 80  hours_to_failure                   875668 non-null  float64\n",
            " 81  3_hours                            876100 non-null  int64  \n",
            " 82  6_hours                            876100 non-null  int64  \n",
            " 83  12_hours                           876100 non-null  int64  \n",
            "dtypes: float64(64), int64(19), object(1)\n",
            "memory usage: 561.5+ MB\n"
          ]
        }
      ]
    },
    {
      "cell_type": "code",
      "source": [
        "data_sub = data.drop(['failure_binomial','date', 'model_age', 'new_index', 'hours_to_failure'], axis=1)"
      ],
      "metadata": {
        "id": "3qU9HI_usJFs"
      },
      "execution_count": null,
      "outputs": []
    },
    {
      "cell_type": "code",
      "source": [
        "data_sub = data_sub.fillna(0)"
      ],
      "metadata": {
        "id": "dHhwd2VT8rbO"
      },
      "execution_count": null,
      "outputs": []
    },
    {
      "cell_type": "markdown",
      "source": [
        "#### 2.2) Creación de train, validation, y test"
      ],
      "metadata": {
        "id": "7eIOumrmzo19"
      }
    },
    {
      "cell_type": "markdown",
      "source": [
        "Ahora se crearán las bases de datos de train, validation, y test. La base de train se utilizará para entrenar el modelo. La base de validation se utilizará para evaluar que tan bien cada modelo se ajuste a los datos. Tras evaluar cada modelo un modelo final se elegirá y será probado con la base de datos de test. \n",
        "\n",
        "La base de datos contiene registros de 100 máquinas diferentes. No desea dividir los registros de una máquina en los tres grupos de train, validación y tes. Por lo tanto, cada máquina se asignará aleatoriamente a uno de los grupos de train, validación o test con todas sus observaciones incluidas en el grupo elegido. "
      ],
      "metadata": {
        "id": "LTL6_GtwGu_S"
      }
    },
    {
      "cell_type": "code",
      "source": [
        "pd_id = data_sub['machineID'].unique()"
      ],
      "metadata": {
        "id": "FKkm2zPq1Pjs"
      },
      "execution_count": null,
      "outputs": []
    },
    {
      "cell_type": "code",
      "source": [
        "pd_id"
      ],
      "metadata": {
        "colab": {
          "base_uri": "https://localhost:8080/"
        },
        "id": "UPNwpgUZ1XZZ",
        "outputId": "3d7742f9-53ee-4c75-d9a4-b0cb727ed958"
      },
      "execution_count": null,
      "outputs": [
        {
          "output_type": "execute_result",
          "data": {
            "text/plain": [
              "array([  1,  10, 100,  11,  12,  13,  14,  15,  16,  17,  18,  19,   2,\n",
              "        20,  21,  22,  23,  24,  25,  26,  27,  28,  29,   3,  30,  31,\n",
              "        32,  33,  34,  35,  36,  37,  38,  39,   4,  40,  41,  42,  43,\n",
              "        44,  45,  46,  47,  48,  49,   5,  50,  51,  52,  53,  54,  55,\n",
              "        56,  57,  58,  59,   6,  60,  61,  62,  63,  64,  65,  66,  67,\n",
              "        68,  69,   7,  70,  71,  72,  73,  74,  75,  76,  77,  78,  79,\n",
              "         8,  80,  81,  82,  83,  84,  85,  86,  87,  88,  89,   9,  90,\n",
              "        91,  92,  93,  94,  95,  96,  97,  98,  99])"
            ]
          },
          "metadata": {},
          "execution_count": 11
        }
      ]
    },
    {
      "cell_type": "code",
      "source": [
        "pd_id = pd.DataFrame(pd_id)"
      ],
      "metadata": {
        "id": "PHDWc7IayWZ5"
      },
      "execution_count": null,
      "outputs": []
    },
    {
      "cell_type": "code",
      "source": [
        "pd_id.rename(columns={0: \"MachineID\"}, inplace = True)"
      ],
      "metadata": {
        "id": "LstPkWxg1ay1"
      },
      "execution_count": null,
      "outputs": []
    },
    {
      "cell_type": "code",
      "source": [
        "np.random.seed(42)\n",
        "pd_id['probabilidad'] = (np.random.randint(0, 10000, pd_id.shape[0]))/10000\n",
        "pd_id=pd_id[['MachineID', 'probabilidad']]"
      ],
      "metadata": {
        "id": "_-N85w71xfzc"
      },
      "execution_count": null,
      "outputs": []
    },
    {
      "cell_type": "code",
      "source": [
        "pd_id"
      ],
      "metadata": {
        "colab": {
          "base_uri": "https://localhost:8080/",
          "height": 424
        },
        "id": "ehN-qwjvyrw3",
        "outputId": "6201f2c6-853d-4132-98c7-4545e7939031"
      },
      "execution_count": null,
      "outputs": [
        {
          "output_type": "execute_result",
          "data": {
            "text/html": [
              "\n",
              "  <div id=\"df-cf958613-d196-456c-aab9-d3d346bd2fc6\">\n",
              "    <div class=\"colab-df-container\">\n",
              "      <div>\n",
              "<style scoped>\n",
              "    .dataframe tbody tr th:only-of-type {\n",
              "        vertical-align: middle;\n",
              "    }\n",
              "\n",
              "    .dataframe tbody tr th {\n",
              "        vertical-align: top;\n",
              "    }\n",
              "\n",
              "    .dataframe thead th {\n",
              "        text-align: right;\n",
              "    }\n",
              "</style>\n",
              "<table border=\"1\" class=\"dataframe\">\n",
              "  <thead>\n",
              "    <tr style=\"text-align: right;\">\n",
              "      <th></th>\n",
              "      <th>MachineID</th>\n",
              "      <th>probabilidad</th>\n",
              "    </tr>\n",
              "  </thead>\n",
              "  <tbody>\n",
              "    <tr>\n",
              "      <th>0</th>\n",
              "      <td>1</td>\n",
              "      <td>0.7270</td>\n",
              "    </tr>\n",
              "    <tr>\n",
              "      <th>1</th>\n",
              "      <td>10</td>\n",
              "      <td>0.0860</td>\n",
              "    </tr>\n",
              "    <tr>\n",
              "      <th>2</th>\n",
              "      <td>100</td>\n",
              "      <td>0.5390</td>\n",
              "    </tr>\n",
              "    <tr>\n",
              "      <th>3</th>\n",
              "      <td>11</td>\n",
              "      <td>0.5191</td>\n",
              "    </tr>\n",
              "    <tr>\n",
              "      <th>4</th>\n",
              "      <td>12</td>\n",
              "      <td>0.5734</td>\n",
              "    </tr>\n",
              "    <tr>\n",
              "      <th>...</th>\n",
              "      <td>...</td>\n",
              "      <td>...</td>\n",
              "    </tr>\n",
              "    <tr>\n",
              "      <th>95</th>\n",
              "      <td>95</td>\n",
              "      <td>0.6736</td>\n",
              "    </tr>\n",
              "    <tr>\n",
              "      <th>96</th>\n",
              "      <td>96</td>\n",
              "      <td>0.0391</td>\n",
              "    </tr>\n",
              "    <tr>\n",
              "      <th>97</th>\n",
              "      <td>97</td>\n",
              "      <td>0.5892</td>\n",
              "    </tr>\n",
              "    <tr>\n",
              "      <th>98</th>\n",
              "      <td>98</td>\n",
              "      <td>0.3561</td>\n",
              "    </tr>\n",
              "    <tr>\n",
              "      <th>99</th>\n",
              "      <td>99</td>\n",
              "      <td>0.6184</td>\n",
              "    </tr>\n",
              "  </tbody>\n",
              "</table>\n",
              "<p>100 rows × 2 columns</p>\n",
              "</div>\n",
              "      <button class=\"colab-df-convert\" onclick=\"convertToInteractive('df-cf958613-d196-456c-aab9-d3d346bd2fc6')\"\n",
              "              title=\"Convert this dataframe to an interactive table.\"\n",
              "              style=\"display:none;\">\n",
              "        \n",
              "  <svg xmlns=\"http://www.w3.org/2000/svg\" height=\"24px\"viewBox=\"0 0 24 24\"\n",
              "       width=\"24px\">\n",
              "    <path d=\"M0 0h24v24H0V0z\" fill=\"none\"/>\n",
              "    <path d=\"M18.56 5.44l.94 2.06.94-2.06 2.06-.94-2.06-.94-.94-2.06-.94 2.06-2.06.94zm-11 1L8.5 8.5l.94-2.06 2.06-.94-2.06-.94L8.5 2.5l-.94 2.06-2.06.94zm10 10l.94 2.06.94-2.06 2.06-.94-2.06-.94-.94-2.06-.94 2.06-2.06.94z\"/><path d=\"M17.41 7.96l-1.37-1.37c-.4-.4-.92-.59-1.43-.59-.52 0-1.04.2-1.43.59L10.3 9.45l-7.72 7.72c-.78.78-.78 2.05 0 2.83L4 21.41c.39.39.9.59 1.41.59.51 0 1.02-.2 1.41-.59l7.78-7.78 2.81-2.81c.8-.78.8-2.07 0-2.86zM5.41 20L4 18.59l7.72-7.72 1.47 1.35L5.41 20z\"/>\n",
              "  </svg>\n",
              "      </button>\n",
              "      \n",
              "  <style>\n",
              "    .colab-df-container {\n",
              "      display:flex;\n",
              "      flex-wrap:wrap;\n",
              "      gap: 12px;\n",
              "    }\n",
              "\n",
              "    .colab-df-convert {\n",
              "      background-color: #E8F0FE;\n",
              "      border: none;\n",
              "      border-radius: 50%;\n",
              "      cursor: pointer;\n",
              "      display: none;\n",
              "      fill: #1967D2;\n",
              "      height: 32px;\n",
              "      padding: 0 0 0 0;\n",
              "      width: 32px;\n",
              "    }\n",
              "\n",
              "    .colab-df-convert:hover {\n",
              "      background-color: #E2EBFA;\n",
              "      box-shadow: 0px 1px 2px rgba(60, 64, 67, 0.3), 0px 1px 3px 1px rgba(60, 64, 67, 0.15);\n",
              "      fill: #174EA6;\n",
              "    }\n",
              "\n",
              "    [theme=dark] .colab-df-convert {\n",
              "      background-color: #3B4455;\n",
              "      fill: #D2E3FC;\n",
              "    }\n",
              "\n",
              "    [theme=dark] .colab-df-convert:hover {\n",
              "      background-color: #434B5C;\n",
              "      box-shadow: 0px 1px 3px 1px rgba(0, 0, 0, 0.15);\n",
              "      filter: drop-shadow(0px 1px 2px rgba(0, 0, 0, 0.3));\n",
              "      fill: #FFFFFF;\n",
              "    }\n",
              "  </style>\n",
              "\n",
              "      <script>\n",
              "        const buttonEl =\n",
              "          document.querySelector('#df-cf958613-d196-456c-aab9-d3d346bd2fc6 button.colab-df-convert');\n",
              "        buttonEl.style.display =\n",
              "          google.colab.kernel.accessAllowed ? 'block' : 'none';\n",
              "\n",
              "        async function convertToInteractive(key) {\n",
              "          const element = document.querySelector('#df-cf958613-d196-456c-aab9-d3d346bd2fc6');\n",
              "          const dataTable =\n",
              "            await google.colab.kernel.invokeFunction('convertToInteractive',\n",
              "                                                     [key], {});\n",
              "          if (!dataTable) return;\n",
              "\n",
              "          const docLinkHtml = 'Like what you see? Visit the ' +\n",
              "            '<a target=\"_blank\" href=https://colab.research.google.com/notebooks/data_table.ipynb>data table notebook</a>'\n",
              "            + ' to learn more about interactive tables.';\n",
              "          element.innerHTML = '';\n",
              "          dataTable['output_type'] = 'display_data';\n",
              "          await google.colab.output.renderOutput(dataTable, element);\n",
              "          const docLink = document.createElement('div');\n",
              "          docLink.innerHTML = docLinkHtml;\n",
              "          element.appendChild(docLink);\n",
              "        }\n",
              "      </script>\n",
              "    </div>\n",
              "  </div>\n",
              "  "
            ],
            "text/plain": [
              "    MachineID  probabilidad\n",
              "0           1        0.7270\n",
              "1          10        0.0860\n",
              "2         100        0.5390\n",
              "3          11        0.5191\n",
              "4          12        0.5734\n",
              "..        ...           ...\n",
              "95         95        0.6736\n",
              "96         96        0.0391\n",
              "97         97        0.5892\n",
              "98         98        0.3561\n",
              "99         99        0.6184\n",
              "\n",
              "[100 rows x 2 columns]"
            ]
          },
          "metadata": {},
          "execution_count": 15
        }
      ]
    },
    {
      "cell_type": "code",
      "source": [
        "pd_id['GROUPO'] = np.where(((pd_id.probabilidad <= 0.50)), 'TRAINING', \n",
        "                                   np.where(((pd_id.probabilidad <= 0.75)), 'VALIDATION', \n",
        "                                            'TESTING'))"
      ],
      "metadata": {
        "id": "Q1CYJ6SMy0t1"
      },
      "execution_count": null,
      "outputs": []
    },
    {
      "cell_type": "code",
      "source": [
        "pd_id"
      ],
      "metadata": {
        "colab": {
          "base_uri": "https://localhost:8080/",
          "height": 424
        },
        "id": "F8VB_vjfzAQ-",
        "outputId": "e4a2976b-1bcd-4064-cba8-a3538af688eb"
      },
      "execution_count": null,
      "outputs": [
        {
          "output_type": "execute_result",
          "data": {
            "text/html": [
              "\n",
              "  <div id=\"df-e8364e45-06a7-4f92-bf99-6fbf8b130080\">\n",
              "    <div class=\"colab-df-container\">\n",
              "      <div>\n",
              "<style scoped>\n",
              "    .dataframe tbody tr th:only-of-type {\n",
              "        vertical-align: middle;\n",
              "    }\n",
              "\n",
              "    .dataframe tbody tr th {\n",
              "        vertical-align: top;\n",
              "    }\n",
              "\n",
              "    .dataframe thead th {\n",
              "        text-align: right;\n",
              "    }\n",
              "</style>\n",
              "<table border=\"1\" class=\"dataframe\">\n",
              "  <thead>\n",
              "    <tr style=\"text-align: right;\">\n",
              "      <th></th>\n",
              "      <th>MachineID</th>\n",
              "      <th>probabilidad</th>\n",
              "      <th>GROUPO</th>\n",
              "    </tr>\n",
              "  </thead>\n",
              "  <tbody>\n",
              "    <tr>\n",
              "      <th>0</th>\n",
              "      <td>1</td>\n",
              "      <td>0.7270</td>\n",
              "      <td>VALIDATION</td>\n",
              "    </tr>\n",
              "    <tr>\n",
              "      <th>1</th>\n",
              "      <td>10</td>\n",
              "      <td>0.0860</td>\n",
              "      <td>TRAINING</td>\n",
              "    </tr>\n",
              "    <tr>\n",
              "      <th>2</th>\n",
              "      <td>100</td>\n",
              "      <td>0.5390</td>\n",
              "      <td>VALIDATION</td>\n",
              "    </tr>\n",
              "    <tr>\n",
              "      <th>3</th>\n",
              "      <td>11</td>\n",
              "      <td>0.5191</td>\n",
              "      <td>VALIDATION</td>\n",
              "    </tr>\n",
              "    <tr>\n",
              "      <th>4</th>\n",
              "      <td>12</td>\n",
              "      <td>0.5734</td>\n",
              "      <td>VALIDATION</td>\n",
              "    </tr>\n",
              "    <tr>\n",
              "      <th>...</th>\n",
              "      <td>...</td>\n",
              "      <td>...</td>\n",
              "      <td>...</td>\n",
              "    </tr>\n",
              "    <tr>\n",
              "      <th>95</th>\n",
              "      <td>95</td>\n",
              "      <td>0.6736</td>\n",
              "      <td>VALIDATION</td>\n",
              "    </tr>\n",
              "    <tr>\n",
              "      <th>96</th>\n",
              "      <td>96</td>\n",
              "      <td>0.0391</td>\n",
              "      <td>TRAINING</td>\n",
              "    </tr>\n",
              "    <tr>\n",
              "      <th>97</th>\n",
              "      <td>97</td>\n",
              "      <td>0.5892</td>\n",
              "      <td>VALIDATION</td>\n",
              "    </tr>\n",
              "    <tr>\n",
              "      <th>98</th>\n",
              "      <td>98</td>\n",
              "      <td>0.3561</td>\n",
              "      <td>TRAINING</td>\n",
              "    </tr>\n",
              "    <tr>\n",
              "      <th>99</th>\n",
              "      <td>99</td>\n",
              "      <td>0.6184</td>\n",
              "      <td>VALIDATION</td>\n",
              "    </tr>\n",
              "  </tbody>\n",
              "</table>\n",
              "<p>100 rows × 3 columns</p>\n",
              "</div>\n",
              "      <button class=\"colab-df-convert\" onclick=\"convertToInteractive('df-e8364e45-06a7-4f92-bf99-6fbf8b130080')\"\n",
              "              title=\"Convert this dataframe to an interactive table.\"\n",
              "              style=\"display:none;\">\n",
              "        \n",
              "  <svg xmlns=\"http://www.w3.org/2000/svg\" height=\"24px\"viewBox=\"0 0 24 24\"\n",
              "       width=\"24px\">\n",
              "    <path d=\"M0 0h24v24H0V0z\" fill=\"none\"/>\n",
              "    <path d=\"M18.56 5.44l.94 2.06.94-2.06 2.06-.94-2.06-.94-.94-2.06-.94 2.06-2.06.94zm-11 1L8.5 8.5l.94-2.06 2.06-.94-2.06-.94L8.5 2.5l-.94 2.06-2.06.94zm10 10l.94 2.06.94-2.06 2.06-.94-2.06-.94-.94-2.06-.94 2.06-2.06.94z\"/><path d=\"M17.41 7.96l-1.37-1.37c-.4-.4-.92-.59-1.43-.59-.52 0-1.04.2-1.43.59L10.3 9.45l-7.72 7.72c-.78.78-.78 2.05 0 2.83L4 21.41c.39.39.9.59 1.41.59.51 0 1.02-.2 1.41-.59l7.78-7.78 2.81-2.81c.8-.78.8-2.07 0-2.86zM5.41 20L4 18.59l7.72-7.72 1.47 1.35L5.41 20z\"/>\n",
              "  </svg>\n",
              "      </button>\n",
              "      \n",
              "  <style>\n",
              "    .colab-df-container {\n",
              "      display:flex;\n",
              "      flex-wrap:wrap;\n",
              "      gap: 12px;\n",
              "    }\n",
              "\n",
              "    .colab-df-convert {\n",
              "      background-color: #E8F0FE;\n",
              "      border: none;\n",
              "      border-radius: 50%;\n",
              "      cursor: pointer;\n",
              "      display: none;\n",
              "      fill: #1967D2;\n",
              "      height: 32px;\n",
              "      padding: 0 0 0 0;\n",
              "      width: 32px;\n",
              "    }\n",
              "\n",
              "    .colab-df-convert:hover {\n",
              "      background-color: #E2EBFA;\n",
              "      box-shadow: 0px 1px 2px rgba(60, 64, 67, 0.3), 0px 1px 3px 1px rgba(60, 64, 67, 0.15);\n",
              "      fill: #174EA6;\n",
              "    }\n",
              "\n",
              "    [theme=dark] .colab-df-convert {\n",
              "      background-color: #3B4455;\n",
              "      fill: #D2E3FC;\n",
              "    }\n",
              "\n",
              "    [theme=dark] .colab-df-convert:hover {\n",
              "      background-color: #434B5C;\n",
              "      box-shadow: 0px 1px 3px 1px rgba(0, 0, 0, 0.15);\n",
              "      filter: drop-shadow(0px 1px 2px rgba(0, 0, 0, 0.3));\n",
              "      fill: #FFFFFF;\n",
              "    }\n",
              "  </style>\n",
              "\n",
              "      <script>\n",
              "        const buttonEl =\n",
              "          document.querySelector('#df-e8364e45-06a7-4f92-bf99-6fbf8b130080 button.colab-df-convert');\n",
              "        buttonEl.style.display =\n",
              "          google.colab.kernel.accessAllowed ? 'block' : 'none';\n",
              "\n",
              "        async function convertToInteractive(key) {\n",
              "          const element = document.querySelector('#df-e8364e45-06a7-4f92-bf99-6fbf8b130080');\n",
              "          const dataTable =\n",
              "            await google.colab.kernel.invokeFunction('convertToInteractive',\n",
              "                                                     [key], {});\n",
              "          if (!dataTable) return;\n",
              "\n",
              "          const docLinkHtml = 'Like what you see? Visit the ' +\n",
              "            '<a target=\"_blank\" href=https://colab.research.google.com/notebooks/data_table.ipynb>data table notebook</a>'\n",
              "            + ' to learn more about interactive tables.';\n",
              "          element.innerHTML = '';\n",
              "          dataTable['output_type'] = 'display_data';\n",
              "          await google.colab.output.renderOutput(dataTable, element);\n",
              "          const docLink = document.createElement('div');\n",
              "          docLink.innerHTML = docLinkHtml;\n",
              "          element.appendChild(docLink);\n",
              "        }\n",
              "      </script>\n",
              "    </div>\n",
              "  </div>\n",
              "  "
            ],
            "text/plain": [
              "    MachineID  probabilidad      GROUPO\n",
              "0           1        0.7270  VALIDATION\n",
              "1          10        0.0860    TRAINING\n",
              "2         100        0.5390  VALIDATION\n",
              "3          11        0.5191  VALIDATION\n",
              "4          12        0.5734  VALIDATION\n",
              "..        ...           ...         ...\n",
              "95         95        0.6736  VALIDATION\n",
              "96         96        0.0391    TRAINING\n",
              "97         97        0.5892  VALIDATION\n",
              "98         98        0.3561    TRAINING\n",
              "99         99        0.6184  VALIDATION\n",
              "\n",
              "[100 rows x 3 columns]"
            ]
          },
          "metadata": {},
          "execution_count": 17
        }
      ]
    },
    {
      "cell_type": "code",
      "source": [
        "pd_id.groupby(['GROUPO'])['probabilidad'].count()"
      ],
      "metadata": {
        "colab": {
          "base_uri": "https://localhost:8080/"
        },
        "id": "lzBXaEmmzF4s",
        "outputId": "3b107261-5823-43d3-ea42-a11a977e5c4c"
      },
      "execution_count": null,
      "outputs": [
        {
          "output_type": "execute_result",
          "data": {
            "text/plain": [
              "GROUPO\n",
              "TESTING       28\n",
              "TRAINING      43\n",
              "VALIDATION    29\n",
              "Name: probabilidad, dtype: int64"
            ]
          },
          "metadata": {},
          "execution_count": 18
        }
      ]
    },
    {
      "cell_type": "code",
      "source": [
        "data_sub.rename(columns={'machineID': \"MachineID\"}, inplace = True)"
      ],
      "metadata": {
        "id": "PJQrsNa32IQP"
      },
      "execution_count": null,
      "outputs": []
    },
    {
      "cell_type": "code",
      "source": [
        "data_sub = data_sub.merge(pd_id, on=['MachineID'], how = 'left')"
      ],
      "metadata": {
        "id": "j-Z-IL2-2r25"
      },
      "execution_count": null,
      "outputs": []
    },
    {
      "cell_type": "code",
      "source": [
        "training = data_sub[data_sub['GROUPO'] == 'TRAINING']"
      ],
      "metadata": {
        "id": "qIuQmB_R4Y5K"
      },
      "execution_count": null,
      "outputs": []
    },
    {
      "cell_type": "code",
      "source": [
        "validation = data_sub[data_sub['GROUPO'] == 'VALIDATION']"
      ],
      "metadata": {
        "id": "9I5LGZn44rId"
      },
      "execution_count": null,
      "outputs": []
    },
    {
      "cell_type": "code",
      "source": [
        "testing = data_sub[data_sub['GROUPO'] == 'TESTING']"
      ],
      "metadata": {
        "id": "FSgPxpPx4vWo"
      },
      "execution_count": null,
      "outputs": []
    },
    {
      "cell_type": "code",
      "source": [
        "training.drop(['GROUPO','probabilidad'], axis = 1, inplace = True)"
      ],
      "metadata": {
        "id": "V7G58AWL41ua"
      },
      "execution_count": null,
      "outputs": []
    },
    {
      "cell_type": "code",
      "source": [
        "testing.drop(['GROUPO','probabilidad'], axis = 1, inplace = True)"
      ],
      "metadata": {
        "id": "0UYhcyIm5S1Y"
      },
      "execution_count": null,
      "outputs": []
    },
    {
      "cell_type": "code",
      "source": [
        "validation.drop(['GROUPO','probabilidad'], axis = 1, inplace = True)"
      ],
      "metadata": {
        "id": "a25vStJJ5TUj"
      },
      "execution_count": null,
      "outputs": []
    },
    {
      "cell_type": "code",
      "source": [
        "X_training = training.drop(['3_hours', '6_hours', '12_hours', 'MachineID'], axis =1)"
      ],
      "metadata": {
        "id": "ddeIzQr5GwDT"
      },
      "execution_count": null,
      "outputs": []
    },
    {
      "cell_type": "code",
      "source": [
        "Y1 = training['3_hours']\n",
        "Y2 = training['6_hours']\n",
        "Y3 = training['12_hours']"
      ],
      "metadata": {
        "id": "sKuP8PPCGwDV"
      },
      "execution_count": null,
      "outputs": []
    },
    {
      "cell_type": "code",
      "source": [
        "X_validation = validation.drop(['3_hours', '6_hours', '12_hours', 'MachineID'], axis =1)"
      ],
      "metadata": {
        "id": "OHjtTP5rGwDX"
      },
      "execution_count": null,
      "outputs": []
    },
    {
      "cell_type": "code",
      "source": [
        "Y1_val = validation['3_hours']\n",
        "Y2_val = validation['6_hours']\n",
        "Y3_val = validation['12_hours']"
      ],
      "metadata": {
        "id": "v5YaqjHeGwDY"
      },
      "execution_count": null,
      "outputs": []
    },
    {
      "cell_type": "code",
      "source": [
        "X_testing = testing.drop(['3_hours', '6_hours', '12_hours', 'MachineID'], axis =1)"
      ],
      "metadata": {
        "id": "h6RX0l07GwDa"
      },
      "execution_count": null,
      "outputs": []
    },
    {
      "cell_type": "code",
      "source": [
        "Y1_test = testing['3_hours']\n",
        "Y2_test = testing['6_hours']\n",
        "Y3_test = testing['12_hours']"
      ],
      "metadata": {
        "id": "64RBbpC2GwDb"
      },
      "execution_count": null,
      "outputs": []
    },
    {
      "cell_type": "markdown",
      "source": [
        "### 3) Metrica de evaluación"
      ],
      "metadata": {
        "id": "SwEKPoP33BKr"
      }
    },
    {
      "cell_type": "markdown",
      "source": [
        "Este prjecto se trata de la creación de un moelo de classificación. Por lo tanto, las metricas de evaluación que se utilizarán son: \n",
        "\n",
        "- Recall\n",
        "- Pecision\n",
        "\n",
        "Recall mostrará que tan bien los modelos reducen la cantidad de falsos negativos. \n",
        "\n",
        "Precision expondrá que tan bien los modelos reducen la cantidad de falsos positivos. \n",
        "\n",
        "En el contexto del problema de negocio se priorizará la reduccion en falsos negativos (aumento en Recall) ya que se refieren a cuando el modelo predice que no habrá una falla, pero en realidad sí la maquina fallará. Hablando economicamente un Falso Positivo (aumento en Precision) es mejor ya que solo resultará en mantención de la maquina cuando no era completamente necesaria. \n",
        "\n",
        "La metrica de accuracy no no será muy valorada ya que los datos están desequilibrados con muchos más registros de las maquinas funcionado sin una falla y, por lo tanto, será fácil obtener un resultado de alto accuracy con todos los registros clasificados como no tener una falla. \n",
        "\n",
        "A continuación una función se creará para evaluar cada modelo. \n"
      ],
      "metadata": {
        "id": "zS1DinAmMf1Q"
      }
    },
    {
      "cell_type": "code",
      "source": [
        "def evaluacion(modelo = None, umbral = 0.5, y_val_real = None):\n",
        "    print('Resltados de ' +str(modelo)+' con umbral de decision de ' +str(umbral))\n",
        "    print()\n",
        "    y_val_real_ = validation[y_val_real]\n",
        "    y_val_pred = modelo.predict(X_validation)\n",
        "    print(classification_report(y_val_real_, y_val_pred))\n",
        "    print()\n",
        "    print('Recall: ', recall_score(y_val_real_, y_val_pred, average='binary'))\n",
        "    print()\n",
        "    print('Precision: ', precision_score(y_val_real_, y_val_pred, average='binary'))\n",
        "    print()\n",
        "    print('F1: ',f1_score(y_val_real_, y_val_pred, average='binary'))\n",
        "    print()\n",
        "    print('Accuracy: ', accuracy_score(y_val_real_, y_val_pred))\n",
        "    print()\n",
        "    print('Confusion Matrix')\n",
        "    plt.figure(figsize=(10,10))\n",
        "    sns.heatmap(confusion_matrix(y_val_real_, y_val_pred), annot=True, fmt = 'g')\n",
        "    plt.title('Confusion Matrix')\n",
        "    plt.ylabel('Actual Values')\n",
        "    plt.xlabel('Predicted Values')\n",
        "    plt.show()\n"
      ],
      "metadata": {
        "id": "m3SPJEdX3EUl"
      },
      "execution_count": null,
      "outputs": []
    },
    {
      "cell_type": "markdown",
      "source": [
        "### 4) Diseño y Aplicación"
      ],
      "metadata": {
        "id": "_iCUFE2lJdFA"
      }
    },
    {
      "cell_type": "markdown",
      "source": [
        "En esta sección se entrenarán los modelos utilizando los datos de train. "
      ],
      "metadata": {
        "id": "WUOnxVAlJl_o"
      }
    },
    {
      "cell_type": "markdown",
      "source": [
        "#### 4.1) Decision Tree"
      ],
      "metadata": {
        "id": "0rSGsmuu2xPa"
      }
    },
    {
      "cell_type": "markdown",
      "source": [
        "##### DT - Tres Horas de Anticipación"
      ],
      "metadata": {
        "id": "X5W107m7KIS-"
      }
    },
    {
      "cell_type": "code",
      "source": [
        "# DT Classifier para 3 horas de anticipacion"
      ],
      "metadata": {
        "id": "fTOBi783QmH0"
      },
      "execution_count": null,
      "outputs": []
    },
    {
      "cell_type": "code",
      "source": [
        "from sklearn.tree import DecisionTreeClassifier\n",
        "DTclf = DecisionTreeClassifier()\n",
        "DTclf.fit(X_training, Y1)"
      ],
      "metadata": {
        "colab": {
          "base_uri": "https://localhost:8080/"
        },
        "id": "b8MeLP7vQH-x",
        "outputId": "55425215-38bb-47eb-8623-e337d2645806"
      },
      "execution_count": null,
      "outputs": [
        {
          "output_type": "execute_result",
          "data": {
            "text/plain": [
              "DecisionTreeClassifier()"
            ]
          },
          "metadata": {},
          "execution_count": 155
        }
      ]
    },
    {
      "cell_type": "code",
      "source": [
        "evaluacion(modelo = DTclf, y_val_real = '3_hours')"
      ],
      "metadata": {
        "colab": {
          "base_uri": "https://localhost:8080/",
          "height": 1000
        },
        "id": "-wB1QtViQH66",
        "outputId": "226ccdd4-cec6-48ce-8557-458109a34d6f"
      },
      "execution_count": null,
      "outputs": [
        {
          "output_type": "stream",
          "name": "stdout",
          "text": [
            "Resltados de DecisionTreeClassifier() con umbral de decision de 0.5\n",
            "\n",
            "              precision    recall  f1-score   support\n",
            "\n",
            "           0       1.00      1.00      1.00    253221\n",
            "           1       0.86      0.84      0.85       848\n",
            "\n",
            "    accuracy                           1.00    254069\n",
            "   macro avg       0.93      0.92      0.93    254069\n",
            "weighted avg       1.00      1.00      1.00    254069\n",
            "\n",
            "\n",
            "Recall:  0.8419811320754716\n",
            "\n",
            "Precision:  0.8612786489746683\n",
            "\n",
            "F1:  0.8515205724508049\n",
            "\n",
            "Accuracy:  0.9990199512730794\n",
            "\n",
            "Confusion Matrix\n"
          ]
        },
        {
          "output_type": "display_data",
          "data": {
            "image/png": "[encoded data removed]",
            "text/plain": [
              "<Figure size 720x720 with 2 Axes>"
            ]
          },
          "metadata": {
            "needs_background": "light"
          }
        }
      ]
    },
    {
      "cell_type": "markdown",
      "source": [
        "**Commentarios**\n",
        "\n",
        "Este modelo logra predecir 714 de 848 de las fallas con un tiempo de anticipación de 3 horas, dando un recall de 0.842. Tambien el modelo tuvo exito en la reduccion de falsos positivos. "
      ],
      "metadata": {
        "id": "ClvlEo1SKTyT"
      }
    },
    {
      "cell_type": "markdown",
      "source": [
        "##### DT - Sies Horas de Anticipación"
      ],
      "metadata": {
        "id": "SnJ0tm75Ljga"
      }
    },
    {
      "cell_type": "code",
      "source": [
        "# DT Classifier para 6 horas de anticipacion"
      ],
      "metadata": {
        "id": "GHrGWFqrQtov"
      },
      "execution_count": null,
      "outputs": []
    },
    {
      "cell_type": "code",
      "source": [
        "from sklearn.tree import DecisionTreeClassifier\n",
        "DTclf_Y2 = DecisionTreeClassifier(random_state=123)\n",
        "DTclf_Y2.fit(X_training, Y2)"
      ],
      "metadata": {
        "colab": {
          "base_uri": "https://localhost:8080/"
        },
        "id": "ZSPBTZzyQH3L",
        "outputId": "e5e84f7c-ff99-49a6-c152-2f204f51b5ea"
      },
      "execution_count": null,
      "outputs": [
        {
          "output_type": "execute_result",
          "data": {
            "text/plain": [
              "DecisionTreeClassifier(random_state=123)"
            ]
          },
          "metadata": {},
          "execution_count": 157
        }
      ]
    },
    {
      "cell_type": "code",
      "source": [
        "evaluacion(modelo = DTclf_Y2, y_val_real = '6_hours')"
      ],
      "metadata": {
        "colab": {
          "base_uri": "https://localhost:8080/",
          "height": 1000
        },
        "id": "rd2QjSvbQHvp",
        "outputId": "b977ae62-1fbe-4ad4-c660-a15af8242c6a"
      },
      "execution_count": null,
      "outputs": [
        {
          "output_type": "stream",
          "name": "stdout",
          "text": [
            "Resltados de DecisionTreeClassifier(random_state=123) con umbral de decision de 0.5\n",
            "\n",
            "              precision    recall  f1-score   support\n",
            "\n",
            "           0       1.00      1.00      1.00    252585\n",
            "           1       0.89      0.86      0.87      1484\n",
            "\n",
            "    accuracy                           1.00    254069\n",
            "   macro avg       0.94      0.93      0.94    254069\n",
            "weighted avg       1.00      1.00      1.00    254069\n",
            "\n",
            "\n",
            "Recall:  0.8578167115902965\n",
            "\n",
            "Precision:  0.8858733472512178\n",
            "\n",
            "F1:  0.8716193084560082\n",
            "\n",
            "Accuracy:  0.9985240230016256\n",
            "\n",
            "Confusion Matrix\n"
          ]
        },
        {
          "output_type": "display_data",
          "data": {
            "image/png": "[encoded data removed]",
            "text/plain": [
              "<Figure size 720x720 with 2 Axes>"
            ]
          },
          "metadata": {
            "needs_background": "light"
          }
        }
      ]
    },
    {
      "cell_type": "markdown",
      "source": [
        "**Commentarios** \n",
        "\n",
        "Al predecir la variable dependiente para una falla con 6 horas de anticipación, el Decision Tree también tuvo éxito con un recall de 0.858 y un precision de 0.886. Estos resultados son ligeramente mejores que los para el modelo de tres horas de anticipación. Esta mejora era esperable ya que la variable dependiente de seis horas está menos desequilibrada gracias al aumento del tiempo de anticipación de tres a seis horas. "
      ],
      "metadata": {
        "id": "0R83NHCxL2LY"
      }
    },
    {
      "cell_type": "markdown",
      "source": [
        "##### DT - 12 Horas de Anticipación"
      ],
      "metadata": {
        "id": "udmNLmUrOKNs"
      }
    },
    {
      "cell_type": "code",
      "source": [
        "# DT Classifier para 12 horas de anticipacion"
      ],
      "metadata": {
        "id": "3n8Dy_UtQ0SG"
      },
      "execution_count": null,
      "outputs": []
    },
    {
      "cell_type": "code",
      "source": [
        "from sklearn.tree import DecisionTreeClassifier\n",
        "DTclf_Y3 = DecisionTreeClassifier(random_state=123)\n",
        "DTclf_Y3.fit(X_training, Y3)"
      ],
      "metadata": {
        "colab": {
          "base_uri": "https://localhost:8080/"
        },
        "id": "Xv3frX9fSdf2",
        "outputId": "90b364a7-3643-41f2-ea8d-7a9bf94d5eff"
      },
      "execution_count": null,
      "outputs": [
        {
          "output_type": "execute_result",
          "data": {
            "text/plain": [
              "DecisionTreeClassifier(random_state=123)"
            ]
          },
          "metadata": {},
          "execution_count": 159
        }
      ]
    },
    {
      "cell_type": "code",
      "source": [
        "evaluacion(modelo = DTclf_Y3, y_val_real = '12_hours')"
      ],
      "metadata": {
        "colab": {
          "base_uri": "https://localhost:8080/",
          "height": 1000
        },
        "id": "TRey1BgeSq_6",
        "outputId": "a65ac976-e200-4bcb-d74f-4a96c10d91e7"
      },
      "execution_count": null,
      "outputs": [
        {
          "output_type": "stream",
          "name": "stdout",
          "text": [
            "Resltados de DecisionTreeClassifier(random_state=123) con umbral de decision de 0.5\n",
            "\n",
            "              precision    recall  f1-score   support\n",
            "\n",
            "           0       1.00      1.00      1.00    251313\n",
            "           1       0.85      0.86      0.86      2756\n",
            "\n",
            "    accuracy                           1.00    254069\n",
            "   macro avg       0.92      0.93      0.93    254069\n",
            "weighted avg       1.00      1.00      1.00    254069\n",
            "\n",
            "\n",
            "Recall:  0.863933236574746\n",
            "\n",
            "Precision:  0.850053552302749\n",
            "\n",
            "F1:  0.8569371963289544\n",
            "\n",
            "Accuracy:  0.9968709287634462\n",
            "\n",
            "Confusion Matrix\n"
          ]
        },
        {
          "output_type": "display_data",
          "data": {
            "image/png": "[encoded data removed]",
            "text/plain": [
              "<Figure size 720x720 with 2 Axes>"
            ]
          },
          "metadata": {
            "needs_background": "light"
          }
        }
      ]
    },
    {
      "cell_type": "markdown",
      "source": [
        "**Commentarios**\n",
        "\n",
        "Este modelo para predecir la variable dependiente con 12 horas de anticipación también funcionó bien con un ecall de 0.864. Sin embargo, a pesar de la reducción del desequilibrio en la variable dependiente, el modelo no tuvo un aumento en el rendimiento en comparación con el modelo de 6 horas de anticipación. "
      ],
      "metadata": {
        "id": "Dgxj2JvKNBZJ"
      }
    },
    {
      "cell_type": "markdown",
      "source": [
        "#### 4.2) Random Forest\n"
      ],
      "metadata": {
        "id": "uIIuWOaWN-xh"
      }
    },
    {
      "cell_type": "markdown",
      "source": [
        "##### RF - Tres horas de Anticipación"
      ],
      "metadata": {
        "id": "tekCFFueOD9Y"
      }
    },
    {
      "cell_type": "code",
      "source": [
        "from sklearn.ensemble import RandomForestClassifier\n",
        "RFclf = RandomForestClassifier(random_state=123)\n",
        "\n",
        "RFclf.fit(X_training, Y1)"
      ],
      "metadata": {
        "colab": {
          "base_uri": "https://localhost:8080/"
        },
        "id": "fvt6fL58OC1w",
        "outputId": "47f01b7c-a0d6-41c8-f25d-a87616b9387a"
      },
      "execution_count": null,
      "outputs": [
        {
          "output_type": "execute_result",
          "data": {
            "text/plain": [
              "RandomForestClassifier(random_state=123)"
            ]
          },
          "metadata": {},
          "execution_count": 34
        }
      ]
    },
    {
      "cell_type": "code",
      "source": [
        "evaluacion(RFclf, y_val_real = '3_hours')"
      ],
      "metadata": {
        "colab": {
          "base_uri": "https://localhost:8080/",
          "height": 1000
        },
        "id": "u8elfu__Qpoa",
        "outputId": "dd61284f-5fa3-4223-c31c-734629862b92"
      },
      "execution_count": null,
      "outputs": [
        {
          "output_type": "stream",
          "name": "stdout",
          "text": [
            "Resltados de RandomForestClassifier(random_state=123) con umbral de decision de 0.5\n",
            "\n",
            "              precision    recall  f1-score   support\n",
            "\n",
            "           0       1.00      1.00      1.00    253134\n",
            "           1       0.98      0.36      0.53       935\n",
            "\n",
            "    accuracy                           1.00    254069\n",
            "   macro avg       0.99      0.68      0.76    254069\n",
            "weighted avg       1.00      1.00      1.00    254069\n",
            "\n",
            "\n",
            "Recall:  0.3593582887700535\n",
            "\n",
            "Precision:  0.9767441860465116\n",
            "\n",
            "F1:  0.5254104769351056\n",
            "\n",
            "Accuracy:  0.9976108852319645\n",
            "\n",
            "Confusion Matrix\n"
          ]
        },
        {
          "output_type": "display_data",
          "data": {
            "image/png": "[encoded data removed]",
            "text/plain": [
              "<Figure size 720x720 with 2 Axes>"
            ]
          },
          "metadata": {
            "needs_background": "light"
          }
        }
      ]
    },
    {
      "cell_type": "markdown",
      "source": [
        "##### RF - Sies horas de Anticipación"
      ],
      "metadata": {
        "id": "roCm527cOqpb"
      }
    },
    {
      "cell_type": "code",
      "source": [
        "from sklearn.ensemble import RandomForestClassifier\n",
        "RFclf_Y2 = RandomForestClassifier(random_state=123)\n",
        "\n",
        "RFclf_Y2.fit(X_training, Y2)"
      ],
      "metadata": {
        "colab": {
          "base_uri": "https://localhost:8080/"
        },
        "id": "coPK5ewuRj-z",
        "outputId": "d8d55394-1ef0-4470-b9e8-b1370dc9d8f6"
      },
      "execution_count": null,
      "outputs": [
        {
          "output_type": "execute_result",
          "data": {
            "text/plain": [
              "RandomForestClassifier(random_state=123)"
            ]
          },
          "metadata": {},
          "execution_count": 38
        }
      ]
    },
    {
      "cell_type": "code",
      "source": [
        "evaluacion(RFclf_Y2, y_val_real = '6_hours')"
      ],
      "metadata": {
        "colab": {
          "base_uri": "https://localhost:8080/",
          "height": 1000
        },
        "id": "IsaMniJrRj5T",
        "outputId": "13082587-8e1e-4c0a-aa09-3ed091217044"
      },
      "execution_count": null,
      "outputs": [
        {
          "output_type": "stream",
          "name": "stdout",
          "text": [
            "Resltados de RandomForestClassifier(random_state=123) con umbral de decision de 0.5\n",
            "\n",
            "              precision    recall  f1-score   support\n",
            "\n",
            "           0       1.00      1.00      1.00    252435\n",
            "           1       0.98      0.62      0.76      1634\n",
            "\n",
            "    accuracy                           1.00    254069\n",
            "   macro avg       0.99      0.81      0.88    254069\n",
            "weighted avg       1.00      1.00      1.00    254069\n",
            "\n",
            "\n",
            "Recall:  0.6230110159118727\n",
            "\n",
            "Precision:  0.9845261121856866\n",
            "\n",
            "F1:  0.7631184407796101\n",
            "\n",
            "Accuracy:  0.9975124867654063\n",
            "\n",
            "Confusion Matrix\n"
          ]
        },
        {
          "output_type": "display_data",
          "data": {
            "image/png": "[encoded data removed]",
            "text/plain": [
              "<Figure size 720x720 with 2 Axes>"
            ]
          },
          "metadata": {
            "needs_background": "light"
          }
        }
      ]
    },
    {
      "cell_type": "markdown",
      "source": [
        "##### RF - 12 horas de Anticipación"
      ],
      "metadata": {
        "id": "qbg_GkPZOwis"
      }
    },
    {
      "cell_type": "code",
      "source": [
        "from sklearn.ensemble import RandomForestClassifier\n",
        "RFclf_Y3 = RandomForestClassifier(random_state=123)\n",
        "\n",
        "RFclf_Y3.fit(X_training, Y3)"
      ],
      "metadata": {
        "colab": {
          "base_uri": "https://localhost:8080/"
        },
        "id": "_1Nj20s-RjyF",
        "outputId": "9b971317-445a-4f61-f56a-f5039c285503"
      },
      "execution_count": null,
      "outputs": [
        {
          "output_type": "execute_result",
          "data": {
            "text/plain": [
              "RandomForestClassifier(random_state=123)"
            ]
          },
          "metadata": {},
          "execution_count": 39
        }
      ]
    },
    {
      "cell_type": "code",
      "source": [
        "evaluacion(RFclf_Y3, y_val_real = '12_hours')"
      ],
      "metadata": {
        "colab": {
          "base_uri": "https://localhost:8080/",
          "height": 1000
        },
        "id": "3B6COjnZUL6H",
        "outputId": "154d487c-02c4-49da-b4e4-f2715c244d7d"
      },
      "execution_count": null,
      "outputs": [
        {
          "output_type": "stream",
          "name": "stdout",
          "text": [
            "Resltados de RandomForestClassifier(random_state=123) con umbral de decision de 0.5\n",
            "\n",
            "              precision    recall  f1-score   support\n",
            "\n",
            "           0       0.99      1.00      1.00    251037\n",
            "           1       0.99      0.49      0.66      3032\n",
            "\n",
            "    accuracy                           0.99    254069\n",
            "   macro avg       0.99      0.75      0.83    254069\n",
            "weighted avg       0.99      0.99      0.99    254069\n",
            "\n",
            "\n",
            "Recall:  0.4904353562005277\n",
            "\n",
            "Precision:  0.9913333333333333\n",
            "\n",
            "F1:  0.6562224183583407\n",
            "\n",
            "Accuracy:  0.9938678075640869\n",
            "\n",
            "Confusion Matrix\n"
          ]
        },
        {
          "output_type": "display_data",
          "data": {
            "image/png": "[encoded data removed]",
            "text/plain": [
              "<Figure size 720x720 with 2 Axes>"
            ]
          },
          "metadata": {
            "needs_background": "light"
          }
        }
      ]
    },
    {
      "cell_type": "markdown",
      "source": [
        "**Commentarios** \n",
        "\n",
        "Para los tres modelos de Random Forest hay un patron parecido en que no tienen muchos falsos positivos, con buenos resultados para la metrica de precision de (RF-3 Horas: 0.977, RF-6 Horas: 0.984, RF-12 Horas: 0.99). Sin embargo, lo encuentran mas dificil, que los modelos de Decision Tree, classificar las fallas reales con resultados de Recall mas bajo (RF-3 Horas: 0.359, RF-6 Horas: 0.623, RF-12 Horas: 0.49). La reducción en el desequilibrio en la variable debendiente entre 3 y 6 horas de anticipación conllevó una reduccion en los falos negativos. \n",
        "\n",
        "Una opción ahora sería intentar encontrar la mejor combinación de parametros en los modelos de random forest ya que se ha visto que con los parametros predeterminados los modelos no reducen los falsos negativos tan bien. Sin embargo, en esta etapa de entrenamiento se desea minimizar el tiempo necesitado para entrenar los modelos. Por lo tanto, a continuación se entrenarán modelos de Bagging Decision Tree, ya que son mas rapidos para entrenar y al utilizar el concepto de bagging se espera reducir cualquier sobreajuste que podría haber occurrido con los modelos de Decison Tree. "
      ],
      "metadata": {
        "id": "O1FQwhf9YuB9"
      }
    },
    {
      "cell_type": "markdown",
      "source": [
        "#### 4.3) Bagging - Decision Tree"
      ],
      "metadata": {
        "id": "n-xA_53vex_z"
      }
    },
    {
      "cell_type": "markdown",
      "source": [
        "Aqui se entrenan modelos de Bagging Decision Tree para los tres variables dependientes (3 horas, 6 horas, y 12 horas). Se utilizan los parámetros de: \n",
        "\n",
        "- max samples = 0.5\n",
        "- max features = 1.0\n",
        "- n_estimators = 10\n",
        "\n",
        "Con la esperanza que el sobre ajuste se evite, pero tambien que los modelos no se demoren en entrenarse. "
      ],
      "metadata": {
        "id": "fS-k6nAhcaSE"
      }
    },
    {
      "cell_type": "markdown",
      "source": [
        "##### Bagging - Tres Horas de Anticipación"
      ],
      "metadata": {
        "id": "jrHTNhkjO94e"
      }
    },
    {
      "cell_type": "code",
      "source": [
        "bg =BaggingClassifier(DecisionTreeClassifier(),max_samples=0.5,max_features=1.0,n_estimators=10)\n",
        "bg.fit(X_training, Y1)"
      ],
      "metadata": {
        "colab": {
          "base_uri": "https://localhost:8080/"
        },
        "id": "JzusLMlJYyQD",
        "outputId": "c1c3a197-d9bd-47e7-c6ba-7ef7377f0a10"
      },
      "execution_count": null,
      "outputs": [
        {
          "output_type": "execute_result",
          "data": {
            "text/plain": [
              "BaggingClassifier(base_estimator=DecisionTreeClassifier(), max_samples=0.5)"
            ]
          },
          "metadata": {},
          "execution_count": 44
        }
      ]
    },
    {
      "cell_type": "code",
      "source": [
        "evaluacion(bg, y_val_real = '3_hours')"
      ],
      "metadata": {
        "colab": {
          "base_uri": "https://localhost:8080/",
          "height": 1000
        },
        "id": "gRvPl-DNYyIV",
        "outputId": "59c2f9c8-db35-4c79-fa5a-592fd25e4a57"
      },
      "execution_count": null,
      "outputs": [
        {
          "output_type": "stream",
          "name": "stdout",
          "text": [
            "Resltados de BaggingClassifier(base_estimator=DecisionTreeClassifier(), max_samples=0.5) con umbral de decision de 0.5\n",
            "\n",
            "              precision    recall  f1-score   support\n",
            "\n",
            "           0       1.00      1.00      1.00    253134\n",
            "           1       0.96      0.87      0.91       935\n",
            "\n",
            "    accuracy                           1.00    254069\n",
            "   macro avg       0.98      0.94      0.96    254069\n",
            "weighted avg       1.00      1.00      1.00    254069\n",
            "\n",
            "\n",
            "Recall:  0.8705882352941177\n",
            "\n",
            "Precision:  0.961038961038961\n",
            "\n",
            "F1:  0.9135802469135802\n",
            "\n",
            "Accuracy:  0.9993938654460008\n",
            "\n",
            "Confusion Matrix\n"
          ]
        },
        {
          "output_type": "display_data",
          "data": {
            "image/png": "[encoded data removed]",
            "text/plain": [
              "<Figure size 720x720 with 2 Axes>"
            ]
          },
          "metadata": {
            "needs_background": "light"
          }
        }
      ]
    },
    {
      "cell_type": "markdown",
      "source": [
        "##### Bagging - Seis Horas de Anticipación"
      ],
      "metadata": {
        "id": "U1WtPLYIPCtT"
      }
    },
    {
      "cell_type": "code",
      "source": [
        "bg_Y2 =BaggingClassifier(DecisionTreeClassifier(),max_samples=0.5,max_features=1.0,n_estimators=10)\n",
        "bg_Y2.fit(X_training, Y2)"
      ],
      "metadata": {
        "colab": {
          "base_uri": "https://localhost:8080/"
        },
        "id": "1J7sYTuuYyDE",
        "outputId": "1bf2b06e-db98-42a1-c837-c722eeb1e65e"
      },
      "execution_count": null,
      "outputs": [
        {
          "output_type": "execute_result",
          "data": {
            "text/plain": [
              "BaggingClassifier(base_estimator=DecisionTreeClassifier(), max_samples=0.5)"
            ]
          },
          "metadata": {},
          "execution_count": 47
        }
      ]
    },
    {
      "cell_type": "code",
      "source": [
        "evaluacion(bg_Y2, y_val_real = '6_hours')"
      ],
      "metadata": {
        "colab": {
          "base_uri": "https://localhost:8080/",
          "height": 1000
        },
        "id": "W680YNeyYx4R",
        "outputId": "61641162-781e-43fe-a500-5b8cf4696221"
      },
      "execution_count": null,
      "outputs": [
        {
          "output_type": "stream",
          "name": "stdout",
          "text": [
            "Resltados de BaggingClassifier(base_estimator=DecisionTreeClassifier(), max_samples=0.5) con umbral de decision de 0.5\n",
            "\n",
            "              precision    recall  f1-score   support\n",
            "\n",
            "           0       1.00      1.00      1.00    252435\n",
            "           1       0.95      0.89      0.92      1634\n",
            "\n",
            "    accuracy                           1.00    254069\n",
            "   macro avg       0.98      0.94      0.96    254069\n",
            "weighted avg       1.00      1.00      1.00    254069\n",
            "\n",
            "\n",
            "Recall:  0.8898408812729498\n",
            "\n",
            "Precision:  0.9534426229508197\n",
            "\n",
            "F1:  0.9205444761000318\n",
            "\n",
            "Accuracy:  0.9990120793957546\n",
            "\n",
            "Confusion Matrix\n"
          ]
        },
        {
          "output_type": "display_data",
          "data": {
            "image/png": "[encoded data removed]",
            "text/plain": [
              "<Figure size 720x720 with 2 Axes>"
            ]
          },
          "metadata": {
            "needs_background": "light"
          }
        }
      ]
    },
    {
      "cell_type": "markdown",
      "source": [
        "##### Bagging - Doce Horas de Anticipación"
      ],
      "metadata": {
        "id": "Y-k946GKPHH_"
      }
    },
    {
      "cell_type": "code",
      "source": [
        "bg_Y3 =BaggingClassifier(DecisionTreeClassifier(),max_samples=0.5,max_features=1.0,n_estimators=10)\n",
        "bg_Y3.fit(X_training, Y3)"
      ],
      "metadata": {
        "colab": {
          "base_uri": "https://localhost:8080/"
        },
        "id": "t7X5MVN5b0Ik",
        "outputId": "bcf25e04-1868-4917-ce6d-d16507bae69a"
      },
      "execution_count": null,
      "outputs": [
        {
          "output_type": "execute_result",
          "data": {
            "text/plain": [
              "BaggingClassifier(base_estimator=DecisionTreeClassifier(), max_samples=0.5)"
            ]
          },
          "metadata": {},
          "execution_count": 49
        }
      ]
    },
    {
      "cell_type": "code",
      "source": [
        "evaluacion(bg_Y3, y_val_real = '12_hours')"
      ],
      "metadata": {
        "colab": {
          "base_uri": "https://localhost:8080/",
          "height": 1000
        },
        "id": "ugtVuvGYbz4x",
        "outputId": "44978fb8-95d0-4f26-e89d-7b8b54b6c432"
      },
      "execution_count": null,
      "outputs": [
        {
          "output_type": "stream",
          "name": "stdout",
          "text": [
            "Resltados de BaggingClassifier(base_estimator=DecisionTreeClassifier(), max_samples=0.5) con umbral de decision de 0.5\n",
            "\n",
            "              precision    recall  f1-score   support\n",
            "\n",
            "           0       1.00      1.00      1.00    251037\n",
            "           1       0.96      0.88      0.92      3032\n",
            "\n",
            "    accuracy                           1.00    254069\n",
            "   macro avg       0.98      0.94      0.96    254069\n",
            "weighted avg       1.00      1.00      1.00    254069\n",
            "\n",
            "\n",
            "Recall:  0.8763192612137203\n",
            "\n",
            "Precision:  0.9592057761732852\n",
            "\n",
            "F1:  0.9158910720441226\n",
            "\n",
            "Accuracy:  0.9980792619327821\n",
            "\n",
            "Confusion Matrix\n"
          ]
        },
        {
          "output_type": "display_data",
          "data": {
            "image/png": "[encoded data removed]",
            "text/plain": [
              "<Figure size 720x720 with 2 Axes>"
            ]
          },
          "metadata": {
            "needs_background": "light"
          }
        }
      ]
    },
    {
      "cell_type": "markdown",
      "source": [
        "**Commentarios**\n",
        "\n",
        "En los modelos de Bagging - Decison Tree, el resultado de Recall se mejoró superando levemente los resultados de los Decision Tree, y por mucho resultados de los Random Forest (DTBag 3 Horas: 0.87, DTBag 6 Horas: 0.89 , DTBag 12 Horas: 0.88). \n",
        "\n",
        "En todos los modelos hasta ahora se ha predicho de manera mejor la variable dependiente de 6 horas cuando se toma recall y una reducción en falsos negativos como la metrica de evluación.  \n",
        "\n",
        "A continuación se entrenará modelos de XGBoost ya que su umbral de decision se puede cambiar. Se modificará el umbral con la intención de maximizar el resultado de recall y reducir los falsos negativos. "
      ],
      "metadata": {
        "id": "Hmar_2ENd7wv"
      }
    },
    {
      "cell_type": "markdown",
      "source": [
        "#### 4.4) XGBOOST"
      ],
      "metadata": {
        "id": "GApzUbw6hKvf"
      }
    },
    {
      "cell_type": "markdown",
      "source": [
        "##### XGB - Tres Horas de Anticipación"
      ],
      "metadata": {
        "id": "xmaJCRoIPTfJ"
      }
    },
    {
      "cell_type": "code",
      "source": [
        "XGB = XGBClassifier(random_state = 123)\n",
        "XGB.fit(X_training, Y1)"
      ],
      "metadata": {
        "colab": {
          "base_uri": "https://localhost:8080/"
        },
        "id": "ksCQxFFvhVRZ",
        "outputId": "ff56d2d5-134b-41a6-ba6e-f23d081d58e2"
      },
      "execution_count": null,
      "outputs": [
        {
          "output_type": "execute_result",
          "data": {
            "text/plain": [
              "XGBClassifier(random_state=123)"
            ]
          },
          "metadata": {},
          "execution_count": 34
        }
      ]
    },
    {
      "cell_type": "code",
      "source": [
        "evaluacion(XGB, y_val_real = '3_hours')"
      ],
      "metadata": {
        "colab": {
          "base_uri": "https://localhost:8080/",
          "height": 1000
        },
        "id": "Q-wryqJNiHdA",
        "outputId": "eec17d10-fa3e-4688-c0f3-48a4300e933c"
      },
      "execution_count": null,
      "outputs": [
        {
          "output_type": "stream",
          "name": "stdout",
          "text": [
            "Resltados de XGBClassifier(random_state=123) con umbral de decision de 0.5\n",
            "\n",
            "              precision    recall  f1-score   support\n",
            "\n",
            "           0       1.00      1.00      1.00    253134\n",
            "           1       0.98      0.77      0.86       935\n",
            "\n",
            "    accuracy                           1.00    254069\n",
            "   macro avg       0.99      0.89      0.93    254069\n",
            "weighted avg       1.00      1.00      1.00    254069\n",
            "\n",
            "\n",
            "Recall:  0.7732620320855615\n",
            "\n",
            "Precision:  0.9757085020242915\n",
            "\n",
            "F1:  0.8627684964200476\n",
            "\n",
            "Accuracy:  0.9990947341076637\n",
            "\n",
            "Confusion Matrix\n"
          ]
        },
        {
          "output_type": "display_data",
          "data": {
            "image/png": "[encoded data removed]",
            "text/plain": [
              "<Figure size 720x720 with 2 Axes>"
            ]
          },
          "metadata": {
            "needs_background": "light"
          }
        }
      ]
    },
    {
      "cell_type": "markdown",
      "source": [
        "##### XGB - Seis Horas de Anticipación"
      ],
      "metadata": {
        "id": "mCGoXfnnPYSN"
      }
    },
    {
      "cell_type": "code",
      "source": [
        "XGB_Y2 = XGBClassifier(random_state = 123)\n",
        "XGB_Y2.fit(X_training, Y2)"
      ],
      "metadata": {
        "colab": {
          "base_uri": "https://localhost:8080/"
        },
        "id": "Izhqvtt-iX2r",
        "outputId": "e48b0126-be89-456e-b066-322cf9e3e860"
      },
      "execution_count": null,
      "outputs": [
        {
          "output_type": "execute_result",
          "data": {
            "text/plain": [
              "XGBClassifier(random_state=123)"
            ]
          },
          "metadata": {},
          "execution_count": 35
        }
      ]
    },
    {
      "cell_type": "code",
      "source": [
        "evaluacion(XGB_Y2, y_val_real = '6_hours')"
      ],
      "metadata": {
        "colab": {
          "base_uri": "https://localhost:8080/",
          "height": 1000
        },
        "id": "Hu-gbNuGih4x",
        "outputId": "64a3c636-4ec1-4641-8d74-59f3d1fd8d41"
      },
      "execution_count": null,
      "outputs": [
        {
          "output_type": "stream",
          "name": "stdout",
          "text": [
            "Resltados de XGBClassifier(random_state=123) con umbral de decision de 0.5\n",
            "\n",
            "              precision    recall  f1-score   support\n",
            "\n",
            "           0       1.00      1.00      1.00    252435\n",
            "           1       0.99      0.89      0.94      1634\n",
            "\n",
            "    accuracy                           1.00    254069\n",
            "   macro avg       0.99      0.94      0.97    254069\n",
            "weighted avg       1.00      1.00      1.00    254069\n",
            "\n",
            "\n",
            "Recall:  0.8898408812729498\n",
            "\n",
            "Precision:  0.9864314789687924\n",
            "\n",
            "F1:  0.9356499356499356\n",
            "\n",
            "Accuracy:  0.9992128122675337\n",
            "\n",
            "Confusion Matrix\n"
          ]
        },
        {
          "output_type": "display_data",
          "data": {
            "image/png": "[encoded data removed]",
            "text/plain": [
              "<Figure size 720x720 with 2 Axes>"
            ]
          },
          "metadata": {
            "needs_background": "light"
          }
        }
      ]
    },
    {
      "cell_type": "markdown",
      "source": [
        "##### XGB - Doce Horas de Anticipación"
      ],
      "metadata": {
        "id": "-10GTFwCPZ0c"
      }
    },
    {
      "cell_type": "code",
      "source": [
        "XGB_Y3 = XGBClassifier(random_state = 123)\n",
        "XGB_Y3.fit(X_training, Y3)"
      ],
      "metadata": {
        "colab": {
          "base_uri": "https://localhost:8080/"
        },
        "id": "V6E_HZfAihja",
        "outputId": "72ab54a7-ae9d-49bc-9efb-0b1b784243a1"
      },
      "execution_count": null,
      "outputs": [
        {
          "output_type": "execute_result",
          "data": {
            "text/plain": [
              "XGBClassifier(random_state=123)"
            ]
          },
          "metadata": {},
          "execution_count": 36
        }
      ]
    },
    {
      "cell_type": "code",
      "source": [
        "evaluacion(XGB_Y3, y_val_real = '12_hours')"
      ],
      "metadata": {
        "colab": {
          "base_uri": "https://localhost:8080/",
          "height": 1000
        },
        "id": "uN46oHXPi-CC",
        "outputId": "8656a758-a006-47d2-bdf4-8bf63f32e7d6"
      },
      "execution_count": null,
      "outputs": [
        {
          "output_type": "stream",
          "name": "stdout",
          "text": [
            "Resltados de XGBClassifier(random_state=123) con umbral de decision de 0.5\n",
            "\n",
            "              precision    recall  f1-score   support\n",
            "\n",
            "           0       1.00      1.00      1.00    251037\n",
            "           1       0.97      0.91      0.94      3032\n",
            "\n",
            "    accuracy                           1.00    254069\n",
            "   macro avg       0.99      0.95      0.97    254069\n",
            "weighted avg       1.00      1.00      1.00    254069\n",
            "\n",
            "\n",
            "Recall:  0.9076517150395779\n",
            "\n",
            "Precision:  0.9745042492917847\n",
            "\n",
            "F1:  0.9398907103825136\n",
            "\n",
            "Accuracy:  0.9986145495908592\n",
            "\n",
            "Confusion Matrix\n"
          ]
        },
        {
          "output_type": "display_data",
          "data": {
            "image/png": "[encoded data removed]",
            "text/plain": [
              "<Figure size 720x720 with 2 Axes>"
            ]
          },
          "metadata": {
            "needs_background": "light"
          }
        }
      ]
    },
    {
      "cell_type": "markdown",
      "source": [
        "**Commentarios**\n",
        "\n",
        "Los tres modelos de XGBoost tienen un buen rendimiento tras estar evaluados con los datos de validación. Sin embargo, se nota en los resultados que XGBoost reduce los falsos positivos de manera mejor para las variables dependientes de 6 horas (recall: 0.89) y 12 horas (recall: 0.91). Para 3 horas el recall es 0.77. Esta es la primera vez que un modelo ha tendio mejor rendimiento (en cuanto a recall) con la variable dependiente de 12 horas. Tambien se nota que los tres modelos de XGBoost no tienen muchos falsos positivos (precision XGB - 3horas: 0.98, XGB - 6horas: 0.99, XGB - 12horas: 0.97). Por lo tanto, a continuación se modificarán los umbrales de decision, que actualmente son 0.5 para priorizar la reducción en falsos negativos. "
      ],
      "metadata": {
        "id": "Q4712uA3f9JF"
      }
    },
    {
      "cell_type": "markdown",
      "source": [
        "#### 4.5) XGBoost - umbral de decision optimizado"
      ],
      "metadata": {
        "id": "up7EwipLXiI9"
      }
    },
    {
      "cell_type": "code",
      "source": [
        "np.set_printoptions(precision=3)"
      ],
      "metadata": {
        "id": "UJIwmh-w_gqq"
      },
      "execution_count": null,
      "outputs": []
    },
    {
      "cell_type": "markdown",
      "source": [
        "Aquí se crea una función que calcula cual umbral de decision entre un rango de 0.1 y 1 da los mejores resultados para cada una de las metricas de recall, precision, y f1. Nos enfocaremos en como el umbral se puede modificar para maximizar el recall. "
      ],
      "metadata": {
        "id": "veDIsXdAiIlg"
      }
    },
    {
      "cell_type": "code",
      "source": [
        "def umbral(modelo = None, Yval = None, metrica = None):\n",
        "  y_val_real_ = validation[Yval]\n",
        "  yhat = modelo.predict_proba(X_validation)\n",
        "  probs = yhat[:, 1]\n",
        "  Umbral = np.arange(0.1, 1, 0.1)\n",
        "  def to_labels(pos_probs, Umbral):\n",
        "    return (pos_probs >= Umbral).astype('int')\n",
        "  scores = [metrica(y_val_real_, to_labels(probs, t)) for t in Umbral]\n",
        "  ix = np.argmax(scores)\n",
        "  print('Umbral=%.3f, Metric=%.5f' % (Umbral[ix], scores[ix]))"
      ],
      "metadata": {
        "id": "qq_TEzV3fTSM"
      },
      "execution_count": null,
      "outputs": []
    },
    {
      "cell_type": "markdown",
      "source": [
        "##### Umbral - XGBoost 3 Horas"
      ],
      "metadata": {
        "id": "EdzGORaCibdQ"
      }
    },
    {
      "cell_type": "code",
      "source": [
        "umbral(modelo = XGB, Yval='3_hours', metrica = recall_score)"
      ],
      "metadata": {
        "colab": {
          "base_uri": "https://localhost:8080/"
        },
        "id": "HwFCQZAGfjgF",
        "outputId": "34c348ea-3f79-4299-b77e-1961326d98a1"
      },
      "execution_count": null,
      "outputs": [
        {
          "output_type": "stream",
          "name": "stdout",
          "text": [
            "Umbral=0.100, Metric=0.96578\n"
          ]
        }
      ]
    },
    {
      "cell_type": "code",
      "source": [
        "umbral(modelo = XGB, Yval='3_hours', metrica = precision_score)"
      ],
      "metadata": {
        "colab": {
          "base_uri": "https://localhost:8080/"
        },
        "id": "5UfXgZjjo4CV",
        "outputId": "d8dcbed8-28ee-4a25-9fcd-dd20d60c113e"
      },
      "execution_count": null,
      "outputs": [
        {
          "output_type": "stream",
          "name": "stdout",
          "text": [
            "Umbral=0.900, Metric=0.99387\n"
          ]
        }
      ]
    },
    {
      "cell_type": "code",
      "source": [
        "umbral(modelo = XGB, Yval='3_hours', metrica = f1_score)"
      ],
      "metadata": {
        "colab": {
          "base_uri": "https://localhost:8080/"
        },
        "id": "zpP_TcIxo89t",
        "outputId": "b3eddc9a-e222-496f-c3bb-005d7ecb776e"
      },
      "execution_count": null,
      "outputs": [
        {
          "output_type": "stream",
          "name": "stdout",
          "text": [
            "Umbral=0.300, Metric=0.92826\n"
          ]
        }
      ]
    },
    {
      "cell_type": "markdown",
      "source": [
        "##### Umbral - XGBoost 6 horas"
      ],
      "metadata": {
        "id": "blBnwQT5ihcm"
      }
    },
    {
      "cell_type": "code",
      "source": [
        "umbral(modelo = XGB_Y2, Yval='6_hours', metrica = recall_score)"
      ],
      "metadata": {
        "colab": {
          "base_uri": "https://localhost:8080/"
        },
        "id": "f6ORbPufo4p6",
        "outputId": "72d5ee89-a87f-4325-bcac-85322a4277bd"
      },
      "execution_count": null,
      "outputs": [
        {
          "output_type": "stream",
          "name": "stdout",
          "text": [
            "Umbral=0.100, Metric=0.97246\n"
          ]
        }
      ]
    },
    {
      "cell_type": "code",
      "source": [
        "umbral(modelo = XGB_Y2, Yval='6_hours', metrica = precision_score)"
      ],
      "metadata": {
        "colab": {
          "base_uri": "https://localhost:8080/"
        },
        "id": "8s6unW6ElT0X",
        "outputId": "32048c0e-79e0-468c-de0d-ed33ce35b77a"
      },
      "execution_count": null,
      "outputs": [
        {
          "output_type": "stream",
          "name": "stdout",
          "text": [
            "Umbral=0.800, Metric=1.00000\n"
          ]
        }
      ]
    },
    {
      "cell_type": "code",
      "source": [
        "umbral(modelo = XGB_Y2, Yval='6_hours', metrica = f1_score)"
      ],
      "metadata": {
        "colab": {
          "base_uri": "https://localhost:8080/"
        },
        "id": "qMIC-qLllamx",
        "outputId": "e2f0e98a-bc7f-40d3-8bc6-151ac5adfaf9"
      },
      "execution_count": null,
      "outputs": [
        {
          "output_type": "stream",
          "name": "stdout",
          "text": [
            "Umbral=0.300, Metric=0.95847\n"
          ]
        }
      ]
    },
    {
      "cell_type": "markdown",
      "source": [
        "##### Umbral XGBoost - 12 horas"
      ],
      "metadata": {
        "id": "Cb9BSypNikq9"
      }
    },
    {
      "cell_type": "code",
      "source": [
        "umbral(modelo = XGB_Y3, Yval='12_hours', metrica = recall_score)"
      ],
      "metadata": {
        "colab": {
          "base_uri": "https://localhost:8080/"
        },
        "id": "iUwgHrxpqzIA",
        "outputId": "50b8a4b4-fa58-449b-8ce7-100467f18108"
      },
      "execution_count": null,
      "outputs": [
        {
          "output_type": "stream",
          "name": "stdout",
          "text": [
            "Umbral=0.100, Metric=0.96900\n"
          ]
        }
      ]
    },
    {
      "cell_type": "code",
      "source": [
        "umbral(modelo = XGB_Y3, Yval='12_hours', metrica = precision_score)"
      ],
      "metadata": {
        "colab": {
          "base_uri": "https://localhost:8080/"
        },
        "id": "hqRb6Tpnqy7E",
        "outputId": "efdd743b-3a3e-4fa6-d565-89e79fa62578"
      },
      "execution_count": null,
      "outputs": [
        {
          "output_type": "stream",
          "name": "stdout",
          "text": [
            "Umbral=0.900, Metric=1.00000\n"
          ]
        }
      ]
    },
    {
      "cell_type": "code",
      "source": [
        "umbral(modelo = XGB_Y3, Yval='12_hours', metrica = f1_score)"
      ],
      "metadata": {
        "colab": {
          "base_uri": "https://localhost:8080/"
        },
        "id": "ZVLwaeksqypo",
        "outputId": "b968714d-16c7-4111-f72c-09be566bcb03"
      },
      "execution_count": null,
      "outputs": [
        {
          "output_type": "stream",
          "name": "stdout",
          "text": [
            "Umbral=0.400, Metric=0.94883\n"
          ]
        }
      ]
    },
    {
      "cell_type": "markdown",
      "source": [
        "El anailis de los umbrales exponen que para las tres varaibles dependientes (3 horas, 6 horas, y 12 horas) la metrica de recall se puede maximizar con un umbral de decision de 0.1. \n",
        "\n",
        "A continuación los tres modelos de XGBoost se evaluarán con los datos de evaluación de nuevo, pero esta vez utilizando un umbral de decision de 0.1. "
      ],
      "metadata": {
        "id": "AJOz4EJ4inyH"
      }
    },
    {
      "cell_type": "code",
      "source": [
        "def evaluacion2(modelo = None, umbral = 'Normal', y_val_real = None, nuevo_umbral = None):\n",
        "  if umbral == 'Normal':\n",
        "    print('Resltados de ' +str(modelo)+' con umbral de decision de ' +str(umbral))\n",
        "    print()\n",
        "    y_val_real_ = validation[y_val_real]\n",
        "    y_val_pred = modelo.predict(X_validation)\n",
        "    print(classification_report(y_val_real_, y_val_pred))\n",
        "    print()\n",
        "    print('Recall: ', recall_score(y_val_real_, y_val_pred, average='binary'))\n",
        "    print()\n",
        "    print('Precision: ', precision_score(y_val_real_, y_val_pred, average='binary'))\n",
        "    print()\n",
        "    print('F1: ',f1_score(y_val_real_, y_val_pred, average='binary'))\n",
        "    print()\n",
        "    print('Accuracy: ', accuracy_score(y_val_real_, y_val_pred))\n",
        "    print()\n",
        "    print('Confusion Matrix')\n",
        "    plt.figure(figsize=(10,10))\n",
        "    sns.heatmap(confusion_matrix(y_val_real_, y_val_pred), annot=True, fmt = 'g')\n",
        "    plt.title('Confusion Matrix')\n",
        "    plt.ylabel('Actual Values')\n",
        "    plt.xlabel('Predicted Values')\n",
        "    plt.show()\n",
        "  elif umbral == 'cambio':\n",
        "    print('Resultados de '+str(modelo)+' con umbral de decision de '+str(nuevo_umbral))\n",
        "    print()\n",
        "    y_val_real_ = validation[y_val_real]\n",
        "    y_scores_val = modelo.predict_proba(X_validation)[:, 1]\n",
        "    y_scores_val_df = pd.DataFrame(modelo.predict_proba(X_validation)[:, 1])\n",
        "    y_scores_val_df = y_scores_val_df.rename(columns = {0: 'Prediction'})\n",
        "    y_scores_val_df['decison_threshold'+str(nuevo_umbral)] = np.where(y_scores_val_df['Prediction'] >= nuevo_umbral, 1, 0)\n",
        "    # Metricas de evaluacion\n",
        "    print(classification_report(y_val_real_, y_scores_val_df['decison_threshold'+str(nuevo_umbral)]))\n",
        "    print()\n",
        "    print('Recall: ', recall_score(y_val_real_, y_scores_val_df['decison_threshold'+str(nuevo_umbral)], average='binary'))\n",
        "    print()\n",
        "    print('Precision: ', precision_score(y_val_real_, y_scores_val_df['decison_threshold'+str(nuevo_umbral)], average='binary'))\n",
        "    print()\n",
        "    print('F1: ',f1_score(y_val_real_, y_scores_val_df['decison_threshold'+str(nuevo_umbral)], average='binary'))\n",
        "    print()\n",
        "    print('Accuracy: ', accuracy_score(y_val_real_, y_scores_val_df['decison_threshold'+str(nuevo_umbral)]))\n",
        "    print()\n",
        "    print('Confusion Matrix')\n",
        "    plt.figure(figsize=(10,10))\n",
        "    sns.heatmap(confusion_matrix(y_val_real_, y_scores_val_df['decison_threshold'+str(nuevo_umbral)]), annot=True, fmt = 'g')\n",
        "    plt.title('Confusion Matrix')\n",
        "    plt.ylabel('Actual Values')\n",
        "    plt.xlabel('Predicted Values')\n",
        "    plt.show()"
      ],
      "metadata": {
        "id": "0sr0oNSDrK7I"
      },
      "execution_count": null,
      "outputs": []
    },
    {
      "cell_type": "markdown",
      "source": [
        "##### XGBoost - 3 Horas - Umbral 0.1"
      ],
      "metadata": {
        "id": "Y1or3k-_rt1z"
      }
    },
    {
      "cell_type": "code",
      "source": [
        "evaluacion2(modelo = XGB, umbral = 'cambio', y_val_real = '3_hours', nuevo_umbral= 0.1)"
      ],
      "metadata": {
        "colab": {
          "base_uri": "https://localhost:8080/",
          "height": 1000
        },
        "id": "JGDg0q0srKzm",
        "outputId": "629880cf-0ce4-4a83-8b24-28acb17f0ad8"
      },
      "execution_count": null,
      "outputs": [
        {
          "output_type": "stream",
          "name": "stdout",
          "text": [
            "Resultados de XGBClassifier(random_state=123) con umbral de decision de 0.1\n",
            "\n",
            "              precision    recall  f1-score   support\n",
            "\n",
            "           0       1.00      1.00      1.00    253134\n",
            "           1       0.76      0.97      0.85       935\n",
            "\n",
            "    accuracy                           1.00    254069\n",
            "   macro avg       0.88      0.98      0.93    254069\n",
            "weighted avg       1.00      1.00      1.00    254069\n",
            "\n",
            "\n",
            "Recall:  0.9657754010695188\n",
            "\n",
            "Precision:  0.7639593908629442\n",
            "\n",
            "F1:  0.8530940009447332\n",
            "\n",
            "Accuracy:  0.9987759230760148\n",
            "\n",
            "Confusion Matrix\n"
          ]
        },
        {
          "output_type": "display_data",
          "data": {
            "image/png": "[encoded data removed]",
            "text/plain": [
              "<Figure size 720x720 with 2 Axes>"
            ]
          },
          "metadata": {
            "needs_background": "light"
          }
        }
      ]
    },
    {
      "cell_type": "markdown",
      "source": [
        "##### XGBoost - 6 Horas - umbral 0.1"
      ],
      "metadata": {
        "id": "HdRZpWHAr1Ld"
      }
    },
    {
      "cell_type": "code",
      "source": [
        "evaluacion2(modelo = XGB_Y2, umbral = 'cambio', y_val_real = '6_hours', nuevo_umbral= 0.1)"
      ],
      "metadata": {
        "colab": {
          "base_uri": "https://localhost:8080/",
          "height": 1000
        },
        "id": "T2OA0JynrKtA",
        "outputId": "b25cccaa-8a6f-4dcb-abb5-b085a07e8641"
      },
      "execution_count": null,
      "outputs": [
        {
          "output_type": "stream",
          "name": "stdout",
          "text": [
            "Resultados de XGBClassifier(random_state=123) con umbral de decision de 0.1\n",
            "\n",
            "              precision    recall  f1-score   support\n",
            "\n",
            "           0       1.00      1.00      1.00    252435\n",
            "           1       0.77      0.97      0.86      1634\n",
            "\n",
            "    accuracy                           1.00    254069\n",
            "   macro avg       0.89      0.99      0.93    254069\n",
            "weighted avg       1.00      1.00      1.00    254069\n",
            "\n",
            "\n",
            "Recall:  0.9724602203182374\n",
            "\n",
            "Precision:  0.7743664717348928\n",
            "\n",
            "F1:  0.86218122626153\n",
            "\n",
            "Accuracy:  0.9980005431595353\n",
            "\n",
            "Confusion Matrix\n"
          ]
        },
        {
          "output_type": "display_data",
          "data": {
            "image/png": "[encoded data removed]",
            "text/plain": [
              "<Figure size 720x720 with 2 Axes>"
            ]
          },
          "metadata": {
            "needs_background": "light"
          }
        }
      ]
    },
    {
      "cell_type": "markdown",
      "source": [
        "##### XGBoost - 12 Horas - Umbral 0.1"
      ],
      "metadata": {
        "id": "SnPGQnwRr9jf"
      }
    },
    {
      "cell_type": "code",
      "source": [
        "evaluacion2(modelo = XGB_Y3, umbral = 'cambio', y_val_real = '12_hours', nuevo_umbral= 0.1)"
      ],
      "metadata": {
        "colab": {
          "base_uri": "https://localhost:8080/",
          "height": 1000
        },
        "id": "zMO2fBt3rKjV",
        "outputId": "afecac37-8df5-4e3a-bd8a-85bf6c7e3a14"
      },
      "execution_count": null,
      "outputs": [
        {
          "output_type": "stream",
          "name": "stdout",
          "text": [
            "Resultados de XGBClassifier(random_state=123) con umbral de decision de 0.1\n",
            "\n",
            "              precision    recall  f1-score   support\n",
            "\n",
            "           0       1.00      1.00      1.00    251037\n",
            "           1       0.76      0.97      0.85      3032\n",
            "\n",
            "    accuracy                           1.00    254069\n",
            "   macro avg       0.88      0.98      0.92    254069\n",
            "weighted avg       1.00      1.00      1.00    254069\n",
            "\n",
            "\n",
            "Recall:  0.9689973614775725\n",
            "\n",
            "Precision:  0.7550758159856078\n",
            "\n",
            "F1:  0.8487649862776252\n",
            "\n",
            "Accuracy:  0.9958790722205385\n",
            "\n",
            "Confusion Matrix\n"
          ]
        },
        {
          "output_type": "display_data",
          "data": {
            "image/png": "[encoded data removed]",
            "text/plain": [
              "<Figure size 720x720 with 2 Axes>"
            ]
          },
          "metadata": {
            "needs_background": "light"
          }
        }
      ]
    },
    {
      "cell_type": "markdown",
      "source": [
        "Se han evaluado los 3 modelos de XGBoost con umbrales de decision de 0.1. Este umbral maximiza la metrica de recall y una reducción en falsos negativos. \n",
        "\n",
        "Con un umbral de decision de 0.1 el recall aumenta a 0.97 para los tres modelos. Por supuesto al cambiar el umbral de decision a 0.1 hay un aumento en los falsos positivos con la metrica de precision empeorando (precision: XGB 3 Horas Umrbal 0.1: 0.77, XGB 6 Horas Umrbal 0.1: 0.77, XGB 12 Horas Umbral 0.1: 0.76). \n",
        "\n",
        "Estos modelos con la minima cantidad de falsos negativos se utilizarán como el modelo final ya que una falla no detectada (falso negativo) de las maquinas es mucho mas costa para el cliente que una mantención adicional que se realiza cuando un falso positivo se predice. "
      ],
      "metadata": {
        "id": "Bo2clBpQsHiZ"
      }
    },
    {
      "cell_type": "markdown",
      "source": [
        "#### 4.6) Feature Importance"
      ],
      "metadata": {
        "id": "7A5FPf2yPt1F"
      }
    },
    {
      "cell_type": "markdown",
      "source": [
        "Los gráficos a continuación identifican las variables de mayor impotancia en los tres modelos de XGBoost. Las variables de la hora, y la media en las ultimas doce horas para voltaje tienen mas importancia en los tres modelos. "
      ],
      "metadata": {
        "id": "u_oyjyEJMcaQ"
      }
    },
    {
      "cell_type": "code",
      "source": [
        "feature_important = XGB.get_booster().get_score(importance_type='weight')\n",
        "keys = list(feature_important.keys())\n",
        "values = list(feature_important.values())\n",
        "\n",
        "data = pd.DataFrame(data=values, index=keys, columns=[\"score\"]).sort_values(by = \"score\", ascending=True)\n",
        "\n",
        "data.plot(kind='barh')\n",
        "\n",
        "plt.xlabel(\"Feature Importance (weight)\")\n",
        "\n",
        "plt.title('Feature Importance - Modelo XGBoost')"
      ],
      "metadata": {
        "colab": {
          "base_uri": "https://localhost:8080/",
          "height": 313
        },
        "id": "oZ914SsorKSu",
        "outputId": "6696664a-b595-449c-a6cf-eb2434b50da7"
      },
      "execution_count": null,
      "outputs": [
        {
          "output_type": "execute_result",
          "data": {
            "text/plain": [
              "Text(0.5, 1.0, 'Feature Importance - Modelo XGBoost')"
            ]
          },
          "metadata": {},
          "execution_count": 110
        },
        {
          "output_type": "display_data",
          "data": {
            "image/png": "[encoded data removed]",
            "text/plain": [
              "<Figure size 432x288 with 1 Axes>"
            ]
          },
          "metadata": {
            "needs_background": "light"
          }
        }
      ]
    },
    {
      "cell_type": "code",
      "source": [
        "feature_important = XGB_Y2.get_booster().get_score(importance_type='weight')\n",
        "keys = list(feature_important.keys())\n",
        "values = list(feature_important.values())\n",
        "\n",
        "data = pd.DataFrame(data=values, index=keys, columns=[\"score\"]).sort_values(by = \"score\", ascending=True)\n",
        "\n",
        "data.plot(kind='barh')\n",
        "\n",
        "plt.xlabel(\"Feature Importance (weight)\")\n",
        "\n",
        "plt.title('Feature Importance - Modelo XGBoost')"
      ],
      "metadata": {
        "colab": {
          "base_uri": "https://localhost:8080/",
          "height": 313
        },
        "id": "xZV1AqEatyqz",
        "outputId": "6faecea0-fbb0-427f-c253-7169d1f03834"
      },
      "execution_count": null,
      "outputs": [
        {
          "output_type": "execute_result",
          "data": {
            "text/plain": [
              "Text(0.5, 1.0, 'Feature Importance - Modelo XGBoost')"
            ]
          },
          "metadata": {},
          "execution_count": 111
        },
        {
          "output_type": "display_data",
          "data": {
            "image/png": "[encoded data removed]",
            "text/plain": [
              "<Figure size 432x288 with 1 Axes>"
            ]
          },
          "metadata": {
            "needs_background": "light"
          }
        }
      ]
    },
    {
      "cell_type": "code",
      "source": [
        "feature_important = XGB_Y3.get_booster().get_score(importance_type='weight')\n",
        "keys = list(feature_important.keys())\n",
        "values = list(feature_important.values())\n",
        "\n",
        "data = pd.DataFrame(data=values, index=keys, columns=[\"score\"]).sort_values(by = \"score\", ascending=True)\n",
        "\n",
        "data.plot(kind='barh')\n",
        "\n",
        "plt.xlabel(\"Feature Importance (weight)\")\n",
        "\n",
        "plt.title('Feature Importance - Modelo XGBoost')"
      ],
      "metadata": {
        "colab": {
          "base_uri": "https://localhost:8080/",
          "height": 313
        },
        "id": "abCzLrQft2Ob",
        "outputId": "1fccb510-8fdf-4572-82c6-ff269dd8a473"
      },
      "execution_count": null,
      "outputs": [
        {
          "output_type": "execute_result",
          "data": {
            "text/plain": [
              "Text(0.5, 1.0, 'Feature Importance - Modelo XGBoost')"
            ]
          },
          "metadata": {},
          "execution_count": 112
        },
        {
          "output_type": "display_data",
          "data": {
            "image/png": "[encoded data removed]",
            "text/plain": [
              "<Figure size 432x288 with 1 Axes>"
            ]
          },
          "metadata": {
            "needs_background": "light"
          }
        }
      ]
    },
    {
      "cell_type": "markdown",
      "source": [
        "### 5) Datos de Test"
      ],
      "metadata": {
        "id": "jO0CuDACvgoz"
      }
    },
    {
      "cell_type": "markdown",
      "source": [
        "Tras elegir los modelos de XGBoost con el umbral de decision optimizado a 0.1 como los modelos finales, serán probados con los datos de test. \n",
        "\n",
        "La función creada a continuación se usa para probar los modelos con los datos de test. "
      ],
      "metadata": {
        "id": "d696Stffvk4X"
      }
    },
    {
      "cell_type": "code",
      "source": [
        "def evaluacion_test(modelo = None, umbral = 'Normal', y_val_real = None, nuevo_umbral = None):\n",
        "  if umbral == 'Normal':\n",
        "    print('Resltados de ' +str(modelo)+' con umbral de decision de ' +str(umbral))\n",
        "    print()\n",
        "    y_val_real_ = validation[y_val_real]\n",
        "    y_val_pred = modelo.predict(X_validation)\n",
        "    print(classification_report(y_val_real_, y_val_pred))\n",
        "    print()\n",
        "    print('Recall: ', recall_score(y_val_real_, y_val_pred, average='binary'))\n",
        "    print()\n",
        "    print('Precision: ', precision_score(y_val_real_, y_val_pred, average='binary'))\n",
        "    print()\n",
        "    print('F1: ',f1_score(y_val_real_, y_val_pred, average='binary'))\n",
        "    print()\n",
        "    print('Accuracy: ', accuracy_score(y_val_real_, y_val_pred))\n",
        "    print()\n",
        "    print('Confusion Matrix')\n",
        "    plt.figure(figsize=(10,10))\n",
        "    sns.heatmap(confusion_matrix(y_val_real_, y_val_pred), annot=True, fmt = 'g')\n",
        "    plt.title('Confusion Matrix')\n",
        "    plt.ylabel('Actual Values')\n",
        "    plt.xlabel('Predicted Values')\n",
        "    plt.show()\n",
        "  elif umbral == 'cambio':\n",
        "    print('Resultados de test con'+str(modelo)+' con umbral de decision de '+str(nuevo_umbral))\n",
        "    print()\n",
        "    y_val_real_ = testing[y_val_real]\n",
        "    y_scores_val = modelo.predict_proba(X_testing)[:, 1]\n",
        "    y_scores_val_df = pd.DataFrame(modelo.predict_proba(X_testing)[:, 1])\n",
        "    y_scores_val_df = y_scores_val_df.rename(columns = {0: 'Prediction'})\n",
        "    y_scores_val_df['decison_threshold'+str(nuevo_umbral)] = np.where(y_scores_val_df['Prediction'] >= nuevo_umbral, 1, 0)\n",
        "    # Metricas de evaluacion\n",
        "    print(classification_report(y_val_real_, y_scores_val_df['decison_threshold'+str(nuevo_umbral)]))\n",
        "    print()\n",
        "    print('Recall: ', recall_score(y_val_real_, y_scores_val_df['decison_threshold'+str(nuevo_umbral)], average='binary'))\n",
        "    print()\n",
        "    print('Precision: ', precision_score(y_val_real_, y_scores_val_df['decison_threshold'+str(nuevo_umbral)], average='binary'))\n",
        "    print()\n",
        "    print('F1: ',f1_score(y_val_real_, y_scores_val_df['decison_threshold'+str(nuevo_umbral)], average='binary'))\n",
        "    print()\n",
        "    print('Accuracy: ', accuracy_score(y_val_real_, y_scores_val_df['decison_threshold'+str(nuevo_umbral)]))\n",
        "    print()\n",
        "    print('Confusion Matrix')\n",
        "    plt.figure(figsize=(10,10))\n",
        "    sns.heatmap(confusion_matrix(y_val_real_, y_scores_val_df['decison_threshold'+str(nuevo_umbral)]), annot=True, fmt = 'g')\n",
        "    plt.title('Confusion Matrix')\n",
        "    plt.ylabel('Actual Values')\n",
        "    plt.xlabel('Predicted Values')\n",
        "    plt.show()"
      ],
      "metadata": {
        "id": "JZzt6nNN8wxP"
      },
      "execution_count": null,
      "outputs": []
    },
    {
      "cell_type": "code",
      "source": [
        "evaluacion_test(modelo = XGB, umbral = 'cambio', y_val_real = '3_hours', nuevo_umbral= 0.1)"
      ],
      "metadata": {
        "colab": {
          "base_uri": "https://localhost:8080/",
          "height": 1000
        },
        "id": "lSsy1xN49TYj",
        "outputId": "e68d4bd2-25db-421f-ca4e-030c74005c47"
      },
      "execution_count": null,
      "outputs": [
        {
          "output_type": "stream",
          "name": "stdout",
          "text": [
            "Resultados de test conXGBClassifier(random_state=123) con umbral de decision de 0.1\n",
            "\n",
            "              precision    recall  f1-score   support\n",
            "\n",
            "           0       1.00      1.00      1.00    244616\n",
            "           1       0.69      0.96      0.80       692\n",
            "\n",
            "    accuracy                           1.00    245308\n",
            "   macro avg       0.84      0.98      0.90    245308\n",
            "weighted avg       1.00      1.00      1.00    245308\n",
            "\n",
            "\n",
            "Recall:  0.958092485549133\n",
            "\n",
            "Precision:  0.6863354037267081\n",
            "\n",
            "F1:  0.7997587454764777\n",
            "\n",
            "Accuracy:  0.9986465993771096\n",
            "\n",
            "Confusion Matrix\n"
          ]
        },
        {
          "output_type": "display_data",
          "data": {
            "image/png": "[encoded data removed]",
            "text/plain": [
              "<Figure size 720x720 with 2 Axes>"
            ]
          },
          "metadata": {
            "needs_background": "light"
          }
        }
      ]
    },
    {
      "cell_type": "code",
      "source": [
        "evaluacion_test(modelo = XGB_Y2, umbral = 'cambio', y_val_real = '6_hours', nuevo_umbral= 0.1)"
      ],
      "metadata": {
        "colab": {
          "base_uri": "https://localhost:8080/",
          "height": 1000
        },
        "id": "aEGMBy-V9taE",
        "outputId": "723ce7cd-9635-4a6d-fd97-5c4bb5c565e8"
      },
      "execution_count": null,
      "outputs": [
        {
          "output_type": "stream",
          "name": "stdout",
          "text": [
            "Resultados de test conXGBClassifier(random_state=123) con umbral de decision de 0.1\n",
            "\n",
            "              precision    recall  f1-score   support\n",
            "\n",
            "           0       1.00      1.00      1.00    244097\n",
            "           1       0.72      0.96      0.82      1211\n",
            "\n",
            "    accuracy                           1.00    245308\n",
            "   macro avg       0.86      0.98      0.91    245308\n",
            "weighted avg       1.00      1.00      1.00    245308\n",
            "\n",
            "\n",
            "Recall:  0.9628406275805119\n",
            "\n",
            "Precision:  0.7153374233128834\n",
            "\n",
            "F1:  0.8208377331925379\n",
            "\n",
            "Accuracy:  0.9979250574787614\n",
            "\n",
            "Confusion Matrix\n"
          ]
        },
        {
          "output_type": "display_data",
          "data": {
            "image/png": "[encoded data removed]",
            "text/plain": [
              "<Figure size 720x720 with 2 Axes>"
            ]
          },
          "metadata": {
            "needs_background": "light"
          }
        }
      ]
    },
    {
      "cell_type": "code",
      "source": [
        "evaluacion_test(modelo = XGB_Y3, umbral = 'cambio', y_val_real = '12_hours', nuevo_umbral= 0.1)"
      ],
      "metadata": {
        "colab": {
          "base_uri": "https://localhost:8080/",
          "height": 1000
        },
        "id": "cl1ArBjV9tRG",
        "outputId": "f3bea848-22db-48b4-dc47-13ba4c9cf5e5"
      },
      "execution_count": null,
      "outputs": [
        {
          "output_type": "stream",
          "name": "stdout",
          "text": [
            "Resultados de test conXGBClassifier(random_state=123) con umbral de decision de 0.1\n",
            "\n",
            "              precision    recall  f1-score   support\n",
            "\n",
            "           0       1.00      1.00      1.00    243059\n",
            "           1       0.73      0.96      0.83      2249\n",
            "\n",
            "    accuracy                           1.00    245308\n",
            "   macro avg       0.86      0.98      0.91    245308\n",
            "weighted avg       1.00      1.00      1.00    245308\n",
            "\n",
            "\n",
            "Recall:  0.9604268563806136\n",
            "\n",
            "Precision:  0.7258064516129032\n",
            "\n",
            "F1:  0.8267942583732057\n",
            "\n",
            "Accuracy:  0.9963107603502536\n",
            "\n",
            "Confusion Matrix\n"
          ]
        },
        {
          "output_type": "display_data",
          "data": {
            "image/png": "[encoded data removed]",
            "text/plain": [
              "<Figure size 720x720 with 2 Axes>"
            ]
          },
          "metadata": {
            "needs_background": "light"
          }
        }
      ]
    },
    {
      "cell_type": "markdown",
      "source": [
        "Tras probar los 3 modelos de XGBoost con el umbral de decision de 0.1 se confirma que los modelos tienen un buen rendimiento en cuanto a su habilidad de reducir la cantidad de falsos positivos. Los tres modelos tienen un recall de 0.96 con los datos de test."
      ],
      "metadata": {
        "id": "inbxJqre-vIX"
      }
    },
    {
      "cell_type": "code",
      "source": [
        "def evaluacion2(modelo = None, umbral = 'Normal', y_val_real = None, nuevo_umbral = None):\n",
        "  if umbral == 'Normal':\n",
        "    print('Resltados de ' +str(modelo)+' con umbral de decision de ' +str(umbral))\n",
        "    print()\n",
        "    y_val_real_ = validation[y_val_real]\n",
        "    y_val_pred = modelo.predict(X_validation)\n",
        "    print(classification_report(y_val_real_, y_val_pred))\n",
        "    print()\n",
        "    print('Recall: ', recall_score(y_val_real_, y_val_pred, average='binary'))\n",
        "    print()\n",
        "    print('Precision: ', precision_score(y_val_real_, y_val_pred, average='binary'))\n",
        "    print()\n",
        "    print('F1: ',f1_score(y_val_real_, y_val_pred, average='binary'))\n",
        "    print()\n",
        "    print('Accuracy: ', accuracy_score(y_val_real_, y_val_pred))\n",
        "    print()\n",
        "    print('Confusion Matrix')\n",
        "    plt.figure(figsize=(10,10))\n",
        "    sns.heatmap(confusion_matrix(y_val_real_, y_val_pred), annot=True, fmt = 'g')\n",
        "    plt.title('Confusion Matrix')\n",
        "    plt.ylabel('Actual Values')\n",
        "    plt.xlabel('Predicted Values')\n",
        "    plt.show()\n",
        "  elif umbral == 'cambio':\n",
        "    print('Resultados de '+str(modelo)+' con umbral de decision de '+str(nuevo_umbral))\n",
        "    print()\n",
        "    y_val_real_ = validation[y_val_real]\n",
        "    y_scores_val = modelo.predict_proba(X_validation)[:, 1]\n",
        "    y_scores_val_df = pd.DataFrame(modelo.predict_proba(X_validation)[:, 1])\n",
        "    y_scores_val_df = y_scores_val_df.rename(columns = {0: 'Prediction'})\n",
        "    y_scores_val_df['decison_threshold'+str(nuevo_umbral)] = np.where(y_scores_val_df['Prediction'] >= nuevo_umbral, 1, 0)\n",
        "    # Metricas de evaluacion\n",
        "    print(classification_report(y_val_real_, y_scores_val_df['decison_threshold'+str(nuevo_umbral)]))\n",
        "    print()\n",
        "    print('Recall: ', recall_score(y_val_real_, y_scores_val_df['decison_threshold'+str(nuevo_umbral)], average='binary'))\n",
        "    print()\n",
        "    print('Precision: ', precision_score(y_val_real_, y_scores_val_df['decison_threshold'+str(nuevo_umbral)], average='binary'))\n",
        "    print()\n",
        "    print('F1: ',f1_score(y_val_real_, y_scores_val_df['decison_threshold'+str(nuevo_umbral)], average='binary'))\n",
        "    print()\n",
        "    print('Accuracy: ', accuracy_score(y_val_real_, y_scores_val_df['decison_threshold'+str(nuevo_umbral)]))\n",
        "    print()\n",
        "    print('Confusion Matrix')\n",
        "    plt.figure(figsize=(10,10))\n",
        "    sns.heatmap(confusion_matrix(y_val_real_, y_scores_val_df['decison_threshold'+str(nuevo_umbral)]), annot=True, fmt = 'g')\n",
        "    plt.title('Confusion Matrix')\n",
        "    plt.ylabel('Actual Values')\n",
        "    plt.xlabel('Predicted Values')\n",
        "    plt.show()"
      ],
      "metadata": {
        "id": "AJURbiT18feM"
      },
      "execution_count": null,
      "outputs": []
    },
    {
      "cell_type": "markdown",
      "source": [
        "### 6) Evaluación del Proyecto"
      ],
      "metadata": {
        "id": "aoUUSpY3v2U4"
      }
    },
    {
      "cell_type": "markdown",
      "source": [
        "El **objectivo** de este proyecto era: \n",
        "\n",
        "*Crear un modelo de clasificación binaria que prediga si una máquina fallará con un período de anticipación de 3, 6, o 12 horas. Se probarán diferentes modelos de clasificación y períodos de anticipación para intentar maximizar el poder predictivo del modelo.* \n",
        "\n",
        "El proyecto tenían los siguientes **preguntas de valor**: \n",
        "\n",
        "1. ¿Se puede usar el mantenimiento predictivo para \n",
        "predecir con 3, 6 y 12 horas de anticipación si una máquina fallará? \n",
        "\n",
        "2. ¿Se requieren modelos separados de aprendizaje automático para hacer predicciones en los cuatro tipos diferentes de máquinas que se utilizan en la fábrica?\n",
        "\n",
        "3. ¿Qué tipo de modelo de clasificación predice mejor las fallas de la máquina? \n",
        "\n",
        "4. ¿Qué variables se pueden crear con la ingeniería de funciones para mejorar el rendimiento del modelo? \n",
        "\n",
        "5. ¿Qué período de anticipación predice mejor las fallas de la máquina? \n",
        "\n",
        "\n",
        "\n",
        "\n"
      ],
      "metadata": {
        "id": "wdPQotLQxXC8"
      }
    },
    {
      "cell_type": "markdown",
      "source": [
        "#### 6.1) Evaluación de preguntas de valor"
      ],
      "metadata": {
        "id": "OUHh7w-Kx9rp"
      }
    },
    {
      "cell_type": "markdown",
      "source": [
        "##### 6.1.1) ¿Se puede usar el mantenimiento predictivo para predecir con 3, 6 y 12 horas de anticipación si una máquina fallará? \n"
      ],
      "metadata": {
        "id": "qz5NeK-xyUnq"
      }
    },
    {
      "cell_type": "markdown",
      "source": [
        "Se ha determinado que sí, mantenimiento predictivo se puede usar para predecr con 3, 6, y 12 horas de anticipación que una maquina fallará. \n",
        "\n",
        "Se crearon cuatro tipos de modelos, todos de los cuales tuvieron cierto grado de exito en cuanto a la predicción de fallas."
      ],
      "metadata": {
        "id": "3Xx2OTY1yap6"
      }
    },
    {
      "cell_type": "markdown",
      "source": [
        "##### 6.1.2) ¿Se requieren modelos separados de aprendizaje automático para hacer predicciones en los cuatro tipos diferentes de máquinas que se utilizan en la fábrica?"
      ],
      "metadata": {
        "id": "xjsHD1SHyU_q"
      }
    },
    {
      "cell_type": "markdown",
      "source": [
        "Para responder a esta pregunta con mas certeza se requiere mas analisis. Sin embargo, el buen rendimiento de los modelos sin tomar en cuenta el modelo de la maquina sugiere que no es una variable muy importante. \n",
        "\n",
        "En futuro trabajo se podrían entranar modelos de XGBoost para cada unp de los cuatro modelos de las maquinas. Estos modelos se podrían evaluar con los resultados comparados con los resultados ya obtenidos. Tambien un T - Student test se podría usar para verificar si entre los cuatro modelos de maquinas existiera una diferencia significativa en cuanto a las variables de voltaje, rotación, presión, y vibración. Este test habría dado mas claridad en cuanto a la pregunta de valor 2. "
      ],
      "metadata": {
        "id": "44Qk7bHY4gkh"
      }
    },
    {
      "cell_type": "markdown",
      "source": [
        "##### 6.1.3) ¿Qué tipo de modelo de clasificación predice mejor las fallas de la máquina? "
      ],
      "metadata": {
        "id": "HpMobG4uy90r"
      }
    },
    {
      "cell_type": "markdown",
      "source": [
        "Se averiguó que los modelos de XGBoost con el umbral de decision de 0.1 mejor predijeron si una maquina iba a fallar desde el punto de vista de una reducción en falsos negativos. "
      ],
      "metadata": {
        "id": "I6prqB1_zBUW"
      }
    },
    {
      "cell_type": "markdown",
      "source": [
        "##### 6.1.4) ¿Qué variables se pueden crear con la ingeniería de funciones para mejorar el rendimiento del modelo? "
      ],
      "metadata": {
        "id": "Hde5R_ITzasg"
      }
    },
    {
      "cell_type": "markdown",
      "source": [
        "En la etapa del preprocesamiento de los datos varias nuevas variables se crearon con la ingenería de funciones. \n",
        "\n",
        "Se crearon variables para: \n",
        "\n",
        "- el promedio, valor minimo, valor maximo, y desviación estander, para los ultimos 3, 6, 12 horas para las configuraciones de  voltaje, rotación, presión, vibración de las maquinas. \n",
        "\n",
        "- la cantidad de dias desde el ultimo error de tipo 1, 2, 3, 4, y 5. \n",
        "\n",
        "- la cantidad de dias desde el ultimo mantimiento de componente 1, 2, 3, y 4. \n",
        "\n",
        "- el año, mes, dia de la semana, hora.  "
      ],
      "metadata": {
        "id": "wHssdl7Gzfmf"
      }
    },
    {
      "cell_type": "markdown",
      "source": [
        "Tras un analisis de la importancia de variables, se identificó que varias de las variables creadas tenían importancía en los modelos de XGBoost. La variable de hora, y la media para voltaje en las ultimas doce horas tenían mas importancia en los tres modelos de XGBoost. "
      ],
      "metadata": {
        "id": "kYpf1hsj16Mt"
      }
    },
    {
      "cell_type": "markdown",
      "source": [
        "##### 6.1.5) ¿Qué período de anticipación predice mejor las fallas de la máquina? "
      ],
      "metadata": {
        "id": "QcPvoQ2k2lao"
      }
    },
    {
      "cell_type": "markdown",
      "source": [
        "Tras entrenar modelos para predecir fallas con periodos de anticipación de 3, 6, y 12 horas se ha descubierto que el periodo de anticipación de 6 horas mejor predice una falla. Este periodo tiene la mejor reduccion en falsos negativos que se querian minimizar. El peor periodo para identificar fallas era 3 horas de anticipación, pero de todas formas tambien estuvo exitoso. La base de datos a continuación expone las metricas de precision y recall para todos los modelos. "
      ],
      "metadata": {
        "id": "YhKhCIzx2njT"
      }
    },
    {
      "cell_type": "code",
      "source": [
        "pd.DataFrame(np.array([['3_hours', 'recall', 0.84, 0.359, 0.87, 0.77, 0.97],\n",
        "                      ['3_hours', 'precision', 0.86, 0.977, 0.96, 0.98, 0.76],\n",
        "                      ['6_hours', 'recall', 0.86, 0.623, 0.89, 0.89, 0.97],\n",
        "                      ['6_hours', 'precision', 0.89, 0.984, 0.95, 0.99, 0.77], \n",
        "                      ['12_hours', 'recall', 0.86, 0.49, 0.88, 0.91, 0.97],\n",
        "                      ['12_hours', 'precision', 0.85, 0.99, 0.96, 0.97, 0.76]]),\n",
        "                      columns = ['periodo_anticipación', 'metrica', 'DecisionTree', \n",
        "                                 'RandomForest','BaggingDecisionTree', 'XGBoost', 'XGBoostUmbral0.1'])"
      ],
      "metadata": {
        "colab": {
          "base_uri": "https://localhost:8080/",
          "height": 302
        },
        "id": "P61m5a3K5q1B",
        "outputId": "329a3f19-ceaa-4095-eac3-48dd56da7367"
      },
      "execution_count": null,
      "outputs": [
        {
          "output_type": "execute_result",
          "data": {
            "text/html": [
              "\n",
              "  <div id=\"df-ad653a30-2b7f-4f67-bc70-3d9f6217218a\">\n",
              "    <div class=\"colab-df-container\">\n",
              "      <div>\n",
              "<style scoped>\n",
              "    .dataframe tbody tr th:only-of-type {\n",
              "        vertical-align: middle;\n",
              "    }\n",
              "\n",
              "    .dataframe tbody tr th {\n",
              "        vertical-align: top;\n",
              "    }\n",
              "\n",
              "    .dataframe thead th {\n",
              "        text-align: right;\n",
              "    }\n",
              "</style>\n",
              "<table border=\"1\" class=\"dataframe\">\n",
              "  <thead>\n",
              "    <tr style=\"text-align: right;\">\n",
              "      <th></th>\n",
              "      <th>periodo_anticipación</th>\n",
              "      <th>metrica</th>\n",
              "      <th>DecisionTree</th>\n",
              "      <th>RandomForest</th>\n",
              "      <th>BaggingDecisionTree</th>\n",
              "      <th>XGBoost</th>\n",
              "      <th>XGBoostUmbral0.1</th>\n",
              "    </tr>\n",
              "  </thead>\n",
              "  <tbody>\n",
              "    <tr>\n",
              "      <th>0</th>\n",
              "      <td>3_hours</td>\n",
              "      <td>recall</td>\n",
              "      <td>0.84</td>\n",
              "      <td>0.359</td>\n",
              "      <td>0.87</td>\n",
              "      <td>0.77</td>\n",
              "      <td>0.97</td>\n",
              "    </tr>\n",
              "    <tr>\n",
              "      <th>1</th>\n",
              "      <td>3_hours</td>\n",
              "      <td>precision</td>\n",
              "      <td>0.86</td>\n",
              "      <td>0.977</td>\n",
              "      <td>0.96</td>\n",
              "      <td>0.98</td>\n",
              "      <td>0.76</td>\n",
              "    </tr>\n",
              "    <tr>\n",
              "      <th>2</th>\n",
              "      <td>6_hours</td>\n",
              "      <td>recall</td>\n",
              "      <td>0.86</td>\n",
              "      <td>0.623</td>\n",
              "      <td>0.89</td>\n",
              "      <td>0.89</td>\n",
              "      <td>0.97</td>\n",
              "    </tr>\n",
              "    <tr>\n",
              "      <th>3</th>\n",
              "      <td>6_hours</td>\n",
              "      <td>precision</td>\n",
              "      <td>0.89</td>\n",
              "      <td>0.984</td>\n",
              "      <td>0.95</td>\n",
              "      <td>0.99</td>\n",
              "      <td>0.77</td>\n",
              "    </tr>\n",
              "    <tr>\n",
              "      <th>4</th>\n",
              "      <td>12_hours</td>\n",
              "      <td>recall</td>\n",
              "      <td>0.86</td>\n",
              "      <td>0.49</td>\n",
              "      <td>0.88</td>\n",
              "      <td>0.91</td>\n",
              "      <td>0.97</td>\n",
              "    </tr>\n",
              "    <tr>\n",
              "      <th>5</th>\n",
              "      <td>12_hours</td>\n",
              "      <td>precision</td>\n",
              "      <td>0.85</td>\n",
              "      <td>0.99</td>\n",
              "      <td>0.96</td>\n",
              "      <td>0.97</td>\n",
              "      <td>0.76</td>\n",
              "    </tr>\n",
              "  </tbody>\n",
              "</table>\n",
              "</div>\n",
              "      <button class=\"colab-df-convert\" onclick=\"convertToInteractive('df-ad653a30-2b7f-4f67-bc70-3d9f6217218a')\"\n",
              "              title=\"Convert this dataframe to an interactive table.\"\n",
              "              style=\"display:none;\">\n",
              "        \n",
              "  <svg xmlns=\"http://www.w3.org/2000/svg\" height=\"24px\"viewBox=\"0 0 24 24\"\n",
              "       width=\"24px\">\n",
              "    <path d=\"M0 0h24v24H0V0z\" fill=\"none\"/>\n",
              "    <path d=\"M18.56 5.44l.94 2.06.94-2.06 2.06-.94-2.06-.94-.94-2.06-.94 2.06-2.06.94zm-11 1L8.5 8.5l.94-2.06 2.06-.94-2.06-.94L8.5 2.5l-.94 2.06-2.06.94zm10 10l.94 2.06.94-2.06 2.06-.94-2.06-.94-.94-2.06-.94 2.06-2.06.94z\"/><path d=\"M17.41 7.96l-1.37-1.37c-.4-.4-.92-.59-1.43-.59-.52 0-1.04.2-1.43.59L10.3 9.45l-7.72 7.72c-.78.78-.78 2.05 0 2.83L4 21.41c.39.39.9.59 1.41.59.51 0 1.02-.2 1.41-.59l7.78-7.78 2.81-2.81c.8-.78.8-2.07 0-2.86zM5.41 20L4 18.59l7.72-7.72 1.47 1.35L5.41 20z\"/>\n",
              "  </svg>\n",
              "      </button>\n",
              "      \n",
              "  <style>\n",
              "    .colab-df-container {\n",
              "      display:flex;\n",
              "      flex-wrap:wrap;\n",
              "      gap: 12px;\n",
              "    }\n",
              "\n",
              "    .colab-df-convert {\n",
              "      background-color: #E8F0FE;\n",
              "      border: none;\n",
              "      border-radius: 50%;\n",
              "      cursor: pointer;\n",
              "      display: none;\n",
              "      fill: #1967D2;\n",
              "      height: 32px;\n",
              "      padding: 0 0 0 0;\n",
              "      width: 32px;\n",
              "    }\n",
              "\n",
              "    .colab-df-convert:hover {\n",
              "      background-color: #E2EBFA;\n",
              "      box-shadow: 0px 1px 2px rgba(60, 64, 67, 0.3), 0px 1px 3px 1px rgba(60, 64, 67, 0.15);\n",
              "      fill: #174EA6;\n",
              "    }\n",
              "\n",
              "    [theme=dark] .colab-df-convert {\n",
              "      background-color: #3B4455;\n",
              "      fill: #D2E3FC;\n",
              "    }\n",
              "\n",
              "    [theme=dark] .colab-df-convert:hover {\n",
              "      background-color: #434B5C;\n",
              "      box-shadow: 0px 1px 3px 1px rgba(0, 0, 0, 0.15);\n",
              "      filter: drop-shadow(0px 1px 2px rgba(0, 0, 0, 0.3));\n",
              "      fill: #FFFFFF;\n",
              "    }\n",
              "  </style>\n",
              "\n",
              "      <script>\n",
              "        const buttonEl =\n",
              "          document.querySelector('#df-ad653a30-2b7f-4f67-bc70-3d9f6217218a button.colab-df-convert');\n",
              "        buttonEl.style.display =\n",
              "          google.colab.kernel.accessAllowed ? 'block' : 'none';\n",
              "\n",
              "        async function convertToInteractive(key) {\n",
              "          const element = document.querySelector('#df-ad653a30-2b7f-4f67-bc70-3d9f6217218a');\n",
              "          const dataTable =\n",
              "            await google.colab.kernel.invokeFunction('convertToInteractive',\n",
              "                                                     [key], {});\n",
              "          if (!dataTable) return;\n",
              "\n",
              "          const docLinkHtml = 'Like what you see? Visit the ' +\n",
              "            '<a target=\"_blank\" href=https://colab.research.google.com/notebooks/data_table.ipynb>data table notebook</a>'\n",
              "            + ' to learn more about interactive tables.';\n",
              "          element.innerHTML = '';\n",
              "          dataTable['output_type'] = 'display_data';\n",
              "          await google.colab.output.renderOutput(dataTable, element);\n",
              "          const docLink = document.createElement('div');\n",
              "          docLink.innerHTML = docLinkHtml;\n",
              "          element.appendChild(docLink);\n",
              "        }\n",
              "      </script>\n",
              "    </div>\n",
              "  </div>\n",
              "  "
            ],
            "text/plain": [
              "  periodo_anticipación    metrica  ... XGBoost XGBoostUmbral0.1\n",
              "0              3_hours     recall  ...    0.77             0.97\n",
              "1              3_hours  precision  ...    0.98             0.76\n",
              "2              6_hours     recall  ...    0.89             0.97\n",
              "3              6_hours  precision  ...    0.99             0.77\n",
              "4             12_hours     recall  ...    0.91             0.97\n",
              "5             12_hours  precision  ...    0.97             0.76\n",
              "\n",
              "[6 rows x 7 columns]"
            ]
          },
          "metadata": {},
          "execution_count": 42
        }
      ]
    },
    {
      "cell_type": "markdown",
      "source": [
        "#### 6.2) Revision del proceso\n",
        "\n",
        "Siento que el proyecto fue un exito ya que se desarrolló un modelo que logró un recall de 0.96 al estar probado con los datos de test. \n",
        "\n",
        "Sin embargo, y no solo hablando de este proyecto me gustaría mejorar mis conocimientos de cuando es mejor aplicar tecnicas como escalamiento de variables, y como se puede usar pruebas estadisitcas para verificar si hay una diferencia estadisiticamente significativo entre categorias de una variable. \n",
        "\n",
        "En cuanto a este proyecto me gustaría haber utilizado un T - Student test para verificar si entre los cuatro modelos de maquinas existiera una diferencia significativa en cuanto a las variables de voltaje, rotación, presión, y vibración. Este test habría dado mas claridad en cuanto a la pregunta de valor 2. \n",
        "\n",
        "Tambien me gustaría conseguir mas conocemiento de como las hyperparametros de los modelos se pueden ajustar y que hace exatamente cada hyperparametro. \n",
        "\n",
        "Un obstaculo al principio del proyecto era una falta de concomiento del rubro, y por tanto no sabía cual variables nuevas crear con los datos originales. Sin embago, suparé este problema tras investigar mas sobre las diferentes variables que se podrian crear con lectura de otros proyectos de mantenimiento predictivo de gran ayuda. Estas neuvas variables creadas con ingeneria de funciones ayudaron mucho en la predicción de las variables dependientes. "
      ],
      "metadata": {
        "id": "SJ0Pmv6r_sBi"
      }
    },
    {
      "cell_type": "markdown",
      "source": [
        "#### 6.3) Proximas etapas\n",
        "\n",
        "El modelo final elegido es XGBoost con un umbral de decision de 0.1. Tras probar estos modelos con los datos de test para las variables dependientes de 3 horas, 6 horas, y 12 horas se ha concluido que tienen un muy buen rendimiento con un recall de 0.96. Por lo tanto, se considera que estos tres modelos se podrían llevar a una etapa de produccion y dar predicciones sobre nuevos datos. Por supuesto, al recibir nueva informacion los modelos tendrían que estar re-entrenados constantemente. Para lograr este ciclo continuo de prediccion, re-entrenamiento, re-evaluacion, y prediccion se tendria que trabajar en conjunto con el equipo de Ingenieros de datos para utilizar el concepto de MLOps para crear una linea de trabajo parecido a ella mostrada en este [imagen](https://cloud.google.com/architecture/images/mlops-continuous-delivery-and-automation-pipelines-in-machine-learning-3-ml-automation-ct.svg)."
      ],
      "metadata": {
        "id": "DoVThoC5_zqt"
      }
    }
  ]
}