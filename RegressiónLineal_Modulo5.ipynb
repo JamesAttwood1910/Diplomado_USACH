{
  "nbformat": 4,
  "nbformat_minor": 0,
  "metadata": {
    "colab": {
      "name": "Copy of JamesAttwood_TareadeRegresiónLineal.ipynb",
      "provenance": [],
      "authorship_tag": "ABX9TyMTGHJ+33B2oLprpox5NraB",
      "include_colab_link": true
    },
    "kernelspec": {
      "name": "python3",
      "display_name": "Python 3"
    },
    "language_info": {
      "name": "python"
    }
  },
  "cells": [
    {
      "cell_type": "markdown",
      "metadata": {
        "id": "view-in-github",
        "colab_type": "text"
      },
      "source": [
        "<a href=\"https://colab.research.google.com/github/JamesAttwood1910/Diplomado_USACH/blob/main/Regressi%C3%B3nLineal_Modulo5.ipynb\" target=\"_parent\"><img src=\"https://colab.research.google.com/assets/colab-badge.svg\" alt=\"Open In Colab\"/></a>"
      ]
    },
    {
      "cell_type": "code",
      "metadata": {
        "id": "iKvTjH4ItRrF"
      },
      "source": [
        "# Tarea de Regresión Lineal"
      ],
      "execution_count": null,
      "outputs": []
    },
    {
      "cell_type": "code",
      "metadata": {
        "id": "UoQL6peBtigY"
      },
      "source": [
        "# Librerias basicos\n",
        "\n",
        "import pandas as pd\n",
        "import numpy as np\n",
        "import matplotlib.pyplot as plt\n",
        "import seaborn as sns"
      ],
      "execution_count": null,
      "outputs": []
    },
    {
      "cell_type": "code",
      "metadata": {
        "colab": {
          "base_uri": "https://localhost:8080/"
        },
        "id": "aAAq4YtEtidc",
        "outputId": "79a849ba-a49d-4058-c688-70dde7cdfb4a"
      },
      "source": [
        "# Connectar al GDRIVE\n",
        "\n",
        "from google.colab import drive\n",
        "drive.mount('/content/drive/')"
      ],
      "execution_count": null,
      "outputs": [
        {
          "output_type": "stream",
          "name": "stdout",
          "text": [
            "Mounted at /content/drive/\n"
          ]
        }
      ]
    },
    {
      "cell_type": "markdown",
      "metadata": {
        "id": "g-NECKdtU0g6"
      },
      "source": [
        "## Preparación de datos de la Casen"
      ]
    },
    {
      "cell_type": "code",
      "metadata": {
        "colab": {
          "base_uri": "https://localhost:8080/",
          "height": 800
        },
        "id": "46A79q3ftiWc",
        "outputId": "7b20aca9-31e7-4cf2-ce6f-a0011e2ff968"
      },
      "source": [
        "dtafile = '/content/drive/MyDrive/Modulo5/Casen en Pandemia 2020 STATA.dta'\n",
        "\n",
        "df = pd.read_stata(dtafile)\n",
        "df.tail()"
      ],
      "execution_count": null,
      "outputs": [
        {
          "output_type": "stream",
          "name": "stderr",
          "text": [
            "/usr/local/lib/python3.7/dist-packages/pandas/io/stata.py:1434: UnicodeWarning: \n",
            "One or more strings in the dta file could not be decoded using utf-8, and\n",
            "so the fallback encoding of latin-1 is being used.  This can happen when a file\n",
            "has been incorrectly encoded by Stata or some other software. You should verify\n",
            "the string values returned are correct.\n",
            "  warnings.warn(msg, UnicodeWarning)\n"
          ]
        },
        {
          "output_type": "execute_result",
          "data": {
            "text/html": [
              "<div>\n",
              "<style scoped>\n",
              "    .dataframe tbody tr th:only-of-type {\n",
              "        vertical-align: middle;\n",
              "    }\n",
              "\n",
              "    .dataframe tbody tr th {\n",
              "        vertical-align: top;\n",
              "    }\n",
              "\n",
              "    .dataframe thead th {\n",
              "        text-align: right;\n",
              "    }\n",
              "</style>\n",
              "<table border=\"1\" class=\"dataframe\">\n",
              "  <thead>\n",
              "    <tr style=\"text-align: right;\">\n",
              "      <th></th>\n",
              "      <th>folio</th>\n",
              "      <th>o</th>\n",
              "      <th>id_persona</th>\n",
              "      <th>id_vivienda</th>\n",
              "      <th>region</th>\n",
              "      <th>provincia</th>\n",
              "      <th>comuna</th>\n",
              "      <th>zona</th>\n",
              "      <th>area</th>\n",
              "      <th>segmento</th>\n",
              "      <th>estrato</th>\n",
              "      <th>cod_upm</th>\n",
              "      <th>hogar</th>\n",
              "      <th>p6_p_con</th>\n",
              "      <th>expr</th>\n",
              "      <th>expp</th>\n",
              "      <th>expc</th>\n",
              "      <th>varstrat</th>\n",
              "      <th>varunit</th>\n",
              "      <th>fecha_entrev</th>\n",
              "      <th>metodologia_entrev</th>\n",
              "      <th>tot_hog</th>\n",
              "      <th>numviv</th>\n",
              "      <th>informante_idoneo</th>\n",
              "      <th>tel1</th>\n",
              "      <th>tel2</th>\n",
              "      <th>tel3</th>\n",
              "      <th>tel4</th>\n",
              "      <th>tel5</th>\n",
              "      <th>tel6</th>\n",
              "      <th>tel7</th>\n",
              "      <th>tel8</th>\n",
              "      <th>p0a</th>\n",
              "      <th>p0b</th>\n",
              "      <th>p1</th>\n",
              "      <th>p2</th>\n",
              "      <th>p3</th>\n",
              "      <th>p4</th>\n",
              "      <th>p5</th>\n",
              "      <th>p6</th>\n",
              "      <th>...</th>\n",
              "      <th>r2_c_cod</th>\n",
              "      <th>r2_pais_esp</th>\n",
              "      <th>r2_p_cod</th>\n",
              "      <th>r3</th>\n",
              "      <th>r8a</th>\n",
              "      <th>r8b</th>\n",
              "      <th>r8c</th>\n",
              "      <th>r8d</th>\n",
              "      <th>r8e</th>\n",
              "      <th>r8f</th>\n",
              "      <th>r8g</th>\n",
              "      <th>r8h</th>\n",
              "      <th>inmigrante</th>\n",
              "      <th>etnia</th>\n",
              "      <th>v1</th>\n",
              "      <th>v1_casa</th>\n",
              "      <th>v1_depto</th>\n",
              "      <th>v13</th>\n",
              "      <th>v13_propia</th>\n",
              "      <th>v13_arrendada</th>\n",
              "      <th>v13_cedida</th>\n",
              "      <th>v19_preg</th>\n",
              "      <th>v19</th>\n",
              "      <th>v20</th>\n",
              "      <th>v20_esp</th>\n",
              "      <th>v20_red</th>\n",
              "      <th>v22</th>\n",
              "      <th>v23</th>\n",
              "      <th>v23_sistema</th>\n",
              "      <th>v23_cajon</th>\n",
              "      <th>v27</th>\n",
              "      <th>v28</th>\n",
              "      <th>v29</th>\n",
              "      <th>hacinamiento</th>\n",
              "      <th>nhog_viv</th>\n",
              "      <th>indsan</th>\n",
              "      <th>ten_viv</th>\n",
              "      <th>ten_viv_f</th>\n",
              "      <th>iae</th>\n",
              "      <th>iai</th>\n",
              "    </tr>\n",
              "  </thead>\n",
              "  <tbody>\n",
              "    <tr>\n",
              "      <th>185432</th>\n",
              "      <td>1.630530e+12</td>\n",
              "      <td>1</td>\n",
              "      <td>494</td>\n",
              "      <td>1.630530e+10</td>\n",
              "      <td>Región de Ñuble</td>\n",
              "      <td>Punilla</td>\n",
              "      <td>San Nicolás</td>\n",
              "      <td>Rural</td>\n",
              "      <td>Rural</td>\n",
              "      <td>163053003</td>\n",
              "      <td>163052</td>\n",
              "      <td>1.630590e+10</td>\n",
              "      <td>1</td>\n",
              "      <td>Casa aislada (no pareada)</td>\n",
              "      <td>78</td>\n",
              "      <td>80</td>\n",
              "      <td>59</td>\n",
              "      <td>588</td>\n",
              "      <td>1494</td>\n",
              "      <td>2021-01-06</td>\n",
              "      <td>Teléfonica</td>\n",
              "      <td>1</td>\n",
              "      <td>4</td>\n",
              "      <td>Sí</td>\n",
              "      <td>Contesta</td>\n",
              "      <td>NaN</td>\n",
              "      <td>NaN</td>\n",
              "      <td>NaN</td>\n",
              "      <td>NaN</td>\n",
              "      <td>NaN</td>\n",
              "      <td>NaN</td>\n",
              "      <td>NaN</td>\n",
              "      <td>NaN</td>\n",
              "      <td>NaN</td>\n",
              "      <td>Sí</td>\n",
              "      <td>NaN</td>\n",
              "      <td>Sí</td>\n",
              "      <td>48</td>\n",
              "      <td>Jefe(a) de Hogar</td>\n",
              "      <td>4</td>\n",
              "      <td>...</td>\n",
              "      <td>NaN</td>\n",
              "      <td></td>\n",
              "      <td>NaN</td>\n",
              "      <td>No pertenece a ninguno de estos pueblos indígenas</td>\n",
              "      <td>Sí</td>\n",
              "      <td>Sí</td>\n",
              "      <td>Sí</td>\n",
              "      <td>No</td>\n",
              "      <td>Sí</td>\n",
              "      <td>No</td>\n",
              "      <td>Sí</td>\n",
              "      <td>No</td>\n",
              "      <td>No sabe</td>\n",
              "      <td>No pertenece a ninguno pueblo indígena</td>\n",
              "      <td>Casa</td>\n",
              "      <td>Casa aislada (no pareada)</td>\n",
              "      <td>NaN</td>\n",
              "      <td>Propia</td>\n",
              "      <td>Propia pagada</td>\n",
              "      <td>NaN</td>\n",
              "      <td>NaN</td>\n",
              "      <td>No sabe</td>\n",
              "      <td>NaN</td>\n",
              "      <td>Pozo o noria</td>\n",
              "      <td></td>\n",
              "      <td>NaN</td>\n",
              "      <td>NaN</td>\n",
              "      <td>Sí</td>\n",
              "      <td>W.C. conectado al alcantarillado</td>\n",
              "      <td>NaN</td>\n",
              "      <td>3</td>\n",
              "      <td>NaN</td>\n",
              "      <td>NaN</td>\n",
              "      <td>Sin hacinamiento (menos de 2,5 personas por do...</td>\n",
              "      <td>1</td>\n",
              "      <td>NaN</td>\n",
              "      <td>Propia</td>\n",
              "      <td>Tenencia formal</td>\n",
              "      <td>Sin allegamiento externo</td>\n",
              "      <td>con allegamiento interno</td>\n",
              "    </tr>\n",
              "    <tr>\n",
              "      <th>185433</th>\n",
              "      <td>1.630530e+12</td>\n",
              "      <td>2</td>\n",
              "      <td>495</td>\n",
              "      <td>1.630530e+10</td>\n",
              "      <td>Región de Ñuble</td>\n",
              "      <td>Punilla</td>\n",
              "      <td>San Nicolás</td>\n",
              "      <td>Rural</td>\n",
              "      <td>Rural</td>\n",
              "      <td>163053003</td>\n",
              "      <td>163052</td>\n",
              "      <td>1.630590e+10</td>\n",
              "      <td>1</td>\n",
              "      <td>Casa aislada (no pareada)</td>\n",
              "      <td>78</td>\n",
              "      <td>80</td>\n",
              "      <td>59</td>\n",
              "      <td>588</td>\n",
              "      <td>1494</td>\n",
              "      <td>2021-01-06</td>\n",
              "      <td>Teléfonica</td>\n",
              "      <td>1</td>\n",
              "      <td>4</td>\n",
              "      <td>No</td>\n",
              "      <td>Contesta</td>\n",
              "      <td>NaN</td>\n",
              "      <td>NaN</td>\n",
              "      <td>NaN</td>\n",
              "      <td>NaN</td>\n",
              "      <td>NaN</td>\n",
              "      <td>NaN</td>\n",
              "      <td>NaN</td>\n",
              "      <td>NaN</td>\n",
              "      <td>NaN</td>\n",
              "      <td>Sí</td>\n",
              "      <td>NaN</td>\n",
              "      <td>Sí</td>\n",
              "      <td>48</td>\n",
              "      <td>Jefe(a) de Hogar</td>\n",
              "      <td>4</td>\n",
              "      <td>...</td>\n",
              "      <td>NaN</td>\n",
              "      <td></td>\n",
              "      <td>NaN</td>\n",
              "      <td>No pertenece a ninguno de estos pueblos indígenas</td>\n",
              "      <td>Sí</td>\n",
              "      <td>Sí</td>\n",
              "      <td>Sí</td>\n",
              "      <td>No</td>\n",
              "      <td>Sí</td>\n",
              "      <td>No</td>\n",
              "      <td>Sí</td>\n",
              "      <td>No</td>\n",
              "      <td>No sabe</td>\n",
              "      <td>No pertenece a ninguno pueblo indígena</td>\n",
              "      <td>Casa</td>\n",
              "      <td>Casa aislada (no pareada)</td>\n",
              "      <td>NaN</td>\n",
              "      <td>Propia</td>\n",
              "      <td>Propia pagada</td>\n",
              "      <td>NaN</td>\n",
              "      <td>NaN</td>\n",
              "      <td>No sabe</td>\n",
              "      <td>NaN</td>\n",
              "      <td>Pozo o noria</td>\n",
              "      <td></td>\n",
              "      <td>NaN</td>\n",
              "      <td>NaN</td>\n",
              "      <td>Sí</td>\n",
              "      <td>W.C. conectado al alcantarillado</td>\n",
              "      <td>NaN</td>\n",
              "      <td>3</td>\n",
              "      <td>NaN</td>\n",
              "      <td>NaN</td>\n",
              "      <td>Sin hacinamiento (menos de 2,5 personas por do...</td>\n",
              "      <td>1</td>\n",
              "      <td>NaN</td>\n",
              "      <td>Propia</td>\n",
              "      <td>Tenencia formal</td>\n",
              "      <td>Sin allegamiento externo</td>\n",
              "      <td>con allegamiento interno</td>\n",
              "    </tr>\n",
              "    <tr>\n",
              "      <th>185434</th>\n",
              "      <td>1.630530e+12</td>\n",
              "      <td>3</td>\n",
              "      <td>98</td>\n",
              "      <td>1.630530e+10</td>\n",
              "      <td>Región de Ñuble</td>\n",
              "      <td>Punilla</td>\n",
              "      <td>San Nicolás</td>\n",
              "      <td>Rural</td>\n",
              "      <td>Rural</td>\n",
              "      <td>163053003</td>\n",
              "      <td>163052</td>\n",
              "      <td>1.630590e+10</td>\n",
              "      <td>1</td>\n",
              "      <td>Casa aislada (no pareada)</td>\n",
              "      <td>78</td>\n",
              "      <td>80</td>\n",
              "      <td>59</td>\n",
              "      <td>588</td>\n",
              "      <td>1494</td>\n",
              "      <td>2020-12-22</td>\n",
              "      <td>Teléfonica</td>\n",
              "      <td>1</td>\n",
              "      <td>3</td>\n",
              "      <td>No</td>\n",
              "      <td>Contesta</td>\n",
              "      <td>NaN</td>\n",
              "      <td>NaN</td>\n",
              "      <td>NaN</td>\n",
              "      <td>NaN</td>\n",
              "      <td>NaN</td>\n",
              "      <td>NaN</td>\n",
              "      <td>NaN</td>\n",
              "      <td>NaN</td>\n",
              "      <td>NaN</td>\n",
              "      <td>Sí</td>\n",
              "      <td>NaN</td>\n",
              "      <td>Sí</td>\n",
              "      <td>71</td>\n",
              "      <td>Jefe(a) de Hogar</td>\n",
              "      <td>3</td>\n",
              "      <td>...</td>\n",
              "      <td>Chillán</td>\n",
              "      <td></td>\n",
              "      <td>NaN</td>\n",
              "      <td>No pertenece a ninguno de estos pueblos indígenas</td>\n",
              "      <td>No</td>\n",
              "      <td>No</td>\n",
              "      <td>No</td>\n",
              "      <td>No</td>\n",
              "      <td>NaN</td>\n",
              "      <td>NaN</td>\n",
              "      <td>NaN</td>\n",
              "      <td>NaN</td>\n",
              "      <td>No inmigrante</td>\n",
              "      <td>No pertenece a ninguno pueblo indígena</td>\n",
              "      <td>Casa</td>\n",
              "      <td>Casa aislada (no pareada)</td>\n",
              "      <td>NaN</td>\n",
              "      <td>Propia</td>\n",
              "      <td>Propia pagada</td>\n",
              "      <td>NaN</td>\n",
              "      <td>NaN</td>\n",
              "      <td>No sabe</td>\n",
              "      <td>NaN</td>\n",
              "      <td>Pozo o noria</td>\n",
              "      <td></td>\n",
              "      <td>NaN</td>\n",
              "      <td>NaN</td>\n",
              "      <td>No</td>\n",
              "      <td>NaN</td>\n",
              "      <td>NaN</td>\n",
              "      <td>2</td>\n",
              "      <td>NaN</td>\n",
              "      <td>NaN</td>\n",
              "      <td>Sin hacinamiento (menos de 2,5 personas por do...</td>\n",
              "      <td>1</td>\n",
              "      <td>Deficitario</td>\n",
              "      <td>Propia</td>\n",
              "      <td>Tenencia formal</td>\n",
              "      <td>Sin allegamiento externo</td>\n",
              "      <td>sin allegamiento interno</td>\n",
              "    </tr>\n",
              "    <tr>\n",
              "      <th>185435</th>\n",
              "      <td>1.630530e+12</td>\n",
              "      <td>1</td>\n",
              "      <td>96</td>\n",
              "      <td>1.630530e+10</td>\n",
              "      <td>Región de Ñuble</td>\n",
              "      <td>Punilla</td>\n",
              "      <td>San Nicolás</td>\n",
              "      <td>Rural</td>\n",
              "      <td>Rural</td>\n",
              "      <td>163053003</td>\n",
              "      <td>163052</td>\n",
              "      <td>1.630590e+10</td>\n",
              "      <td>1</td>\n",
              "      <td>Casa aislada (no pareada)</td>\n",
              "      <td>78</td>\n",
              "      <td>80</td>\n",
              "      <td>59</td>\n",
              "      <td>588</td>\n",
              "      <td>1494</td>\n",
              "      <td>2020-12-22</td>\n",
              "      <td>Teléfonica</td>\n",
              "      <td>1</td>\n",
              "      <td>3</td>\n",
              "      <td>Sí</td>\n",
              "      <td>Contesta</td>\n",
              "      <td>NaN</td>\n",
              "      <td>NaN</td>\n",
              "      <td>NaN</td>\n",
              "      <td>NaN</td>\n",
              "      <td>NaN</td>\n",
              "      <td>NaN</td>\n",
              "      <td>NaN</td>\n",
              "      <td>NaN</td>\n",
              "      <td>NaN</td>\n",
              "      <td>Sí</td>\n",
              "      <td>NaN</td>\n",
              "      <td>Sí</td>\n",
              "      <td>71</td>\n",
              "      <td>Jefe(a) de Hogar</td>\n",
              "      <td>3</td>\n",
              "      <td>...</td>\n",
              "      <td>Chillán</td>\n",
              "      <td></td>\n",
              "      <td>NaN</td>\n",
              "      <td>No pertenece a ninguno de estos pueblos indígenas</td>\n",
              "      <td>No</td>\n",
              "      <td>No</td>\n",
              "      <td>No</td>\n",
              "      <td>No</td>\n",
              "      <td>NaN</td>\n",
              "      <td>NaN</td>\n",
              "      <td>NaN</td>\n",
              "      <td>NaN</td>\n",
              "      <td>No inmigrante</td>\n",
              "      <td>No pertenece a ninguno pueblo indígena</td>\n",
              "      <td>Casa</td>\n",
              "      <td>Casa aislada (no pareada)</td>\n",
              "      <td>NaN</td>\n",
              "      <td>Propia</td>\n",
              "      <td>Propia pagada</td>\n",
              "      <td>NaN</td>\n",
              "      <td>NaN</td>\n",
              "      <td>No sabe</td>\n",
              "      <td>NaN</td>\n",
              "      <td>Pozo o noria</td>\n",
              "      <td></td>\n",
              "      <td>NaN</td>\n",
              "      <td>NaN</td>\n",
              "      <td>No</td>\n",
              "      <td>NaN</td>\n",
              "      <td>NaN</td>\n",
              "      <td>2</td>\n",
              "      <td>NaN</td>\n",
              "      <td>NaN</td>\n",
              "      <td>Sin hacinamiento (menos de 2,5 personas por do...</td>\n",
              "      <td>1</td>\n",
              "      <td>Deficitario</td>\n",
              "      <td>Propia</td>\n",
              "      <td>Tenencia formal</td>\n",
              "      <td>Sin allegamiento externo</td>\n",
              "      <td>sin allegamiento interno</td>\n",
              "    </tr>\n",
              "    <tr>\n",
              "      <th>185436</th>\n",
              "      <td>1.630530e+12</td>\n",
              "      <td>2</td>\n",
              "      <td>97</td>\n",
              "      <td>1.630530e+10</td>\n",
              "      <td>Región de Ñuble</td>\n",
              "      <td>Punilla</td>\n",
              "      <td>San Nicolás</td>\n",
              "      <td>Rural</td>\n",
              "      <td>Rural</td>\n",
              "      <td>163053003</td>\n",
              "      <td>163052</td>\n",
              "      <td>1.630590e+10</td>\n",
              "      <td>1</td>\n",
              "      <td>Casa aislada (no pareada)</td>\n",
              "      <td>78</td>\n",
              "      <td>80</td>\n",
              "      <td>59</td>\n",
              "      <td>588</td>\n",
              "      <td>1494</td>\n",
              "      <td>2020-12-22</td>\n",
              "      <td>Teléfonica</td>\n",
              "      <td>1</td>\n",
              "      <td>3</td>\n",
              "      <td>No</td>\n",
              "      <td>Contesta</td>\n",
              "      <td>NaN</td>\n",
              "      <td>NaN</td>\n",
              "      <td>NaN</td>\n",
              "      <td>NaN</td>\n",
              "      <td>NaN</td>\n",
              "      <td>NaN</td>\n",
              "      <td>NaN</td>\n",
              "      <td>NaN</td>\n",
              "      <td>NaN</td>\n",
              "      <td>Sí</td>\n",
              "      <td>NaN</td>\n",
              "      <td>Sí</td>\n",
              "      <td>71</td>\n",
              "      <td>Jefe(a) de Hogar</td>\n",
              "      <td>3</td>\n",
              "      <td>...</td>\n",
              "      <td>Chillán</td>\n",
              "      <td></td>\n",
              "      <td>NaN</td>\n",
              "      <td>No pertenece a ninguno de estos pueblos indígenas</td>\n",
              "      <td>No</td>\n",
              "      <td>No</td>\n",
              "      <td>No</td>\n",
              "      <td>No</td>\n",
              "      <td>NaN</td>\n",
              "      <td>NaN</td>\n",
              "      <td>NaN</td>\n",
              "      <td>NaN</td>\n",
              "      <td>No inmigrante</td>\n",
              "      <td>No pertenece a ninguno pueblo indígena</td>\n",
              "      <td>Casa</td>\n",
              "      <td>Casa aislada (no pareada)</td>\n",
              "      <td>NaN</td>\n",
              "      <td>Propia</td>\n",
              "      <td>Propia pagada</td>\n",
              "      <td>NaN</td>\n",
              "      <td>NaN</td>\n",
              "      <td>No sabe</td>\n",
              "      <td>NaN</td>\n",
              "      <td>Pozo o noria</td>\n",
              "      <td></td>\n",
              "      <td>NaN</td>\n",
              "      <td>NaN</td>\n",
              "      <td>No</td>\n",
              "      <td>NaN</td>\n",
              "      <td>NaN</td>\n",
              "      <td>2</td>\n",
              "      <td>NaN</td>\n",
              "      <td>NaN</td>\n",
              "      <td>Sin hacinamiento (menos de 2,5 personas por do...</td>\n",
              "      <td>1</td>\n",
              "      <td>Deficitario</td>\n",
              "      <td>Propia</td>\n",
              "      <td>Tenencia formal</td>\n",
              "      <td>Sin allegamiento externo</td>\n",
              "      <td>sin allegamiento interno</td>\n",
              "    </tr>\n",
              "  </tbody>\n",
              "</table>\n",
              "<p>5 rows × 650 columns</p>\n",
              "</div>"
            ],
            "text/plain": [
              "               folio  o  ...                       iae                       iai\n",
              "185432  1.630530e+12  1  ...  Sin allegamiento externo  con allegamiento interno\n",
              "185433  1.630530e+12  2  ...  Sin allegamiento externo  con allegamiento interno\n",
              "185434  1.630530e+12  3  ...  Sin allegamiento externo  sin allegamiento interno\n",
              "185435  1.630530e+12  1  ...  Sin allegamiento externo  sin allegamiento interno\n",
              "185436  1.630530e+12  2  ...  Sin allegamiento externo  sin allegamiento interno\n",
              "\n",
              "[5 rows x 650 columns]"
            ]
          },
          "metadata": {},
          "execution_count": 65
        }
      ]
    },
    {
      "cell_type": "markdown",
      "metadata": {
        "id": "wkdXZXKIU67e"
      },
      "source": [
        "Se va a investigar el impacto de variables del Módulo Vivienda en Sueldo. "
      ]
    },
    {
      "cell_type": "code",
      "metadata": {
        "colab": {
          "base_uri": "https://localhost:8080/"
        },
        "id": "K2AbBLjvtiR3",
        "outputId": "c0e33e38-b1c5-4ebc-b5f0-dbb7a2d07d52"
      },
      "source": [
        "df['y1_preg'].value_counts()"
      ],
      "execution_count": null,
      "outputs": [
        {
          "output_type": "execute_result",
          "data": {
            "text/plain": [
              "Sí                   40418\n",
              "No sabe               5224\n",
              "No recibió sueldo     3512\n",
              "Name: y1_preg, dtype: int64"
            ]
          },
          "metadata": {},
          "execution_count": 7
        }
      ]
    },
    {
      "cell_type": "code",
      "metadata": {
        "colab": {
          "base_uri": "https://localhost:8080/"
        },
        "id": "hvlsvzu8tiPM",
        "outputId": "06837f79-7400-44f3-ee59-c3c38bd2d00e"
      },
      "source": [
        "df['y1'].isna().sum()"
      ],
      "execution_count": null,
      "outputs": [
        {
          "output_type": "execute_result",
          "data": {
            "text/plain": [
              "145019"
            ]
          },
          "metadata": {},
          "execution_count": 11
        }
      ]
    },
    {
      "cell_type": "code",
      "metadata": {
        "id": "ddFaUK5btiHH"
      },
      "source": [
        "# Crear nueva base de datos con variables independientes y variable dependiente. \n",
        "\n",
        "data = df[['y1', 'region', 'comuna', 'zona', 'area', \n",
        "    'edad', 'sexo', 'v1', 'v13', 'v19_preg', 'v19', 'v20', 'v20_esp', 'v22', 'v23',\n",
        "    'v23_sistema', 'v27', 'v29']]"
      ],
      "execution_count": null,
      "outputs": []
    },
    {
      "cell_type": "code",
      "metadata": {
        "id": "wy1pHPh7tiEZ"
      },
      "source": [
        "# Guardar este base de datos en el drive para no tener que cargar la base de la CASEN cada vez. \n",
        "\n",
        "data.to_csv('/content/drive/My Drive/Modulo5/data_Casen.csv')"
      ],
      "execution_count": null,
      "outputs": []
    },
    {
      "cell_type": "code",
      "metadata": {
        "id": "pD2bucVEth_R"
      },
      "source": [
        "# Cargar base de datos \n",
        "\n",
        "data = pd.read_csv(\"/content/drive/MyDrive/Modulo5/data_Casen.csv\")"
      ],
      "execution_count": null,
      "outputs": []
    },
    {
      "cell_type": "code",
      "metadata": {
        "id": "DDGrywplrpJd"
      },
      "source": [
        "# hacer copia\n",
        "\n",
        "data_copy = data"
      ],
      "execution_count": null,
      "outputs": []
    },
    {
      "cell_type": "code",
      "metadata": {
        "colab": {
          "base_uri": "https://localhost:8080/",
          "height": 519
        },
        "id": "Q8tfy8KFth8b",
        "outputId": "6d2b470a-bfd3-4257-8794-45c01254cf82"
      },
      "source": [
        "data.head()"
      ],
      "execution_count": null,
      "outputs": [
        {
          "output_type": "execute_result",
          "data": {
            "text/html": [
              "<div>\n",
              "<style scoped>\n",
              "    .dataframe tbody tr th:only-of-type {\n",
              "        vertical-align: middle;\n",
              "    }\n",
              "\n",
              "    .dataframe tbody tr th {\n",
              "        vertical-align: top;\n",
              "    }\n",
              "\n",
              "    .dataframe thead th {\n",
              "        text-align: right;\n",
              "    }\n",
              "</style>\n",
              "<table border=\"1\" class=\"dataframe\">\n",
              "  <thead>\n",
              "    <tr style=\"text-align: right;\">\n",
              "      <th></th>\n",
              "      <th>Unnamed: 0</th>\n",
              "      <th>y1</th>\n",
              "      <th>region</th>\n",
              "      <th>comuna</th>\n",
              "      <th>zona</th>\n",
              "      <th>area</th>\n",
              "      <th>edad</th>\n",
              "      <th>sexo</th>\n",
              "      <th>s2</th>\n",
              "      <th>s13</th>\n",
              "      <th>s15</th>\n",
              "      <th>s16</th>\n",
              "      <th>s17</th>\n",
              "      <th>s18</th>\n",
              "      <th>s18_esp</th>\n",
              "      <th>s28</th>\n",
              "      <th>s28_esp</th>\n",
              "      <th>s29</th>\n",
              "      <th>s30</th>\n",
              "      <th>s30_esp</th>\n",
              "    </tr>\n",
              "  </thead>\n",
              "  <tbody>\n",
              "    <tr>\n",
              "      <th>0</th>\n",
              "      <td>0</td>\n",
              "      <td>NaN</td>\n",
              "      <td>Región de Tarapacá</td>\n",
              "      <td>Iquique</td>\n",
              "      <td>Urbano</td>\n",
              "      <td>Urbano</td>\n",
              "      <td>34</td>\n",
              "      <td>Mujer</td>\n",
              "      <td>NaN</td>\n",
              "      <td>ISAPRE</td>\n",
              "      <td>No</td>\n",
              "      <td>Sí</td>\n",
              "      <td>No</td>\n",
              "      <td>No lo consideró necesario y tomó remedios caseros</td>\n",
              "      <td>NaN</td>\n",
              "      <td>No ha estado en tratamiento por ninguna condic...</td>\n",
              "      <td>NaN</td>\n",
              "      <td>NaN</td>\n",
              "      <td>NaN</td>\n",
              "      <td>NaN</td>\n",
              "    </tr>\n",
              "    <tr>\n",
              "      <th>1</th>\n",
              "      <td>1</td>\n",
              "      <td>NaN</td>\n",
              "      <td>Región de Tarapacá</td>\n",
              "      <td>Iquique</td>\n",
              "      <td>Urbano</td>\n",
              "      <td>Urbano</td>\n",
              "      <td>4</td>\n",
              "      <td>Mujer</td>\n",
              "      <td>No sabe</td>\n",
              "      <td>ISAPRE</td>\n",
              "      <td>NaN</td>\n",
              "      <td>No</td>\n",
              "      <td>NaN</td>\n",
              "      <td>NaN</td>\n",
              "      <td>NaN</td>\n",
              "      <td>Otra condición de salud. Especifique</td>\n",
              "      <td>ESTÉTICA</td>\n",
              "      <td>NaN</td>\n",
              "      <td>NaN</td>\n",
              "      <td>NaN</td>\n",
              "    </tr>\n",
              "    <tr>\n",
              "      <th>2</th>\n",
              "      <td>2</td>\n",
              "      <td>NaN</td>\n",
              "      <td>Región de Tarapacá</td>\n",
              "      <td>Iquique</td>\n",
              "      <td>Urbano</td>\n",
              "      <td>Urbano</td>\n",
              "      <td>5</td>\n",
              "      <td>Mujer</td>\n",
              "      <td>Normal</td>\n",
              "      <td>Ninguno (particular)</td>\n",
              "      <td>NaN</td>\n",
              "      <td>No</td>\n",
              "      <td>NaN</td>\n",
              "      <td>NaN</td>\n",
              "      <td>NaN</td>\n",
              "      <td>No ha estado en tratamiento por ninguna condic...</td>\n",
              "      <td>NaN</td>\n",
              "      <td>NaN</td>\n",
              "      <td>NaN</td>\n",
              "      <td>NaN</td>\n",
              "    </tr>\n",
              "    <tr>\n",
              "      <th>3</th>\n",
              "      <td>3</td>\n",
              "      <td>372000.0</td>\n",
              "      <td>Región de Tarapacá</td>\n",
              "      <td>Iquique</td>\n",
              "      <td>Urbano</td>\n",
              "      <td>Urbano</td>\n",
              "      <td>45</td>\n",
              "      <td>Hombre</td>\n",
              "      <td>NaN</td>\n",
              "      <td>Sistema Público FONASA</td>\n",
              "      <td>No</td>\n",
              "      <td>No</td>\n",
              "      <td>NaN</td>\n",
              "      <td>NaN</td>\n",
              "      <td>NaN</td>\n",
              "      <td>No ha estado en tratamiento por ninguna condic...</td>\n",
              "      <td>NaN</td>\n",
              "      <td>NaN</td>\n",
              "      <td>NaN</td>\n",
              "      <td>NaN</td>\n",
              "    </tr>\n",
              "    <tr>\n",
              "      <th>4</th>\n",
              "      <td>4</td>\n",
              "      <td>NaN</td>\n",
              "      <td>Región de Tarapacá</td>\n",
              "      <td>Iquique</td>\n",
              "      <td>Urbano</td>\n",
              "      <td>Urbano</td>\n",
              "      <td>19</td>\n",
              "      <td>Mujer</td>\n",
              "      <td>NaN</td>\n",
              "      <td>Ninguno (particular)</td>\n",
              "      <td>NaN</td>\n",
              "      <td>No</td>\n",
              "      <td>NaN</td>\n",
              "      <td>NaN</td>\n",
              "      <td>NaN</td>\n",
              "      <td>No ha estado en tratamiento por ninguna condic...</td>\n",
              "      <td>NaN</td>\n",
              "      <td>NaN</td>\n",
              "      <td>NaN</td>\n",
              "      <td>NaN</td>\n",
              "    </tr>\n",
              "  </tbody>\n",
              "</table>\n",
              "</div>"
            ],
            "text/plain": [
              "   Unnamed: 0        y1              region  ...  s29  s30 s30_esp\n",
              "0           0       NaN  Región de Tarapacá  ...  NaN  NaN     NaN\n",
              "1           1       NaN  Región de Tarapacá  ...  NaN  NaN     NaN\n",
              "2           2       NaN  Región de Tarapacá  ...  NaN  NaN     NaN\n",
              "3           3  372000.0  Región de Tarapacá  ...  NaN  NaN     NaN\n",
              "4           4       NaN  Región de Tarapacá  ...  NaN  NaN     NaN\n",
              "\n",
              "[5 rows x 20 columns]"
            ]
          },
          "metadata": {},
          "execution_count": 19
        }
      ]
    },
    {
      "cell_type": "markdown",
      "metadata": {
        "id": "Vm2ePgKwVS19"
      },
      "source": [
        "## Análisis exploratorio de datos (EDA) y prepocesamiento de datos"
      ]
    },
    {
      "cell_type": "code",
      "metadata": {
        "colab": {
          "base_uri": "https://localhost:8080/"
        },
        "id": "sJR8csSrth4Q",
        "outputId": "356054e0-bba6-4ebd-9a11-2e77de66adfc"
      },
      "source": [
        "data.info()"
      ],
      "execution_count": null,
      "outputs": [
        {
          "output_type": "stream",
          "name": "stdout",
          "text": [
            "<class 'pandas.core.frame.DataFrame'>\n",
            "RangeIndex: 185437 entries, 0 to 185436\n",
            "Data columns (total 19 columns):\n",
            " #   Column       Non-Null Count   Dtype  \n",
            "---  ------       --------------   -----  \n",
            " 0   Unnamed: 0   185437 non-null  int64  \n",
            " 1   y1           40418 non-null   float64\n",
            " 2   region       185437 non-null  object \n",
            " 3   comuna       185437 non-null  object \n",
            " 4   zona         185437 non-null  object \n",
            " 5   area         185437 non-null  object \n",
            " 6   edad         185437 non-null  int64  \n",
            " 7   sexo         185437 non-null  object \n",
            " 8   v1           185437 non-null  object \n",
            " 9   v13          185437 non-null  object \n",
            " 10  v19_preg     185437 non-null  object \n",
            " 11  v19          140657 non-null  float64\n",
            " 12  v20          185437 non-null  object \n",
            " 13  v20_esp      1790 non-null    object \n",
            " 14  v22          169363 non-null  object \n",
            " 15  v23          185437 non-null  object \n",
            " 16  v23_sistema  181725 non-null  object \n",
            " 17  v27          185437 non-null  object \n",
            " 18  v29          5387 non-null    object \n",
            "dtypes: float64(2), int64(2), object(15)\n",
            "memory usage: 26.9+ MB\n"
          ]
        }
      ]
    },
    {
      "cell_type": "markdown",
      "metadata": {
        "id": "JLmLaQ9HVcDb"
      },
      "source": [
        "### Variable dependiente"
      ]
    },
    {
      "cell_type": "code",
      "metadata": {
        "colab": {
          "base_uri": "https://localhost:8080/"
        },
        "id": "9LXRIk06qPmD",
        "outputId": "19e922de-18c9-4929-a7e0-f23a0e4d58d7"
      },
      "source": [
        "# y1 - es la varaible dependiente y expone sueldo\n",
        "\n",
        "data['y1'].isna().sum()"
      ],
      "execution_count": null,
      "outputs": [
        {
          "output_type": "execute_result",
          "data": {
            "text/plain": [
              "145019"
            ]
          },
          "metadata": {},
          "execution_count": 116
        }
      ]
    },
    {
      "cell_type": "code",
      "metadata": {
        "id": "ckREBpuYqPju"
      },
      "source": [
        "# remover NA en Y1\n",
        "data = data[data.y1.notnull()]"
      ],
      "execution_count": null,
      "outputs": []
    },
    {
      "cell_type": "code",
      "metadata": {
        "id": "M_FJKYYbu95I"
      },
      "source": [
        "# remover punto decimal\n",
        "\n",
        "data['y1'] = data['y1'].astype(int)"
      ],
      "execution_count": null,
      "outputs": []
    },
    {
      "cell_type": "code",
      "metadata": {
        "colab": {
          "base_uri": "https://localhost:8080/"
        },
        "id": "t0CEiK9uPEDL",
        "outputId": "85aafe27-0e99-467a-8da2-ed57ecfe890e"
      },
      "source": [
        "data['y1']"
      ],
      "execution_count": null,
      "outputs": [
        {
          "output_type": "execute_result",
          "data": {
            "text/plain": [
              "3          372000\n",
              "5         3000000\n",
              "11         320000\n",
              "13         460000\n",
              "15         240000\n",
              "           ...   \n",
              "185361     420000\n",
              "185380     750000\n",
              "185385     350000\n",
              "185397     250000\n",
              "185422     200000\n",
              "Name: y1, Length: 40418, dtype: int64"
            ]
          },
          "metadata": {},
          "execution_count": 119
        }
      ]
    },
    {
      "cell_type": "markdown",
      "metadata": {
        "id": "bb2Flb_DVi_n"
      },
      "source": [
        "### Variables independientes\n",
        "\n",
        "Las variables del Módulo Vivienda de la Casen mas variables sociodemograficos (sexo, edad, region) se usaran como variables independientes. "
      ]
    },
    {
      "cell_type": "code",
      "metadata": {
        "id": "n1hj-VYIxVtt"
      },
      "source": [
        "# Region"
      ],
      "execution_count": null,
      "outputs": []
    },
    {
      "cell_type": "code",
      "metadata": {
        "colab": {
          "base_uri": "https://localhost:8080/",
          "height": 889
        },
        "id": "JN9TfYGixVrU",
        "outputId": "dc181292-cfaf-4993-aa4f-0bbd92ceb925"
      },
      "source": [
        "data['region'].value_counts().plot.bar()\n",
        "plt.title(\"Personas entrevistadas por region\")\n",
        "plt.ylabel('personas')\n",
        "plt.xlabel('Region')\n",
        "\n",
        "# Las tres regiones mas pobladas son la Metropolitana, Valparaiso, Y BioBio"
      ],
      "execution_count": null,
      "outputs": [
        {
          "output_type": "execute_result",
          "data": {
            "text/plain": [
              "Text(0.5, 0, 'Region')"
            ]
          },
          "metadata": {},
          "execution_count": 120
        },
        {
          "output_type": "display_data",
          "data": {
            "image/png": "[encoded data removed]",
            "text/plain": [
              "<Figure size 720x720 with 1 Axes>"
            ]
          },
          "metadata": {}
        }
      ]
    },
    {
      "cell_type": "code",
      "metadata": {
        "colab": {
          "base_uri": "https://localhost:8080/",
          "height": 725
        },
        "id": "6oBSFRisxVo-",
        "outputId": "3037a5eb-9ddc-4655-9baf-eff9b3c79492"
      },
      "source": [
        "print(data['zona'].value_counts())\n",
        "data['zona'].value_counts().plot.bar()\n",
        "plt.title(\"Personas entrevistadas por zona\")\n",
        "plt.ylabel('personas')\n",
        "plt.xlabel('Zona')\n",
        "\n",
        "# 87% de los respondientes son de zonas urbanas"
      ],
      "execution_count": null,
      "outputs": [
        {
          "output_type": "stream",
          "name": "stdout",
          "text": [
            "Urbano    35164\n",
            "Rural      5254\n",
            "Name: zona, dtype: int64\n"
          ]
        },
        {
          "output_type": "execute_result",
          "data": {
            "text/plain": [
              "Text(0.5, 0, 'Zona')"
            ]
          },
          "metadata": {},
          "execution_count": 121
        },
        {
          "output_type": "display_data",
          "data": {
            "image/png": "[encoded data removed]",
            "text/plain": [
              "<Figure size 720x720 with 1 Axes>"
            ]
          },
          "metadata": {}
        }
      ]
    },
    {
      "cell_type": "code",
      "metadata": {
        "colab": {
          "base_uri": "https://localhost:8080/",
          "height": 744
        },
        "id": "x94Ogde2xVmw",
        "outputId": "fc73f5c8-d8cf-4a9f-e8ba-1bfd4f11f610"
      },
      "source": [
        "print(data['area'].value_counts())\n",
        "data['area'].value_counts().plot.bar()\n",
        "plt.title(\"Personas entrevistadas por area\")\n",
        "plt.ylabel('personas')\n",
        "plt.xlabel('Area')\n",
        "\n",
        "# 82% son de areas urbanos. "
      ],
      "execution_count": null,
      "outputs": [
        {
          "output_type": "stream",
          "name": "stdout",
          "text": [
            "Urbano    33215\n",
            "Rural      5254\n",
            "RAU        1949\n",
            "Name: area, dtype: int64\n"
          ]
        },
        {
          "output_type": "execute_result",
          "data": {
            "text/plain": [
              "Text(0.5, 0, 'Area')"
            ]
          },
          "metadata": {},
          "execution_count": 122
        },
        {
          "output_type": "display_data",
          "data": {
            "image/png": "[encoded data removed]",
            "text/plain": [
              "<Figure size 720x720 with 1 Axes>"
            ]
          },
          "metadata": {}
        }
      ]
    },
    {
      "cell_type": "code",
      "metadata": {
        "id": "QU2oKf7TayLK"
      },
      "source": [
        "# Area y Zona proveen la misma informacion. Area proporciona mas informacion con \n",
        "# RAU dando una tapa de informacion que no esta presente en Zona. Por tanto, se va a usar Area y botar Zona de la base de datos. "
      ],
      "execution_count": null,
      "outputs": []
    },
    {
      "cell_type": "code",
      "metadata": {
        "colab": {
          "base_uri": "https://localhost:8080/",
          "height": 810
        },
        "id": "m2mQt7XdxVie",
        "outputId": "ab38d68f-55b0-40fc-d399-ccec0f0dfa3f"
      },
      "source": [
        "print(data['edad'].describe())\n",
        "data['edad'].plot.density()\n",
        "plt.xlim(0,100)\n",
        "plt.title(\"Desity plot -  edad\")\n",
        "plt.ylabel('Density')\n",
        "plt.xlabel('Edad')\n",
        "\n",
        "# media y mediana son 42 anos\n",
        "# min es 16 anos. "
      ],
      "execution_count": null,
      "outputs": [
        {
          "output_type": "stream",
          "name": "stdout",
          "text": [
            "count   40418\n",
            "mean       42\n",
            "std        13\n",
            "min        16\n",
            "25%        32\n",
            "50%        42\n",
            "75%        53\n",
            "max        99\n",
            "Name: edad, dtype: float64\n"
          ]
        },
        {
          "output_type": "execute_result",
          "data": {
            "text/plain": [
              "Text(0.5, 0, 'Edad')"
            ]
          },
          "metadata": {},
          "execution_count": 136
        },
        {
          "output_type": "display_data",
          "data": {
            "image/png": "[encoded data removed]",
            "text/plain": [
              "<Figure size 720x720 with 1 Axes>"
            ]
          },
          "metadata": {}
        }
      ]
    },
    {
      "cell_type": "code",
      "metadata": {
        "colab": {
          "base_uri": "https://localhost:8080/",
          "height": 644
        },
        "id": "gyttJ-s3xVgS",
        "outputId": "8348fd8f-2d60-4f58-a5b7-a874c3935c1a"
      },
      "source": [
        "data['edad'].plot.hist(bins = 20)\n",
        "plt.title(\"Histograma - edad\")\n",
        "plt.ylabel('Frequency')\n",
        "plt.xlabel('Edad')"
      ],
      "execution_count": null,
      "outputs": [
        {
          "output_type": "execute_result",
          "data": {
            "text/plain": [
              "Text(0.5, 0, 'Edad')"
            ]
          },
          "metadata": {},
          "execution_count": 137
        },
        {
          "output_type": "display_data",
          "data": {
            "image/png": "[encoded data removed]",
            "text/plain": [
              "<Figure size 720x720 with 1 Axes>"
            ]
          },
          "metadata": {}
        }
      ]
    },
    {
      "cell_type": "code",
      "metadata": {
        "colab": {
          "base_uri": "https://localhost:8080/",
          "height": 627
        },
        "id": "scno-NBrxVdP",
        "outputId": "67b2aaba-fdee-433d-f091-fed1ae06b5ac"
      },
      "source": [
        "data['edad'].plot.box()\n",
        "plt.title(\"Box Plot edad\")\n",
        "plt.ylabel('')\n",
        "plt.xlabel('')"
      ],
      "execution_count": null,
      "outputs": [
        {
          "output_type": "execute_result",
          "data": {
            "text/plain": [
              "Text(0.5, 0, '')"
            ]
          },
          "metadata": {},
          "execution_count": 138
        },
        {
          "output_type": "display_data",
          "data": {
            "image/png": "[encoded data removed]",
            "text/plain": [
              "<Figure size 720x720 with 1 Axes>"
            ]
          },
          "metadata": {}
        }
      ]
    },
    {
      "cell_type": "code",
      "metadata": {
        "colab": {
          "base_uri": "https://localhost:8080/",
          "height": 728
        },
        "id": "C_WoXsZjxVWE",
        "outputId": "195b6325-6b5c-477a-8eb2-488b3fd8bba4"
      },
      "source": [
        "print(data['sexo'].value_counts())\n",
        "data['sexo'].value_counts().plot.bar()\n",
        "plt.title(\"Personas entrevistadas por sexo\")\n",
        "plt.ylabel('personas')\n",
        "plt.xlabel('sexo')\n",
        "\n",
        "# Hombres representan 53%. \n"
      ],
      "execution_count": null,
      "outputs": [
        {
          "output_type": "stream",
          "name": "stdout",
          "text": [
            "Hombre    21529\n",
            "Mujer     18889\n",
            "Name: sexo, dtype: int64\n"
          ]
        },
        {
          "output_type": "execute_result",
          "data": {
            "text/plain": [
              "Text(0.5, 0, 'sexo')"
            ]
          },
          "metadata": {},
          "execution_count": 128
        },
        {
          "output_type": "display_data",
          "data": {
            "image/png": "[encoded data removed]",
            "text/plain": [
              "<Figure size 720x720 with 1 Axes>"
            ]
          },
          "metadata": {}
        }
      ]
    },
    {
      "cell_type": "code",
      "metadata": {
        "colab": {
          "base_uri": "https://localhost:8080/"
        },
        "id": "NqH7jbFWRMyy",
        "outputId": "febe9ecb-6a0d-4cb6-a334-0b675f9bf25d"
      },
      "source": [
        "data.info()"
      ],
      "execution_count": null,
      "outputs": [
        {
          "output_type": "stream",
          "name": "stdout",
          "text": [
            "<class 'pandas.core.frame.DataFrame'>\n",
            "Int64Index: 40418 entries, 3 to 185422\n",
            "Data columns (total 19 columns):\n",
            " #   Column       Non-Null Count  Dtype  \n",
            "---  ------       --------------  -----  \n",
            " 0   Unnamed: 0   40418 non-null  int64  \n",
            " 1   y1           40418 non-null  int64  \n",
            " 2   region       40418 non-null  object \n",
            " 3   comuna       40418 non-null  object \n",
            " 4   zona         40418 non-null  object \n",
            " 5   area         40418 non-null  object \n",
            " 6   edad         40418 non-null  int64  \n",
            " 7   sexo         40418 non-null  object \n",
            " 8   v1           40418 non-null  object \n",
            " 9   v13          40418 non-null  object \n",
            " 10  v19_preg     40418 non-null  object \n",
            " 11  v19          33547 non-null  float64\n",
            " 12  v20          40418 non-null  object \n",
            " 13  v20_esp      356 non-null    object \n",
            " 14  v22          37789 non-null  object \n",
            " 15  v23          40418 non-null  object \n",
            " 16  v23_sistema  39820 non-null  object \n",
            " 17  v27          40418 non-null  object \n",
            " 18  v29          1167 non-null   object \n",
            "dtypes: float64(1), int64(3), object(15)\n",
            "memory usage: 6.2+ MB\n"
          ]
        }
      ]
    },
    {
      "cell_type": "markdown",
      "metadata": {
        "id": "BSUR09evdk_J"
      },
      "source": [
        "**v1 - Cual es el tipo de vicienda en el que usted reside?**\n",
        "\n"
      ]
    },
    {
      "cell_type": "code",
      "metadata": {
        "colab": {
          "base_uri": "https://localhost:8080/"
        },
        "id": "xmj5qAnceiDo",
        "outputId": "1b128cf5-bfce-4af2-91d2-212df36750de"
      },
      "source": [
        "data['v1'].isna().sum() # no hay valores faltantes. "
      ],
      "execution_count": null,
      "outputs": [
        {
          "output_type": "execute_result",
          "data": {
            "text/plain": [
              "0"
            ]
          },
          "metadata": {},
          "execution_count": 129
        }
      ]
    },
    {
      "cell_type": "code",
      "metadata": {
        "colab": {
          "base_uri": "https://localhost:8080/",
          "height": 1000
        },
        "id": "U_XVJi4Wdb0U",
        "outputId": "83dbaad2-8417-45fb-f263-57de5513cecd"
      },
      "source": [
        "print(data['v1'].value_counts())\n",
        "\n",
        "data['v1'].value_counts().plot.bar()\n",
        "plt.title(\"Personas entrevistadas por v1\")\n",
        "plt.ylabel('personas')\n",
        "plt.xlabel('v1')\n",
        "# casa es el tipo de vivienda mas popular (80%)"
      ],
      "execution_count": null,
      "outputs": [
        {
          "output_type": "stream",
          "name": "stdout",
          "text": [
            "Casa                                                                               32519\n",
            "Departamento                                                                        6407\n",
            "Pieza en casa antigua, en conventillo, en galpón o espacio subdividido               728\n",
            "Mediagua, mejora o vivienda de emergencia                                            635\n",
            "Vivienda precaria de materiales reutilizados (latas, plásticos, cartones, etc.)       89\n",
            "Vivienda tradicional indígena                                                         20\n",
            "Rancho o choza                                                                        20\n",
            "Name: v1, dtype: int64\n"
          ]
        },
        {
          "output_type": "execute_result",
          "data": {
            "text/plain": [
              "Text(0.5, 0, 'v1')"
            ]
          },
          "metadata": {},
          "execution_count": 130
        },
        {
          "output_type": "display_data",
          "data": {
            "image/png": "[encoded data removed]",
            "text/plain": [
              "<Figure size 720x720 with 1 Axes>"
            ]
          },
          "metadata": {}
        }
      ]
    },
    {
      "cell_type": "markdown",
      "metadata": {
        "id": "06qyKN05e1iG"
      },
      "source": [
        "**v13 - bajo que situación ocupa la vivienda?**"
      ]
    },
    {
      "cell_type": "code",
      "metadata": {
        "colab": {
          "base_uri": "https://localhost:8080/"
        },
        "id": "YEq_-UpLdbxk",
        "outputId": "b97bbd15-6a3a-4c64-f8aa-bdf38e149437"
      },
      "source": [
        "data['v13'].isna().sum() # no hay valores faltantes"
      ],
      "execution_count": null,
      "outputs": [
        {
          "output_type": "execute_result",
          "data": {
            "text/plain": [
              "0"
            ]
          },
          "metadata": {},
          "execution_count": 131
        }
      ]
    },
    {
      "cell_type": "code",
      "metadata": {
        "colab": {
          "base_uri": "https://localhost:8080/",
          "height": 918
        },
        "id": "QuJyxAEndbu0",
        "outputId": "a2e15f64-6df9-47aa-f7d4-a5e3a2e0c528"
      },
      "source": [
        "print(data['v13'].value_counts())\n",
        "\n",
        "data['v13'].value_counts().plot.bar()\n",
        "plt.title(\"Personas entrevistadas por v13\")\n",
        "plt.ylabel('personas')\n",
        "plt.xlabel('v13')\n",
        "\n",
        "# 60% tienen su propia casa / 26% arriendan. "
      ],
      "execution_count": null,
      "outputs": [
        {
          "output_type": "stream",
          "name": "stdout",
          "text": [
            "Propia                            24103\n",
            "Arrendada                         10594\n",
            "Cedida                             4441\n",
            "Usufructo (sólo uso y goce)         960\n",
            "Ocupación irregular (de hecho)      223\n",
            "Poseedor irregular                   97\n",
            "Name: v13, dtype: int64\n"
          ]
        },
        {
          "output_type": "execute_result",
          "data": {
            "text/plain": [
              "Text(0.5, 0, 'v13')"
            ]
          },
          "metadata": {},
          "execution_count": 133
        },
        {
          "output_type": "display_data",
          "data": {
            "image/png": "[encoded data removed]",
            "text/plain": [
              "<Figure size 720x720 with 1 Axes>"
            ]
          },
          "metadata": {}
        }
      ]
    },
    {
      "cell_type": "markdown",
      "metadata": {
        "id": "j45GOitJf7jB"
      },
      "source": [
        "**v19 - Cuanto se paga de arriendo en este sector?**"
      ]
    },
    {
      "cell_type": "code",
      "metadata": {
        "colab": {
          "base_uri": "https://localhost:8080/"
        },
        "id": "sKYX7IXddbsL",
        "outputId": "a6be4898-dbf0-4137-d9aa-fd5afcd6fdc4"
      },
      "source": [
        "data['v19_preg'].value_counts()\n",
        "\n",
        "# 33.547 sabe la respuesta a esta pregunta mientras 6.871 no saben"
      ],
      "execution_count": null,
      "outputs": [
        {
          "output_type": "execute_result",
          "data": {
            "text/plain": [
              "Sí         33547\n",
              "No sabe     6871\n",
              "Name: v19_preg, dtype: int64"
            ]
          },
          "metadata": {},
          "execution_count": 22
        }
      ]
    },
    {
      "cell_type": "code",
      "metadata": {
        "colab": {
          "base_uri": "https://localhost:8080/"
        },
        "id": "7NU5CfbZdbpF",
        "outputId": "8439fce3-6aab-472a-a62d-65802095d5fd"
      },
      "source": [
        "data['v19_preg'].isna().sum()"
      ],
      "execution_count": null,
      "outputs": [
        {
          "output_type": "execute_result",
          "data": {
            "text/plain": [
              "0"
            ]
          },
          "metadata": {},
          "execution_count": 23
        }
      ]
    },
    {
      "cell_type": "code",
      "metadata": {
        "colab": {
          "base_uri": "https://localhost:8080/"
        },
        "id": "JKjxZGCpdbgn",
        "outputId": "f91822ad-dbef-4ba8-a00b-5d4e4668c5d3"
      },
      "source": [
        "data[data.v19.isna()].comuna.value_counts()"
      ],
      "execution_count": null,
      "outputs": [
        {
          "output_type": "execute_result",
          "data": {
            "text/plain": [
              "Arica                   264\n",
              "Copiapó                 154\n",
              "Iquique                 138\n",
              "Antofagasta             136\n",
              "Punta Arenas            133\n",
              "                       ... \n",
              "Curaco de Vélez           1\n",
              "San Juan de la Costa      1\n",
              "Putre                     1\n",
              "Chile Chico               1\n",
              "Ránquil                   1\n",
              "Name: comuna, Length: 324, dtype: int64"
            ]
          },
          "metadata": {},
          "execution_count": 24
        }
      ]
    },
    {
      "cell_type": "code",
      "metadata": {
        "id": "YntetOT-hiqw"
      },
      "source": [
        "# remplazar las 6871 observaciones que no saben cuanto se paga en arriendo con el promedio pagado en arriendo para observaciones de la misma comuna. \n",
        "\n",
        "data['v19'] = data['v19'].fillna(data.groupby(\"comuna\")['v19'].transform('mean'))"
      ],
      "execution_count": null,
      "outputs": []
    },
    {
      "cell_type": "code",
      "metadata": {
        "colab": {
          "base_uri": "https://localhost:8080/"
        },
        "id": "_F3N2XJmic5w",
        "outputId": "259b111b-16ff-4c4e-fd06-ccf2345c242e"
      },
      "source": [
        "data['v19'].isna().sum()"
      ],
      "execution_count": null,
      "outputs": [
        {
          "output_type": "execute_result",
          "data": {
            "text/plain": [
              "0"
            ]
          },
          "metadata": {},
          "execution_count": 26
        }
      ]
    },
    {
      "cell_type": "code",
      "metadata": {
        "id": "cYT-L0iuK6yj"
      },
      "source": [
        "# convertir v19 a int\n",
        "\n",
        "data['v19']=data['v19'].astype(int)"
      ],
      "execution_count": null,
      "outputs": []
    },
    {
      "cell_type": "code",
      "metadata": {
        "colab": {
          "base_uri": "https://localhost:8080/",
          "height": 810
        },
        "id": "b5GFwepBKEIl",
        "outputId": "d8eec8ac-13f2-41a8-ce22-750088ec5e85"
      },
      "source": [
        "pd.options.display.float_format = '{:.0f}'.format\n",
        "print(data['v19'].describe())\n",
        "data['v19'].plot.density()\n",
        "plt.xlim(0,2000000)\n",
        "plt.title(\"Density plot - v19\")\n",
        "plt.ylabel('density')\n",
        "plt.xlabel('v19')\n",
        "\n",
        "# El promedio es $305.053\n",
        "# La mediana es 265.822\n",
        "# Max valor en arriendo es $8.000.000"
      ],
      "execution_count": null,
      "outputs": [
        {
          "output_type": "stream",
          "name": "stdout",
          "text": [
            "count     40418\n",
            "mean     305053\n",
            "std      200821\n",
            "min           1\n",
            "25%      200000\n",
            "50%      265822\n",
            "75%      350000\n",
            "max     8000000\n",
            "Name: v19, dtype: float64\n"
          ]
        },
        {
          "output_type": "execute_result",
          "data": {
            "text/plain": [
              "Text(0.5, 0, 'v19')"
            ]
          },
          "metadata": {},
          "execution_count": 139
        },
        {
          "output_type": "display_data",
          "data": {
            "image/png": "[encoded data removed]",
            "text/plain": [
              "<Figure size 720x720 with 1 Axes>"
            ]
          },
          "metadata": {}
        }
      ]
    },
    {
      "cell_type": "code",
      "metadata": {
        "colab": {
          "base_uri": "https://localhost:8080/",
          "height": 627
        },
        "id": "BnMJIeowN_-h",
        "outputId": "209db732-558e-4f48-aa25-f1d67d156dcb"
      },
      "source": [
        "data['v19'].plot.box()\n",
        "plt.title(\"Boxplot - v19\")\n",
        "plt.ylabel('')\n",
        "plt.xlabel('')\n",
        "# varios de los circulos se podrian classificar como outliers. "
      ],
      "execution_count": null,
      "outputs": [
        {
          "output_type": "execute_result",
          "data": {
            "text/plain": [
              "Text(0.5, 0, '')"
            ]
          },
          "metadata": {},
          "execution_count": 140
        },
        {
          "output_type": "display_data",
          "data": {
            "image/png": "[encoded data removed]",
            "text/plain": [
              "<Figure size 720x720 with 1 Axes>"
            ]
          },
          "metadata": {}
        }
      ]
    },
    {
      "cell_type": "markdown",
      "metadata": {
        "id": "Vd4od9lQi-Dd"
      },
      "source": [
        "**v20 - De donde proviene el agua de la vivienda**"
      ]
    },
    {
      "cell_type": "code",
      "metadata": {
        "colab": {
          "base_uri": "https://localhost:8080/"
        },
        "id": "otxoapUricxR",
        "outputId": "73d9f055-e8b2-4fb2-dca3-87378802ddf1"
      },
      "source": [
        "data['v20'].value_counts()\n",
        "\n",
        "# Red Publica proveen agua a 93% de las viviendas"
      ],
      "execution_count": null,
      "outputs": [
        {
          "output_type": "execute_result",
          "data": {
            "text/plain": [
              "Red pública                         37789\n",
              "Pozo o noria                         1419\n",
              "Río, vertiente, lago o estero         484\n",
              "Camión aljibe                         370\n",
              "Otra fuente. ¿Cuál? Especifique.      356\n",
              "Name: v20, dtype: int64"
            ]
          },
          "metadata": {},
          "execution_count": 61
        }
      ]
    },
    {
      "cell_type": "code",
      "metadata": {
        "colab": {
          "base_uri": "https://localhost:8080/"
        },
        "id": "qbjxsgPCdbYJ",
        "outputId": "5118f94a-fe64-46bc-8a03-08d22832a5b4"
      },
      "source": [
        "data['v20'].isna().sum() # no hay valores faltantes"
      ],
      "execution_count": null,
      "outputs": [
        {
          "output_type": "execute_result",
          "data": {
            "text/plain": [
              "0"
            ]
          },
          "metadata": {},
          "execution_count": 62
        }
      ]
    },
    {
      "cell_type": "markdown",
      "metadata": {
        "id": "aou7nefNjnk7"
      },
      "source": [
        "**v22 - Cual es el sistema de distribucion del agua en la vivienda?**"
      ]
    },
    {
      "cell_type": "code",
      "metadata": {
        "colab": {
          "base_uri": "https://localhost:8080/"
        },
        "id": "6KEsf6f3dbUY",
        "outputId": "cca4e30f-a9d9-4a56-f3b8-e0d872817a1b"
      },
      "source": [
        "data['v22'].isna().sum() # 2629 valores faltantes\n",
        "\n",
        "# podriamos borrar estas observaciones? Podriamos remplazarlas con la respuesta mas comun?\n",
        "\n",
        "# Voy a elegir la segunda opcion de remplazar los valores faltantes con la resupesta mas comun, ya \n",
        "# que no quiero borrar 2629 observaciones. \n",
        "\n",
        "# al crear el modelo se incluyirá esta variable, y se analizará su coeficiente para ver si es importante en el modelo. "
      ],
      "execution_count": null,
      "outputs": [
        {
          "output_type": "execute_result",
          "data": {
            "text/plain": [
              "2629"
            ]
          },
          "metadata": {},
          "execution_count": 63
        }
      ]
    },
    {
      "cell_type": "code",
      "metadata": {
        "id": "Xgxbs09KkTvg"
      },
      "source": [
        "data['v22'] = data['v22'].fillna(data['v22'].mode()[0])"
      ],
      "execution_count": null,
      "outputs": []
    },
    {
      "cell_type": "code",
      "metadata": {
        "colab": {
          "base_uri": "https://localhost:8080/"
        },
        "id": "ZbAYt1_KOaCu",
        "outputId": "6a69c9fe-e7d1-4d43-9b18-8aece406c0d3"
      },
      "source": [
        "data['v22'].value_counts()\n",
        "\n",
        "# Con llave dentro de la vivienda es la sistema mas comun. "
      ],
      "execution_count": null,
      "outputs": [
        {
          "output_type": "execute_result",
          "data": {
            "text/plain": [
              "Con llave dentro de la vivienda                          39357\n",
              "Con llave dentro del sitio, pero fuera de la vivienda     1034\n",
              "No tiene sistema, la acarrea                                25\n",
              "No sabe                                                      2\n",
              "Name: v22, dtype: int64"
            ]
          },
          "metadata": {},
          "execution_count": 65
        }
      ]
    },
    {
      "cell_type": "markdown",
      "metadata": {
        "id": "fxm4a2ILk8nW"
      },
      "source": [
        "**v23 - La vivienda donde usted viven dispone de sistema de elminacion de excretas?**"
      ]
    },
    {
      "cell_type": "code",
      "metadata": {
        "colab": {
          "base_uri": "https://localhost:8080/"
        },
        "id": "44peH5hOkTsu",
        "outputId": "ca1b529d-5eb4-4b11-feaa-7afbc3c34df9"
      },
      "source": [
        "data['v23'].isna().sum() # no hay valores faltantes"
      ],
      "execution_count": null,
      "outputs": [
        {
          "output_type": "execute_result",
          "data": {
            "text/plain": [
              "0"
            ]
          },
          "metadata": {},
          "execution_count": 66
        }
      ]
    },
    {
      "cell_type": "code",
      "metadata": {
        "colab": {
          "base_uri": "https://localhost:8080/",
          "height": 702
        },
        "id": "PWUvfeOKkTpQ",
        "outputId": "39dc4e5d-1382-40d5-c4cb-9f4a384b329c"
      },
      "source": [
        "print(data['v23'].value_counts())\n",
        "\n",
        "data['v23'].value_counts().plot.bar()\n",
        "plt.title(\"Personas entrevistadas por v23\")\n",
        "plt.ylabel('personas')\n",
        "plt.xlabel('v23')"
      ],
      "execution_count": null,
      "outputs": [
        {
          "output_type": "stream",
          "name": "stdout",
          "text": [
            "Sí    39820\n",
            "No      598\n",
            "Name: v23, dtype: int64\n"
          ]
        },
        {
          "output_type": "execute_result",
          "data": {
            "text/plain": [
              "Text(0.5, 0, 'v23')"
            ]
          },
          "metadata": {},
          "execution_count": 142
        },
        {
          "output_type": "display_data",
          "data": {
            "image/png": "[encoded data removed]",
            "text/plain": [
              "<Figure size 720x720 with 1 Axes>"
            ]
          },
          "metadata": {}
        }
      ]
    },
    {
      "cell_type": "code",
      "metadata": {
        "colab": {
          "base_uri": "https://localhost:8080/"
        },
        "id": "gi1qBo5zld8u",
        "outputId": "9c7d1751-8dda-4920-9582-15d3d5fff6d8"
      },
      "source": [
        "data['v23_sistema'].isna().sum()"
      ],
      "execution_count": null,
      "outputs": [
        {
          "output_type": "execute_result",
          "data": {
            "text/plain": [
              "598"
            ]
          },
          "metadata": {},
          "execution_count": 68
        }
      ]
    },
    {
      "cell_type": "code",
      "metadata": {
        "id": "pf3-2WaSkTmn"
      },
      "source": [
        "data['v23_sistema'] = data['v23_sistema'].fillna('No tiene sistema')"
      ],
      "execution_count": null,
      "outputs": []
    },
    {
      "cell_type": "code",
      "metadata": {
        "colab": {
          "base_uri": "https://localhost:8080/",
          "height": 967
        },
        "id": "yCkJBNmGkThC",
        "outputId": "a9557408-db05-4d2a-eb35-452c6024c06a"
      },
      "source": [
        "print(data['v23_sistema'].value_counts())\n",
        "\n",
        "data['v23_sistema'].value_counts().plot.bar()\n",
        "plt.title(\"Personas entrevistadas por v23 sistema\")\n",
        "plt.ylabel('personas')\n",
        "plt.xlabel('v23 sistema')\n",
        "\n",
        "# 88% tiene un W.C. conectado al alcantarillado. \n",
        "# 1% no tiene sistema "
      ],
      "execution_count": null,
      "outputs": [
        {
          "output_type": "stream",
          "name": "stdout",
          "text": [
            "W.C. conectado al alcantarillado            35402\n",
            "W.C. conectado a fosa séptica                3575\n",
            "Letrina sanitaria conectada a pozo negro      818\n",
            "No tiene sistema                              598\n",
            "Cajón                                          22\n",
            "Baño químico dentro del sitio                   3\n",
            "Name: v23_sistema, dtype: int64\n"
          ]
        },
        {
          "output_type": "execute_result",
          "data": {
            "text/plain": [
              "Text(0.5, 0, 'v23 sistema')"
            ]
          },
          "metadata": {},
          "execution_count": 144
        },
        {
          "output_type": "display_data",
          "data": {
            "image/png": "[encoded data removed]",
            "text/plain": [
              "<Figure size 720x720 with 1 Axes>"
            ]
          },
          "metadata": {}
        }
      ]
    },
    {
      "cell_type": "markdown",
      "metadata": {
        "id": "-s2rwdILnYF1"
      },
      "source": [
        "**v27 - Cuantos dormitorios de uso exclusivo para dormir tiene la vivienda?**"
      ]
    },
    {
      "cell_type": "code",
      "metadata": {
        "colab": {
          "base_uri": "https://localhost:8080/"
        },
        "id": "LITG_G_vnXam",
        "outputId": "0bdc41db-ece7-4d7a-9500-40b431963209"
      },
      "source": [
        "data['v27'].isna().sum()"
      ],
      "execution_count": null,
      "outputs": [
        {
          "output_type": "execute_result",
          "data": {
            "text/plain": [
              "0"
            ]
          },
          "metadata": {},
          "execution_count": 127
        }
      ]
    },
    {
      "cell_type": "code",
      "metadata": {
        "colab": {
          "base_uri": "https://localhost:8080/"
        },
        "id": "55_xVbvbnXYa",
        "outputId": "3e47d27d-34fd-49be-b3fe-a7bfd5f78256"
      },
      "source": [
        "data['v27'].value_counts()"
      ],
      "execution_count": null,
      "outputs": [
        {
          "output_type": "execute_result",
          "data": {
            "text/plain": [
              "3          16841\n",
              "2          12626\n",
              "4           5935\n",
              "1           2504\n",
              "5           1629\n",
              "6            494\n",
              "7            156\n",
              "8             68\n",
              "0             64\n",
              "No sabe       32\n",
              "9             30\n",
              "10            13\n",
              "12            10\n",
              "11             4\n",
              "13             3\n",
              "15             3\n",
              "20             2\n",
              "14             2\n",
              "30             1\n",
              "16             1\n",
              "Name: v27, dtype: int64"
            ]
          },
          "metadata": {},
          "execution_count": 146
        }
      ]
    },
    {
      "cell_type": "code",
      "metadata": {
        "id": "z5QXc0Jdqtz2"
      },
      "source": [
        "data['v27'] = np.where(data['v27'].isin(['6','7','8','9','10','11','12','13','14', '15','16','20','30']), '6+', data['v27'])"
      ],
      "execution_count": null,
      "outputs": []
    },
    {
      "cell_type": "code",
      "metadata": {
        "colab": {
          "base_uri": "https://localhost:8080/",
          "height": 840
        },
        "id": "QXAHim9Yrpzg",
        "outputId": "32ba5b38-e3c3-4557-f236-b7ab04915a94"
      },
      "source": [
        "print(data['v27'].value_counts())\n",
        "\n",
        "data['v27'].value_counts().plot.bar()\n",
        "plt.title(\"Personas entrevistadas por v27\")\n",
        "plt.ylabel('personas')\n",
        "plt.xlabel('v27')\n",
        "\n",
        "# viviendas con 2 y 3 dormitorios son mas comunes. "
      ],
      "execution_count": null,
      "outputs": [
        {
          "output_type": "stream",
          "name": "stdout",
          "text": [
            "3          16841\n",
            "2          12626\n",
            "4           5935\n",
            "1           2504\n",
            "5           1629\n",
            "6+           787\n",
            "0             64\n",
            "No sabe       32\n",
            "Name: v27, dtype: int64\n"
          ]
        },
        {
          "output_type": "execute_result",
          "data": {
            "text/plain": [
              "Text(0.5, 0, 'v27')"
            ]
          },
          "metadata": {},
          "execution_count": 148
        },
        {
          "output_type": "display_data",
          "data": {
            "image/png": "[encoded data removed]",
            "text/plain": [
              "<Figure size 720x720 with 1 Axes>"
            ]
          },
          "metadata": {}
        }
      ]
    },
    {
      "cell_type": "code",
      "metadata": {
        "colab": {
          "base_uri": "https://localhost:8080/"
        },
        "id": "bh0NsajhQeLZ",
        "outputId": "5ceb97a9-17df-4dd6-ddff-c2797c9dd784"
      },
      "source": [
        "data.info()"
      ],
      "execution_count": null,
      "outputs": [
        {
          "output_type": "stream",
          "name": "stdout",
          "text": [
            "<class 'pandas.core.frame.DataFrame'>\n",
            "Int64Index: 40418 entries, 3 to 185422\n",
            "Data columns (total 19 columns):\n",
            " #   Column       Non-Null Count  Dtype \n",
            "---  ------       --------------  ----- \n",
            " 0   Unnamed: 0   40418 non-null  int64 \n",
            " 1   y1           40418 non-null  int64 \n",
            " 2   region       40418 non-null  object\n",
            " 3   comuna       40418 non-null  object\n",
            " 4   zona         40418 non-null  object\n",
            " 5   area         40418 non-null  object\n",
            " 6   edad         40418 non-null  int64 \n",
            " 7   sexo         40418 non-null  object\n",
            " 8   v1           40418 non-null  object\n",
            " 9   v13          40418 non-null  object\n",
            " 10  v19_preg     40418 non-null  object\n",
            " 11  v19          40418 non-null  int64 \n",
            " 12  v20          40418 non-null  object\n",
            " 13  v20_esp      356 non-null    object\n",
            " 14  v22          40418 non-null  object\n",
            " 15  v23          40418 non-null  object\n",
            " 16  v23_sistema  40418 non-null  object\n",
            " 17  v27          40418 non-null  object\n",
            " 18  v29          1167 non-null   object\n",
            "dtypes: int64(4), object(15)\n",
            "memory usage: 6.2+ MB\n"
          ]
        }
      ]
    },
    {
      "cell_type": "code",
      "metadata": {
        "id": "1IiEP4hcTkt_"
      },
      "source": [
        "# Drop columnas que no se necesitan\n",
        "\n",
        "data.drop(['Unnamed: 0', 'zona' , 'comuna', 'v19_preg', 'v20_esp', 'v23', 'v29'], axis = 1, inplace = True)\n",
        "\n",
        "# unnamed es una copia del indice\n",
        "# Area es mejor que zona \n",
        "# comuna solo se usó para computar las valores faltantes de v19. Se va a borrar ya que provee demasiado detalle, \n",
        "# y al hacer one hot enocoding con esta variable, el tamano y peso de la base de datos se va a aumentar mucho. \n",
        "# v19 da mas informacion que v19_preg\n",
        "# v20 da mas informacion que v20_esp\n",
        "# v23_sistema da mas informacion que v23 \n",
        "# v29 tiene un alto procentaje de valores faltantes (97%)"
      ],
      "execution_count": null,
      "outputs": []
    },
    {
      "cell_type": "markdown",
      "metadata": {
        "id": "tkRKxwPJZIX4"
      },
      "source": [
        "## One hot encoding"
      ]
    },
    {
      "cell_type": "code",
      "metadata": {
        "id": "VYMIOgDBQTmE"
      },
      "source": [
        "# One hot encoding de variables categoricos"
      ],
      "execution_count": null,
      "outputs": []
    },
    {
      "cell_type": "code",
      "metadata": {
        "colab": {
          "base_uri": "https://localhost:8080/"
        },
        "id": "5jRxXLppRhqQ",
        "outputId": "e51e5cc6-3c3b-4fa0-c85f-002b5d1dda0b"
      },
      "source": [
        "catCols = [col for col in data.columns if data[col].dtype==\"O\"]\n",
        "catCols"
      ],
      "execution_count": null,
      "outputs": [
        {
          "output_type": "execute_result",
          "data": {
            "text/plain": [
              "['region', 'area', 'sexo', 'v1', 'v13', 'v20', 'v22', 'v23_sistema', 'v27']"
            ]
          },
          "metadata": {},
          "execution_count": 13
        }
      ]
    },
    {
      "cell_type": "code",
      "metadata": {
        "id": "D1ezPBwwTVf1"
      },
      "source": [
        "dumies_ = pd.get_dummies(data[catCols], drop_first=True) # 'drop first = True' - para eliminar la primera feature elegida y evitar la multicolinealidad "
      ],
      "execution_count": null,
      "outputs": []
    },
    {
      "cell_type": "code",
      "metadata": {
        "id": "ltvNNsn3Sx2t"
      },
      "source": [
        "data_final = pd.concat([data, dumies_], axis = 1)"
      ],
      "execution_count": null,
      "outputs": []
    },
    {
      "cell_type": "code",
      "metadata": {
        "id": "kkBBcsJCS4Ms"
      },
      "source": [
        "data_final.drop(['region',\n",
        " 'area',\n",
        " 'sexo',\n",
        " 'v1',\n",
        " 'v13',\n",
        " 'v20',\n",
        " 'v22',\n",
        " 'v23_sistema',\n",
        " 'v27'], axis = 1, inplace = True)"
      ],
      "execution_count": null,
      "outputs": []
    },
    {
      "cell_type": "code",
      "metadata": {
        "colab": {
          "base_uri": "https://localhost:8080/"
        },
        "id": "URbd5f1kRwPh",
        "outputId": "b22f8e10-d8d8-4c7b-f3a4-0070dfc1713c"
      },
      "source": [
        "data_final.info()"
      ],
      "execution_count": null,
      "outputs": [
        {
          "output_type": "stream",
          "name": "stdout",
          "text": [
            "<class 'pandas.core.frame.DataFrame'>\n",
            "Int64Index: 40418 entries, 3 to 185422\n",
            "Data columns (total 51 columns):\n",
            " #   Column                                                                              Non-Null Count  Dtype\n",
            "---  ------                                                                              --------------  -----\n",
            " 0   y1                                                                                  40418 non-null  int64\n",
            " 1   edad                                                                                40418 non-null  int64\n",
            " 2   v19                                                                                 40418 non-null  int64\n",
            " 3   region_Región de Antofagasta                                                        40418 non-null  uint8\n",
            " 4   region_Región de Arica y Parinacota                                                 40418 non-null  uint8\n",
            " 5   region_Región de Atacama                                                            40418 non-null  uint8\n",
            " 6   region_Región de Aysén del Gral. Carlos Ibáñez del Campo                            40418 non-null  uint8\n",
            " 7   region_Región de Coquimbo                                                           40418 non-null  uint8\n",
            " 8   region_Región de La Araucanía                                                       40418 non-null  uint8\n",
            " 9   region_Región de Los Lagos                                                          40418 non-null  uint8\n",
            " 10  region_Región de Los Ríos                                                           40418 non-null  uint8\n",
            " 11  region_Región de Magallanes y de la Antártica Chilena                               40418 non-null  uint8\n",
            " 12  region_Región de Tarapacá                                                           40418 non-null  uint8\n",
            " 13  region_Región de Valparaíso                                                         40418 non-null  uint8\n",
            " 14  region_Región de Ñuble                                                              40418 non-null  uint8\n",
            " 15  region_Región del Biobío                                                            40418 non-null  uint8\n",
            " 16  region_Región del Libertador Gral. Bernardo O'Higgins                               40418 non-null  uint8\n",
            " 17  region_Región del Maule                                                             40418 non-null  uint8\n",
            " 18  area_Rural                                                                          40418 non-null  uint8\n",
            " 19  area_Urbano                                                                         40418 non-null  uint8\n",
            " 20  sexo_Mujer                                                                          40418 non-null  uint8\n",
            " 21  v1_Departamento                                                                     40418 non-null  uint8\n",
            " 22  v1_Mediagua, mejora o vivienda de emergencia                                        40418 non-null  uint8\n",
            " 23  v1_Pieza en casa antigua, en conventillo, en galpón o espacio subdividido           40418 non-null  uint8\n",
            " 24  v1_Rancho o choza                                                                   40418 non-null  uint8\n",
            " 25  v1_Vivienda precaria de materiales reutilizados (latas, plásticos, cartones, etc.)  40418 non-null  uint8\n",
            " 26  v1_Vivienda tradicional indígena                                                    40418 non-null  uint8\n",
            " 27  v13_Cedida                                                                          40418 non-null  uint8\n",
            " 28  v13_Ocupación irregular (de hecho)                                                  40418 non-null  uint8\n",
            " 29  v13_Poseedor irregular                                                              40418 non-null  uint8\n",
            " 30  v13_Propia                                                                          40418 non-null  uint8\n",
            " 31  v13_Usufructo (sólo uso y goce)                                                     40418 non-null  uint8\n",
            " 32  v20_Otra fuente. ¿Cuál? Especifique.                                                40418 non-null  uint8\n",
            " 33  v20_Pozo o noria                                                                    40418 non-null  uint8\n",
            " 34  v20_Red pública                                                                     40418 non-null  uint8\n",
            " 35  v20_Río, vertiente, lago o estero                                                   40418 non-null  uint8\n",
            " 36  v22_Con llave dentro del sitio, pero fuera de la vivienda                           40418 non-null  uint8\n",
            " 37  v22_No sabe                                                                         40418 non-null  uint8\n",
            " 38  v22_No tiene sistema, la acarrea                                                    40418 non-null  uint8\n",
            " 39  v23_sistema_Cajón                                                                   40418 non-null  uint8\n",
            " 40  v23_sistema_Letrina sanitaria conectada a pozo negro                                40418 non-null  uint8\n",
            " 41  v23_sistema_No tiene sistema                                                        40418 non-null  uint8\n",
            " 42  v23_sistema_W.C. conectado a fosa séptica                                           40418 non-null  uint8\n",
            " 43  v23_sistema_W.C. conectado al alcantarillado                                        40418 non-null  uint8\n",
            " 44  v27_1                                                                               40418 non-null  uint8\n",
            " 45  v27_2                                                                               40418 non-null  uint8\n",
            " 46  v27_3                                                                               40418 non-null  uint8\n",
            " 47  v27_4                                                                               40418 non-null  uint8\n",
            " 48  v27_5                                                                               40418 non-null  uint8\n",
            " 49  v27_6+                                                                              40418 non-null  uint8\n",
            " 50  v27_No sabe                                                                         40418 non-null  uint8\n",
            "dtypes: int64(3), uint8(48)\n",
            "memory usage: 3.1 MB\n"
          ]
        }
      ]
    },
    {
      "cell_type": "markdown",
      "metadata": {
        "id": "NBiPsCByZS-f"
      },
      "source": [
        "## Multicolinearidad"
      ]
    },
    {
      "cell_type": "code",
      "metadata": {
        "colab": {
          "base_uri": "https://localhost:8080/",
          "height": 1000
        },
        "id": "rcV0DsuCnXS_",
        "outputId": "1db70240-9e2e-47a6-a343-5b181fdffdb0"
      },
      "source": [
        "# # correlacion \n",
        "\n",
        "corr = data_final.corr()\n",
        "\n",
        "# plot the heatmap\n",
        "plt.figure(figsize=(20,20))\n",
        "sns.heatmap(corr, \n",
        "        xticklabels=corr.columns,\n",
        "        yticklabels=corr.columns, cmap=\"Blues\", annot=False)"
      ],
      "execution_count": null,
      "outputs": [
        {
          "output_type": "execute_result",
          "data": {
            "text/plain": [
              "<matplotlib.axes._subplots.AxesSubplot at 0x7fa3adfe6e10>"
            ]
          },
          "metadata": {},
          "execution_count": 156
        },
        {
          "output_type": "display_data",
          "data": {
            "image/png": "[encoded data removed]",
            "text/plain": [
              "<Figure size 1440x1440 with 2 Axes>"
            ]
          },
          "metadata": {}
        }
      ]
    },
    {
      "cell_type": "code",
      "metadata": {
        "id": "g_TFrxg4hZOF"
      },
      "source": [
        "# se nota que v19 (precio para arrendar en el sector) es la variable que correla mas con la variable dependiente y1 (sueldo)"
      ],
      "execution_count": null,
      "outputs": []
    },
    {
      "cell_type": "code",
      "metadata": {
        "id": "i4C1N_ZvfpF3"
      },
      "source": [
        "# Filtrar la matriz de correlacion para ver cual variables tiene una correlacion positiva y negativa. \n",
        "\n",
        "# esta informacion de una alta correlacion se puede usar mas adelante para determinar cual variables incluir en el modelo"
      ],
      "execution_count": null,
      "outputs": []
    },
    {
      "cell_type": "code",
      "metadata": {
        "colab": {
          "base_uri": "https://localhost:8080/"
        },
        "id": "x23H17K_gPis",
        "outputId": "3de384a6-9076-42b6-c430-7e2d28c2ca59"
      },
      "source": [
        "corr.stack()[(corr.stack() > 0.5) & (corr.stack() != 1)]"
      ],
      "execution_count": null,
      "outputs": [
        {
          "output_type": "execute_result",
          "data": {
            "text/plain": [
              "area_Rural                                    v23_sistema_W.C. conectado a fosa séptica      1\n",
              "area_Urbano                                   v23_sistema_W.C. conectado al alcantarillado   1\n",
              "v20_Red pública                               v23_sistema_W.C. conectado al alcantarillado   1\n",
              "v23_sistema_W.C. conectado a fosa séptica     area_Rural                                     1\n",
              "v23_sistema_W.C. conectado al alcantarillado  area_Urbano                                    1\n",
              "                                              v20_Red pública                                1\n",
              "dtype: float64"
            ]
          },
          "metadata": {},
          "execution_count": 157
        }
      ]
    },
    {
      "cell_type": "code",
      "metadata": {
        "colab": {
          "base_uri": "https://localhost:8080/"
        },
        "id": "hh1lkUdIgmHk",
        "outputId": "3bc27f99-1142-4941-d524-31039bbeb46e"
      },
      "source": [
        "corr.stack()[(corr.stack() < -0.5) & (corr.stack() != -1)]"
      ],
      "execution_count": null,
      "outputs": [
        {
          "output_type": "execute_result",
          "data": {
            "text/plain": [
              "area_Rural                                    area_Urbano                                    -1\n",
              "                                              v20_Red pública                                -1\n",
              "                                              v23_sistema_W.C. conectado al alcantarillado   -1\n",
              "area_Urbano                                   area_Rural                                     -1\n",
              "                                              v23_sistema_W.C. conectado a fosa séptica      -1\n",
              "v20_Pozo o noria                              v20_Red pública                                -1\n",
              "v20_Red pública                               area_Rural                                     -1\n",
              "                                              v20_Pozo o noria                               -1\n",
              "v23_sistema_W.C. conectado a fosa séptica     area_Urbano                                    -1\n",
              "                                              v23_sistema_W.C. conectado al alcantarillado   -1\n",
              "v23_sistema_W.C. conectado al alcantarillado  area_Rural                                     -1\n",
              "                                              v23_sistema_W.C. conectado a fosa séptica      -1\n",
              "v27_2                                         v27_3                                          -1\n",
              "v27_3                                         v27_2                                          -1\n",
              "dtype: float64"
            ]
          },
          "metadata": {},
          "execution_count": 158
        }
      ]
    },
    {
      "cell_type": "code",
      "metadata": {
        "colab": {
          "base_uri": "https://localhost:8080/",
          "height": 1000
        },
        "id": "DZZ0lvzaWtl3",
        "outputId": "2b0ccc58-8c50-427b-83de-1ca2b57b6379"
      },
      "source": [
        "# variance inflation factor - verificar si hay MC. Un valor VIF mas de 5 sugiere MC con otras variables. \n",
        "\n",
        "from statsmodels.stats.outliers_influence import variance_inflation_factor\n",
        "\n",
        "x = data_final.drop(['y1'], axis = 1)\n",
        "\n",
        "# VIF dataframe\n",
        "vif_data = pd.DataFrame()\n",
        "vif_data[\"feature\"] = x.columns\n",
        "\n",
        "vif_data[\"VIF\"] = [variance_inflation_factor(x.values, i)\n",
        "                          for i in range(len(x.columns))]\n",
        "  \n",
        "\n",
        "vif_data"
      ],
      "execution_count": null,
      "outputs": [
        {
          "output_type": "stream",
          "name": "stderr",
          "text": [
            "/usr/local/lib/python3.7/dist-packages/statsmodels/tools/_testing.py:19: FutureWarning: pandas.util.testing is deprecated. Use the functions in the public API at pandas.testing instead.\n",
            "  import pandas.util.testing as tm\n"
          ]
        },
        {
          "output_type": "execute_result",
          "data": {
            "text/html": [
              "<div>\n",
              "<style scoped>\n",
              "    .dataframe tbody tr th:only-of-type {\n",
              "        vertical-align: middle;\n",
              "    }\n",
              "\n",
              "    .dataframe tbody tr th {\n",
              "        vertical-align: top;\n",
              "    }\n",
              "\n",
              "    .dataframe thead th {\n",
              "        text-align: right;\n",
              "    }\n",
              "</style>\n",
              "<table border=\"1\" class=\"dataframe\">\n",
              "  <thead>\n",
              "    <tr style=\"text-align: right;\">\n",
              "      <th></th>\n",
              "      <th>feature</th>\n",
              "      <th>VIF</th>\n",
              "    </tr>\n",
              "  </thead>\n",
              "  <tbody>\n",
              "    <tr>\n",
              "      <th>0</th>\n",
              "      <td>edad</td>\n",
              "      <td>12.457683</td>\n",
              "    </tr>\n",
              "    <tr>\n",
              "      <th>1</th>\n",
              "      <td>v19</td>\n",
              "      <td>4.342985</td>\n",
              "    </tr>\n",
              "    <tr>\n",
              "      <th>2</th>\n",
              "      <td>region_Región de Antofagasta</td>\n",
              "      <td>1.192026</td>\n",
              "    </tr>\n",
              "    <tr>\n",
              "      <th>3</th>\n",
              "      <td>region_Región de Arica y Parinacota</td>\n",
              "      <td>1.169043</td>\n",
              "    </tr>\n",
              "    <tr>\n",
              "      <th>4</th>\n",
              "      <td>region_Región de Atacama</td>\n",
              "      <td>1.212062</td>\n",
              "    </tr>\n",
              "    <tr>\n",
              "      <th>5</th>\n",
              "      <td>region_Región de Aysén del Gral. Carlos Ibáñez...</td>\n",
              "      <td>1.163770</td>\n",
              "    </tr>\n",
              "    <tr>\n",
              "      <th>6</th>\n",
              "      <td>region_Región de Coquimbo</td>\n",
              "      <td>1.235994</td>\n",
              "    </tr>\n",
              "    <tr>\n",
              "      <th>7</th>\n",
              "      <td>region_Región de La Araucanía</td>\n",
              "      <td>1.343312</td>\n",
              "    </tr>\n",
              "    <tr>\n",
              "      <th>8</th>\n",
              "      <td>region_Región de Los Lagos</td>\n",
              "      <td>1.340139</td>\n",
              "    </tr>\n",
              "    <tr>\n",
              "      <th>9</th>\n",
              "      <td>region_Región de Los Ríos</td>\n",
              "      <td>1.234560</td>\n",
              "    </tr>\n",
              "    <tr>\n",
              "      <th>10</th>\n",
              "      <td>region_Región de Magallanes y de la Antártica ...</td>\n",
              "      <td>1.165583</td>\n",
              "    </tr>\n",
              "    <tr>\n",
              "      <th>11</th>\n",
              "      <td>region_Región de Tarapacá</td>\n",
              "      <td>1.206507</td>\n",
              "    </tr>\n",
              "    <tr>\n",
              "      <th>12</th>\n",
              "      <td>region_Región de Valparaíso</td>\n",
              "      <td>1.462733</td>\n",
              "    </tr>\n",
              "    <tr>\n",
              "      <th>13</th>\n",
              "      <td>region_Región de Ñuble</td>\n",
              "      <td>1.246458</td>\n",
              "    </tr>\n",
              "    <tr>\n",
              "      <th>14</th>\n",
              "      <td>region_Región del Biobío</td>\n",
              "      <td>1.514903</td>\n",
              "    </tr>\n",
              "    <tr>\n",
              "      <th>15</th>\n",
              "      <td>region_Región del Libertador Gral. Bernardo O'...</td>\n",
              "      <td>1.465485</td>\n",
              "    </tr>\n",
              "    <tr>\n",
              "      <th>16</th>\n",
              "      <td>region_Región del Maule</td>\n",
              "      <td>1.484596</td>\n",
              "    </tr>\n",
              "    <tr>\n",
              "      <th>17</th>\n",
              "      <td>area_Rural</td>\n",
              "      <td>4.680095</td>\n",
              "    </tr>\n",
              "    <tr>\n",
              "      <th>18</th>\n",
              "      <td>area_Urbano</td>\n",
              "      <td>19.709101</td>\n",
              "    </tr>\n",
              "    <tr>\n",
              "      <th>19</th>\n",
              "      <td>sexo_Mujer</td>\n",
              "      <td>1.895735</td>\n",
              "    </tr>\n",
              "    <tr>\n",
              "      <th>20</th>\n",
              "      <td>v1_Departamento</td>\n",
              "      <td>1.567037</td>\n",
              "    </tr>\n",
              "    <tr>\n",
              "      <th>21</th>\n",
              "      <td>v1_Mediagua, mejora o vivienda de emergencia</td>\n",
              "      <td>1.105247</td>\n",
              "    </tr>\n",
              "    <tr>\n",
              "      <th>22</th>\n",
              "      <td>v1_Pieza en casa antigua, en conventillo, en g...</td>\n",
              "      <td>1.175329</td>\n",
              "    </tr>\n",
              "    <tr>\n",
              "      <th>23</th>\n",
              "      <td>v1_Rancho o choza</td>\n",
              "      <td>1.005061</td>\n",
              "    </tr>\n",
              "    <tr>\n",
              "      <th>24</th>\n",
              "      <td>v1_Vivienda precaria de materiales reutilizado...</td>\n",
              "      <td>1.031769</td>\n",
              "    </tr>\n",
              "    <tr>\n",
              "      <th>25</th>\n",
              "      <td>v1_Vivienda tradicional indígena</td>\n",
              "      <td>1.004916</td>\n",
              "    </tr>\n",
              "    <tr>\n",
              "      <th>26</th>\n",
              "      <td>v13_Cedida</td>\n",
              "      <td>1.556380</td>\n",
              "    </tr>\n",
              "    <tr>\n",
              "      <th>27</th>\n",
              "      <td>v13_Ocupación irregular (de hecho)</td>\n",
              "      <td>1.077865</td>\n",
              "    </tr>\n",
              "    <tr>\n",
              "      <th>28</th>\n",
              "      <td>v13_Poseedor irregular</td>\n",
              "      <td>1.028685</td>\n",
              "    </tr>\n",
              "    <tr>\n",
              "      <th>29</th>\n",
              "      <td>v13_Propia</td>\n",
              "      <td>4.007164</td>\n",
              "    </tr>\n",
              "    <tr>\n",
              "      <th>30</th>\n",
              "      <td>v13_Usufructo (sólo uso y goce)</td>\n",
              "      <td>1.118929</td>\n",
              "    </tr>\n",
              "    <tr>\n",
              "      <th>31</th>\n",
              "      <td>v20_Otra fuente. ¿Cuál? Especifique.</td>\n",
              "      <td>1.984384</td>\n",
              "    </tr>\n",
              "    <tr>\n",
              "      <th>32</th>\n",
              "      <td>v20_Pozo o noria</td>\n",
              "      <td>4.914563</td>\n",
              "    </tr>\n",
              "    <tr>\n",
              "      <th>33</th>\n",
              "      <td>v20_Red pública</td>\n",
              "      <td>115.159352</td>\n",
              "    </tr>\n",
              "    <tr>\n",
              "      <th>34</th>\n",
              "      <td>v20_Río, vertiente, lago o estero</td>\n",
              "      <td>2.346957</td>\n",
              "    </tr>\n",
              "    <tr>\n",
              "      <th>35</th>\n",
              "      <td>v22_Con llave dentro del sitio, pero fuera de ...</td>\n",
              "      <td>1.045620</td>\n",
              "    </tr>\n",
              "    <tr>\n",
              "      <th>36</th>\n",
              "      <td>v22_No sabe</td>\n",
              "      <td>1.003273</td>\n",
              "    </tr>\n",
              "    <tr>\n",
              "      <th>37</th>\n",
              "      <td>v22_No tiene sistema, la acarrea</td>\n",
              "      <td>1.038529</td>\n",
              "    </tr>\n",
              "    <tr>\n",
              "      <th>38</th>\n",
              "      <td>v23_sistema_Cajón</td>\n",
              "      <td>1.424930</td>\n",
              "    </tr>\n",
              "    <tr>\n",
              "      <th>39</th>\n",
              "      <td>v23_sistema_Letrina sanitaria conectada a pozo...</td>\n",
              "      <td>16.308617</td>\n",
              "    </tr>\n",
              "    <tr>\n",
              "      <th>40</th>\n",
              "      <td>v23_sistema_No tiene sistema</td>\n",
              "      <td>12.266108</td>\n",
              "    </tr>\n",
              "    <tr>\n",
              "      <th>41</th>\n",
              "      <td>v23_sistema_W.C. conectado a fosa séptica</td>\n",
              "      <td>69.061995</td>\n",
              "    </tr>\n",
              "    <tr>\n",
              "      <th>42</th>\n",
              "      <td>v23_sistema_W.C. conectado al alcantarillado</td>\n",
              "      <td>680.750201</td>\n",
              "    </tr>\n",
              "    <tr>\n",
              "      <th>43</th>\n",
              "      <td>v27_1</td>\n",
              "      <td>39.009590</td>\n",
              "    </tr>\n",
              "    <tr>\n",
              "      <th>44</th>\n",
              "      <td>v27_2</td>\n",
              "      <td>195.101820</td>\n",
              "    </tr>\n",
              "    <tr>\n",
              "      <th>45</th>\n",
              "      <td>v27_3</td>\n",
              "      <td>260.480414</td>\n",
              "    </tr>\n",
              "    <tr>\n",
              "      <th>46</th>\n",
              "      <td>v27_4</td>\n",
              "      <td>92.634345</td>\n",
              "    </tr>\n",
              "    <tr>\n",
              "      <th>47</th>\n",
              "      <td>v27_5</td>\n",
              "      <td>26.192589</td>\n",
              "    </tr>\n",
              "    <tr>\n",
              "      <th>48</th>\n",
              "      <td>v27_6+</td>\n",
              "      <td>13.097269</td>\n",
              "    </tr>\n",
              "    <tr>\n",
              "      <th>49</th>\n",
              "      <td>v27_No sabe</td>\n",
              "      <td>1.484936</td>\n",
              "    </tr>\n",
              "  </tbody>\n",
              "</table>\n",
              "</div>"
            ],
            "text/plain": [
              "                                              feature         VIF\n",
              "0                                                edad   12.457683\n",
              "1                                                 v19    4.342985\n",
              "2                        region_Región de Antofagasta    1.192026\n",
              "3                 region_Región de Arica y Parinacota    1.169043\n",
              "4                            region_Región de Atacama    1.212062\n",
              "5   region_Región de Aysén del Gral. Carlos Ibáñez...    1.163770\n",
              "6                           region_Región de Coquimbo    1.235994\n",
              "7                       region_Región de La Araucanía    1.343312\n",
              "8                          region_Región de Los Lagos    1.340139\n",
              "9                           region_Región de Los Ríos    1.234560\n",
              "10  region_Región de Magallanes y de la Antártica ...    1.165583\n",
              "11                          region_Región de Tarapacá    1.206507\n",
              "12                        region_Región de Valparaíso    1.462733\n",
              "13                             region_Región de Ñuble    1.246458\n",
              "14                           region_Región del Biobío    1.514903\n",
              "15  region_Región del Libertador Gral. Bernardo O'...    1.465485\n",
              "16                            region_Región del Maule    1.484596\n",
              "17                                         area_Rural    4.680095\n",
              "18                                        area_Urbano   19.709101\n",
              "19                                         sexo_Mujer    1.895735\n",
              "20                                    v1_Departamento    1.567037\n",
              "21       v1_Mediagua, mejora o vivienda de emergencia    1.105247\n",
              "22  v1_Pieza en casa antigua, en conventillo, en g...    1.175329\n",
              "23                                  v1_Rancho o choza    1.005061\n",
              "24  v1_Vivienda precaria de materiales reutilizado...    1.031769\n",
              "25                   v1_Vivienda tradicional indígena    1.004916\n",
              "26                                         v13_Cedida    1.556380\n",
              "27                 v13_Ocupación irregular (de hecho)    1.077865\n",
              "28                             v13_Poseedor irregular    1.028685\n",
              "29                                         v13_Propia    4.007164\n",
              "30                    v13_Usufructo (sólo uso y goce)    1.118929\n",
              "31               v20_Otra fuente. ¿Cuál? Especifique.    1.984384\n",
              "32                                   v20_Pozo o noria    4.914563\n",
              "33                                    v20_Red pública  115.159352\n",
              "34                  v20_Río, vertiente, lago o estero    2.346957\n",
              "35  v22_Con llave dentro del sitio, pero fuera de ...    1.045620\n",
              "36                                        v22_No sabe    1.003273\n",
              "37                   v22_No tiene sistema, la acarrea    1.038529\n",
              "38                                  v23_sistema_Cajón    1.424930\n",
              "39  v23_sistema_Letrina sanitaria conectada a pozo...   16.308617\n",
              "40                       v23_sistema_No tiene sistema   12.266108\n",
              "41          v23_sistema_W.C. conectado a fosa séptica   69.061995\n",
              "42       v23_sistema_W.C. conectado al alcantarillado  680.750201\n",
              "43                                              v27_1   39.009590\n",
              "44                                              v27_2  195.101820\n",
              "45                                              v27_3  260.480414\n",
              "46                                              v27_4   92.634345\n",
              "47                                              v27_5   26.192589\n",
              "48                                             v27_6+   13.097269\n",
              "49                                        v27_No sabe    1.484936"
            ]
          },
          "metadata": {},
          "execution_count": 17
        }
      ]
    },
    {
      "cell_type": "code",
      "metadata": {
        "id": "wnIWb9YvWtgf"
      },
      "source": [
        "# los siguientes variables tienen un VIF mas grande que 5.0 lo que sugiere que pueden tender MultiColinearidad con otras variables: \n",
        "\n",
        "# edad, area_Urbano, v20_Red pública, v23_sistema_Letrina sanitaria conectada a pozo..., v23_sistema_No tiene sistema,  v23_sistema_W.C. conectado a fosa séptica, v23_sistema_W.C. conectado al alcantarillado\n",
        "# v27_1, v27_2, v27_3, v27_4, v27_5, v27_6+\n",
        "\n",
        "# # esta informacion de multicolinearidad se puede usar mas adelante para determinar cual variables incluir en el modelo."
      ],
      "execution_count": null,
      "outputs": []
    },
    {
      "cell_type": "markdown",
      "metadata": {
        "id": "INc1Fyk8ZmlM"
      },
      "source": [
        "## Modelo de Regresión Lineal Múltiple utilizando la librería STATSMODEL de Python."
      ]
    },
    {
      "cell_type": "code",
      "metadata": {
        "colab": {
          "base_uri": "https://localhost:8080/",
          "height": 1000
        },
        "id": "To5ufaFLWtcs",
        "outputId": "1f5d067a-298c-467d-d24b-0bfdb7f176f7"
      },
      "source": [
        "# Modelo de Regresión Lineal Múltiple utilizando la librería STATSMODEL de Python.\n",
        "\n",
        "import statsmodels.api as sm\n",
        "\n",
        "x = data_final.drop(['y1'], axis = 1)\n",
        "y = data_final['y1']\n",
        "\n",
        "# fi model\n",
        "\n",
        "x = sm.add_constant(x)\n",
        "\n",
        "est_1 = sm.OLS(y, x).fit()\n",
        "\n",
        "est_1.summary()  "
      ],
      "execution_count": null,
      "outputs": [
        {
          "output_type": "execute_result",
          "data": {
            "text/html": [
              "<table class=\"simpletable\">\n",
              "<caption>OLS Regression Results</caption>\n",
              "<tr>\n",
              "  <th>Dep. Variable:</th>           <td>y1</td>        <th>  R-squared:         </th>  <td>   0.272</td>  \n",
              "</tr>\n",
              "<tr>\n",
              "  <th>Model:</th>                   <td>OLS</td>       <th>  Adj. R-squared:    </th>  <td>   0.271</td>  \n",
              "</tr>\n",
              "<tr>\n",
              "  <th>Method:</th>             <td>Least Squares</td>  <th>  F-statistic:       </th>  <td>   301.5</td>  \n",
              "</tr>\n",
              "<tr>\n",
              "  <th>Date:</th>             <td>Tue, 14 Sep 2021</td> <th>  Prob (F-statistic):</th>   <td>  0.00</td>   \n",
              "</tr>\n",
              "<tr>\n",
              "  <th>Time:</th>                 <td>03:54:11</td>     <th>  Log-Likelihood:    </th> <td>-5.9545e+05</td>\n",
              "</tr>\n",
              "<tr>\n",
              "  <th>No. Observations:</th>      <td> 40418</td>      <th>  AIC:               </th>  <td>1.191e+06</td> \n",
              "</tr>\n",
              "<tr>\n",
              "  <th>Df Residuals:</th>          <td> 40367</td>      <th>  BIC:               </th>  <td>1.191e+06</td> \n",
              "</tr>\n",
              "<tr>\n",
              "  <th>Df Model:</th>              <td>    50</td>      <th>                     </th>      <td> </td>     \n",
              "</tr>\n",
              "<tr>\n",
              "  <th>Covariance Type:</th>      <td>nonrobust</td>    <th>                     </th>      <td> </td>     \n",
              "</tr>\n",
              "</table>\n",
              "<table class=\"simpletable\">\n",
              "<tr>\n",
              "                                           <td></td>                                             <th>coef</th>     <th>std err</th>      <th>t</th>      <th>P>|t|</th>  <th>[0.025</th>    <th>0.975]</th>  \n",
              "</tr>\n",
              "<tr>\n",
              "  <th>const</th>                                                                              <td> 2.276e+05</td> <td>  3.6e+05</td> <td>    0.632</td> <td> 0.527</td> <td>-4.78e+05</td> <td> 9.33e+05</td>\n",
              "</tr>\n",
              "<tr>\n",
              "  <th>edad</th>                                                                               <td> 3592.4245</td> <td>  239.954</td> <td>   14.971</td> <td> 0.000</td> <td> 3122.109</td> <td> 4062.740</td>\n",
              "</tr>\n",
              "<tr>\n",
              "  <th>v19</th>                                                                                <td>    1.6402</td> <td>    0.017</td> <td>   95.427</td> <td> 0.000</td> <td>    1.606</td> <td>    1.674</td>\n",
              "</tr>\n",
              "<tr>\n",
              "  <th>region_Región de Antofagasta</th>                                                       <td> 1003.9874</td> <td> 1.59e+04</td> <td>    0.063</td> <td> 0.950</td> <td>-3.01e+04</td> <td> 3.21e+04</td>\n",
              "</tr>\n",
              "<tr>\n",
              "  <th>region_Región de Arica y Parinacota</th>                                                <td> -7.98e+04</td> <td> 1.74e+04</td> <td>   -4.594</td> <td> 0.000</td> <td>-1.14e+05</td> <td>-4.58e+04</td>\n",
              "</tr>\n",
              "<tr>\n",
              "  <th>region_Región de Atacama</th>                                                           <td>  2.19e+04</td> <td> 1.65e+04</td> <td>    1.325</td> <td> 0.185</td> <td>-1.05e+04</td> <td> 5.43e+04</td>\n",
              "</tr>\n",
              "<tr>\n",
              "  <th>region_Región de Aysén del Gral. Carlos Ibáñez del Campo</th>                           <td> 1.373e+05</td> <td> 1.91e+04</td> <td>    7.184</td> <td> 0.000</td> <td> 9.98e+04</td> <td> 1.75e+05</td>\n",
              "</tr>\n",
              "<tr>\n",
              "  <th>region_Región de Coquimbo</th>                                                          <td>-1.965e+04</td> <td> 1.67e+04</td> <td>   -1.174</td> <td> 0.240</td> <td>-5.25e+04</td> <td> 1.31e+04</td>\n",
              "</tr>\n",
              "<tr>\n",
              "  <th>region_Región de La Araucanía</th>                                                      <td> 4.239e+04</td> <td> 1.56e+04</td> <td>    2.726</td> <td> 0.006</td> <td> 1.19e+04</td> <td> 7.29e+04</td>\n",
              "</tr>\n",
              "<tr>\n",
              "  <th>region_Región de Los Lagos</th>                                                         <td> 3.353e+04</td> <td> 1.52e+04</td> <td>    2.211</td> <td> 0.027</td> <td> 3800.029</td> <td> 6.33e+04</td>\n",
              "</tr>\n",
              "<tr>\n",
              "  <th>region_Región de Los Ríos</th>                                                          <td> 3.653e+04</td> <td> 1.72e+04</td> <td>    2.124</td> <td> 0.034</td> <td> 2826.189</td> <td> 7.02e+04</td>\n",
              "</tr>\n",
              "<tr>\n",
              "  <th>region_Región de Magallanes y de la Antártica Chilena</th>                              <td>-3.201e+04</td> <td> 1.83e+04</td> <td>   -1.750</td> <td> 0.080</td> <td>-6.79e+04</td> <td> 3845.458</td>\n",
              "</tr>\n",
              "<tr>\n",
              "  <th>region_Región de Tarapacá</th>                                                          <td>-6.258e+04</td> <td> 1.54e+04</td> <td>   -4.058</td> <td> 0.000</td> <td>-9.28e+04</td> <td>-3.24e+04</td>\n",
              "</tr>\n",
              "<tr>\n",
              "  <th>region_Región de Valparaíso</th>                                                        <td>-1.103e+04</td> <td> 1.19e+04</td> <td>   -0.924</td> <td> 0.356</td> <td>-3.45e+04</td> <td> 1.24e+04</td>\n",
              "</tr>\n",
              "<tr>\n",
              "  <th>region_Región de Ñuble</th>                                                             <td> 5.236e+04</td> <td>  1.9e+04</td> <td>    2.753</td> <td> 0.006</td> <td> 1.51e+04</td> <td> 8.96e+04</td>\n",
              "</tr>\n",
              "<tr>\n",
              "  <th>region_Región del Biobío</th>                                                           <td> 5.767e+04</td> <td> 1.23e+04</td> <td>    4.694</td> <td> 0.000</td> <td> 3.36e+04</td> <td> 8.18e+04</td>\n",
              "</tr>\n",
              "<tr>\n",
              "  <th>region_Región del Libertador Gral. Bernardo O'Higgins</th>                              <td> 3.245e+04</td> <td> 1.38e+04</td> <td>    2.346</td> <td> 0.019</td> <td> 5343.452</td> <td> 5.96e+04</td>\n",
              "</tr>\n",
              "<tr>\n",
              "  <th>region_Región del Maule</th>                                                            <td>   3.7e+04</td> <td> 1.42e+04</td> <td>    2.612</td> <td> 0.009</td> <td> 9240.787</td> <td> 6.48e+04</td>\n",
              "</tr>\n",
              "<tr>\n",
              "  <th>area_Rural</th>                                                                         <td>-1.442e+04</td> <td> 1.81e+04</td> <td>   -0.797</td> <td> 0.426</td> <td>-4.99e+04</td> <td>  2.1e+04</td>\n",
              "</tr>\n",
              "<tr>\n",
              "  <th>area_Urbano</th>                                                                        <td>-4952.3432</td> <td> 1.48e+04</td> <td>   -0.335</td> <td> 0.737</td> <td>-3.39e+04</td> <td>  2.4e+04</td>\n",
              "</tr>\n",
              "<tr>\n",
              "  <th>sexo_Mujer</th>                                                                         <td>-1.386e+05</td> <td> 6066.383</td> <td>  -22.849</td> <td> 0.000</td> <td>-1.51e+05</td> <td>-1.27e+05</td>\n",
              "</tr>\n",
              "<tr>\n",
              "  <th>v1_Departamento</th>                                                                    <td> 2.359e+05</td> <td> 9471.078</td> <td>   24.903</td> <td> 0.000</td> <td> 2.17e+05</td> <td> 2.54e+05</td>\n",
              "</tr>\n",
              "<tr>\n",
              "  <th>v1_Mediagua, mejora o vivienda de emergencia</th>                                       <td>-8.843e+04</td> <td> 2.53e+04</td> <td>   -3.500</td> <td> 0.000</td> <td>-1.38e+05</td> <td>-3.89e+04</td>\n",
              "</tr>\n",
              "<tr>\n",
              "  <th>v1_Pieza en casa antigua, en conventillo, en galpón o espacio subdividido</th>          <td>-3.568e+04</td> <td> 2.44e+04</td> <td>   -1.464</td> <td> 0.143</td> <td>-8.35e+04</td> <td> 1.21e+04</td>\n",
              "</tr>\n",
              "<tr>\n",
              "  <th>v1_Rancho o choza</th>                                                                  <td>-1.861e+05</td> <td> 1.36e+05</td> <td>   -1.371</td> <td> 0.170</td> <td>-4.52e+05</td> <td> 7.99e+04</td>\n",
              "</tr>\n",
              "<tr>\n",
              "  <th>v1_Vivienda precaria de materiales reutilizados (latas, plásticos, cartones, etc.)</th> <td>-9.379e+04</td> <td> 6.52e+04</td> <td>   -1.439</td> <td> 0.150</td> <td>-2.22e+05</td> <td>  3.4e+04</td>\n",
              "</tr>\n",
              "<tr>\n",
              "  <th>v1_Vivienda tradicional indígena</th>                                                   <td> 8.435e+04</td> <td> 1.36e+05</td> <td>    0.621</td> <td> 0.534</td> <td>-1.82e+05</td> <td>  3.5e+05</td>\n",
              "</tr>\n",
              "<tr>\n",
              "  <th>v13_Cedida</th>                                                                         <td> -7.95e+04</td> <td> 1.13e+04</td> <td>   -7.013</td> <td> 0.000</td> <td>-1.02e+05</td> <td>-5.73e+04</td>\n",
              "</tr>\n",
              "<tr>\n",
              "  <th>v13_Ocupación irregular (de hecho)</th>                                                 <td>-1.267e+05</td> <td> 4.21e+04</td> <td>   -3.009</td> <td> 0.003</td> <td>-2.09e+05</td> <td>-4.42e+04</td>\n",
              "</tr>\n",
              "<tr>\n",
              "  <th>v13_Poseedor irregular</th>                                                             <td>-6.192e+04</td> <td> 6.24e+04</td> <td>   -0.993</td> <td> 0.321</td> <td>-1.84e+05</td> <td> 6.03e+04</td>\n",
              "</tr>\n",
              "<tr>\n",
              "  <th>v13_Propia</th>                                                                         <td> 1.276e+04</td> <td> 7807.979</td> <td>    1.634</td> <td> 0.102</td> <td>-2544.405</td> <td> 2.81e+04</td>\n",
              "</tr>\n",
              "<tr>\n",
              "  <th>v13_Usufructo (sólo uso y goce)</th>                                                    <td>-1.073e+05</td> <td> 2.07e+04</td> <td>   -5.189</td> <td> 0.000</td> <td>-1.48e+05</td> <td>-6.68e+04</td>\n",
              "</tr>\n",
              "<tr>\n",
              "  <th>v20_Otra fuente. ¿Cuál? Especifique.</th>                                               <td>-1.079e+04</td> <td> 4.52e+04</td> <td>   -0.238</td> <td> 0.812</td> <td>-9.95e+04</td> <td> 7.79e+04</td>\n",
              "</tr>\n",
              "<tr>\n",
              "  <th>v20_Pozo o noria</th>                                                                   <td>  537.1471</td> <td> 3.57e+04</td> <td>    0.015</td> <td> 0.988</td> <td>-6.95e+04</td> <td> 7.05e+04</td>\n",
              "</tr>\n",
              "<tr>\n",
              "  <th>v20_Red pública</th>                                                                    <td> 9308.0915</td> <td> 3.35e+04</td> <td>    0.278</td> <td> 0.781</td> <td>-5.63e+04</td> <td> 7.49e+04</td>\n",
              "</tr>\n",
              "<tr>\n",
              "  <th>v20_Río, vertiente, lago o estero</th>                                                  <td>-1.172e+04</td> <td> 4.22e+04</td> <td>   -0.278</td> <td> 0.781</td> <td>-9.45e+04</td> <td>  7.1e+04</td>\n",
              "</tr>\n",
              "<tr>\n",
              "  <th>v22_Con llave dentro del sitio, pero fuera de la vivienda</th>                          <td>-1247.8307</td> <td> 1.93e+04</td> <td>   -0.065</td> <td> 0.948</td> <td> -3.9e+04</td> <td> 3.65e+04</td>\n",
              "</tr>\n",
              "<tr>\n",
              "  <th>v22_No sabe</th>                                                                        <td> 7.269e+05</td> <td> 4.29e+05</td> <td>    1.695</td> <td> 0.090</td> <td>-1.14e+05</td> <td> 1.57e+06</td>\n",
              "</tr>\n",
              "<tr>\n",
              "  <th>v22_No tiene sistema, la acarrea</th>                                                   <td> 1.991e+04</td> <td> 1.23e+05</td> <td>    0.161</td> <td> 0.872</td> <td>-2.22e+05</td> <td> 2.62e+05</td>\n",
              "</tr>\n",
              "<tr>\n",
              "  <th>v23_sistema_Cajón</th>                                                                  <td>-2.726e+05</td> <td> 3.73e+05</td> <td>   -0.730</td> <td> 0.465</td> <td>   -1e+06</td> <td> 4.59e+05</td>\n",
              "</tr>\n",
              "<tr>\n",
              "  <th>v23_sistema_Letrina sanitaria conectada a pozo negro</th>                               <td>-2.856e+05</td> <td> 3.51e+05</td> <td>   -0.814</td> <td> 0.415</td> <td>-9.73e+05</td> <td> 4.02e+05</td>\n",
              "</tr>\n",
              "<tr>\n",
              "  <th>v23_sistema_No tiene sistema</th>                                                       <td>-2.316e+05</td> <td> 3.51e+05</td> <td>   -0.660</td> <td> 0.509</td> <td> -9.2e+05</td> <td> 4.56e+05</td>\n",
              "</tr>\n",
              "<tr>\n",
              "  <th>v23_sistema_W.C. conectado a fosa séptica</th>                                          <td>-2.143e+05</td> <td>  3.5e+05</td> <td>   -0.612</td> <td> 0.541</td> <td>-9.01e+05</td> <td> 4.72e+05</td>\n",
              "</tr>\n",
              "<tr>\n",
              "  <th>v23_sistema_W.C. conectado al alcantarillado</th>                                       <td>-1.977e+05</td> <td>  3.5e+05</td> <td>   -0.564</td> <td> 0.573</td> <td>-8.85e+05</td> <td> 4.89e+05</td>\n",
              "</tr>\n",
              "<tr>\n",
              "  <th>v27_1</th>                                                                              <td> 6740.6842</td> <td> 7.74e+04</td> <td>    0.087</td> <td> 0.931</td> <td>-1.45e+05</td> <td> 1.58e+05</td>\n",
              "</tr>\n",
              "<tr>\n",
              "  <th>v27_2</th>                                                                              <td>-4.535e+04</td> <td> 7.71e+04</td> <td>   -0.588</td> <td> 0.556</td> <td>-1.96e+05</td> <td> 1.06e+05</td>\n",
              "</tr>\n",
              "<tr>\n",
              "  <th>v27_3</th>                                                                              <td>-4021.5543</td> <td> 7.71e+04</td> <td>   -0.052</td> <td> 0.958</td> <td>-1.55e+05</td> <td> 1.47e+05</td>\n",
              "</tr>\n",
              "<tr>\n",
              "  <th>v27_4</th>                                                                              <td> 4.889e+04</td> <td> 7.75e+04</td> <td>    0.631</td> <td> 0.528</td> <td>-1.03e+05</td> <td> 2.01e+05</td>\n",
              "</tr>\n",
              "<tr>\n",
              "  <th>v27_5</th>                                                                              <td> 5.485e+04</td> <td> 7.86e+04</td> <td>    0.698</td> <td> 0.485</td> <td>-9.91e+04</td> <td> 2.09e+05</td>\n",
              "</tr>\n",
              "<tr>\n",
              "  <th>v27_6+</th>                                                                             <td> -2.42e+04</td> <td> 7.99e+04</td> <td>   -0.303</td> <td> 0.762</td> <td>-1.81e+05</td> <td> 1.32e+05</td>\n",
              "</tr>\n",
              "<tr>\n",
              "  <th>v27_No sabe</th>                                                                        <td>-5.777e+04</td> <td> 1.31e+05</td> <td>   -0.439</td> <td> 0.660</td> <td>-3.15e+05</td> <td>    2e+05</td>\n",
              "</tr>\n",
              "</table>\n",
              "<table class=\"simpletable\">\n",
              "<tr>\n",
              "  <th>Omnibus:</th>       <td>40871.228</td> <th>  Durbin-Watson:     </th>   <td>   1.729</td>  \n",
              "</tr>\n",
              "<tr>\n",
              "  <th>Prob(Omnibus):</th>  <td> 0.000</td>   <th>  Jarque-Bera (JB):  </th> <td>13392862.872</td>\n",
              "</tr>\n",
              "<tr>\n",
              "  <th>Skew:</th>           <td> 4.383</td>   <th>  Prob(JB):          </th>   <td>    0.00</td>  \n",
              "</tr>\n",
              "<tr>\n",
              "  <th>Kurtosis:</th>       <td>91.745</td>   <th>  Cond. No.          </th>   <td>1.04e+08</td>  \n",
              "</tr>\n",
              "</table><br/><br/>Warnings:<br/>[1] Standard Errors assume that the covariance matrix of the errors is correctly specified.<br/>[2] The condition number is large, 1.04e+08. This might indicate that there are<br/>strong multicollinearity or other numerical problems."
            ],
            "text/plain": [
              "<class 'statsmodels.iolib.summary.Summary'>\n",
              "\"\"\"\n",
              "                            OLS Regression Results                            \n",
              "==============================================================================\n",
              "Dep. Variable:                     y1   R-squared:                       0.272\n",
              "Model:                            OLS   Adj. R-squared:                  0.271\n",
              "Method:                 Least Squares   F-statistic:                     301.5\n",
              "Date:                Tue, 14 Sep 2021   Prob (F-statistic):               0.00\n",
              "Time:                        03:54:11   Log-Likelihood:            -5.9545e+05\n",
              "No. Observations:               40418   AIC:                         1.191e+06\n",
              "Df Residuals:                   40367   BIC:                         1.191e+06\n",
              "Df Model:                          50                                         \n",
              "Covariance Type:            nonrobust                                         \n",
              "======================================================================================================================================================\n",
              "                                                                                         coef    std err          t      P>|t|      [0.025      0.975]\n",
              "------------------------------------------------------------------------------------------------------------------------------------------------------\n",
              "const                                                                               2.276e+05    3.6e+05      0.632      0.527   -4.78e+05    9.33e+05\n",
              "edad                                                                                3592.4245    239.954     14.971      0.000    3122.109    4062.740\n",
              "v19                                                                                    1.6402      0.017     95.427      0.000       1.606       1.674\n",
              "region_Región de Antofagasta                                                        1003.9874   1.59e+04      0.063      0.950   -3.01e+04    3.21e+04\n",
              "region_Región de Arica y Parinacota                                                 -7.98e+04   1.74e+04     -4.594      0.000   -1.14e+05   -4.58e+04\n",
              "region_Región de Atacama                                                             2.19e+04   1.65e+04      1.325      0.185   -1.05e+04    5.43e+04\n",
              "region_Región de Aysén del Gral. Carlos Ibáñez del Campo                            1.373e+05   1.91e+04      7.184      0.000    9.98e+04    1.75e+05\n",
              "region_Región de Coquimbo                                                          -1.965e+04   1.67e+04     -1.174      0.240   -5.25e+04    1.31e+04\n",
              "region_Región de La Araucanía                                                       4.239e+04   1.56e+04      2.726      0.006    1.19e+04    7.29e+04\n",
              "region_Región de Los Lagos                                                          3.353e+04   1.52e+04      2.211      0.027    3800.029    6.33e+04\n",
              "region_Región de Los Ríos                                                           3.653e+04   1.72e+04      2.124      0.034    2826.189    7.02e+04\n",
              "region_Región de Magallanes y de la Antártica Chilena                              -3.201e+04   1.83e+04     -1.750      0.080   -6.79e+04    3845.458\n",
              "region_Región de Tarapacá                                                          -6.258e+04   1.54e+04     -4.058      0.000   -9.28e+04   -3.24e+04\n",
              "region_Región de Valparaíso                                                        -1.103e+04   1.19e+04     -0.924      0.356   -3.45e+04    1.24e+04\n",
              "region_Región de Ñuble                                                              5.236e+04    1.9e+04      2.753      0.006    1.51e+04    8.96e+04\n",
              "region_Región del Biobío                                                            5.767e+04   1.23e+04      4.694      0.000    3.36e+04    8.18e+04\n",
              "region_Región del Libertador Gral. Bernardo O'Higgins                               3.245e+04   1.38e+04      2.346      0.019    5343.452    5.96e+04\n",
              "region_Región del Maule                                                               3.7e+04   1.42e+04      2.612      0.009    9240.787    6.48e+04\n",
              "area_Rural                                                                         -1.442e+04   1.81e+04     -0.797      0.426   -4.99e+04     2.1e+04\n",
              "area_Urbano                                                                        -4952.3432   1.48e+04     -0.335      0.737   -3.39e+04     2.4e+04\n",
              "sexo_Mujer                                                                         -1.386e+05   6066.383    -22.849      0.000   -1.51e+05   -1.27e+05\n",
              "v1_Departamento                                                                     2.359e+05   9471.078     24.903      0.000    2.17e+05    2.54e+05\n",
              "v1_Mediagua, mejora o vivienda de emergencia                                       -8.843e+04   2.53e+04     -3.500      0.000   -1.38e+05   -3.89e+04\n",
              "v1_Pieza en casa antigua, en conventillo, en galpón o espacio subdividido          -3.568e+04   2.44e+04     -1.464      0.143   -8.35e+04    1.21e+04\n",
              "v1_Rancho o choza                                                                  -1.861e+05   1.36e+05     -1.371      0.170   -4.52e+05    7.99e+04\n",
              "v1_Vivienda precaria de materiales reutilizados (latas, plásticos, cartones, etc.) -9.379e+04   6.52e+04     -1.439      0.150   -2.22e+05     3.4e+04\n",
              "v1_Vivienda tradicional indígena                                                    8.435e+04   1.36e+05      0.621      0.534   -1.82e+05     3.5e+05\n",
              "v13_Cedida                                                                          -7.95e+04   1.13e+04     -7.013      0.000   -1.02e+05   -5.73e+04\n",
              "v13_Ocupación irregular (de hecho)                                                 -1.267e+05   4.21e+04     -3.009      0.003   -2.09e+05   -4.42e+04\n",
              "v13_Poseedor irregular                                                             -6.192e+04   6.24e+04     -0.993      0.321   -1.84e+05    6.03e+04\n",
              "v13_Propia                                                                          1.276e+04   7807.979      1.634      0.102   -2544.405    2.81e+04\n",
              "v13_Usufructo (sólo uso y goce)                                                    -1.073e+05   2.07e+04     -5.189      0.000   -1.48e+05   -6.68e+04\n",
              "v20_Otra fuente. ¿Cuál? Especifique.                                               -1.079e+04   4.52e+04     -0.238      0.812   -9.95e+04    7.79e+04\n",
              "v20_Pozo o noria                                                                     537.1471   3.57e+04      0.015      0.988   -6.95e+04    7.05e+04\n",
              "v20_Red pública                                                                     9308.0915   3.35e+04      0.278      0.781   -5.63e+04    7.49e+04\n",
              "v20_Río, vertiente, lago o estero                                                  -1.172e+04   4.22e+04     -0.278      0.781   -9.45e+04     7.1e+04\n",
              "v22_Con llave dentro del sitio, pero fuera de la vivienda                          -1247.8307   1.93e+04     -0.065      0.948    -3.9e+04    3.65e+04\n",
              "v22_No sabe                                                                         7.269e+05   4.29e+05      1.695      0.090   -1.14e+05    1.57e+06\n",
              "v22_No tiene sistema, la acarrea                                                    1.991e+04   1.23e+05      0.161      0.872   -2.22e+05    2.62e+05\n",
              "v23_sistema_Cajón                                                                  -2.726e+05   3.73e+05     -0.730      0.465      -1e+06    4.59e+05\n",
              "v23_sistema_Letrina sanitaria conectada a pozo negro                               -2.856e+05   3.51e+05     -0.814      0.415   -9.73e+05    4.02e+05\n",
              "v23_sistema_No tiene sistema                                                       -2.316e+05   3.51e+05     -0.660      0.509    -9.2e+05    4.56e+05\n",
              "v23_sistema_W.C. conectado a fosa séptica                                          -2.143e+05    3.5e+05     -0.612      0.541   -9.01e+05    4.72e+05\n",
              "v23_sistema_W.C. conectado al alcantarillado                                       -1.977e+05    3.5e+05     -0.564      0.573   -8.85e+05    4.89e+05\n",
              "v27_1                                                                               6740.6842   7.74e+04      0.087      0.931   -1.45e+05    1.58e+05\n",
              "v27_2                                                                              -4.535e+04   7.71e+04     -0.588      0.556   -1.96e+05    1.06e+05\n",
              "v27_3                                                                              -4021.5543   7.71e+04     -0.052      0.958   -1.55e+05    1.47e+05\n",
              "v27_4                                                                               4.889e+04   7.75e+04      0.631      0.528   -1.03e+05    2.01e+05\n",
              "v27_5                                                                               5.485e+04   7.86e+04      0.698      0.485   -9.91e+04    2.09e+05\n",
              "v27_6+                                                                              -2.42e+04   7.99e+04     -0.303      0.762   -1.81e+05    1.32e+05\n",
              "v27_No sabe                                                                        -5.777e+04   1.31e+05     -0.439      0.660   -3.15e+05       2e+05\n",
              "==============================================================================\n",
              "Omnibus:                    40871.228   Durbin-Watson:                   1.729\n",
              "Prob(Omnibus):                  0.000   Jarque-Bera (JB):         13392862.872\n",
              "Skew:                           4.383   Prob(JB):                         0.00\n",
              "Kurtosis:                      91.745   Cond. No.                     1.04e+08\n",
              "==============================================================================\n",
              "\n",
              "Warnings:\n",
              "[1] Standard Errors assume that the covariance matrix of the errors is correctly specified.\n",
              "[2] The condition number is large, 1.04e+08. This might indicate that there are\n",
              "strong multicollinearity or other numerical problems.\n",
              "\"\"\""
            ]
          },
          "metadata": {},
          "execution_count": 18
        }
      ]
    },
    {
      "cell_type": "code",
      "metadata": {
        "id": "tLsjCGpZWtYr"
      },
      "source": [
        "# tiene un R2 de 0.272\n",
        "\n",
        "# las sigientes variables no son significativos (valor p es mas que 0.05)\n",
        "\n",
        "'region_Región de Antofagasta', \"region_Región de Atacama\", \"region_Región de Coquimbo\", \"region_Región de Valparaíso\", 'area_Rural', \n",
        "'area_Urbano', 'v1_Pieza en casa antigua, en conventillo, en galpón o espacio subdividido', 'v1_Rancho o choza', 'v1_Vivienda precaria de materiales reutilizados (latas, plásticos, cartones, etc.)',\n",
        "'v1_Vivienda tradicional indígena', 'v13_Poseedor irregular', 'v13_Propia', 'v20_Otra fuente. ¿Cuál? Especifique.', 'v20_Pozo o noria',\n",
        "'v20_Red pública', 'v20_Río, vertiente, lago o estero', 'v22_Con llave dentro del sitio, pero fuera de la vivienda', 'v22_No sabe',\n",
        "'v22_No tiene sistema, la acarrea', 'v23_sistema_Cajón', 'v23_sistema_Letrina sanitaria conectada a pozo negro', 'v23_sistema_No tiene sistema',\n",
        "'v23_sistema_W.C. conectado a fosa séptica', 'v23_sistema_W.C. conectado al alcantarillado', 'v27_1',\n",
        "'v27_2', 'v27_3', 'v27_4', 'v27_5', 'v27_6+', 'v27_No sabe'\n",
        "\n",
        "# probare el modelo de nuevo pero sin estas variables"
      ],
      "execution_count": null,
      "outputs": []
    },
    {
      "cell_type": "code",
      "metadata": {
        "colab": {
          "base_uri": "https://localhost:8080/",
          "height": 871
        },
        "id": "oF5GSONb5O1A",
        "outputId": "6bf36df2-561f-4194-eb3d-bfb04d22697b"
      },
      "source": [
        "no_significativos = ['y1', 'region_Región de Antofagasta', \"region_Región de Atacama\", \"region_Región de Coquimbo\", \"region_Región de Valparaíso\", 'area_Rural', \n",
        "'area_Urbano', 'v1_Pieza en casa antigua, en conventillo, en galpón o espacio subdividido', 'v1_Rancho o choza', 'v1_Vivienda precaria de materiales reutilizados (latas, plásticos, cartones, etc.)',\n",
        "'v1_Vivienda tradicional indígena', 'v13_Poseedor irregular', 'v13_Propia', 'v20_Otra fuente. ¿Cuál? Especifique.', 'v20_Pozo o noria',\n",
        "'v20_Red pública', 'v20_Río, vertiente, lago o estero', 'v22_Con llave dentro del sitio, pero fuera de la vivienda', 'v22_No sabe',\n",
        "'v22_No tiene sistema, la acarrea', 'v23_sistema_Cajón', 'v23_sistema_Letrina sanitaria conectada a pozo negro', 'v23_sistema_No tiene sistema',\n",
        "'v23_sistema_W.C. conectado a fosa séptica', 'v23_sistema_W.C. conectado al alcantarillado', 'v27_1',\n",
        "'v27_2', 'v27_3', 'v27_4', 'v27_5', 'v27_6+', 'v27_No sabe']\n",
        "\n",
        "x = data_final.drop(no_significativos, axis = 1)\n",
        "y = data_final['y1']\n",
        "\n",
        "# fi model\n",
        "\n",
        "x = sm.add_constant(x)\n",
        "\n",
        "est_2 = sm.OLS(y, x).fit()\n",
        "\n",
        "est_2.summary() "
      ],
      "execution_count": null,
      "outputs": [
        {
          "output_type": "execute_result",
          "data": {
            "text/html": [
              "<table class=\"simpletable\">\n",
              "<caption>OLS Regression Results</caption>\n",
              "<tr>\n",
              "  <th>Dep. Variable:</th>           <td>y1</td>        <th>  R-squared:         </th>  <td>   0.269</td>  \n",
              "</tr>\n",
              "<tr>\n",
              "  <th>Model:</th>                   <td>OLS</td>       <th>  Adj. R-squared:    </th>  <td>   0.269</td>  \n",
              "</tr>\n",
              "<tr>\n",
              "  <th>Method:</th>             <td>Least Squares</td>  <th>  F-statistic:       </th>  <td>   782.1</td>  \n",
              "</tr>\n",
              "<tr>\n",
              "  <th>Date:</th>             <td>Tue, 14 Sep 2021</td> <th>  Prob (F-statistic):</th>   <td>  0.00</td>   \n",
              "</tr>\n",
              "<tr>\n",
              "  <th>Time:</th>                 <td>03:54:16</td>     <th>  Log-Likelihood:    </th> <td>-5.9553e+05</td>\n",
              "</tr>\n",
              "<tr>\n",
              "  <th>No. Observations:</th>      <td> 40418</td>      <th>  AIC:               </th>  <td>1.191e+06</td> \n",
              "</tr>\n",
              "<tr>\n",
              "  <th>Df Residuals:</th>          <td> 40398</td>      <th>  BIC:               </th>  <td>1.191e+06</td> \n",
              "</tr>\n",
              "<tr>\n",
              "  <th>Df Model:</th>              <td>    19</td>      <th>                     </th>      <td> </td>     \n",
              "</tr>\n",
              "<tr>\n",
              "  <th>Covariance Type:</th>      <td>nonrobust</td>    <th>                     </th>      <td> </td>     \n",
              "</tr>\n",
              "</table>\n",
              "<table class=\"simpletable\">\n",
              "<tr>\n",
              "                              <td></td>                                <th>coef</th>     <th>std err</th>      <th>t</th>      <th>P>|t|</th>  <th>[0.025</th>    <th>0.975]</th>  \n",
              "</tr>\n",
              "<tr>\n",
              "  <th>const</th>                                                    <td> 1.657e+04</td> <td> 1.29e+04</td> <td>    1.282</td> <td> 0.200</td> <td>-8767.602</td> <td> 4.19e+04</td>\n",
              "</tr>\n",
              "<tr>\n",
              "  <th>edad</th>                                                     <td> 3668.8589</td> <td>  235.650</td> <td>   15.569</td> <td> 0.000</td> <td> 3206.979</td> <td> 4130.739</td>\n",
              "</tr>\n",
              "<tr>\n",
              "  <th>v19</th>                                                      <td>    1.6870</td> <td>    0.016</td> <td>  105.086</td> <td> 0.000</td> <td>    1.656</td> <td>    1.719</td>\n",
              "</tr>\n",
              "<tr>\n",
              "  <th>region_Región de Arica y Parinacota</th>                      <td>-7.525e+04</td> <td> 1.67e+04</td> <td>   -4.497</td> <td> 0.000</td> <td>-1.08e+05</td> <td>-4.25e+04</td>\n",
              "</tr>\n",
              "<tr>\n",
              "  <th>region_Región de Aysén del Gral. Carlos Ibáñez del Campo</th> <td> 1.324e+05</td> <td> 1.84e+04</td> <td>    7.187</td> <td> 0.000</td> <td> 9.63e+04</td> <td> 1.68e+05</td>\n",
              "</tr>\n",
              "<tr>\n",
              "  <th>region_Región de La Araucanía</th>                            <td> 3.785e+04</td> <td> 1.44e+04</td> <td>    2.623</td> <td> 0.009</td> <td> 9571.431</td> <td> 6.61e+04</td>\n",
              "</tr>\n",
              "<tr>\n",
              "  <th>region_Región de Los Lagos</th>                               <td> 2.844e+04</td> <td> 1.41e+04</td> <td>    2.019</td> <td> 0.044</td> <td>  828.554</td> <td> 5.61e+04</td>\n",
              "</tr>\n",
              "<tr>\n",
              "  <th>region_Región de Los Ríos</th>                                <td> 3.326e+04</td> <td> 1.63e+04</td> <td>    2.042</td> <td> 0.041</td> <td> 1334.265</td> <td> 6.52e+04</td>\n",
              "</tr>\n",
              "<tr>\n",
              "  <th>region_Región de Magallanes y de la Antártica Chilena</th>    <td>-3.644e+04</td> <td> 1.77e+04</td> <td>   -2.058</td> <td> 0.040</td> <td>-7.11e+04</td> <td>-1731.853</td>\n",
              "</tr>\n",
              "<tr>\n",
              "  <th>region_Región de Tarapacá</th>                                <td>-6.063e+04</td> <td> 1.48e+04</td> <td>   -4.109</td> <td> 0.000</td> <td>-8.96e+04</td> <td>-3.17e+04</td>\n",
              "</tr>\n",
              "<tr>\n",
              "  <th>region_Región de Ñuble</th>                                   <td> 5.291e+04</td> <td> 1.79e+04</td> <td>    2.953</td> <td> 0.003</td> <td> 1.78e+04</td> <td>  8.8e+04</td>\n",
              "</tr>\n",
              "<tr>\n",
              "  <th>region_Región del Biobío</th>                                 <td> 6.301e+04</td> <td> 1.12e+04</td> <td>    5.641</td> <td> 0.000</td> <td> 4.11e+04</td> <td> 8.49e+04</td>\n",
              "</tr>\n",
              "<tr>\n",
              "  <th>region_Región del Libertador Gral. Bernardo O'Higgins</th>    <td> 2.742e+04</td> <td> 1.26e+04</td> <td>    2.185</td> <td> 0.029</td> <td> 2818.556</td> <td>  5.2e+04</td>\n",
              "</tr>\n",
              "<tr>\n",
              "  <th>region_Región del Maule</th>                                  <td> 3.565e+04</td> <td> 1.28e+04</td> <td>    2.778</td> <td> 0.005</td> <td> 1.05e+04</td> <td> 6.08e+04</td>\n",
              "</tr>\n",
              "<tr>\n",
              "  <th>sexo_Mujer</th>                                               <td>-1.383e+05</td> <td> 6060.059</td> <td>  -22.826</td> <td> 0.000</td> <td> -1.5e+05</td> <td>-1.26e+05</td>\n",
              "</tr>\n",
              "<tr>\n",
              "  <th>v1_Departamento</th>                                          <td> 2.183e+05</td> <td> 8712.539</td> <td>   25.051</td> <td> 0.000</td> <td> 2.01e+05</td> <td> 2.35e+05</td>\n",
              "</tr>\n",
              "<tr>\n",
              "  <th>v1_Mediagua, mejora o vivienda de emergencia</th>             <td> -1.21e+05</td> <td> 2.46e+04</td> <td>   -4.928</td> <td> 0.000</td> <td>-1.69e+05</td> <td>-7.29e+04</td>\n",
              "</tr>\n",
              "<tr>\n",
              "  <th>v13_Cedida</th>                                               <td>-9.843e+04</td> <td> 9738.067</td> <td>  -10.107</td> <td> 0.000</td> <td>-1.18e+05</td> <td>-7.93e+04</td>\n",
              "</tr>\n",
              "<tr>\n",
              "  <th>v13_Ocupación irregular (de hecho)</th>                       <td>-1.486e+05</td> <td> 4.11e+04</td> <td>   -3.617</td> <td> 0.000</td> <td>-2.29e+05</td> <td>-6.81e+04</td>\n",
              "</tr>\n",
              "<tr>\n",
              "  <th>v13_Usufructo (sólo uso y goce)</th>                          <td>-1.215e+05</td> <td> 1.99e+04</td> <td>   -6.112</td> <td> 0.000</td> <td>-1.61e+05</td> <td>-8.26e+04</td>\n",
              "</tr>\n",
              "</table>\n",
              "<table class=\"simpletable\">\n",
              "<tr>\n",
              "  <th>Omnibus:</th>       <td>40508.636</td> <th>  Durbin-Watson:     </th>   <td>   1.727</td>  \n",
              "</tr>\n",
              "<tr>\n",
              "  <th>Prob(Omnibus):</th>  <td> 0.000</td>   <th>  Jarque-Bera (JB):  </th> <td>13326203.584</td>\n",
              "</tr>\n",
              "<tr>\n",
              "  <th>Skew:</th>           <td> 4.310</td>   <th>  Prob(JB):          </th>   <td>    0.00</td>  \n",
              "</tr>\n",
              "<tr>\n",
              "  <th>Kurtosis:</th>       <td>91.537</td>   <th>  Cond. No.          </th>   <td>4.99e+06</td>  \n",
              "</tr>\n",
              "</table><br/><br/>Warnings:<br/>[1] Standard Errors assume that the covariance matrix of the errors is correctly specified.<br/>[2] The condition number is large, 4.99e+06. This might indicate that there are<br/>strong multicollinearity or other numerical problems."
            ],
            "text/plain": [
              "<class 'statsmodels.iolib.summary.Summary'>\n",
              "\"\"\"\n",
              "                            OLS Regression Results                            \n",
              "==============================================================================\n",
              "Dep. Variable:                     y1   R-squared:                       0.269\n",
              "Model:                            OLS   Adj. R-squared:                  0.269\n",
              "Method:                 Least Squares   F-statistic:                     782.1\n",
              "Date:                Tue, 14 Sep 2021   Prob (F-statistic):               0.00\n",
              "Time:                        03:54:16   Log-Likelihood:            -5.9553e+05\n",
              "No. Observations:               40418   AIC:                         1.191e+06\n",
              "Df Residuals:                   40398   BIC:                         1.191e+06\n",
              "Df Model:                          19                                         \n",
              "Covariance Type:            nonrobust                                         \n",
              "============================================================================================================================\n",
              "                                                               coef    std err          t      P>|t|      [0.025      0.975]\n",
              "----------------------------------------------------------------------------------------------------------------------------\n",
              "const                                                     1.657e+04   1.29e+04      1.282      0.200   -8767.602    4.19e+04\n",
              "edad                                                      3668.8589    235.650     15.569      0.000    3206.979    4130.739\n",
              "v19                                                          1.6870      0.016    105.086      0.000       1.656       1.719\n",
              "region_Región de Arica y Parinacota                      -7.525e+04   1.67e+04     -4.497      0.000   -1.08e+05   -4.25e+04\n",
              "region_Región de Aysén del Gral. Carlos Ibáñez del Campo  1.324e+05   1.84e+04      7.187      0.000    9.63e+04    1.68e+05\n",
              "region_Región de La Araucanía                             3.785e+04   1.44e+04      2.623      0.009    9571.431    6.61e+04\n",
              "region_Región de Los Lagos                                2.844e+04   1.41e+04      2.019      0.044     828.554    5.61e+04\n",
              "region_Región de Los Ríos                                 3.326e+04   1.63e+04      2.042      0.041    1334.265    6.52e+04\n",
              "region_Región de Magallanes y de la Antártica Chilena    -3.644e+04   1.77e+04     -2.058      0.040   -7.11e+04   -1731.853\n",
              "region_Región de Tarapacá                                -6.063e+04   1.48e+04     -4.109      0.000   -8.96e+04   -3.17e+04\n",
              "region_Región de Ñuble                                    5.291e+04   1.79e+04      2.953      0.003    1.78e+04     8.8e+04\n",
              "region_Región del Biobío                                  6.301e+04   1.12e+04      5.641      0.000    4.11e+04    8.49e+04\n",
              "region_Región del Libertador Gral. Bernardo O'Higgins     2.742e+04   1.26e+04      2.185      0.029    2818.556     5.2e+04\n",
              "region_Región del Maule                                   3.565e+04   1.28e+04      2.778      0.005    1.05e+04    6.08e+04\n",
              "sexo_Mujer                                               -1.383e+05   6060.059    -22.826      0.000    -1.5e+05   -1.26e+05\n",
              "v1_Departamento                                           2.183e+05   8712.539     25.051      0.000    2.01e+05    2.35e+05\n",
              "v1_Mediagua, mejora o vivienda de emergencia              -1.21e+05   2.46e+04     -4.928      0.000   -1.69e+05   -7.29e+04\n",
              "v13_Cedida                                               -9.843e+04   9738.067    -10.107      0.000   -1.18e+05   -7.93e+04\n",
              "v13_Ocupación irregular (de hecho)                       -1.486e+05   4.11e+04     -3.617      0.000   -2.29e+05   -6.81e+04\n",
              "v13_Usufructo (sólo uso y goce)                          -1.215e+05   1.99e+04     -6.112      0.000   -1.61e+05   -8.26e+04\n",
              "==============================================================================\n",
              "Omnibus:                    40508.636   Durbin-Watson:                   1.727\n",
              "Prob(Omnibus):                  0.000   Jarque-Bera (JB):         13326203.584\n",
              "Skew:                           4.310   Prob(JB):                         0.00\n",
              "Kurtosis:                      91.537   Cond. No.                     4.99e+06\n",
              "==============================================================================\n",
              "\n",
              "Warnings:\n",
              "[1] Standard Errors assume that the covariance matrix of the errors is correctly specified.\n",
              "[2] The condition number is large, 4.99e+06. This might indicate that there are\n",
              "strong multicollinearity or other numerical problems.\n",
              "\"\"\""
            ]
          },
          "metadata": {},
          "execution_count": 19
        }
      ]
    },
    {
      "cell_type": "code",
      "metadata": {
        "id": "2z5afwrF6Bym",
        "colab": {
          "base_uri": "https://localhost:8080/"
        },
        "outputId": "ce4e4168-8255-4003-8afc-817c8c0d4936"
      },
      "source": [
        "# Ahora el valor de R2 se mantiene con 0.269, y todas las variables son significativas. \n",
        "\n",
        "# const es $16.572 lo que representa el sueldo (variable dependiente) sin tomar en cuenta ninguna de las variables independientes. \n",
        "\n",
        "# Al analizar los coeficientes se nota que las siguientes variables causan un aumento en sueldo:\n",
        "\n",
        "# edad \n",
        "# v19\n",
        "# Aysén\n",
        "# La Araucanía\n",
        "# Los Lagos  \n",
        "# Los Ríos\n",
        "# Ñuble\n",
        "# Biobío\n",
        "# Libertador Gral. Bernardo O'Higgins\n",
        "# Maule\n",
        "# v1_Departamento \n",
        "\n",
        "# Segun el modelo si alguien vive en Aysen su sueldo aumenta $132.362 \n",
        "\n",
        "# Si alguien vive en un departamento su sueldo aumenta $218.257\n",
        "\n",
        "# Por el otro lado si alguien es mujer su sueldo baja $138.329\n",
        "\n",
        "print(est_2.params)\n"
      ],
      "execution_count": null,
      "outputs": [
        {
          "output_type": "stream",
          "name": "stdout",
          "text": [
            "const                                                        16572.239767\n",
            "edad                                                          3668.858892\n",
            "v19                                                              1.687036\n",
            "region_Región de Arica y Parinacota                         -75250.227536\n",
            "region_Región de Aysén del Gral. Carlos Ibáñez del Campo    132362.003062\n",
            "region_Región de La Araucanía                                37847.431618\n",
            "region_Región de Los Lagos                                   28441.714119\n",
            "region_Región de Los Ríos                                    33264.109000\n",
            "region_Región de Magallanes y de la Antártica Chilena       -36435.728786\n",
            "region_Región de Tarapacá                                   -60631.359062\n",
            "region_Región de Ñuble                                       52913.636316\n",
            "region_Región del Biobío                                     63009.258671\n",
            "region_Región del Libertador Gral. Bernardo O'Higgins        27424.955482\n",
            "region_Región del Maule                                      35646.799755\n",
            "sexo_Mujer                                                 -138329.291224\n",
            "v1_Departamento                                             218257.328138\n",
            "v1_Mediagua, mejora o vivienda de emergencia               -121033.781664\n",
            "v13_Cedida                                                  -98426.502805\n",
            "v13_Ocupación irregular (de hecho)                         -148610.052875\n",
            "v13_Usufructo (sólo uso y goce)                            -121539.955198\n",
            "dtype: float64\n"
          ]
        }
      ]
    },
    {
      "cell_type": "code",
      "metadata": {
        "id": "mTQrdSNP6Br7"
      },
      "source": [
        "# sin embargo, al haber visto anteriormente que varias variables tienen un VIF mayor que 5, se sugiere que hay multicolineardiad que puede impactar\n",
        "# el modelo con los coeficientes susceptibles a cambiar al remover y agregar variables al modelo. \n",
        "\n",
        "# por tanto ahora se ejecutar el modelo de nuevo pero sin las variables que tienen un VIF mayor de 5.\n",
        "\n",
        "# En este caso la variable de edad es la unica que queda en el modelo con un VIF mayor de 5. \n"
      ],
      "execution_count": null,
      "outputs": []
    },
    {
      "cell_type": "code",
      "metadata": {
        "colab": {
          "base_uri": "https://localhost:8080/",
          "height": 457
        },
        "id": "jYPlnD-16Bj4",
        "outputId": "36e37aad-d14c-46ff-a993-cf121c66af17"
      },
      "source": [
        "vif_data[vif_data['VIF'] > 5]\n"
      ],
      "execution_count": null,
      "outputs": [
        {
          "output_type": "execute_result",
          "data": {
            "text/html": [
              "<div>\n",
              "<style scoped>\n",
              "    .dataframe tbody tr th:only-of-type {\n",
              "        vertical-align: middle;\n",
              "    }\n",
              "\n",
              "    .dataframe tbody tr th {\n",
              "        vertical-align: top;\n",
              "    }\n",
              "\n",
              "    .dataframe thead th {\n",
              "        text-align: right;\n",
              "    }\n",
              "</style>\n",
              "<table border=\"1\" class=\"dataframe\">\n",
              "  <thead>\n",
              "    <tr style=\"text-align: right;\">\n",
              "      <th></th>\n",
              "      <th>feature</th>\n",
              "      <th>VIF</th>\n",
              "    </tr>\n",
              "  </thead>\n",
              "  <tbody>\n",
              "    <tr>\n",
              "      <th>0</th>\n",
              "      <td>edad</td>\n",
              "      <td>12.457683</td>\n",
              "    </tr>\n",
              "    <tr>\n",
              "      <th>18</th>\n",
              "      <td>area_Urbano</td>\n",
              "      <td>19.709101</td>\n",
              "    </tr>\n",
              "    <tr>\n",
              "      <th>33</th>\n",
              "      <td>v20_Red pública</td>\n",
              "      <td>115.159352</td>\n",
              "    </tr>\n",
              "    <tr>\n",
              "      <th>39</th>\n",
              "      <td>v23_sistema_Letrina sanitaria conectada a pozo...</td>\n",
              "      <td>16.308617</td>\n",
              "    </tr>\n",
              "    <tr>\n",
              "      <th>40</th>\n",
              "      <td>v23_sistema_No tiene sistema</td>\n",
              "      <td>12.266108</td>\n",
              "    </tr>\n",
              "    <tr>\n",
              "      <th>41</th>\n",
              "      <td>v23_sistema_W.C. conectado a fosa séptica</td>\n",
              "      <td>69.061995</td>\n",
              "    </tr>\n",
              "    <tr>\n",
              "      <th>42</th>\n",
              "      <td>v23_sistema_W.C. conectado al alcantarillado</td>\n",
              "      <td>680.750202</td>\n",
              "    </tr>\n",
              "    <tr>\n",
              "      <th>43</th>\n",
              "      <td>v27_1</td>\n",
              "      <td>39.009590</td>\n",
              "    </tr>\n",
              "    <tr>\n",
              "      <th>44</th>\n",
              "      <td>v27_2</td>\n",
              "      <td>195.101820</td>\n",
              "    </tr>\n",
              "    <tr>\n",
              "      <th>45</th>\n",
              "      <td>v27_3</td>\n",
              "      <td>260.480414</td>\n",
              "    </tr>\n",
              "    <tr>\n",
              "      <th>46</th>\n",
              "      <td>v27_4</td>\n",
              "      <td>92.634345</td>\n",
              "    </tr>\n",
              "    <tr>\n",
              "      <th>47</th>\n",
              "      <td>v27_5</td>\n",
              "      <td>26.192589</td>\n",
              "    </tr>\n",
              "    <tr>\n",
              "      <th>48</th>\n",
              "      <td>v27_6+</td>\n",
              "      <td>13.097269</td>\n",
              "    </tr>\n",
              "  </tbody>\n",
              "</table>\n",
              "</div>"
            ],
            "text/plain": [
              "                                              feature         VIF\n",
              "0                                                edad   12.457683\n",
              "18                                        area_Urbano   19.709101\n",
              "33                                    v20_Red pública  115.159352\n",
              "39  v23_sistema_Letrina sanitaria conectada a pozo...   16.308617\n",
              "40                       v23_sistema_No tiene sistema   12.266108\n",
              "41          v23_sistema_W.C. conectado a fosa séptica   69.061995\n",
              "42       v23_sistema_W.C. conectado al alcantarillado  680.750202\n",
              "43                                              v27_1   39.009590\n",
              "44                                              v27_2  195.101820\n",
              "45                                              v27_3  260.480414\n",
              "46                                              v27_4   92.634345\n",
              "47                                              v27_5   26.192589\n",
              "48                                             v27_6+   13.097269"
            ]
          },
          "metadata": {},
          "execution_count": 34
        }
      ]
    },
    {
      "cell_type": "code",
      "metadata": {
        "colab": {
          "base_uri": "https://localhost:8080/",
          "height": 850
        },
        "id": "sbnIMKsClqEw",
        "outputId": "a52fc152-62f5-4270-bf11-e3548c7e865b"
      },
      "source": [
        "# se ejecuta el modelo de nuevo pero sin la variable independiente de edad. \n",
        "\n",
        "no_significativos_VIF = ['y1', 'edad', 'region_Región de Antofagasta', \"region_Región de Atacama\", \"region_Región de Coquimbo\", \"region_Región de Valparaíso\", 'area_Rural', \n",
        "'area_Urbano', 'v1_Pieza en casa antigua, en conventillo, en galpón o espacio subdividido', 'v1_Rancho o choza', 'v1_Vivienda precaria de materiales reutilizados (latas, plásticos, cartones, etc.)',\n",
        "'v1_Vivienda tradicional indígena', 'v13_Poseedor irregular', 'v13_Propia', 'v20_Otra fuente. ¿Cuál? Especifique.', 'v20_Pozo o noria',\n",
        "'v20_Red pública', 'v20_Río, vertiente, lago o estero', 'v22_Con llave dentro del sitio, pero fuera de la vivienda', 'v22_No sabe',\n",
        "'v22_No tiene sistema, la acarrea', 'v23_sistema_Cajón', 'v23_sistema_Letrina sanitaria conectada a pozo negro', 'v23_sistema_No tiene sistema',\n",
        "'v23_sistema_W.C. conectado a fosa séptica', 'v23_sistema_W.C. conectado al alcantarillado', 'v27_1',\n",
        "'v27_2', 'v27_3', 'v27_4', 'v27_5', 'v27_6+', 'v27_No sabe']\n",
        "\n",
        "x = data_final.drop(no_significativos_VIF, axis = 1)\n",
        "y = data_final['y1']\n",
        "\n",
        "# fi model\n",
        "\n",
        "x = sm.add_constant(x)\n",
        "\n",
        "est_3 = sm.OLS(y, x).fit()\n",
        "\n",
        "est_3.summary() \n",
        "\n"
      ],
      "execution_count": null,
      "outputs": [
        {
          "output_type": "execute_result",
          "data": {
            "text/html": [
              "<table class=\"simpletable\">\n",
              "<caption>OLS Regression Results</caption>\n",
              "<tr>\n",
              "  <th>Dep. Variable:</th>           <td>y1</td>        <th>  R-squared:         </th>  <td>   0.265</td>  \n",
              "</tr>\n",
              "<tr>\n",
              "  <th>Model:</th>                   <td>OLS</td>       <th>  Adj. R-squared:    </th>  <td>   0.264</td>  \n",
              "</tr>\n",
              "<tr>\n",
              "  <th>Method:</th>             <td>Least Squares</td>  <th>  F-statistic:       </th>  <td>   807.2</td>  \n",
              "</tr>\n",
              "<tr>\n",
              "  <th>Date:</th>             <td>Tue, 14 Sep 2021</td> <th>  Prob (F-statistic):</th>   <td>  0.00</td>   \n",
              "</tr>\n",
              "<tr>\n",
              "  <th>Time:</th>                 <td>03:54:33</td>     <th>  Log-Likelihood:    </th> <td>-5.9565e+05</td>\n",
              "</tr>\n",
              "<tr>\n",
              "  <th>No. Observations:</th>      <td> 40418</td>      <th>  AIC:               </th>  <td>1.191e+06</td> \n",
              "</tr>\n",
              "<tr>\n",
              "  <th>Df Residuals:</th>          <td> 40399</td>      <th>  BIC:               </th>  <td>1.192e+06</td> \n",
              "</tr>\n",
              "<tr>\n",
              "  <th>Df Model:</th>              <td>    18</td>      <th>                     </th>      <td> </td>     \n",
              "</tr>\n",
              "<tr>\n",
              "  <th>Covariance Type:</th>      <td>nonrobust</td>    <th>                     </th>      <td> </td>     \n",
              "</tr>\n",
              "</table>\n",
              "<table class=\"simpletable\">\n",
              "<tr>\n",
              "                              <td></td>                                <th>coef</th>     <th>std err</th>      <th>t</th>      <th>P>|t|</th>  <th>[0.025</th>    <th>0.975]</th>  \n",
              "</tr>\n",
              "<tr>\n",
              "  <th>const</th>                                                    <td> 1.736e+05</td> <td> 8111.222</td> <td>   21.404</td> <td> 0.000</td> <td> 1.58e+05</td> <td>  1.9e+05</td>\n",
              "</tr>\n",
              "<tr>\n",
              "  <th>v19</th>                                                      <td>    1.6953</td> <td>    0.016</td> <td>  105.344</td> <td> 0.000</td> <td>    1.664</td> <td>    1.727</td>\n",
              "</tr>\n",
              "<tr>\n",
              "  <th>region_Región de Arica y Parinacota</th>                      <td>-7.654e+04</td> <td> 1.68e+04</td> <td>   -4.561</td> <td> 0.000</td> <td>-1.09e+05</td> <td>-4.37e+04</td>\n",
              "</tr>\n",
              "<tr>\n",
              "  <th>region_Región de Aysén del Gral. Carlos Ibáñez del Campo</th> <td> 1.303e+05</td> <td> 1.85e+04</td> <td>    7.056</td> <td> 0.000</td> <td> 9.41e+04</td> <td> 1.67e+05</td>\n",
              "</tr>\n",
              "<tr>\n",
              "  <th>region_Región de La Araucanía</th>                            <td> 3.568e+04</td> <td> 1.45e+04</td> <td>    2.466</td> <td> 0.014</td> <td> 7318.668</td> <td>  6.4e+04</td>\n",
              "</tr>\n",
              "<tr>\n",
              "  <th>region_Región de Los Lagos</th>                               <td> 2.834e+04</td> <td> 1.41e+04</td> <td>    2.006</td> <td> 0.045</td> <td>  643.040</td> <td>  5.6e+04</td>\n",
              "</tr>\n",
              "<tr>\n",
              "  <th>region_Región de Los Ríos</th>                                <td> 3.564e+04</td> <td> 1.63e+04</td> <td>    2.181</td> <td> 0.029</td> <td> 3617.658</td> <td> 6.77e+04</td>\n",
              "</tr>\n",
              "<tr>\n",
              "  <th>region_Región de Magallanes y de la Antártica Chilena</th>    <td>-3.677e+04</td> <td> 1.78e+04</td> <td>   -2.071</td> <td> 0.038</td> <td>-7.16e+04</td> <td>-1962.056</td>\n",
              "</tr>\n",
              "<tr>\n",
              "  <th>region_Región de Tarapacá</th>                                <td> -6.54e+04</td> <td> 1.48e+04</td> <td>   -4.420</td> <td> 0.000</td> <td>-9.44e+04</td> <td>-3.64e+04</td>\n",
              "</tr>\n",
              "<tr>\n",
              "  <th>region_Región de Ñuble</th>                                   <td> 5.339e+04</td> <td>  1.8e+04</td> <td>    2.971</td> <td> 0.003</td> <td> 1.82e+04</td> <td> 8.86e+04</td>\n",
              "</tr>\n",
              "<tr>\n",
              "  <th>region_Región del Biobío</th>                                 <td> 6.705e+04</td> <td> 1.12e+04</td> <td>    5.986</td> <td> 0.000</td> <td> 4.51e+04</td> <td>  8.9e+04</td>\n",
              "</tr>\n",
              "<tr>\n",
              "  <th>region_Región del Libertador Gral. Bernardo O'Higgins</th>    <td> 2.804e+04</td> <td> 1.26e+04</td> <td>    2.227</td> <td> 0.026</td> <td> 3357.974</td> <td> 5.27e+04</td>\n",
              "</tr>\n",
              "<tr>\n",
              "  <th>region_Región del Maule</th>                                  <td> 3.837e+04</td> <td> 1.29e+04</td> <td>    2.982</td> <td> 0.003</td> <td> 1.31e+04</td> <td> 6.36e+04</td>\n",
              "</tr>\n",
              "<tr>\n",
              "  <th>sexo_Mujer</th>                                               <td>-1.427e+05</td> <td> 6071.675</td> <td>  -23.499</td> <td> 0.000</td> <td>-1.55e+05</td> <td>-1.31e+05</td>\n",
              "</tr>\n",
              "<tr>\n",
              "  <th>v1_Departamento</th>                                          <td> 2.064e+05</td> <td> 8705.024</td> <td>   23.709</td> <td> 0.000</td> <td> 1.89e+05</td> <td> 2.23e+05</td>\n",
              "</tr>\n",
              "<tr>\n",
              "  <th>v1_Mediagua, mejora o vivienda de emergencia</th>             <td>-1.206e+05</td> <td> 2.46e+04</td> <td>   -4.897</td> <td> 0.000</td> <td>-1.69e+05</td> <td>-7.23e+04</td>\n",
              "</tr>\n",
              "<tr>\n",
              "  <th>v13_Cedida</th>                                               <td> -1.01e+05</td> <td> 9765.740</td> <td>  -10.339</td> <td> 0.000</td> <td> -1.2e+05</td> <td>-8.18e+04</td>\n",
              "</tr>\n",
              "<tr>\n",
              "  <th>v13_Ocupación irregular (de hecho)</th>                       <td>-1.613e+05</td> <td> 4.12e+04</td> <td>   -3.916</td> <td> 0.000</td> <td>-2.42e+05</td> <td>-8.06e+04</td>\n",
              "</tr>\n",
              "<tr>\n",
              "  <th>v13_Usufructo (sólo uso y goce)</th>                          <td>-1.214e+05</td> <td> 1.99e+04</td> <td>   -6.086</td> <td> 0.000</td> <td> -1.6e+05</td> <td>-8.23e+04</td>\n",
              "</tr>\n",
              "</table>\n",
              "<table class=\"simpletable\">\n",
              "<tr>\n",
              "  <th>Omnibus:</th>       <td>40546.274</td> <th>  Durbin-Watson:     </th>   <td>   1.726</td>  \n",
              "</tr>\n",
              "<tr>\n",
              "  <th>Prob(Omnibus):</th>  <td> 0.000</td>   <th>  Jarque-Bera (JB):  </th> <td>13360865.768</td>\n",
              "</tr>\n",
              "<tr>\n",
              "  <th>Skew:</th>           <td> 4.317</td>   <th>  Prob(JB):          </th>   <td>    0.00</td>  \n",
              "</tr>\n",
              "<tr>\n",
              "  <th>Kurtosis:</th>       <td>91.651</td>   <th>  Cond. No.          </th>   <td>4.99e+06</td>  \n",
              "</tr>\n",
              "</table><br/><br/>Warnings:<br/>[1] Standard Errors assume that the covariance matrix of the errors is correctly specified.<br/>[2] The condition number is large, 4.99e+06. This might indicate that there are<br/>strong multicollinearity or other numerical problems."
            ],
            "text/plain": [
              "<class 'statsmodels.iolib.summary.Summary'>\n",
              "\"\"\"\n",
              "                            OLS Regression Results                            \n",
              "==============================================================================\n",
              "Dep. Variable:                     y1   R-squared:                       0.265\n",
              "Model:                            OLS   Adj. R-squared:                  0.264\n",
              "Method:                 Least Squares   F-statistic:                     807.2\n",
              "Date:                Tue, 14 Sep 2021   Prob (F-statistic):               0.00\n",
              "Time:                        03:54:33   Log-Likelihood:            -5.9565e+05\n",
              "No. Observations:               40418   AIC:                         1.191e+06\n",
              "Df Residuals:                   40399   BIC:                         1.192e+06\n",
              "Df Model:                          18                                         \n",
              "Covariance Type:            nonrobust                                         \n",
              "============================================================================================================================\n",
              "                                                               coef    std err          t      P>|t|      [0.025      0.975]\n",
              "----------------------------------------------------------------------------------------------------------------------------\n",
              "const                                                     1.736e+05   8111.222     21.404      0.000    1.58e+05     1.9e+05\n",
              "v19                                                          1.6953      0.016    105.344      0.000       1.664       1.727\n",
              "region_Región de Arica y Parinacota                      -7.654e+04   1.68e+04     -4.561      0.000   -1.09e+05   -4.37e+04\n",
              "region_Región de Aysén del Gral. Carlos Ibáñez del Campo  1.303e+05   1.85e+04      7.056      0.000    9.41e+04    1.67e+05\n",
              "region_Región de La Araucanía                             3.568e+04   1.45e+04      2.466      0.014    7318.668     6.4e+04\n",
              "region_Región de Los Lagos                                2.834e+04   1.41e+04      2.006      0.045     643.040     5.6e+04\n",
              "region_Región de Los Ríos                                 3.564e+04   1.63e+04      2.181      0.029    3617.658    6.77e+04\n",
              "region_Región de Magallanes y de la Antártica Chilena    -3.677e+04   1.78e+04     -2.071      0.038   -7.16e+04   -1962.056\n",
              "region_Región de Tarapacá                                 -6.54e+04   1.48e+04     -4.420      0.000   -9.44e+04   -3.64e+04\n",
              "region_Región de Ñuble                                    5.339e+04    1.8e+04      2.971      0.003    1.82e+04    8.86e+04\n",
              "region_Región del Biobío                                  6.705e+04   1.12e+04      5.986      0.000    4.51e+04     8.9e+04\n",
              "region_Región del Libertador Gral. Bernardo O'Higgins     2.804e+04   1.26e+04      2.227      0.026    3357.974    5.27e+04\n",
              "region_Región del Maule                                   3.837e+04   1.29e+04      2.982      0.003    1.31e+04    6.36e+04\n",
              "sexo_Mujer                                               -1.427e+05   6071.675    -23.499      0.000   -1.55e+05   -1.31e+05\n",
              "v1_Departamento                                           2.064e+05   8705.024     23.709      0.000    1.89e+05    2.23e+05\n",
              "v1_Mediagua, mejora o vivienda de emergencia             -1.206e+05   2.46e+04     -4.897      0.000   -1.69e+05   -7.23e+04\n",
              "v13_Cedida                                                -1.01e+05   9765.740    -10.339      0.000    -1.2e+05   -8.18e+04\n",
              "v13_Ocupación irregular (de hecho)                       -1.613e+05   4.12e+04     -3.916      0.000   -2.42e+05   -8.06e+04\n",
              "v13_Usufructo (sólo uso y goce)                          -1.214e+05   1.99e+04     -6.086      0.000    -1.6e+05   -8.23e+04\n",
              "==============================================================================\n",
              "Omnibus:                    40546.274   Durbin-Watson:                   1.726\n",
              "Prob(Omnibus):                  0.000   Jarque-Bera (JB):         13360865.768\n",
              "Skew:                           4.317   Prob(JB):                         0.00\n",
              "Kurtosis:                      91.651   Cond. No.                     4.99e+06\n",
              "==============================================================================\n",
              "\n",
              "Warnings:\n",
              "[1] Standard Errors assume that the covariance matrix of the errors is correctly specified.\n",
              "[2] The condition number is large, 4.99e+06. This might indicate that there are\n",
              "strong multicollinearity or other numerical problems.\n",
              "\"\"\""
            ]
          },
          "metadata": {},
          "execution_count": 21
        }
      ]
    },
    {
      "cell_type": "code",
      "metadata": {
        "id": "XZdNJMEIBGIG"
      },
      "source": [
        "# Al comparar los coeficientes en los modelos est_2 y est_3 parece que incluir la variable edad con su multicolinearidad \n",
        "# no impacta mucho los coeficientes con valores muy parecidos para las variables en ambos modelos. Por tanto se usara el modelo est_2 como \n",
        "# modelo final ya que su R2 es un poco mas alto. "
      ],
      "execution_count": null,
      "outputs": []
    },
    {
      "cell_type": "markdown",
      "metadata": {
        "id": "IjFlXOJ2eK9o"
      },
      "source": [
        "## Modelo de Regresión Lineal Múltiple utilizando la librería Scikit-learn de Python (con las mismas variables anteriormente utilizadas)"
      ]
    },
    {
      "cell_type": "markdown",
      "metadata": {
        "id": "QWbOMKDqBoTt"
      },
      "source": [
        "Modelo de Regresión Lineal Múltiple utilizando la librería Scikit-learn de Python (con las mismas variables anteriormente utilizadas)\n",
        "\n",
        "*   Dividir la base de datos en “Entrenamiento” y “Test”\n",
        "*   Comparar 30 predicciones con su valor real y mostrarlos en una tabla\n",
        "*   Interpretar el modelo de Regresión Lineal con sus respectivos coeficientes"
      ]
    },
    {
      "cell_type": "code",
      "metadata": {
        "colab": {
          "base_uri": "https://localhost:8080/",
          "height": 583
        },
        "id": "JHUyvaNVBGBi",
        "outputId": "c172406b-4c66-4f52-d0e0-64fee784a1c1"
      },
      "source": [
        "data_final"
      ],
      "execution_count": null,
      "outputs": [
        {
          "output_type": "execute_result",
          "data": {
            "text/html": [
              "<div>\n",
              "<style scoped>\n",
              "    .dataframe tbody tr th:only-of-type {\n",
              "        vertical-align: middle;\n",
              "    }\n",
              "\n",
              "    .dataframe tbody tr th {\n",
              "        vertical-align: top;\n",
              "    }\n",
              "\n",
              "    .dataframe thead th {\n",
              "        text-align: right;\n",
              "    }\n",
              "</style>\n",
              "<table border=\"1\" class=\"dataframe\">\n",
              "  <thead>\n",
              "    <tr style=\"text-align: right;\">\n",
              "      <th></th>\n",
              "      <th>y1</th>\n",
              "      <th>edad</th>\n",
              "      <th>v19</th>\n",
              "      <th>region_Región de Antofagasta</th>\n",
              "      <th>region_Región de Arica y Parinacota</th>\n",
              "      <th>region_Región de Atacama</th>\n",
              "      <th>region_Región de Aysén del Gral. Carlos Ibáñez del Campo</th>\n",
              "      <th>region_Región de Coquimbo</th>\n",
              "      <th>region_Región de La Araucanía</th>\n",
              "      <th>region_Región de Los Lagos</th>\n",
              "      <th>region_Región de Los Ríos</th>\n",
              "      <th>region_Región de Magallanes y de la Antártica Chilena</th>\n",
              "      <th>region_Región de Tarapacá</th>\n",
              "      <th>region_Región de Valparaíso</th>\n",
              "      <th>region_Región de Ñuble</th>\n",
              "      <th>region_Región del Biobío</th>\n",
              "      <th>region_Región del Libertador Gral. Bernardo O'Higgins</th>\n",
              "      <th>region_Región del Maule</th>\n",
              "      <th>area_Rural</th>\n",
              "      <th>area_Urbano</th>\n",
              "      <th>sexo_Mujer</th>\n",
              "      <th>v1_Departamento</th>\n",
              "      <th>v1_Mediagua, mejora o vivienda de emergencia</th>\n",
              "      <th>v1_Pieza en casa antigua, en conventillo, en galpón o espacio subdividido</th>\n",
              "      <th>v1_Rancho o choza</th>\n",
              "      <th>v1_Vivienda precaria de materiales reutilizados (latas, plásticos, cartones, etc.)</th>\n",
              "      <th>v1_Vivienda tradicional indígena</th>\n",
              "      <th>v13_Cedida</th>\n",
              "      <th>v13_Ocupación irregular (de hecho)</th>\n",
              "      <th>v13_Poseedor irregular</th>\n",
              "      <th>v13_Propia</th>\n",
              "      <th>v13_Usufructo (sólo uso y goce)</th>\n",
              "      <th>v20_Otra fuente. ¿Cuál? Especifique.</th>\n",
              "      <th>v20_Pozo o noria</th>\n",
              "      <th>v20_Red pública</th>\n",
              "      <th>v20_Río, vertiente, lago o estero</th>\n",
              "      <th>v22_Con llave dentro del sitio, pero fuera de la vivienda</th>\n",
              "      <th>v22_No sabe</th>\n",
              "      <th>v22_No tiene sistema, la acarrea</th>\n",
              "      <th>v23_sistema_Cajón</th>\n",
              "      <th>v23_sistema_Letrina sanitaria conectada a pozo negro</th>\n",
              "      <th>v23_sistema_No tiene sistema</th>\n",
              "      <th>v23_sistema_W.C. conectado a fosa séptica</th>\n",
              "      <th>v23_sistema_W.C. conectado al alcantarillado</th>\n",
              "      <th>v27_1</th>\n",
              "      <th>v27_2</th>\n",
              "      <th>v27_3</th>\n",
              "      <th>v27_4</th>\n",
              "      <th>v27_5</th>\n",
              "      <th>v27_6+</th>\n",
              "      <th>v27_No sabe</th>\n",
              "    </tr>\n",
              "  </thead>\n",
              "  <tbody>\n",
              "    <tr>\n",
              "      <th>3</th>\n",
              "      <td>372000</td>\n",
              "      <td>45</td>\n",
              "      <td>210000</td>\n",
              "      <td>0</td>\n",
              "      <td>0</td>\n",
              "      <td>0</td>\n",
              "      <td>0</td>\n",
              "      <td>0</td>\n",
              "      <td>0</td>\n",
              "      <td>0</td>\n",
              "      <td>0</td>\n",
              "      <td>0</td>\n",
              "      <td>1</td>\n",
              "      <td>0</td>\n",
              "      <td>0</td>\n",
              "      <td>0</td>\n",
              "      <td>0</td>\n",
              "      <td>0</td>\n",
              "      <td>0</td>\n",
              "      <td>1</td>\n",
              "      <td>0</td>\n",
              "      <td>1</td>\n",
              "      <td>0</td>\n",
              "      <td>0</td>\n",
              "      <td>0</td>\n",
              "      <td>0</td>\n",
              "      <td>0</td>\n",
              "      <td>0</td>\n",
              "      <td>0</td>\n",
              "      <td>0</td>\n",
              "      <td>0</td>\n",
              "      <td>0</td>\n",
              "      <td>0</td>\n",
              "      <td>0</td>\n",
              "      <td>1</td>\n",
              "      <td>0</td>\n",
              "      <td>0</td>\n",
              "      <td>0</td>\n",
              "      <td>0</td>\n",
              "      <td>0</td>\n",
              "      <td>0</td>\n",
              "      <td>0</td>\n",
              "      <td>0</td>\n",
              "      <td>1</td>\n",
              "      <td>1</td>\n",
              "      <td>0</td>\n",
              "      <td>0</td>\n",
              "      <td>0</td>\n",
              "      <td>0</td>\n",
              "      <td>0</td>\n",
              "      <td>0</td>\n",
              "    </tr>\n",
              "    <tr>\n",
              "      <th>5</th>\n",
              "      <td>3000000</td>\n",
              "      <td>57</td>\n",
              "      <td>383192</td>\n",
              "      <td>0</td>\n",
              "      <td>0</td>\n",
              "      <td>0</td>\n",
              "      <td>0</td>\n",
              "      <td>0</td>\n",
              "      <td>0</td>\n",
              "      <td>0</td>\n",
              "      <td>0</td>\n",
              "      <td>0</td>\n",
              "      <td>1</td>\n",
              "      <td>0</td>\n",
              "      <td>0</td>\n",
              "      <td>0</td>\n",
              "      <td>0</td>\n",
              "      <td>0</td>\n",
              "      <td>0</td>\n",
              "      <td>1</td>\n",
              "      <td>0</td>\n",
              "      <td>0</td>\n",
              "      <td>0</td>\n",
              "      <td>0</td>\n",
              "      <td>0</td>\n",
              "      <td>0</td>\n",
              "      <td>0</td>\n",
              "      <td>0</td>\n",
              "      <td>0</td>\n",
              "      <td>0</td>\n",
              "      <td>1</td>\n",
              "      <td>0</td>\n",
              "      <td>0</td>\n",
              "      <td>0</td>\n",
              "      <td>1</td>\n",
              "      <td>0</td>\n",
              "      <td>0</td>\n",
              "      <td>0</td>\n",
              "      <td>0</td>\n",
              "      <td>0</td>\n",
              "      <td>0</td>\n",
              "      <td>0</td>\n",
              "      <td>0</td>\n",
              "      <td>1</td>\n",
              "      <td>0</td>\n",
              "      <td>0</td>\n",
              "      <td>0</td>\n",
              "      <td>1</td>\n",
              "      <td>0</td>\n",
              "      <td>0</td>\n",
              "      <td>0</td>\n",
              "    </tr>\n",
              "    <tr>\n",
              "      <th>11</th>\n",
              "      <td>320000</td>\n",
              "      <td>54</td>\n",
              "      <td>400000</td>\n",
              "      <td>0</td>\n",
              "      <td>0</td>\n",
              "      <td>0</td>\n",
              "      <td>0</td>\n",
              "      <td>0</td>\n",
              "      <td>0</td>\n",
              "      <td>0</td>\n",
              "      <td>0</td>\n",
              "      <td>0</td>\n",
              "      <td>1</td>\n",
              "      <td>0</td>\n",
              "      <td>0</td>\n",
              "      <td>0</td>\n",
              "      <td>0</td>\n",
              "      <td>0</td>\n",
              "      <td>0</td>\n",
              "      <td>1</td>\n",
              "      <td>1</td>\n",
              "      <td>0</td>\n",
              "      <td>0</td>\n",
              "      <td>0</td>\n",
              "      <td>0</td>\n",
              "      <td>0</td>\n",
              "      <td>0</td>\n",
              "      <td>0</td>\n",
              "      <td>0</td>\n",
              "      <td>0</td>\n",
              "      <td>0</td>\n",
              "      <td>0</td>\n",
              "      <td>0</td>\n",
              "      <td>0</td>\n",
              "      <td>1</td>\n",
              "      <td>0</td>\n",
              "      <td>0</td>\n",
              "      <td>0</td>\n",
              "      <td>0</td>\n",
              "      <td>0</td>\n",
              "      <td>0</td>\n",
              "      <td>0</td>\n",
              "      <td>0</td>\n",
              "      <td>1</td>\n",
              "      <td>0</td>\n",
              "      <td>1</td>\n",
              "      <td>0</td>\n",
              "      <td>0</td>\n",
              "      <td>0</td>\n",
              "      <td>0</td>\n",
              "      <td>0</td>\n",
              "    </tr>\n",
              "    <tr>\n",
              "      <th>13</th>\n",
              "      <td>460000</td>\n",
              "      <td>57</td>\n",
              "      <td>400000</td>\n",
              "      <td>0</td>\n",
              "      <td>0</td>\n",
              "      <td>0</td>\n",
              "      <td>0</td>\n",
              "      <td>0</td>\n",
              "      <td>0</td>\n",
              "      <td>0</td>\n",
              "      <td>0</td>\n",
              "      <td>0</td>\n",
              "      <td>1</td>\n",
              "      <td>0</td>\n",
              "      <td>0</td>\n",
              "      <td>0</td>\n",
              "      <td>0</td>\n",
              "      <td>0</td>\n",
              "      <td>0</td>\n",
              "      <td>1</td>\n",
              "      <td>0</td>\n",
              "      <td>0</td>\n",
              "      <td>0</td>\n",
              "      <td>0</td>\n",
              "      <td>0</td>\n",
              "      <td>0</td>\n",
              "      <td>0</td>\n",
              "      <td>0</td>\n",
              "      <td>0</td>\n",
              "      <td>0</td>\n",
              "      <td>0</td>\n",
              "      <td>0</td>\n",
              "      <td>0</td>\n",
              "      <td>0</td>\n",
              "      <td>1</td>\n",
              "      <td>0</td>\n",
              "      <td>0</td>\n",
              "      <td>0</td>\n",
              "      <td>0</td>\n",
              "      <td>0</td>\n",
              "      <td>0</td>\n",
              "      <td>0</td>\n",
              "      <td>0</td>\n",
              "      <td>1</td>\n",
              "      <td>0</td>\n",
              "      <td>1</td>\n",
              "      <td>0</td>\n",
              "      <td>0</td>\n",
              "      <td>0</td>\n",
              "      <td>0</td>\n",
              "      <td>0</td>\n",
              "    </tr>\n",
              "    <tr>\n",
              "      <th>15</th>\n",
              "      <td>240000</td>\n",
              "      <td>31</td>\n",
              "      <td>383192</td>\n",
              "      <td>0</td>\n",
              "      <td>0</td>\n",
              "      <td>0</td>\n",
              "      <td>0</td>\n",
              "      <td>0</td>\n",
              "      <td>0</td>\n",
              "      <td>0</td>\n",
              "      <td>0</td>\n",
              "      <td>0</td>\n",
              "      <td>1</td>\n",
              "      <td>0</td>\n",
              "      <td>0</td>\n",
              "      <td>0</td>\n",
              "      <td>0</td>\n",
              "      <td>0</td>\n",
              "      <td>0</td>\n",
              "      <td>1</td>\n",
              "      <td>1</td>\n",
              "      <td>0</td>\n",
              "      <td>0</td>\n",
              "      <td>0</td>\n",
              "      <td>0</td>\n",
              "      <td>0</td>\n",
              "      <td>0</td>\n",
              "      <td>0</td>\n",
              "      <td>0</td>\n",
              "      <td>0</td>\n",
              "      <td>1</td>\n",
              "      <td>0</td>\n",
              "      <td>0</td>\n",
              "      <td>0</td>\n",
              "      <td>1</td>\n",
              "      <td>0</td>\n",
              "      <td>0</td>\n",
              "      <td>0</td>\n",
              "      <td>0</td>\n",
              "      <td>0</td>\n",
              "      <td>0</td>\n",
              "      <td>0</td>\n",
              "      <td>0</td>\n",
              "      <td>1</td>\n",
              "      <td>0</td>\n",
              "      <td>0</td>\n",
              "      <td>1</td>\n",
              "      <td>0</td>\n",
              "      <td>0</td>\n",
              "      <td>0</td>\n",
              "      <td>0</td>\n",
              "    </tr>\n",
              "    <tr>\n",
              "      <th>...</th>\n",
              "      <td>...</td>\n",
              "      <td>...</td>\n",
              "      <td>...</td>\n",
              "      <td>...</td>\n",
              "      <td>...</td>\n",
              "      <td>...</td>\n",
              "      <td>...</td>\n",
              "      <td>...</td>\n",
              "      <td>...</td>\n",
              "      <td>...</td>\n",
              "      <td>...</td>\n",
              "      <td>...</td>\n",
              "      <td>...</td>\n",
              "      <td>...</td>\n",
              "      <td>...</td>\n",
              "      <td>...</td>\n",
              "      <td>...</td>\n",
              "      <td>...</td>\n",
              "      <td>...</td>\n",
              "      <td>...</td>\n",
              "      <td>...</td>\n",
              "      <td>...</td>\n",
              "      <td>...</td>\n",
              "      <td>...</td>\n",
              "      <td>...</td>\n",
              "      <td>...</td>\n",
              "      <td>...</td>\n",
              "      <td>...</td>\n",
              "      <td>...</td>\n",
              "      <td>...</td>\n",
              "      <td>...</td>\n",
              "      <td>...</td>\n",
              "      <td>...</td>\n",
              "      <td>...</td>\n",
              "      <td>...</td>\n",
              "      <td>...</td>\n",
              "      <td>...</td>\n",
              "      <td>...</td>\n",
              "      <td>...</td>\n",
              "      <td>...</td>\n",
              "      <td>...</td>\n",
              "      <td>...</td>\n",
              "      <td>...</td>\n",
              "      <td>...</td>\n",
              "      <td>...</td>\n",
              "      <td>...</td>\n",
              "      <td>...</td>\n",
              "      <td>...</td>\n",
              "      <td>...</td>\n",
              "      <td>...</td>\n",
              "      <td>...</td>\n",
              "    </tr>\n",
              "    <tr>\n",
              "      <th>185361</th>\n",
              "      <td>420000</td>\n",
              "      <td>32</td>\n",
              "      <td>150000</td>\n",
              "      <td>0</td>\n",
              "      <td>0</td>\n",
              "      <td>0</td>\n",
              "      <td>0</td>\n",
              "      <td>0</td>\n",
              "      <td>0</td>\n",
              "      <td>0</td>\n",
              "      <td>0</td>\n",
              "      <td>0</td>\n",
              "      <td>0</td>\n",
              "      <td>0</td>\n",
              "      <td>1</td>\n",
              "      <td>0</td>\n",
              "      <td>0</td>\n",
              "      <td>0</td>\n",
              "      <td>1</td>\n",
              "      <td>0</td>\n",
              "      <td>0</td>\n",
              "      <td>0</td>\n",
              "      <td>0</td>\n",
              "      <td>0</td>\n",
              "      <td>0</td>\n",
              "      <td>0</td>\n",
              "      <td>0</td>\n",
              "      <td>0</td>\n",
              "      <td>0</td>\n",
              "      <td>0</td>\n",
              "      <td>1</td>\n",
              "      <td>0</td>\n",
              "      <td>0</td>\n",
              "      <td>1</td>\n",
              "      <td>0</td>\n",
              "      <td>0</td>\n",
              "      <td>0</td>\n",
              "      <td>0</td>\n",
              "      <td>0</td>\n",
              "      <td>0</td>\n",
              "      <td>0</td>\n",
              "      <td>0</td>\n",
              "      <td>1</td>\n",
              "      <td>0</td>\n",
              "      <td>0</td>\n",
              "      <td>0</td>\n",
              "      <td>0</td>\n",
              "      <td>1</td>\n",
              "      <td>0</td>\n",
              "      <td>0</td>\n",
              "      <td>0</td>\n",
              "    </tr>\n",
              "    <tr>\n",
              "      <th>185380</th>\n",
              "      <td>750000</td>\n",
              "      <td>42</td>\n",
              "      <td>172307</td>\n",
              "      <td>0</td>\n",
              "      <td>0</td>\n",
              "      <td>0</td>\n",
              "      <td>0</td>\n",
              "      <td>0</td>\n",
              "      <td>0</td>\n",
              "      <td>0</td>\n",
              "      <td>0</td>\n",
              "      <td>0</td>\n",
              "      <td>0</td>\n",
              "      <td>0</td>\n",
              "      <td>1</td>\n",
              "      <td>0</td>\n",
              "      <td>0</td>\n",
              "      <td>0</td>\n",
              "      <td>1</td>\n",
              "      <td>0</td>\n",
              "      <td>0</td>\n",
              "      <td>0</td>\n",
              "      <td>0</td>\n",
              "      <td>0</td>\n",
              "      <td>0</td>\n",
              "      <td>0</td>\n",
              "      <td>0</td>\n",
              "      <td>0</td>\n",
              "      <td>0</td>\n",
              "      <td>0</td>\n",
              "      <td>1</td>\n",
              "      <td>0</td>\n",
              "      <td>0</td>\n",
              "      <td>0</td>\n",
              "      <td>0</td>\n",
              "      <td>0</td>\n",
              "      <td>0</td>\n",
              "      <td>0</td>\n",
              "      <td>0</td>\n",
              "      <td>0</td>\n",
              "      <td>0</td>\n",
              "      <td>0</td>\n",
              "      <td>1</td>\n",
              "      <td>0</td>\n",
              "      <td>0</td>\n",
              "      <td>0</td>\n",
              "      <td>1</td>\n",
              "      <td>0</td>\n",
              "      <td>0</td>\n",
              "      <td>0</td>\n",
              "      <td>0</td>\n",
              "    </tr>\n",
              "    <tr>\n",
              "      <th>185385</th>\n",
              "      <td>350000</td>\n",
              "      <td>42</td>\n",
              "      <td>150000</td>\n",
              "      <td>0</td>\n",
              "      <td>0</td>\n",
              "      <td>0</td>\n",
              "      <td>0</td>\n",
              "      <td>0</td>\n",
              "      <td>0</td>\n",
              "      <td>0</td>\n",
              "      <td>0</td>\n",
              "      <td>0</td>\n",
              "      <td>0</td>\n",
              "      <td>0</td>\n",
              "      <td>1</td>\n",
              "      <td>0</td>\n",
              "      <td>0</td>\n",
              "      <td>0</td>\n",
              "      <td>1</td>\n",
              "      <td>0</td>\n",
              "      <td>0</td>\n",
              "      <td>0</td>\n",
              "      <td>0</td>\n",
              "      <td>0</td>\n",
              "      <td>0</td>\n",
              "      <td>0</td>\n",
              "      <td>0</td>\n",
              "      <td>0</td>\n",
              "      <td>0</td>\n",
              "      <td>0</td>\n",
              "      <td>1</td>\n",
              "      <td>0</td>\n",
              "      <td>0</td>\n",
              "      <td>0</td>\n",
              "      <td>1</td>\n",
              "      <td>0</td>\n",
              "      <td>0</td>\n",
              "      <td>0</td>\n",
              "      <td>0</td>\n",
              "      <td>0</td>\n",
              "      <td>0</td>\n",
              "      <td>0</td>\n",
              "      <td>0</td>\n",
              "      <td>1</td>\n",
              "      <td>0</td>\n",
              "      <td>0</td>\n",
              "      <td>0</td>\n",
              "      <td>1</td>\n",
              "      <td>0</td>\n",
              "      <td>0</td>\n",
              "      <td>0</td>\n",
              "    </tr>\n",
              "    <tr>\n",
              "      <th>185397</th>\n",
              "      <td>250000</td>\n",
              "      <td>66</td>\n",
              "      <td>200000</td>\n",
              "      <td>0</td>\n",
              "      <td>0</td>\n",
              "      <td>0</td>\n",
              "      <td>0</td>\n",
              "      <td>0</td>\n",
              "      <td>0</td>\n",
              "      <td>0</td>\n",
              "      <td>0</td>\n",
              "      <td>0</td>\n",
              "      <td>0</td>\n",
              "      <td>0</td>\n",
              "      <td>1</td>\n",
              "      <td>0</td>\n",
              "      <td>0</td>\n",
              "      <td>0</td>\n",
              "      <td>1</td>\n",
              "      <td>0</td>\n",
              "      <td>0</td>\n",
              "      <td>0</td>\n",
              "      <td>0</td>\n",
              "      <td>0</td>\n",
              "      <td>0</td>\n",
              "      <td>0</td>\n",
              "      <td>0</td>\n",
              "      <td>0</td>\n",
              "      <td>0</td>\n",
              "      <td>0</td>\n",
              "      <td>0</td>\n",
              "      <td>0</td>\n",
              "      <td>0</td>\n",
              "      <td>1</td>\n",
              "      <td>0</td>\n",
              "      <td>0</td>\n",
              "      <td>0</td>\n",
              "      <td>0</td>\n",
              "      <td>0</td>\n",
              "      <td>0</td>\n",
              "      <td>0</td>\n",
              "      <td>0</td>\n",
              "      <td>1</td>\n",
              "      <td>0</td>\n",
              "      <td>0</td>\n",
              "      <td>0</td>\n",
              "      <td>1</td>\n",
              "      <td>0</td>\n",
              "      <td>0</td>\n",
              "      <td>0</td>\n",
              "      <td>0</td>\n",
              "    </tr>\n",
              "    <tr>\n",
              "      <th>185422</th>\n",
              "      <td>200000</td>\n",
              "      <td>32</td>\n",
              "      <td>172307</td>\n",
              "      <td>0</td>\n",
              "      <td>0</td>\n",
              "      <td>0</td>\n",
              "      <td>0</td>\n",
              "      <td>0</td>\n",
              "      <td>0</td>\n",
              "      <td>0</td>\n",
              "      <td>0</td>\n",
              "      <td>0</td>\n",
              "      <td>0</td>\n",
              "      <td>0</td>\n",
              "      <td>1</td>\n",
              "      <td>0</td>\n",
              "      <td>0</td>\n",
              "      <td>0</td>\n",
              "      <td>1</td>\n",
              "      <td>0</td>\n",
              "      <td>0</td>\n",
              "      <td>0</td>\n",
              "      <td>0</td>\n",
              "      <td>0</td>\n",
              "      <td>0</td>\n",
              "      <td>0</td>\n",
              "      <td>0</td>\n",
              "      <td>1</td>\n",
              "      <td>0</td>\n",
              "      <td>0</td>\n",
              "      <td>0</td>\n",
              "      <td>0</td>\n",
              "      <td>0</td>\n",
              "      <td>0</td>\n",
              "      <td>0</td>\n",
              "      <td>0</td>\n",
              "      <td>0</td>\n",
              "      <td>0</td>\n",
              "      <td>0</td>\n",
              "      <td>0</td>\n",
              "      <td>1</td>\n",
              "      <td>0</td>\n",
              "      <td>0</td>\n",
              "      <td>0</td>\n",
              "      <td>0</td>\n",
              "      <td>1</td>\n",
              "      <td>0</td>\n",
              "      <td>0</td>\n",
              "      <td>0</td>\n",
              "      <td>0</td>\n",
              "      <td>0</td>\n",
              "    </tr>\n",
              "  </tbody>\n",
              "</table>\n",
              "<p>40418 rows × 51 columns</p>\n",
              "</div>"
            ],
            "text/plain": [
              "             y1  edad     v19  ...  v27_5  v27_6+  v27_No sabe\n",
              "3        372000    45  210000  ...      0       0            0\n",
              "5       3000000    57  383192  ...      0       0            0\n",
              "11       320000    54  400000  ...      0       0            0\n",
              "13       460000    57  400000  ...      0       0            0\n",
              "15       240000    31  383192  ...      0       0            0\n",
              "...         ...   ...     ...  ...    ...     ...          ...\n",
              "185361   420000    32  150000  ...      0       0            0\n",
              "185380   750000    42  172307  ...      0       0            0\n",
              "185385   350000    42  150000  ...      0       0            0\n",
              "185397   250000    66  200000  ...      0       0            0\n",
              "185422   200000    32  172307  ...      0       0            0\n",
              "\n",
              "[40418 rows x 51 columns]"
            ]
          },
          "metadata": {},
          "execution_count": 25
        }
      ]
    },
    {
      "cell_type": "code",
      "metadata": {
        "id": "ERhJm8SkBF6z"
      },
      "source": [
        "from sklearn.model_selection import train_test_split\n",
        "\n",
        "no_significativos = ['y1', 'region_Región de Antofagasta', \"region_Región de Atacama\", \"region_Región de Coquimbo\", \"region_Región de Valparaíso\", 'area_Rural', \n",
        "'area_Urbano', 'v1_Pieza en casa antigua, en conventillo, en galpón o espacio subdividido', 'v1_Rancho o choza', 'v1_Vivienda precaria de materiales reutilizados (latas, plásticos, cartones, etc.)',\n",
        "'v1_Vivienda tradicional indígena', 'v13_Poseedor irregular', 'v13_Propia', 'v20_Otra fuente. ¿Cuál? Especifique.', 'v20_Pozo o noria',\n",
        "'v20_Red pública', 'v20_Río, vertiente, lago o estero', 'v22_Con llave dentro del sitio, pero fuera de la vivienda', 'v22_No sabe',\n",
        "'v22_No tiene sistema, la acarrea', 'v23_sistema_Cajón', 'v23_sistema_Letrina sanitaria conectada a pozo negro', 'v23_sistema_No tiene sistema',\n",
        "'v23_sistema_W.C. conectado a fosa séptica', 'v23_sistema_W.C. conectado al alcantarillado', 'v27_1',\n",
        "'v27_2', 'v27_3', 'v27_4', 'v27_5', 'v27_6+', 'v27_No sabe']\n",
        "\n",
        "X = data_final.drop(no_significativos, axis = 1)\n",
        "y = data_final['y1']\n",
        "\n",
        "\n",
        "X_train, X_test, y_train, y_test = train_test_split(X, y, test_size=0.33, random_state=42)"
      ],
      "execution_count": null,
      "outputs": []
    },
    {
      "cell_type": "code",
      "metadata": {
        "colab": {
          "base_uri": "https://localhost:8080/"
        },
        "id": "HV-6qryVE1_n",
        "outputId": "1f730b31-1533-47dd-8612-8d3b9daca460"
      },
      "source": [
        "y_test"
      ],
      "execution_count": null,
      "outputs": [
        {
          "output_type": "execute_result",
          "data": {
            "text/plain": [
              "24916      350000\n",
              "104660     450000\n",
              "152322     350000\n",
              "97280      500000\n",
              "133321     500000\n",
              "           ...   \n",
              "169401     860000\n",
              "120135     720000\n",
              "139081    2107000\n",
              "115149     700000\n",
              "57718      240000\n",
              "Name: y1, Length: 13338, dtype: int64"
            ]
          },
          "metadata": {},
          "execution_count": 51
        }
      ]
    },
    {
      "cell_type": "code",
      "metadata": {
        "colab": {
          "base_uri": "https://localhost:8080/",
          "height": 531
        },
        "id": "Rbk7t5GpEzj6",
        "outputId": "e1ef82bc-f54d-41ae-9955-29a3772d631d"
      },
      "source": [
        "X_test"
      ],
      "execution_count": null,
      "outputs": [
        {
          "output_type": "execute_result",
          "data": {
            "text/html": [
              "<div>\n",
              "<style scoped>\n",
              "    .dataframe tbody tr th:only-of-type {\n",
              "        vertical-align: middle;\n",
              "    }\n",
              "\n",
              "    .dataframe tbody tr th {\n",
              "        vertical-align: top;\n",
              "    }\n",
              "\n",
              "    .dataframe thead th {\n",
              "        text-align: right;\n",
              "    }\n",
              "</style>\n",
              "<table border=\"1\" class=\"dataframe\">\n",
              "  <thead>\n",
              "    <tr style=\"text-align: right;\">\n",
              "      <th></th>\n",
              "      <th>edad</th>\n",
              "      <th>v19</th>\n",
              "      <th>region_Región de Arica y Parinacota</th>\n",
              "      <th>region_Región de Aysén del Gral. Carlos Ibáñez del Campo</th>\n",
              "      <th>region_Región de La Araucanía</th>\n",
              "      <th>region_Región de Los Lagos</th>\n",
              "      <th>region_Región de Los Ríos</th>\n",
              "      <th>region_Región de Magallanes y de la Antártica Chilena</th>\n",
              "      <th>region_Región de Tarapacá</th>\n",
              "      <th>region_Región de Ñuble</th>\n",
              "      <th>region_Región del Biobío</th>\n",
              "      <th>region_Región del Libertador Gral. Bernardo O'Higgins</th>\n",
              "      <th>region_Región del Maule</th>\n",
              "      <th>sexo_Mujer</th>\n",
              "      <th>v1_Departamento</th>\n",
              "      <th>v1_Mediagua, mejora o vivienda de emergencia</th>\n",
              "      <th>v13_Cedida</th>\n",
              "      <th>v13_Ocupación irregular (de hecho)</th>\n",
              "      <th>v13_Usufructo (sólo uso y goce)</th>\n",
              "    </tr>\n",
              "  </thead>\n",
              "  <tbody>\n",
              "    <tr>\n",
              "      <th>24916</th>\n",
              "      <td>28</td>\n",
              "      <td>250000</td>\n",
              "      <td>0</td>\n",
              "      <td>0</td>\n",
              "      <td>0</td>\n",
              "      <td>0</td>\n",
              "      <td>0</td>\n",
              "      <td>0</td>\n",
              "      <td>0</td>\n",
              "      <td>0</td>\n",
              "      <td>0</td>\n",
              "      <td>0</td>\n",
              "      <td>0</td>\n",
              "      <td>0</td>\n",
              "      <td>0</td>\n",
              "      <td>0</td>\n",
              "      <td>0</td>\n",
              "      <td>0</td>\n",
              "      <td>0</td>\n",
              "    </tr>\n",
              "    <tr>\n",
              "      <th>104660</th>\n",
              "      <td>56</td>\n",
              "      <td>350000</td>\n",
              "      <td>0</td>\n",
              "      <td>0</td>\n",
              "      <td>0</td>\n",
              "      <td>1</td>\n",
              "      <td>0</td>\n",
              "      <td>0</td>\n",
              "      <td>0</td>\n",
              "      <td>0</td>\n",
              "      <td>0</td>\n",
              "      <td>0</td>\n",
              "      <td>0</td>\n",
              "      <td>1</td>\n",
              "      <td>0</td>\n",
              "      <td>0</td>\n",
              "      <td>0</td>\n",
              "      <td>0</td>\n",
              "      <td>0</td>\n",
              "    </tr>\n",
              "    <tr>\n",
              "      <th>152322</th>\n",
              "      <td>31</td>\n",
              "      <td>264565</td>\n",
              "      <td>0</td>\n",
              "      <td>0</td>\n",
              "      <td>0</td>\n",
              "      <td>0</td>\n",
              "      <td>0</td>\n",
              "      <td>0</td>\n",
              "      <td>0</td>\n",
              "      <td>0</td>\n",
              "      <td>0</td>\n",
              "      <td>0</td>\n",
              "      <td>0</td>\n",
              "      <td>0</td>\n",
              "      <td>0</td>\n",
              "      <td>0</td>\n",
              "      <td>0</td>\n",
              "      <td>0</td>\n",
              "      <td>0</td>\n",
              "    </tr>\n",
              "    <tr>\n",
              "      <th>97280</th>\n",
              "      <td>40</td>\n",
              "      <td>300000</td>\n",
              "      <td>0</td>\n",
              "      <td>0</td>\n",
              "      <td>1</td>\n",
              "      <td>0</td>\n",
              "      <td>0</td>\n",
              "      <td>0</td>\n",
              "      <td>0</td>\n",
              "      <td>0</td>\n",
              "      <td>0</td>\n",
              "      <td>0</td>\n",
              "      <td>0</td>\n",
              "      <td>0</td>\n",
              "      <td>0</td>\n",
              "      <td>0</td>\n",
              "      <td>1</td>\n",
              "      <td>0</td>\n",
              "      <td>0</td>\n",
              "    </tr>\n",
              "    <tr>\n",
              "      <th>133321</th>\n",
              "      <td>43</td>\n",
              "      <td>300000</td>\n",
              "      <td>0</td>\n",
              "      <td>0</td>\n",
              "      <td>0</td>\n",
              "      <td>0</td>\n",
              "      <td>0</td>\n",
              "      <td>0</td>\n",
              "      <td>0</td>\n",
              "      <td>0</td>\n",
              "      <td>0</td>\n",
              "      <td>0</td>\n",
              "      <td>0</td>\n",
              "      <td>1</td>\n",
              "      <td>1</td>\n",
              "      <td>0</td>\n",
              "      <td>0</td>\n",
              "      <td>0</td>\n",
              "      <td>0</td>\n",
              "    </tr>\n",
              "    <tr>\n",
              "      <th>...</th>\n",
              "      <td>...</td>\n",
              "      <td>...</td>\n",
              "      <td>...</td>\n",
              "      <td>...</td>\n",
              "      <td>...</td>\n",
              "      <td>...</td>\n",
              "      <td>...</td>\n",
              "      <td>...</td>\n",
              "      <td>...</td>\n",
              "      <td>...</td>\n",
              "      <td>...</td>\n",
              "      <td>...</td>\n",
              "      <td>...</td>\n",
              "      <td>...</td>\n",
              "      <td>...</td>\n",
              "      <td>...</td>\n",
              "      <td>...</td>\n",
              "      <td>...</td>\n",
              "      <td>...</td>\n",
              "    </tr>\n",
              "    <tr>\n",
              "      <th>169401</th>\n",
              "      <td>60</td>\n",
              "      <td>300000</td>\n",
              "      <td>0</td>\n",
              "      <td>0</td>\n",
              "      <td>0</td>\n",
              "      <td>0</td>\n",
              "      <td>1</td>\n",
              "      <td>0</td>\n",
              "      <td>0</td>\n",
              "      <td>0</td>\n",
              "      <td>0</td>\n",
              "      <td>0</td>\n",
              "      <td>0</td>\n",
              "      <td>0</td>\n",
              "      <td>0</td>\n",
              "      <td>0</td>\n",
              "      <td>0</td>\n",
              "      <td>0</td>\n",
              "      <td>0</td>\n",
              "    </tr>\n",
              "    <tr>\n",
              "      <th>120135</th>\n",
              "      <td>53</td>\n",
              "      <td>380000</td>\n",
              "      <td>0</td>\n",
              "      <td>0</td>\n",
              "      <td>0</td>\n",
              "      <td>0</td>\n",
              "      <td>0</td>\n",
              "      <td>1</td>\n",
              "      <td>0</td>\n",
              "      <td>0</td>\n",
              "      <td>0</td>\n",
              "      <td>0</td>\n",
              "      <td>0</td>\n",
              "      <td>0</td>\n",
              "      <td>0</td>\n",
              "      <td>0</td>\n",
              "      <td>0</td>\n",
              "      <td>0</td>\n",
              "      <td>0</td>\n",
              "    </tr>\n",
              "    <tr>\n",
              "      <th>139081</th>\n",
              "      <td>31</td>\n",
              "      <td>800000</td>\n",
              "      <td>0</td>\n",
              "      <td>0</td>\n",
              "      <td>0</td>\n",
              "      <td>0</td>\n",
              "      <td>0</td>\n",
              "      <td>0</td>\n",
              "      <td>0</td>\n",
              "      <td>0</td>\n",
              "      <td>0</td>\n",
              "      <td>0</td>\n",
              "      <td>0</td>\n",
              "      <td>1</td>\n",
              "      <td>0</td>\n",
              "      <td>0</td>\n",
              "      <td>0</td>\n",
              "      <td>0</td>\n",
              "      <td>0</td>\n",
              "    </tr>\n",
              "    <tr>\n",
              "      <th>115149</th>\n",
              "      <td>29</td>\n",
              "      <td>450000</td>\n",
              "      <td>0</td>\n",
              "      <td>1</td>\n",
              "      <td>0</td>\n",
              "      <td>0</td>\n",
              "      <td>0</td>\n",
              "      <td>0</td>\n",
              "      <td>0</td>\n",
              "      <td>0</td>\n",
              "      <td>0</td>\n",
              "      <td>0</td>\n",
              "      <td>0</td>\n",
              "      <td>1</td>\n",
              "      <td>0</td>\n",
              "      <td>0</td>\n",
              "      <td>0</td>\n",
              "      <td>0</td>\n",
              "      <td>0</td>\n",
              "    </tr>\n",
              "    <tr>\n",
              "      <th>57718</th>\n",
              "      <td>22</td>\n",
              "      <td>200000</td>\n",
              "      <td>0</td>\n",
              "      <td>0</td>\n",
              "      <td>0</td>\n",
              "      <td>0</td>\n",
              "      <td>0</td>\n",
              "      <td>0</td>\n",
              "      <td>0</td>\n",
              "      <td>0</td>\n",
              "      <td>0</td>\n",
              "      <td>1</td>\n",
              "      <td>0</td>\n",
              "      <td>0</td>\n",
              "      <td>0</td>\n",
              "      <td>0</td>\n",
              "      <td>0</td>\n",
              "      <td>0</td>\n",
              "      <td>0</td>\n",
              "    </tr>\n",
              "  </tbody>\n",
              "</table>\n",
              "<p>13338 rows × 19 columns</p>\n",
              "</div>"
            ],
            "text/plain": [
              "        edad  ...  v13_Usufructo (sólo uso y goce)\n",
              "24916     28  ...                                0\n",
              "104660    56  ...                                0\n",
              "152322    31  ...                                0\n",
              "97280     40  ...                                0\n",
              "133321    43  ...                                0\n",
              "...      ...  ...                              ...\n",
              "169401    60  ...                                0\n",
              "120135    53  ...                                0\n",
              "139081    31  ...                                0\n",
              "115149    29  ...                                0\n",
              "57718     22  ...                                0\n",
              "\n",
              "[13338 rows x 19 columns]"
            ]
          },
          "metadata": {},
          "execution_count": 50
        }
      ]
    },
    {
      "cell_type": "code",
      "metadata": {
        "id": "0jty_jj0Cgg5"
      },
      "source": [
        "from sklearn.linear_model import LinearRegression\n",
        "reg = LinearRegression().fit(X_train, y_train)"
      ],
      "execution_count": null,
      "outputs": []
    },
    {
      "cell_type": "code",
      "metadata": {
        "id": "hfK43p1zDTwY"
      },
      "source": [
        "y_hat = reg.predict(X_test)"
      ],
      "execution_count": null,
      "outputs": []
    },
    {
      "cell_type": "code",
      "metadata": {
        "colab": {
          "base_uri": "https://localhost:8080/"
        },
        "id": "E3WjnHJzFAgL",
        "outputId": "9873e5af-32ca-45d1-b54f-7de3217cd9f5"
      },
      "source": [
        "y_hat"
      ],
      "execution_count": null,
      "outputs": [
        {
          "output_type": "execute_result",
          "data": {
            "text/plain": [
              "array([ 535401.98094592,  716939.84436761,  572622.01905052, ...,\n",
              "       1450313.43678099,  916023.26522733,  472135.52440012])"
            ]
          },
          "metadata": {},
          "execution_count": 25
        }
      ]
    },
    {
      "cell_type": "code",
      "metadata": {
        "colab": {
          "base_uri": "https://localhost:8080/",
          "height": 424
        },
        "id": "YS5hR_ymE7bQ",
        "outputId": "5f51f33d-1be7-42e2-b72d-da54519ed0e6"
      },
      "source": [
        "pd.DataFrame(y_hat, columns=['y_hat'])"
      ],
      "execution_count": null,
      "outputs": [
        {
          "output_type": "execute_result",
          "data": {
            "text/html": [
              "<div>\n",
              "<style scoped>\n",
              "    .dataframe tbody tr th:only-of-type {\n",
              "        vertical-align: middle;\n",
              "    }\n",
              "\n",
              "    .dataframe tbody tr th {\n",
              "        vertical-align: top;\n",
              "    }\n",
              "\n",
              "    .dataframe thead th {\n",
              "        text-align: right;\n",
              "    }\n",
              "</style>\n",
              "<table border=\"1\" class=\"dataframe\">\n",
              "  <thead>\n",
              "    <tr style=\"text-align: right;\">\n",
              "      <th></th>\n",
              "      <th>y_hat</th>\n",
              "    </tr>\n",
              "  </thead>\n",
              "  <tbody>\n",
              "    <tr>\n",
              "      <th>0</th>\n",
              "      <td>5.354020e+05</td>\n",
              "    </tr>\n",
              "    <tr>\n",
              "      <th>1</th>\n",
              "      <td>7.169398e+05</td>\n",
              "    </tr>\n",
              "    <tr>\n",
              "      <th>2</th>\n",
              "      <td>5.726220e+05</td>\n",
              "    </tr>\n",
              "    <tr>\n",
              "      <th>3</th>\n",
              "      <td>6.285119e+05</td>\n",
              "    </tr>\n",
              "    <tr>\n",
              "      <th>4</th>\n",
              "      <td>7.343785e+05</td>\n",
              "    </tr>\n",
              "    <tr>\n",
              "      <th>...</th>\n",
              "      <td>...</td>\n",
              "    </tr>\n",
              "    <tr>\n",
              "      <th>13333</th>\n",
              "      <td>7.619654e+05</td>\n",
              "    </tr>\n",
              "    <tr>\n",
              "      <th>13334</th>\n",
              "      <td>8.167310e+05</td>\n",
              "    </tr>\n",
              "    <tr>\n",
              "      <th>13335</th>\n",
              "      <td>1.450313e+06</td>\n",
              "    </tr>\n",
              "    <tr>\n",
              "      <th>13336</th>\n",
              "      <td>9.160233e+05</td>\n",
              "    </tr>\n",
              "    <tr>\n",
              "      <th>13337</th>\n",
              "      <td>4.721355e+05</td>\n",
              "    </tr>\n",
              "  </tbody>\n",
              "</table>\n",
              "<p>13338 rows × 1 columns</p>\n",
              "</div>"
            ],
            "text/plain": [
              "              y_hat\n",
              "0      5.354020e+05\n",
              "1      7.169398e+05\n",
              "2      5.726220e+05\n",
              "3      6.285119e+05\n",
              "4      7.343785e+05\n",
              "...             ...\n",
              "13333  7.619654e+05\n",
              "13334  8.167310e+05\n",
              "13335  1.450313e+06\n",
              "13336  9.160233e+05\n",
              "13337  4.721355e+05\n",
              "\n",
              "[13338 rows x 1 columns]"
            ]
          },
          "metadata": {},
          "execution_count": 26
        }
      ]
    },
    {
      "cell_type": "code",
      "metadata": {
        "id": "Nh7qjPvODqQk",
        "colab": {
          "base_uri": "https://localhost:8080/"
        },
        "outputId": "adb3c144-de52-4bc7-d7cc-4cee8dfef996"
      },
      "source": [
        "y_hat_DF = pd.DataFrame(y_hat, columns=['y_hat']).reset_index()\n",
        "y_hat_DF = y_hat_DF.drop('index', axis = 1)\n",
        "y_hat_DF.shape"
      ],
      "execution_count": null,
      "outputs": [
        {
          "output_type": "execute_result",
          "data": {
            "text/plain": [
              "(13338, 1)"
            ]
          },
          "metadata": {},
          "execution_count": 27
        }
      ]
    },
    {
      "cell_type": "code",
      "metadata": {
        "id": "OWFN-9CPEE6n",
        "colab": {
          "base_uri": "https://localhost:8080/"
        },
        "outputId": "800467f4-df2c-4036-c873-5264fba0b765"
      },
      "source": [
        "y_test_DF = pd.DataFrame(y_test).reset_index()\n",
        "y_test_DF = y_test_DF.drop('index', axis = 1)\n",
        "y_test_DF.shape"
      ],
      "execution_count": null,
      "outputs": [
        {
          "output_type": "execute_result",
          "data": {
            "text/plain": [
              "(13338, 1)"
            ]
          },
          "metadata": {},
          "execution_count": 28
        }
      ]
    },
    {
      "cell_type": "code",
      "metadata": {
        "colab": {
          "base_uri": "https://localhost:8080/"
        },
        "id": "kV02ZXOOESCx",
        "outputId": "a505823f-aac5-4210-9cd9-eb34e667fd4d"
      },
      "source": [
        "pd.options.display.float_format = '{:.0f}'.format\n",
        "frames = [y_test_DF, y_hat_DF]\n",
        "\n",
        "results = pd.concat([y_test_DF.reset_index(drop=True), y_hat_DF], axis=1)\n",
        "\n",
        "results['diferencia'] = results['y1'] - results['y_hat'] \n",
        "\n",
        "print(results.head(30))\n",
        "\n",
        "print(results.head(30).describe())"
      ],
      "execution_count": null,
      "outputs": [
        {
          "output_type": "stream",
          "name": "stdout",
          "text": [
            "         y1   y_hat  diferencia\n",
            "0    350000  535402     -185402\n",
            "1    450000  716940     -266940\n",
            "2    350000  572622     -222622\n",
            "3    500000  628512     -128512\n",
            "4    500000  734379     -234379\n",
            "5    320000  519533     -199533\n",
            "6    170000  832119     -662119\n",
            "7   4000000 2621301     1378699\n",
            "8    500000  905017     -405017\n",
            "9   1800000 1969891     -169891\n",
            "10   320000  717907     -397907\n",
            "11   700000  809130     -109130\n",
            "12   320000  688309     -368309\n",
            "13   150000  483884     -333884\n",
            "14   400000  659371     -259371\n",
            "15   700000  513307      186693\n",
            "16   350000  645635     -295635\n",
            "17  1600000  904194      695806\n",
            "18   500000  426546       73454\n",
            "19   350000  320472       29528\n",
            "20   320000   41715      278285\n",
            "21   120000  292830     -172830\n",
            "22   350000  478315     -128315\n",
            "23    60000  336900     -276900\n",
            "24   340000  613120     -273120\n",
            "25   400000  421077      -21077\n",
            "26   320000  309772       10228\n",
            "27   425000  550850     -125850\n",
            "28   325000  455854     -130854\n",
            "29   690000  406154      283846\n",
            "           y1   y_hat  diferencia\n",
            "count      30      30          30\n",
            "mean   589333  670369      -81035\n",
            "std    741735  490060      375454\n",
            "min     60000   41715     -662119\n",
            "25%    320000  433873     -271575\n",
            "50%    350000  561736     -171361\n",
            "75%    500000  717665        2402\n",
            "max   4000000 2621301     1378699\n"
          ]
        }
      ]
    },
    {
      "cell_type": "code",
      "metadata": {
        "id": "O3-HW2hUGggQ"
      },
      "source": [
        "# Para los primeros 30 observaciones: \n",
        "\n",
        "# en los valores reales (y1) habia un sueldo promedio de $589.333\n",
        "# en los valores predichos (y_hat) el promedio era $670.369\n",
        "# Normalmente el modelo sobrepredijo el sueldo. \n",
        "# En promedio y1 era -$81.035 menor que y_hat"
      ],
      "execution_count": null,
      "outputs": []
    },
    {
      "cell_type": "code",
      "metadata": {
        "colab": {
          "base_uri": "https://localhost:8080/"
        },
        "id": "s_DyWAkEDg2v",
        "outputId": "1a030809-48f5-4140-a825-ca1ec0ef4f0a"
      },
      "source": [
        "reg.coef_"
      ],
      "execution_count": null,
      "outputs": [
        {
          "output_type": "execute_result",
          "data": {
            "text/plain": [
              "array([ 3.16168984e+03,  1.90422029e+00, -6.23782237e+04,  1.38510311e+05,\n",
              "        6.08298386e+04,  4.44832935e+04,  3.01783213e+04, -4.52618390e+04,\n",
              "       -6.50933401e+04,  7.94612847e+04,  8.62449167e+04,  5.09146972e+04,\n",
              "        6.43796654e+04, -1.41894775e+05,  1.98234953e+05, -1.04897467e+05,\n",
              "       -1.00871182e+05, -1.56987553e+05, -1.19419366e+05])"
            ]
          },
          "metadata": {},
          "execution_count": 30
        }
      ]
    },
    {
      "cell_type": "code",
      "metadata": {
        "colab": {
          "base_uri": "https://localhost:8080/",
          "height": 645
        },
        "id": "ffpHTA1iJDa5",
        "outputId": "ccc3fade-aa60-4a3a-c123-d62c65029b5c"
      },
      "source": [
        "pd.DataFrame(zip(X_train.columns, reg.coef_), columns=['variable', 'coeficiente'])"
      ],
      "execution_count": null,
      "outputs": [
        {
          "output_type": "execute_result",
          "data": {
            "text/html": [
              "<div>\n",
              "<style scoped>\n",
              "    .dataframe tbody tr th:only-of-type {\n",
              "        vertical-align: middle;\n",
              "    }\n",
              "\n",
              "    .dataframe tbody tr th {\n",
              "        vertical-align: top;\n",
              "    }\n",
              "\n",
              "    .dataframe thead th {\n",
              "        text-align: right;\n",
              "    }\n",
              "</style>\n",
              "<table border=\"1\" class=\"dataframe\">\n",
              "  <thead>\n",
              "    <tr style=\"text-align: right;\">\n",
              "      <th></th>\n",
              "      <th>variable</th>\n",
              "      <th>coeficiente</th>\n",
              "    </tr>\n",
              "  </thead>\n",
              "  <tbody>\n",
              "    <tr>\n",
              "      <th>0</th>\n",
              "      <td>edad</td>\n",
              "      <td>3162</td>\n",
              "    </tr>\n",
              "    <tr>\n",
              "      <th>1</th>\n",
              "      <td>v19</td>\n",
              "      <td>2</td>\n",
              "    </tr>\n",
              "    <tr>\n",
              "      <th>2</th>\n",
              "      <td>region_Región de Arica y Parinacota</td>\n",
              "      <td>-62378</td>\n",
              "    </tr>\n",
              "    <tr>\n",
              "      <th>3</th>\n",
              "      <td>region_Región de Aysén del Gral. Carlos Ibáñez...</td>\n",
              "      <td>138510</td>\n",
              "    </tr>\n",
              "    <tr>\n",
              "      <th>4</th>\n",
              "      <td>region_Región de La Araucanía</td>\n",
              "      <td>60830</td>\n",
              "    </tr>\n",
              "    <tr>\n",
              "      <th>5</th>\n",
              "      <td>region_Región de Los Lagos</td>\n",
              "      <td>44483</td>\n",
              "    </tr>\n",
              "    <tr>\n",
              "      <th>6</th>\n",
              "      <td>region_Región de Los Ríos</td>\n",
              "      <td>30178</td>\n",
              "    </tr>\n",
              "    <tr>\n",
              "      <th>7</th>\n",
              "      <td>region_Región de Magallanes y de la Antártica ...</td>\n",
              "      <td>-45262</td>\n",
              "    </tr>\n",
              "    <tr>\n",
              "      <th>8</th>\n",
              "      <td>region_Región de Tarapacá</td>\n",
              "      <td>-65093</td>\n",
              "    </tr>\n",
              "    <tr>\n",
              "      <th>9</th>\n",
              "      <td>region_Región de Ñuble</td>\n",
              "      <td>79461</td>\n",
              "    </tr>\n",
              "    <tr>\n",
              "      <th>10</th>\n",
              "      <td>region_Región del Biobío</td>\n",
              "      <td>86245</td>\n",
              "    </tr>\n",
              "    <tr>\n",
              "      <th>11</th>\n",
              "      <td>region_Región del Libertador Gral. Bernardo O'...</td>\n",
              "      <td>50915</td>\n",
              "    </tr>\n",
              "    <tr>\n",
              "      <th>12</th>\n",
              "      <td>region_Región del Maule</td>\n",
              "      <td>64380</td>\n",
              "    </tr>\n",
              "    <tr>\n",
              "      <th>13</th>\n",
              "      <td>sexo_Mujer</td>\n",
              "      <td>-141895</td>\n",
              "    </tr>\n",
              "    <tr>\n",
              "      <th>14</th>\n",
              "      <td>v1_Departamento</td>\n",
              "      <td>198235</td>\n",
              "    </tr>\n",
              "    <tr>\n",
              "      <th>15</th>\n",
              "      <td>v1_Mediagua, mejora o vivienda de emergencia</td>\n",
              "      <td>-104897</td>\n",
              "    </tr>\n",
              "    <tr>\n",
              "      <th>16</th>\n",
              "      <td>v13_Cedida</td>\n",
              "      <td>-100871</td>\n",
              "    </tr>\n",
              "    <tr>\n",
              "      <th>17</th>\n",
              "      <td>v13_Ocupación irregular (de hecho)</td>\n",
              "      <td>-156988</td>\n",
              "    </tr>\n",
              "    <tr>\n",
              "      <th>18</th>\n",
              "      <td>v13_Usufructo (sólo uso y goce)</td>\n",
              "      <td>-119419</td>\n",
              "    </tr>\n",
              "  </tbody>\n",
              "</table>\n",
              "</div>"
            ],
            "text/plain": [
              "                                             variable  coeficiente\n",
              "0                                                edad         3162\n",
              "1                                                 v19            2\n",
              "2                 region_Región de Arica y Parinacota       -62378\n",
              "3   region_Región de Aysén del Gral. Carlos Ibáñez...       138510\n",
              "4                       region_Región de La Araucanía        60830\n",
              "5                          region_Región de Los Lagos        44483\n",
              "6                           region_Región de Los Ríos        30178\n",
              "7   region_Región de Magallanes y de la Antártica ...       -45262\n",
              "8                           region_Región de Tarapacá       -65093\n",
              "9                              region_Región de Ñuble        79461\n",
              "10                           region_Región del Biobío        86245\n",
              "11  region_Región del Libertador Gral. Bernardo O'...        50915\n",
              "12                            region_Región del Maule        64380\n",
              "13                                         sexo_Mujer      -141895\n",
              "14                                    v1_Departamento       198235\n",
              "15       v1_Mediagua, mejora o vivienda de emergencia      -104897\n",
              "16                                         v13_Cedida      -100871\n",
              "17                 v13_Ocupación irregular (de hecho)      -156988\n",
              "18                    v13_Usufructo (sólo uso y goce)      -119419"
            ]
          },
          "metadata": {},
          "execution_count": 31
        }
      ]
    },
    {
      "cell_type": "code",
      "metadata": {
        "id": "KcqCZk0TJDUp"
      },
      "source": [
        "# Como para el modelo est_2 las siguientes variables causan un aumento en el sueldo:\n",
        "\n",
        "# edad, \n",
        "# v19, \n",
        "# Aysen, \n",
        "#Araucania, \n",
        "#Los Lagos, \n",
        "#Los Rios, \n",
        "#Nuble, \n",
        "#BioBio, \n",
        "#Libertador Gral. Bernardo O'Higgins, \n",
        "#Maule,  \n",
        "#v1_Departamento, \n",
        "\n",
        "# Algunos puntos interesantes:\n",
        "\n",
        "# vivir en un departamento es la variable que mas implica mayor sueldo con un coeficiente de $198.235\n",
        "\n",
        "# la region que mas implica un aumento en sueldo es Aysen con un coeficiente de $138.510\n",
        "\n",
        "# v13_Ocupación irregular (de hecho) es la variable que mas implica una reduccion en sueldo con un coeficiente de $156.988\n",
        "\n",
        "# sexo_Mujer tambien implica una reduccion en sueldo con un coeficiente de $141.895\n"
      ],
      "execution_count": null,
      "outputs": []
    },
    {
      "cell_type": "markdown",
      "metadata": {
        "id": "6Arkg6zpLVN0"
      },
      "source": [
        "Calcular el error de tes - MSE (mean squared error) de ambos modelos creados y comparar cual de los modelos tiene el MSE más bajo."
      ]
    },
    {
      "cell_type": "code",
      "metadata": {
        "id": "Tph6I5k2JDRq"
      },
      "source": [
        "from sklearn.metrics import mean_squared_error"
      ],
      "execution_count": null,
      "outputs": []
    },
    {
      "cell_type": "code",
      "metadata": {
        "colab": {
          "base_uri": "https://localhost:8080/"
        },
        "id": "DK7cgDQ7JDIE",
        "outputId": "2409161b-34af-46a8-ffb4-e50919407182"
      },
      "source": [
        "# modelo con Sklearn\n",
        "\n",
        "mean_squared_error(y_test, y_hat)"
      ],
      "execution_count": null,
      "outputs": [
        {
          "output_type": "execute_result",
          "data": {
            "text/plain": [
              "387960927479.4875"
            ]
          },
          "metadata": {},
          "execution_count": 87
        }
      ]
    },
    {
      "cell_type": "code",
      "metadata": {
        "id": "BjpShMgSCfkM",
        "colab": {
          "base_uri": "https://localhost:8080/"
        },
        "outputId": "8e06d868-b497-449d-f9c7-242219884acd"
      },
      "source": [
        "# modelo con statsmodels\n",
        "\n",
        "est_2.mse_model"
      ],
      "execution_count": null,
      "outputs": [
        {
          "output_type": "execute_result",
          "data": {
            "text/plain": [
              "287724959017736.3"
            ]
          },
          "metadata": {},
          "execution_count": 90
        }
      ]
    },
    {
      "cell_type": "code",
      "metadata": {
        "id": "z3tD-wjfCffi"
      },
      "source": [
        "# el modelo con Sklearn tienen un MSE mas bajo"
      ],
      "execution_count": null,
      "outputs": []
    },
    {
      "cell_type": "code",
      "metadata": {
        "id": "-ZfbvGhzCe8Z"
      },
      "source": [
        ""
      ],
      "execution_count": null,
      "outputs": []
    },
    {
      "cell_type": "code",
      "metadata": {
        "id": "MJWxipgOCe4J"
      },
      "source": [
        ""
      ],
      "execution_count": null,
      "outputs": []
    }
  ]
}