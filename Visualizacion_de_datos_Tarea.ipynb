{
  "nbformat": 4,
  "nbformat_minor": 0,
  "metadata": {
    "colab": {
      "name": "JamesAttwood_Modulo7_Tarea.ipynb",
      "provenance": [],
      "collapsed_sections": [
        "0kAW_n1OAYrq"
      ],
      "authorship_tag": "ABX9TyODSnv9AIvaslmxyrMzDiNE",
      "include_colab_link": true
    },
    "kernelspec": {
      "name": "python3",
      "display_name": "Python 3"
    },
    "language_info": {
      "name": "python"
    }
  },
  "cells": [
    {
      "cell_type": "markdown",
      "metadata": {
        "id": "view-in-github",
        "colab_type": "text"
      },
      "source": [
        "<a href=\"https://colab.research.google.com/github/JamesAttwood1910/Diplomado_USACH/blob/main/Visualizacion_de_datos_Tarea.ipynb\" target=\"_parent\"><img src=\"https://colab.research.google.com/assets/colab-badge.svg\" alt=\"Open In Colab\"/></a>"
      ]
    },
    {
      "cell_type": "code",
      "metadata": {
        "id": "P5FFWdpGhL4w"
      },
      "source": [
        ""
      ],
      "execution_count": null,
      "outputs": []
    },
    {
      "cell_type": "code",
      "metadata": {
        "id": "JtYDji3AH_HY"
      },
      "source": [
        "import plotly.graph_objs as go\n",
        "import plotly as plotly\n",
        "import matplotlib.pyplot as plt\n",
        "import pandas as pd\n",
        "import numpy as np\n",
        "import pandas as pd\n",
        "import seaborn as sns"
      ],
      "execution_count": 1,
      "outputs": []
    },
    {
      "cell_type": "code",
      "metadata": {
        "colab": {
          "base_uri": "https://localhost:8080/"
        },
        "id": "3M14MHkxIPxK",
        "outputId": "9791ab73-e54c-4caf-dc72-7d4717523ca7"
      },
      "source": [
        "from google.colab import drive\n",
        "drive.mount('/content/drive/')"
      ],
      "execution_count": 2,
      "outputs": [
        {
          "output_type": "stream",
          "name": "stdout",
          "text": [
            "Mounted at /content/drive/\n"
          ]
        }
      ]
    },
    {
      "cell_type": "code",
      "metadata": {
        "id": "ZwPFWGWyhdIh"
      },
      "source": [
        "df = pd.read_excel(\"/content/drive/MyDrive/Modulo7/Tarea/Online Retail.xlsx\")"
      ],
      "execution_count": null,
      "outputs": []
    },
    {
      "cell_type": "code",
      "metadata": {
        "id": "PXZhC-AuhdGd"
      },
      "source": [
        "df.to_csv('/content/drive/MyDrive/Modulo7/Tarea/OnlineRetail.csv')"
      ],
      "execution_count": null,
      "outputs": []
    },
    {
      "cell_type": "code",
      "metadata": {
        "id": "oQH2zFI5hdD6"
      },
      "source": [
        "df = pd.read_csv('/content/drive/MyDrive/Modulo7/Tarea/OnlineRetail.csv')"
      ],
      "execution_count": 3,
      "outputs": []
    },
    {
      "cell_type": "markdown",
      "metadata": {
        "id": "kRD1rRPY-35W"
      },
      "source": [
        "## 2) Fuente de datos"
      ]
    },
    {
      "cell_type": "code",
      "metadata": {
        "colab": {
          "base_uri": "https://localhost:8080/",
          "height": 206
        },
        "id": "gh27tN5WhdBe",
        "outputId": "bdcc1507-3e35-4474-ebe0-82bd49f8a7e7"
      },
      "source": [
        "df.head()"
      ],
      "execution_count": 4,
      "outputs": [
        {
          "output_type": "execute_result",
          "data": {
            "text/html": [
              "<div>\n",
              "<style scoped>\n",
              "    .dataframe tbody tr th:only-of-type {\n",
              "        vertical-align: middle;\n",
              "    }\n",
              "\n",
              "    .dataframe tbody tr th {\n",
              "        vertical-align: top;\n",
              "    }\n",
              "\n",
              "    .dataframe thead th {\n",
              "        text-align: right;\n",
              "    }\n",
              "</style>\n",
              "<table border=\"1\" class=\"dataframe\">\n",
              "  <thead>\n",
              "    <tr style=\"text-align: right;\">\n",
              "      <th></th>\n",
              "      <th>Unnamed: 0</th>\n",
              "      <th>InvoiceNo</th>\n",
              "      <th>StockCode</th>\n",
              "      <th>Description</th>\n",
              "      <th>Quantity</th>\n",
              "      <th>InvoiceDate</th>\n",
              "      <th>UnitPrice</th>\n",
              "      <th>CustomerID</th>\n",
              "      <th>Country</th>\n",
              "    </tr>\n",
              "  </thead>\n",
              "  <tbody>\n",
              "    <tr>\n",
              "      <th>0</th>\n",
              "      <td>0</td>\n",
              "      <td>536365</td>\n",
              "      <td>85123A</td>\n",
              "      <td>WHITE HANGING HEART T-LIGHT HOLDER</td>\n",
              "      <td>6</td>\n",
              "      <td>2010-12-01 08:26:00</td>\n",
              "      <td>2.55</td>\n",
              "      <td>17850.0</td>\n",
              "      <td>United Kingdom</td>\n",
              "    </tr>\n",
              "    <tr>\n",
              "      <th>1</th>\n",
              "      <td>1</td>\n",
              "      <td>536365</td>\n",
              "      <td>71053</td>\n",
              "      <td>WHITE METAL LANTERN</td>\n",
              "      <td>6</td>\n",
              "      <td>2010-12-01 08:26:00</td>\n",
              "      <td>3.39</td>\n",
              "      <td>17850.0</td>\n",
              "      <td>United Kingdom</td>\n",
              "    </tr>\n",
              "    <tr>\n",
              "      <th>2</th>\n",
              "      <td>2</td>\n",
              "      <td>536365</td>\n",
              "      <td>84406B</td>\n",
              "      <td>CREAM CUPID HEARTS COAT HANGER</td>\n",
              "      <td>8</td>\n",
              "      <td>2010-12-01 08:26:00</td>\n",
              "      <td>2.75</td>\n",
              "      <td>17850.0</td>\n",
              "      <td>United Kingdom</td>\n",
              "    </tr>\n",
              "    <tr>\n",
              "      <th>3</th>\n",
              "      <td>3</td>\n",
              "      <td>536365</td>\n",
              "      <td>84029G</td>\n",
              "      <td>KNITTED UNION FLAG HOT WATER BOTTLE</td>\n",
              "      <td>6</td>\n",
              "      <td>2010-12-01 08:26:00</td>\n",
              "      <td>3.39</td>\n",
              "      <td>17850.0</td>\n",
              "      <td>United Kingdom</td>\n",
              "    </tr>\n",
              "    <tr>\n",
              "      <th>4</th>\n",
              "      <td>4</td>\n",
              "      <td>536365</td>\n",
              "      <td>84029E</td>\n",
              "      <td>RED WOOLLY HOTTIE WHITE HEART.</td>\n",
              "      <td>6</td>\n",
              "      <td>2010-12-01 08:26:00</td>\n",
              "      <td>3.39</td>\n",
              "      <td>17850.0</td>\n",
              "      <td>United Kingdom</td>\n",
              "    </tr>\n",
              "  </tbody>\n",
              "</table>\n",
              "</div>"
            ],
            "text/plain": [
              "   Unnamed: 0 InvoiceNo StockCode  ... UnitPrice  CustomerID         Country\n",
              "0           0    536365    85123A  ...      2.55     17850.0  United Kingdom\n",
              "1           1    536365     71053  ...      3.39     17850.0  United Kingdom\n",
              "2           2    536365    84406B  ...      2.75     17850.0  United Kingdom\n",
              "3           3    536365    84029G  ...      3.39     17850.0  United Kingdom\n",
              "4           4    536365    84029E  ...      3.39     17850.0  United Kingdom\n",
              "\n",
              "[5 rows x 9 columns]"
            ]
          },
          "metadata": {},
          "execution_count": 4
        }
      ]
    },
    {
      "cell_type": "code",
      "metadata": {
        "id": "PZ7qpacrCkCq"
      },
      "source": [
        "del df['Unnamed: 0']"
      ],
      "execution_count": 5,
      "outputs": []
    },
    {
      "cell_type": "code",
      "metadata": {
        "colab": {
          "base_uri": "https://localhost:8080/",
          "height": 36
        },
        "id": "troKMvniCetD",
        "outputId": "6c4c2341-c2fa-4d87-c73a-b2a8e2cb27a3"
      },
      "source": [
        "primera_fecha = df.sort_values(by = 'InvoiceDate').iloc[0,4]\n",
        "primera_fecha"
      ],
      "execution_count": null,
      "outputs": [
        {
          "output_type": "execute_result",
          "data": {
            "application/vnd.google.colaboratory.intrinsic+json": {
              "type": "string"
            },
            "text/plain": [
              "'2010-12-01 08:26:00'"
            ]
          },
          "metadata": {},
          "execution_count": 12
        }
      ]
    },
    {
      "cell_type": "code",
      "metadata": {
        "colab": {
          "base_uri": "https://localhost:8080/",
          "height": 36
        },
        "id": "X3gSHylGC4bo",
        "outputId": "a281a8ec-7fce-4489-bb5b-4e56a02ab56c"
      },
      "source": [
        "ultima_fecha = df.sort_values(by = 'InvoiceDate').iloc[-1, 4]\n",
        "ultima_fecha"
      ],
      "execution_count": null,
      "outputs": [
        {
          "output_type": "execute_result",
          "data": {
            "application/vnd.google.colaboratory.intrinsic+json": {
              "type": "string"
            },
            "text/plain": [
              "'2011-12-09 12:50:00'"
            ]
          },
          "metadata": {},
          "execution_count": 15
        }
      ]
    },
    {
      "cell_type": "code",
      "metadata": {
        "colab": {
          "base_uri": "https://localhost:8080/"
        },
        "id": "cNruk6oxPiuO",
        "outputId": "e79872f2-c278-4023-fce3-d8a676c98e44"
      },
      "source": [
        "df['Country'].value_counts().count()"
      ],
      "execution_count": null,
      "outputs": [
        {
          "output_type": "execute_result",
          "data": {
            "text/plain": [
              "38"
            ]
          },
          "metadata": {},
          "execution_count": 12
        }
      ]
    },
    {
      "cell_type": "code",
      "metadata": {
        "colab": {
          "base_uri": "https://localhost:8080/"
        },
        "id": "cm7stT6xRkju",
        "outputId": "2e76d2ab-af71-4af5-a6ed-0ba015132d30"
      },
      "source": [
        "df.columns"
      ],
      "execution_count": null,
      "outputs": [
        {
          "output_type": "execute_result",
          "data": {
            "text/plain": [
              "Index(['InvoiceNo', 'StockCode', 'Description', 'Quantity', 'InvoiceDate',\n",
              "       'UnitPrice', 'CustomerID', 'Country'],\n",
              "      dtype='object')"
            ]
          },
          "metadata": {},
          "execution_count": 13
        }
      ]
    },
    {
      "cell_type": "code",
      "metadata": {
        "colab": {
          "base_uri": "https://localhost:8080/"
        },
        "id": "63y9G0f_TAbH",
        "outputId": "e51e0969-f27f-4ff0-965a-1e490e438d17"
      },
      "source": [
        "df.info()"
      ],
      "execution_count": null,
      "outputs": [
        {
          "output_type": "stream",
          "name": "stdout",
          "text": [
            "<class 'pandas.core.frame.DataFrame'>\n",
            "RangeIndex: 541909 entries, 0 to 541908\n",
            "Data columns (total 8 columns):\n",
            " #   Column       Non-Null Count   Dtype  \n",
            "---  ------       --------------   -----  \n",
            " 0   InvoiceNo    541909 non-null  object \n",
            " 1   StockCode    541909 non-null  object \n",
            " 2   Description  540455 non-null  object \n",
            " 3   Quantity     541909 non-null  int64  \n",
            " 4   InvoiceDate  541909 non-null  object \n",
            " 5   UnitPrice    541909 non-null  float64\n",
            " 6   CustomerID   406829 non-null  float64\n",
            " 7   Country      541909 non-null  object \n",
            "dtypes: float64(2), int64(1), object(5)\n",
            "memory usage: 33.1+ MB\n"
          ]
        }
      ]
    },
    {
      "cell_type": "code",
      "metadata": {
        "colab": {
          "base_uri": "https://localhost:8080/"
        },
        "id": "Djsu4yc3TYE0",
        "outputId": "14740fd7-530b-46ec-fbe0-2c85fdecad3c"
      },
      "source": [
        "df.isna().sum()"
      ],
      "execution_count": null,
      "outputs": [
        {
          "output_type": "execute_result",
          "data": {
            "text/plain": [
              "InvoiceNo           0\n",
              "StockCode           0\n",
              "Description      1454\n",
              "Quantity            0\n",
              "InvoiceDate         0\n",
              "UnitPrice           0\n",
              "CustomerID     135080\n",
              "Country             0\n",
              "dtype: int64"
            ]
          },
          "metadata": {},
          "execution_count": 15
        }
      ]
    },
    {
      "cell_type": "code",
      "metadata": {
        "colab": {
          "base_uri": "https://localhost:8080/"
        },
        "id": "oepQKr6QNerf",
        "outputId": "f7281e84-dd34-477d-b972-d56742a92467"
      },
      "source": [
        "df.shape"
      ],
      "execution_count": null,
      "outputs": [
        {
          "output_type": "execute_result",
          "data": {
            "text/plain": [
              "(541909, 8)"
            ]
          },
          "metadata": {},
          "execution_count": 8
        }
      ]
    },
    {
      "cell_type": "markdown",
      "metadata": {
        "id": "8rderdO--8HS"
      },
      "source": [
        "## 3) Preprocesamiento "
      ]
    },
    {
      "cell_type": "markdown",
      "metadata": {
        "id": "N6LYpAYc_CwH"
      },
      "source": [
        "a. Principales problemas y estrategias de solución.  \n",
        "b. Procedimientos de limpieza y/o depuración.  \n",
        "c. Decisiones tomadas respecto de los atributos que se utilizarán en el análisis.  "
      ]
    },
    {
      "cell_type": "code",
      "metadata": {
        "id": "j3aVe33b-78u"
      },
      "source": [
        "# identificacion de problemas"
      ],
      "execution_count": null,
      "outputs": []
    },
    {
      "cell_type": "code",
      "metadata": {
        "colab": {
          "base_uri": "https://localhost:8080/"
        },
        "id": "D5m815xQ-76I",
        "outputId": "ceba238b-d46c-446f-d5e1-e72ac980c528"
      },
      "source": [
        "# Dtype y variable analisis\n",
        "df.info()"
      ],
      "execution_count": 6,
      "outputs": [
        {
          "output_type": "stream",
          "name": "stdout",
          "text": [
            "<class 'pandas.core.frame.DataFrame'>\n",
            "RangeIndex: 541909 entries, 0 to 541908\n",
            "Data columns (total 8 columns):\n",
            " #   Column       Non-Null Count   Dtype  \n",
            "---  ------       --------------   -----  \n",
            " 0   InvoiceNo    541909 non-null  object \n",
            " 1   StockCode    541909 non-null  object \n",
            " 2   Description  540455 non-null  object \n",
            " 3   Quantity     541909 non-null  int64  \n",
            " 4   InvoiceDate  541909 non-null  object \n",
            " 5   UnitPrice    541909 non-null  float64\n",
            " 6   CustomerID   406829 non-null  float64\n",
            " 7   Country      541909 non-null  object \n",
            "dtypes: float64(2), int64(1), object(5)\n",
            "memory usage: 33.1+ MB\n"
          ]
        }
      ]
    },
    {
      "cell_type": "markdown",
      "metadata": {
        "id": "5mJsoH-B_an6"
      },
      "source": [
        "\n",
        "\n",
        "*   Hay que transformar 'InvoiceDate' a type DateTime y dividirla en nuevas columnas para mes, y dia de la semana. \n",
        "*  Hay que tansformar 'CustomerID' a type Object. \n",
        "\n"
      ]
    },
    {
      "cell_type": "code",
      "metadata": {
        "colab": {
          "base_uri": "https://localhost:8080/"
        },
        "id": "cEcyShYE_Qjm",
        "outputId": "1ed0ea5c-e746-4c0a-bd48-d7895b852e0c"
      },
      "source": [
        "# Missings\n",
        "\n",
        "df.isna().sum()"
      ],
      "execution_count": 7,
      "outputs": [
        {
          "output_type": "execute_result",
          "data": {
            "text/plain": [
              "InvoiceNo           0\n",
              "StockCode           0\n",
              "Description      1454\n",
              "Quantity            0\n",
              "InvoiceDate         0\n",
              "UnitPrice           0\n",
              "CustomerID     135080\n",
              "Country             0\n",
              "dtype: int64"
            ]
          },
          "metadata": {},
          "execution_count": 7
        }
      ]
    },
    {
      "cell_type": "markdown",
      "metadata": {
        "id": "RXyfMQXmABZZ"
      },
      "source": [
        "\n",
        "\n",
        "*   Hay que tratar los missings en Description y CustomerID\n",
        "*   Para los missings en CustomerID verémos si observaciones con el mismo InvoiceNo contengan el CustomerID. \n",
        "*   Para Description veremos si observaciones con el mismo stock code contengan la Description. \n",
        "\n"
      ]
    },
    {
      "cell_type": "code",
      "metadata": {
        "colab": {
          "base_uri": "https://localhost:8080/"
        },
        "id": "DktR5NI9ciWl",
        "outputId": "05f233da-f7ea-48bc-fe89-721f94438e2a"
      },
      "source": [
        "pip install missingno"
      ],
      "execution_count": null,
      "outputs": [
        {
          "output_type": "stream",
          "name": "stdout",
          "text": [
            "Requirement already satisfied: missingno in /usr/local/lib/python3.7/dist-packages (0.5.0)\n",
            "Requirement already satisfied: matplotlib in /usr/local/lib/python3.7/dist-packages (from missingno) (3.2.2)\n",
            "Requirement already satisfied: numpy in /usr/local/lib/python3.7/dist-packages (from missingno) (1.19.5)\n",
            "Requirement already satisfied: seaborn in /usr/local/lib/python3.7/dist-packages (from missingno) (0.11.2)\n",
            "Requirement already satisfied: scipy in /usr/local/lib/python3.7/dist-packages (from missingno) (1.4.1)\n",
            "Requirement already satisfied: pyparsing!=2.0.4,!=2.1.2,!=2.1.6,>=2.0.1 in /usr/local/lib/python3.7/dist-packages (from matplotlib->missingno) (2.4.7)\n",
            "Requirement already satisfied: kiwisolver>=1.0.1 in /usr/local/lib/python3.7/dist-packages (from matplotlib->missingno) (1.3.2)\n",
            "Requirement already satisfied: cycler>=0.10 in /usr/local/lib/python3.7/dist-packages (from matplotlib->missingno) (0.11.0)\n",
            "Requirement already satisfied: python-dateutil>=2.1 in /usr/local/lib/python3.7/dist-packages (from matplotlib->missingno) (2.8.2)\n",
            "Requirement already satisfied: six>=1.5 in /usr/local/lib/python3.7/dist-packages (from python-dateutil>=2.1->matplotlib->missingno) (1.15.0)\n",
            "Requirement already satisfied: pandas>=0.23 in /usr/local/lib/python3.7/dist-packages (from seaborn->missingno) (1.1.5)\n",
            "Requirement already satisfied: pytz>=2017.2 in /usr/local/lib/python3.7/dist-packages (from pandas>=0.23->seaborn->missingno) (2018.9)\n"
          ]
        }
      ]
    },
    {
      "cell_type": "code",
      "metadata": {
        "colab": {
          "base_uri": "https://localhost:8080/",
          "height": 537
        },
        "id": "YPlRT6Sycm_N",
        "outputId": "1495efd1-dfca-4563-f16a-419d1eec9e2b"
      },
      "source": [
        "import missingno as msno\n",
        "msno.bar(df, color = '#5c940c', figsize=(12,6), fontsize=20)\n",
        "\n",
        "\n",
        "plt.savefig('/content/drive/MyDrive/Modulo7/Tarea/missings.png')"
      ],
      "execution_count": null,
      "outputs": [
        {
          "output_type": "display_data",
          "data": {
            "image/png": "[encoded data removed]",
            "text/plain": [
              "<Figure size 864x432 with 3 Axes>"
            ]
          },
          "metadata": {
            "needs_background": "light"
          }
        }
      ]
    },
    {
      "cell_type": "code",
      "metadata": {
        "id": "PCsRbqulAz1p"
      },
      "source": [
        "# Outliers\n",
        "\n",
        "def outliers(variables):\n",
        "  sns.boxplot(data = df, x = variables, orient = 'h')\n",
        "  \n",
        "  return\n",
        "  "
      ],
      "execution_count": 12,
      "outputs": []
    },
    {
      "cell_type": "code",
      "metadata": {
        "colab": {
          "base_uri": "https://localhost:8080/",
          "height": 334
        },
        "id": "30ALK7NhCfUK",
        "outputId": "89aac990-5a45-49a5-d71d-d64db436f8a2"
      },
      "source": [
        "plt.figure(figsize=(5,5))\n",
        "outliers('UnitPrice')"
      ],
      "execution_count": 13,
      "outputs": [
        {
          "output_type": "display_data",
          "data": {
            "image/png": "[encoded data removed]",
            "text/plain": [
              "<Figure size 360x360 with 1 Axes>"
            ]
          },
          "metadata": {
            "needs_background": "light"
          }
        }
      ]
    },
    {
      "cell_type": "code",
      "metadata": {
        "colab": {
          "base_uri": "https://localhost:8080/",
          "height": 279
        },
        "id": "tM9WBYlGC1ln",
        "outputId": "c04813de-7166-4d03-ab2a-7e56b4cd0da4"
      },
      "source": [
        "outliers('Quantity')"
      ],
      "execution_count": 11,
      "outputs": [
        {
          "output_type": "display_data",
          "data": {
            "image/png": "[encoded data removed]",
            "text/plain": [
              "<Figure size 432x288 with 1 Axes>"
            ]
          },
          "metadata": {
            "needs_background": "light"
          }
        }
      ]
    },
    {
      "cell_type": "markdown",
      "metadata": {
        "id": "0U0AYLVEBr0T"
      },
      "source": [
        "\n",
        "\n",
        "*   Para ambos variables (Quantity y UnitPrice) hay outliers. \n",
        "*   Tambien hay valores negativos. Hay que averiguar que esta sucediendo aquí. \n",
        "\n"
      ]
    },
    {
      "cell_type": "markdown",
      "metadata": {
        "id": "3jYs3qjVE7Nw"
      },
      "source": [
        "### Comenzar preprocesamiento"
      ]
    },
    {
      "cell_type": "code",
      "metadata": {
        "id": "XKhMtAT0DulX"
      },
      "source": [
        "# Unit Price "
      ],
      "execution_count": null,
      "outputs": []
    },
    {
      "cell_type": "code",
      "metadata": {
        "colab": {
          "base_uri": "https://localhost:8080/"
        },
        "id": "70KXX0_GDulZ",
        "outputId": "61220cad-33d7-4164-ee56-b41106f1dc6e"
      },
      "source": [
        "df['UnitPrice'].describe() "
      ],
      "execution_count": 14,
      "outputs": [
        {
          "output_type": "execute_result",
          "data": {
            "text/plain": [
              "count    541909.000000\n",
              "mean          4.611114\n",
              "std          96.759853\n",
              "min      -11062.060000\n",
              "25%           1.250000\n",
              "50%           2.080000\n",
              "75%           4.130000\n",
              "max       38970.000000\n",
              "Name: UnitPrice, dtype: float64"
            ]
          },
          "metadata": {},
          "execution_count": 14
        }
      ]
    },
    {
      "cell_type": "code",
      "metadata": {
        "colab": {
          "base_uri": "https://localhost:8080/",
          "height": 112
        },
        "id": "H04gjzFJDula",
        "outputId": "7b4728d4-a382-423f-f90c-c83df09d6014"
      },
      "source": [
        "df.loc[df['UnitPrice'] <0] # Hay dos registros con UnitPrice negativo, se tratan de registros para Ajustar deuda incobrable .  "
      ],
      "execution_count": 15,
      "outputs": [
        {
          "output_type": "execute_result",
          "data": {
            "text/html": [
              "<div>\n",
              "<style scoped>\n",
              "    .dataframe tbody tr th:only-of-type {\n",
              "        vertical-align: middle;\n",
              "    }\n",
              "\n",
              "    .dataframe tbody tr th {\n",
              "        vertical-align: top;\n",
              "    }\n",
              "\n",
              "    .dataframe thead th {\n",
              "        text-align: right;\n",
              "    }\n",
              "</style>\n",
              "<table border=\"1\" class=\"dataframe\">\n",
              "  <thead>\n",
              "    <tr style=\"text-align: right;\">\n",
              "      <th></th>\n",
              "      <th>InvoiceNo</th>\n",
              "      <th>StockCode</th>\n",
              "      <th>Description</th>\n",
              "      <th>Quantity</th>\n",
              "      <th>InvoiceDate</th>\n",
              "      <th>UnitPrice</th>\n",
              "      <th>CustomerID</th>\n",
              "      <th>Country</th>\n",
              "    </tr>\n",
              "  </thead>\n",
              "  <tbody>\n",
              "    <tr>\n",
              "      <th>299983</th>\n",
              "      <td>A563186</td>\n",
              "      <td>B</td>\n",
              "      <td>Adjust bad debt</td>\n",
              "      <td>1</td>\n",
              "      <td>2011-08-12 14:51:00</td>\n",
              "      <td>-11062.06</td>\n",
              "      <td>NaN</td>\n",
              "      <td>United Kingdom</td>\n",
              "    </tr>\n",
              "    <tr>\n",
              "      <th>299984</th>\n",
              "      <td>A563187</td>\n",
              "      <td>B</td>\n",
              "      <td>Adjust bad debt</td>\n",
              "      <td>1</td>\n",
              "      <td>2011-08-12 14:52:00</td>\n",
              "      <td>-11062.06</td>\n",
              "      <td>NaN</td>\n",
              "      <td>United Kingdom</td>\n",
              "    </tr>\n",
              "  </tbody>\n",
              "</table>\n",
              "</div>"
            ],
            "text/plain": [
              "       InvoiceNo StockCode  ... CustomerID         Country\n",
              "299983   A563186         B  ...        NaN  United Kingdom\n",
              "299984   A563187         B  ...        NaN  United Kingdom\n",
              "\n",
              "[2 rows x 8 columns]"
            ]
          },
          "metadata": {},
          "execution_count": 15
        }
      ]
    },
    {
      "cell_type": "code",
      "metadata": {
        "colab": {
          "base_uri": "https://localhost:8080/"
        },
        "id": "-kuJX0G-D6G1",
        "outputId": "046795de-a8bb-4413-a048-58cbb1d5d02e"
      },
      "source": [
        "# Quantity\n",
        "\n",
        "df['Quantity'].describe()"
      ],
      "execution_count": 16,
      "outputs": [
        {
          "output_type": "execute_result",
          "data": {
            "text/plain": [
              "count    541909.000000\n",
              "mean          9.552250\n",
              "std         218.081158\n",
              "min      -80995.000000\n",
              "25%           1.000000\n",
              "50%           3.000000\n",
              "75%          10.000000\n",
              "max       80995.000000\n",
              "Name: Quantity, dtype: float64"
            ]
          },
          "metadata": {},
          "execution_count": 16
        }
      ]
    },
    {
      "cell_type": "code",
      "metadata": {
        "colab": {
          "base_uri": "https://localhost:8080/",
          "height": 424
        },
        "id": "n2jQtohOD6G3",
        "outputId": "37bcc967-0f34-46f6-84d7-c8b310f3ec7e"
      },
      "source": [
        "df.loc[df['Quantity'] <0]"
      ],
      "execution_count": 17,
      "outputs": [
        {
          "output_type": "execute_result",
          "data": {
            "text/html": [
              "<div>\n",
              "<style scoped>\n",
              "    .dataframe tbody tr th:only-of-type {\n",
              "        vertical-align: middle;\n",
              "    }\n",
              "\n",
              "    .dataframe tbody tr th {\n",
              "        vertical-align: top;\n",
              "    }\n",
              "\n",
              "    .dataframe thead th {\n",
              "        text-align: right;\n",
              "    }\n",
              "</style>\n",
              "<table border=\"1\" class=\"dataframe\">\n",
              "  <thead>\n",
              "    <tr style=\"text-align: right;\">\n",
              "      <th></th>\n",
              "      <th>InvoiceNo</th>\n",
              "      <th>StockCode</th>\n",
              "      <th>Description</th>\n",
              "      <th>Quantity</th>\n",
              "      <th>InvoiceDate</th>\n",
              "      <th>UnitPrice</th>\n",
              "      <th>CustomerID</th>\n",
              "      <th>Country</th>\n",
              "    </tr>\n",
              "  </thead>\n",
              "  <tbody>\n",
              "    <tr>\n",
              "      <th>141</th>\n",
              "      <td>C536379</td>\n",
              "      <td>D</td>\n",
              "      <td>Discount</td>\n",
              "      <td>-1</td>\n",
              "      <td>2010-12-01 09:41:00</td>\n",
              "      <td>27.50</td>\n",
              "      <td>14527.0</td>\n",
              "      <td>United Kingdom</td>\n",
              "    </tr>\n",
              "    <tr>\n",
              "      <th>154</th>\n",
              "      <td>C536383</td>\n",
              "      <td>35004C</td>\n",
              "      <td>SET OF 3 COLOURED  FLYING DUCKS</td>\n",
              "      <td>-1</td>\n",
              "      <td>2010-12-01 09:49:00</td>\n",
              "      <td>4.65</td>\n",
              "      <td>15311.0</td>\n",
              "      <td>United Kingdom</td>\n",
              "    </tr>\n",
              "    <tr>\n",
              "      <th>235</th>\n",
              "      <td>C536391</td>\n",
              "      <td>22556</td>\n",
              "      <td>PLASTERS IN TIN CIRCUS PARADE</td>\n",
              "      <td>-12</td>\n",
              "      <td>2010-12-01 10:24:00</td>\n",
              "      <td>1.65</td>\n",
              "      <td>17548.0</td>\n",
              "      <td>United Kingdom</td>\n",
              "    </tr>\n",
              "    <tr>\n",
              "      <th>236</th>\n",
              "      <td>C536391</td>\n",
              "      <td>21984</td>\n",
              "      <td>PACK OF 12 PINK PAISLEY TISSUES</td>\n",
              "      <td>-24</td>\n",
              "      <td>2010-12-01 10:24:00</td>\n",
              "      <td>0.29</td>\n",
              "      <td>17548.0</td>\n",
              "      <td>United Kingdom</td>\n",
              "    </tr>\n",
              "    <tr>\n",
              "      <th>237</th>\n",
              "      <td>C536391</td>\n",
              "      <td>21983</td>\n",
              "      <td>PACK OF 12 BLUE PAISLEY TISSUES</td>\n",
              "      <td>-24</td>\n",
              "      <td>2010-12-01 10:24:00</td>\n",
              "      <td>0.29</td>\n",
              "      <td>17548.0</td>\n",
              "      <td>United Kingdom</td>\n",
              "    </tr>\n",
              "    <tr>\n",
              "      <th>...</th>\n",
              "      <td>...</td>\n",
              "      <td>...</td>\n",
              "      <td>...</td>\n",
              "      <td>...</td>\n",
              "      <td>...</td>\n",
              "      <td>...</td>\n",
              "      <td>...</td>\n",
              "      <td>...</td>\n",
              "    </tr>\n",
              "    <tr>\n",
              "      <th>540449</th>\n",
              "      <td>C581490</td>\n",
              "      <td>23144</td>\n",
              "      <td>ZINC T-LIGHT HOLDER STARS SMALL</td>\n",
              "      <td>-11</td>\n",
              "      <td>2011-12-09 09:57:00</td>\n",
              "      <td>0.83</td>\n",
              "      <td>14397.0</td>\n",
              "      <td>United Kingdom</td>\n",
              "    </tr>\n",
              "    <tr>\n",
              "      <th>541541</th>\n",
              "      <td>C581499</td>\n",
              "      <td>M</td>\n",
              "      <td>Manual</td>\n",
              "      <td>-1</td>\n",
              "      <td>2011-12-09 10:28:00</td>\n",
              "      <td>224.69</td>\n",
              "      <td>15498.0</td>\n",
              "      <td>United Kingdom</td>\n",
              "    </tr>\n",
              "    <tr>\n",
              "      <th>541715</th>\n",
              "      <td>C581568</td>\n",
              "      <td>21258</td>\n",
              "      <td>VICTORIAN SEWING BOX LARGE</td>\n",
              "      <td>-5</td>\n",
              "      <td>2011-12-09 11:57:00</td>\n",
              "      <td>10.95</td>\n",
              "      <td>15311.0</td>\n",
              "      <td>United Kingdom</td>\n",
              "    </tr>\n",
              "    <tr>\n",
              "      <th>541716</th>\n",
              "      <td>C581569</td>\n",
              "      <td>84978</td>\n",
              "      <td>HANGING HEART JAR T-LIGHT HOLDER</td>\n",
              "      <td>-1</td>\n",
              "      <td>2011-12-09 11:58:00</td>\n",
              "      <td>1.25</td>\n",
              "      <td>17315.0</td>\n",
              "      <td>United Kingdom</td>\n",
              "    </tr>\n",
              "    <tr>\n",
              "      <th>541717</th>\n",
              "      <td>C581569</td>\n",
              "      <td>20979</td>\n",
              "      <td>36 PENCILS TUBE RED RETROSPOT</td>\n",
              "      <td>-5</td>\n",
              "      <td>2011-12-09 11:58:00</td>\n",
              "      <td>1.25</td>\n",
              "      <td>17315.0</td>\n",
              "      <td>United Kingdom</td>\n",
              "    </tr>\n",
              "  </tbody>\n",
              "</table>\n",
              "<p>10624 rows × 8 columns</p>\n",
              "</div>"
            ],
            "text/plain": [
              "       InvoiceNo StockCode  ... CustomerID         Country\n",
              "141      C536379         D  ...    14527.0  United Kingdom\n",
              "154      C536383    35004C  ...    15311.0  United Kingdom\n",
              "235      C536391     22556  ...    17548.0  United Kingdom\n",
              "236      C536391     21984  ...    17548.0  United Kingdom\n",
              "237      C536391     21983  ...    17548.0  United Kingdom\n",
              "...          ...       ...  ...        ...             ...\n",
              "540449   C581490     23144  ...    14397.0  United Kingdom\n",
              "541541   C581499         M  ...    15498.0  United Kingdom\n",
              "541715   C581568     21258  ...    15311.0  United Kingdom\n",
              "541716   C581569     84978  ...    17315.0  United Kingdom\n",
              "541717   C581569     20979  ...    17315.0  United Kingdom\n",
              "\n",
              "[10624 rows x 8 columns]"
            ]
          },
          "metadata": {},
          "execution_count": 17
        }
      ]
    },
    {
      "cell_type": "code",
      "metadata": {
        "id": "RB1f2Zo0D6G3"
      },
      "source": [
        "# Las 10624 observaciones que tieien un valor negativo para cantidad son productos devueltos. \n",
        "# Estas observaciones se remueven de la base de datos, y se van a guardar en una base de datos seperada."
      ],
      "execution_count": null,
      "outputs": []
    },
    {
      "cell_type": "code",
      "metadata": {
        "id": "X3-UMlTOD6G4"
      },
      "source": [
        "returns = df.loc[df['Quantity'] <0]"
      ],
      "execution_count": 18,
      "outputs": []
    },
    {
      "cell_type": "code",
      "metadata": {
        "id": "aCSBb_iTD6G5"
      },
      "source": [
        "df = df.loc[~df['Quantity'] <0]"
      ],
      "execution_count": 19,
      "outputs": []
    },
    {
      "cell_type": "code",
      "metadata": {
        "id": "RwjOqkX2KU25"
      },
      "source": [
        "# Missings \n",
        "\n",
        "# por ahora vamos a botar los missings"
      ],
      "execution_count": null,
      "outputs": []
    },
    {
      "cell_type": "code",
      "metadata": {
        "id": "dNl2GfIyE0nb"
      },
      "source": [
        "df = df.dropna()"
      ],
      "execution_count": 20,
      "outputs": []
    },
    {
      "cell_type": "code",
      "metadata": {
        "id": "chRVzRlaD-BM"
      },
      "source": [
        "# Missings y UnitPrice"
      ],
      "execution_count": null,
      "outputs": []
    },
    {
      "cell_type": "code",
      "metadata": {
        "colab": {
          "base_uri": "https://localhost:8080/"
        },
        "id": "_TtXcXfbEBAa",
        "outputId": "b6504d46-114c-4fe0-c142-be11ef541dcd"
      },
      "source": [
        "df['UnitPrice'].describe() # al haber removido los np.nan el valor en UnitPrice que es negativo se ha removido"
      ],
      "execution_count": 21,
      "outputs": [
        {
          "output_type": "execute_result",
          "data": {
            "text/plain": [
              "count    397924.000000\n",
              "mean          3.116174\n",
              "std          22.096788\n",
              "min           0.000000\n",
              "25%           1.250000\n",
              "50%           1.950000\n",
              "75%           3.750000\n",
              "max        8142.750000\n",
              "Name: UnitPrice, dtype: float64"
            ]
          },
          "metadata": {},
          "execution_count": 21
        }
      ]
    },
    {
      "cell_type": "code",
      "metadata": {
        "colab": {
          "base_uri": "https://localhost:8080/",
          "height": 49
        },
        "id": "D9wWL67HEBAd",
        "outputId": "f60e6770-8ae6-40bc-e652-23c0ae83916f"
      },
      "source": [
        "df.loc[df['UnitPrice'] <0] # No hay registros menor a 0. "
      ],
      "execution_count": 22,
      "outputs": [
        {
          "output_type": "execute_result",
          "data": {
            "text/html": [
              "<div>\n",
              "<style scoped>\n",
              "    .dataframe tbody tr th:only-of-type {\n",
              "        vertical-align: middle;\n",
              "    }\n",
              "\n",
              "    .dataframe tbody tr th {\n",
              "        vertical-align: top;\n",
              "    }\n",
              "\n",
              "    .dataframe thead th {\n",
              "        text-align: right;\n",
              "    }\n",
              "</style>\n",
              "<table border=\"1\" class=\"dataframe\">\n",
              "  <thead>\n",
              "    <tr style=\"text-align: right;\">\n",
              "      <th></th>\n",
              "      <th>InvoiceNo</th>\n",
              "      <th>StockCode</th>\n",
              "      <th>Description</th>\n",
              "      <th>Quantity</th>\n",
              "      <th>InvoiceDate</th>\n",
              "      <th>UnitPrice</th>\n",
              "      <th>CustomerID</th>\n",
              "      <th>Country</th>\n",
              "    </tr>\n",
              "  </thead>\n",
              "  <tbody>\n",
              "  </tbody>\n",
              "</table>\n",
              "</div>"
            ],
            "text/plain": [
              "Empty DataFrame\n",
              "Columns: [InvoiceNo, StockCode, Description, Quantity, InvoiceDate, UnitPrice, CustomerID, Country]\n",
              "Index: []"
            ]
          },
          "metadata": {},
          "execution_count": 22
        }
      ]
    },
    {
      "cell_type": "code",
      "metadata": {
        "id": "FDD3OcdzE0j8"
      },
      "source": [
        "# Date time"
      ],
      "execution_count": null,
      "outputs": []
    },
    {
      "cell_type": "code",
      "metadata": {
        "id": "UCRH2R-LE0fd"
      },
      "source": [
        "df['InvoiceDate_new'] = pd.to_datetime(df['InvoiceDate'])"
      ],
      "execution_count": 23,
      "outputs": []
    },
    {
      "cell_type": "code",
      "metadata": {
        "id": "DSN1iM7qE0Yv"
      },
      "source": [
        "df['Invoice_DayofWeek'] = df['InvoiceDate_new'].dt.dayofweek"
      ],
      "execution_count": 24,
      "outputs": []
    },
    {
      "cell_type": "code",
      "metadata": {
        "id": "BsQwprth3s6G"
      },
      "source": [
        "df['Invoice_Hour'] = df['InvoiceDate_new'].dt.hour"
      ],
      "execution_count": 25,
      "outputs": []
    },
    {
      "cell_type": "code",
      "metadata": {
        "id": "8HqDyquY33rl"
      },
      "source": [
        "df['Invoice_month'] = df['InvoiceDate_new'].dt.month"
      ],
      "execution_count": 26,
      "outputs": []
    },
    {
      "cell_type": "code",
      "metadata": {
        "id": "DGavRGzu889G"
      },
      "source": [
        "df[\"Invoice_Time\"] = df[\"InvoiceDate_new\"].dt.strftime('%H:%M')"
      ],
      "execution_count": 27,
      "outputs": []
    },
    {
      "cell_type": "code",
      "metadata": {
        "id": "vRgcVkb6DYWJ"
      },
      "source": [
        "df[\"Invoice_Day\"] = df[\"InvoiceDate_new\"].dt.strftime('%Y-%m-%d')"
      ],
      "execution_count": 28,
      "outputs": []
    },
    {
      "cell_type": "code",
      "metadata": {
        "id": "9NhDL2CzEMJZ"
      },
      "source": [
        "# CustomerID se convierte a object"
      ],
      "execution_count": null,
      "outputs": []
    },
    {
      "cell_type": "code",
      "metadata": {
        "id": "QEhUAYTLsDqa"
      },
      "source": [
        "df['CustomerID'] = df['CustomerID'].astype(int).astype(str)"
      ],
      "execution_count": null,
      "outputs": []
    },
    {
      "cell_type": "code",
      "metadata": {
        "colab": {
          "base_uri": "https://localhost:8080/"
        },
        "id": "CMJit3q6sjOD",
        "outputId": "5d0adb08-0d20-40a4-aeba-472e533e393d"
      },
      "source": [
        "df.info()"
      ],
      "execution_count": 29,
      "outputs": [
        {
          "output_type": "stream",
          "name": "stdout",
          "text": [
            "<class 'pandas.core.frame.DataFrame'>\n",
            "Int64Index: 397924 entries, 0 to 541908\n",
            "Data columns (total 14 columns):\n",
            " #   Column             Non-Null Count   Dtype         \n",
            "---  ------             --------------   -----         \n",
            " 0   InvoiceNo          397924 non-null  object        \n",
            " 1   StockCode          397924 non-null  object        \n",
            " 2   Description        397924 non-null  object        \n",
            " 3   Quantity           397924 non-null  int64         \n",
            " 4   InvoiceDate        397924 non-null  object        \n",
            " 5   UnitPrice          397924 non-null  float64       \n",
            " 6   CustomerID         397924 non-null  float64       \n",
            " 7   Country            397924 non-null  object        \n",
            " 8   InvoiceDate_new    397924 non-null  datetime64[ns]\n",
            " 9   Invoice_DayofWeek  397924 non-null  int64         \n",
            " 10  Invoice_Hour       397924 non-null  int64         \n",
            " 11  Invoice_month      397924 non-null  int64         \n",
            " 12  Invoice_Time       397924 non-null  object        \n",
            " 13  Invoice_Day        397924 non-null  object        \n",
            "dtypes: datetime64[ns](1), float64(2), int64(4), object(7)\n",
            "memory usage: 45.5+ MB\n"
          ]
        }
      ]
    },
    {
      "cell_type": "code",
      "metadata": {
        "id": "rgoVkL_Ltwb2"
      },
      "source": [
        "# Despues del preprocesamiento hay 14 variables y 397924 registros. "
      ],
      "execution_count": null,
      "outputs": []
    },
    {
      "cell_type": "markdown",
      "metadata": {
        "id": "sT6fsN019hTs"
      },
      "source": [
        "## 4) Analisis / Resultados"
      ]
    },
    {
      "cell_type": "markdown",
      "metadata": {
        "id": "c5RXoNVf95s1"
      },
      "source": [
        "a. ¿Existen productos favoritos que compran los clientes?   \n",
        "b. ¿Existe algún horario específico en el que los clientes compran? ¿En qué horario sugeriría refuerzo en los servidores de la tienda para evitar un colapso?   \n",
        "c. ¿Qué frecuencia de compra tiene un cliente de alta frecuencia? ¿ Cuánto debería gastar un cliente para considerarlo sobre la media?   \n",
        "d. ¿Cómo se distribuyen las antigüedades de los clientes?   \n",
        "e. Si se clasifican en 3 grupos a los clientes, en base a su frecuencia de compra ¿Qué diferencias existen entre cada clúster? (Utilice el algoritmo de clusterización Kmeans). "
      ]
    },
    {
      "cell_type": "markdown",
      "metadata": {
        "id": "lTg80aCn_jXq"
      },
      "source": [
        "### Existen productos favoritos que compran los clientes? "
      ]
    },
    {
      "cell_type": "code",
      "metadata": {
        "id": "qkjII69l81OT"
      },
      "source": [
        "# Existen productos favoritos que compran los clientes? "
      ],
      "execution_count": null,
      "outputs": []
    },
    {
      "cell_type": "code",
      "metadata": {
        "colab": {
          "base_uri": "https://localhost:8080/"
        },
        "id": "nUVzu2KqFQpL",
        "outputId": "51a5ddf8-bbe2-45ad-8cc5-53024804b052"
      },
      "source": [
        "df['StockCode'].nunique()  # hay 3665 productos. "
      ],
      "execution_count": 30,
      "outputs": [
        {
          "output_type": "execute_result",
          "data": {
            "text/plain": [
              "3665"
            ]
          },
          "metadata": {},
          "execution_count": 30
        }
      ]
    },
    {
      "cell_type": "code",
      "metadata": {
        "id": "ncJC2E0XFHY9"
      },
      "source": [
        "StockCode_Quantity = df.groupby(['StockCode']).sum('Quantity').sort_values('Quantity', ascending = False)['Quantity']"
      ],
      "execution_count": 31,
      "outputs": []
    },
    {
      "cell_type": "code",
      "metadata": {
        "colab": {
          "base_uri": "https://localhost:8080/"
        },
        "id": "EOukBzitFHVs",
        "outputId": "bc0c4136-ba50-4718-ff3e-22ba5f4d7bcf"
      },
      "source": [
        "StockCode_Quantity"
      ],
      "execution_count": 32,
      "outputs": [
        {
          "output_type": "execute_result",
          "data": {
            "text/plain": [
              "StockCode\n",
              "23843     80995\n",
              "23166     77916\n",
              "84077     54415\n",
              "22197     49183\n",
              "85099B    46181\n",
              "          ...  \n",
              "22323         1\n",
              "90152C        1\n",
              "90152B        1\n",
              "90125E        1\n",
              "47503J        1\n",
              "Name: Quantity, Length: 3665, dtype: int64"
            ]
          },
          "metadata": {},
          "execution_count": 32
        }
      ]
    },
    {
      "cell_type": "code",
      "metadata": {
        "id": "VqHbpa5YGm2l"
      },
      "source": [
        "StockCode_Quantity = StockCode_Quantity.to_frame()"
      ],
      "execution_count": 33,
      "outputs": []
    },
    {
      "cell_type": "code",
      "metadata": {
        "id": "_JhZuvc34Ql-"
      },
      "source": [
        "StockCode_Quantity = StockCode_Quantity.reset_index()"
      ],
      "execution_count": 34,
      "outputs": []
    },
    {
      "cell_type": "code",
      "metadata": {
        "id": "DZFhes5CFHNI"
      },
      "source": [
        "StockCode_Quantity['Percentage'] = StockCode_Quantity['Quantity'] / StockCode_Quantity['Quantity'].sum() *100"
      ],
      "execution_count": 35,
      "outputs": []
    },
    {
      "cell_type": "code",
      "metadata": {
        "colab": {
          "base_uri": "https://localhost:8080/",
          "height": 424
        },
        "id": "eT-zAGfz1KmN",
        "outputId": "19d9dd6f-3afb-4868-d5bf-675a5c08aa56"
      },
      "source": [
        "StockCode_Quantity"
      ],
      "execution_count": 36,
      "outputs": [
        {
          "output_type": "execute_result",
          "data": {
            "text/html": [
              "<div>\n",
              "<style scoped>\n",
              "    .dataframe tbody tr th:only-of-type {\n",
              "        vertical-align: middle;\n",
              "    }\n",
              "\n",
              "    .dataframe tbody tr th {\n",
              "        vertical-align: top;\n",
              "    }\n",
              "\n",
              "    .dataframe thead th {\n",
              "        text-align: right;\n",
              "    }\n",
              "</style>\n",
              "<table border=\"1\" class=\"dataframe\">\n",
              "  <thead>\n",
              "    <tr style=\"text-align: right;\">\n",
              "      <th></th>\n",
              "      <th>StockCode</th>\n",
              "      <th>Quantity</th>\n",
              "      <th>Percentage</th>\n",
              "    </tr>\n",
              "  </thead>\n",
              "  <tbody>\n",
              "    <tr>\n",
              "      <th>0</th>\n",
              "      <td>23843</td>\n",
              "      <td>80995</td>\n",
              "      <td>1.563098</td>\n",
              "    </tr>\n",
              "    <tr>\n",
              "      <th>1</th>\n",
              "      <td>23166</td>\n",
              "      <td>77916</td>\n",
              "      <td>1.503678</td>\n",
              "    </tr>\n",
              "    <tr>\n",
              "      <th>2</th>\n",
              "      <td>84077</td>\n",
              "      <td>54415</td>\n",
              "      <td>1.050139</td>\n",
              "    </tr>\n",
              "    <tr>\n",
              "      <th>3</th>\n",
              "      <td>22197</td>\n",
              "      <td>49183</td>\n",
              "      <td>0.949168</td>\n",
              "    </tr>\n",
              "    <tr>\n",
              "      <th>4</th>\n",
              "      <td>85099B</td>\n",
              "      <td>46181</td>\n",
              "      <td>0.891233</td>\n",
              "    </tr>\n",
              "    <tr>\n",
              "      <th>...</th>\n",
              "      <td>...</td>\n",
              "      <td>...</td>\n",
              "      <td>...</td>\n",
              "    </tr>\n",
              "    <tr>\n",
              "      <th>3660</th>\n",
              "      <td>22323</td>\n",
              "      <td>1</td>\n",
              "      <td>0.000019</td>\n",
              "    </tr>\n",
              "    <tr>\n",
              "      <th>3661</th>\n",
              "      <td>90152C</td>\n",
              "      <td>1</td>\n",
              "      <td>0.000019</td>\n",
              "    </tr>\n",
              "    <tr>\n",
              "      <th>3662</th>\n",
              "      <td>90152B</td>\n",
              "      <td>1</td>\n",
              "      <td>0.000019</td>\n",
              "    </tr>\n",
              "    <tr>\n",
              "      <th>3663</th>\n",
              "      <td>90125E</td>\n",
              "      <td>1</td>\n",
              "      <td>0.000019</td>\n",
              "    </tr>\n",
              "    <tr>\n",
              "      <th>3664</th>\n",
              "      <td>47503J</td>\n",
              "      <td>1</td>\n",
              "      <td>0.000019</td>\n",
              "    </tr>\n",
              "  </tbody>\n",
              "</table>\n",
              "<p>3665 rows × 3 columns</p>\n",
              "</div>"
            ],
            "text/plain": [
              "     StockCode  Quantity  Percentage\n",
              "0        23843     80995    1.563098\n",
              "1        23166     77916    1.503678\n",
              "2        84077     54415    1.050139\n",
              "3        22197     49183    0.949168\n",
              "4       85099B     46181    0.891233\n",
              "...        ...       ...         ...\n",
              "3660     22323         1    0.000019\n",
              "3661    90152C         1    0.000019\n",
              "3662    90152B         1    0.000019\n",
              "3663    90125E         1    0.000019\n",
              "3664    47503J         1    0.000019\n",
              "\n",
              "[3665 rows x 3 columns]"
            ]
          },
          "metadata": {},
          "execution_count": 36
        }
      ]
    },
    {
      "cell_type": "code",
      "metadata": {
        "colab": {
          "base_uri": "https://localhost:8080/",
          "height": 483
        },
        "id": "be8U-Z8YI1_d",
        "outputId": "246b21a4-d668-4f47-da18-c7142ec5efd6"
      },
      "source": [
        "import matplotlib.pyplot as plt\n",
        "plt.figure(figsize=(10,6))\n",
        "sns.set(style=\"dark\", context=\"talk\")\n",
        "bar = sns.barplot(data = StockCode_Quantity.iloc[:10].reset_index(), x = 'StockCode', y = 'Percentage', color = '#5d960b')\n",
        "plt.xticks(rotation=60)\n",
        "plt.ylim([0,2])\n",
        "bar.set_title('Productos mas vendidos como % de ventas totales',fontdict= { 'fontsize': 20, 'fontweight':'bold'})\n",
        "bar.set_xlabel('StockCode',fontsize = 18, labelpad = 10)\n",
        "bar.set_ylabel('Porcentaje',fontsize = 18, labelpad = 10)\n",
        "plt.savefig('/content/drive/MyDrive/Modulo7/Tarea/pergunta1.png')"
      ],
      "execution_count": null,
      "outputs": [
        {
          "output_type": "display_data",
          "data": {
            "image/png": "[encoded data removed]",
            "text/plain": [
              "<Figure size 720x432 with 1 Axes>"
            ]
          },
          "metadata": {}
        }
      ]
    },
    {
      "cell_type": "markdown",
      "metadata": {
        "id": "o6lL2QnE_oxr"
      },
      "source": [
        "###  ¿Existe algún horario específico en el que los clientes compran? ¿En qué horario sugeriría refuerzo en los servidores de la tienda para evitar un colapso?"
      ]
    },
    {
      "cell_type": "code",
      "metadata": {
        "id": "bRdopu1FLy0_"
      },
      "source": [
        " # ¿Existe algún horario específico en el que los clientes compran? ¿En qué horario sugeriría refuerzo en los servidores de la tienda para evitar un colapso?"
      ],
      "execution_count": null,
      "outputs": []
    },
    {
      "cell_type": "code",
      "metadata": {
        "colab": {
          "base_uri": "https://localhost:8080/",
          "height": 571
        },
        "id": "H0crXYAoFrqv",
        "outputId": "4cae16fe-de72-4cff-d9f0-57b9b7a0d9dd"
      },
      "source": [
        "df.groupby(['Invoice_Hour', 'InvoiceNo']).count().reset_index().groupby(['Invoice_Hour']).count()"
      ],
      "execution_count": null,
      "outputs": [
        {
          "output_type": "execute_result",
          "data": {
            "text/html": [
              "<div>\n",
              "<style scoped>\n",
              "    .dataframe tbody tr th:only-of-type {\n",
              "        vertical-align: middle;\n",
              "    }\n",
              "\n",
              "    .dataframe tbody tr th {\n",
              "        vertical-align: top;\n",
              "    }\n",
              "\n",
              "    .dataframe thead th {\n",
              "        text-align: right;\n",
              "    }\n",
              "</style>\n",
              "<table border=\"1\" class=\"dataframe\">\n",
              "  <thead>\n",
              "    <tr style=\"text-align: right;\">\n",
              "      <th></th>\n",
              "      <th>InvoiceNo</th>\n",
              "      <th>StockCode</th>\n",
              "      <th>Description</th>\n",
              "      <th>Quantity</th>\n",
              "      <th>InvoiceDate</th>\n",
              "      <th>UnitPrice</th>\n",
              "      <th>CustomerID</th>\n",
              "      <th>Country</th>\n",
              "      <th>InvoiceDate_new</th>\n",
              "      <th>Invoice_DayofWeek</th>\n",
              "      <th>Invoice_month</th>\n",
              "      <th>Invoice_Time</th>\n",
              "      <th>Invoice_Day</th>\n",
              "    </tr>\n",
              "    <tr>\n",
              "      <th>Invoice_Hour</th>\n",
              "      <th></th>\n",
              "      <th></th>\n",
              "      <th></th>\n",
              "      <th></th>\n",
              "      <th></th>\n",
              "      <th></th>\n",
              "      <th></th>\n",
              "      <th></th>\n",
              "      <th></th>\n",
              "      <th></th>\n",
              "      <th></th>\n",
              "      <th></th>\n",
              "      <th></th>\n",
              "    </tr>\n",
              "  </thead>\n",
              "  <tbody>\n",
              "    <tr>\n",
              "      <th>6</th>\n",
              "      <td>1</td>\n",
              "      <td>1</td>\n",
              "      <td>1</td>\n",
              "      <td>1</td>\n",
              "      <td>1</td>\n",
              "      <td>1</td>\n",
              "      <td>1</td>\n",
              "      <td>1</td>\n",
              "      <td>1</td>\n",
              "      <td>1</td>\n",
              "      <td>1</td>\n",
              "      <td>1</td>\n",
              "      <td>1</td>\n",
              "    </tr>\n",
              "    <tr>\n",
              "      <th>7</th>\n",
              "      <td>29</td>\n",
              "      <td>29</td>\n",
              "      <td>29</td>\n",
              "      <td>29</td>\n",
              "      <td>29</td>\n",
              "      <td>29</td>\n",
              "      <td>29</td>\n",
              "      <td>29</td>\n",
              "      <td>29</td>\n",
              "      <td>29</td>\n",
              "      <td>29</td>\n",
              "      <td>29</td>\n",
              "      <td>29</td>\n",
              "    </tr>\n",
              "    <tr>\n",
              "      <th>8</th>\n",
              "      <td>555</td>\n",
              "      <td>555</td>\n",
              "      <td>555</td>\n",
              "      <td>555</td>\n",
              "      <td>555</td>\n",
              "      <td>555</td>\n",
              "      <td>555</td>\n",
              "      <td>555</td>\n",
              "      <td>555</td>\n",
              "      <td>555</td>\n",
              "      <td>555</td>\n",
              "      <td>555</td>\n",
              "      <td>555</td>\n",
              "    </tr>\n",
              "    <tr>\n",
              "      <th>9</th>\n",
              "      <td>1394</td>\n",
              "      <td>1394</td>\n",
              "      <td>1394</td>\n",
              "      <td>1394</td>\n",
              "      <td>1394</td>\n",
              "      <td>1394</td>\n",
              "      <td>1394</td>\n",
              "      <td>1394</td>\n",
              "      <td>1394</td>\n",
              "      <td>1394</td>\n",
              "      <td>1394</td>\n",
              "      <td>1394</td>\n",
              "      <td>1394</td>\n",
              "    </tr>\n",
              "    <tr>\n",
              "      <th>10</th>\n",
              "      <td>2226</td>\n",
              "      <td>2226</td>\n",
              "      <td>2226</td>\n",
              "      <td>2226</td>\n",
              "      <td>2226</td>\n",
              "      <td>2226</td>\n",
              "      <td>2226</td>\n",
              "      <td>2226</td>\n",
              "      <td>2226</td>\n",
              "      <td>2226</td>\n",
              "      <td>2226</td>\n",
              "      <td>2226</td>\n",
              "      <td>2226</td>\n",
              "    </tr>\n",
              "    <tr>\n",
              "      <th>11</th>\n",
              "      <td>2277</td>\n",
              "      <td>2277</td>\n",
              "      <td>2277</td>\n",
              "      <td>2277</td>\n",
              "      <td>2277</td>\n",
              "      <td>2277</td>\n",
              "      <td>2277</td>\n",
              "      <td>2277</td>\n",
              "      <td>2277</td>\n",
              "      <td>2277</td>\n",
              "      <td>2277</td>\n",
              "      <td>2277</td>\n",
              "      <td>2277</td>\n",
              "    </tr>\n",
              "    <tr>\n",
              "      <th>12</th>\n",
              "      <td>3130</td>\n",
              "      <td>3130</td>\n",
              "      <td>3130</td>\n",
              "      <td>3130</td>\n",
              "      <td>3130</td>\n",
              "      <td>3130</td>\n",
              "      <td>3130</td>\n",
              "      <td>3130</td>\n",
              "      <td>3130</td>\n",
              "      <td>3130</td>\n",
              "      <td>3130</td>\n",
              "      <td>3130</td>\n",
              "      <td>3130</td>\n",
              "    </tr>\n",
              "    <tr>\n",
              "      <th>13</th>\n",
              "      <td>2637</td>\n",
              "      <td>2637</td>\n",
              "      <td>2637</td>\n",
              "      <td>2637</td>\n",
              "      <td>2637</td>\n",
              "      <td>2637</td>\n",
              "      <td>2637</td>\n",
              "      <td>2637</td>\n",
              "      <td>2637</td>\n",
              "      <td>2637</td>\n",
              "      <td>2637</td>\n",
              "      <td>2637</td>\n",
              "      <td>2637</td>\n",
              "    </tr>\n",
              "    <tr>\n",
              "      <th>14</th>\n",
              "      <td>2275</td>\n",
              "      <td>2275</td>\n",
              "      <td>2275</td>\n",
              "      <td>2275</td>\n",
              "      <td>2275</td>\n",
              "      <td>2275</td>\n",
              "      <td>2275</td>\n",
              "      <td>2275</td>\n",
              "      <td>2275</td>\n",
              "      <td>2275</td>\n",
              "      <td>2275</td>\n",
              "      <td>2275</td>\n",
              "      <td>2275</td>\n",
              "    </tr>\n",
              "    <tr>\n",
              "      <th>15</th>\n",
              "      <td>2038</td>\n",
              "      <td>2038</td>\n",
              "      <td>2038</td>\n",
              "      <td>2038</td>\n",
              "      <td>2038</td>\n",
              "      <td>2038</td>\n",
              "      <td>2038</td>\n",
              "      <td>2038</td>\n",
              "      <td>2038</td>\n",
              "      <td>2038</td>\n",
              "      <td>2038</td>\n",
              "      <td>2038</td>\n",
              "      <td>2038</td>\n",
              "    </tr>\n",
              "    <tr>\n",
              "      <th>16</th>\n",
              "      <td>1100</td>\n",
              "      <td>1100</td>\n",
              "      <td>1100</td>\n",
              "      <td>1100</td>\n",
              "      <td>1100</td>\n",
              "      <td>1100</td>\n",
              "      <td>1100</td>\n",
              "      <td>1100</td>\n",
              "      <td>1100</td>\n",
              "      <td>1100</td>\n",
              "      <td>1100</td>\n",
              "      <td>1100</td>\n",
              "      <td>1100</td>\n",
              "    </tr>\n",
              "    <tr>\n",
              "      <th>17</th>\n",
              "      <td>544</td>\n",
              "      <td>544</td>\n",
              "      <td>544</td>\n",
              "      <td>544</td>\n",
              "      <td>544</td>\n",
              "      <td>544</td>\n",
              "      <td>544</td>\n",
              "      <td>544</td>\n",
              "      <td>544</td>\n",
              "      <td>544</td>\n",
              "      <td>544</td>\n",
              "      <td>544</td>\n",
              "      <td>544</td>\n",
              "    </tr>\n",
              "    <tr>\n",
              "      <th>18</th>\n",
              "      <td>169</td>\n",
              "      <td>169</td>\n",
              "      <td>169</td>\n",
              "      <td>169</td>\n",
              "      <td>169</td>\n",
              "      <td>169</td>\n",
              "      <td>169</td>\n",
              "      <td>169</td>\n",
              "      <td>169</td>\n",
              "      <td>169</td>\n",
              "      <td>169</td>\n",
              "      <td>169</td>\n",
              "      <td>169</td>\n",
              "    </tr>\n",
              "    <tr>\n",
              "      <th>19</th>\n",
              "      <td>144</td>\n",
              "      <td>144</td>\n",
              "      <td>144</td>\n",
              "      <td>144</td>\n",
              "      <td>144</td>\n",
              "      <td>144</td>\n",
              "      <td>144</td>\n",
              "      <td>144</td>\n",
              "      <td>144</td>\n",
              "      <td>144</td>\n",
              "      <td>144</td>\n",
              "      <td>144</td>\n",
              "      <td>144</td>\n",
              "    </tr>\n",
              "    <tr>\n",
              "      <th>20</th>\n",
              "      <td>18</td>\n",
              "      <td>18</td>\n",
              "      <td>18</td>\n",
              "      <td>18</td>\n",
              "      <td>18</td>\n",
              "      <td>18</td>\n",
              "      <td>18</td>\n",
              "      <td>18</td>\n",
              "      <td>18</td>\n",
              "      <td>18</td>\n",
              "      <td>18</td>\n",
              "      <td>18</td>\n",
              "      <td>18</td>\n",
              "    </tr>\n",
              "  </tbody>\n",
              "</table>\n",
              "</div>"
            ],
            "text/plain": [
              "              InvoiceNo  StockCode  ...  Invoice_Time  Invoice_Day\n",
              "Invoice_Hour                        ...                           \n",
              "6                     1          1  ...             1            1\n",
              "7                    29         29  ...            29           29\n",
              "8                   555        555  ...           555          555\n",
              "9                  1394       1394  ...          1394         1394\n",
              "10                 2226       2226  ...          2226         2226\n",
              "11                 2277       2277  ...          2277         2277\n",
              "12                 3130       3130  ...          3130         3130\n",
              "13                 2637       2637  ...          2637         2637\n",
              "14                 2275       2275  ...          2275         2275\n",
              "15                 2038       2038  ...          2038         2038\n",
              "16                 1100       1100  ...          1100         1100\n",
              "17                  544        544  ...           544          544\n",
              "18                  169        169  ...           169          169\n",
              "19                  144        144  ...           144          144\n",
              "20                   18         18  ...            18           18\n",
              "\n",
              "[15 rows x 13 columns]"
            ]
          },
          "metadata": {},
          "execution_count": 46
        }
      ]
    },
    {
      "cell_type": "code",
      "metadata": {
        "colab": {
          "base_uri": "https://localhost:8080/",
          "height": 437
        },
        "id": "18743wUxGtzp",
        "outputId": "53304ed6-08cc-4a87-d780-ced7d09598bb"
      },
      "source": [
        "Invoice_count_hour = df.groupby(['Invoice_Hour', 'InvoiceNo']).count().reset_index().groupby(['Invoice_Hour']).count().reset_index()\n",
        "plt.figure(figsize=(10,6))\n",
        "sns.set(style=\"dark\", context=\"talk\")\n",
        "sns.barplot(data = Invoice_count_hour, x = 'Invoice_Hour', y = 'InvoiceNo', color = '#5d960b')\n",
        "plt.xlabel('Hora', labelpad=10, fontsize = 18)\n",
        "plt.ylabel('Invoices', labelpad=10, fontsize = 18)\n",
        "plt.gca().get_yaxis().set_major_formatter(plt.FuncFormatter(format_string))\n",
        "plt.title('Cantidad de Invoices por hora', fontdict= {'fontsize': 20, 'fontweight':'bold'})\n",
        "plt.savefig('/content/drive/MyDrive/Modulo7/Tarea/final3.png')"
      ],
      "execution_count": null,
      "outputs": [
        {
          "output_type": "display_data",
          "data": {
            "image/png": "[encoded data removed]",
            "text/plain": [
              "<Figure size 720x432 with 1 Axes>"
            ]
          },
          "metadata": {}
        }
      ]
    },
    {
      "cell_type": "code",
      "metadata": {
        "id": "x4svlelcRYWZ"
      },
      "source": [
        "# Se aconsejaría refuerzas en las tiendas entre 10am - 3pm. "
      ],
      "execution_count": null,
      "outputs": []
    },
    {
      "cell_type": "code",
      "metadata": {
        "id": "cpUaoR8dLGkt"
      },
      "source": [
        "plt.gca().yaxis.set_major_formatter(plt.matplotlib.ticker.StrMethodFormatter('{x:,.0f}'))\n"
      ],
      "execution_count": null,
      "outputs": []
    },
    {
      "cell_type": "code",
      "metadata": {
        "id": "DD6LbZCzK_Zn"
      },
      "source": [
        "# funcion para poner seperador (.) de miles en etiquetas de los ejes en el grafico. \n",
        "def format_string(x, pos):\n",
        "        tick_str = \"\"\n",
        "        x = str(int(x))\n",
        "        count = 1\n",
        "        for i in range(len(x), -1, -1):\n",
        "            if count % 3 == 0 and len(x) > 3 and (i-1) != 0 and (i-1) != -1:\n",
        "                tick_str = \".\" + x[i-1] + tick_str\n",
        "            elif (i-1) != -1:\n",
        "                tick_str = x[i-1] + tick_str\n",
        "            count = count + 1\n",
        "\n",
        "        return tick_str"
      ],
      "execution_count": 168,
      "outputs": []
    },
    {
      "cell_type": "markdown",
      "metadata": {
        "id": "J3E19bacO-wj"
      },
      "source": [
        "## Frecuencia de compra"
      ]
    },
    {
      "cell_type": "code",
      "metadata": {
        "id": "zVQllN4EKBs9"
      },
      "source": [
        "# ¿Qué frecuencia de compra tiene un cliente de alta frecuencia? \n",
        "# ¿ Cuánto debería gastar un cliente para considerarlo sobre la media?   "
      ],
      "execution_count": null,
      "outputs": []
    },
    {
      "cell_type": "code",
      "metadata": {
        "colab": {
          "base_uri": "https://localhost:8080/"
        },
        "id": "IKviCr4SKTba",
        "outputId": "06099c8f-7437-4b3c-d5a5-120b8c2d3e88"
      },
      "source": [
        "df['CustomerID'].nunique() # 4339 clientes"
      ],
      "execution_count": 37,
      "outputs": [
        {
          "output_type": "execute_result",
          "data": {
            "text/plain": [
              "4339"
            ]
          },
          "metadata": {},
          "execution_count": 37
        }
      ]
    },
    {
      "cell_type": "code",
      "metadata": {
        "id": "VCRS21FNQQeb"
      },
      "source": [
        "x = df.groupby(['CustomerID', 'InvoiceNo']).count().reset_index().groupby('CustomerID').count()"
      ],
      "execution_count": 38,
      "outputs": []
    },
    {
      "cell_type": "code",
      "metadata": {
        "colab": {
          "base_uri": "https://localhost:8080/",
          "height": 475
        },
        "id": "2Jvr5IprLR7c",
        "outputId": "5690d25b-98f9-4c62-b482-9f6b00428926"
      },
      "source": [
        "x"
      ],
      "execution_count": 39,
      "outputs": [
        {
          "output_type": "execute_result",
          "data": {
            "text/html": [
              "<div>\n",
              "<style scoped>\n",
              "    .dataframe tbody tr th:only-of-type {\n",
              "        vertical-align: middle;\n",
              "    }\n",
              "\n",
              "    .dataframe tbody tr th {\n",
              "        vertical-align: top;\n",
              "    }\n",
              "\n",
              "    .dataframe thead th {\n",
              "        text-align: right;\n",
              "    }\n",
              "</style>\n",
              "<table border=\"1\" class=\"dataframe\">\n",
              "  <thead>\n",
              "    <tr style=\"text-align: right;\">\n",
              "      <th></th>\n",
              "      <th>InvoiceNo</th>\n",
              "      <th>StockCode</th>\n",
              "      <th>Description</th>\n",
              "      <th>Quantity</th>\n",
              "      <th>InvoiceDate</th>\n",
              "      <th>UnitPrice</th>\n",
              "      <th>Country</th>\n",
              "      <th>InvoiceDate_new</th>\n",
              "      <th>Invoice_DayofWeek</th>\n",
              "      <th>Invoice_Hour</th>\n",
              "      <th>Invoice_month</th>\n",
              "      <th>Invoice_Time</th>\n",
              "      <th>Invoice_Day</th>\n",
              "    </tr>\n",
              "    <tr>\n",
              "      <th>CustomerID</th>\n",
              "      <th></th>\n",
              "      <th></th>\n",
              "      <th></th>\n",
              "      <th></th>\n",
              "      <th></th>\n",
              "      <th></th>\n",
              "      <th></th>\n",
              "      <th></th>\n",
              "      <th></th>\n",
              "      <th></th>\n",
              "      <th></th>\n",
              "      <th></th>\n",
              "      <th></th>\n",
              "    </tr>\n",
              "  </thead>\n",
              "  <tbody>\n",
              "    <tr>\n",
              "      <th>12346.0</th>\n",
              "      <td>1</td>\n",
              "      <td>1</td>\n",
              "      <td>1</td>\n",
              "      <td>1</td>\n",
              "      <td>1</td>\n",
              "      <td>1</td>\n",
              "      <td>1</td>\n",
              "      <td>1</td>\n",
              "      <td>1</td>\n",
              "      <td>1</td>\n",
              "      <td>1</td>\n",
              "      <td>1</td>\n",
              "      <td>1</td>\n",
              "    </tr>\n",
              "    <tr>\n",
              "      <th>12347.0</th>\n",
              "      <td>7</td>\n",
              "      <td>7</td>\n",
              "      <td>7</td>\n",
              "      <td>7</td>\n",
              "      <td>7</td>\n",
              "      <td>7</td>\n",
              "      <td>7</td>\n",
              "      <td>7</td>\n",
              "      <td>7</td>\n",
              "      <td>7</td>\n",
              "      <td>7</td>\n",
              "      <td>7</td>\n",
              "      <td>7</td>\n",
              "    </tr>\n",
              "    <tr>\n",
              "      <th>12348.0</th>\n",
              "      <td>4</td>\n",
              "      <td>4</td>\n",
              "      <td>4</td>\n",
              "      <td>4</td>\n",
              "      <td>4</td>\n",
              "      <td>4</td>\n",
              "      <td>4</td>\n",
              "      <td>4</td>\n",
              "      <td>4</td>\n",
              "      <td>4</td>\n",
              "      <td>4</td>\n",
              "      <td>4</td>\n",
              "      <td>4</td>\n",
              "    </tr>\n",
              "    <tr>\n",
              "      <th>12349.0</th>\n",
              "      <td>1</td>\n",
              "      <td>1</td>\n",
              "      <td>1</td>\n",
              "      <td>1</td>\n",
              "      <td>1</td>\n",
              "      <td>1</td>\n",
              "      <td>1</td>\n",
              "      <td>1</td>\n",
              "      <td>1</td>\n",
              "      <td>1</td>\n",
              "      <td>1</td>\n",
              "      <td>1</td>\n",
              "      <td>1</td>\n",
              "    </tr>\n",
              "    <tr>\n",
              "      <th>12350.0</th>\n",
              "      <td>1</td>\n",
              "      <td>1</td>\n",
              "      <td>1</td>\n",
              "      <td>1</td>\n",
              "      <td>1</td>\n",
              "      <td>1</td>\n",
              "      <td>1</td>\n",
              "      <td>1</td>\n",
              "      <td>1</td>\n",
              "      <td>1</td>\n",
              "      <td>1</td>\n",
              "      <td>1</td>\n",
              "      <td>1</td>\n",
              "    </tr>\n",
              "    <tr>\n",
              "      <th>...</th>\n",
              "      <td>...</td>\n",
              "      <td>...</td>\n",
              "      <td>...</td>\n",
              "      <td>...</td>\n",
              "      <td>...</td>\n",
              "      <td>...</td>\n",
              "      <td>...</td>\n",
              "      <td>...</td>\n",
              "      <td>...</td>\n",
              "      <td>...</td>\n",
              "      <td>...</td>\n",
              "      <td>...</td>\n",
              "      <td>...</td>\n",
              "    </tr>\n",
              "    <tr>\n",
              "      <th>18280.0</th>\n",
              "      <td>1</td>\n",
              "      <td>1</td>\n",
              "      <td>1</td>\n",
              "      <td>1</td>\n",
              "      <td>1</td>\n",
              "      <td>1</td>\n",
              "      <td>1</td>\n",
              "      <td>1</td>\n",
              "      <td>1</td>\n",
              "      <td>1</td>\n",
              "      <td>1</td>\n",
              "      <td>1</td>\n",
              "      <td>1</td>\n",
              "    </tr>\n",
              "    <tr>\n",
              "      <th>18281.0</th>\n",
              "      <td>1</td>\n",
              "      <td>1</td>\n",
              "      <td>1</td>\n",
              "      <td>1</td>\n",
              "      <td>1</td>\n",
              "      <td>1</td>\n",
              "      <td>1</td>\n",
              "      <td>1</td>\n",
              "      <td>1</td>\n",
              "      <td>1</td>\n",
              "      <td>1</td>\n",
              "      <td>1</td>\n",
              "      <td>1</td>\n",
              "    </tr>\n",
              "    <tr>\n",
              "      <th>18282.0</th>\n",
              "      <td>2</td>\n",
              "      <td>2</td>\n",
              "      <td>2</td>\n",
              "      <td>2</td>\n",
              "      <td>2</td>\n",
              "      <td>2</td>\n",
              "      <td>2</td>\n",
              "      <td>2</td>\n",
              "      <td>2</td>\n",
              "      <td>2</td>\n",
              "      <td>2</td>\n",
              "      <td>2</td>\n",
              "      <td>2</td>\n",
              "    </tr>\n",
              "    <tr>\n",
              "      <th>18283.0</th>\n",
              "      <td>16</td>\n",
              "      <td>16</td>\n",
              "      <td>16</td>\n",
              "      <td>16</td>\n",
              "      <td>16</td>\n",
              "      <td>16</td>\n",
              "      <td>16</td>\n",
              "      <td>16</td>\n",
              "      <td>16</td>\n",
              "      <td>16</td>\n",
              "      <td>16</td>\n",
              "      <td>16</td>\n",
              "      <td>16</td>\n",
              "    </tr>\n",
              "    <tr>\n",
              "      <th>18287.0</th>\n",
              "      <td>3</td>\n",
              "      <td>3</td>\n",
              "      <td>3</td>\n",
              "      <td>3</td>\n",
              "      <td>3</td>\n",
              "      <td>3</td>\n",
              "      <td>3</td>\n",
              "      <td>3</td>\n",
              "      <td>3</td>\n",
              "      <td>3</td>\n",
              "      <td>3</td>\n",
              "      <td>3</td>\n",
              "      <td>3</td>\n",
              "    </tr>\n",
              "  </tbody>\n",
              "</table>\n",
              "<p>4339 rows × 13 columns</p>\n",
              "</div>"
            ],
            "text/plain": [
              "            InvoiceNo  StockCode  ...  Invoice_Time  Invoice_Day\n",
              "CustomerID                        ...                           \n",
              "12346.0             1          1  ...             1            1\n",
              "12347.0             7          7  ...             7            7\n",
              "12348.0             4          4  ...             4            4\n",
              "12349.0             1          1  ...             1            1\n",
              "12350.0             1          1  ...             1            1\n",
              "...               ...        ...  ...           ...          ...\n",
              "18280.0             1          1  ...             1            1\n",
              "18281.0             1          1  ...             1            1\n",
              "18282.0             2          2  ...             2            2\n",
              "18283.0            16         16  ...            16           16\n",
              "18287.0             3          3  ...             3            3\n",
              "\n",
              "[4339 rows x 13 columns]"
            ]
          },
          "metadata": {},
          "execution_count": 39
        }
      ]
    },
    {
      "cell_type": "code",
      "metadata": {
        "colab": {
          "base_uri": "https://localhost:8080/"
        },
        "id": "zDxU0DtBK89e",
        "outputId": "ff79809c-053d-49f9-ae44-22783c7fe112"
      },
      "source": [
        "# clientes con fecuencia de 1. \n",
        "una_vez = x[x['Invoice_Day'] == 1].shape[0]\n",
        "\n",
        "print(una_vez / 4339 *100,'% tiene una frecuencia de 1.')"
      ],
      "execution_count": 40,
      "outputs": [
        {
          "output_type": "stream",
          "name": "stdout",
          "text": [
            "34.43189675040332 % tiene una frecuencia de 1.\n"
          ]
        }
      ]
    },
    {
      "cell_type": "code",
      "metadata": {
        "colab": {
          "base_uri": "https://localhost:8080/"
        },
        "id": "GZHIXZSnYraQ",
        "outputId": "d771cb14-d170-4ea0-b8d2-d765b8ddc7d2"
      },
      "source": [
        "# clientes con frecuencia de 1,2,3 veces. \n",
        "una_tres_veces = x[x['Invoice_Day'].isin([1,2,3])].shape[0]\n",
        "\n",
        "print(una_tres_veces / 4339 *100,'% tiene una frecuencia de 1,2,3 veces.')"
      ],
      "execution_count": 41,
      "outputs": [
        {
          "output_type": "stream",
          "name": "stdout",
          "text": [
            "65.38372896980871 % tiene una frecuencia de 1,2,3 veces.\n"
          ]
        }
      ]
    },
    {
      "cell_type": "code",
      "metadata": {
        "colab": {
          "base_uri": "https://localhost:8080/",
          "height": 475
        },
        "id": "4f1JvgQhb04i",
        "outputId": "11b7ef47-fc21-4700-a184-9e95223fd778"
      },
      "source": [
        "# filtrar 10% de clientes con mas frecuencia: \n",
        "\n",
        "x.sort_values(by = 'Invoice_Day', ascending = False).iloc[0:434,:]"
      ],
      "execution_count": 42,
      "outputs": [
        {
          "output_type": "execute_result",
          "data": {
            "text/html": [
              "<div>\n",
              "<style scoped>\n",
              "    .dataframe tbody tr th:only-of-type {\n",
              "        vertical-align: middle;\n",
              "    }\n",
              "\n",
              "    .dataframe tbody tr th {\n",
              "        vertical-align: top;\n",
              "    }\n",
              "\n",
              "    .dataframe thead th {\n",
              "        text-align: right;\n",
              "    }\n",
              "</style>\n",
              "<table border=\"1\" class=\"dataframe\">\n",
              "  <thead>\n",
              "    <tr style=\"text-align: right;\">\n",
              "      <th></th>\n",
              "      <th>InvoiceNo</th>\n",
              "      <th>StockCode</th>\n",
              "      <th>Description</th>\n",
              "      <th>Quantity</th>\n",
              "      <th>InvoiceDate</th>\n",
              "      <th>UnitPrice</th>\n",
              "      <th>Country</th>\n",
              "      <th>InvoiceDate_new</th>\n",
              "      <th>Invoice_DayofWeek</th>\n",
              "      <th>Invoice_Hour</th>\n",
              "      <th>Invoice_month</th>\n",
              "      <th>Invoice_Time</th>\n",
              "      <th>Invoice_Day</th>\n",
              "    </tr>\n",
              "    <tr>\n",
              "      <th>CustomerID</th>\n",
              "      <th></th>\n",
              "      <th></th>\n",
              "      <th></th>\n",
              "      <th></th>\n",
              "      <th></th>\n",
              "      <th></th>\n",
              "      <th></th>\n",
              "      <th></th>\n",
              "      <th></th>\n",
              "      <th></th>\n",
              "      <th></th>\n",
              "      <th></th>\n",
              "      <th></th>\n",
              "    </tr>\n",
              "  </thead>\n",
              "  <tbody>\n",
              "    <tr>\n",
              "      <th>12748.0</th>\n",
              "      <td>210</td>\n",
              "      <td>210</td>\n",
              "      <td>210</td>\n",
              "      <td>210</td>\n",
              "      <td>210</td>\n",
              "      <td>210</td>\n",
              "      <td>210</td>\n",
              "      <td>210</td>\n",
              "      <td>210</td>\n",
              "      <td>210</td>\n",
              "      <td>210</td>\n",
              "      <td>210</td>\n",
              "      <td>210</td>\n",
              "    </tr>\n",
              "    <tr>\n",
              "      <th>14911.0</th>\n",
              "      <td>201</td>\n",
              "      <td>201</td>\n",
              "      <td>201</td>\n",
              "      <td>201</td>\n",
              "      <td>201</td>\n",
              "      <td>201</td>\n",
              "      <td>201</td>\n",
              "      <td>201</td>\n",
              "      <td>201</td>\n",
              "      <td>201</td>\n",
              "      <td>201</td>\n",
              "      <td>201</td>\n",
              "      <td>201</td>\n",
              "    </tr>\n",
              "    <tr>\n",
              "      <th>17841.0</th>\n",
              "      <td>124</td>\n",
              "      <td>124</td>\n",
              "      <td>124</td>\n",
              "      <td>124</td>\n",
              "      <td>124</td>\n",
              "      <td>124</td>\n",
              "      <td>124</td>\n",
              "      <td>124</td>\n",
              "      <td>124</td>\n",
              "      <td>124</td>\n",
              "      <td>124</td>\n",
              "      <td>124</td>\n",
              "      <td>124</td>\n",
              "    </tr>\n",
              "    <tr>\n",
              "      <th>13089.0</th>\n",
              "      <td>97</td>\n",
              "      <td>97</td>\n",
              "      <td>97</td>\n",
              "      <td>97</td>\n",
              "      <td>97</td>\n",
              "      <td>97</td>\n",
              "      <td>97</td>\n",
              "      <td>97</td>\n",
              "      <td>97</td>\n",
              "      <td>97</td>\n",
              "      <td>97</td>\n",
              "      <td>97</td>\n",
              "      <td>97</td>\n",
              "    </tr>\n",
              "    <tr>\n",
              "      <th>14606.0</th>\n",
              "      <td>93</td>\n",
              "      <td>93</td>\n",
              "      <td>93</td>\n",
              "      <td>93</td>\n",
              "      <td>93</td>\n",
              "      <td>93</td>\n",
              "      <td>93</td>\n",
              "      <td>93</td>\n",
              "      <td>93</td>\n",
              "      <td>93</td>\n",
              "      <td>93</td>\n",
              "      <td>93</td>\n",
              "      <td>93</td>\n",
              "    </tr>\n",
              "    <tr>\n",
              "      <th>...</th>\n",
              "      <td>...</td>\n",
              "      <td>...</td>\n",
              "      <td>...</td>\n",
              "      <td>...</td>\n",
              "      <td>...</td>\n",
              "      <td>...</td>\n",
              "      <td>...</td>\n",
              "      <td>...</td>\n",
              "      <td>...</td>\n",
              "      <td>...</td>\n",
              "      <td>...</td>\n",
              "      <td>...</td>\n",
              "      <td>...</td>\n",
              "    </tr>\n",
              "    <tr>\n",
              "      <th>16954.0</th>\n",
              "      <td>9</td>\n",
              "      <td>9</td>\n",
              "      <td>9</td>\n",
              "      <td>9</td>\n",
              "      <td>9</td>\n",
              "      <td>9</td>\n",
              "      <td>9</td>\n",
              "      <td>9</td>\n",
              "      <td>9</td>\n",
              "      <td>9</td>\n",
              "      <td>9</td>\n",
              "      <td>9</td>\n",
              "      <td>9</td>\n",
              "    </tr>\n",
              "    <tr>\n",
              "      <th>17049.0</th>\n",
              "      <td>9</td>\n",
              "      <td>9</td>\n",
              "      <td>9</td>\n",
              "      <td>9</td>\n",
              "      <td>9</td>\n",
              "      <td>9</td>\n",
              "      <td>9</td>\n",
              "      <td>9</td>\n",
              "      <td>9</td>\n",
              "      <td>9</td>\n",
              "      <td>9</td>\n",
              "      <td>9</td>\n",
              "      <td>9</td>\n",
              "    </tr>\n",
              "    <tr>\n",
              "      <th>15628.0</th>\n",
              "      <td>9</td>\n",
              "      <td>9</td>\n",
              "      <td>9</td>\n",
              "      <td>9</td>\n",
              "      <td>9</td>\n",
              "      <td>9</td>\n",
              "      <td>9</td>\n",
              "      <td>9</td>\n",
              "      <td>9</td>\n",
              "      <td>9</td>\n",
              "      <td>9</td>\n",
              "      <td>9</td>\n",
              "      <td>9</td>\n",
              "    </tr>\n",
              "    <tr>\n",
              "      <th>14410.0</th>\n",
              "      <td>9</td>\n",
              "      <td>9</td>\n",
              "      <td>9</td>\n",
              "      <td>9</td>\n",
              "      <td>9</td>\n",
              "      <td>9</td>\n",
              "      <td>9</td>\n",
              "      <td>9</td>\n",
              "      <td>9</td>\n",
              "      <td>9</td>\n",
              "      <td>9</td>\n",
              "      <td>9</td>\n",
              "      <td>9</td>\n",
              "    </tr>\n",
              "    <tr>\n",
              "      <th>15059.0</th>\n",
              "      <td>9</td>\n",
              "      <td>9</td>\n",
              "      <td>9</td>\n",
              "      <td>9</td>\n",
              "      <td>9</td>\n",
              "      <td>9</td>\n",
              "      <td>9</td>\n",
              "      <td>9</td>\n",
              "      <td>9</td>\n",
              "      <td>9</td>\n",
              "      <td>9</td>\n",
              "      <td>9</td>\n",
              "      <td>9</td>\n",
              "    </tr>\n",
              "  </tbody>\n",
              "</table>\n",
              "<p>434 rows × 13 columns</p>\n",
              "</div>"
            ],
            "text/plain": [
              "            InvoiceNo  StockCode  ...  Invoice_Time  Invoice_Day\n",
              "CustomerID                        ...                           \n",
              "12748.0           210        210  ...           210          210\n",
              "14911.0           201        201  ...           201          201\n",
              "17841.0           124        124  ...           124          124\n",
              "13089.0            97         97  ...            97           97\n",
              "14606.0            93         93  ...            93           93\n",
              "...               ...        ...  ...           ...          ...\n",
              "16954.0             9          9  ...             9            9\n",
              "17049.0             9          9  ...             9            9\n",
              "15628.0             9          9  ...             9            9\n",
              "14410.0             9          9  ...             9            9\n",
              "15059.0             9          9  ...             9            9\n",
              "\n",
              "[434 rows x 13 columns]"
            ]
          },
          "metadata": {},
          "execution_count": 42
        }
      ]
    },
    {
      "cell_type": "code",
      "metadata": {
        "colab": {
          "base_uri": "https://localhost:8080/",
          "height": 320
        },
        "id": "ELoRncr4R2Wz",
        "outputId": "7800829f-3eec-4d33-d066-d66926647077"
      },
      "source": [
        "x.sort_values(by = 'Invoice_Day', ascending = False).iloc[0:434,:].describe()"
      ],
      "execution_count": 43,
      "outputs": [
        {
          "output_type": "execute_result",
          "data": {
            "text/html": [
              "<div>\n",
              "<style scoped>\n",
              "    .dataframe tbody tr th:only-of-type {\n",
              "        vertical-align: middle;\n",
              "    }\n",
              "\n",
              "    .dataframe tbody tr th {\n",
              "        vertical-align: top;\n",
              "    }\n",
              "\n",
              "    .dataframe thead th {\n",
              "        text-align: right;\n",
              "    }\n",
              "</style>\n",
              "<table border=\"1\" class=\"dataframe\">\n",
              "  <thead>\n",
              "    <tr style=\"text-align: right;\">\n",
              "      <th></th>\n",
              "      <th>InvoiceNo</th>\n",
              "      <th>StockCode</th>\n",
              "      <th>Description</th>\n",
              "      <th>Quantity</th>\n",
              "      <th>InvoiceDate</th>\n",
              "      <th>UnitPrice</th>\n",
              "      <th>Country</th>\n",
              "      <th>InvoiceDate_new</th>\n",
              "      <th>Invoice_DayofWeek</th>\n",
              "      <th>Invoice_Hour</th>\n",
              "      <th>Invoice_month</th>\n",
              "      <th>Invoice_Time</th>\n",
              "      <th>Invoice_Day</th>\n",
              "    </tr>\n",
              "  </thead>\n",
              "  <tbody>\n",
              "    <tr>\n",
              "      <th>count</th>\n",
              "      <td>434.000000</td>\n",
              "      <td>434.000000</td>\n",
              "      <td>434.000000</td>\n",
              "      <td>434.000000</td>\n",
              "      <td>434.000000</td>\n",
              "      <td>434.000000</td>\n",
              "      <td>434.000000</td>\n",
              "      <td>434.000000</td>\n",
              "      <td>434.000000</td>\n",
              "      <td>434.000000</td>\n",
              "      <td>434.000000</td>\n",
              "      <td>434.000000</td>\n",
              "      <td>434.000000</td>\n",
              "    </tr>\n",
              "    <tr>\n",
              "      <th>mean</th>\n",
              "      <td>18.532258</td>\n",
              "      <td>18.532258</td>\n",
              "      <td>18.532258</td>\n",
              "      <td>18.532258</td>\n",
              "      <td>18.532258</td>\n",
              "      <td>18.532258</td>\n",
              "      <td>18.532258</td>\n",
              "      <td>18.532258</td>\n",
              "      <td>18.532258</td>\n",
              "      <td>18.532258</td>\n",
              "      <td>18.532258</td>\n",
              "      <td>18.532258</td>\n",
              "      <td>18.532258</td>\n",
              "    </tr>\n",
              "    <tr>\n",
              "      <th>std</th>\n",
              "      <td>18.269730</td>\n",
              "      <td>18.269730</td>\n",
              "      <td>18.269730</td>\n",
              "      <td>18.269730</td>\n",
              "      <td>18.269730</td>\n",
              "      <td>18.269730</td>\n",
              "      <td>18.269730</td>\n",
              "      <td>18.269730</td>\n",
              "      <td>18.269730</td>\n",
              "      <td>18.269730</td>\n",
              "      <td>18.269730</td>\n",
              "      <td>18.269730</td>\n",
              "      <td>18.269730</td>\n",
              "    </tr>\n",
              "    <tr>\n",
              "      <th>min</th>\n",
              "      <td>9.000000</td>\n",
              "      <td>9.000000</td>\n",
              "      <td>9.000000</td>\n",
              "      <td>9.000000</td>\n",
              "      <td>9.000000</td>\n",
              "      <td>9.000000</td>\n",
              "      <td>9.000000</td>\n",
              "      <td>9.000000</td>\n",
              "      <td>9.000000</td>\n",
              "      <td>9.000000</td>\n",
              "      <td>9.000000</td>\n",
              "      <td>9.000000</td>\n",
              "      <td>9.000000</td>\n",
              "    </tr>\n",
              "    <tr>\n",
              "      <th>25%</th>\n",
              "      <td>11.000000</td>\n",
              "      <td>11.000000</td>\n",
              "      <td>11.000000</td>\n",
              "      <td>11.000000</td>\n",
              "      <td>11.000000</td>\n",
              "      <td>11.000000</td>\n",
              "      <td>11.000000</td>\n",
              "      <td>11.000000</td>\n",
              "      <td>11.000000</td>\n",
              "      <td>11.000000</td>\n",
              "      <td>11.000000</td>\n",
              "      <td>11.000000</td>\n",
              "      <td>11.000000</td>\n",
              "    </tr>\n",
              "    <tr>\n",
              "      <th>50%</th>\n",
              "      <td>13.000000</td>\n",
              "      <td>13.000000</td>\n",
              "      <td>13.000000</td>\n",
              "      <td>13.000000</td>\n",
              "      <td>13.000000</td>\n",
              "      <td>13.000000</td>\n",
              "      <td>13.000000</td>\n",
              "      <td>13.000000</td>\n",
              "      <td>13.000000</td>\n",
              "      <td>13.000000</td>\n",
              "      <td>13.000000</td>\n",
              "      <td>13.000000</td>\n",
              "      <td>13.000000</td>\n",
              "    </tr>\n",
              "    <tr>\n",
              "      <th>75%</th>\n",
              "      <td>19.000000</td>\n",
              "      <td>19.000000</td>\n",
              "      <td>19.000000</td>\n",
              "      <td>19.000000</td>\n",
              "      <td>19.000000</td>\n",
              "      <td>19.000000</td>\n",
              "      <td>19.000000</td>\n",
              "      <td>19.000000</td>\n",
              "      <td>19.000000</td>\n",
              "      <td>19.000000</td>\n",
              "      <td>19.000000</td>\n",
              "      <td>19.000000</td>\n",
              "      <td>19.000000</td>\n",
              "    </tr>\n",
              "    <tr>\n",
              "      <th>max</th>\n",
              "      <td>210.000000</td>\n",
              "      <td>210.000000</td>\n",
              "      <td>210.000000</td>\n",
              "      <td>210.000000</td>\n",
              "      <td>210.000000</td>\n",
              "      <td>210.000000</td>\n",
              "      <td>210.000000</td>\n",
              "      <td>210.000000</td>\n",
              "      <td>210.000000</td>\n",
              "      <td>210.000000</td>\n",
              "      <td>210.000000</td>\n",
              "      <td>210.000000</td>\n",
              "      <td>210.000000</td>\n",
              "    </tr>\n",
              "  </tbody>\n",
              "</table>\n",
              "</div>"
            ],
            "text/plain": [
              "        InvoiceNo   StockCode  ...  Invoice_Time  Invoice_Day\n",
              "count  434.000000  434.000000  ...    434.000000   434.000000\n",
              "mean    18.532258   18.532258  ...     18.532258    18.532258\n",
              "std     18.269730   18.269730  ...     18.269730    18.269730\n",
              "min      9.000000    9.000000  ...      9.000000     9.000000\n",
              "25%     11.000000   11.000000  ...     11.000000    11.000000\n",
              "50%     13.000000   13.000000  ...     13.000000    13.000000\n",
              "75%     19.000000   19.000000  ...     19.000000    19.000000\n",
              "max    210.000000  210.000000  ...    210.000000   210.000000\n",
              "\n",
              "[8 rows x 13 columns]"
            ]
          },
          "metadata": {},
          "execution_count": 43
        }
      ]
    },
    {
      "cell_type": "code",
      "metadata": {
        "colab": {
          "base_uri": "https://localhost:8080/",
          "height": 437
        },
        "id": "0AlHWvrkRAFj",
        "outputId": "ff13c59c-a7af-456d-bd3b-6211d27d1dc1"
      },
      "source": [
        "plt.figure(figsize=(10,6))\n",
        "x['Invoice_Day'].plot.hist(bins = 200, color = '#5d960b')\n",
        "plt.xlabel('Frecuencia de compra', labelpad=10, fontsize = 18)\n",
        "plt.title('Frecuencia de compra por cliente', fontdict= {'fontsize': 20, 'fontweight':'bold'})\n",
        "plt.xlim((0,20))\n",
        "plt.ylabel('Frequency (Histograma)', labelpad=10, fontsize = 18)\n",
        "plt.gca().get_yaxis().set_major_formatter(plt.FuncFormatter(format_string))\n",
        "plt.gca().xaxis.set_major_formatter(plt.matplotlib.ticker.StrMethodFormatter('{x:,.0f}'))\n",
        "\n",
        "plt.savefig('/content/drive/MyDrive/Modulo7/Tarea/pergunta3.png')"
      ],
      "execution_count": null,
      "outputs": [
        {
          "output_type": "display_data",
          "data": {
            "image/png": "[encoded data removed]",
            "text/plain": [
              "<Figure size 720x432 with 1 Axes>"
            ]
          },
          "metadata": {}
        }
      ]
    },
    {
      "cell_type": "markdown",
      "metadata": {
        "id": "cVH-_G8y_2o2"
      },
      "source": [
        "### ¿Qué frecuencia de compra tiene un cliente de alta frecuencia? ¿ Cuánto debería gastar un cliente para considerarlo sobre la media?   "
      ]
    },
    {
      "cell_type": "code",
      "metadata": {
        "id": "bLRQl-8IPKMq"
      },
      "source": [
        "# ¿Qué frecuencia de compra tiene un cliente de alta frecuencia? \n",
        "# ¿ Cuánto debería gastar un cliente para considerarlo sobre la media?   "
      ],
      "execution_count": null,
      "outputs": []
    },
    {
      "cell_type": "code",
      "metadata": {
        "id": "xdtR1rWgDElF"
      },
      "source": [
        "# Crear Nueva columna 'Total_gastado' = Quantity * Unitprice \n",
        "\n",
        "df['Total_gastado'] = df['Quantity'] * df['UnitPrice']"
      ],
      "execution_count": 44,
      "outputs": []
    },
    {
      "cell_type": "code",
      "metadata": {
        "id": "lsWl2xdIdcI8"
      },
      "source": [
        "numero_visitas = df.groupby(['CustomerID', 'InvoiceNo']).count().reset_index().groupby('CustomerID').count()['Invoice_Day']"
      ],
      "execution_count": 45,
      "outputs": []
    },
    {
      "cell_type": "code",
      "metadata": {
        "colab": {
          "base_uri": "https://localhost:8080/"
        },
        "id": "NdyNBOM3d2Ig",
        "outputId": "438aa998-6b6d-49cd-adea-5c1e73d78344"
      },
      "source": [
        "numero_visitas"
      ],
      "execution_count": 46,
      "outputs": [
        {
          "output_type": "execute_result",
          "data": {
            "text/plain": [
              "CustomerID\n",
              "12346.0     1\n",
              "12347.0     7\n",
              "12348.0     4\n",
              "12349.0     1\n",
              "12350.0     1\n",
              "           ..\n",
              "18280.0     1\n",
              "18281.0     1\n",
              "18282.0     2\n",
              "18283.0    16\n",
              "18287.0     3\n",
              "Name: Invoice_Day, Length: 4339, dtype: int64"
            ]
          },
          "metadata": {},
          "execution_count": 46
        }
      ]
    },
    {
      "cell_type": "code",
      "metadata": {
        "id": "B0wiaK72dTRP"
      },
      "source": [
        "Total_gastado = df.groupby(['CustomerID']).agg('sum')['Total_gastado']"
      ],
      "execution_count": 47,
      "outputs": []
    },
    {
      "cell_type": "code",
      "metadata": {
        "colab": {
          "base_uri": "https://localhost:8080/"
        },
        "id": "4trFxaJsefe2",
        "outputId": "9dcbdd2b-8ed0-4db5-80d0-23da6b135332"
      },
      "source": [
        "Total_gastado"
      ],
      "execution_count": 48,
      "outputs": [
        {
          "output_type": "execute_result",
          "data": {
            "text/plain": [
              "CustomerID\n",
              "12346.0    77183.60\n",
              "12347.0     4310.00\n",
              "12348.0     1797.24\n",
              "12349.0     1757.55\n",
              "12350.0      334.40\n",
              "             ...   \n",
              "18280.0      180.60\n",
              "18281.0       80.82\n",
              "18282.0      178.05\n",
              "18283.0     2094.88\n",
              "18287.0     1837.28\n",
              "Name: Total_gastado, Length: 4339, dtype: float64"
            ]
          },
          "metadata": {},
          "execution_count": 48
        }
      ]
    },
    {
      "cell_type": "code",
      "metadata": {
        "id": "2cHEApPTeEbK"
      },
      "source": [
        "promedio_gastado = pd.concat([Total_gastado, numero_visitas], axis = 1)"
      ],
      "execution_count": 49,
      "outputs": []
    },
    {
      "cell_type": "code",
      "metadata": {
        "id": "K1VY0Y18eyp5"
      },
      "source": [
        "promedio_gastado = promedio_gastado.rename(columns={'Invoice_Day':'Numero_visitas'})"
      ],
      "execution_count": 50,
      "outputs": []
    },
    {
      "cell_type": "code",
      "metadata": {
        "id": "6dkQT5jbeiDs"
      },
      "source": [
        "# Promedio gastado cada visita\n",
        "\n",
        "promedio_gastado['promedio_gastado'] = promedio_gastado['Total_gastado'] / promedio_gastado['Numero_visitas']\n"
      ],
      "execution_count": 51,
      "outputs": []
    },
    {
      "cell_type": "code",
      "metadata": {
        "colab": {
          "base_uri": "https://localhost:8080/",
          "height": 455
        },
        "id": "cpHjKOake314",
        "outputId": "d2e7e8dd-b59c-45c1-ac8a-0302cf775750"
      },
      "source": [
        "promedio_gastado"
      ],
      "execution_count": 52,
      "outputs": [
        {
          "output_type": "execute_result",
          "data": {
            "text/html": [
              "<div>\n",
              "<style scoped>\n",
              "    .dataframe tbody tr th:only-of-type {\n",
              "        vertical-align: middle;\n",
              "    }\n",
              "\n",
              "    .dataframe tbody tr th {\n",
              "        vertical-align: top;\n",
              "    }\n",
              "\n",
              "    .dataframe thead th {\n",
              "        text-align: right;\n",
              "    }\n",
              "</style>\n",
              "<table border=\"1\" class=\"dataframe\">\n",
              "  <thead>\n",
              "    <tr style=\"text-align: right;\">\n",
              "      <th></th>\n",
              "      <th>Total_gastado</th>\n",
              "      <th>Numero_visitas</th>\n",
              "      <th>promedio_gastado</th>\n",
              "    </tr>\n",
              "    <tr>\n",
              "      <th>CustomerID</th>\n",
              "      <th></th>\n",
              "      <th></th>\n",
              "      <th></th>\n",
              "    </tr>\n",
              "  </thead>\n",
              "  <tbody>\n",
              "    <tr>\n",
              "      <th>12346.0</th>\n",
              "      <td>77183.60</td>\n",
              "      <td>1</td>\n",
              "      <td>77183.600000</td>\n",
              "    </tr>\n",
              "    <tr>\n",
              "      <th>12347.0</th>\n",
              "      <td>4310.00</td>\n",
              "      <td>7</td>\n",
              "      <td>615.714286</td>\n",
              "    </tr>\n",
              "    <tr>\n",
              "      <th>12348.0</th>\n",
              "      <td>1797.24</td>\n",
              "      <td>4</td>\n",
              "      <td>449.310000</td>\n",
              "    </tr>\n",
              "    <tr>\n",
              "      <th>12349.0</th>\n",
              "      <td>1757.55</td>\n",
              "      <td>1</td>\n",
              "      <td>1757.550000</td>\n",
              "    </tr>\n",
              "    <tr>\n",
              "      <th>12350.0</th>\n",
              "      <td>334.40</td>\n",
              "      <td>1</td>\n",
              "      <td>334.400000</td>\n",
              "    </tr>\n",
              "    <tr>\n",
              "      <th>...</th>\n",
              "      <td>...</td>\n",
              "      <td>...</td>\n",
              "      <td>...</td>\n",
              "    </tr>\n",
              "    <tr>\n",
              "      <th>18280.0</th>\n",
              "      <td>180.60</td>\n",
              "      <td>1</td>\n",
              "      <td>180.600000</td>\n",
              "    </tr>\n",
              "    <tr>\n",
              "      <th>18281.0</th>\n",
              "      <td>80.82</td>\n",
              "      <td>1</td>\n",
              "      <td>80.820000</td>\n",
              "    </tr>\n",
              "    <tr>\n",
              "      <th>18282.0</th>\n",
              "      <td>178.05</td>\n",
              "      <td>2</td>\n",
              "      <td>89.025000</td>\n",
              "    </tr>\n",
              "    <tr>\n",
              "      <th>18283.0</th>\n",
              "      <td>2094.88</td>\n",
              "      <td>16</td>\n",
              "      <td>130.930000</td>\n",
              "    </tr>\n",
              "    <tr>\n",
              "      <th>18287.0</th>\n",
              "      <td>1837.28</td>\n",
              "      <td>3</td>\n",
              "      <td>612.426667</td>\n",
              "    </tr>\n",
              "  </tbody>\n",
              "</table>\n",
              "<p>4339 rows × 3 columns</p>\n",
              "</div>"
            ],
            "text/plain": [
              "            Total_gastado  Numero_visitas  promedio_gastado\n",
              "CustomerID                                                 \n",
              "12346.0          77183.60               1      77183.600000\n",
              "12347.0           4310.00               7        615.714286\n",
              "12348.0           1797.24               4        449.310000\n",
              "12349.0           1757.55               1       1757.550000\n",
              "12350.0            334.40               1        334.400000\n",
              "...                   ...             ...               ...\n",
              "18280.0            180.60               1        180.600000\n",
              "18281.0             80.82               1         80.820000\n",
              "18282.0            178.05               2         89.025000\n",
              "18283.0           2094.88              16        130.930000\n",
              "18287.0           1837.28               3        612.426667\n",
              "\n",
              "[4339 rows x 3 columns]"
            ]
          },
          "metadata": {},
          "execution_count": 52
        }
      ]
    },
    {
      "cell_type": "code",
      "metadata": {
        "colab": {
          "base_uri": "https://localhost:8080/"
        },
        "id": "OOXv_qSOfAVW",
        "outputId": "120ddd79-9497-494e-bb62-e8f9c6bcf009"
      },
      "source": [
        "promedio_gastado['Total_gastado'].describe()"
      ],
      "execution_count": 53,
      "outputs": [
        {
          "output_type": "execute_result",
          "data": {
            "text/plain": [
              "count      4339.000000\n",
              "mean       2053.793018\n",
              "std        8988.248381\n",
              "min           0.000000\n",
              "25%         307.245000\n",
              "50%         674.450000\n",
              "75%        1661.640000\n",
              "max      280206.020000\n",
              "Name: Total_gastado, dtype: float64"
            ]
          },
          "metadata": {},
          "execution_count": 53
        }
      ]
    },
    {
      "cell_type": "code",
      "metadata": {
        "colab": {
          "base_uri": "https://localhost:8080/"
        },
        "id": "D1Ul52fnfjoD",
        "outputId": "544b4a39-5d9a-4f4a-852f-8b0c654ccade"
      },
      "source": [
        "promedio_gastado['promedio_gastado'].describe()"
      ],
      "execution_count": 54,
      "outputs": [
        {
          "output_type": "execute_result",
          "data": {
            "text/plain": [
              "count     4339.000000\n",
              "mean       419.047702\n",
              "std       1796.320814\n",
              "min          0.000000\n",
              "25%        178.505000\n",
              "50%        293.690000\n",
              "75%        430.022500\n",
              "max      84236.250000\n",
              "Name: promedio_gastado, dtype: float64"
            ]
          },
          "metadata": {},
          "execution_count": 54
        }
      ]
    },
    {
      "cell_type": "code",
      "metadata": {
        "colab": {
          "base_uri": "https://localhost:8080/",
          "height": 283
        },
        "id": "uVURRpKkR9Bf",
        "outputId": "675c6ea5-c717-46d1-ae29-a8fe67967599"
      },
      "source": [
        "promedio_gastado['promedio_gastado'].plot.hist(bins = 750) #right skewed (positive skew)\n",
        "plt.xlim([0,2000])"
      ],
      "execution_count": 60,
      "outputs": [
        {
          "output_type": "execute_result",
          "data": {
            "text/plain": [
              "(0.0, 2000.0)"
            ]
          },
          "metadata": {},
          "execution_count": 60
        },
        {
          "output_type": "display_data",
          "data": {
            "image/png": "[encoded data removed]",
            "text/plain": [
              "<Figure size 432x288 with 1 Axes>"
            ]
          },
          "metadata": {
            "needs_background": "light"
          }
        }
      ]
    },
    {
      "cell_type": "code",
      "metadata": {
        "colab": {
          "base_uri": "https://localhost:8080/",
          "height": 283
        },
        "id": "59L_qYScSdtR",
        "outputId": "5cf9d59d-b238-4fc2-8764-c7e273c1ab20"
      },
      "source": [
        "promedio_gastado['Total_gastado'].plot.hist(bins = 1500) #right skewed (positive skew)\n",
        "plt.xlim([0,5000])"
      ],
      "execution_count": 68,
      "outputs": [
        {
          "output_type": "execute_result",
          "data": {
            "text/plain": [
              "(0.0, 5000.0)"
            ]
          },
          "metadata": {},
          "execution_count": 68
        },
        {
          "output_type": "display_data",
          "data": {
            "image/png": "[encoded data removed]",
            "text/plain": [
              "<Figure size 432x288 with 1 Axes>"
            ]
          },
          "metadata": {
            "needs_background": "light"
          }
        }
      ]
    },
    {
      "cell_type": "code",
      "metadata": {
        "colab": {
          "base_uri": "https://localhost:8080/",
          "height": 283
        },
        "id": "ZjeCWIIFTAa8",
        "outputId": "cdb3fcfc-dfb0-424d-bc65-50018da3dffa"
      },
      "source": [
        "promedio_gastado['Numero_visitas'].plot.hist(bins = 200) #right skewed (positive skew)\n",
        "plt.xlim([0,50])"
      ],
      "execution_count": 75,
      "outputs": [
        {
          "output_type": "execute_result",
          "data": {
            "text/plain": [
              "(0.0, 50.0)"
            ]
          },
          "metadata": {},
          "execution_count": 75
        },
        {
          "output_type": "display_data",
          "data": {
            "image/png": "[encoded data removed]",
            "text/plain": [
              "<Figure size 432x288 with 1 Axes>"
            ]
          },
          "metadata": {
            "needs_background": "light"
          }
        }
      ]
    },
    {
      "cell_type": "code",
      "metadata": {
        "colab": {
          "base_uri": "https://localhost:8080/"
        },
        "id": "3befALbsVAUQ",
        "outputId": "01d4d531-eac6-407b-bb87-f691722e1fc7"
      },
      "source": [
        "promedio_gastado.info()"
      ],
      "execution_count": 86,
      "outputs": [
        {
          "output_type": "stream",
          "name": "stdout",
          "text": [
            "<class 'pandas.core.frame.DataFrame'>\n",
            "Float64Index: 4339 entries, 12346.0 to 18287.0\n",
            "Data columns (total 3 columns):\n",
            " #   Column            Non-Null Count  Dtype  \n",
            "---  ------            --------------  -----  \n",
            " 0   Total_gastado     4339 non-null   float64\n",
            " 1   Numero_visitas    4339 non-null   int64  \n",
            " 2   promedio_gastado  4339 non-null   float64\n",
            "dtypes: float64(2), int64(1)\n",
            "memory usage: 135.6 KB\n"
          ]
        }
      ]
    },
    {
      "cell_type": "code",
      "metadata": {
        "id": "zecRnvkTrzdN"
      },
      "source": [
        "# Transformaciones Log"
      ],
      "execution_count": null,
      "outputs": []
    },
    {
      "cell_type": "code",
      "metadata": {
        "id": "EGS9P6zzX_Kh"
      },
      "source": [
        "promedio_gastado['Numero_visitas_Shift'] = promedio_gastado['Numero_visitas'] + 2"
      ],
      "execution_count": 115,
      "outputs": []
    },
    {
      "cell_type": "code",
      "metadata": {
        "id": "Dmbe3UnnYOu4"
      },
      "source": [
        "promedio_gastado['Numero_visitas_transformed_log'] = np.log(promedio_gastado['Numero_visitas_Shift'])"
      ],
      "execution_count": 116,
      "outputs": []
    },
    {
      "cell_type": "code",
      "metadata": {
        "id": "hMNI3v3cYSqf"
      },
      "source": [
        "promedio_gastado['Total_gastado_Shift'] = promedio_gastado['Total_gastado'] + 2"
      ],
      "execution_count": 117,
      "outputs": []
    },
    {
      "cell_type": "code",
      "metadata": {
        "id": "02YonC7hb8FO"
      },
      "source": [
        "promedio_gastado['Total_gastado_transformed_log'] = np.log(promedio_gastado['Total_gastado_Shift'])"
      ],
      "execution_count": 118,
      "outputs": []
    },
    {
      "cell_type": "code",
      "metadata": {
        "colab": {
          "base_uri": "https://localhost:8080/",
          "height": 475
        },
        "id": "-Xu-fA4Ue8kx",
        "outputId": "a4d111f6-5a32-4009-a69f-4873a3fdda03"
      },
      "source": [
        "promedio_gastado"
      ],
      "execution_count": 119,
      "outputs": [
        {
          "output_type": "execute_result",
          "data": {
            "text/html": [
              "<div>\n",
              "<style scoped>\n",
              "    .dataframe tbody tr th:only-of-type {\n",
              "        vertical-align: middle;\n",
              "    }\n",
              "\n",
              "    .dataframe tbody tr th {\n",
              "        vertical-align: top;\n",
              "    }\n",
              "\n",
              "    .dataframe thead th {\n",
              "        text-align: right;\n",
              "    }\n",
              "</style>\n",
              "<table border=\"1\" class=\"dataframe\">\n",
              "  <thead>\n",
              "    <tr style=\"text-align: right;\">\n",
              "      <th></th>\n",
              "      <th>Total_gastado</th>\n",
              "      <th>Numero_visitas</th>\n",
              "      <th>promedio_gastado</th>\n",
              "      <th>Total_gastado_transformed_log</th>\n",
              "      <th>Numero_visitas_transformed_log</th>\n",
              "      <th>Numero_visitas_transformed_Reciprocal_1/x</th>\n",
              "      <th>Total_gastados_transformed_Reciprocal_1/x</th>\n",
              "      <th>Numero_visitas_Shift</th>\n",
              "      <th>Total_gastado_Shift</th>\n",
              "    </tr>\n",
              "    <tr>\n",
              "      <th>CustomerID</th>\n",
              "      <th></th>\n",
              "      <th></th>\n",
              "      <th></th>\n",
              "      <th></th>\n",
              "      <th></th>\n",
              "      <th></th>\n",
              "      <th></th>\n",
              "      <th></th>\n",
              "      <th></th>\n",
              "    </tr>\n",
              "  </thead>\n",
              "  <tbody>\n",
              "    <tr>\n",
              "      <th>12346.0</th>\n",
              "      <td>77183.60</td>\n",
              "      <td>1</td>\n",
              "      <td>77183.600000</td>\n",
              "      <td>11.253968</td>\n",
              "      <td>1.098612</td>\n",
              "      <td>2.000000</td>\n",
              "      <td>1.000000</td>\n",
              "      <td>3</td>\n",
              "      <td>77185.60</td>\n",
              "    </tr>\n",
              "    <tr>\n",
              "      <th>12347.0</th>\n",
              "      <td>4310.00</td>\n",
              "      <td>7</td>\n",
              "      <td>615.714286</td>\n",
              "      <td>8.369157</td>\n",
              "      <td>2.197225</td>\n",
              "      <td>1.002915</td>\n",
              "      <td>1.000000</td>\n",
              "      <td>9</td>\n",
              "      <td>4312.00</td>\n",
              "    </tr>\n",
              "    <tr>\n",
              "      <th>12348.0</th>\n",
              "      <td>1797.24</td>\n",
              "      <td>4</td>\n",
              "      <td>449.310000</td>\n",
              "      <td>7.495120</td>\n",
              "      <td>1.791759</td>\n",
              "      <td>1.015625</td>\n",
              "      <td>1.000000</td>\n",
              "      <td>6</td>\n",
              "      <td>1799.24</td>\n",
              "    </tr>\n",
              "    <tr>\n",
              "      <th>12349.0</th>\n",
              "      <td>1757.55</td>\n",
              "      <td>1</td>\n",
              "      <td>1757.550000</td>\n",
              "      <td>7.472813</td>\n",
              "      <td>1.098612</td>\n",
              "      <td>2.000000</td>\n",
              "      <td>1.000000</td>\n",
              "      <td>3</td>\n",
              "      <td>1759.55</td>\n",
              "    </tr>\n",
              "    <tr>\n",
              "      <th>12350.0</th>\n",
              "      <td>334.40</td>\n",
              "      <td>1</td>\n",
              "      <td>334.400000</td>\n",
              "      <td>5.818301</td>\n",
              "      <td>1.098612</td>\n",
              "      <td>2.000000</td>\n",
              "      <td>1.000000</td>\n",
              "      <td>3</td>\n",
              "      <td>336.40</td>\n",
              "    </tr>\n",
              "    <tr>\n",
              "      <th>...</th>\n",
              "      <td>...</td>\n",
              "      <td>...</td>\n",
              "      <td>...</td>\n",
              "      <td>...</td>\n",
              "      <td>...</td>\n",
              "      <td>...</td>\n",
              "      <td>...</td>\n",
              "      <td>...</td>\n",
              "      <td>...</td>\n",
              "    </tr>\n",
              "    <tr>\n",
              "      <th>18280.0</th>\n",
              "      <td>180.60</td>\n",
              "      <td>1</td>\n",
              "      <td>180.600000</td>\n",
              "      <td>5.207298</td>\n",
              "      <td>1.098612</td>\n",
              "      <td>2.000000</td>\n",
              "      <td>1.000000</td>\n",
              "      <td>3</td>\n",
              "      <td>182.60</td>\n",
              "    </tr>\n",
              "    <tr>\n",
              "      <th>18281.0</th>\n",
              "      <td>80.82</td>\n",
              "      <td>1</td>\n",
              "      <td>80.820000</td>\n",
              "      <td>4.416670</td>\n",
              "      <td>1.098612</td>\n",
              "      <td>2.000000</td>\n",
              "      <td>1.000002</td>\n",
              "      <td>3</td>\n",
              "      <td>82.82</td>\n",
              "    </tr>\n",
              "    <tr>\n",
              "      <th>18282.0</th>\n",
              "      <td>178.05</td>\n",
              "      <td>2</td>\n",
              "      <td>89.025000</td>\n",
              "      <td>5.193235</td>\n",
              "      <td>1.386294</td>\n",
              "      <td>1.125000</td>\n",
              "      <td>1.000000</td>\n",
              "      <td>4</td>\n",
              "      <td>180.05</td>\n",
              "    </tr>\n",
              "    <tr>\n",
              "      <th>18283.0</th>\n",
              "      <td>2094.88</td>\n",
              "      <td>16</td>\n",
              "      <td>130.930000</td>\n",
              "      <td>7.648206</td>\n",
              "      <td>2.890372</td>\n",
              "      <td>1.000244</td>\n",
              "      <td>1.000000</td>\n",
              "      <td>18</td>\n",
              "      <td>2096.88</td>\n",
              "    </tr>\n",
              "    <tr>\n",
              "      <th>18287.0</th>\n",
              "      <td>1837.28</td>\n",
              "      <td>3</td>\n",
              "      <td>612.426667</td>\n",
              "      <td>7.517129</td>\n",
              "      <td>1.609438</td>\n",
              "      <td>1.037037</td>\n",
              "      <td>1.000000</td>\n",
              "      <td>5</td>\n",
              "      <td>1839.28</td>\n",
              "    </tr>\n",
              "  </tbody>\n",
              "</table>\n",
              "<p>4339 rows × 9 columns</p>\n",
              "</div>"
            ],
            "text/plain": [
              "            Total_gastado  ...  Total_gastado_Shift\n",
              "CustomerID                 ...                     \n",
              "12346.0          77183.60  ...             77185.60\n",
              "12347.0           4310.00  ...              4312.00\n",
              "12348.0           1797.24  ...              1799.24\n",
              "12349.0           1757.55  ...              1759.55\n",
              "12350.0            334.40  ...               336.40\n",
              "...                   ...  ...                  ...\n",
              "18280.0            180.60  ...               182.60\n",
              "18281.0             80.82  ...                82.82\n",
              "18282.0            178.05  ...               180.05\n",
              "18283.0           2094.88  ...              2096.88\n",
              "18287.0           1837.28  ...              1839.28\n",
              "\n",
              "[4339 rows x 9 columns]"
            ]
          },
          "metadata": {},
          "execution_count": 119
        }
      ]
    },
    {
      "cell_type": "code",
      "metadata": {
        "colab": {
          "base_uri": "https://localhost:8080/",
          "height": 431
        },
        "id": "GsSZv_Swfjf9",
        "outputId": "b1dd1b2e-5272-4adf-d0e8-db86c4c3aef2"
      },
      "source": [
        "# Grafico sin transformaciones log\n",
        "plt.figure(figsize=(10,6))\n",
        "sns.scatterplot(data = promedio_gastado, x = 'Numero_visitas', y = 'Total_gastado', color = '#5d960b')\n",
        "plt.ylabel('Total gastado')\n",
        "plt.xlabel('Frecuencia de compra')\n",
        "plt.title('Frecuencia de compra vs. Total Gastado', fontdict= {'fontsize': 20, 'fontweight':'bold'})\n",
        "plt.savefig('/content/drive/MyDrive/Modulo7/Tarea/pergunta4.png')"
      ],
      "execution_count": 123,
      "outputs": [
        {
          "output_type": "display_data",
          "data": {
            "image/png": "[encoded data removed]",
            "text/plain": [
              "<Figure size 720x432 with 1 Axes>"
            ]
          },
          "metadata": {}
        }
      ]
    },
    {
      "cell_type": "code",
      "metadata": {
        "id": "5wCsXar_ZzTy"
      },
      "source": [
        "# Se sabe que las variables tienen right skewed (positive skew). Por lo tanto se aplicará una transformación de log para visualizarlas mejor. "
      ],
      "execution_count": null,
      "outputs": []
    },
    {
      "cell_type": "code",
      "metadata": {
        "colab": {
          "base_uri": "https://localhost:8080/",
          "height": 437
        },
        "id": "jsH2LzinXCBU",
        "outputId": "d94503a7-661f-4668-dfa3-dd446592b79d"
      },
      "source": [
        "plt.figure(figsize=(10,6))\n",
        "sns.set(style=\"dark\", context=\"talk\")\n",
        "sns.scatterplot(data = promedio_gastado, x = 'Numero_visitas_transformed_log', y = 'Total_gastado_transformed_log', color = '#5d960b')\n",
        "plt.ylabel('Total gastado (transformación log)', labelpad=10, fontsize = 18)\n",
        "plt.xlabel('Frecuencia de compra (transformación log)', labelpad=10, fontsize = 18)\n",
        "plt.title('Frecuencia de compra vs. Total Gastado', fontdict= {'fontsize': 20, 'fontweight':'bold'})\n",
        "plt.savefig('/content/drive/MyDrive/Modulo7/Tarea/pergunta4.png')"
      ],
      "execution_count": 122,
      "outputs": [
        {
          "output_type": "display_data",
          "data": {
            "image/png": "[encoded data removed]",
            "text/plain": [
              "<Figure size 720x432 with 1 Axes>"
            ]
          },
          "metadata": {
            "needs_background": "light"
          }
        }
      ]
    },
    {
      "cell_type": "markdown",
      "metadata": {
        "id": "Pm161SXWAX_E"
      },
      "source": [
        "### Cómo se distribuyen las antigüedades de los clientes?\n"
      ]
    },
    {
      "cell_type": "code",
      "metadata": {
        "id": "89VjwUxeSBne"
      },
      "source": [
        "# d. ¿Cómo se distribuyen las antigüedades de los clientes?   "
      ],
      "execution_count": null,
      "outputs": []
    },
    {
      "cell_type": "code",
      "metadata": {
        "colab": {
          "base_uri": "https://localhost:8080/",
          "height": 475
        },
        "id": "OLj38on_jun6",
        "outputId": "a007f11a-8fd2-4ebc-d18f-fbcab6fd0448"
      },
      "source": [
        "df.sort_values(['InvoiceDate_new']).groupby(['CustomerID']).count()"
      ],
      "execution_count": 124,
      "outputs": [
        {
          "output_type": "execute_result",
          "data": {
            "text/html": [
              "<div>\n",
              "<style scoped>\n",
              "    .dataframe tbody tr th:only-of-type {\n",
              "        vertical-align: middle;\n",
              "    }\n",
              "\n",
              "    .dataframe tbody tr th {\n",
              "        vertical-align: top;\n",
              "    }\n",
              "\n",
              "    .dataframe thead th {\n",
              "        text-align: right;\n",
              "    }\n",
              "</style>\n",
              "<table border=\"1\" class=\"dataframe\">\n",
              "  <thead>\n",
              "    <tr style=\"text-align: right;\">\n",
              "      <th></th>\n",
              "      <th>InvoiceNo</th>\n",
              "      <th>StockCode</th>\n",
              "      <th>Description</th>\n",
              "      <th>Quantity</th>\n",
              "      <th>InvoiceDate</th>\n",
              "      <th>UnitPrice</th>\n",
              "      <th>Country</th>\n",
              "      <th>InvoiceDate_new</th>\n",
              "      <th>Invoice_DayofWeek</th>\n",
              "      <th>Invoice_Hour</th>\n",
              "      <th>Invoice_month</th>\n",
              "      <th>Invoice_Time</th>\n",
              "      <th>Invoice_Day</th>\n",
              "      <th>Total_gastado</th>\n",
              "    </tr>\n",
              "    <tr>\n",
              "      <th>CustomerID</th>\n",
              "      <th></th>\n",
              "      <th></th>\n",
              "      <th></th>\n",
              "      <th></th>\n",
              "      <th></th>\n",
              "      <th></th>\n",
              "      <th></th>\n",
              "      <th></th>\n",
              "      <th></th>\n",
              "      <th></th>\n",
              "      <th></th>\n",
              "      <th></th>\n",
              "      <th></th>\n",
              "      <th></th>\n",
              "    </tr>\n",
              "  </thead>\n",
              "  <tbody>\n",
              "    <tr>\n",
              "      <th>12346.0</th>\n",
              "      <td>1</td>\n",
              "      <td>1</td>\n",
              "      <td>1</td>\n",
              "      <td>1</td>\n",
              "      <td>1</td>\n",
              "      <td>1</td>\n",
              "      <td>1</td>\n",
              "      <td>1</td>\n",
              "      <td>1</td>\n",
              "      <td>1</td>\n",
              "      <td>1</td>\n",
              "      <td>1</td>\n",
              "      <td>1</td>\n",
              "      <td>1</td>\n",
              "    </tr>\n",
              "    <tr>\n",
              "      <th>12347.0</th>\n",
              "      <td>182</td>\n",
              "      <td>182</td>\n",
              "      <td>182</td>\n",
              "      <td>182</td>\n",
              "      <td>182</td>\n",
              "      <td>182</td>\n",
              "      <td>182</td>\n",
              "      <td>182</td>\n",
              "      <td>182</td>\n",
              "      <td>182</td>\n",
              "      <td>182</td>\n",
              "      <td>182</td>\n",
              "      <td>182</td>\n",
              "      <td>182</td>\n",
              "    </tr>\n",
              "    <tr>\n",
              "      <th>12348.0</th>\n",
              "      <td>31</td>\n",
              "      <td>31</td>\n",
              "      <td>31</td>\n",
              "      <td>31</td>\n",
              "      <td>31</td>\n",
              "      <td>31</td>\n",
              "      <td>31</td>\n",
              "      <td>31</td>\n",
              "      <td>31</td>\n",
              "      <td>31</td>\n",
              "      <td>31</td>\n",
              "      <td>31</td>\n",
              "      <td>31</td>\n",
              "      <td>31</td>\n",
              "    </tr>\n",
              "    <tr>\n",
              "      <th>12349.0</th>\n",
              "      <td>73</td>\n",
              "      <td>73</td>\n",
              "      <td>73</td>\n",
              "      <td>73</td>\n",
              "      <td>73</td>\n",
              "      <td>73</td>\n",
              "      <td>73</td>\n",
              "      <td>73</td>\n",
              "      <td>73</td>\n",
              "      <td>73</td>\n",
              "      <td>73</td>\n",
              "      <td>73</td>\n",
              "      <td>73</td>\n",
              "      <td>73</td>\n",
              "    </tr>\n",
              "    <tr>\n",
              "      <th>12350.0</th>\n",
              "      <td>17</td>\n",
              "      <td>17</td>\n",
              "      <td>17</td>\n",
              "      <td>17</td>\n",
              "      <td>17</td>\n",
              "      <td>17</td>\n",
              "      <td>17</td>\n",
              "      <td>17</td>\n",
              "      <td>17</td>\n",
              "      <td>17</td>\n",
              "      <td>17</td>\n",
              "      <td>17</td>\n",
              "      <td>17</td>\n",
              "      <td>17</td>\n",
              "    </tr>\n",
              "    <tr>\n",
              "      <th>...</th>\n",
              "      <td>...</td>\n",
              "      <td>...</td>\n",
              "      <td>...</td>\n",
              "      <td>...</td>\n",
              "      <td>...</td>\n",
              "      <td>...</td>\n",
              "      <td>...</td>\n",
              "      <td>...</td>\n",
              "      <td>...</td>\n",
              "      <td>...</td>\n",
              "      <td>...</td>\n",
              "      <td>...</td>\n",
              "      <td>...</td>\n",
              "      <td>...</td>\n",
              "    </tr>\n",
              "    <tr>\n",
              "      <th>18280.0</th>\n",
              "      <td>10</td>\n",
              "      <td>10</td>\n",
              "      <td>10</td>\n",
              "      <td>10</td>\n",
              "      <td>10</td>\n",
              "      <td>10</td>\n",
              "      <td>10</td>\n",
              "      <td>10</td>\n",
              "      <td>10</td>\n",
              "      <td>10</td>\n",
              "      <td>10</td>\n",
              "      <td>10</td>\n",
              "      <td>10</td>\n",
              "      <td>10</td>\n",
              "    </tr>\n",
              "    <tr>\n",
              "      <th>18281.0</th>\n",
              "      <td>7</td>\n",
              "      <td>7</td>\n",
              "      <td>7</td>\n",
              "      <td>7</td>\n",
              "      <td>7</td>\n",
              "      <td>7</td>\n",
              "      <td>7</td>\n",
              "      <td>7</td>\n",
              "      <td>7</td>\n",
              "      <td>7</td>\n",
              "      <td>7</td>\n",
              "      <td>7</td>\n",
              "      <td>7</td>\n",
              "      <td>7</td>\n",
              "    </tr>\n",
              "    <tr>\n",
              "      <th>18282.0</th>\n",
              "      <td>12</td>\n",
              "      <td>12</td>\n",
              "      <td>12</td>\n",
              "      <td>12</td>\n",
              "      <td>12</td>\n",
              "      <td>12</td>\n",
              "      <td>12</td>\n",
              "      <td>12</td>\n",
              "      <td>12</td>\n",
              "      <td>12</td>\n",
              "      <td>12</td>\n",
              "      <td>12</td>\n",
              "      <td>12</td>\n",
              "      <td>12</td>\n",
              "    </tr>\n",
              "    <tr>\n",
              "      <th>18283.0</th>\n",
              "      <td>756</td>\n",
              "      <td>756</td>\n",
              "      <td>756</td>\n",
              "      <td>756</td>\n",
              "      <td>756</td>\n",
              "      <td>756</td>\n",
              "      <td>756</td>\n",
              "      <td>756</td>\n",
              "      <td>756</td>\n",
              "      <td>756</td>\n",
              "      <td>756</td>\n",
              "      <td>756</td>\n",
              "      <td>756</td>\n",
              "      <td>756</td>\n",
              "    </tr>\n",
              "    <tr>\n",
              "      <th>18287.0</th>\n",
              "      <td>70</td>\n",
              "      <td>70</td>\n",
              "      <td>70</td>\n",
              "      <td>70</td>\n",
              "      <td>70</td>\n",
              "      <td>70</td>\n",
              "      <td>70</td>\n",
              "      <td>70</td>\n",
              "      <td>70</td>\n",
              "      <td>70</td>\n",
              "      <td>70</td>\n",
              "      <td>70</td>\n",
              "      <td>70</td>\n",
              "      <td>70</td>\n",
              "    </tr>\n",
              "  </tbody>\n",
              "</table>\n",
              "<p>4339 rows × 14 columns</p>\n",
              "</div>"
            ],
            "text/plain": [
              "            InvoiceNo  StockCode  ...  Invoice_Day  Total_gastado\n",
              "CustomerID                        ...                            \n",
              "12346.0             1          1  ...            1              1\n",
              "12347.0           182        182  ...          182            182\n",
              "12348.0            31         31  ...           31             31\n",
              "12349.0            73         73  ...           73             73\n",
              "12350.0            17         17  ...           17             17\n",
              "...               ...        ...  ...          ...            ...\n",
              "18280.0            10         10  ...           10             10\n",
              "18281.0             7          7  ...            7              7\n",
              "18282.0            12         12  ...           12             12\n",
              "18283.0           756        756  ...          756            756\n",
              "18287.0            70         70  ...           70             70\n",
              "\n",
              "[4339 rows x 14 columns]"
            ]
          },
          "metadata": {},
          "execution_count": 124
        }
      ]
    },
    {
      "cell_type": "code",
      "metadata": {
        "id": "obviokRJx_uI"
      },
      "source": [
        "CustomerID = df['CustomerID'].unique().tolist()"
      ],
      "execution_count": 125,
      "outputs": []
    },
    {
      "cell_type": "code",
      "metadata": {
        "id": "PczEthXkyjqf"
      },
      "source": [
        "import datetime\n",
        "CustomerID = df['CustomerID'].unique().tolist()\n",
        "cliente_list = []\n",
        "primer_compra_list = []\n",
        "ultima_compra_list = []\n",
        "final_dia = datetime.datetime.strptime('2011-12-10', '%Y-%m-%d').date()\n",
        "\n",
        "for cliente in CustomerID:\n",
        "  primer_compra = df[df['CustomerID'] == cliente].iloc[0,13]\n",
        "  cliente_list.append(cliente)\n",
        "  primer_compra_list.append(primer_compra)\n",
        "  antigüedades = pd.DataFrame({'cliente': cliente_list,\n",
        "                'primera compra': primer_compra_list})\n",
        "  antigüedades['final_day'] = final_dia\n",
        "  Start = pd.to_datetime(antigüedades['primera compra'])\n",
        "  End = pd.to_datetime(antigüedades['final_day'])\n",
        "  antigüedades['dias_desde_primera_compra'] = End.subtract(Start)\n",
        "  ultima_compra = df[df['CustomerID'] == cliente].iloc[-1,13]\n",
        "  ultima_compra_list.append(ultima_compra)\n",
        "  antigüedades = antigüedades.assign(Ultima_compra = ultima_compra_list)\n",
        "  Start_ultima_compra = pd.to_datetime(antigüedades['Ultima_compra'])\n",
        "  antigüedades['dias_desde_ultima_compra'] = End.subtract(Start_ultima_compra)\n"
      ],
      "execution_count": 180,
      "outputs": []
    },
    {
      "cell_type": "code",
      "metadata": {
        "colab": {
          "base_uri": "https://localhost:8080/",
          "height": 424
        },
        "id": "9tedDB0VQlAE",
        "outputId": "ea8a54fa-4d87-4d88-b863-656ec916be78"
      },
      "source": [
        "antigüedades"
      ],
      "execution_count": 181,
      "outputs": [
        {
          "output_type": "execute_result",
          "data": {
            "text/html": [
              "<div>\n",
              "<style scoped>\n",
              "    .dataframe tbody tr th:only-of-type {\n",
              "        vertical-align: middle;\n",
              "    }\n",
              "\n",
              "    .dataframe tbody tr th {\n",
              "        vertical-align: top;\n",
              "    }\n",
              "\n",
              "    .dataframe thead th {\n",
              "        text-align: right;\n",
              "    }\n",
              "</style>\n",
              "<table border=\"1\" class=\"dataframe\">\n",
              "  <thead>\n",
              "    <tr style=\"text-align: right;\">\n",
              "      <th></th>\n",
              "      <th>cliente</th>\n",
              "      <th>primera compra</th>\n",
              "      <th>final_day</th>\n",
              "      <th>dias_desde_primera_compra</th>\n",
              "      <th>Ultima_compra</th>\n",
              "      <th>dias_desde_ultima_compra</th>\n",
              "    </tr>\n",
              "  </thead>\n",
              "  <tbody>\n",
              "    <tr>\n",
              "      <th>0</th>\n",
              "      <td>17850.0</td>\n",
              "      <td>2010-12-01</td>\n",
              "      <td>2011-12-10</td>\n",
              "      <td>374 days</td>\n",
              "      <td>2010-12-02</td>\n",
              "      <td>373 days</td>\n",
              "    </tr>\n",
              "    <tr>\n",
              "      <th>1</th>\n",
              "      <td>13047.0</td>\n",
              "      <td>2010-12-01</td>\n",
              "      <td>2011-12-10</td>\n",
              "      <td>374 days</td>\n",
              "      <td>2011-11-08</td>\n",
              "      <td>32 days</td>\n",
              "    </tr>\n",
              "    <tr>\n",
              "      <th>2</th>\n",
              "      <td>12583.0</td>\n",
              "      <td>2010-12-01</td>\n",
              "      <td>2011-12-10</td>\n",
              "      <td>374 days</td>\n",
              "      <td>2011-12-07</td>\n",
              "      <td>3 days</td>\n",
              "    </tr>\n",
              "    <tr>\n",
              "      <th>3</th>\n",
              "      <td>13748.0</td>\n",
              "      <td>2010-12-01</td>\n",
              "      <td>2011-12-10</td>\n",
              "      <td>374 days</td>\n",
              "      <td>2011-09-05</td>\n",
              "      <td>96 days</td>\n",
              "    </tr>\n",
              "    <tr>\n",
              "      <th>4</th>\n",
              "      <td>15100.0</td>\n",
              "      <td>2010-12-01</td>\n",
              "      <td>2011-12-10</td>\n",
              "      <td>374 days</td>\n",
              "      <td>2011-01-10</td>\n",
              "      <td>334 days</td>\n",
              "    </tr>\n",
              "    <tr>\n",
              "      <th>...</th>\n",
              "      <td>...</td>\n",
              "      <td>...</td>\n",
              "      <td>...</td>\n",
              "      <td>...</td>\n",
              "      <td>...</td>\n",
              "      <td>...</td>\n",
              "    </tr>\n",
              "    <tr>\n",
              "      <th>4334</th>\n",
              "      <td>13436.0</td>\n",
              "      <td>2011-12-08</td>\n",
              "      <td>2011-12-10</td>\n",
              "      <td>2 days</td>\n",
              "      <td>2011-12-08</td>\n",
              "      <td>2 days</td>\n",
              "    </tr>\n",
              "    <tr>\n",
              "      <th>4335</th>\n",
              "      <td>15520.0</td>\n",
              "      <td>2011-12-08</td>\n",
              "      <td>2011-12-10</td>\n",
              "      <td>2 days</td>\n",
              "      <td>2011-12-08</td>\n",
              "      <td>2 days</td>\n",
              "    </tr>\n",
              "    <tr>\n",
              "      <th>4336</th>\n",
              "      <td>13298.0</td>\n",
              "      <td>2011-12-08</td>\n",
              "      <td>2011-12-10</td>\n",
              "      <td>2 days</td>\n",
              "      <td>2011-12-08</td>\n",
              "      <td>2 days</td>\n",
              "    </tr>\n",
              "    <tr>\n",
              "      <th>4337</th>\n",
              "      <td>14569.0</td>\n",
              "      <td>2011-12-08</td>\n",
              "      <td>2011-12-10</td>\n",
              "      <td>2 days</td>\n",
              "      <td>2011-12-08</td>\n",
              "      <td>2 days</td>\n",
              "    </tr>\n",
              "    <tr>\n",
              "      <th>4338</th>\n",
              "      <td>12713.0</td>\n",
              "      <td>2011-12-09</td>\n",
              "      <td>2011-12-10</td>\n",
              "      <td>1 days</td>\n",
              "      <td>2011-12-09</td>\n",
              "      <td>1 days</td>\n",
              "    </tr>\n",
              "  </tbody>\n",
              "</table>\n",
              "<p>4339 rows × 6 columns</p>\n",
              "</div>"
            ],
            "text/plain": [
              "      cliente primera compra  ... Ultima_compra dias_desde_ultima_compra\n",
              "0     17850.0     2010-12-01  ...    2010-12-02                 373 days\n",
              "1     13047.0     2010-12-01  ...    2011-11-08                  32 days\n",
              "2     12583.0     2010-12-01  ...    2011-12-07                   3 days\n",
              "3     13748.0     2010-12-01  ...    2011-09-05                  96 days\n",
              "4     15100.0     2010-12-01  ...    2011-01-10                 334 days\n",
              "...       ...            ...  ...           ...                      ...\n",
              "4334  13436.0     2011-12-08  ...    2011-12-08                   2 days\n",
              "4335  15520.0     2011-12-08  ...    2011-12-08                   2 days\n",
              "4336  13298.0     2011-12-08  ...    2011-12-08                   2 days\n",
              "4337  14569.0     2011-12-08  ...    2011-12-08                   2 days\n",
              "4338  12713.0     2011-12-09  ...    2011-12-09                   1 days\n",
              "\n",
              "[4339 rows x 6 columns]"
            ]
          },
          "metadata": {},
          "execution_count": 181
        }
      ]
    },
    {
      "cell_type": "code",
      "metadata": {
        "colab": {
          "base_uri": "https://localhost:8080/"
        },
        "id": "eJ1qzXy7VjRJ",
        "outputId": "579998e7-22d4-409d-e548-6ab6861ce0a9"
      },
      "source": [
        "antigüedades.info()"
      ],
      "execution_count": null,
      "outputs": [
        {
          "output_type": "stream",
          "name": "stdout",
          "text": [
            "<class 'pandas.core.frame.DataFrame'>\n",
            "RangeIndex: 4339 entries, 0 to 4338\n",
            "Data columns (total 6 columns):\n",
            " #   Column                     Non-Null Count  Dtype          \n",
            "---  ------                     --------------  -----          \n",
            " 0   cliente                    4339 non-null   object         \n",
            " 1   primera compra             4339 non-null   object         \n",
            " 2   final_day                  4339 non-null   object         \n",
            " 3   dias_desde_primera_compra  4339 non-null   timedelta64[ns]\n",
            " 4   Ultima_compra              4339 non-null   object         \n",
            " 5   dias_desde_ultima_compra   4339 non-null   timedelta64[ns]\n",
            "dtypes: object(4), timedelta64[ns](2)\n",
            "memory usage: 203.5+ KB\n"
          ]
        }
      ]
    },
    {
      "cell_type": "code",
      "metadata": {
        "id": "KroZm_s-VrSq"
      },
      "source": [
        "antigüedades['dias_desde_primera_compra'] = antigüedades['dias_desde_primera_compra'].dt.days\n",
        "antigüedades['dias_desde_ultima_compra'] = antigüedades['dias_desde_ultima_compra'].dt.days"
      ],
      "execution_count": null,
      "outputs": []
    },
    {
      "cell_type": "code",
      "metadata": {
        "colab": {
          "base_uri": "https://localhost:8080/"
        },
        "id": "ZzoVsqbJ3Idm",
        "outputId": "8691e614-1629-4571-d46f-8ac90eff7e6f"
      },
      "source": [
        "antigüedades['dias_desde_primera_compra'].describe()"
      ],
      "execution_count": null,
      "outputs": [
        {
          "output_type": "execute_result",
          "data": {
            "text/plain": [
              "count    4339.000000\n",
              "mean      223.782899\n",
              "std       117.883623\n",
              "min         1.000000\n",
              "25%       113.000000\n",
              "50%       249.000000\n",
              "75%       327.000000\n",
              "max       374.000000\n",
              "Name: dias_desde_primera_compra, dtype: float64"
            ]
          },
          "metadata": {},
          "execution_count": 115
        }
      ]
    },
    {
      "cell_type": "code",
      "metadata": {
        "colab": {
          "base_uri": "https://localhost:8080/",
          "height": 391
        },
        "id": "TbVttQq_VaA1",
        "outputId": "aaa52380-2e87-4a9b-f76b-b55aca3b75b6"
      },
      "source": [
        "plt.figure(figsize=(10,6))\n",
        "sns.set(style=\"dark\", context=\"talk\")\n",
        "sns.displot(antigüedades, x=\"dias_desde_primera_compra\", kind=\"kde\", color = '#5d960b')\n",
        "plt.xlabel('Dias')\n",
        "plt.title('Antigüedades - Dias desde primera compra', fontdict= {'fontsize': 20, 'fontweight':'bold'})\n",
        "plt.savefig('/content/drive/MyDrive/Modulo7/Tarea/pergunta4.png')"
      ],
      "execution_count": null,
      "outputs": [
        {
          "output_type": "display_data",
          "data": {
            "text/plain": [
              "<Figure size 720x432 with 0 Axes>"
            ]
          },
          "metadata": {}
        },
        {
          "output_type": "display_data",
          "data": {
            "image/png": "[encoded data removed]",
            "text/plain": [
              "<Figure size 360x360 with 1 Axes>"
            ]
          },
          "metadata": {}
        }
      ]
    },
    {
      "cell_type": "code",
      "metadata": {
        "colab": {
          "base_uri": "https://localhost:8080/"
        },
        "id": "IpE6FIXiRyVp",
        "outputId": "2f6abbf1-3032-43a5-a593-b3c4c38bc073"
      },
      "source": [
        "antigüedades['dias_desde_ultima_compra'].describe()"
      ],
      "execution_count": null,
      "outputs": [
        {
          "output_type": "execute_result",
          "data": {
            "text/plain": [
              "count    4339.000000\n",
              "mean       93.041484\n",
              "std       100.007757\n",
              "min         1.000000\n",
              "25%        18.000000\n",
              "50%        51.000000\n",
              "75%       142.500000\n",
              "max       374.000000\n",
              "Name: dias_desde_ultima_compra, dtype: float64"
            ]
          },
          "metadata": {},
          "execution_count": 117
        }
      ]
    },
    {
      "cell_type": "code",
      "metadata": {
        "colab": {
          "base_uri": "https://localhost:8080/",
          "height": 391
        },
        "id": "KnlGuxX-Wpvw",
        "outputId": "842eb614-c2ae-4b04-d84a-96bf051cb1f6"
      },
      "source": [
        "plt.figure(figsize=(10,6))\n",
        "sns.set(style=\"dark\", context=\"talk\")\n",
        "sns.displot(antigüedades, x=\"dias_desde_ultima_compra\", kind=\"kde\", color = '#5d960b')\n",
        "plt.xlabel('Dias')\n",
        "plt.title('Antigüedades - Dias desde ultima compra', fontdict= {'fontsize': 20, 'fontweight':'bold'})\n",
        "plt.savefig('/content/drive/MyDrive/Modulo7/Tarea/pergunta4.png')"
      ],
      "execution_count": null,
      "outputs": [
        {
          "output_type": "display_data",
          "data": {
            "text/plain": [
              "<Figure size 720x432 with 0 Axes>"
            ]
          },
          "metadata": {}
        },
        {
          "output_type": "display_data",
          "data": {
            "image/png": "[encoded data removed]",
            "text/plain": [
              "<Figure size 360x360 with 1 Axes>"
            ]
          },
          "metadata": {}
        }
      ]
    },
    {
      "cell_type": "markdown",
      "metadata": {
        "id": "0kAW_n1OAYrq"
      },
      "source": [
        "### Si se clasifican en 3 grupos a los clientes, en base a su frecuencia de compra ¿Qué diferencias existen entre cada clúster? (Utilice el algoritmo de clusterización Kmeans). "
      ]
    },
    {
      "cell_type": "code",
      "metadata": {
        "id": "HiefBmyDSBlF"
      },
      "source": [
        "# Si se clasifican en 3 grupos a los clientes, en base a su frecuencia de compra \n",
        "# ¿Qué diferencias existen entre cada clúster? (Utilice el algoritmo de clusterización Kmeans). "
      ],
      "execution_count": null,
      "outputs": []
    },
    {
      "cell_type": "code",
      "metadata": {
        "id": "Ovd39PxuU1cg"
      },
      "source": [
        "# frequencia de comprar para cada client\n",
        "\n",
        "# compras / 1 tomar el promedio para un mes "
      ],
      "execution_count": null,
      "outputs": []
    },
    {
      "cell_type": "code",
      "metadata": {
        "colab": {
          "base_uri": "https://localhost:8080/",
          "height": 475
        },
        "id": "FvDKQrYIwMpR",
        "outputId": "4f311df8-7aa8-437a-b50f-e38aa7807df9"
      },
      "source": [
        "x = df.groupby(['CustomerID', 'InvoiceNo']).count().reset_index().groupby('CustomerID').count()\n",
        "x"
      ],
      "execution_count": 140,
      "outputs": [
        {
          "output_type": "execute_result",
          "data": {
            "text/html": [
              "<div>\n",
              "<style scoped>\n",
              "    .dataframe tbody tr th:only-of-type {\n",
              "        vertical-align: middle;\n",
              "    }\n",
              "\n",
              "    .dataframe tbody tr th {\n",
              "        vertical-align: top;\n",
              "    }\n",
              "\n",
              "    .dataframe thead th {\n",
              "        text-align: right;\n",
              "    }\n",
              "</style>\n",
              "<table border=\"1\" class=\"dataframe\">\n",
              "  <thead>\n",
              "    <tr style=\"text-align: right;\">\n",
              "      <th></th>\n",
              "      <th>InvoiceNo</th>\n",
              "      <th>StockCode</th>\n",
              "      <th>Description</th>\n",
              "      <th>Quantity</th>\n",
              "      <th>InvoiceDate</th>\n",
              "      <th>UnitPrice</th>\n",
              "      <th>Country</th>\n",
              "      <th>InvoiceDate_new</th>\n",
              "      <th>Invoice_DayofWeek</th>\n",
              "      <th>Invoice_Hour</th>\n",
              "      <th>Invoice_month</th>\n",
              "      <th>Invoice_Time</th>\n",
              "      <th>Invoice_Day</th>\n",
              "      <th>Total_gastado</th>\n",
              "    </tr>\n",
              "    <tr>\n",
              "      <th>CustomerID</th>\n",
              "      <th></th>\n",
              "      <th></th>\n",
              "      <th></th>\n",
              "      <th></th>\n",
              "      <th></th>\n",
              "      <th></th>\n",
              "      <th></th>\n",
              "      <th></th>\n",
              "      <th></th>\n",
              "      <th></th>\n",
              "      <th></th>\n",
              "      <th></th>\n",
              "      <th></th>\n",
              "      <th></th>\n",
              "    </tr>\n",
              "  </thead>\n",
              "  <tbody>\n",
              "    <tr>\n",
              "      <th>12346.0</th>\n",
              "      <td>1</td>\n",
              "      <td>1</td>\n",
              "      <td>1</td>\n",
              "      <td>1</td>\n",
              "      <td>1</td>\n",
              "      <td>1</td>\n",
              "      <td>1</td>\n",
              "      <td>1</td>\n",
              "      <td>1</td>\n",
              "      <td>1</td>\n",
              "      <td>1</td>\n",
              "      <td>1</td>\n",
              "      <td>1</td>\n",
              "      <td>1</td>\n",
              "    </tr>\n",
              "    <tr>\n",
              "      <th>12347.0</th>\n",
              "      <td>7</td>\n",
              "      <td>7</td>\n",
              "      <td>7</td>\n",
              "      <td>7</td>\n",
              "      <td>7</td>\n",
              "      <td>7</td>\n",
              "      <td>7</td>\n",
              "      <td>7</td>\n",
              "      <td>7</td>\n",
              "      <td>7</td>\n",
              "      <td>7</td>\n",
              "      <td>7</td>\n",
              "      <td>7</td>\n",
              "      <td>7</td>\n",
              "    </tr>\n",
              "    <tr>\n",
              "      <th>12348.0</th>\n",
              "      <td>4</td>\n",
              "      <td>4</td>\n",
              "      <td>4</td>\n",
              "      <td>4</td>\n",
              "      <td>4</td>\n",
              "      <td>4</td>\n",
              "      <td>4</td>\n",
              "      <td>4</td>\n",
              "      <td>4</td>\n",
              "      <td>4</td>\n",
              "      <td>4</td>\n",
              "      <td>4</td>\n",
              "      <td>4</td>\n",
              "      <td>4</td>\n",
              "    </tr>\n",
              "    <tr>\n",
              "      <th>12349.0</th>\n",
              "      <td>1</td>\n",
              "      <td>1</td>\n",
              "      <td>1</td>\n",
              "      <td>1</td>\n",
              "      <td>1</td>\n",
              "      <td>1</td>\n",
              "      <td>1</td>\n",
              "      <td>1</td>\n",
              "      <td>1</td>\n",
              "      <td>1</td>\n",
              "      <td>1</td>\n",
              "      <td>1</td>\n",
              "      <td>1</td>\n",
              "      <td>1</td>\n",
              "    </tr>\n",
              "    <tr>\n",
              "      <th>12350.0</th>\n",
              "      <td>1</td>\n",
              "      <td>1</td>\n",
              "      <td>1</td>\n",
              "      <td>1</td>\n",
              "      <td>1</td>\n",
              "      <td>1</td>\n",
              "      <td>1</td>\n",
              "      <td>1</td>\n",
              "      <td>1</td>\n",
              "      <td>1</td>\n",
              "      <td>1</td>\n",
              "      <td>1</td>\n",
              "      <td>1</td>\n",
              "      <td>1</td>\n",
              "    </tr>\n",
              "    <tr>\n",
              "      <th>...</th>\n",
              "      <td>...</td>\n",
              "      <td>...</td>\n",
              "      <td>...</td>\n",
              "      <td>...</td>\n",
              "      <td>...</td>\n",
              "      <td>...</td>\n",
              "      <td>...</td>\n",
              "      <td>...</td>\n",
              "      <td>...</td>\n",
              "      <td>...</td>\n",
              "      <td>...</td>\n",
              "      <td>...</td>\n",
              "      <td>...</td>\n",
              "      <td>...</td>\n",
              "    </tr>\n",
              "    <tr>\n",
              "      <th>18280.0</th>\n",
              "      <td>1</td>\n",
              "      <td>1</td>\n",
              "      <td>1</td>\n",
              "      <td>1</td>\n",
              "      <td>1</td>\n",
              "      <td>1</td>\n",
              "      <td>1</td>\n",
              "      <td>1</td>\n",
              "      <td>1</td>\n",
              "      <td>1</td>\n",
              "      <td>1</td>\n",
              "      <td>1</td>\n",
              "      <td>1</td>\n",
              "      <td>1</td>\n",
              "    </tr>\n",
              "    <tr>\n",
              "      <th>18281.0</th>\n",
              "      <td>1</td>\n",
              "      <td>1</td>\n",
              "      <td>1</td>\n",
              "      <td>1</td>\n",
              "      <td>1</td>\n",
              "      <td>1</td>\n",
              "      <td>1</td>\n",
              "      <td>1</td>\n",
              "      <td>1</td>\n",
              "      <td>1</td>\n",
              "      <td>1</td>\n",
              "      <td>1</td>\n",
              "      <td>1</td>\n",
              "      <td>1</td>\n",
              "    </tr>\n",
              "    <tr>\n",
              "      <th>18282.0</th>\n",
              "      <td>2</td>\n",
              "      <td>2</td>\n",
              "      <td>2</td>\n",
              "      <td>2</td>\n",
              "      <td>2</td>\n",
              "      <td>2</td>\n",
              "      <td>2</td>\n",
              "      <td>2</td>\n",
              "      <td>2</td>\n",
              "      <td>2</td>\n",
              "      <td>2</td>\n",
              "      <td>2</td>\n",
              "      <td>2</td>\n",
              "      <td>2</td>\n",
              "    </tr>\n",
              "    <tr>\n",
              "      <th>18283.0</th>\n",
              "      <td>16</td>\n",
              "      <td>16</td>\n",
              "      <td>16</td>\n",
              "      <td>16</td>\n",
              "      <td>16</td>\n",
              "      <td>16</td>\n",
              "      <td>16</td>\n",
              "      <td>16</td>\n",
              "      <td>16</td>\n",
              "      <td>16</td>\n",
              "      <td>16</td>\n",
              "      <td>16</td>\n",
              "      <td>16</td>\n",
              "      <td>16</td>\n",
              "    </tr>\n",
              "    <tr>\n",
              "      <th>18287.0</th>\n",
              "      <td>3</td>\n",
              "      <td>3</td>\n",
              "      <td>3</td>\n",
              "      <td>3</td>\n",
              "      <td>3</td>\n",
              "      <td>3</td>\n",
              "      <td>3</td>\n",
              "      <td>3</td>\n",
              "      <td>3</td>\n",
              "      <td>3</td>\n",
              "      <td>3</td>\n",
              "      <td>3</td>\n",
              "      <td>3</td>\n",
              "      <td>3</td>\n",
              "    </tr>\n",
              "  </tbody>\n",
              "</table>\n",
              "<p>4339 rows × 14 columns</p>\n",
              "</div>"
            ],
            "text/plain": [
              "            InvoiceNo  StockCode  ...  Invoice_Day  Total_gastado\n",
              "CustomerID                        ...                            \n",
              "12346.0             1          1  ...            1              1\n",
              "12347.0             7          7  ...            7              7\n",
              "12348.0             4          4  ...            4              4\n",
              "12349.0             1          1  ...            1              1\n",
              "12350.0             1          1  ...            1              1\n",
              "...               ...        ...  ...          ...            ...\n",
              "18280.0             1          1  ...            1              1\n",
              "18281.0             1          1  ...            1              1\n",
              "18282.0             2          2  ...            2              2\n",
              "18283.0            16         16  ...           16             16\n",
              "18287.0             3          3  ...            3              3\n",
              "\n",
              "[4339 rows x 14 columns]"
            ]
          },
          "metadata": {},
          "execution_count": 140
        }
      ]
    },
    {
      "cell_type": "code",
      "metadata": {
        "colab": {
          "base_uri": "https://localhost:8080/"
        },
        "id": "ao7VERz9wK3x",
        "outputId": "7a0c4186-357a-4348-9290-dcd11cfd89e4"
      },
      "source": [
        "from sklearn.preprocessing import StandardScaler\n",
        "#estandarizar las viariables, promedio = 0 y desviacion estandard = 1\n",
        "scaler = StandardScaler()\n",
        "new_scaled = scaler.fit_transform(x['InvoiceNo'].to_numpy().reshape(-1, 1))\n",
        "new_scaled"
      ],
      "execution_count": 141,
      "outputs": [
        {
          "output_type": "execute_result",
          "data": {
            "text/plain": [
              "array([[-0.42467487],\n",
              "       [ 0.35408019],\n",
              "       [-0.03529734],\n",
              "       ...,\n",
              "       [-0.29488236],\n",
              "       [ 1.52221279],\n",
              "       [-0.16508985]])"
            ]
          },
          "metadata": {},
          "execution_count": 141
        }
      ]
    },
    {
      "cell_type": "code",
      "metadata": {
        "id": "P7Eo_mlXzf_x"
      },
      "source": [
        "new_scaled = pd.DataFrame(new_scaled, index=x.index)"
      ],
      "execution_count": 142,
      "outputs": []
    },
    {
      "cell_type": "code",
      "metadata": {
        "id": "J62rrDcG35Nn"
      },
      "source": [
        "from sklearn.cluster import KMeans\n",
        "kmeans = KMeans(\n",
        "     init=\"random\",\n",
        "    n_clusters=3,\n",
        "    n_init=10,\n",
        "    max_iter=500,\n",
        "    random_state=42)"
      ],
      "execution_count": 143,
      "outputs": []
    },
    {
      "cell_type": "code",
      "metadata": {
        "colab": {
          "base_uri": "https://localhost:8080/"
        },
        "id": "iv9Aojyb35Co",
        "outputId": "6270fae9-137b-4dc0-dabb-d2a6d15714bf"
      },
      "source": [
        "kmeans.fit(new_scaled)"
      ],
      "execution_count": 144,
      "outputs": [
        {
          "output_type": "execute_result",
          "data": {
            "text/plain": [
              "KMeans(init='random', max_iter=500, n_clusters=3, random_state=42)"
            ]
          },
          "metadata": {},
          "execution_count": 144
        }
      ]
    },
    {
      "cell_type": "code",
      "metadata": {
        "id": "oPum40xC5y2o",
        "colab": {
          "base_uri": "https://localhost:8080/"
        },
        "outputId": "e06e709c-a102-4fc3-8d76-42d244620d76"
      },
      "source": [
        "kmeans.labels_[:1000]"
      ],
      "execution_count": 145,
      "outputs": [
        {
          "output_type": "execute_result",
          "data": {
            "text/plain": [
              "array([0, 0, 0, 0, 0, 0, 0, 0, 0, 0, 0, 0, 0, 0, 0, 0, 0, 0, 0, 0, 0, 0,\n",
              "       0, 0, 0, 0, 0, 0, 0, 0, 0, 0, 0, 0, 0, 0, 0, 0, 0, 2, 0, 0, 0, 0,\n",
              "       0, 0, 0, 0, 0, 0, 0, 0, 0, 0, 0, 2, 0, 0, 0, 0, 0, 0, 0, 0, 0, 0,\n",
              "       0, 0, 0, 2, 0, 0, 0, 0, 0, 2, 0, 0, 0, 0, 0, 0, 0, 0, 0, 0, 0, 0,\n",
              "       0, 0, 0, 0, 0, 0, 0, 0, 0, 0, 0, 0, 2, 0, 0, 2, 0, 2, 0, 0, 0, 0,\n",
              "       0, 0, 0, 0, 0, 0, 0, 0, 0, 0, 0, 0, 2, 0, 0, 0, 0, 0, 0, 0, 0, 0,\n",
              "       0, 0, 0, 0, 0, 0, 0, 0, 0, 0, 2, 0, 0, 0, 0, 0, 0, 0, 0, 0, 0, 0,\n",
              "       0, 2, 0, 0, 0, 0, 0, 0, 0, 0, 0, 0, 0, 0, 0, 0, 0, 0, 0, 0, 0, 0,\n",
              "       0, 2, 0, 0, 0, 0, 0, 0, 0, 0, 0, 0, 0, 2, 0, 0, 0, 0, 0, 0, 0, 0,\n",
              "       0, 0, 0, 0, 0, 0, 0, 0, 0, 0, 0, 0, 0, 0, 0, 0, 0, 0, 0, 0, 0, 0,\n",
              "       0, 0, 0, 2, 0, 0, 0, 0, 0, 0, 0, 0, 0, 0, 0, 0, 0, 0, 0, 0, 0, 0,\n",
              "       0, 0, 0, 2, 0, 0, 0, 0, 0, 0, 0, 0, 0, 0, 0, 0, 2, 0, 0, 0, 0, 0,\n",
              "       0, 0, 0, 0, 0, 2, 0, 0, 2, 2, 2, 0, 0, 0, 0, 0, 0, 0, 0, 0, 0, 0,\n",
              "       0, 0, 0, 0, 0, 0, 0, 0, 2, 0, 2, 0, 0, 0, 0, 0, 0, 0, 2, 0, 0, 0,\n",
              "       0, 0, 0, 0, 0, 0, 2, 0, 0, 0, 0, 0, 0, 0, 0, 0, 0, 2, 1, 0, 0, 0,\n",
              "       0, 0, 0, 0, 2, 0, 0, 0, 0, 0, 0, 0, 0, 0, 0, 0, 0, 0, 0, 0, 0, 0,\n",
              "       0, 0, 0, 0, 0, 0, 0, 0, 0, 0, 0, 0, 0, 0, 0, 0, 0, 0, 0, 0, 0, 0,\n",
              "       0, 0, 0, 0, 0, 0, 0, 0, 0, 0, 0, 0, 0, 0, 0, 2, 0, 2, 0, 0, 0, 0,\n",
              "       0, 0, 0, 0, 0, 0, 0, 0, 0, 0, 0, 0, 0, 0, 0, 0, 0, 0, 0, 0, 2, 0,\n",
              "       0, 0, 0, 0, 0, 0, 0, 0, 0, 0, 0, 0, 0, 2, 0, 0, 0, 0, 0, 0, 0, 0,\n",
              "       0, 0, 0, 0, 0, 2, 0, 0, 0, 0, 0, 0, 0, 2, 0, 0, 0, 0, 0, 0, 0, 0,\n",
              "       0, 0, 0, 0, 0, 0, 0, 0, 0, 2, 0, 0, 0, 0, 0, 0, 0, 0, 0, 1, 0, 0,\n",
              "       0, 0, 0, 0, 0, 0, 0, 0, 2, 0, 0, 0, 0, 0, 0, 0, 0, 2, 0, 0, 2, 0,\n",
              "       0, 0, 0, 0, 2, 0, 0, 0, 0, 2, 0, 0, 0, 0, 0, 0, 0, 0, 0, 0, 0, 0,\n",
              "       0, 0, 0, 0, 0, 0, 0, 0, 0, 2, 0, 0, 0, 0, 0, 0, 0, 0, 0, 0, 0, 0,\n",
              "       2, 0, 0, 0, 0, 2, 0, 0, 2, 0, 0, 0, 1, 2, 0, 0, 0, 2, 0, 0, 2, 0,\n",
              "       0, 2, 0, 0, 0, 0, 0, 0, 0, 2, 0, 0, 0, 0, 0, 0, 0, 0, 0, 0, 0, 0,\n",
              "       0, 0, 0, 0, 0, 0, 0, 0, 0, 0, 0, 0, 0, 0, 0, 2, 0, 0, 0, 0, 0, 0,\n",
              "       0, 0, 0, 0, 0, 0, 0, 0, 0, 0, 0, 0, 0, 0, 0, 2, 0, 0, 0, 0, 0, 0,\n",
              "       0, 0, 0, 0, 0, 0, 0, 2, 0, 0, 0, 0, 0, 0, 0, 0, 0, 0, 0, 0, 0, 0,\n",
              "       0, 0, 0, 0, 0, 0, 0, 2, 0, 0, 0, 0, 0, 0, 0, 0, 0, 0, 0, 0, 0, 0,\n",
              "       0, 0, 0, 0, 0, 0, 0, 0, 0, 2, 0, 2, 2, 2, 2, 0, 0, 0, 0, 0, 0, 0,\n",
              "       0, 0, 0, 0, 0, 0, 0, 0, 0, 0, 0, 0, 0, 0, 0, 0, 0, 0, 0, 0, 0, 0,\n",
              "       0, 0, 0, 0, 0, 0, 0, 2, 0, 0, 0, 0, 0, 0, 0, 0, 0, 0, 0, 0, 0, 0,\n",
              "       0, 0, 0, 0, 0, 0, 0, 0, 0, 0, 0, 0, 0, 0, 0, 0, 0, 0, 0, 0, 0, 0,\n",
              "       0, 0, 0, 0, 0, 0, 0, 0, 0, 0, 0, 0, 0, 0, 0, 0, 0, 0, 0, 0, 0, 0,\n",
              "       0, 0, 0, 0, 2, 0, 0, 0, 0, 0, 2, 0, 0, 0, 0, 0, 0, 0, 0, 0, 0, 0,\n",
              "       0, 0, 0, 0, 0, 0, 0, 0, 0, 0, 0, 0, 0, 0, 0, 2, 0, 0, 0, 0, 0, 0,\n",
              "       2, 0, 0, 0, 0, 0, 0, 0, 0, 0, 0, 0, 0, 0, 0, 0, 2, 0, 0, 0, 0, 0,\n",
              "       0, 0, 0, 0, 0, 0, 0, 0, 0, 0, 0, 0, 0, 0, 0, 0, 0, 0, 0, 0, 0, 0,\n",
              "       0, 0, 0, 0, 0, 0, 0, 0, 0, 0, 0, 0, 2, 0, 0, 0, 0, 0, 0, 0, 0, 2,\n",
              "       0, 0, 0, 0, 0, 0, 0, 0, 0, 0, 0, 0, 0, 2, 0, 0, 0, 2, 0, 0, 0, 0,\n",
              "       0, 0, 0, 0, 0, 0, 0, 0, 0, 0, 0, 2, 0, 0, 0, 0, 0, 0, 0, 0, 0, 0,\n",
              "       0, 0, 0, 0, 0, 0, 2, 0, 2, 0, 0, 0, 0, 0, 0, 0, 0, 0, 0, 0, 0, 0,\n",
              "       0, 0, 0, 0, 0, 0, 0, 0, 0, 0, 0, 0, 0, 2, 0, 0, 0, 0, 0, 0, 0, 0,\n",
              "       0, 0, 0, 0, 0, 0, 0, 2, 2, 0], dtype=int32)"
            ]
          },
          "metadata": {},
          "execution_count": 145
        }
      ]
    },
    {
      "cell_type": "code",
      "metadata": {
        "id": "pnmf6fWS5-0g"
      },
      "source": [
        "new_scaled['grupo'] = kmeans.labels_"
      ],
      "execution_count": 146,
      "outputs": []
    },
    {
      "cell_type": "code",
      "metadata": {
        "colab": {
          "base_uri": "https://localhost:8080/"
        },
        "id": "VilwhiPN5-sY",
        "outputId": "45c61ece-b765-463e-ee11-a83461c81420"
      },
      "source": [
        "new_scaled['grupo'].value_counts()"
      ],
      "execution_count": 147,
      "outputs": [
        {
          "output_type": "execute_result",
          "data": {
            "text/plain": [
              "0    4002\n",
              "2     329\n",
              "1       8\n",
              "Name: grupo, dtype: int64"
            ]
          },
          "metadata": {},
          "execution_count": 147
        }
      ]
    },
    {
      "cell_type": "code",
      "metadata": {
        "id": "BTZad_4obSHT"
      },
      "source": [
        "new_scaled = new_scaled.rename(columns={0:'FrecuenciaCompra_scaled'})"
      ],
      "execution_count": 150,
      "outputs": []
    },
    {
      "cell_type": "code",
      "metadata": {
        "id": "PgTYvHakxle9"
      },
      "source": [
        "new_scaled = new_scaled.reset_index()"
      ],
      "execution_count": 151,
      "outputs": []
    },
    {
      "cell_type": "code",
      "metadata": {
        "colab": {
          "base_uri": "https://localhost:8080/",
          "height": 424
        },
        "id": "hYFXx5WCcbPe",
        "outputId": "d83007b2-cdf0-4723-d278-ce2595de5b78"
      },
      "source": [
        "new_scaled"
      ],
      "execution_count": 152,
      "outputs": [
        {
          "output_type": "execute_result",
          "data": {
            "text/html": [
              "<div>\n",
              "<style scoped>\n",
              "    .dataframe tbody tr th:only-of-type {\n",
              "        vertical-align: middle;\n",
              "    }\n",
              "\n",
              "    .dataframe tbody tr th {\n",
              "        vertical-align: top;\n",
              "    }\n",
              "\n",
              "    .dataframe thead th {\n",
              "        text-align: right;\n",
              "    }\n",
              "</style>\n",
              "<table border=\"1\" class=\"dataframe\">\n",
              "  <thead>\n",
              "    <tr style=\"text-align: right;\">\n",
              "      <th></th>\n",
              "      <th>CustomerID</th>\n",
              "      <th>FrecuenciaCompra_scaled</th>\n",
              "      <th>grupo</th>\n",
              "    </tr>\n",
              "  </thead>\n",
              "  <tbody>\n",
              "    <tr>\n",
              "      <th>0</th>\n",
              "      <td>12346.0</td>\n",
              "      <td>-0.424675</td>\n",
              "      <td>0</td>\n",
              "    </tr>\n",
              "    <tr>\n",
              "      <th>1</th>\n",
              "      <td>12347.0</td>\n",
              "      <td>0.354080</td>\n",
              "      <td>0</td>\n",
              "    </tr>\n",
              "    <tr>\n",
              "      <th>2</th>\n",
              "      <td>12348.0</td>\n",
              "      <td>-0.035297</td>\n",
              "      <td>0</td>\n",
              "    </tr>\n",
              "    <tr>\n",
              "      <th>3</th>\n",
              "      <td>12349.0</td>\n",
              "      <td>-0.424675</td>\n",
              "      <td>0</td>\n",
              "    </tr>\n",
              "    <tr>\n",
              "      <th>4</th>\n",
              "      <td>12350.0</td>\n",
              "      <td>-0.424675</td>\n",
              "      <td>0</td>\n",
              "    </tr>\n",
              "    <tr>\n",
              "      <th>...</th>\n",
              "      <td>...</td>\n",
              "      <td>...</td>\n",
              "      <td>...</td>\n",
              "    </tr>\n",
              "    <tr>\n",
              "      <th>4334</th>\n",
              "      <td>18280.0</td>\n",
              "      <td>-0.424675</td>\n",
              "      <td>0</td>\n",
              "    </tr>\n",
              "    <tr>\n",
              "      <th>4335</th>\n",
              "      <td>18281.0</td>\n",
              "      <td>-0.424675</td>\n",
              "      <td>0</td>\n",
              "    </tr>\n",
              "    <tr>\n",
              "      <th>4336</th>\n",
              "      <td>18282.0</td>\n",
              "      <td>-0.294882</td>\n",
              "      <td>0</td>\n",
              "    </tr>\n",
              "    <tr>\n",
              "      <th>4337</th>\n",
              "      <td>18283.0</td>\n",
              "      <td>1.522213</td>\n",
              "      <td>2</td>\n",
              "    </tr>\n",
              "    <tr>\n",
              "      <th>4338</th>\n",
              "      <td>18287.0</td>\n",
              "      <td>-0.165090</td>\n",
              "      <td>0</td>\n",
              "    </tr>\n",
              "  </tbody>\n",
              "</table>\n",
              "<p>4339 rows × 3 columns</p>\n",
              "</div>"
            ],
            "text/plain": [
              "      CustomerID  FrecuenciaCompra_scaled  grupo\n",
              "0        12346.0                -0.424675      0\n",
              "1        12347.0                 0.354080      0\n",
              "2        12348.0                -0.035297      0\n",
              "3        12349.0                -0.424675      0\n",
              "4        12350.0                -0.424675      0\n",
              "...          ...                      ...    ...\n",
              "4334     18280.0                -0.424675      0\n",
              "4335     18281.0                -0.424675      0\n",
              "4336     18282.0                -0.294882      0\n",
              "4337     18283.0                 1.522213      2\n",
              "4338     18287.0                -0.165090      0\n",
              "\n",
              "[4339 rows x 3 columns]"
            ]
          },
          "metadata": {},
          "execution_count": 152
        }
      ]
    },
    {
      "cell_type": "code",
      "metadata": {
        "id": "MltFWCMas7t3"
      },
      "source": [
        "# Comparando los grupos"
      ],
      "execution_count": null,
      "outputs": []
    },
    {
      "cell_type": "code",
      "metadata": {
        "id": "xphvf4gp5-kE"
      },
      "source": [
        "group_cluster = new_scaled.groupby(['grupo'])['FrecuenciaCompra_scaled'].describe()\n"
      ],
      "execution_count": 153,
      "outputs": []
    },
    {
      "cell_type": "code",
      "metadata": {
        "colab": {
          "base_uri": "https://localhost:8080/",
          "height": 175
        },
        "id": "tTn7Z0oAhmSb",
        "outputId": "44224688-2a97-4745-82b2-99982e62fd14"
      },
      "source": [
        "group_cluster"
      ],
      "execution_count": 172,
      "outputs": [
        {
          "output_type": "execute_result",
          "data": {
            "text/html": [
              "<div>\n",
              "<style scoped>\n",
              "    .dataframe tbody tr th:only-of-type {\n",
              "        vertical-align: middle;\n",
              "    }\n",
              "\n",
              "    .dataframe tbody tr th {\n",
              "        vertical-align: top;\n",
              "    }\n",
              "\n",
              "    .dataframe thead th {\n",
              "        text-align: right;\n",
              "    }\n",
              "</style>\n",
              "<table border=\"1\" class=\"dataframe\">\n",
              "  <thead>\n",
              "    <tr style=\"text-align: right;\">\n",
              "      <th></th>\n",
              "      <th>count</th>\n",
              "      <th>mean</th>\n",
              "      <th>std</th>\n",
              "      <th>min</th>\n",
              "      <th>25%</th>\n",
              "      <th>50%</th>\n",
              "      <th>75%</th>\n",
              "      <th>max</th>\n",
              "    </tr>\n",
              "    <tr>\n",
              "      <th>grupo</th>\n",
              "      <th></th>\n",
              "      <th></th>\n",
              "      <th></th>\n",
              "      <th></th>\n",
              "      <th></th>\n",
              "      <th></th>\n",
              "      <th></th>\n",
              "      <th></th>\n",
              "    </tr>\n",
              "  </thead>\n",
              "  <tbody>\n",
              "    <tr>\n",
              "      <th>0</th>\n",
              "      <td>4002.0</td>\n",
              "      <td>-0.184095</td>\n",
              "      <td>0.286275</td>\n",
              "      <td>-0.424675</td>\n",
              "      <td>-0.424675</td>\n",
              "      <td>-0.294882</td>\n",
              "      <td>-0.035297</td>\n",
              "      <td>0.743458</td>\n",
              "    </tr>\n",
              "    <tr>\n",
              "      <th>1</th>\n",
              "      <td>8.0</td>\n",
              "      <td>15.280219</td>\n",
              "      <td>6.940476</td>\n",
              "      <td>9.050178</td>\n",
              "      <td>11.094410</td>\n",
              "      <td>11.775821</td>\n",
              "      <td>18.038310</td>\n",
              "      <td>26.701960</td>\n",
              "    </tr>\n",
              "    <tr>\n",
              "      <th>2</th>\n",
              "      <td>329.0</td>\n",
              "      <td>1.867800</td>\n",
              "      <td>1.262288</td>\n",
              "      <td>0.873250</td>\n",
              "      <td>1.003043</td>\n",
              "      <td>1.392420</td>\n",
              "      <td>2.171175</td>\n",
              "      <td>7.622461</td>\n",
              "    </tr>\n",
              "  </tbody>\n",
              "</table>\n",
              "</div>"
            ],
            "text/plain": [
              "        count       mean       std  ...        50%        75%        max\n",
              "grupo                               ...                                 \n",
              "0      4002.0  -0.184095  0.286275  ...  -0.294882  -0.035297   0.743458\n",
              "1         8.0  15.280219  6.940476  ...  11.775821  18.038310  26.701960\n",
              "2       329.0   1.867800  1.262288  ...   1.392420   2.171175   7.622461\n",
              "\n",
              "[3 rows x 8 columns]"
            ]
          },
          "metadata": {},
          "execution_count": 172
        }
      ]
    },
    {
      "cell_type": "code",
      "metadata": {
        "colab": {
          "base_uri": "https://localhost:8080/"
        },
        "id": "vo0taREugNY9",
        "outputId": "0ae51bcf-f803-4b44-a35d-9e3f4ffbcb98"
      },
      "source": [
        "group_cluster['mean']"
      ],
      "execution_count": 170,
      "outputs": [
        {
          "output_type": "execute_result",
          "data": {
            "text/plain": [
              "grupo\n",
              "0    -0.184095\n",
              "1    15.280219\n",
              "2     1.867800\n",
              "Name: mean, dtype: float64"
            ]
          },
          "metadata": {},
          "execution_count": 170
        }
      ]
    },
    {
      "cell_type": "code",
      "metadata": {
        "colab": {
          "base_uri": "https://localhost:8080/"
        },
        "id": "oXqwdQNzhij_",
        "outputId": "00753302-b272-49e2-b640-6d077e16a670"
      },
      "source": [
        "group_cluster['count']"
      ],
      "execution_count": 171,
      "outputs": [
        {
          "output_type": "execute_result",
          "data": {
            "text/plain": [
              "grupo\n",
              "0    4002.0\n",
              "1       8.0\n",
              "2     329.0\n",
              "Name: count, dtype: float64"
            ]
          },
          "metadata": {},
          "execution_count": 171
        }
      ]
    },
    {
      "cell_type": "code",
      "metadata": {
        "colab": {
          "base_uri": "https://localhost:8080/"
        },
        "id": "aUdPtgyJxbRO",
        "outputId": "37c87773-71a7-4eab-bb41-4a5d7c76c416"
      },
      "source": [
        "pd.merge(df,new_scaled, on ='CustomerID').groupby('grupo')['Country'].value_counts()"
      ],
      "execution_count": 173,
      "outputs": [
        {
          "output_type": "execute_result",
          "data": {
            "text/plain": [
              "grupo  Country             \n",
              "0      United Kingdom          229965\n",
              "       Germany                   6162\n",
              "       France                    5843\n",
              "       Spain                     2007\n",
              "       Switzerland               1842\n",
              "       Belgium                   1821\n",
              "       Portugal                  1091\n",
              "       Norway                    1072\n",
              "       Italy                      758\n",
              "       Channel Islands            748\n",
              "       Finland                    685\n",
              "       Cyprus                     614\n",
              "       Austria                    398\n",
              "       Denmark                    380\n",
              "       Poland                     330\n",
              "       Japan                      321\n",
              "       Australia                  287\n",
              "       Netherlands                283\n",
              "       Sweden                     253\n",
              "       Israel                     248\n",
              "       Unspecified                244\n",
              "       Singapore                  222\n",
              "       Iceland                    182\n",
              "       USA                        179\n",
              "       EIRE                       161\n",
              "       Canada                     151\n",
              "       Greece                     145\n",
              "       Malta                      112\n",
              "       United Arab Emirates        68\n",
              "       European Community          60\n",
              "       RSA                         58\n",
              "       Lebanon                     45\n",
              "       Lithuania                   35\n",
              "       Brazil                      32\n",
              "       Czech Republic              25\n",
              "       Bahrain                     17\n",
              "       Saudi Arabia                 9\n",
              "1      United Kingdom           19645\n",
              "       EIRE                      5677\n",
              "       Netherlands               2080\n",
              "2      United Kingdom          104735\n",
              "       Germany                   2880\n",
              "       France                    2499\n",
              "       EIRE                      1400\n",
              "       Australia                  898\n",
              "       Spain                      478\n",
              "       Portugal                   371\n",
              "       Belgium                    210\n",
              "       Sweden                     198\n",
              "Name: Country, dtype: int64"
            ]
          },
          "metadata": {},
          "execution_count": 173
        }
      ]
    },
    {
      "cell_type": "code",
      "metadata": {
        "colab": {
          "base_uri": "https://localhost:8080/",
          "height": 226
        },
        "id": "X84vjkNd1uNL",
        "outputId": "514866e3-ba5f-4f5b-a1db-23ef335420bf"
      },
      "source": [
        "pd.merge(df,new_scaled, on ='CustomerID').groupby('grupo')[['UnitPrice','Quantity','Total_gastado']].describe()"
      ],
      "execution_count": 162,
      "outputs": [
        {
          "output_type": "execute_result",
          "data": {
            "text/html": [
              "<div>\n",
              "<style scoped>\n",
              "    .dataframe tbody tr th:only-of-type {\n",
              "        vertical-align: middle;\n",
              "    }\n",
              "\n",
              "    .dataframe tbody tr th {\n",
              "        vertical-align: top;\n",
              "    }\n",
              "\n",
              "    .dataframe thead tr th {\n",
              "        text-align: left;\n",
              "    }\n",
              "\n",
              "    .dataframe thead tr:last-of-type th {\n",
              "        text-align: right;\n",
              "    }\n",
              "</style>\n",
              "<table border=\"1\" class=\"dataframe\">\n",
              "  <thead>\n",
              "    <tr>\n",
              "      <th></th>\n",
              "      <th colspan=\"8\" halign=\"left\">UnitPrice</th>\n",
              "      <th colspan=\"8\" halign=\"left\">Quantity</th>\n",
              "      <th colspan=\"8\" halign=\"left\">Total_gastado</th>\n",
              "    </tr>\n",
              "    <tr>\n",
              "      <th></th>\n",
              "      <th>count</th>\n",
              "      <th>mean</th>\n",
              "      <th>std</th>\n",
              "      <th>min</th>\n",
              "      <th>25%</th>\n",
              "      <th>50%</th>\n",
              "      <th>75%</th>\n",
              "      <th>max</th>\n",
              "      <th>count</th>\n",
              "      <th>mean</th>\n",
              "      <th>std</th>\n",
              "      <th>min</th>\n",
              "      <th>25%</th>\n",
              "      <th>50%</th>\n",
              "      <th>75%</th>\n",
              "      <th>max</th>\n",
              "      <th>count</th>\n",
              "      <th>mean</th>\n",
              "      <th>std</th>\n",
              "      <th>min</th>\n",
              "      <th>25%</th>\n",
              "      <th>50%</th>\n",
              "      <th>75%</th>\n",
              "      <th>max</th>\n",
              "    </tr>\n",
              "    <tr>\n",
              "      <th>grupo</th>\n",
              "      <th></th>\n",
              "      <th></th>\n",
              "      <th></th>\n",
              "      <th></th>\n",
              "      <th></th>\n",
              "      <th></th>\n",
              "      <th></th>\n",
              "      <th></th>\n",
              "      <th></th>\n",
              "      <th></th>\n",
              "      <th></th>\n",
              "      <th></th>\n",
              "      <th></th>\n",
              "      <th></th>\n",
              "      <th></th>\n",
              "      <th></th>\n",
              "      <th></th>\n",
              "      <th></th>\n",
              "      <th></th>\n",
              "      <th></th>\n",
              "      <th></th>\n",
              "      <th></th>\n",
              "      <th></th>\n",
              "      <th></th>\n",
              "    </tr>\n",
              "  </thead>\n",
              "  <tbody>\n",
              "    <tr>\n",
              "      <th>0</th>\n",
              "      <td>256853.0</td>\n",
              "      <td>3.078103</td>\n",
              "      <td>18.270150</td>\n",
              "      <td>0.0</td>\n",
              "      <td>1.25</td>\n",
              "      <td>1.95</td>\n",
              "      <td>3.75</td>\n",
              "      <td>4161.06</td>\n",
              "      <td>256853.0</td>\n",
              "      <td>10.534921</td>\n",
              "      <td>220.633908</td>\n",
              "      <td>1.0</td>\n",
              "      <td>2.0</td>\n",
              "      <td>5.0</td>\n",
              "      <td>12.0</td>\n",
              "      <td>80995.0</td>\n",
              "      <td>256853.0</td>\n",
              "      <td>17.599766</td>\n",
              "      <td>376.649520</td>\n",
              "      <td>0.0</td>\n",
              "      <td>4.68</td>\n",
              "      <td>11.25</td>\n",
              "      <td>17.7</td>\n",
              "      <td>168469.60</td>\n",
              "    </tr>\n",
              "    <tr>\n",
              "      <th>1</th>\n",
              "      <td>27402.0</td>\n",
              "      <td>3.016404</td>\n",
              "      <td>16.021408</td>\n",
              "      <td>0.0</td>\n",
              "      <td>1.04</td>\n",
              "      <td>1.65</td>\n",
              "      <td>3.25</td>\n",
              "      <td>1687.17</td>\n",
              "      <td>27402.0</td>\n",
              "      <td>15.020874</td>\n",
              "      <td>43.645404</td>\n",
              "      <td>1.0</td>\n",
              "      <td>1.0</td>\n",
              "      <td>3.0</td>\n",
              "      <td>12.0</td>\n",
              "      <td>2400.0</td>\n",
              "      <td>27402.0</td>\n",
              "      <td>23.417366</td>\n",
              "      <td>64.422647</td>\n",
              "      <td>0.0</td>\n",
              "      <td>2.50</td>\n",
              "      <td>6.75</td>\n",
              "      <td>17.7</td>\n",
              "      <td>4992.00</td>\n",
              "    </tr>\n",
              "    <tr>\n",
              "      <th>2</th>\n",
              "      <td>113669.0</td>\n",
              "      <td>3.226255</td>\n",
              "      <td>29.885360</td>\n",
              "      <td>0.0</td>\n",
              "      <td>1.25</td>\n",
              "      <td>1.95</td>\n",
              "      <td>3.75</td>\n",
              "      <td>8142.75</td>\n",
              "      <td>113669.0</td>\n",
              "      <td>18.159463</td>\n",
              "      <td>58.777182</td>\n",
              "      <td>1.0</td>\n",
              "      <td>2.0</td>\n",
              "      <td>6.0</td>\n",
              "      <td>12.0</td>\n",
              "      <td>4800.0</td>\n",
              "      <td>113669.0</td>\n",
              "      <td>32.983246</td>\n",
              "      <td>112.440292</td>\n",
              "      <td>0.0</td>\n",
              "      <td>5.10</td>\n",
              "      <td>14.85</td>\n",
              "      <td>23.4</td>\n",
              "      <td>8142.75</td>\n",
              "    </tr>\n",
              "  </tbody>\n",
              "</table>\n",
              "</div>"
            ],
            "text/plain": [
              "      UnitPrice                            ... Total_gastado                        \n",
              "          count      mean        std  min  ...           25%    50%   75%        max\n",
              "grupo                                      ...                                      \n",
              "0      256853.0  3.078103  18.270150  0.0  ...          4.68  11.25  17.7  168469.60\n",
              "1       27402.0  3.016404  16.021408  0.0  ...          2.50   6.75  17.7    4992.00\n",
              "2      113669.0  3.226255  29.885360  0.0  ...          5.10  14.85  23.4    8142.75\n",
              "\n",
              "[3 rows x 24 columns]"
            ]
          },
          "metadata": {},
          "execution_count": 162
        }
      ]
    },
    {
      "cell_type": "code",
      "metadata": {
        "colab": {
          "base_uri": "https://localhost:8080/",
          "height": 175
        },
        "id": "B6TEb8P1j66v",
        "outputId": "97d519e5-23d8-4447-9ea4-40910faa7f60"
      },
      "source": [
        "pd.merge(df,new_scaled, on ='CustomerID').groupby('grupo')[['UnitPrice']].mean()"
      ],
      "execution_count": 176,
      "outputs": [
        {
          "output_type": "execute_result",
          "data": {
            "text/html": [
              "<div>\n",
              "<style scoped>\n",
              "    .dataframe tbody tr th:only-of-type {\n",
              "        vertical-align: middle;\n",
              "    }\n",
              "\n",
              "    .dataframe tbody tr th {\n",
              "        vertical-align: top;\n",
              "    }\n",
              "\n",
              "    .dataframe thead th {\n",
              "        text-align: right;\n",
              "    }\n",
              "</style>\n",
              "<table border=\"1\" class=\"dataframe\">\n",
              "  <thead>\n",
              "    <tr style=\"text-align: right;\">\n",
              "      <th></th>\n",
              "      <th>UnitPrice</th>\n",
              "    </tr>\n",
              "    <tr>\n",
              "      <th>grupo</th>\n",
              "      <th></th>\n",
              "    </tr>\n",
              "  </thead>\n",
              "  <tbody>\n",
              "    <tr>\n",
              "      <th>0</th>\n",
              "      <td>3.078103</td>\n",
              "    </tr>\n",
              "    <tr>\n",
              "      <th>1</th>\n",
              "      <td>3.016404</td>\n",
              "    </tr>\n",
              "    <tr>\n",
              "      <th>2</th>\n",
              "      <td>3.226255</td>\n",
              "    </tr>\n",
              "  </tbody>\n",
              "</table>\n",
              "</div>"
            ],
            "text/plain": [
              "       UnitPrice\n",
              "grupo           \n",
              "0       3.078103\n",
              "1       3.016404\n",
              "2       3.226255"
            ]
          },
          "metadata": {},
          "execution_count": 176
        }
      ]
    },
    {
      "cell_type": "code",
      "metadata": {
        "colab": {
          "base_uri": "https://localhost:8080/",
          "height": 175
        },
        "id": "19VhQN-xkO8E",
        "outputId": "773ec2e0-d7a2-458a-9b03-539bdc1235e2"
      },
      "source": [
        "pd.merge(df,new_scaled, on ='CustomerID').groupby('grupo')[['Quantity']].mean()"
      ],
      "execution_count": 179,
      "outputs": [
        {
          "output_type": "execute_result",
          "data": {
            "text/html": [
              "<div>\n",
              "<style scoped>\n",
              "    .dataframe tbody tr th:only-of-type {\n",
              "        vertical-align: middle;\n",
              "    }\n",
              "\n",
              "    .dataframe tbody tr th {\n",
              "        vertical-align: top;\n",
              "    }\n",
              "\n",
              "    .dataframe thead th {\n",
              "        text-align: right;\n",
              "    }\n",
              "</style>\n",
              "<table border=\"1\" class=\"dataframe\">\n",
              "  <thead>\n",
              "    <tr style=\"text-align: right;\">\n",
              "      <th></th>\n",
              "      <th>Quantity</th>\n",
              "    </tr>\n",
              "    <tr>\n",
              "      <th>grupo</th>\n",
              "      <th></th>\n",
              "    </tr>\n",
              "  </thead>\n",
              "  <tbody>\n",
              "    <tr>\n",
              "      <th>0</th>\n",
              "      <td>10.534921</td>\n",
              "    </tr>\n",
              "    <tr>\n",
              "      <th>1</th>\n",
              "      <td>15.020874</td>\n",
              "    </tr>\n",
              "    <tr>\n",
              "      <th>2</th>\n",
              "      <td>18.159463</td>\n",
              "    </tr>\n",
              "  </tbody>\n",
              "</table>\n",
              "</div>"
            ],
            "text/plain": [
              "        Quantity\n",
              "grupo           \n",
              "0      10.534921\n",
              "1      15.020874\n",
              "2      18.159463"
            ]
          },
          "metadata": {},
          "execution_count": 179
        }
      ]
    },
    {
      "cell_type": "code",
      "metadata": {
        "colab": {
          "base_uri": "https://localhost:8080/",
          "height": 175
        },
        "id": "xbApm5IwkPbJ",
        "outputId": "6ab54f6d-6d57-41dc-f191-a05bc5bc6720"
      },
      "source": [
        "pd.merge(df,new_scaled, on ='CustomerID').groupby('grupo')[['Total_gastado']].mean()"
      ],
      "execution_count": 178,
      "outputs": [
        {
          "output_type": "execute_result",
          "data": {
            "text/html": [
              "<div>\n",
              "<style scoped>\n",
              "    .dataframe tbody tr th:only-of-type {\n",
              "        vertical-align: middle;\n",
              "    }\n",
              "\n",
              "    .dataframe tbody tr th {\n",
              "        vertical-align: top;\n",
              "    }\n",
              "\n",
              "    .dataframe thead th {\n",
              "        text-align: right;\n",
              "    }\n",
              "</style>\n",
              "<table border=\"1\" class=\"dataframe\">\n",
              "  <thead>\n",
              "    <tr style=\"text-align: right;\">\n",
              "      <th></th>\n",
              "      <th>Total_gastado</th>\n",
              "    </tr>\n",
              "    <tr>\n",
              "      <th>grupo</th>\n",
              "      <th></th>\n",
              "    </tr>\n",
              "  </thead>\n",
              "  <tbody>\n",
              "    <tr>\n",
              "      <th>0</th>\n",
              "      <td>17.599766</td>\n",
              "    </tr>\n",
              "    <tr>\n",
              "      <th>1</th>\n",
              "      <td>23.417366</td>\n",
              "    </tr>\n",
              "    <tr>\n",
              "      <th>2</th>\n",
              "      <td>32.983246</td>\n",
              "    </tr>\n",
              "  </tbody>\n",
              "</table>\n",
              "</div>"
            ],
            "text/plain": [
              "       Total_gastado\n",
              "grupo               \n",
              "0          17.599766\n",
              "1          23.417366\n",
              "2          32.983246"
            ]
          },
          "metadata": {},
          "execution_count": 178
        }
      ]
    },
    {
      "cell_type": "markdown",
      "metadata": {
        "id": "sFVAq08xs1cq"
      },
      "source": [
        "## Conclución - Insights"
      ]
    },
    {
      "cell_type": "code",
      "metadata": {
        "id": "9h41Et1esqEx"
      },
      "source": [
        "# Productos con Stock code: 23843, 23166, 84077 son los mas populares. \n",
        "# 10am – 3pm es el horario mas popular. Se aconseja poner mas trabajadores en las tiendas en este horario.\n",
        "# Por otro lado hay pocas compras antes de 9am y después de 5pm.\n",
        "# 65% de los clientes tienen una frecuencia de compra de uno, dos, o tres veces. \n",
        "# El 10% de clientes con mas frecuencia de compra tienen un promedio de 19 veces.\n"
      ],
      "execution_count": null,
      "outputs": []
    },
    {
      "cell_type": "code",
      "metadata": {
        "id": "V2BFu4LS7Eqs"
      },
      "source": [
        "# La media gastado para cada cliente es $2.054, mientras la media para cada invoice es $419. \n",
        "# Hay un promedio de 224 días desde la primera compra de un cliente. \n",
        "# Promedio de 93 días desde ultima compra. \n",
        "# Tres grupos creados con clustering. Grupo 1 tiene un frecuencia de compra mas alta. Sugiere que los clientes en este grupo son mas fieles. "
      ],
      "execution_count": null,
      "outputs": []
    },
    {
      "cell_type": "code",
      "metadata": {
        "id": "mRIA-7D37Elg"
      },
      "source": [
        ""
      ],
      "execution_count": null,
      "outputs": []
    },
    {
      "cell_type": "code",
      "metadata": {
        "id": "k4OAzqsL7EcI"
      },
      "source": [
        ""
      ],
      "execution_count": null,
      "outputs": []
    },
    {
      "cell_type": "code",
      "metadata": {
        "id": "OfPjhgb87ESA"
      },
      "source": [
        ""
      ],
      "execution_count": null,
      "outputs": []
    },
    {
      "cell_type": "code",
      "metadata": {
        "id": "FS3lskshhcz7"
      },
      "source": [
        ""
      ],
      "execution_count": null,
      "outputs": []
    },
    {
      "cell_type": "code",
      "metadata": {
        "id": "p1jr7k7FhcxJ"
      },
      "source": [
        ""
      ],
      "execution_count": null,
      "outputs": []
    }
  ]
}