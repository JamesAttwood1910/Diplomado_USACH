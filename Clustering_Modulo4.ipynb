{
  "nbformat": 4,
  "nbformat_minor": 0,
  "metadata": {
    "colab": {
      "name": "JamesAttwood_Tarea_Modulo4_09082021.ipynb",
      "provenance": [],
      "authorship_tag": "ABX9TyNqv+AYtkG+k9FCdYy00hUt",
      "include_colab_link": true
    },
    "kernelspec": {
      "name": "python3",
      "display_name": "Python 3"
    },
    "language_info": {
      "name": "python"
    }
  },
  "cells": [
    {
      "cell_type": "markdown",
      "metadata": {
        "id": "view-in-github",
        "colab_type": "text"
      },
      "source": [
        "<a href=\"https://colab.research.google.com/github/JamesAttwood1910/Diplomado_USACH/blob/main/Clustering_Modulo4.ipynb\" target=\"_parent\"><img src=\"https://colab.research.google.com/assets/colab-badge.svg\" alt=\"Open In Colab\"/></a>"
      ]
    },
    {
      "cell_type": "code",
      "metadata": {
        "id": "hBkWABaGjdM5"
      },
      "source": [
        "# Tarea 1 "
      ],
      "execution_count": null,
      "outputs": []
    },
    {
      "cell_type": "code",
      "metadata": {
        "id": "fL5wSQpLjoxb"
      },
      "source": [
        "# Instalar librarias\n",
        "import numpy as np # Números\n",
        "import pandas as pd # Dataframe\n",
        "import matplotlib.pyplot as plt # visualización\n",
        "import matplotlib.ticker as ticker\n",
        "import seaborn as sns\n",
        "from datetime import datetime\n",
        "\n",
        "# comando mágico para habilitar el ploteo de gráficos en el Notebook actual.\n",
        "%matplotlib inline\n",
        "\n",
        "import pandas as pd\n",
        "import matplotlib.pyplot as plt\n",
        "from sklearn.preprocessing import StandardScaler\n",
        "from scipy.cluster.hierarchy import dendrogram, linkage\n",
        "from scipy.cluster.hierarchy import fcluster\n",
        "from scipy.spatial.distance import pdist, squareform\n",
        "\n"
      ],
      "execution_count": null,
      "outputs": []
    },
    {
      "cell_type": "code",
      "metadata": {
        "id": "6FWnTG-Wqz8m"
      },
      "source": [
        "pd.set_option('display.float_format', lambda x: '%.5f' % x)"
      ],
      "execution_count": null,
      "outputs": []
    },
    {
      "cell_type": "code",
      "metadata": {
        "colab": {
          "base_uri": "https://localhost:8080/"
        },
        "id": "3luHxF52jovd",
        "outputId": "e2df33f5-4458-4a24-c8ad-c6885ecbbae8"
      },
      "source": [
        "# unir colab con google drive \n",
        "\n",
        "from google.colab import drive\n",
        "drive.mount('/content/drive/')"
      ],
      "execution_count": null,
      "outputs": [
        {
          "output_type": "stream",
          "text": [
            "Mounted at /content/drive/\n"
          ],
          "name": "stdout"
        }
      ]
    },
    {
      "cell_type": "code",
      "metadata": {
        "id": "FG4nQ0V0jorC"
      },
      "source": [
        "data = pd.read_csv(\"/content/drive/MyDrive/Modulo4/OnlineRetail.csv\", encoding= 'unicode_escape')"
      ],
      "execution_count": null,
      "outputs": []
    },
    {
      "cell_type": "code",
      "metadata": {
        "colab": {
          "base_uri": "https://localhost:8080/",
          "height": 206
        },
        "id": "H8K8GCKejoo3",
        "outputId": "5afd9b20-61f4-4f00-f476-ea723b50a469"
      },
      "source": [
        "data.head()"
      ],
      "execution_count": null,
      "outputs": [
        {
          "output_type": "execute_result",
          "data": {
            "text/html": [
              "<div>\n",
              "<style scoped>\n",
              "    .dataframe tbody tr th:only-of-type {\n",
              "        vertical-align: middle;\n",
              "    }\n",
              "\n",
              "    .dataframe tbody tr th {\n",
              "        vertical-align: top;\n",
              "    }\n",
              "\n",
              "    .dataframe thead th {\n",
              "        text-align: right;\n",
              "    }\n",
              "</style>\n",
              "<table border=\"1\" class=\"dataframe\">\n",
              "  <thead>\n",
              "    <tr style=\"text-align: right;\">\n",
              "      <th></th>\n",
              "      <th>InvoiceNo</th>\n",
              "      <th>StockCode</th>\n",
              "      <th>Description</th>\n",
              "      <th>Quantity</th>\n",
              "      <th>InvoiceDate</th>\n",
              "      <th>UnitPrice</th>\n",
              "      <th>CustomerID</th>\n",
              "      <th>Country</th>\n",
              "    </tr>\n",
              "  </thead>\n",
              "  <tbody>\n",
              "    <tr>\n",
              "      <th>0</th>\n",
              "      <td>536365</td>\n",
              "      <td>85123A</td>\n",
              "      <td>WHITE HANGING HEART T-LIGHT HOLDER</td>\n",
              "      <td>6</td>\n",
              "      <td>12/1/2010 8:26</td>\n",
              "      <td>2.55</td>\n",
              "      <td>17850.0</td>\n",
              "      <td>United Kingdom</td>\n",
              "    </tr>\n",
              "    <tr>\n",
              "      <th>1</th>\n",
              "      <td>536365</td>\n",
              "      <td>71053</td>\n",
              "      <td>WHITE METAL LANTERN</td>\n",
              "      <td>6</td>\n",
              "      <td>12/1/2010 8:26</td>\n",
              "      <td>3.39</td>\n",
              "      <td>17850.0</td>\n",
              "      <td>United Kingdom</td>\n",
              "    </tr>\n",
              "    <tr>\n",
              "      <th>2</th>\n",
              "      <td>536365</td>\n",
              "      <td>84406B</td>\n",
              "      <td>CREAM CUPID HEARTS COAT HANGER</td>\n",
              "      <td>8</td>\n",
              "      <td>12/1/2010 8:26</td>\n",
              "      <td>2.75</td>\n",
              "      <td>17850.0</td>\n",
              "      <td>United Kingdom</td>\n",
              "    </tr>\n",
              "    <tr>\n",
              "      <th>3</th>\n",
              "      <td>536365</td>\n",
              "      <td>84029G</td>\n",
              "      <td>KNITTED UNION FLAG HOT WATER BOTTLE</td>\n",
              "      <td>6</td>\n",
              "      <td>12/1/2010 8:26</td>\n",
              "      <td>3.39</td>\n",
              "      <td>17850.0</td>\n",
              "      <td>United Kingdom</td>\n",
              "    </tr>\n",
              "    <tr>\n",
              "      <th>4</th>\n",
              "      <td>536365</td>\n",
              "      <td>84029E</td>\n",
              "      <td>RED WOOLLY HOTTIE WHITE HEART.</td>\n",
              "      <td>6</td>\n",
              "      <td>12/1/2010 8:26</td>\n",
              "      <td>3.39</td>\n",
              "      <td>17850.0</td>\n",
              "      <td>United Kingdom</td>\n",
              "    </tr>\n",
              "  </tbody>\n",
              "</table>\n",
              "</div>"
            ],
            "text/plain": [
              "  InvoiceNo StockCode  ... CustomerID         Country\n",
              "0    536365    85123A  ...    17850.0  United Kingdom\n",
              "1    536365     71053  ...    17850.0  United Kingdom\n",
              "2    536365    84406B  ...    17850.0  United Kingdom\n",
              "3    536365    84029G  ...    17850.0  United Kingdom\n",
              "4    536365    84029E  ...    17850.0  United Kingdom\n",
              "\n",
              "[5 rows x 8 columns]"
            ]
          },
          "metadata": {
            "tags": []
          },
          "execution_count": 7
        }
      ]
    },
    {
      "cell_type": "code",
      "metadata": {
        "colab": {
          "base_uri": "https://localhost:8080/"
        },
        "id": "dOz0wGKMjomp",
        "outputId": "82d382fa-5d0d-4dc4-c970-c71d379a0cf9"
      },
      "source": [
        "data.info() # valores faltantes en Description, Customer ID. \n",
        "            # hay que convertir invoiceNo a un int64, y InvoiceDate a un DateTime"
      ],
      "execution_count": null,
      "outputs": [
        {
          "output_type": "stream",
          "text": [
            "<class 'pandas.core.frame.DataFrame'>\n",
            "RangeIndex: 541909 entries, 0 to 541908\n",
            "Data columns (total 8 columns):\n",
            " #   Column       Non-Null Count   Dtype  \n",
            "---  ------       --------------   -----  \n",
            " 0   InvoiceNo    541909 non-null  object \n",
            " 1   StockCode    541909 non-null  object \n",
            " 2   Description  540455 non-null  object \n",
            " 3   Quantity     541909 non-null  int64  \n",
            " 4   InvoiceDate  541909 non-null  object \n",
            " 5   UnitPrice    541909 non-null  float64\n",
            " 6   CustomerID   406829 non-null  float64\n",
            " 7   Country      541909 non-null  object \n",
            "dtypes: float64(2), int64(1), object(5)\n",
            "memory usage: 33.1+ MB\n"
          ],
          "name": "stdout"
        }
      ]
    },
    {
      "cell_type": "code",
      "metadata": {
        "id": "o0sXeBPljoj6"
      },
      "source": [
        "# Primera parte \n",
        "\n",
        "# pregunta 1\n",
        "\n",
        "# Graficar la cantidad de ordenes (Invoice) por cada día de la semana. ¿Qué\n",
        "# día se producen la mayor cantidad de ordenes y cuando la menor?"
      ],
      "execution_count": null,
      "outputs": []
    },
    {
      "cell_type": "code",
      "metadata": {
        "id": "t2ostCF7mzhT"
      },
      "source": [
        "# crear nueva variable para dia de la semana. \n",
        "\n",
        "data['InvoiceDate'] = data['InvoiceDate'].astype('datetime64[ns]')\n",
        "data['InvoiceDate_Day'] = data['InvoiceDate'].dt.day_name()"
      ],
      "execution_count": null,
      "outputs": []
    },
    {
      "cell_type": "code",
      "metadata": {
        "colab": {
          "base_uri": "https://localhost:8080/",
          "height": 298
        },
        "id": "oroNXI3JoJ4U",
        "outputId": "7429a14b-fd0c-4ab5-c568-b9afddd82dc0"
      },
      "source": [
        "grafico1 = data.groupby(by = 'InvoiceDate_Day').count().reset_index()\n",
        "\n",
        "sns.barplot(x = 'InvoiceDate_Day', y = 'InvoiceNo', data = grafico1)\n",
        "\n",
        "# Dia con mayor cantidad de ordenes es Thursday!\n",
        "\n",
        "# Dia con menor cantidad es Sunday! "
      ],
      "execution_count": null,
      "outputs": [
        {
          "output_type": "execute_result",
          "data": {
            "text/plain": [
              "<matplotlib.axes._subplots.AxesSubplot at 0x7fc38ee8d310>"
            ]
          },
          "metadata": {
            "tags": []
          },
          "execution_count": 26
        },
        {
          "output_type": "display_data",
          "data": {
            "image/png": "[encoded data removed]",
            "text/plain": [
              "<Figure size 432x288 with 1 Axes>"
            ]
          },
          "metadata": {
            "tags": [],
            "needs_background": "light"
          }
        }
      ]
    },
    {
      "cell_type": "code",
      "metadata": {
        "id": "hpIfzaThplz2"
      },
      "source": [
        "# Pregunta 2\n",
        "\n",
        "# ¿Cuales son los 5 países que más gastan en promedio? graficar y tabla"
      ],
      "execution_count": null,
      "outputs": []
    },
    {
      "cell_type": "code",
      "metadata": {
        "id": "2rz9YfkyqATO"
      },
      "source": [
        "# Crear nueva variable 'total spend' (gasto total)\n",
        "\n",
        "data['TotalSpend'] = data['Quantity'] * data['UnitPrice']"
      ],
      "execution_count": null,
      "outputs": []
    },
    {
      "cell_type": "code",
      "metadata": {
        "colab": {
          "base_uri": "https://localhost:8080/",
          "height": 1000
        },
        "id": "HWLHu66Iplxs",
        "outputId": "31a26fd6-3206-4006-ceec-a5cce1678654"
      },
      "source": [
        "data.groupby(by = 'Country').sum().astype('int64').reset_index().sort_values(by = 'TotalSpend', ascending = False)[['Country', 'TotalSpend']]."
      ],
      "execution_count": null,
      "outputs": [
        {
          "output_type": "execute_result",
          "data": {
            "text/html": [
              "<div>\n",
              "<style scoped>\n",
              "    .dataframe tbody tr th:only-of-type {\n",
              "        vertical-align: middle;\n",
              "    }\n",
              "\n",
              "    .dataframe tbody tr th {\n",
              "        vertical-align: top;\n",
              "    }\n",
              "\n",
              "    .dataframe thead th {\n",
              "        text-align: right;\n",
              "    }\n",
              "</style>\n",
              "<table border=\"1\" class=\"dataframe\">\n",
              "  <thead>\n",
              "    <tr style=\"text-align: right;\">\n",
              "      <th></th>\n",
              "      <th>Country</th>\n",
              "      <th>TotalSpend</th>\n",
              "    </tr>\n",
              "  </thead>\n",
              "  <tbody>\n",
              "    <tr>\n",
              "      <th>36</th>\n",
              "      <td>United Kingdom</td>\n",
              "      <td>8187806</td>\n",
              "    </tr>\n",
              "    <tr>\n",
              "      <th>24</th>\n",
              "      <td>Netherlands</td>\n",
              "      <td>284661</td>\n",
              "    </tr>\n",
              "    <tr>\n",
              "      <th>10</th>\n",
              "      <td>EIRE</td>\n",
              "      <td>263276</td>\n",
              "    </tr>\n",
              "    <tr>\n",
              "      <th>14</th>\n",
              "      <td>Germany</td>\n",
              "      <td>221698</td>\n",
              "    </tr>\n",
              "    <tr>\n",
              "      <th>13</th>\n",
              "      <td>France</td>\n",
              "      <td>197403</td>\n",
              "    </tr>\n",
              "    <tr>\n",
              "      <th>0</th>\n",
              "      <td>Australia</td>\n",
              "      <td>137077</td>\n",
              "    </tr>\n",
              "    <tr>\n",
              "      <th>33</th>\n",
              "      <td>Switzerland</td>\n",
              "      <td>56385</td>\n",
              "    </tr>\n",
              "    <tr>\n",
              "      <th>31</th>\n",
              "      <td>Spain</td>\n",
              "      <td>54774</td>\n",
              "    </tr>\n",
              "    <tr>\n",
              "      <th>3</th>\n",
              "      <td>Belgium</td>\n",
              "      <td>40910</td>\n",
              "    </tr>\n",
              "    <tr>\n",
              "      <th>32</th>\n",
              "      <td>Sweden</td>\n",
              "      <td>36595</td>\n",
              "    </tr>\n",
              "    <tr>\n",
              "      <th>20</th>\n",
              "      <td>Japan</td>\n",
              "      <td>35340</td>\n",
              "    </tr>\n",
              "    <tr>\n",
              "      <th>25</th>\n",
              "      <td>Norway</td>\n",
              "      <td>35163</td>\n",
              "    </tr>\n",
              "    <tr>\n",
              "      <th>27</th>\n",
              "      <td>Portugal</td>\n",
              "      <td>29367</td>\n",
              "    </tr>\n",
              "    <tr>\n",
              "      <th>12</th>\n",
              "      <td>Finland</td>\n",
              "      <td>22326</td>\n",
              "    </tr>\n",
              "    <tr>\n",
              "      <th>6</th>\n",
              "      <td>Channel Islands</td>\n",
              "      <td>20086</td>\n",
              "    </tr>\n",
              "    <tr>\n",
              "      <th>9</th>\n",
              "      <td>Denmark</td>\n",
              "      <td>18768</td>\n",
              "    </tr>\n",
              "    <tr>\n",
              "      <th>19</th>\n",
              "      <td>Italy</td>\n",
              "      <td>16890</td>\n",
              "    </tr>\n",
              "    <tr>\n",
              "      <th>7</th>\n",
              "      <td>Cyprus</td>\n",
              "      <td>12946</td>\n",
              "    </tr>\n",
              "    <tr>\n",
              "      <th>1</th>\n",
              "      <td>Austria</td>\n",
              "      <td>10154</td>\n",
              "    </tr>\n",
              "    <tr>\n",
              "      <th>16</th>\n",
              "      <td>Hong Kong</td>\n",
              "      <td>10117</td>\n",
              "    </tr>\n",
              "    <tr>\n",
              "      <th>30</th>\n",
              "      <td>Singapore</td>\n",
              "      <td>9120</td>\n",
              "    </tr>\n",
              "    <tr>\n",
              "      <th>18</th>\n",
              "      <td>Israel</td>\n",
              "      <td>7907</td>\n",
              "    </tr>\n",
              "    <tr>\n",
              "      <th>26</th>\n",
              "      <td>Poland</td>\n",
              "      <td>7213</td>\n",
              "    </tr>\n",
              "    <tr>\n",
              "      <th>37</th>\n",
              "      <td>Unspecified</td>\n",
              "      <td>4749</td>\n",
              "    </tr>\n",
              "    <tr>\n",
              "      <th>15</th>\n",
              "      <td>Greece</td>\n",
              "      <td>4710</td>\n",
              "    </tr>\n",
              "    <tr>\n",
              "      <th>17</th>\n",
              "      <td>Iceland</td>\n",
              "      <td>4309</td>\n",
              "    </tr>\n",
              "    <tr>\n",
              "      <th>5</th>\n",
              "      <td>Canada</td>\n",
              "      <td>3666</td>\n",
              "    </tr>\n",
              "    <tr>\n",
              "      <th>23</th>\n",
              "      <td>Malta</td>\n",
              "      <td>2505</td>\n",
              "    </tr>\n",
              "    <tr>\n",
              "      <th>35</th>\n",
              "      <td>United Arab Emirates</td>\n",
              "      <td>1902</td>\n",
              "    </tr>\n",
              "    <tr>\n",
              "      <th>34</th>\n",
              "      <td>USA</td>\n",
              "      <td>1730</td>\n",
              "    </tr>\n",
              "    <tr>\n",
              "      <th>21</th>\n",
              "      <td>Lebanon</td>\n",
              "      <td>1693</td>\n",
              "    </tr>\n",
              "    <tr>\n",
              "      <th>22</th>\n",
              "      <td>Lithuania</td>\n",
              "      <td>1661</td>\n",
              "    </tr>\n",
              "    <tr>\n",
              "      <th>11</th>\n",
              "      <td>European Community</td>\n",
              "      <td>1291</td>\n",
              "    </tr>\n",
              "    <tr>\n",
              "      <th>4</th>\n",
              "      <td>Brazil</td>\n",
              "      <td>1143</td>\n",
              "    </tr>\n",
              "    <tr>\n",
              "      <th>28</th>\n",
              "      <td>RSA</td>\n",
              "      <td>1002</td>\n",
              "    </tr>\n",
              "    <tr>\n",
              "      <th>8</th>\n",
              "      <td>Czech Republic</td>\n",
              "      <td>707</td>\n",
              "    </tr>\n",
              "    <tr>\n",
              "      <th>2</th>\n",
              "      <td>Bahrain</td>\n",
              "      <td>548</td>\n",
              "    </tr>\n",
              "    <tr>\n",
              "      <th>29</th>\n",
              "      <td>Saudi Arabia</td>\n",
              "      <td>131</td>\n",
              "    </tr>\n",
              "  </tbody>\n",
              "</table>\n",
              "</div>"
            ],
            "text/plain": [
              "                 Country  TotalSpend\n",
              "36        United Kingdom     8187806\n",
              "24           Netherlands      284661\n",
              "10                  EIRE      263276\n",
              "14               Germany      221698\n",
              "13                France      197403\n",
              "0              Australia      137077\n",
              "33           Switzerland       56385\n",
              "31                 Spain       54774\n",
              "3                Belgium       40910\n",
              "32                Sweden       36595\n",
              "20                 Japan       35340\n",
              "25                Norway       35163\n",
              "27              Portugal       29367\n",
              "12               Finland       22326\n",
              "6        Channel Islands       20086\n",
              "9                Denmark       18768\n",
              "19                 Italy       16890\n",
              "7                 Cyprus       12946\n",
              "1                Austria       10154\n",
              "16             Hong Kong       10117\n",
              "30             Singapore        9120\n",
              "18                Israel        7907\n",
              "26                Poland        7213\n",
              "37           Unspecified        4749\n",
              "15                Greece        4710\n",
              "17               Iceland        4309\n",
              "5                 Canada        3666\n",
              "23                 Malta        2505\n",
              "35  United Arab Emirates        1902\n",
              "34                   USA        1730\n",
              "21               Lebanon        1693\n",
              "22             Lithuania        1661\n",
              "11    European Community        1291\n",
              "4                 Brazil        1143\n",
              "28                   RSA        1002\n",
              "8         Czech Republic         707\n",
              "2                Bahrain         548\n",
              "29          Saudi Arabia         131"
            ]
          },
          "metadata": {
            "tags": []
          },
          "execution_count": 54
        }
      ]
    },
    {
      "cell_type": "code",
      "metadata": {
        "colab": {
          "base_uri": "https://localhost:8080/",
          "height": 238
        },
        "id": "l12G1vSqumZs",
        "outputId": "a9034f26-9830-4e97-e956-7c348b7a12f2"
      },
      "source": [
        "# Graficar 5 paises con mas venta total y agrupar los otros paises en grupo 'other'. \n",
        "\n",
        "n = 5 \n",
        "\n",
        "df_sorted = data.groupby(by = 'Country').sum().astype('int64').reset_index().sort_values(by = 'TotalSpend', ascending = False, ignore_index=True)\n",
        "\n",
        "df_sorted.loc[df_sorted.index >= n, 'Country'] = 'Others'\n",
        "\n",
        "grafico2 = df_sorted.groupby('Country').sum().sort_values(by = 'TotalSpend', ascending = False).reset_index()\n",
        "\n",
        "grafico2\n",
        "\n",
        "# los 5 paises que gastan mas son UK, Netherlands, EIRE (ireland), Germany, France"
      ],
      "execution_count": null,
      "outputs": [
        {
          "output_type": "execute_result",
          "data": {
            "text/html": [
              "<div>\n",
              "<style scoped>\n",
              "    .dataframe tbody tr th:only-of-type {\n",
              "        vertical-align: middle;\n",
              "    }\n",
              "\n",
              "    .dataframe tbody tr th {\n",
              "        vertical-align: top;\n",
              "    }\n",
              "\n",
              "    .dataframe thead th {\n",
              "        text-align: right;\n",
              "    }\n",
              "</style>\n",
              "<table border=\"1\" class=\"dataframe\">\n",
              "  <thead>\n",
              "    <tr style=\"text-align: right;\">\n",
              "      <th></th>\n",
              "      <th>Country</th>\n",
              "      <th>Quantity</th>\n",
              "      <th>UnitPrice</th>\n",
              "      <th>CustomerID</th>\n",
              "      <th>TotalSpend</th>\n",
              "    </tr>\n",
              "  </thead>\n",
              "  <tbody>\n",
              "    <tr>\n",
              "      <th>0</th>\n",
              "      <td>United Kingdom</td>\n",
              "      <td>4263829</td>\n",
              "      <td>2245715</td>\n",
              "      <td>5626432595</td>\n",
              "      <td>8187806</td>\n",
              "    </tr>\n",
              "    <tr>\n",
              "      <th>1</th>\n",
              "      <td>Others</td>\n",
              "      <td>341928</td>\n",
              "      <td>117436</td>\n",
              "      <td>220737032</td>\n",
              "      <td>592885</td>\n",
              "    </tr>\n",
              "    <tr>\n",
              "      <th>2</th>\n",
              "      <td>Netherlands</td>\n",
              "      <td>200128</td>\n",
              "      <td>6492</td>\n",
              "      <td>34190538</td>\n",
              "      <td>284661</td>\n",
              "    </tr>\n",
              "    <tr>\n",
              "      <th>3</th>\n",
              "      <td>EIRE</td>\n",
              "      <td>142637</td>\n",
              "      <td>48447</td>\n",
              "      <td>110391745</td>\n",
              "      <td>263276</td>\n",
              "    </tr>\n",
              "    <tr>\n",
              "      <th>4</th>\n",
              "      <td>Germany</td>\n",
              "      <td>117448</td>\n",
              "      <td>37666</td>\n",
              "      <td>120075093</td>\n",
              "      <td>221698</td>\n",
              "    </tr>\n",
              "    <tr>\n",
              "      <th>5</th>\n",
              "      <td>France</td>\n",
              "      <td>110480</td>\n",
              "      <td>43031</td>\n",
              "      <td>107648864</td>\n",
              "      <td>197403</td>\n",
              "    </tr>\n",
              "  </tbody>\n",
              "</table>\n",
              "</div>"
            ],
            "text/plain": [
              "          Country  Quantity  UnitPrice  CustomerID  TotalSpend\n",
              "0  United Kingdom   4263829    2245715  5626432595     8187806\n",
              "1          Others    341928     117436   220737032      592885\n",
              "2     Netherlands    200128       6492    34190538      284661\n",
              "3            EIRE    142637      48447   110391745      263276\n",
              "4         Germany    117448      37666   120075093      221698\n",
              "5          France    110480      43031   107648864      197403"
            ]
          },
          "metadata": {
            "tags": []
          },
          "execution_count": 72
        }
      ]
    },
    {
      "cell_type": "code",
      "metadata": {
        "colab": {
          "base_uri": "https://localhost:8080/",
          "height": 308
        },
        "id": "YJpvsVdrvOtN",
        "outputId": "91c3c7dc-9b92-4f0a-b3db-bf213cd396d8"
      },
      "source": [
        "pd.options.display.float_format = '{:.2f}'.format\n",
        "\n",
        "sns.barplot(data = grafico2, x = 'Country', y = 'TotalSpend')\n"
      ],
      "execution_count": null,
      "outputs": [
        {
          "output_type": "execute_result",
          "data": {
            "text/plain": [
              "<matplotlib.axes._subplots.AxesSubplot at 0x7fc38d304b10>"
            ]
          },
          "metadata": {
            "tags": []
          },
          "execution_count": 74
        },
        {
          "output_type": "display_data",
          "data": {
            "image/png": "[encoded data removed]",
            "text/plain": [
              "<Figure size 432x288 with 1 Axes>"
            ]
          },
          "metadata": {
            "tags": [],
            "needs_background": "light"
          }
        }
      ]
    },
    {
      "cell_type": "code",
      "metadata": {
        "colab": {
          "base_uri": "https://localhost:8080/",
          "height": 990
        },
        "id": "aMBrrJeY01qs",
        "outputId": "0676cf23-3b64-4620-8866-c8bab66a02ae"
      },
      "source": [
        "# como varia venta total para estos 5 paises con agegacion por dia de la semana? \n",
        "grafico3 = data[data['Country'].isin(['United Kingdom', 'Netherlands', 'EIRE', 'Germany', 'France'])].groupby(by = ['Country', 'InvoiceDate_Day']).sum().astype('int64').reset_index()[['Country', 'InvoiceDate_Day', 'TotalSpend']].sort_values(by = ['Country','TotalSpend'], ascending = False)\n",
        "grafico3\n"
      ],
      "execution_count": null,
      "outputs": [
        {
          "output_type": "execute_result",
          "data": {
            "text/html": [
              "<div>\n",
              "<style scoped>\n",
              "    .dataframe tbody tr th:only-of-type {\n",
              "        vertical-align: middle;\n",
              "    }\n",
              "\n",
              "    .dataframe tbody tr th {\n",
              "        vertical-align: top;\n",
              "    }\n",
              "\n",
              "    .dataframe thead th {\n",
              "        text-align: right;\n",
              "    }\n",
              "</style>\n",
              "<table border=\"1\" class=\"dataframe\">\n",
              "  <thead>\n",
              "    <tr style=\"text-align: right;\">\n",
              "      <th></th>\n",
              "      <th>Country</th>\n",
              "      <th>InvoiceDate_Day</th>\n",
              "      <th>TotalSpend</th>\n",
              "    </tr>\n",
              "  </thead>\n",
              "  <tbody>\n",
              "    <tr>\n",
              "      <th>27</th>\n",
              "      <td>United Kingdom</td>\n",
              "      <td>Thursday</td>\n",
              "      <td>1720142</td>\n",
              "    </tr>\n",
              "    <tr>\n",
              "      <th>28</th>\n",
              "      <td>United Kingdom</td>\n",
              "      <td>Tuesday</td>\n",
              "      <td>1683364</td>\n",
              "    </tr>\n",
              "    <tr>\n",
              "      <th>29</th>\n",
              "      <td>United Kingdom</td>\n",
              "      <td>Wednesday</td>\n",
              "      <td>1436952</td>\n",
              "    </tr>\n",
              "    <tr>\n",
              "      <th>25</th>\n",
              "      <td>United Kingdom</td>\n",
              "      <td>Monday</td>\n",
              "      <td>1364079</td>\n",
              "    </tr>\n",
              "    <tr>\n",
              "      <th>24</th>\n",
              "      <td>United Kingdom</td>\n",
              "      <td>Friday</td>\n",
              "      <td>1276033</td>\n",
              "    </tr>\n",
              "    <tr>\n",
              "      <th>26</th>\n",
              "      <td>United Kingdom</td>\n",
              "      <td>Sunday</td>\n",
              "      <td>707234</td>\n",
              "    </tr>\n",
              "    <tr>\n",
              "      <th>21</th>\n",
              "      <td>Netherlands</td>\n",
              "      <td>Thursday</td>\n",
              "      <td>95030</td>\n",
              "    </tr>\n",
              "    <tr>\n",
              "      <th>22</th>\n",
              "      <td>Netherlands</td>\n",
              "      <td>Tuesday</td>\n",
              "      <td>71588</td>\n",
              "    </tr>\n",
              "    <tr>\n",
              "      <th>23</th>\n",
              "      <td>Netherlands</td>\n",
              "      <td>Wednesday</td>\n",
              "      <td>44584</td>\n",
              "    </tr>\n",
              "    <tr>\n",
              "      <th>19</th>\n",
              "      <td>Netherlands</td>\n",
              "      <td>Monday</td>\n",
              "      <td>34803</td>\n",
              "    </tr>\n",
              "    <tr>\n",
              "      <th>18</th>\n",
              "      <td>Netherlands</td>\n",
              "      <td>Friday</td>\n",
              "      <td>32831</td>\n",
              "    </tr>\n",
              "    <tr>\n",
              "      <th>20</th>\n",
              "      <td>Netherlands</td>\n",
              "      <td>Sunday</td>\n",
              "      <td>5823</td>\n",
              "    </tr>\n",
              "    <tr>\n",
              "      <th>15</th>\n",
              "      <td>Germany</td>\n",
              "      <td>Thursday</td>\n",
              "      <td>61550</td>\n",
              "    </tr>\n",
              "    <tr>\n",
              "      <th>12</th>\n",
              "      <td>Germany</td>\n",
              "      <td>Friday</td>\n",
              "      <td>49113</td>\n",
              "    </tr>\n",
              "    <tr>\n",
              "      <th>13</th>\n",
              "      <td>Germany</td>\n",
              "      <td>Monday</td>\n",
              "      <td>35760</td>\n",
              "    </tr>\n",
              "    <tr>\n",
              "      <th>17</th>\n",
              "      <td>Germany</td>\n",
              "      <td>Wednesday</td>\n",
              "      <td>34682</td>\n",
              "    </tr>\n",
              "    <tr>\n",
              "      <th>16</th>\n",
              "      <td>Germany</td>\n",
              "      <td>Tuesday</td>\n",
              "      <td>24271</td>\n",
              "    </tr>\n",
              "    <tr>\n",
              "      <th>14</th>\n",
              "      <td>Germany</td>\n",
              "      <td>Sunday</td>\n",
              "      <td>16319</td>\n",
              "    </tr>\n",
              "    <tr>\n",
              "      <th>11</th>\n",
              "      <td>France</td>\n",
              "      <td>Wednesday</td>\n",
              "      <td>44644</td>\n",
              "    </tr>\n",
              "    <tr>\n",
              "      <th>6</th>\n",
              "      <td>France</td>\n",
              "      <td>Friday</td>\n",
              "      <td>42483</td>\n",
              "    </tr>\n",
              "    <tr>\n",
              "      <th>9</th>\n",
              "      <td>France</td>\n",
              "      <td>Thursday</td>\n",
              "      <td>39425</td>\n",
              "    </tr>\n",
              "    <tr>\n",
              "      <th>7</th>\n",
              "      <td>France</td>\n",
              "      <td>Monday</td>\n",
              "      <td>29226</td>\n",
              "    </tr>\n",
              "    <tr>\n",
              "      <th>10</th>\n",
              "      <td>France</td>\n",
              "      <td>Tuesday</td>\n",
              "      <td>26730</td>\n",
              "    </tr>\n",
              "    <tr>\n",
              "      <th>8</th>\n",
              "      <td>France</td>\n",
              "      <td>Sunday</td>\n",
              "      <td>14893</td>\n",
              "    </tr>\n",
              "    <tr>\n",
              "      <th>0</th>\n",
              "      <td>EIRE</td>\n",
              "      <td>Friday</td>\n",
              "      <td>55666</td>\n",
              "    </tr>\n",
              "    <tr>\n",
              "      <th>1</th>\n",
              "      <td>EIRE</td>\n",
              "      <td>Monday</td>\n",
              "      <td>47229</td>\n",
              "    </tr>\n",
              "    <tr>\n",
              "      <th>4</th>\n",
              "      <td>EIRE</td>\n",
              "      <td>Tuesday</td>\n",
              "      <td>46499</td>\n",
              "    </tr>\n",
              "    <tr>\n",
              "      <th>3</th>\n",
              "      <td>EIRE</td>\n",
              "      <td>Thursday</td>\n",
              "      <td>45952</td>\n",
              "    </tr>\n",
              "    <tr>\n",
              "      <th>5</th>\n",
              "      <td>EIRE</td>\n",
              "      <td>Wednesday</td>\n",
              "      <td>42219</td>\n",
              "    </tr>\n",
              "    <tr>\n",
              "      <th>2</th>\n",
              "      <td>EIRE</td>\n",
              "      <td>Sunday</td>\n",
              "      <td>25709</td>\n",
              "    </tr>\n",
              "  </tbody>\n",
              "</table>\n",
              "</div>"
            ],
            "text/plain": [
              "           Country InvoiceDate_Day  TotalSpend\n",
              "27  United Kingdom        Thursday     1720142\n",
              "28  United Kingdom         Tuesday     1683364\n",
              "29  United Kingdom       Wednesday     1436952\n",
              "25  United Kingdom          Monday     1364079\n",
              "24  United Kingdom          Friday     1276033\n",
              "26  United Kingdom          Sunday      707234\n",
              "21     Netherlands        Thursday       95030\n",
              "22     Netherlands         Tuesday       71588\n",
              "23     Netherlands       Wednesday       44584\n",
              "19     Netherlands          Monday       34803\n",
              "18     Netherlands          Friday       32831\n",
              "20     Netherlands          Sunday        5823\n",
              "15         Germany        Thursday       61550\n",
              "12         Germany          Friday       49113\n",
              "13         Germany          Monday       35760\n",
              "17         Germany       Wednesday       34682\n",
              "16         Germany         Tuesday       24271\n",
              "14         Germany          Sunday       16319\n",
              "11          France       Wednesday       44644\n",
              "6           France          Friday       42483\n",
              "9           France        Thursday       39425\n",
              "7           France          Monday       29226\n",
              "10          France         Tuesday       26730\n",
              "8           France          Sunday       14893\n",
              "0             EIRE          Friday       55666\n",
              "1             EIRE          Monday       47229\n",
              "4             EIRE         Tuesday       46499\n",
              "3             EIRE        Thursday       45952\n",
              "5             EIRE       Wednesday       42219\n",
              "2             EIRE          Sunday       25709"
            ]
          },
          "metadata": {
            "tags": []
          },
          "execution_count": 108
        }
      ]
    },
    {
      "cell_type": "code",
      "metadata": {
        "colab": {
          "base_uri": "https://localhost:8080/",
          "height": 308
        },
        "id": "RceYL9Nu3-xh",
        "outputId": "48fe776f-b81f-429d-cdd5-ed3c93ba0450"
      },
      "source": [
        "sns.barplot(x = 'Country', y = 'TotalSpend', hue = 'InvoiceDate_Day', data = grafico3)"
      ],
      "execution_count": null,
      "outputs": [
        {
          "output_type": "execute_result",
          "data": {
            "text/plain": [
              "<matplotlib.axes._subplots.AxesSubplot at 0x7fc38ccb5210>"
            ]
          },
          "metadata": {
            "tags": []
          },
          "execution_count": 107
        },
        {
          "output_type": "display_data",
          "data": {
            "image/png": "[encoded data removed]",
            "text/plain": [
              "<Figure size 432x288 with 1 Axes>"
            ]
          },
          "metadata": {
            "tags": [],
            "needs_background": "light"
          }
        }
      ]
    },
    {
      "cell_type": "code",
      "metadata": {
        "colab": {
          "base_uri": "https://localhost:8080/",
          "height": 297
        },
        "id": "YRwR7Ufa17At",
        "outputId": "f20e0381-9827-4b88-bf28-768086fbd54a"
      },
      "source": [
        "# remover reino unido para ver los otros paises bien\n",
        "# idealmente sabria como hacer estos graficos con un for loop pero necesito aprender como hacerlo.\n",
        "# Thursday es el dia con mas total spend en 3 de los 5 paises.   \n",
        "\n",
        "sns.barplot(x = 'Country', y = 'TotalSpend', hue = 'InvoiceDate_Day', data = grafico3[grafico3['Country'] != 'United Kingdom'])"
      ],
      "execution_count": null,
      "outputs": [
        {
          "output_type": "execute_result",
          "data": {
            "text/plain": [
              "<matplotlib.axes._subplots.AxesSubplot at 0x7fc38ce09d10>"
            ]
          },
          "metadata": {
            "tags": []
          },
          "execution_count": 106
        },
        {
          "output_type": "display_data",
          "data": {
            "image/png": "[encoded data removed]",
            "text/plain": [
              "<Figure size 432x288 with 1 Axes>"
            ]
          },
          "metadata": {
            "tags": [],
            "needs_background": "light"
          }
        }
      ]
    },
    {
      "cell_type": "code",
      "metadata": {
        "id": "xM_Sqn-YplvV"
      },
      "source": [
        "# pregunta 3 \n",
        "\n",
        "# Hay items que la empresa entrega de regalo, ¿Cuantos se regalaron?. indicar cantidad por mes."
      ],
      "execution_count": null,
      "outputs": []
    },
    {
      "cell_type": "code",
      "metadata": {
        "colab": {
          "base_uri": "https://localhost:8080/",
          "height": 652
        },
        "id": "0T-3rtRX5kAH",
        "outputId": "5fdfd4f4-8b63-444a-8d0e-4ed808ba7911"
      },
      "source": [
        "# Identificar InvoiveNo con UnitPrice de $0\n",
        "\n",
        "data[data['UnitPrice'] == 0]"
      ],
      "execution_count": null,
      "outputs": [
        {
          "output_type": "execute_result",
          "data": {
            "text/html": [
              "<div>\n",
              "<style scoped>\n",
              "    .dataframe tbody tr th:only-of-type {\n",
              "        vertical-align: middle;\n",
              "    }\n",
              "\n",
              "    .dataframe tbody tr th {\n",
              "        vertical-align: top;\n",
              "    }\n",
              "\n",
              "    .dataframe thead th {\n",
              "        text-align: right;\n",
              "    }\n",
              "</style>\n",
              "<table border=\"1\" class=\"dataframe\">\n",
              "  <thead>\n",
              "    <tr style=\"text-align: right;\">\n",
              "      <th></th>\n",
              "      <th>InvoiceNo</th>\n",
              "      <th>StockCode</th>\n",
              "      <th>Description</th>\n",
              "      <th>Quantity</th>\n",
              "      <th>InvoiceDate</th>\n",
              "      <th>UnitPrice</th>\n",
              "      <th>CustomerID</th>\n",
              "      <th>Country</th>\n",
              "      <th>InvoiceDate_Day</th>\n",
              "      <th>TotalSpend</th>\n",
              "      <th>InvoiceDate_Month</th>\n",
              "    </tr>\n",
              "  </thead>\n",
              "  <tbody>\n",
              "    <tr>\n",
              "      <th>622</th>\n",
              "      <td>536414</td>\n",
              "      <td>22139</td>\n",
              "      <td>NaN</td>\n",
              "      <td>56</td>\n",
              "      <td>2010-12-01 11:52:00</td>\n",
              "      <td>0.00</td>\n",
              "      <td>nan</td>\n",
              "      <td>United Kingdom</td>\n",
              "      <td>Wednesday</td>\n",
              "      <td>0.00</td>\n",
              "      <td>December</td>\n",
              "    </tr>\n",
              "    <tr>\n",
              "      <th>1970</th>\n",
              "      <td>536545</td>\n",
              "      <td>21134</td>\n",
              "      <td>NaN</td>\n",
              "      <td>1</td>\n",
              "      <td>2010-12-01 14:32:00</td>\n",
              "      <td>0.00</td>\n",
              "      <td>nan</td>\n",
              "      <td>United Kingdom</td>\n",
              "      <td>Wednesday</td>\n",
              "      <td>0.00</td>\n",
              "      <td>December</td>\n",
              "    </tr>\n",
              "    <tr>\n",
              "      <th>1971</th>\n",
              "      <td>536546</td>\n",
              "      <td>22145</td>\n",
              "      <td>NaN</td>\n",
              "      <td>1</td>\n",
              "      <td>2010-12-01 14:33:00</td>\n",
              "      <td>0.00</td>\n",
              "      <td>nan</td>\n",
              "      <td>United Kingdom</td>\n",
              "      <td>Wednesday</td>\n",
              "      <td>0.00</td>\n",
              "      <td>December</td>\n",
              "    </tr>\n",
              "    <tr>\n",
              "      <th>1972</th>\n",
              "      <td>536547</td>\n",
              "      <td>37509</td>\n",
              "      <td>NaN</td>\n",
              "      <td>1</td>\n",
              "      <td>2010-12-01 14:33:00</td>\n",
              "      <td>0.00</td>\n",
              "      <td>nan</td>\n",
              "      <td>United Kingdom</td>\n",
              "      <td>Wednesday</td>\n",
              "      <td>0.00</td>\n",
              "      <td>December</td>\n",
              "    </tr>\n",
              "    <tr>\n",
              "      <th>1987</th>\n",
              "      <td>536549</td>\n",
              "      <td>85226A</td>\n",
              "      <td>NaN</td>\n",
              "      <td>1</td>\n",
              "      <td>2010-12-01 14:34:00</td>\n",
              "      <td>0.00</td>\n",
              "      <td>nan</td>\n",
              "      <td>United Kingdom</td>\n",
              "      <td>Wednesday</td>\n",
              "      <td>0.00</td>\n",
              "      <td>December</td>\n",
              "    </tr>\n",
              "    <tr>\n",
              "      <th>...</th>\n",
              "      <td>...</td>\n",
              "      <td>...</td>\n",
              "      <td>...</td>\n",
              "      <td>...</td>\n",
              "      <td>...</td>\n",
              "      <td>...</td>\n",
              "      <td>...</td>\n",
              "      <td>...</td>\n",
              "      <td>...</td>\n",
              "      <td>...</td>\n",
              "      <td>...</td>\n",
              "    </tr>\n",
              "    <tr>\n",
              "      <th>536981</th>\n",
              "      <td>581234</td>\n",
              "      <td>72817</td>\n",
              "      <td>NaN</td>\n",
              "      <td>27</td>\n",
              "      <td>2011-12-08 10:33:00</td>\n",
              "      <td>0.00</td>\n",
              "      <td>nan</td>\n",
              "      <td>United Kingdom</td>\n",
              "      <td>Thursday</td>\n",
              "      <td>0.00</td>\n",
              "      <td>December</td>\n",
              "    </tr>\n",
              "    <tr>\n",
              "      <th>538504</th>\n",
              "      <td>581406</td>\n",
              "      <td>46000M</td>\n",
              "      <td>POLYESTER FILLER PAD 45x45cm</td>\n",
              "      <td>240</td>\n",
              "      <td>2011-12-08 13:58:00</td>\n",
              "      <td>0.00</td>\n",
              "      <td>nan</td>\n",
              "      <td>United Kingdom</td>\n",
              "      <td>Thursday</td>\n",
              "      <td>0.00</td>\n",
              "      <td>December</td>\n",
              "    </tr>\n",
              "    <tr>\n",
              "      <th>538505</th>\n",
              "      <td>581406</td>\n",
              "      <td>46000S</td>\n",
              "      <td>POLYESTER FILLER PAD 40x40cm</td>\n",
              "      <td>300</td>\n",
              "      <td>2011-12-08 13:58:00</td>\n",
              "      <td>0.00</td>\n",
              "      <td>nan</td>\n",
              "      <td>United Kingdom</td>\n",
              "      <td>Thursday</td>\n",
              "      <td>0.00</td>\n",
              "      <td>December</td>\n",
              "    </tr>\n",
              "    <tr>\n",
              "      <th>538554</th>\n",
              "      <td>581408</td>\n",
              "      <td>85175</td>\n",
              "      <td>NaN</td>\n",
              "      <td>20</td>\n",
              "      <td>2011-12-08 14:06:00</td>\n",
              "      <td>0.00</td>\n",
              "      <td>nan</td>\n",
              "      <td>United Kingdom</td>\n",
              "      <td>Thursday</td>\n",
              "      <td>0.00</td>\n",
              "      <td>December</td>\n",
              "    </tr>\n",
              "    <tr>\n",
              "      <th>538919</th>\n",
              "      <td>581422</td>\n",
              "      <td>23169</td>\n",
              "      <td>smashed</td>\n",
              "      <td>-235</td>\n",
              "      <td>2011-12-08 15:24:00</td>\n",
              "      <td>0.00</td>\n",
              "      <td>nan</td>\n",
              "      <td>United Kingdom</td>\n",
              "      <td>Thursday</td>\n",
              "      <td>-0.00</td>\n",
              "      <td>December</td>\n",
              "    </tr>\n",
              "  </tbody>\n",
              "</table>\n",
              "<p>2515 rows × 11 columns</p>\n",
              "</div>"
            ],
            "text/plain": [
              "       InvoiceNo StockCode  ... TotalSpend  InvoiceDate_Month\n",
              "622       536414     22139  ...       0.00           December\n",
              "1970      536545     21134  ...       0.00           December\n",
              "1971      536546     22145  ...       0.00           December\n",
              "1972      536547     37509  ...       0.00           December\n",
              "1987      536549    85226A  ...       0.00           December\n",
              "...          ...       ...  ...        ...                ...\n",
              "536981    581234     72817  ...       0.00           December\n",
              "538504    581406    46000M  ...       0.00           December\n",
              "538505    581406    46000S  ...       0.00           December\n",
              "538554    581408     85175  ...       0.00           December\n",
              "538919    581422     23169  ...      -0.00           December\n",
              "\n",
              "[2515 rows x 11 columns]"
            ]
          },
          "metadata": {
            "tags": []
          },
          "execution_count": 133
        }
      ]
    },
    {
      "cell_type": "code",
      "metadata": {
        "id": "upDy9kA_plo6"
      },
      "source": [
        "# crear nueva variable para mes. \n",
        "\n",
        "data['InvoiceDate_Month'] = data['InvoiceDate'].dt.month_name()"
      ],
      "execution_count": null,
      "outputs": []
    },
    {
      "cell_type": "code",
      "metadata": {
        "colab": {
          "base_uri": "https://localhost:8080/",
          "height": 457
        },
        "id": "kNtmhDZ0plmx",
        "outputId": "4e774b33-6b8f-47db-a6ea-749c445e3182"
      },
      "source": [
        "# agrupar por mes y sumar cantidad de InvoiceNo con un valor de $0\n",
        "\n",
        "data[data['UnitPrice'] == 0].groupby(by = 'InvoiceDate_Month').sum() \n",
        "\n",
        "# Los valores negativos podrian indicar productos devueltos a la tienda? "
      ],
      "execution_count": null,
      "outputs": [
        {
          "output_type": "execute_result",
          "data": {
            "text/html": [
              "<div>\n",
              "<style scoped>\n",
              "    .dataframe tbody tr th:only-of-type {\n",
              "        vertical-align: middle;\n",
              "    }\n",
              "\n",
              "    .dataframe tbody tr th {\n",
              "        vertical-align: top;\n",
              "    }\n",
              "\n",
              "    .dataframe thead th {\n",
              "        text-align: right;\n",
              "    }\n",
              "</style>\n",
              "<table border=\"1\" class=\"dataframe\">\n",
              "  <thead>\n",
              "    <tr style=\"text-align: right;\">\n",
              "      <th></th>\n",
              "      <th>Quantity</th>\n",
              "      <th>UnitPrice</th>\n",
              "      <th>CustomerID</th>\n",
              "      <th>TotalSpend</th>\n",
              "    </tr>\n",
              "    <tr>\n",
              "      <th>InvoiceDate_Month</th>\n",
              "      <th></th>\n",
              "      <th></th>\n",
              "      <th></th>\n",
              "      <th></th>\n",
              "    </tr>\n",
              "  </thead>\n",
              "  <tbody>\n",
              "    <tr>\n",
              "      <th>April</th>\n",
              "      <td>-6072</td>\n",
              "      <td>0.00</td>\n",
              "      <td>26867.00</td>\n",
              "      <td>0.00</td>\n",
              "    </tr>\n",
              "    <tr>\n",
              "      <th>August</th>\n",
              "      <td>-3227</td>\n",
              "      <td>0.00</td>\n",
              "      <td>89076.00</td>\n",
              "      <td>0.00</td>\n",
              "    </tr>\n",
              "    <tr>\n",
              "      <th>December</th>\n",
              "      <td>-5303</td>\n",
              "      <td>0.00</td>\n",
              "      <td>44118.00</td>\n",
              "      <td>0.00</td>\n",
              "    </tr>\n",
              "    <tr>\n",
              "      <th>February</th>\n",
              "      <td>-2695</td>\n",
              "      <td>0.00</td>\n",
              "      <td>17560.00</td>\n",
              "      <td>0.00</td>\n",
              "    </tr>\n",
              "    <tr>\n",
              "      <th>January</th>\n",
              "      <td>1026</td>\n",
              "      <td>0.00</td>\n",
              "      <td>41269.00</td>\n",
              "      <td>0.00</td>\n",
              "    </tr>\n",
              "    <tr>\n",
              "      <th>July</th>\n",
              "      <td>-4615</td>\n",
              "      <td>0.00</td>\n",
              "      <td>29325.00</td>\n",
              "      <td>0.00</td>\n",
              "    </tr>\n",
              "    <tr>\n",
              "      <th>June</th>\n",
              "      <td>-40228</td>\n",
              "      <td>0.00</td>\n",
              "      <td>0.00</td>\n",
              "      <td>0.00</td>\n",
              "    </tr>\n",
              "    <tr>\n",
              "      <th>March</th>\n",
              "      <td>-20259</td>\n",
              "      <td>0.00</td>\n",
              "      <td>26352.00</td>\n",
              "      <td>0.00</td>\n",
              "    </tr>\n",
              "    <tr>\n",
              "      <th>May</th>\n",
              "      <td>-9479</td>\n",
              "      <td>0.00</td>\n",
              "      <td>30082.00</td>\n",
              "      <td>0.00</td>\n",
              "    </tr>\n",
              "    <tr>\n",
              "      <th>November</th>\n",
              "      <td>-1600</td>\n",
              "      <td>0.00</td>\n",
              "      <td>188850.00</td>\n",
              "      <td>0.00</td>\n",
              "    </tr>\n",
              "    <tr>\n",
              "      <th>October</th>\n",
              "      <td>-28328</td>\n",
              "      <td>0.00</td>\n",
              "      <td>46309.00</td>\n",
              "      <td>0.00</td>\n",
              "    </tr>\n",
              "    <tr>\n",
              "      <th>September</th>\n",
              "      <td>-13574</td>\n",
              "      <td>0.00</td>\n",
              "      <td>28881.00</td>\n",
              "      <td>0.00</td>\n",
              "    </tr>\n",
              "  </tbody>\n",
              "</table>\n",
              "</div>"
            ],
            "text/plain": [
              "                   Quantity  UnitPrice  CustomerID  TotalSpend\n",
              "InvoiceDate_Month                                             \n",
              "April                 -6072       0.00    26867.00        0.00\n",
              "August                -3227       0.00    89076.00        0.00\n",
              "December              -5303       0.00    44118.00        0.00\n",
              "February              -2695       0.00    17560.00        0.00\n",
              "January                1026       0.00    41269.00        0.00\n",
              "July                  -4615       0.00    29325.00        0.00\n",
              "June                 -40228       0.00        0.00        0.00\n",
              "March                -20259       0.00    26352.00        0.00\n",
              "May                   -9479       0.00    30082.00        0.00\n",
              "November              -1600       0.00   188850.00        0.00\n",
              "October              -28328       0.00    46309.00        0.00\n",
              "September            -13574       0.00    28881.00        0.00"
            ]
          },
          "metadata": {
            "tags": []
          },
          "execution_count": 134
        }
      ]
    },
    {
      "cell_type": "code",
      "metadata": {
        "colab": {
          "base_uri": "https://localhost:8080/",
          "height": 457
        },
        "id": "q_RjzpjdplkY",
        "outputId": "631b6743-7e78-4390-c785-4e4fc7a2a68d"
      },
      "source": [
        "# filtrar Quantity para solo tener cantidades positivos (sugeriendo que no son productos devueltos a la tienda)\n",
        "\n",
        "data.loc[(data['UnitPrice'] == 0) & (data['Quantity'] >= 0)].groupby(by = 'InvoiceDate_Month').sum().sort_values(by=\"Quantity\", ascending = False)\n",
        "\n",
        "# November es el mes con mas regalos. "
      ],
      "execution_count": null,
      "outputs": [
        {
          "output_type": "execute_result",
          "data": {
            "text/html": [
              "<div>\n",
              "<style scoped>\n",
              "    .dataframe tbody tr th:only-of-type {\n",
              "        vertical-align: middle;\n",
              "    }\n",
              "\n",
              "    .dataframe tbody tr th {\n",
              "        vertical-align: top;\n",
              "    }\n",
              "\n",
              "    .dataframe thead th {\n",
              "        text-align: right;\n",
              "    }\n",
              "</style>\n",
              "<table border=\"1\" class=\"dataframe\">\n",
              "  <thead>\n",
              "    <tr style=\"text-align: right;\">\n",
              "      <th></th>\n",
              "      <th>Quantity</th>\n",
              "      <th>UnitPrice</th>\n",
              "      <th>CustomerID</th>\n",
              "      <th>TotalSpend</th>\n",
              "    </tr>\n",
              "    <tr>\n",
              "      <th>InvoiceDate_Month</th>\n",
              "      <th></th>\n",
              "      <th></th>\n",
              "      <th></th>\n",
              "      <th></th>\n",
              "    </tr>\n",
              "  </thead>\n",
              "  <tbody>\n",
              "    <tr>\n",
              "      <th>November</th>\n",
              "      <td>17091</td>\n",
              "      <td>0.00</td>\n",
              "      <td>188850.00</td>\n",
              "      <td>0.00</td>\n",
              "    </tr>\n",
              "    <tr>\n",
              "      <th>January</th>\n",
              "      <td>9931</td>\n",
              "      <td>0.00</td>\n",
              "      <td>41269.00</td>\n",
              "      <td>0.00</td>\n",
              "    </tr>\n",
              "    <tr>\n",
              "      <th>March</th>\n",
              "      <td>7424</td>\n",
              "      <td>0.00</td>\n",
              "      <td>26352.00</td>\n",
              "      <td>0.00</td>\n",
              "    </tr>\n",
              "    <tr>\n",
              "      <th>July</th>\n",
              "      <td>5780</td>\n",
              "      <td>0.00</td>\n",
              "      <td>29325.00</td>\n",
              "      <td>0.00</td>\n",
              "    </tr>\n",
              "    <tr>\n",
              "      <th>October</th>\n",
              "      <td>5344</td>\n",
              "      <td>0.00</td>\n",
              "      <td>46309.00</td>\n",
              "      <td>0.00</td>\n",
              "    </tr>\n",
              "    <tr>\n",
              "      <th>June</th>\n",
              "      <td>5124</td>\n",
              "      <td>0.00</td>\n",
              "      <td>0.00</td>\n",
              "      <td>0.00</td>\n",
              "    </tr>\n",
              "    <tr>\n",
              "      <th>September</th>\n",
              "      <td>4596</td>\n",
              "      <td>0.00</td>\n",
              "      <td>28881.00</td>\n",
              "      <td>0.00</td>\n",
              "    </tr>\n",
              "    <tr>\n",
              "      <th>December</th>\n",
              "      <td>3881</td>\n",
              "      <td>0.00</td>\n",
              "      <td>44118.00</td>\n",
              "      <td>0.00</td>\n",
              "    </tr>\n",
              "    <tr>\n",
              "      <th>May</th>\n",
              "      <td>3687</td>\n",
              "      <td>0.00</td>\n",
              "      <td>30082.00</td>\n",
              "      <td>0.00</td>\n",
              "    </tr>\n",
              "    <tr>\n",
              "      <th>April</th>\n",
              "      <td>3361</td>\n",
              "      <td>0.00</td>\n",
              "      <td>26867.00</td>\n",
              "      <td>0.00</td>\n",
              "    </tr>\n",
              "    <tr>\n",
              "      <th>August</th>\n",
              "      <td>3244</td>\n",
              "      <td>0.00</td>\n",
              "      <td>89076.00</td>\n",
              "      <td>0.00</td>\n",
              "    </tr>\n",
              "    <tr>\n",
              "      <th>February</th>\n",
              "      <td>3140</td>\n",
              "      <td>0.00</td>\n",
              "      <td>17560.00</td>\n",
              "      <td>0.00</td>\n",
              "    </tr>\n",
              "  </tbody>\n",
              "</table>\n",
              "</div>"
            ],
            "text/plain": [
              "                   Quantity  UnitPrice  CustomerID  TotalSpend\n",
              "InvoiceDate_Month                                             \n",
              "November              17091       0.00   188850.00        0.00\n",
              "January                9931       0.00    41269.00        0.00\n",
              "March                  7424       0.00    26352.00        0.00\n",
              "July                   5780       0.00    29325.00        0.00\n",
              "October                5344       0.00    46309.00        0.00\n",
              "June                   5124       0.00        0.00        0.00\n",
              "September              4596       0.00    28881.00        0.00\n",
              "December               3881       0.00    44118.00        0.00\n",
              "May                    3687       0.00    30082.00        0.00\n",
              "April                  3361       0.00    26867.00        0.00\n",
              "August                 3244       0.00    89076.00        0.00\n",
              "February               3140       0.00    17560.00        0.00"
            ]
          },
          "metadata": {
            "tags": []
          },
          "execution_count": 140
        }
      ]
    },
    {
      "cell_type": "code",
      "metadata": {
        "id": "5gFKTQCtplb4"
      },
      "source": [
        "# Parte 2 - cluster jerárquico"
      ],
      "execution_count": null,
      "outputs": []
    },
    {
      "cell_type": "code",
      "metadata": {
        "id": "t-ZBdTCmjoeK"
      },
      "source": [
        "data2 = pd.read_csv(\"/content/drive/MyDrive/Modulo4/SegmentationData.csv\")"
      ],
      "execution_count": null,
      "outputs": []
    },
    {
      "cell_type": "code",
      "metadata": {
        "colab": {
          "base_uri": "https://localhost:8080/",
          "height": 206
        },
        "id": "eo_0wKjRjoaS",
        "outputId": "d27c1ae8-429c-47d0-cde4-62b36b397bf0"
      },
      "source": [
        "data2.head()"
      ],
      "execution_count": null,
      "outputs": [
        {
          "output_type": "execute_result",
          "data": {
            "text/html": [
              "<div>\n",
              "<style scoped>\n",
              "    .dataframe tbody tr th:only-of-type {\n",
              "        vertical-align: middle;\n",
              "    }\n",
              "\n",
              "    .dataframe tbody tr th {\n",
              "        vertical-align: top;\n",
              "    }\n",
              "\n",
              "    .dataframe thead th {\n",
              "        text-align: right;\n",
              "    }\n",
              "</style>\n",
              "<table border=\"1\" class=\"dataframe\">\n",
              "  <thead>\n",
              "    <tr style=\"text-align: right;\">\n",
              "      <th></th>\n",
              "      <th>ID</th>\n",
              "      <th>Trendy</th>\n",
              "      <th>Styling</th>\n",
              "      <th>Reliability</th>\n",
              "      <th>Sportiness</th>\n",
              "      <th>Performance</th>\n",
              "      <th>Comfort</th>\n",
              "      <th>MBA</th>\n",
              "      <th>Choice</th>\n",
              "    </tr>\n",
              "  </thead>\n",
              "  <tbody>\n",
              "    <tr>\n",
              "      <th>0</th>\n",
              "      <td>1</td>\n",
              "      <td>10</td>\n",
              "      <td>20</td>\n",
              "      <td>35</td>\n",
              "      <td>5</td>\n",
              "      <td>20</td>\n",
              "      <td>10</td>\n",
              "      <td>MBA</td>\n",
              "      <td>Lexus</td>\n",
              "    </tr>\n",
              "    <tr>\n",
              "      <th>1</th>\n",
              "      <td>2</td>\n",
              "      <td>25</td>\n",
              "      <td>5</td>\n",
              "      <td>25</td>\n",
              "      <td>5</td>\n",
              "      <td>25</td>\n",
              "      <td>15</td>\n",
              "      <td>MBA</td>\n",
              "      <td>BMW</td>\n",
              "    </tr>\n",
              "    <tr>\n",
              "      <th>2</th>\n",
              "      <td>3</td>\n",
              "      <td>10</td>\n",
              "      <td>20</td>\n",
              "      <td>30</td>\n",
              "      <td>10</td>\n",
              "      <td>10</td>\n",
              "      <td>20</td>\n",
              "      <td>MBA</td>\n",
              "      <td>Lexus</td>\n",
              "    </tr>\n",
              "    <tr>\n",
              "      <th>3</th>\n",
              "      <td>4</td>\n",
              "      <td>10</td>\n",
              "      <td>15</td>\n",
              "      <td>30</td>\n",
              "      <td>10</td>\n",
              "      <td>20</td>\n",
              "      <td>15</td>\n",
              "      <td>MBA</td>\n",
              "      <td>BMW</td>\n",
              "    </tr>\n",
              "    <tr>\n",
              "      <th>4</th>\n",
              "      <td>5</td>\n",
              "      <td>20</td>\n",
              "      <td>10</td>\n",
              "      <td>40</td>\n",
              "      <td>1</td>\n",
              "      <td>14</td>\n",
              "      <td>15</td>\n",
              "      <td>MBA</td>\n",
              "      <td>Mercedes</td>\n",
              "    </tr>\n",
              "  </tbody>\n",
              "</table>\n",
              "</div>"
            ],
            "text/plain": [
              "   ID  Trendy  Styling  Reliability  ...  Performance  Comfort  MBA    Choice\n",
              "0   1      10       20           35  ...           20       10  MBA     Lexus\n",
              "1   2      25        5           25  ...           25       15  MBA       BMW\n",
              "2   3      10       20           30  ...           10       20  MBA     Lexus\n",
              "3   4      10       15           30  ...           20       15  MBA       BMW\n",
              "4   5      20       10           40  ...           14       15  MBA  Mercedes\n",
              "\n",
              "[5 rows x 9 columns]"
            ]
          },
          "metadata": {
            "tags": []
          },
          "execution_count": 142
        }
      ]
    },
    {
      "cell_type": "code",
      "metadata": {
        "id": "EPdOQZtXjoQV"
      },
      "source": [
        "# Obtener la solución de cluster jerárquico para k = 4 y con ella:\n",
        "# Poner nombre a los 4 clusters\n",
        "# Realizar crosstab (con MBA y Choice)\n",
        "# Calcular el test de chi-cuadrado (pearson) para los crosstab\n",
        "# (MBA y Choice) con el fin de responder si existe relación entre\n",
        "# las variables. ( alfa = 0.05) (no incorporar corrección de Yates)"
      ],
      "execution_count": null,
      "outputs": []
    },
    {
      "cell_type": "code",
      "metadata": {
        "id": "SB8qKmtQ9R4T"
      },
      "source": [
        "# Elegir variables numericos\n",
        "\n",
        "new_data2 = data2[['Trendy', 'Styling', 'Reliability', 'Sportiness', 'Performance', 'Comfort']]"
      ],
      "execution_count": null,
      "outputs": []
    },
    {
      "cell_type": "code",
      "metadata": {
        "colab": {
          "base_uri": "https://localhost:8080/"
        },
        "id": "Kc0kkM9180v0",
        "outputId": "e5fef3e5-5799-4248-e6ba-90f45f638a9f"
      },
      "source": [
        "#estandarizar las viariables, promedio = 0 y desviacion estandard = 1\n",
        "scaler = StandardScaler()\n",
        "new_scaled = scaler.fit_transform(new_data2)\n",
        "new_scaled"
      ],
      "execution_count": null,
      "outputs": [
        {
          "output_type": "execute_result",
          "data": {
            "text/plain": [
              "array([[-0.689164  ,  0.49914295,  1.77794095, -1.17173478,  0.08604462,\n",
              "        -1.11484105],\n",
              "       [ 1.44861102, -1.9300194 ,  0.35792247, -1.17173478,  0.83381334,\n",
              "        -0.08467147],\n",
              "       [-0.689164  ,  0.49914295,  1.06793171, -0.18401378, -1.40949283,\n",
              "         0.94549811],\n",
              "       [-0.689164  , -0.31057784,  1.06793171, -0.18401378,  0.08604462,\n",
              "        -0.08467147],\n",
              "       [ 0.73601934, -1.12029862,  2.48795019, -1.96191159, -0.81127785,\n",
              "        -0.08467147],\n",
              "       [ 0.73601934,  2.11858452, -1.77210526,  1.79142824, -1.40949283,\n",
              "        -1.11484105],\n",
              "       [-0.689164  , -0.63446615, -0.35208677,  1.19879563,  0.83381334,\n",
              "        -0.08467147],\n",
              "       [ 0.02342767, -1.12029862,  1.77794095, -0.18401378,  0.83381334,\n",
              "        -2.14501063],\n",
              "       [-1.97182901, -0.63446615,  0.35792247, -1.96191159,  2.32935079,\n",
              "         1.97566769],\n",
              "       [ 0.02342767,  0.49914295, -0.35208677, -0.18401378,  0.83381334,\n",
              "        -1.11484105],\n",
              "       [-1.40175567,  0.49914295,  0.35792247, -1.17173478,  0.83381334,\n",
              "         0.94549811],\n",
              "       [-1.40175567, -1.12029862, -0.35208677,  2.77914925,  1.58158207,\n",
              "        -1.11484105],\n",
              "       [ 0.73601934, -1.12029862, -0.35208677,  0.80370723,  0.08604462,\n",
              "        -0.08467147],\n",
              "       [ 1.44861102,  0.49914295,  0.35792247, -0.18401378, -1.40949283,\n",
              "        -1.11484105],\n",
              "       [-1.97182901, -1.44418693,  2.48795019, -1.96191159,  1.58158207,\n",
              "         0.94549811],\n",
              "       [-0.689164  ,  0.49914295, -0.35208677,  0.40861883,  0.08604462,\n",
              "         0.32739636],\n",
              "       [ 0.73601934,  1.30886373, -1.06209602,  0.80370723, -0.6617241 ,\n",
              "        -1.11484105],\n",
              "       [ 0.02342767, -0.31057784,  0.35792247, -0.18401378,  0.08604462,\n",
              "        -0.08467147],\n",
              "       [ 0.02342767, -0.31057784,  0.35792247,  1.79142824, -1.40949283,\n",
              "        -0.08467147],\n",
              "       [ 0.73601934,  0.49914295,  0.35792247, -0.18401378, -1.40949283,\n",
              "        -0.08467147],\n",
              "       [-1.40175567, -1.12029862,  2.48795019, -1.17173478,  0.08604462,\n",
              "         0.94549811],\n",
              "       [ 0.73601934, -1.12029862, -1.06209602, -0.18401378,  0.08604462,\n",
              "         1.97566769],\n",
              "       [-0.689164  ,  0.49914295,  2.48795019, -1.17173478, -0.6617241 ,\n",
              "        -1.11484105],\n",
              "       [-1.97182901, -0.31057784,  1.06793171, -0.38155798,  0.83381334,\n",
              "         0.94549811],\n",
              "       [ 0.73601934, -0.31057784, -1.77210526, -1.17173478,  0.08604462,\n",
              "         3.00583727],\n",
              "       [ 0.73601934,  2.11858452, -1.77210526, -1.17173478,  0.83381334,\n",
              "        -1.11484105],\n",
              "       [ 0.73601934, -1.12029862, -0.35208677, -0.18401378,  0.08604462,\n",
              "         0.94549811],\n",
              "       [ 2.16120269, -0.31057784,  0.35792247, -1.17173478, -0.6617241 ,\n",
              "        -1.11484105],\n",
              "       [-0.689164  , -0.31057784,  0.35792247, -0.18401378,  0.83381334,\n",
              "        -0.08467147],\n",
              "       [ 0.45098267, -0.79641031, -0.35208677,  0.80370723,  0.08604462,\n",
              "        -0.08467147],\n",
              "       [-1.40175567,  2.11858452, -0.35208677, -0.18401378,  0.08604462,\n",
              "        -0.08467147],\n",
              "       [ 0.02342767,  1.30886373, -0.35208677,  0.80370723, -0.6617241 ,\n",
              "        -1.11484105],\n",
              "       [ 0.02342767, -0.79641031,  0.35792247, -0.57910218,  0.83381334,\n",
              "        -0.08467147],\n",
              "       [ 2.16120269, -0.31057784, -1.06209602, -0.18401378, -0.6617241 ,\n",
              "        -0.08467147],\n",
              "       [-0.689164  ,  1.30886373,  0.35792247, -0.18401378,  0.08604462,\n",
              "        -1.11484105],\n",
              "       [ 0.02342767, -0.31057784, -0.35208677,  0.80370723,  0.08604462,\n",
              "        -0.08467147],\n",
              "       [-0.689164  , -0.31057784,  0.35792247, -1.17173478,  1.58158207,\n",
              "        -0.08467147],\n",
              "       [ 0.73601934, -1.44418693,  0.35792247,  0.21107463,  0.08604462,\n",
              "        -0.08467147],\n",
              "       [-0.689164  ,  0.49914295, -1.06209602,  0.80370723,  0.08604462,\n",
              "         0.94549811],\n",
              "       [-1.40175567,  1.30886373, -0.35208677, -0.18401378,  1.58158207,\n",
              "        -1.11484105],\n",
              "       [ 0.02342767, -0.31057784, -0.35208677, -0.18401378,  0.08604462,\n",
              "         0.94549811],\n",
              "       [ 0.02342767, -1.9300194 ,  1.06793171, -1.17173478,  1.58158207,\n",
              "        -0.08467147],\n",
              "       [-1.40175567,  1.30886373, -0.49408862,  1.79142824,  0.83381334,\n",
              "        -1.93897672],\n",
              "       [ 0.73601934, -1.9300194 ,  1.06793171, -1.17173478,  0.08604462,\n",
              "         0.94549811],\n",
              "       [ 0.73601934,  0.49914295, -1.06209602, -0.18401378, -0.6617241 ,\n",
              "         0.94549811],\n",
              "       [-0.689164  , -1.12029862,  1.06793171, -0.18401378,  0.08604462,\n",
              "         0.94549811],\n",
              "       [ 0.30846434, -0.31057784, -0.63609047,  0.21107463, -0.21306287,\n",
              "         0.94549811],\n",
              "       [ 0.02342767, -0.31057784, -0.35208677,  0.80370723, -0.6617241 ,\n",
              "         0.94549811],\n",
              "       [-1.40175567,  2.11858452,  1.06793171, -1.17173478, -1.40949283,\n",
              "         0.94549811],\n",
              "       [ 0.59350101, -0.31057784, -1.06209602,  0.21107463,  0.38515211,\n",
              "         0.32739636],\n",
              "       [-0.689164  , -0.31057784, -1.06209602, -0.18401378,  1.58158207,\n",
              "         0.94549811],\n",
              "       [ 2.16120269,  0.49914295, -0.35208677, -0.18401378, -1.40949283,\n",
              "        -1.11484105],\n",
              "       [-0.689164  , -0.31057784,  0.35792247,  0.80370723, -0.6617241 ,\n",
              "         0.94549811],\n",
              "       [-0.689164  , -0.31057784, -0.35208677,  0.80370723,  0.08604462,\n",
              "         0.94549811],\n",
              "       [ 0.30846434,  0.17525464, -0.77809232,  1.00125143, -0.36261661,\n",
              "        -0.08467147],\n",
              "       [ 0.02342767, -1.12029862,  0.35792247,  0.60616303,  0.08604462,\n",
              "         0.12136244],\n",
              "       [ 2.16120269,  0.49914295, -0.35208677, -1.17173478, -0.96083159,\n",
              "        -0.70277322],\n",
              "       [-0.689164  , -0.31057784, -0.35208677,  0.80370723,  0.08604462,\n",
              "         0.94549811],\n",
              "       [ 0.02342767, -0.31057784, -1.06209602,  0.80370723,  0.08604462,\n",
              "         0.94549811],\n",
              "       [ 0.73601934,  0.49914295, -1.06209602, -0.18401378, -0.6617241 ,\n",
              "         0.94549811],\n",
              "       [ 0.02342767, -0.31057784,  1.06793171,  0.80370723, -2.15726155,\n",
              "         0.94549811],\n",
              "       [ 0.73601934,  1.30886373,  1.06793171,  1.79142824, -2.75547653,\n",
              "        -2.35104455],\n",
              "       [ 0.02342767, -0.31057784, -0.35208677,  0.80370723,  0.08604462,\n",
              "        -0.08467147],\n",
              "       [ 1.02105601,  0.82303126, -0.63609047,  0.80370723, -0.6617241 ,\n",
              "        -1.52690888],\n",
              "       [ 1.16357435,  0.66108711, -1.77210526,  1.79142824, -0.51217036,\n",
              "        -1.11484105],\n",
              "       [ 0.45098267, -0.31057784, -0.35208677,  0.80370723,  0.08604462,\n",
              "        -0.70277322],\n",
              "       [-0.689164  , -1.12029862,  0.35792247,  0.80370723,  0.08604462,\n",
              "         0.94549811],\n",
              "       [ 1.44861102,  1.30886373, -1.06209602, -0.18401378, -1.40949283,\n",
              "        -0.08467147],\n",
              "       [ 0.45098267,  0.17525464, -0.49408862,  0.80370723, -0.36261661,\n",
              "        -0.4967393 ],\n",
              "       [ 0.73601934,  1.30886373, -1.06209602, -0.18401378, -0.6617241 ,\n",
              "        -0.08467147],\n",
              "       [ 0.02342767, -0.31057784, -0.35208677, -0.18401378,  0.83381334,\n",
              "        -0.08467147],\n",
              "       [-0.689164  ,  2.11858452, -0.35208677, -1.17173478,  0.08604462,\n",
              "        -0.08467147],\n",
              "       [-1.68679234,  0.49914295,  0.35792247, -1.76436739,  3.07711951,\n",
              "        -1.11484105]])"
            ]
          },
          "metadata": {
            "tags": []
          },
          "execution_count": 145
        }
      ]
    },
    {
      "cell_type": "code",
      "metadata": {
        "id": "64czb9EB80tV"
      },
      "source": [
        "new_scaled = pd.DataFrame(new_scaled, columns = new_data2.columns)"
      ],
      "execution_count": null,
      "outputs": []
    },
    {
      "cell_type": "code",
      "metadata": {
        "colab": {
          "base_uri": "https://localhost:8080/",
          "height": 206
        },
        "id": "GSVQSBut80qy",
        "outputId": "25b640f4-72b6-4255-e5f3-525ec64e0c27"
      },
      "source": [
        "new_scaled.head()"
      ],
      "execution_count": null,
      "outputs": [
        {
          "output_type": "execute_result",
          "data": {
            "text/html": [
              "<div>\n",
              "<style scoped>\n",
              "    .dataframe tbody tr th:only-of-type {\n",
              "        vertical-align: middle;\n",
              "    }\n",
              "\n",
              "    .dataframe tbody tr th {\n",
              "        vertical-align: top;\n",
              "    }\n",
              "\n",
              "    .dataframe thead th {\n",
              "        text-align: right;\n",
              "    }\n",
              "</style>\n",
              "<table border=\"1\" class=\"dataframe\">\n",
              "  <thead>\n",
              "    <tr style=\"text-align: right;\">\n",
              "      <th></th>\n",
              "      <th>Trendy</th>\n",
              "      <th>Styling</th>\n",
              "      <th>Reliability</th>\n",
              "      <th>Sportiness</th>\n",
              "      <th>Performance</th>\n",
              "      <th>Comfort</th>\n",
              "    </tr>\n",
              "  </thead>\n",
              "  <tbody>\n",
              "    <tr>\n",
              "      <th>0</th>\n",
              "      <td>-0.69</td>\n",
              "      <td>0.50</td>\n",
              "      <td>1.78</td>\n",
              "      <td>-1.17</td>\n",
              "      <td>0.09</td>\n",
              "      <td>-1.11</td>\n",
              "    </tr>\n",
              "    <tr>\n",
              "      <th>1</th>\n",
              "      <td>1.45</td>\n",
              "      <td>-1.93</td>\n",
              "      <td>0.36</td>\n",
              "      <td>-1.17</td>\n",
              "      <td>0.83</td>\n",
              "      <td>-0.08</td>\n",
              "    </tr>\n",
              "    <tr>\n",
              "      <th>2</th>\n",
              "      <td>-0.69</td>\n",
              "      <td>0.50</td>\n",
              "      <td>1.07</td>\n",
              "      <td>-0.18</td>\n",
              "      <td>-1.41</td>\n",
              "      <td>0.95</td>\n",
              "    </tr>\n",
              "    <tr>\n",
              "      <th>3</th>\n",
              "      <td>-0.69</td>\n",
              "      <td>-0.31</td>\n",
              "      <td>1.07</td>\n",
              "      <td>-0.18</td>\n",
              "      <td>0.09</td>\n",
              "      <td>-0.08</td>\n",
              "    </tr>\n",
              "    <tr>\n",
              "      <th>4</th>\n",
              "      <td>0.74</td>\n",
              "      <td>-1.12</td>\n",
              "      <td>2.49</td>\n",
              "      <td>-1.96</td>\n",
              "      <td>-0.81</td>\n",
              "      <td>-0.08</td>\n",
              "    </tr>\n",
              "  </tbody>\n",
              "</table>\n",
              "</div>"
            ],
            "text/plain": [
              "   Trendy  Styling  Reliability  Sportiness  Performance  Comfort\n",
              "0   -0.69     0.50         1.78       -1.17         0.09    -1.11\n",
              "1    1.45    -1.93         0.36       -1.17         0.83    -0.08\n",
              "2   -0.69     0.50         1.07       -0.18        -1.41     0.95\n",
              "3   -0.69    -0.31         1.07       -0.18         0.09    -0.08\n",
              "4    0.74    -1.12         2.49       -1.96        -0.81    -0.08"
            ]
          },
          "metadata": {
            "tags": []
          },
          "execution_count": 148
        }
      ]
    },
    {
      "cell_type": "code",
      "metadata": {
        "colab": {
          "base_uri": "https://localhost:8080/"
        },
        "id": "6yZ-t6tW80oe",
        "outputId": "b36e33b7-85fd-4289-9349-4972d98ec92a"
      },
      "source": [
        "data_dist = pdist(new_scaled) #distancia euclediana\n",
        "data_dist"
      ],
      "execution_count": null,
      "outputs": [
        {
          "output_type": "execute_result",
          "data": {
            "text/plain": [
              "array([3.75603137, 2.82158388, 1.78790465, ..., 2.81839803, 3.56030937,\n",
              "       3.80538542])"
            ]
          },
          "metadata": {
            "tags": []
          },
          "execution_count": 149
        }
      ]
    },
    {
      "cell_type": "code",
      "metadata": {
        "id": "gpEEEGP080ln"
      },
      "source": [
        "link = linkage(new_scaled, 'ward')"
      ],
      "execution_count": null,
      "outputs": []
    },
    {
      "cell_type": "code",
      "metadata": {
        "colab": {
          "base_uri": "https://localhost:8080/",
          "height": 279
        },
        "id": "ukoHMAWH80i7",
        "outputId": "496d04c5-b44e-491c-b03d-199131db4476"
      },
      "source": [
        "#construimos el dendograma\n",
        "dendrogram = dendrogram(link)\n",
        "plt.title('Cluster Jerarquico')\n",
        "plt.ylabel('Distancia')\n",
        "plt.show()"
      ],
      "execution_count": null,
      "outputs": [
        {
          "output_type": "display_data",
          "data": {
            "image/png": "[encoded data removed]",
            "text/plain": [
              "<Figure size 432x288 with 1 Axes>"
            ]
          },
          "metadata": {
            "tags": [],
            "needs_background": "light"
          }
        }
      ]
    },
    {
      "cell_type": "code",
      "metadata": {
        "colab": {
          "base_uri": "https://localhost:8080/"
        },
        "id": "tozSEwJC80gN",
        "outputId": "32f0f7ab-af7e-45b2-b26c-5c8813c87679"
      },
      "source": [
        "labels = fcluster(link, 8, criterion='distance') # cambie el valor de 10 a 8 para tener 4 clusters no 3. \n",
        "print(labels)"
      ],
      "execution_count": null,
      "outputs": [
        {
          "output_type": "stream",
          "text": [
            "[4 4 2 4 4 1 2 4 4 3 4 3 2 1 4 2 1 4 2 1 4 2 4 4 2 1 2 1 4 2 3 1 4 1 3 2 4\n",
            " 2 2 3 2 4 3 4 1 2 2 2 3 2 2 1 2 2 2 2 1 2 2 1 2 1 2 1 1 2 2 1 2 1 4 3 3]\n"
          ],
          "name": "stdout"
        }
      ]
    },
    {
      "cell_type": "code",
      "metadata": {
        "id": "8D0TjQZ380d_"
      },
      "source": [
        "#agregar el cluster a nuestra tabla\n",
        "new_scaled['Cluster'] = labels"
      ],
      "execution_count": null,
      "outputs": []
    },
    {
      "cell_type": "code",
      "metadata": {
        "colab": {
          "base_uri": "https://localhost:8080/",
          "height": 677
        },
        "id": "DABN9PKR80aG",
        "outputId": "82eb2ebc-99a4-4f13-d56c-48fd78ce66c4"
      },
      "source": [
        "new_scaled.head(20)"
      ],
      "execution_count": null,
      "outputs": [
        {
          "output_type": "execute_result",
          "data": {
            "text/html": [
              "<div>\n",
              "<style scoped>\n",
              "    .dataframe tbody tr th:only-of-type {\n",
              "        vertical-align: middle;\n",
              "    }\n",
              "\n",
              "    .dataframe tbody tr th {\n",
              "        vertical-align: top;\n",
              "    }\n",
              "\n",
              "    .dataframe thead th {\n",
              "        text-align: right;\n",
              "    }\n",
              "</style>\n",
              "<table border=\"1\" class=\"dataframe\">\n",
              "  <thead>\n",
              "    <tr style=\"text-align: right;\">\n",
              "      <th></th>\n",
              "      <th>Trendy</th>\n",
              "      <th>Styling</th>\n",
              "      <th>Reliability</th>\n",
              "      <th>Sportiness</th>\n",
              "      <th>Performance</th>\n",
              "      <th>Comfort</th>\n",
              "      <th>Cluster</th>\n",
              "    </tr>\n",
              "  </thead>\n",
              "  <tbody>\n",
              "    <tr>\n",
              "      <th>0</th>\n",
              "      <td>-0.69</td>\n",
              "      <td>0.50</td>\n",
              "      <td>1.78</td>\n",
              "      <td>-1.17</td>\n",
              "      <td>0.09</td>\n",
              "      <td>-1.11</td>\n",
              "      <td>4</td>\n",
              "    </tr>\n",
              "    <tr>\n",
              "      <th>1</th>\n",
              "      <td>1.45</td>\n",
              "      <td>-1.93</td>\n",
              "      <td>0.36</td>\n",
              "      <td>-1.17</td>\n",
              "      <td>0.83</td>\n",
              "      <td>-0.08</td>\n",
              "      <td>4</td>\n",
              "    </tr>\n",
              "    <tr>\n",
              "      <th>2</th>\n",
              "      <td>-0.69</td>\n",
              "      <td>0.50</td>\n",
              "      <td>1.07</td>\n",
              "      <td>-0.18</td>\n",
              "      <td>-1.41</td>\n",
              "      <td>0.95</td>\n",
              "      <td>2</td>\n",
              "    </tr>\n",
              "    <tr>\n",
              "      <th>3</th>\n",
              "      <td>-0.69</td>\n",
              "      <td>-0.31</td>\n",
              "      <td>1.07</td>\n",
              "      <td>-0.18</td>\n",
              "      <td>0.09</td>\n",
              "      <td>-0.08</td>\n",
              "      <td>4</td>\n",
              "    </tr>\n",
              "    <tr>\n",
              "      <th>4</th>\n",
              "      <td>0.74</td>\n",
              "      <td>-1.12</td>\n",
              "      <td>2.49</td>\n",
              "      <td>-1.96</td>\n",
              "      <td>-0.81</td>\n",
              "      <td>-0.08</td>\n",
              "      <td>4</td>\n",
              "    </tr>\n",
              "    <tr>\n",
              "      <th>5</th>\n",
              "      <td>0.74</td>\n",
              "      <td>2.12</td>\n",
              "      <td>-1.77</td>\n",
              "      <td>1.79</td>\n",
              "      <td>-1.41</td>\n",
              "      <td>-1.11</td>\n",
              "      <td>1</td>\n",
              "    </tr>\n",
              "    <tr>\n",
              "      <th>6</th>\n",
              "      <td>-0.69</td>\n",
              "      <td>-0.63</td>\n",
              "      <td>-0.35</td>\n",
              "      <td>1.20</td>\n",
              "      <td>0.83</td>\n",
              "      <td>-0.08</td>\n",
              "      <td>2</td>\n",
              "    </tr>\n",
              "    <tr>\n",
              "      <th>7</th>\n",
              "      <td>0.02</td>\n",
              "      <td>-1.12</td>\n",
              "      <td>1.78</td>\n",
              "      <td>-0.18</td>\n",
              "      <td>0.83</td>\n",
              "      <td>-2.15</td>\n",
              "      <td>4</td>\n",
              "    </tr>\n",
              "    <tr>\n",
              "      <th>8</th>\n",
              "      <td>-1.97</td>\n",
              "      <td>-0.63</td>\n",
              "      <td>0.36</td>\n",
              "      <td>-1.96</td>\n",
              "      <td>2.33</td>\n",
              "      <td>1.98</td>\n",
              "      <td>4</td>\n",
              "    </tr>\n",
              "    <tr>\n",
              "      <th>9</th>\n",
              "      <td>0.02</td>\n",
              "      <td>0.50</td>\n",
              "      <td>-0.35</td>\n",
              "      <td>-0.18</td>\n",
              "      <td>0.83</td>\n",
              "      <td>-1.11</td>\n",
              "      <td>3</td>\n",
              "    </tr>\n",
              "    <tr>\n",
              "      <th>10</th>\n",
              "      <td>-1.40</td>\n",
              "      <td>0.50</td>\n",
              "      <td>0.36</td>\n",
              "      <td>-1.17</td>\n",
              "      <td>0.83</td>\n",
              "      <td>0.95</td>\n",
              "      <td>4</td>\n",
              "    </tr>\n",
              "    <tr>\n",
              "      <th>11</th>\n",
              "      <td>-1.40</td>\n",
              "      <td>-1.12</td>\n",
              "      <td>-0.35</td>\n",
              "      <td>2.78</td>\n",
              "      <td>1.58</td>\n",
              "      <td>-1.11</td>\n",
              "      <td>3</td>\n",
              "    </tr>\n",
              "    <tr>\n",
              "      <th>12</th>\n",
              "      <td>0.74</td>\n",
              "      <td>-1.12</td>\n",
              "      <td>-0.35</td>\n",
              "      <td>0.80</td>\n",
              "      <td>0.09</td>\n",
              "      <td>-0.08</td>\n",
              "      <td>2</td>\n",
              "    </tr>\n",
              "    <tr>\n",
              "      <th>13</th>\n",
              "      <td>1.45</td>\n",
              "      <td>0.50</td>\n",
              "      <td>0.36</td>\n",
              "      <td>-0.18</td>\n",
              "      <td>-1.41</td>\n",
              "      <td>-1.11</td>\n",
              "      <td>1</td>\n",
              "    </tr>\n",
              "    <tr>\n",
              "      <th>14</th>\n",
              "      <td>-1.97</td>\n",
              "      <td>-1.44</td>\n",
              "      <td>2.49</td>\n",
              "      <td>-1.96</td>\n",
              "      <td>1.58</td>\n",
              "      <td>0.95</td>\n",
              "      <td>4</td>\n",
              "    </tr>\n",
              "    <tr>\n",
              "      <th>15</th>\n",
              "      <td>-0.69</td>\n",
              "      <td>0.50</td>\n",
              "      <td>-0.35</td>\n",
              "      <td>0.41</td>\n",
              "      <td>0.09</td>\n",
              "      <td>0.33</td>\n",
              "      <td>2</td>\n",
              "    </tr>\n",
              "    <tr>\n",
              "      <th>16</th>\n",
              "      <td>0.74</td>\n",
              "      <td>1.31</td>\n",
              "      <td>-1.06</td>\n",
              "      <td>0.80</td>\n",
              "      <td>-0.66</td>\n",
              "      <td>-1.11</td>\n",
              "      <td>1</td>\n",
              "    </tr>\n",
              "    <tr>\n",
              "      <th>17</th>\n",
              "      <td>0.02</td>\n",
              "      <td>-0.31</td>\n",
              "      <td>0.36</td>\n",
              "      <td>-0.18</td>\n",
              "      <td>0.09</td>\n",
              "      <td>-0.08</td>\n",
              "      <td>4</td>\n",
              "    </tr>\n",
              "    <tr>\n",
              "      <th>18</th>\n",
              "      <td>0.02</td>\n",
              "      <td>-0.31</td>\n",
              "      <td>0.36</td>\n",
              "      <td>1.79</td>\n",
              "      <td>-1.41</td>\n",
              "      <td>-0.08</td>\n",
              "      <td>2</td>\n",
              "    </tr>\n",
              "    <tr>\n",
              "      <th>19</th>\n",
              "      <td>0.74</td>\n",
              "      <td>0.50</td>\n",
              "      <td>0.36</td>\n",
              "      <td>-0.18</td>\n",
              "      <td>-1.41</td>\n",
              "      <td>-0.08</td>\n",
              "      <td>1</td>\n",
              "    </tr>\n",
              "  </tbody>\n",
              "</table>\n",
              "</div>"
            ],
            "text/plain": [
              "    Trendy  Styling  Reliability  Sportiness  Performance  Comfort  Cluster\n",
              "0    -0.69     0.50         1.78       -1.17         0.09    -1.11        4\n",
              "1     1.45    -1.93         0.36       -1.17         0.83    -0.08        4\n",
              "2    -0.69     0.50         1.07       -0.18        -1.41     0.95        2\n",
              "3    -0.69    -0.31         1.07       -0.18         0.09    -0.08        4\n",
              "4     0.74    -1.12         2.49       -1.96        -0.81    -0.08        4\n",
              "5     0.74     2.12        -1.77        1.79        -1.41    -1.11        1\n",
              "6    -0.69    -0.63        -0.35        1.20         0.83    -0.08        2\n",
              "7     0.02    -1.12         1.78       -0.18         0.83    -2.15        4\n",
              "8    -1.97    -0.63         0.36       -1.96         2.33     1.98        4\n",
              "9     0.02     0.50        -0.35       -0.18         0.83    -1.11        3\n",
              "10   -1.40     0.50         0.36       -1.17         0.83     0.95        4\n",
              "11   -1.40    -1.12        -0.35        2.78         1.58    -1.11        3\n",
              "12    0.74    -1.12        -0.35        0.80         0.09    -0.08        2\n",
              "13    1.45     0.50         0.36       -0.18        -1.41    -1.11        1\n",
              "14   -1.97    -1.44         2.49       -1.96         1.58     0.95        4\n",
              "15   -0.69     0.50        -0.35        0.41         0.09     0.33        2\n",
              "16    0.74     1.31        -1.06        0.80        -0.66    -1.11        1\n",
              "17    0.02    -0.31         0.36       -0.18         0.09    -0.08        4\n",
              "18    0.02    -0.31         0.36        1.79        -1.41    -0.08        2\n",
              "19    0.74     0.50         0.36       -0.18        -1.41    -0.08        1"
            ]
          },
          "metadata": {
            "tags": []
          },
          "execution_count": 157
        }
      ]
    },
    {
      "cell_type": "code",
      "metadata": {
        "colab": {
          "base_uri": "https://localhost:8080/"
        },
        "id": "qy_KYr7F80Xx",
        "outputId": "39316c8a-24aa-4dc0-94ab-530fd8903ab7"
      },
      "source": [
        "# poner nobre a los 4 clusters\n",
        "\n",
        "group_cluster = new_scaled.groupby(['Cluster']).mean()\n",
        "print(group_cluster)"
      ],
      "execution_count": null,
      "outputs": [
        {
          "output_type": "stream",
          "text": [
            "         Trendy  Styling  Reliability  Sportiness  Performance  Comfort\n",
            "Cluster                                                                \n",
            "1          1.16     0.86        -0.66        0.16        -0.93    -0.70\n",
            "2         -0.02    -0.43        -0.28        0.50        -0.10     0.59\n",
            "3         -1.12     1.13        -0.05       -0.03         0.75    -0.75\n",
            "4         -0.51    -0.69         1.11       -0.95         0.66     0.09\n"
          ],
          "name": "stdout"
        }
      ]
    },
    {
      "cell_type": "code",
      "metadata": {
        "id": "4NjDtSnT80VL"
      },
      "source": [
        "cluster ={1: 'Estilo', 2: 'Deportivo', 3: 'Clásico antiguo', 4: 'Buen rendimiento'}"
      ],
      "execution_count": null,
      "outputs": []
    },
    {
      "cell_type": "code",
      "metadata": {
        "id": "3xuxMbV180Sz"
      },
      "source": [
        "new_data2 = new_scaled.replace({\"Cluster\" : cluster})"
      ],
      "execution_count": null,
      "outputs": []
    },
    {
      "cell_type": "code",
      "metadata": {
        "colab": {
          "base_uri": "https://localhost:8080/",
          "height": 206
        },
        "id": "IrH5X7Nj80P_",
        "outputId": "2b0bfefe-a26e-4eec-bf54-f5b6b35e37cb"
      },
      "source": [
        "new_data2.head()"
      ],
      "execution_count": null,
      "outputs": [
        {
          "output_type": "execute_result",
          "data": {
            "text/html": [
              "<div>\n",
              "<style scoped>\n",
              "    .dataframe tbody tr th:only-of-type {\n",
              "        vertical-align: middle;\n",
              "    }\n",
              "\n",
              "    .dataframe tbody tr th {\n",
              "        vertical-align: top;\n",
              "    }\n",
              "\n",
              "    .dataframe thead th {\n",
              "        text-align: right;\n",
              "    }\n",
              "</style>\n",
              "<table border=\"1\" class=\"dataframe\">\n",
              "  <thead>\n",
              "    <tr style=\"text-align: right;\">\n",
              "      <th></th>\n",
              "      <th>Trendy</th>\n",
              "      <th>Styling</th>\n",
              "      <th>Reliability</th>\n",
              "      <th>Sportiness</th>\n",
              "      <th>Performance</th>\n",
              "      <th>Comfort</th>\n",
              "      <th>Cluster</th>\n",
              "    </tr>\n",
              "  </thead>\n",
              "  <tbody>\n",
              "    <tr>\n",
              "      <th>0</th>\n",
              "      <td>-0.69</td>\n",
              "      <td>0.50</td>\n",
              "      <td>1.78</td>\n",
              "      <td>-1.17</td>\n",
              "      <td>0.09</td>\n",
              "      <td>-1.11</td>\n",
              "      <td>Buen rendimiento</td>\n",
              "    </tr>\n",
              "    <tr>\n",
              "      <th>1</th>\n",
              "      <td>1.45</td>\n",
              "      <td>-1.93</td>\n",
              "      <td>0.36</td>\n",
              "      <td>-1.17</td>\n",
              "      <td>0.83</td>\n",
              "      <td>-0.08</td>\n",
              "      <td>Buen rendimiento</td>\n",
              "    </tr>\n",
              "    <tr>\n",
              "      <th>2</th>\n",
              "      <td>-0.69</td>\n",
              "      <td>0.50</td>\n",
              "      <td>1.07</td>\n",
              "      <td>-0.18</td>\n",
              "      <td>-1.41</td>\n",
              "      <td>0.95</td>\n",
              "      <td>Deportivo</td>\n",
              "    </tr>\n",
              "    <tr>\n",
              "      <th>3</th>\n",
              "      <td>-0.69</td>\n",
              "      <td>-0.31</td>\n",
              "      <td>1.07</td>\n",
              "      <td>-0.18</td>\n",
              "      <td>0.09</td>\n",
              "      <td>-0.08</td>\n",
              "      <td>Buen rendimiento</td>\n",
              "    </tr>\n",
              "    <tr>\n",
              "      <th>4</th>\n",
              "      <td>0.74</td>\n",
              "      <td>-1.12</td>\n",
              "      <td>2.49</td>\n",
              "      <td>-1.96</td>\n",
              "      <td>-0.81</td>\n",
              "      <td>-0.08</td>\n",
              "      <td>Buen rendimiento</td>\n",
              "    </tr>\n",
              "  </tbody>\n",
              "</table>\n",
              "</div>"
            ],
            "text/plain": [
              "   Trendy  Styling  Reliability  ...  Performance  Comfort           Cluster\n",
              "0   -0.69     0.50         1.78  ...         0.09    -1.11  Buen rendimiento\n",
              "1    1.45    -1.93         0.36  ...         0.83    -0.08  Buen rendimiento\n",
              "2   -0.69     0.50         1.07  ...        -1.41     0.95         Deportivo\n",
              "3   -0.69    -0.31         1.07  ...         0.09    -0.08  Buen rendimiento\n",
              "4    0.74    -1.12         2.49  ...        -0.81    -0.08  Buen rendimiento\n",
              "\n",
              "[5 rows x 7 columns]"
            ]
          },
          "metadata": {
            "tags": []
          },
          "execution_count": 162
        }
      ]
    },
    {
      "cell_type": "code",
      "metadata": {
        "id": "jYAabrwz80NW"
      },
      "source": [
        "# Realizar crosstab (con MBA y Choice)"
      ],
      "execution_count": null,
      "outputs": []
    },
    {
      "cell_type": "code",
      "metadata": {
        "colab": {
          "base_uri": "https://localhost:8080/",
          "height": 143
        },
        "id": "bq8GrQJkCSMd",
        "outputId": "9071c7ce-877f-4126-c2cd-942e5069b0c2"
      },
      "source": [
        "# MBA \n",
        "\n",
        "pd.crosstab(data2.MBA, new_data2.Cluster, margins=True, normalize='columns')"
      ],
      "execution_count": null,
      "outputs": [
        {
          "output_type": "execute_result",
          "data": {
            "text/html": [
              "<div>\n",
              "<style scoped>\n",
              "    .dataframe tbody tr th:only-of-type {\n",
              "        vertical-align: middle;\n",
              "    }\n",
              "\n",
              "    .dataframe tbody tr th {\n",
              "        vertical-align: top;\n",
              "    }\n",
              "\n",
              "    .dataframe thead th {\n",
              "        text-align: right;\n",
              "    }\n",
              "</style>\n",
              "<table border=\"1\" class=\"dataframe\">\n",
              "  <thead>\n",
              "    <tr style=\"text-align: right;\">\n",
              "      <th>Cluster</th>\n",
              "      <th>Buen rendimiento</th>\n",
              "      <th>Clásico antiguo</th>\n",
              "      <th>Deportivo</th>\n",
              "      <th>Estilo</th>\n",
              "      <th>All</th>\n",
              "    </tr>\n",
              "    <tr>\n",
              "      <th>MBA</th>\n",
              "      <th></th>\n",
              "      <th></th>\n",
              "      <th></th>\n",
              "      <th></th>\n",
              "      <th></th>\n",
              "    </tr>\n",
              "  </thead>\n",
              "  <tbody>\n",
              "    <tr>\n",
              "      <th>MBA</th>\n",
              "      <td>0.67</td>\n",
              "      <td>0.22</td>\n",
              "      <td>0.21</td>\n",
              "      <td>0.24</td>\n",
              "      <td>0.33</td>\n",
              "    </tr>\n",
              "    <tr>\n",
              "      <th>Undergrad</th>\n",
              "      <td>0.33</td>\n",
              "      <td>0.78</td>\n",
              "      <td>0.79</td>\n",
              "      <td>0.76</td>\n",
              "      <td>0.67</td>\n",
              "    </tr>\n",
              "  </tbody>\n",
              "</table>\n",
              "</div>"
            ],
            "text/plain": [
              "Cluster    Buen rendimiento  Clásico antiguo  Deportivo  Estilo  All\n",
              "MBA                                                                 \n",
              "MBA                    0.67             0.22       0.21    0.24 0.33\n",
              "Undergrad              0.33             0.78       0.79    0.76 0.67"
            ]
          },
          "metadata": {
            "tags": []
          },
          "execution_count": 168
        }
      ]
    },
    {
      "cell_type": "code",
      "metadata": {
        "colab": {
          "base_uri": "https://localhost:8080/",
          "height": 175
        },
        "id": "8IpcflPqDwaL",
        "outputId": "3f9f9eb2-8875-465d-8884-9301a68e50d8"
      },
      "source": [
        "pd.crosstab(data2.MBA, new_data2.Cluster, margins=True, normalize='index')"
      ],
      "execution_count": null,
      "outputs": [
        {
          "output_type": "execute_result",
          "data": {
            "text/html": [
              "<div>\n",
              "<style scoped>\n",
              "    .dataframe tbody tr th:only-of-type {\n",
              "        vertical-align: middle;\n",
              "    }\n",
              "\n",
              "    .dataframe tbody tr th {\n",
              "        vertical-align: top;\n",
              "    }\n",
              "\n",
              "    .dataframe thead th {\n",
              "        text-align: right;\n",
              "    }\n",
              "</style>\n",
              "<table border=\"1\" class=\"dataframe\">\n",
              "  <thead>\n",
              "    <tr style=\"text-align: right;\">\n",
              "      <th>Cluster</th>\n",
              "      <th>Buen rendimiento</th>\n",
              "      <th>Clásico antiguo</th>\n",
              "      <th>Deportivo</th>\n",
              "      <th>Estilo</th>\n",
              "    </tr>\n",
              "    <tr>\n",
              "      <th>MBA</th>\n",
              "      <th></th>\n",
              "      <th></th>\n",
              "      <th></th>\n",
              "      <th></th>\n",
              "    </tr>\n",
              "  </thead>\n",
              "  <tbody>\n",
              "    <tr>\n",
              "      <th>MBA</th>\n",
              "      <td>0.50</td>\n",
              "      <td>0.08</td>\n",
              "      <td>0.25</td>\n",
              "      <td>0.17</td>\n",
              "    </tr>\n",
              "    <tr>\n",
              "      <th>Undergrad</th>\n",
              "      <td>0.12</td>\n",
              "      <td>0.14</td>\n",
              "      <td>0.47</td>\n",
              "      <td>0.27</td>\n",
              "    </tr>\n",
              "    <tr>\n",
              "      <th>All</th>\n",
              "      <td>0.25</td>\n",
              "      <td>0.12</td>\n",
              "      <td>0.40</td>\n",
              "      <td>0.23</td>\n",
              "    </tr>\n",
              "  </tbody>\n",
              "</table>\n",
              "</div>"
            ],
            "text/plain": [
              "Cluster    Buen rendimiento  Clásico antiguo  Deportivo  Estilo\n",
              "MBA                                                            \n",
              "MBA                    0.50             0.08       0.25    0.17\n",
              "Undergrad              0.12             0.14       0.47    0.27\n",
              "All                    0.25             0.12       0.40    0.23"
            ]
          },
          "metadata": {
            "tags": []
          },
          "execution_count": 170
        }
      ]
    },
    {
      "cell_type": "code",
      "metadata": {
        "colab": {
          "base_uri": "https://localhost:8080/",
          "height": 175
        },
        "id": "2LkVm_7lDwOh",
        "outputId": "816cb22e-9807-43ed-905a-75b1679f1b39"
      },
      "source": [
        "pd.crosstab(data2.MBA, new_data2.Cluster, margins=True, normalize='all') # mas informativo para mi!"
      ],
      "execution_count": null,
      "outputs": [
        {
          "output_type": "execute_result",
          "data": {
            "text/html": [
              "<div>\n",
              "<style scoped>\n",
              "    .dataframe tbody tr th:only-of-type {\n",
              "        vertical-align: middle;\n",
              "    }\n",
              "\n",
              "    .dataframe tbody tr th {\n",
              "        vertical-align: top;\n",
              "    }\n",
              "\n",
              "    .dataframe thead th {\n",
              "        text-align: right;\n",
              "    }\n",
              "</style>\n",
              "<table border=\"1\" class=\"dataframe\">\n",
              "  <thead>\n",
              "    <tr style=\"text-align: right;\">\n",
              "      <th>Cluster</th>\n",
              "      <th>Buen rendimiento</th>\n",
              "      <th>Clásico antiguo</th>\n",
              "      <th>Deportivo</th>\n",
              "      <th>Estilo</th>\n",
              "      <th>All</th>\n",
              "    </tr>\n",
              "    <tr>\n",
              "      <th>MBA</th>\n",
              "      <th></th>\n",
              "      <th></th>\n",
              "      <th></th>\n",
              "      <th></th>\n",
              "      <th></th>\n",
              "    </tr>\n",
              "  </thead>\n",
              "  <tbody>\n",
              "    <tr>\n",
              "      <th>MBA</th>\n",
              "      <td>0.16</td>\n",
              "      <td>0.03</td>\n",
              "      <td>0.08</td>\n",
              "      <td>0.05</td>\n",
              "      <td>0.33</td>\n",
              "    </tr>\n",
              "    <tr>\n",
              "      <th>Undergrad</th>\n",
              "      <td>0.08</td>\n",
              "      <td>0.10</td>\n",
              "      <td>0.32</td>\n",
              "      <td>0.18</td>\n",
              "      <td>0.67</td>\n",
              "    </tr>\n",
              "    <tr>\n",
              "      <th>All</th>\n",
              "      <td>0.25</td>\n",
              "      <td>0.12</td>\n",
              "      <td>0.40</td>\n",
              "      <td>0.23</td>\n",
              "      <td>1.00</td>\n",
              "    </tr>\n",
              "  </tbody>\n",
              "</table>\n",
              "</div>"
            ],
            "text/plain": [
              "Cluster    Buen rendimiento  Clásico antiguo  Deportivo  Estilo  All\n",
              "MBA                                                                 \n",
              "MBA                    0.16             0.03       0.08    0.05 0.33\n",
              "Undergrad              0.08             0.10       0.32    0.18 0.67\n",
              "All                    0.25             0.12       0.40    0.23 1.00"
            ]
          },
          "metadata": {
            "tags": []
          },
          "execution_count": 171
        }
      ]
    },
    {
      "cell_type": "code",
      "metadata": {
        "colab": {
          "base_uri": "https://localhost:8080/",
          "height": 206
        },
        "id": "94SSOR4xCSIS",
        "outputId": "32d609ae-a1d8-40a3-f86e-9c079823bd6b"
      },
      "source": [
        "# Choice \n",
        "\n",
        "pd.crosstab(data2.Choice, new_data2.Cluster, margins=True, normalize='all')"
      ],
      "execution_count": null,
      "outputs": [
        {
          "output_type": "execute_result",
          "data": {
            "text/html": [
              "<div>\n",
              "<style scoped>\n",
              "    .dataframe tbody tr th:only-of-type {\n",
              "        vertical-align: middle;\n",
              "    }\n",
              "\n",
              "    .dataframe tbody tr th {\n",
              "        vertical-align: top;\n",
              "    }\n",
              "\n",
              "    .dataframe thead th {\n",
              "        text-align: right;\n",
              "    }\n",
              "</style>\n",
              "<table border=\"1\" class=\"dataframe\">\n",
              "  <thead>\n",
              "    <tr style=\"text-align: right;\">\n",
              "      <th>Cluster</th>\n",
              "      <th>Buen rendimiento</th>\n",
              "      <th>Clásico antiguo</th>\n",
              "      <th>Deportivo</th>\n",
              "      <th>Estilo</th>\n",
              "      <th>All</th>\n",
              "    </tr>\n",
              "    <tr>\n",
              "      <th>Choice</th>\n",
              "      <th></th>\n",
              "      <th></th>\n",
              "      <th></th>\n",
              "      <th></th>\n",
              "      <th></th>\n",
              "    </tr>\n",
              "  </thead>\n",
              "  <tbody>\n",
              "    <tr>\n",
              "      <th>BMW</th>\n",
              "      <td>0.11</td>\n",
              "      <td>0.08</td>\n",
              "      <td>0.14</td>\n",
              "      <td>0.11</td>\n",
              "      <td>0.44</td>\n",
              "    </tr>\n",
              "    <tr>\n",
              "      <th>Lexus</th>\n",
              "      <td>0.12</td>\n",
              "      <td>0.00</td>\n",
              "      <td>0.11</td>\n",
              "      <td>0.07</td>\n",
              "      <td>0.30</td>\n",
              "    </tr>\n",
              "    <tr>\n",
              "      <th>Mercedes</th>\n",
              "      <td>0.01</td>\n",
              "      <td>0.04</td>\n",
              "      <td>0.15</td>\n",
              "      <td>0.05</td>\n",
              "      <td>0.26</td>\n",
              "    </tr>\n",
              "    <tr>\n",
              "      <th>All</th>\n",
              "      <td>0.25</td>\n",
              "      <td>0.12</td>\n",
              "      <td>0.40</td>\n",
              "      <td>0.23</td>\n",
              "      <td>1.00</td>\n",
              "    </tr>\n",
              "  </tbody>\n",
              "</table>\n",
              "</div>"
            ],
            "text/plain": [
              "Cluster   Buen rendimiento  Clásico antiguo  Deportivo  Estilo  All\n",
              "Choice                                                             \n",
              "BMW                   0.11             0.08       0.14    0.11 0.44\n",
              "Lexus                 0.12             0.00       0.11    0.07 0.30\n",
              "Mercedes              0.01             0.04       0.15    0.05 0.26\n",
              "All                   0.25             0.12       0.40    0.23 1.00"
            ]
          },
          "metadata": {
            "tags": []
          },
          "execution_count": 172
        }
      ]
    },
    {
      "cell_type": "code",
      "metadata": {
        "id": "XLQU2uKyCSDX"
      },
      "source": [
        "# Calcular el test de chi-cuadrado (pearson) para los crosstab\n",
        "# (MBA y Choice) con el fin de responder si existe relación entre\n",
        "# las variables. ( alfa = 0.05) (no incorporar corrección de Yates)"
      ],
      "execution_count": null,
      "outputs": []
    },
    {
      "cell_type": "code",
      "metadata": {
        "colab": {
          "base_uri": "https://localhost:8080/",
          "height": 175
        },
        "id": "Z2vWjI01ErFV",
        "outputId": "646c263a-ab76-4888-f731-b9e62d859aa6"
      },
      "source": [
        "pd.crosstab(data2.MBA, new_data2.Cluster, margins=True)"
      ],
      "execution_count": null,
      "outputs": [
        {
          "output_type": "execute_result",
          "data": {
            "text/html": [
              "<div>\n",
              "<style scoped>\n",
              "    .dataframe tbody tr th:only-of-type {\n",
              "        vertical-align: middle;\n",
              "    }\n",
              "\n",
              "    .dataframe tbody tr th {\n",
              "        vertical-align: top;\n",
              "    }\n",
              "\n",
              "    .dataframe thead th {\n",
              "        text-align: right;\n",
              "    }\n",
              "</style>\n",
              "<table border=\"1\" class=\"dataframe\">\n",
              "  <thead>\n",
              "    <tr style=\"text-align: right;\">\n",
              "      <th>Cluster</th>\n",
              "      <th>Buen rendimiento</th>\n",
              "      <th>Clásico antiguo</th>\n",
              "      <th>Deportivo</th>\n",
              "      <th>Estilo</th>\n",
              "      <th>All</th>\n",
              "    </tr>\n",
              "    <tr>\n",
              "      <th>MBA</th>\n",
              "      <th></th>\n",
              "      <th></th>\n",
              "      <th></th>\n",
              "      <th></th>\n",
              "      <th></th>\n",
              "    </tr>\n",
              "  </thead>\n",
              "  <tbody>\n",
              "    <tr>\n",
              "      <th>MBA</th>\n",
              "      <td>12</td>\n",
              "      <td>2</td>\n",
              "      <td>6</td>\n",
              "      <td>4</td>\n",
              "      <td>24</td>\n",
              "    </tr>\n",
              "    <tr>\n",
              "      <th>Undergrad</th>\n",
              "      <td>6</td>\n",
              "      <td>7</td>\n",
              "      <td>23</td>\n",
              "      <td>13</td>\n",
              "      <td>49</td>\n",
              "    </tr>\n",
              "    <tr>\n",
              "      <th>All</th>\n",
              "      <td>18</td>\n",
              "      <td>9</td>\n",
              "      <td>29</td>\n",
              "      <td>17</td>\n",
              "      <td>73</td>\n",
              "    </tr>\n",
              "  </tbody>\n",
              "</table>\n",
              "</div>"
            ],
            "text/plain": [
              "Cluster    Buen rendimiento  Clásico antiguo  Deportivo  Estilo  All\n",
              "MBA                                                                 \n",
              "MBA                      12                2          6       4   24\n",
              "Undergrad                 6                7         23      13   49\n",
              "All                      18                9         29      17   73"
            ]
          },
          "metadata": {
            "tags": []
          },
          "execution_count": 175
        }
      ]
    },
    {
      "cell_type": "code",
      "metadata": {
        "id": "r5k0vt9oCR-X"
      },
      "source": [
        "import numpy as np\n",
        "from scipy import stats"
      ],
      "execution_count": null,
      "outputs": []
    },
    {
      "cell_type": "code",
      "metadata": {
        "id": "iSNefFPfFYp_"
      },
      "source": [
        "# MBA"
      ],
      "execution_count": null,
      "outputs": []
    },
    {
      "cell_type": "code",
      "metadata": {
        "id": "TmVhnkS_CRy5"
      },
      "source": [
        "tabla = pd.crosstab(data2.MBA, new_data2.Cluster, margins=True)"
      ],
      "execution_count": null,
      "outputs": []
    },
    {
      "cell_type": "code",
      "metadata": {
        "colab": {
          "base_uri": "https://localhost:8080/"
        },
        "id": "srv4oFmdElYy",
        "outputId": "d2f81fb9-fa9b-446e-9ee1-393a0ae8123b"
      },
      "source": [
        "f_obs = np.array([tabla.iloc[0][0:4].values,\n",
        "                  tabla.iloc[1][0:4].values])\n",
        "f_obs"
      ],
      "execution_count": null,
      "outputs": [
        {
          "output_type": "execute_result",
          "data": {
            "text/plain": [
              "array([[12,  2,  6,  4],\n",
              "       [ 6,  7, 23, 13]])"
            ]
          },
          "metadata": {
            "tags": []
          },
          "execution_count": 178
        }
      ]
    },
    {
      "cell_type": "code",
      "metadata": {
        "colab": {
          "base_uri": "https://localhost:8080/"
        },
        "id": "KYmKCIZvElUy",
        "outputId": "0f967026-b86e-485b-f846-4091a303d6e3"
      },
      "source": [
        "#en este caso p-value = 0.006 (< 0.05). Implica que existe una relación entre MBA y los cluster\n",
        "stats.chi2_contingency(f_obs)[0:4]"
      ],
      "execution_count": null,
      "outputs": [
        {
          "output_type": "execute_result",
          "data": {
            "text/plain": [
              "(12.400751871629879,\n",
              " 0.006129163115297634,\n",
              " 3,\n",
              " array([[ 5.91780822,  2.95890411,  9.53424658,  5.5890411 ],\n",
              "        [12.08219178,  6.04109589, 19.46575342, 11.4109589 ]]))"
            ]
          },
          "metadata": {
            "tags": []
          },
          "execution_count": 179
        }
      ]
    },
    {
      "cell_type": "code",
      "metadata": {
        "id": "vIq_UmJdElPo"
      },
      "source": [
        "# Choice"
      ],
      "execution_count": null,
      "outputs": []
    },
    {
      "cell_type": "code",
      "metadata": {
        "id": "G76eEtd4ElLI"
      },
      "source": [
        "tabla2 = pd.crosstab(data2.Choice, new_data2.Cluster, margins=True)"
      ],
      "execution_count": null,
      "outputs": []
    },
    {
      "cell_type": "code",
      "metadata": {
        "colab": {
          "base_uri": "https://localhost:8080/"
        },
        "id": "5imisZ9bFjJX",
        "outputId": "1eb2ab6d-d716-48ac-cfa5-da8b2d9d31f1"
      },
      "source": [
        "f_obs2 = np.array([tabla2.iloc[0][0:4].values,\n",
        "                  tabla2.iloc[1][0:4].values])\n",
        "f_obs2"
      ],
      "execution_count": null,
      "outputs": [
        {
          "output_type": "execute_result",
          "data": {
            "text/plain": [
              "array([[ 8,  6, 10,  8],\n",
              "       [ 9,  0,  8,  5]])"
            ]
          },
          "metadata": {
            "tags": []
          },
          "execution_count": 182
        }
      ]
    },
    {
      "cell_type": "code",
      "metadata": {
        "colab": {
          "base_uri": "https://localhost:8080/"
        },
        "id": "0YMetquGFjCj",
        "outputId": "b1fa7b0f-698f-448d-a78a-54338ce2de70"
      },
      "source": [
        "# En este caso p-value = 0.15, (> 0.05). Implica que no existe una relación entre Choice y los cluster\n",
        "\n",
        "stats.chi2_contingency(f_obs2)[0:4]"
      ],
      "execution_count": null,
      "outputs": [
        {
          "output_type": "execute_result",
          "data": {
            "text/plain": [
              "(5.303373097490745,\n",
              " 0.15088366560407673,\n",
              " 3,\n",
              " array([[10.07407407,  3.55555556, 10.66666667,  7.7037037 ],\n",
              "        [ 6.92592593,  2.44444444,  7.33333333,  5.2962963 ]]))"
            ]
          },
          "metadata": {
            "tags": []
          },
          "execution_count": 183
        }
      ]
    },
    {
      "cell_type": "code",
      "metadata": {
        "id": "r4JQRj8AFi96"
      },
      "source": [
        ""
      ],
      "execution_count": null,
      "outputs": []
    },
    {
      "cell_type": "code",
      "metadata": {
        "id": "4wIkpKjUFi3c"
      },
      "source": [
        ""
      ],
      "execution_count": null,
      "outputs": []
    },
    {
      "cell_type": "code",
      "metadata": {
        "id": "6G20rE_BFip7"
      },
      "source": [
        ""
      ],
      "execution_count": null,
      "outputs": []
    }
  ]
}